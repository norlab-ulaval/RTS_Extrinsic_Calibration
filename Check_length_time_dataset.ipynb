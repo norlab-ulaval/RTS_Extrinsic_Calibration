{
 "cells": [
  {
   "cell_type": "markdown",
   "source": [
    "# Check_length_time_dataset\n",
    "\n",
    "Notebook used to check the length of the dataset."
   ],
   "metadata": {
    "collapsed": false
   }
  },
  {
   "cell_type": "code",
   "execution_count": 18,
   "outputs": [],
   "source": [
    "from tqdm import tqdm\n",
    "import importlib\n",
    "import scripts.theodolite_utils as theodo_u\n",
    "import scripts.theodolite_function as theodo_f\n",
    "import warnings\n",
    "warnings.filterwarnings('ignore')"
   ],
   "metadata": {
    "collapsed": false
   }
  },
  {
   "cell_type": "code",
   "execution_count": 19,
   "id": "1e8294f4",
   "metadata": {
    "scrolled": true
   },
   "outputs": [
    {
     "name": "stderr",
     "output_type": "stream",
     "text": [
      "  0%|          | 0/1 [00:00<?, ?it/s]\n",
      "100%|██████████| 26/26 [00:00<00:00, 1092.22it/s]\n",
      "100%|██████████| 1/1 [00:00<00:00,  5.11it/s]"
     ]
    },
    {
     "name": "stdout",
     "output_type": "stream",
     "text": [
      "Total distance of dataset [m]:  1580.8306185116362\n",
      "Total duration of dataset [s] 2277.210707426071\n"
     ]
    },
    {
     "name": "stderr",
     "output_type": "stream",
     "text": [
      "\n"
     ]
    }
   ],
   "source": [
    "theodo_u = importlib.reload(theodo_u)\n",
    "\n",
    "list_dataset = [\n",
    "                \"./data/20220224/\"\n",
    "]\n",
    "\n",
    "distance = []\n",
    "time_experiment = []\n",
    "for path in tqdm(list_dataset):\n",
    "\n",
    "    time_trimble_1, trimble_1 = theodo_u.read_point_data_csv_file(path+\"total_stations/trimble1.csv\")\n",
    "    time_trimble_2, trimble_2 = theodo_u.read_point_data_csv_file(path+\"total_stations/trimble2.csv\")\n",
    "    time_trimble_3, trimble_3 = theodo_u.read_point_data_csv_file(path+\"total_stations/trimble3.csv\")\n",
    "\n",
    "    limit_time_interval = 4    #4 seconds max\n",
    "    list_interval, list_time = theodo_f.split_time_interval_all_data(time_trimble_1, time_trimble_2, time_trimble_3, limit_time_interval)\n",
    "    limit_search = 2\n",
    "    list_trajectories_split = theodo_f.merge_interval(list_interval, list_time, time_trimble_1, time_trimble_2, time_trimble_3, limit_search)\n",
    "\n",
    "    dist, time = theodo_u.distance_time_trajectory(list_trajectories_split,trimble_1,time_trimble_1)\n",
    "    distance.append(dist)\n",
    "    time_experiment.append(time)\n",
    "print(\"Total distance of dataset [m]: \", sum(distance))\n",
    "print(\"Total duration of dataset [s]\", sum(time_experiment))"
   ]
  }
 ],
 "metadata": {
  "kernelspec": {
   "display_name": "Python 3",
   "language": "python",
   "name": "python3"
  },
  "language_info": {
   "codemirror_mode": {
    "name": "ipython",
    "version": 3
   },
   "file_extension": ".py",
   "mimetype": "text/x-python",
   "name": "python",
   "nbconvert_exporter": "python",
   "pygments_lexer": "ipython3",
   "version": "3.6.9"
  }
 },
 "nbformat": 4,
 "nbformat_minor": 5
}
