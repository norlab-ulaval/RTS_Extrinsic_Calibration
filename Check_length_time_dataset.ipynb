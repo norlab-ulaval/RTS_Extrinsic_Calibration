{
 "cells": [
  {
   "cell_type": "code",
   "execution_count": 3,
   "id": "97cd1c21",
   "metadata": {},
   "outputs": [],
   "source": [
    "import sys\n",
    "import numpy as np\n",
    "import math\n",
    "from matplotlib import pyplot as plt\n",
    "import matplotlib\n",
    "import random\n",
    "import os\n",
    "from matplotlib import animation\n",
    "from mpl_toolkits.mplot3d.art3d import Poly3DCollection\n",
    "from scipy import spatial\n",
    "from IPython.display import HTML\n",
    "from sklearn.gaussian_process import GaussianProcessRegressor\n",
    "from sklearn.gaussian_process.kernels import (RBF, Matern, RationalQuadratic, ExpSineSquared, DotProduct, ConstantKernel)\n",
    "\n",
    "import importlib\n",
    "import scripts.theodolite_function as tfu\n",
    "import scripts.theodolite_utils as tfuu\n",
    "tfu = importlib.reload(tfu)\n",
    "from scipy.interpolate import splprep, splev\n",
    "from scipy import interpolate\n",
    "import seaborn as sns\n",
    "from matplotlib.colors import BoundaryNorm\n",
    "from matplotlib.ticker import MaxNLocator\n",
    "from scipy.spatial.transform import Rotation as R\n",
    "import scripts.gp_prediction_utils as GPf\n",
    "GPf = importlib.reload(GPf)\n",
    "import GPy\n",
    "from wbml.plot import tweak\n",
    "from stheno import B, Measure, GP, EQ, Delta\n",
    "import torch\n",
    "from tqdm import tqdm"
   ]
  },
  {
   "cell_type": "code",
   "execution_count": 4,
   "id": "7b291059",
   "metadata": {},
   "outputs": [],
   "source": [
    "def distance_time_trajectory(list_trajectories_split,trimble_1,time_trimble_1):\n",
    "    distance = []\n",
    "    time_travel = []\n",
    "\n",
    "    for i in tqdm(list_trajectories_split):\n",
    "\n",
    "        index_1 = np.array([i[0,0],i[1,0]])\n",
    "\n",
    "        traj_1_x = np.atleast_2d(trimble_1[0, index_1[0]:index_1[1]+1]).T\n",
    "        traj_1_y = np.atleast_2d(trimble_1[1, index_1[0]:index_1[1]+1]).T\n",
    "        traj_1_z = np.atleast_2d(trimble_1[2, index_1[0]:index_1[1]+1]).T\n",
    "\n",
    "        time_1 = time_trimble_1[index_1[0]:index_1[1]+1]\n",
    "\n",
    "        dist = 0\n",
    "        for j in range(0,len(traj_1_x)-1):\n",
    "            point_before = np.array([traj_1_x[j],traj_1_y[j],traj_1_z[j]]) \n",
    "            point_after = np.array([traj_1_x[j+1],traj_1_y[j+1],traj_1_z[j+1]])  \n",
    "            diff = point_before - point_after\n",
    "            norm = np.linalg.norm(diff)\n",
    "            dist = dist + norm\n",
    "\n",
    "        distance.append(dist)\n",
    "        time_travel.append(abs(time_1[-1]-time_1[0]))\n",
    "    return sum(distance), sum(time_travel)"
   ]
  },
  {
   "cell_type": "code",
   "execution_count": 7,
   "id": "1e8294f4",
   "metadata": {
    "scrolled": true
   },
   "outputs": [
    {
     "name": "stderr",
     "output_type": "stream",
     "text": [
      "  0%|          | 0/20 [00:00<?, ?it/s]\n",
      "100%|██████████| 35/35 [00:00<00:00, 814.65it/s]\n",
      "  5%|▌         | 1/20 [00:01<00:29,  1.57s/it]\n",
      "100%|██████████| 47/47 [00:00<00:00, 712.28it/s]\n",
      " 10%|█         | 2/20 [00:04<00:47,  2.62s/it]\n",
      "100%|██████████| 51/51 [00:00<00:00, 723.44it/s]\n",
      " 15%|█▌        | 3/20 [00:08<00:53,  3.14s/it]\n",
      "100%|██████████| 45/45 [00:00<00:00, 675.76it/s]\n",
      " 20%|██        | 4/20 [00:12<00:53,  3.35s/it]\n",
      "100%|██████████| 33/33 [00:00<00:00, 606.39it/s]\n",
      " 25%|██▌       | 5/20 [00:14<00:43,  2.91s/it]\n",
      "100%|██████████| 33/33 [00:00<00:00, 934.60it/s]\n",
      " 30%|███       | 6/20 [00:15<00:33,  2.39s/it]\n",
      "100%|██████████| 26/26 [00:00<00:00, 1978.30it/s]\n",
      " 35%|███▌      | 7/20 [00:16<00:22,  1.71s/it]\n",
      "100%|██████████| 50/50 [00:00<00:00, 1111.97it/s]\n",
      " 40%|████      | 8/20 [00:18<00:22,  1.84s/it]\n",
      "100%|██████████| 2/2 [00:00<00:00, 371.74it/s]\n",
      "\n",
      "100%|██████████| 2/2 [00:00<00:00, 211.03it/s]\n",
      "\n",
      "100%|██████████| 42/42 [00:00<00:00, 862.76it/s]\n",
      " 55%|█████▌    | 11/20 [00:20<00:10,  1.13s/it]\n",
      "100%|██████████| 8/8 [00:00<00:00, 1299.50it/s]\n",
      " 60%|██████    | 12/20 [00:20<00:07,  1.09it/s]\n",
      "100%|██████████| 76/76 [00:00<00:00, 784.24it/s]\n",
      " 65%|██████▌   | 13/20 [00:28<00:17,  2.53s/it]\n",
      "100%|██████████| 35/35 [00:00<00:00, 1279.56it/s]\n",
      " 70%|███████   | 14/20 [00:28<00:12,  2.12s/it]\n",
      "100%|██████████| 14/14 [00:00<00:00, 957.23it/s]\n",
      " 75%|███████▌  | 15/20 [00:29<00:08,  1.63s/it]\n",
      "100%|██████████| 35/35 [00:00<00:00, 1060.44it/s]\n",
      " 80%|████████  | 16/20 [00:30<00:05,  1.48s/it]\n",
      "100%|██████████| 4/4 [00:00<00:00, 461.22it/s]\n",
      "\n",
      "100%|██████████| 2/2 [00:00<00:00, 225.13it/s]\n",
      " 90%|█████████ | 18/20 [00:30<00:01,  1.16it/s]\n",
      "100%|██████████| 5/5 [00:00<00:00, 634.64it/s]\n",
      "\n",
      "100%|██████████| 2/2 [00:00<00:00, 264.82it/s]\n",
      "100%|██████████| 20/20 [00:30<00:00,  1.53s/it]"
     ]
    },
    {
     "name": "stdout",
     "output_type": "stream",
     "text": [
      "20475.560225684894 31676.11080646515\n"
     ]
    },
    {
     "name": "stderr",
     "output_type": "stream",
     "text": [
      "\n"
     ]
    }
   ],
   "source": [
    "%matplotlib notebook\n",
    "tfuu = importlib.reload(tfuu)\n",
    "\n",
    "#list_dataset = [\"./data/total_station/20220224/\", \"./data/total_station/20220307/\", \"./data/total_station/20220312/\",\n",
    "#                \"./data/total_station/20220314/\", \"./data/total_station/20220316/\", \"./data/total_station/20220331-1/\",\n",
    "#                \"./data/total_station/20220331-2/\", \"./data/total_station/20220427/\",\"./data/total_station/20220427_soir/\"]\n",
    "\n",
    "list_dataset = [\"./data/total_station/20220224/\", \"./data/total_station/20220307/\", \"./data/total_station/20220312/\",\n",
    "                \"./data/total_station/20220314/\", \"./data/total_station/20220316/\", \"./data/total_station/20220331-1/\",\n",
    "                \"./data/total_station/20220331-2/\", \"./data/total_station/20220427/\",\"./data/total_station/20220505_cones/\",\n",
    "                \"./data/total_station/20220505_empty/\",\"./data/total_station/20220513_evening_lidar/\",\n",
    "                \"./data/total_station/20220513_evening_without_lidar_1/\",\"./data/total_station/20220513_evening_without_lidar_2/\",\n",
    "                \"./data/total_station/20220513_morning_lidar/\",\"./data/total_station/20220513_morning_without_lidar_1/\",\n",
    "                \"./data/total_station/20220513_morning_without_lidar_2/\", \"./data/total_station/20220523/\",\n",
    "                \"./data/total_station/20220523_cones/\",\"./data/total_station/20220523_empty/\",\"./data/total_station/20220523_other_tunnel/\"]\n",
    "\n",
    "distance = []\n",
    "time_experiment = []\n",
    "for path in tqdm(list_dataset):\n",
    "\n",
    "    time_trimble_1, trimble_1 = tfuu.read_point_data_csv_file(path+\"trimble1.csv\")\n",
    "    time_trimble_2, trimble_2 = tfuu.read_point_data_csv_file(path+\"trimble2.csv\")\n",
    "    time_trimble_3, trimble_3 = tfuu.read_point_data_csv_file(path+\"trimble3.csv\")\n",
    "\n",
    "    tfu = importlib.reload(tfu)\n",
    "    limit_time_interval = 3    #4 seconds max\n",
    "    list_interval, list_time = tfu.split_time_interval_all_data(time_trimble_1, time_trimble_2, time_trimble_3, limit_time_interval)\n",
    "    limit_search = 2\n",
    "    list_trajectories_split = tfu.merge_interval(list_interval, list_time, time_trimble_1, time_trimble_2, time_trimble_3, limit_search)\n",
    "\n",
    "    dist, time = distance_time_trajectory(list_trajectories_split,trimble_1,time_trimble_1)\n",
    "    distance.append(dist)\n",
    "    time_experiment.append(time)\n",
    "print(sum(distance),sum(time_experiment))"
   ]
  },
  {
   "cell_type": "code",
   "execution_count": 10,
   "id": "583a5792",
   "metadata": {},
   "outputs": [
    {
     "name": "stdout",
     "output_type": "stream",
     "text": [
      "[1537.1757517925155, 972.5208226064022, 2030.1778534566245, 1975.016569117604, 1242.2759237353116, 704.5287398430329, 454.2372511398766, 1717.812321615929, 128.13770384390327, 282.7489083437239, 2699.9967437045702, 285.71827749545105, 815.0306897799026, 1658.8734128924166, 858.9540661492337, 2131.1899638034893, 263.5147709550608, 279.3633908284533, 280.37775802451097, 157.90930655688172]\n"
     ]
    }
   ],
   "source": [
    "print(distance)"
   ]
  },
  {
   "cell_type": "code",
   "execution_count": null,
   "id": "580b4c69",
   "metadata": {},
   "outputs": [],
   "source": []
  }
 ],
 "metadata": {
  "kernelspec": {
   "display_name": "Python 3",
   "language": "python",
   "name": "python3"
  },
  "language_info": {
   "codemirror_mode": {
    "name": "ipython",
    "version": 3
   },
   "file_extension": ".py",
   "mimetype": "text/x-python",
   "name": "python",
   "nbconvert_exporter": "python",
   "pygments_lexer": "ipython3",
   "version": "3.6.9"
  }
 },
 "nbformat": 4,
 "nbformat_minor": 5
}
