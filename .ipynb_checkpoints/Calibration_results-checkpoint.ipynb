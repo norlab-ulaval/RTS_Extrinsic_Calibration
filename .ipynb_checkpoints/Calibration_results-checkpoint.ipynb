{
 "cells": [
  {
   "cell_type": "code",
   "execution_count": 1,
   "id": "4ac77780",
   "metadata": {},
   "outputs": [
    {
     "name": "stderr",
     "output_type": "stream",
     "text": [
      "Failed to load Python extension for LZ4 support. LZ4 compression will not be available.\n"
     ]
    }
   ],
   "source": [
    "import sys\n",
    "#!{sys.executable} -m pip install seaborn\n",
    "#!{sys.executable} -m pip install pycryptodome\n",
    "#!{sys.executable} -m pip install pycryptodomex\n",
    "#!{sys.executable} -m pip install gnupg\n",
    "import numpy as np\n",
    "import importlib\n",
    "import matplotlib.pyplot as plt\n",
    "import scripts.theodolite_function as tfu\n",
    "tfu = importlib.reload(tfu)\n",
    "from scipy.interpolate import splprep, splev\n",
    "from scipy import interpolate\n",
    "import seaborn as sns\n",
    "from matplotlib.colors import BoundaryNorm\n",
    "from matplotlib.ticker import MaxNLocator\n",
    "from scipy.spatial.transform import Rotation as R\n",
    "import scripts.theodolite_utils as ttfu"
   ]
  },
  {
   "cell_type": "code",
   "execution_count": 2,
   "id": "6fc280d1",
   "metadata": {},
   "outputs": [
    {
     "ename": "NameError",
     "evalue": "name 'ttfu' is not defined",
     "output_type": "error",
     "traceback": [
      "\u001b[0;31m---------------------------------------------------------------------------\u001b[0m",
      "\u001b[0;31mNameError\u001b[0m                                 Traceback (most recent call last)",
      "\u001b[0;32m<ipython-input-2-9441fe0b3fd0>\u001b[0m in \u001b[0;36m<module>\u001b[0;34m()\u001b[0m\n\u001b[1;32m      1\u001b[0m \u001b[0;31m# Convert data to csv\u001b[0m\u001b[0;34m\u001b[0m\u001b[0;34m\u001b[0m\u001b[0;34m\u001b[0m\u001b[0m\n\u001b[0;32m----> 2\u001b[0;31m \u001b[0mttfu\u001b[0m \u001b[0;34m=\u001b[0m \u001b[0mimportlib\u001b[0m\u001b[0;34m.\u001b[0m\u001b[0mreload\u001b[0m\u001b[0;34m(\u001b[0m\u001b[0mttfu\u001b[0m\u001b[0;34m)\u001b[0m\u001b[0;34m\u001b[0m\u001b[0;34m\u001b[0m\u001b[0m\n\u001b[0m\u001b[1;32m      3\u001b[0m \u001b[0;34m\u001b[0m\u001b[0m\n\u001b[1;32m      4\u001b[0m \u001b[0;31m# Trajectory total station (time, point data) x3\u001b[0m\u001b[0;34m\u001b[0m\u001b[0;34m\u001b[0m\u001b[0;34m\u001b[0m\u001b[0m\n\u001b[1;32m      5\u001b[0m \u001b[0mttfu\u001b[0m\u001b[0;34m.\u001b[0m\u001b[0mConvert_data_to_csv\u001b[0m\u001b[0;34m(\u001b[0m\u001b[0mtime_trimble_1\u001b[0m\u001b[0;34m,\u001b[0m \u001b[0mnp\u001b[0m\u001b[0;34m.\u001b[0m\u001b[0marray\u001b[0m\u001b[0;34m(\u001b[0m\u001b[0mtrimble_1\u001b[0m\u001b[0;34m)\u001b[0m\u001b[0;34m.\u001b[0m\u001b[0mT\u001b[0m\u001b[0;34m,\u001b[0m \u001b[0;34m\"./data/trimble1.csv\"\u001b[0m\u001b[0;34m)\u001b[0m\u001b[0;34m\u001b[0m\u001b[0;34m\u001b[0m\u001b[0m\n",
      "\u001b[0;31mNameError\u001b[0m: name 'ttfu' is not defined"
     ]
    }
   ],
   "source": [
    "# Convert data to csv\n",
    "ttfu = importlib.reload(ttfu)\n",
    "\n",
    "# Trajectory total station (time, point data) x3\n",
    "ttfu.Convert_data_to_csv(time_trimble_1, np.array(trimble_1).T, \"./data/trimble1.csv\")\n",
    "ttfu.Convert_data_to_csv(time_trimble_2, np.array(trimble_2).T, \"./data/trimble2.csv\")\n",
    "ttfu.Convert_data_to_csv(time_trimble_3, np.array(trimble_3).T, \"./data/trimble3.csv\")\n",
    "\n",
    "# Trajectory GPS (time, point data) x3\n",
    "ttfu.Convert_data_to_csv(GPS_front_utm_data_array[:,0], GPS_front_utm_data_array[:,1:4], \"./data/gpsfront.csv\")\n",
    "ttfu.Convert_data_to_csv(GPS_back_utm_data_array[:,0], GPS_back_utm_data_array[:,1:4], \"./data/gpsback.csv\")\n",
    "ttfu.Convert_data_to_csv(GPS_middle_utm_data_array[:,0], GPS_middle_utm_data_array[:,1:4], \"./data/gpsmiddle.csv\")"
   ]
  },
  {
   "cell_type": "code",
   "execution_count": null,
   "id": "97fa1608",
   "metadata": {},
   "outputs": [],
   "source": [
    "# Convert data to csv\n",
    "ttfu = importlib.reload(ttfu)\n",
    "file_name = \"./data/calibration_warthog_1_11_21.csv\"\n",
    "file_name_output = \"./data/calibration_distance_1_11_21.csv\"\n",
    "ttfu.read_calibration_gps_prism(file_name, file_name_output)"
   ]
  }
 ],
 "metadata": {
  "kernelspec": {
   "display_name": "Python 3",
   "language": "python",
   "name": "python3"
  },
  "language_info": {
   "codemirror_mode": {
    "name": "ipython",
    "version": 3
   },
   "file_extension": ".py",
   "mimetype": "text/x-python",
   "name": "python",
   "nbconvert_exporter": "python",
   "pygments_lexer": "ipython3",
   "version": "3.6.9"
  }
 },
 "nbformat": 4,
 "nbformat_minor": 5
}
