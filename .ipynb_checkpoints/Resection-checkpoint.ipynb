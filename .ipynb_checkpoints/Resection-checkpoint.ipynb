{
 "cells": [
  {
   "cell_type": "code",
   "execution_count": 141,
   "id": "d1af33ea-9517-4927-b209-e066223952dd",
   "metadata": {},
   "outputs": [
    {
     "data": {
      "text/plain": [
       "<matplotlib.collections.PathCollection at 0x7f06bdd8bfa0>"
      ]
     },
     "execution_count": 141,
     "metadata": {},
     "output_type": "execute_result"
    },
    {
     "data": {
      "image/png": "[encoded data removed]",
      "text/plain": [
       "<Figure size 432x288 with 1 Axes>"
      ]
     },
     "metadata": {
      "needs_background": "light"
     },
     "output_type": "display_data"
    }
   ],
   "source": [
    "import numpy as np\n",
    "import matplotlib.pyplot as plt\n",
    "import scipy.linalg\n",
    "import scipy.optimize\n",
    "\n",
    "def R_z(theta):\n",
    "    R = np.eye(4,4)\n",
    "    R[0,:2] = [np.cos(theta), -np.sin(theta)]\n",
    "    R[1,:2] = [np.sin(theta), np.cos(theta)]\n",
    "    return R\n",
    "def T_z(theta, t):\n",
    "    T = R_z(theta)\n",
    "    T[:3,3] = t\n",
    "    return T\n",
    "    \n",
    "def dist(p,q):\n",
    "    return np.linalg.norm(p-q)\n",
    "\n",
    "def plot_theodolite(ax, T, c1='tab:red', c2='tab:green', name=\"\"):\n",
    "    b = T@np.array([0,0,0,1])\n",
    "    dx = T@np.array([1,0,0,1]) - b\n",
    "    dy = T@np.array([0,1,0,1]) - b\n",
    "    \n",
    "    plt.arrow(*b[:2], *dx[:2], color=c1)\n",
    "    plt.arrow(*b[:2], *dy[:2], color=c2)\n",
    "    plt.text(*b[:2],name)\n",
    "    \n",
    "d_truth = 1\n",
    "#equilateral triangle\n",
    "prisms = np.array([[0,0,0,1], [d_truth,0,0,1], R_z(np.pi/3.)@np.array([1,0,0,1])])\n",
    "center = np.mean(prisms, 0)\n",
    "center[3]=0\n",
    "\n",
    "for i in range(len(prisms)):\n",
    "    prisms[i] -= center\n",
    "    prisms[i] -= np.array([5,0,0,0])\n",
    "    \n",
    "\n",
    "#def traj circle\n",
    "N=6\n",
    "def gen_points(N):\n",
    "    p1s = np.zeros((4,N))\n",
    "    p2s = np.zeros((4,N))\n",
    "    p3s = np.zeros((4,N))\n",
    "\n",
    "    for i in range(N):\n",
    "        T = T_z(float(i)/N*2*np.pi, np.array([8,0,0]))\n",
    "        p1s[:,i] = T@prisms[0]\n",
    "        p2s[:,i] = T@prisms[1]\n",
    "        p3s[:,i] = T@prisms[2]\n",
    "\n",
    "    #put theodolites\n",
    "    # T1 = T_z(0,[-3,0,0])\n",
    "    # T2 = T_z(-np.pi/3.,[0,2,0])\n",
    "    # T3 = T_z(np.pi/3.,[0,-5,0])\n",
    "    T1 = T_z(0,[0,0,0])\n",
    "    T2 = T_z(0,[-2,5,0])\n",
    "    T3 = T_z(np.pi/3.,[0,-5,0])\n",
    "\n",
    "    #points in local ref \n",
    "    p1s_l = np.zeros((N,4))\n",
    "    p2s_l = np.zeros((N,4))\n",
    "    p3s_l = np.zeros((N,4))\n",
    "    for i in range(N):\n",
    "        T = T_z(float(i)/N*2*np.pi, np.array([8,0,0]))\n",
    "        p1s_l[i] = np.linalg.inv(T1)@T@prisms[0]\n",
    "        p2s_l[i] = np.linalg.inv(T2)@T@prisms[1]\n",
    "        p3s_l[i] = np.linalg.inv(T3)@T@prisms[2]\n",
    "\n",
    "    #get GT T12 and T13\n",
    "    T12 = np.linalg.inv(T1) @ T2\n",
    "    T13 = np.linalg.inv(T1) @ T3\n",
    "    \n",
    "    return T1, T2, T3, T12, T13, p1s, p2s, p3s, p1s_l, p2s_l, p3s_l\n",
    "\n",
    "\n",
    "T1, T2, T3, T12, T13, p1s, p2s, p3s, p1s_l, p2s_l, p3s_l = gen_points(50)\n",
    "\n",
    "plt.figure()\n",
    "plt.axis('equal')\n",
    "ax = plt.gca()\n",
    "\n",
    "plot_theodolite(ax,T1, name=\"1\")\n",
    "plot_theodolite(ax,T2, name=\"2\")\n",
    "plot_theodolite(ax,T3, name=\"3\")\n",
    "\n",
    "plt.scatter(p1s[0,:], p1s[1,:], color='tab:red')\n",
    "plt.scatter(p2s[0,:], p2s[1,:], color='tab:red')\n",
    "plt.scatter(p3s[0,:], p3s[1,:], color='tab:blue')"
   ]
  },
  {
   "cell_type": "code",
   "execution_count": 142,
   "id": "48808cc0-fc8f-4ce5-b5ae-c6f19b6b1342",
   "metadata": {},
   "outputs": [
    {
     "data": {
      "image/png": "[encoded data removed]",
      "text/plain": [
       "<Figure size 432x288 with 1 Axes>"
      ]
     },
     "metadata": {
      "needs_background": "light"
     },
     "output_type": "display_data"
    }
   ],
   "source": [
    "def cost_fun(p1s_l, p2s_l, p3s_l, xi_12, xi_13):\n",
    "    T12 = exp_T(xi_12)\n",
    "    T13 = exp_T(xi_13)\n",
    "    c=0\n",
    "    c += sum([(dist(p1,T12@p2)-d_truth)**2 for p1,p2 in zip(p1s_l, p2s_l)])\n",
    "    c += sum([(dist(p1,T13@p3)-d_truth)**2 for p1,p3 in zip(p1s_l, p3s_l)])\n",
    "    c += sum([(dist(T12@p2,T13@p3)-d_truth)**2 for p2,p3 in zip(p2s_l, p3s_l)])\n",
    "    \n",
    "    return c\n",
    "\n",
    "def vee(xi):\n",
    "    T = np.zeros((4,4))\n",
    "    T[:3,:3] = np.array([[ 0,     -xi[2], xi[1]],\n",
    "                        [ xi[2], 0,     -xi[0]],\n",
    "                        [-xi[1], xi[0], 0]])\n",
    "    T[:3,3] = xi[3:]\n",
    "    return T\n",
    "    \n",
    "def exp_T(xi):\n",
    "    return scipy.linalg.expm(vee(xi))\n",
    "\n",
    "f = lambda x: cost_fun(p1s_l, p2s_l, p3s_l, x[:6], x[6:])\n",
    "\n",
    "res = scipy.optimize.minimize(lambda x: cost_fun(p1s_l, p2s_l, p3s_l, x[:6], x[6:]), \n",
    "                             x0=np.zeros((12,1)))\n",
    "\n",
    "xi_12 = res.x[:6]\n",
    "xi_13 = res.x[6:] \n",
    "T12 = exp_T(xi_12)\n",
    "T13 = exp_T(xi_13)\n",
    "\n",
    "plt.figure()\n",
    "plt.axis('equal')\n",
    "ax = plt.gca()\n",
    "\n",
    "plot_theodolite(ax,np.eye(4,4), name=\"1\")\n",
    "plot_theodolite(ax,T12, name=\"2\")\n",
    "plot_theodolite(ax,T13, name=\"3\")"
   ]
  },
  {
   "cell_type": "code",
   "execution_count": 133,
   "id": "fabde25e-9f7e-4146-b9d2-6b38556f0fa0",
   "metadata": {},
   "outputs": [
    {
     "name": "stderr",
     "output_type": "stream",
     "text": [
      "100%|██████████| 15/15 [01:06<00:00,  4.42s/it]\n"
     ]
    },
    {
     "data": {
      "text/plain": [
       "Text(0, 0.5, 'computation time [s]')"
      ]
     },
     "execution_count": 133,
     "metadata": {},
     "output_type": "execute_result"
    },
    {
     "data": {
      "image/png": "[encoded data removed]",
      "text/plain": [
       "<Figure size 432x288 with 1 Axes>"
      ]
     },
     "metadata": {
      "needs_background": "light"
     },
     "output_type": "display_data"
    }
   ],
   "source": [
    "import time\n",
    "from tqdm import tqdm as tqdm\n",
    "\n",
    "its = []\n",
    "times = []\n",
    "Ns = range(0,150,10)\n",
    "\n",
    "for N in tqdm(Ns):\n",
    "    T1, T2, T3, T12, T13, p1s, p2s, p3s, p1s_l, p2s_l, p3s_l = gen_points(N)\n",
    "    f = lambda x: cost_fun(p1s_l, p2s_l, p3s_l, x[:6], x[6:])\n",
    "    \n",
    "    start = time.time()\n",
    "    res = scipy.optimize.minimize(lambda x: cost_fun(p1s_l, p2s_l, p3s_l, x[:6], x[6:]), \n",
    "                                 x0=np.zeros((12,1)))\n",
    "    end = time.time()\n",
    "    \n",
    "    its += [res.nit]\n",
    "    times += [end - start]\n",
    "\n",
    "\n",
    "plt.figure()\n",
    "plt.plot(Ns, times)\n",
    "plt.xlabel(\"number of poses\")\n",
    "plt.ylabel(\"computation time [s]\")\n"
   ]
  },
  {
   "cell_type": "code",
   "execution_count": 134,
   "id": "b5eadd0c-8f2d-49bb-9692-6acb5090acaf",
   "metadata": {},
   "outputs": [
    {
     "data": {
      "text/plain": [
       "Text(0, 0.5, 'number of iterations')"
      ]
     },
     "execution_count": 134,
     "metadata": {},
     "output_type": "execute_result"
    },
    {
     "data": {
      "image/png": "[encoded data removed]",
      "text/plain": [
       "<Figure size 432x288 with 1 Axes>"
      ]
     },
     "metadata": {
      "needs_background": "light"
     },
     "output_type": "display_data"
    }
   ],
   "source": [
    "plt.figure()\n",
    "plt.plot(Ns, its)\n",
    "\n",
    "plt.xlabel(\"number of poses\")\n",
    "plt.ylabel(\"number of iterations\")"
   ]
  }
 ],
 "metadata": {
  "kernelspec": {
   "display_name": "Python 3",
   "language": "python",
   "name": "python3"
  },
  "language_info": {
   "codemirror_mode": {
    "name": "ipython",
    "version": 3
   },
   "file_extension": ".py",
   "mimetype": "text/x-python",
   "name": "python",
   "nbconvert_exporter": "python",
   "pygments_lexer": "ipython3",
   "version": "3.6.9"
  }
 },
 "nbformat": 4,
 "nbformat_minor": 5
}
