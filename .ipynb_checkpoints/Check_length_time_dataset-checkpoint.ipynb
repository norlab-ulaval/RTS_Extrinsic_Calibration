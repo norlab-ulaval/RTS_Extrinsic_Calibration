{
 "cells": [
  {
   "cell_type": "code",
   "execution_count": 4,
   "id": "97cd1c21",
   "metadata": {},
   "outputs": [],
   "source": [
    "import sys\n",
    "import numpy as np\n",
    "import math\n",
    "from matplotlib import pyplot as plt\n",
    "import matplotlib\n",
    "import random\n",
    "import os\n",
    "from matplotlib import animation\n",
    "from mpl_toolkits.mplot3d.art3d import Poly3DCollection\n",
    "from scipy import spatial\n",
    "from IPython.display import HTML\n",
    "from sklearn.gaussian_process import GaussianProcessRegressor\n",
    "from sklearn.gaussian_process.kernels import (RBF, Matern, RationalQuadratic, ExpSineSquared, DotProduct, ConstantKernel)\n",
    "\n",
    "import importlib\n",
    "import scripts.theodolite_function as tfu\n",
    "import scripts.theodolite_utils as tfuu\n",
    "tfu = importlib.reload(tfu)\n",
    "from scipy.interpolate import splprep, splev\n",
    "from scipy import interpolate\n",
    "import seaborn as sns\n",
    "from matplotlib.colors import BoundaryNorm\n",
    "from matplotlib.ticker import MaxNLocator\n",
    "from scipy.spatial.transform import Rotation as R\n",
    "import scripts.gp_prediction_utils as GPf\n",
    "GPf = importlib.reload(GPf)\n",
    "import GPy\n",
    "from wbml.plot import tweak\n",
    "from stheno import B, Measure, GP, EQ, Delta\n",
    "import torch\n",
    "from tqdm import tqdm"
   ]
  },
  {
   "cell_type": "code",
   "execution_count": 30,
   "id": "7b291059",
   "metadata": {},
   "outputs": [],
   "source": [
    "def distance_time_trajectory(list_trajectories_split,trimble_1,time_trimble_1):\n",
    "    distance = []\n",
    "    time_travel = []\n",
    "\n",
    "    for i in tqdm(list_trajectories_split):\n",
    "\n",
    "        index_1 = np.array([i[0,0],i[1,0]])\n",
    "\n",
    "        traj_1_x = np.atleast_2d(trimble_1[0, index_1[0]:index_1[1]+1]).T\n",
    "        traj_1_y = np.atleast_2d(trimble_1[1, index_1[0]:index_1[1]+1]).T\n",
    "        traj_1_z = np.atleast_2d(trimble_1[2, index_1[0]:index_1[1]+1]).T\n",
    "\n",
    "        time_1 = time_trimble_1[index_1[0]:index_1[1]+1]\n",
    "\n",
    "        dist = 0\n",
    "        for j in range(0,len(traj_1_x)-1):\n",
    "            point_before = np.array([traj_1_x[j],traj_1_y[j],traj_1_z[j]]) \n",
    "            point_after = np.array([traj_1_x[j+1],traj_1_y[j+1],traj_1_z[j+1]])  \n",
    "            diff = point_before - point_after\n",
    "            norm = np.linalg.norm(diff)\n",
    "            dist = dist + norm\n",
    "\n",
    "        distance.append(dist)\n",
    "        time_travel.append(abs(time_1[-1]-time_1[0]))\n",
    "    return sum(distance), sum(time_travel)"
   ]
  },
  {
   "cell_type": "code",
   "execution_count": 33,
   "id": "1e8294f4",
   "metadata": {},
   "outputs": [
    {
     "name": "stderr",
     "output_type": "stream",
     "text": [
      "  0%|          | 0/9 [00:00<?, ?it/s]\n",
      "100%|██████████| 16/16 [00:00<00:00, 364.14it/s]\n",
      " 11%|█         | 1/9 [00:01<00:10,  1.36s/it]\n",
      "100%|██████████| 5/5 [00:00<00:00, 72.54it/s]\n",
      " 22%|██▏       | 2/9 [00:03<00:14,  2.10s/it]\n",
      "100%|██████████| 20/20 [00:00<00:00, 303.30it/s]\n",
      " 33%|███▎      | 3/9 [00:07<00:15,  2.59s/it]\n",
      "100%|██████████| 6/6 [00:00<00:00, 70.88it/s]\n",
      " 44%|████▍     | 4/9 [00:10<00:13,  2.75s/it]\n",
      "100%|██████████| 3/3 [00:00<00:00, 61.31it/s]\n",
      " 56%|█████▌    | 5/9 [00:11<00:09,  2.35s/it]\n",
      "100%|██████████| 26/26 [00:00<00:00, 759.14it/s]\n",
      " 67%|██████▋   | 6/9 [00:13<00:05,  1.99s/it]\n",
      "100%|██████████| 26/26 [00:00<00:00, 1920.87it/s]\n",
      " 78%|███████▊  | 7/9 [00:13<00:02,  1.44s/it]\n",
      "100%|██████████| 42/42 [00:00<00:00, 1005.86it/s]\n",
      " 89%|████████▉ | 8/9 [00:15<00:01,  1.64s/it]\n",
      "100%|██████████| 10/10 [00:00<00:00, 1834.46it/s]\n",
      "100%|██████████| 9/9 [00:15<00:00,  1.74s/it]"
     ]
    },
    {
     "name": "stdout",
     "output_type": "stream",
     "text": [
      "10859.905190858775 19176.742748260498\n"
     ]
    },
    {
     "name": "stderr",
     "output_type": "stream",
     "text": [
      "\n"
     ]
    }
   ],
   "source": [
    "%matplotlib notebook\n",
    "tfuu = importlib.reload(tfuu)\n",
    "\n",
    "list_dataset = [\"./data/total_station/20220224/\", \"./data/total_station/20220307/\", \"./data/total_station/20220312/\",\n",
    "                \"./data/total_station/20220314/\", \"./data/total_station/20220316/\", \"./data/total_station/20220331-1/\",\n",
    "                \"./data/total_station/20220331-2/\", \"./data/total_station/20220427/\",\"./data/total_station/20220427_soir/\"]\n",
    "\n",
    "distance = []\n",
    "time_experiment = []\n",
    "for path in tqdm(list_dataset):\n",
    "\n",
    "    time_trimble_1, trimble_1 = tfuu.read_point_data_csv_file(path+\"trimble1.csv\")\n",
    "    time_trimble_2, trimble_2 = tfuu.read_point_data_csv_file(path+\"trimble2.csv\")\n",
    "    time_trimble_3, trimble_3 = tfuu.read_point_data_csv_file(path+\"trimble3.csv\")\n",
    "\n",
    "    tfu = importlib.reload(tfu)\n",
    "    limit_time_interval = 3    #4 seconds max\n",
    "    list_interval, list_time = tfu.split_time_interval_all_data(time_trimble_1, time_trimble_2, time_trimble_3, limit_time_interval)\n",
    "    limit_search = 2\n",
    "    list_trajectories_split = tfu.merge_interval(list_interval, list_time, time_trimble_1, time_trimble_2, time_trimble_3, limit_search)\n",
    "\n",
    "    dist, time = distance_time_trajectory(list_trajectories_split,trimble_1,time_trimble_1)\n",
    "    distance.append(dist)\n",
    "    time_experiment.append(time)\n",
    "print(sum(distance),sum(time_experiment))"
   ]
  },
  {
   "cell_type": "code",
   "execution_count": null,
   "id": "583a5792",
   "metadata": {},
   "outputs": [],
   "source": []
  }
 ],
 "metadata": {
  "kernelspec": {
   "display_name": "Python 3",
   "language": "python",
   "name": "python3"
  },
  "language_info": {
   "codemirror_mode": {
    "name": "ipython",
    "version": 3
   },
   "file_extension": ".py",
   "mimetype": "text/x-python",
   "name": "python",
   "nbconvert_exporter": "python",
   "pygments_lexer": "ipython3",
   "version": "3.6.9"
  }
 },
 "nbformat": 4,
 "nbformat_minor": 5
}
