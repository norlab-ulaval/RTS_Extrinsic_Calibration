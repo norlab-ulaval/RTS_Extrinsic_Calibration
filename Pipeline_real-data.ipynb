{
 "cells": [
  {
   "cell_type": "code",
   "execution_count": 1,
   "id": "bffff237",
   "metadata": {},
   "outputs": [],
   "source": [
    "# Generate Gaussian Process for total station data file\n",
    "\n",
    "# Notebook used to compute the trajectories of prisms with Gaussian Process"
   ]
  },
  {
   "cell_type": "code",
   "execution_count": 1,
   "id": "4af24ee5",
   "metadata": {},
   "outputs": [
    {
     "name": "stderr",
     "output_type": "stream",
     "text": [
      "Failed to load Python extension for LZ4 support. LZ4 compression will not be available.\n"
     ]
    }
   ],
   "source": [
    "import sys\n",
    "import numpy as np\n",
    "import math\n",
    "from matplotlib import pyplot as plt\n",
    "import matplotlib\n",
    "import random\n",
    "import os\n",
    "from matplotlib import animation\n",
    "from mpl_toolkits.mplot3d.art3d import Poly3DCollection\n",
    "from scipy import spatial\n",
    "from IPython.display import HTML\n",
    "from sklearn.gaussian_process import GaussianProcessRegressor\n",
    "from sklearn.gaussian_process.kernels import (RBF, Matern, RationalQuadratic, ExpSineSquared, DotProduct, ConstantKernel)\n",
    "\n",
    "import importlib\n",
    "import scripts.theodolite_function as tfu\n",
    "import scripts.theodolite_utils as tfuu\n",
    "tfu = importlib.reload(tfu)\n",
    "from scipy.interpolate import splprep, splev\n",
    "from scipy import interpolate\n",
    "import seaborn as sns\n",
    "from matplotlib.colors import BoundaryNorm\n",
    "from matplotlib.ticker import MaxNLocator\n",
    "from scipy.spatial.transform import Rotation as R\n",
    "import scripts.gp_prediction_utils as GPf\n",
    "GPf = importlib.reload(GPf)\n",
    "import GPy\n",
    "from wbml.plot import tweak\n",
    "from stheno import B, Measure, GP, EQ, Delta\n",
    "import torch"
   ]
  },
  {
   "cell_type": "code",
   "execution_count": 2,
   "id": "c01e101f",
   "metadata": {},
   "outputs": [],
   "source": [
    "# Switch values if necessary 1 11 2021\n",
    "#Dist_prism_12 = 1.0398341231585624*1000\n",
    "#Dist_prism_13 = 0.818424700118086*1000\n",
    "#Dist_prism_23 = 0.8806156053859284*1000\n",
    "#Dist_GPS_12 = 0.835637436093363*1000\n",
    "#Dist_GPS_13 = 0.7812173648662254*1000\n",
    "#Dist_GPS_23 = 0.5166745729506486*1000\n",
    "\n",
    "# 26 11 2021\n",
    "#Dist_prism_12 = 1.03688797895733\n",
    "#Dist_prism_13 = 0.822536135483593\n",
    "#Dist_prism_23 = 0.8783765747673403\n",
    "#Dist_GPS_12 = 0.7828618536473139\n",
    "#Dist_GPS_13 = 0.8394208131018045\n",
    "#Dist_GPS_23 = 0.5176447366930409\n",
    "\n",
    "# 31 01 2022\n",
    "#Dist_prism_12 = 1.038854051807371\n",
    "#Dist_prism_13 = 0.8202157646292075\n",
    "#Dist_prism_23 = 0.879788333022114\n",
    "#Dist_GPS_12 = 0.7830826912858335\n",
    "#Dist_GPS_13 = 0.8418404054627937\n",
    "#Dist_GPS_23 = 0.5172558618541933\n",
    "     \n",
    "# 03 02 2022\n",
    "#Dist_prism_12 = 1.0403741344089559\n",
    "#Dist_prism_13 = 0.8239475424257701\n",
    "#Dist_prism_23 = 0.8766711748547112\n",
    "#Dist_GPS_12 = 0.781661929058067\n",
    "#Dist_GPS_13 = 0.8353981332464246\n",
    "#Dist_GPS_23 = 0.5174987476948135\n",
    "\n",
    "# 17 02 2022 / 24 02 2022\n",
    "#Dist_prism_12 = 0.8882613537922258\n",
    "#Dist_prism_13 = 0.8262903370535766\n",
    "#Dist_prism_23 = 1.0377436460567973\n",
    "#Dist_GPS_12 = 0.7809786915630756\n",
    "#Dist_GPS_13 = 0.8378323585433202\n",
    "#Dist_GPS_23 = 0.5191788936274444  \n",
    "\n",
    "# 07 03 2022\n",
    "#Dist_prism_12 = 0.8832836583456264\n",
    "#Dist_prism_13 = 0.8247449387008166\n",
    "#Dist_prism_23 = 1.039409793600046\n",
    "#Dist_GPS_12 = 0.7781099344563802\n",
    "#Dist_GPS_13 = 0.8431026980109139\n",
    "#Dist_GPS_23 = 0.5157221841320069\n",
    "\n",
    "# 12 03 2022\n",
    "#Dist_prism_12 = 0.8860734460339026\n",
    "#Dist_prism_13 = 0.8303896290142598\n",
    "#Dist_prism_23 = 1.0393117663247973\n",
    "#Dist_GPS_12 = 0.7829424296161074\n",
    "#Dist_GPS_13 = 0.8415176433032493\n",
    "#Dist_GPS_23 = 0.5161917038941966\n",
    "\n",
    "# 14 03 2022 / 16 03 2022\n",
    "#Dist_prism_12 = 0.8873171656784946\n",
    "#Dist_prism_13 = 0.8272212117473343\n",
    "#Dist_prism_23 = 1.0379270641796363\n",
    "#Dist_GPS_12 = 0.7829081036179948\n",
    "#Dist_GPS_13 = 0.8424633975958637\n",
    "#Dist_GPS_23 = 0.5165807364575292\n",
    "\n",
    "# 31 03 2022\n",
    "#Dist_prism_12 = 0.8864675130714769\n",
    "#Dist_prism_13 = 0.8240907534046003\n",
    "#Dist_prism_23 = 1.0386580905077105\n",
    "#Dist_GPS_12 = 0.7840545151932103\n",
    "#Dist_GPS_13 = 0.8371156718750876\n",
    "#Dist_GPS_23 = 0.5167633057807889\n",
    "\n",
    "# 27 04 2022\n",
    "#Dist_prism_12 = 0.8856608085851714\n",
    "#Dist_prism_13 = 0.8264452483880412\n",
    "#Dist_prism_23 = 1.0384219210289538\n",
    "#Dist_GPS_12 = 0.7809547832390561\n",
    "#Dist_GPS_13 = 0.8259590286006459\n",
    "#Dist_GPS_23 = 0.5191274645630007  \n",
    "\n",
    "# 27 04 2022 soir\n",
    "#Dist_prism_12 = 0.8868846942534616\n",
    "#Dist_prism_13 = 0.829169129877633\n",
    "#Dist_prism_23 = 1.0387571594276301\n",
    "#Dist_GPS_12 = 0.7837749633840095\n",
    "#Dist_GPS_13 = 0.8323125081688734\n",
    "#Dist_GPS_23 = 0.5187055120945835\n",
    "\n",
    "# 05 05 2022\n",
    "#Dist_prism_12 = 0.3819811991689936\n",
    "#Dist_prism_13 = 0.4426382054042266\n",
    "#Dist_prism_23 = 0.2564685508415531\n",
    "\n",
    "# 13 05 2022\n",
    "#Dist_prism_12 = 0.8113569618671205\n",
    "#Dist_prism_13 = 0.8695313906832193\n",
    "#Dist_prism_23 = 1.0383292631343506\n",
    "#Dist_GPS_12 = 0.7800801192552722\n",
    "#Dist_GPS_13 = 0.8396027021467387\n",
    "#Dist_GPS_23 = 0.5157656903777014\n",
    "\n",
    "# 23 05 2022\n",
    "Dist_prism_12 = 0.3851913749758221\n",
    "Dist_prism_13 = 0.4433899497583272\n",
    "Dist_prism_23 = 0.25861327466684897"
   ]
  },
  {
   "cell_type": "code",
   "execution_count": 3,
   "id": "5981893b",
   "metadata": {},
   "outputs": [
    {
     "name": "stderr",
     "output_type": "stream",
     "text": [
      " /home/norlab/Repo_git/code_publication_IROS2022_MaximeVaidis/scripts/theodolite_utils.py:517: VisibleDeprecationWarning:Creating an ndarray from ragged nested sequences (which is a list-or-tuple of lists-or-tuples-or ndarrays with different lengths or shapes) is deprecated. If you meant to do this, you must specify 'dtype=object' when creating the ndarray\n"
     ]
    },
    {
     "name": "stdout",
     "output_type": "stream",
     "text": [
      "Number sub-trajectories: 152\n"
     ]
    },
    {
     "data": {
      "application/javascript": [
       "/* Put everything inside the global mpl namespace */\n",
       "window.mpl = {};\n",
       "\n",
       "\n",
       "mpl.get_websocket_type = function() {\n",
       "    if (typeof(WebSocket) !== 'undefined') {\n",
       "        return WebSocket;\n",
       "    } else if (typeof(MozWebSocket) !== 'undefined') {\n",
       "        return MozWebSocket;\n",
       "    } else {\n",
       "        alert('Your browser does not have WebSocket support. ' +\n",
       "              'Please try Chrome, Safari or Firefox ≥ 6. ' +\n",
       "              'Firefox 4 and 5 are also supported but you ' +\n",
       "              'have to enable WebSockets in about:config.');\n",
       "    };\n",
       "}\n",
       "\n",
       "mpl.figure = function(figure_id, websocket, ondownload, parent_element) {\n",
       "    this.id = figure_id;\n",
       "\n",
       "    this.ws = websocket;\n",
       "\n",
       "    this.supports_binary = (this.ws.binaryType != undefined);\n",
       "\n",
       "    if (!this.supports_binary) {\n",
       "        var warnings = document.getElementById(\"mpl-warnings\");\n",
       "        if (warnings) {\n",
       "            warnings.style.display = 'block';\n",
       "            warnings.textContent = (\n",
       "                \"This browser does not support binary websocket messages. \" +\n",
       "                    \"Performance may be slow.\");\n",
       "        }\n",
       "    }\n",
       "\n",
       "    this.imageObj = new Image();\n",
       "\n",
       "    this.context = undefined;\n",
       "    this.message = undefined;\n",
       "    this.canvas = undefined;\n",
       "    this.rubberband_canvas = undefined;\n",
       "    this.rubberband_context = undefined;\n",
       "    this.format_dropdown = undefined;\n",
       "\n",
       "    this.image_mode = 'full';\n",
       "\n",
       "    this.root = $('<div/>');\n",
       "    this._root_extra_style(this.root)\n",
       "    this.root.attr('style', 'display: inline-block');\n",
       "\n",
       "    $(parent_element).append(this.root);\n",
       "\n",
       "    this._init_header(this);\n",
       "    this._init_canvas(this);\n",
       "    this._init_toolbar(this);\n",
       "\n",
       "    var fig = this;\n",
       "\n",
       "    this.waiting = false;\n",
       "\n",
       "    this.ws.onopen =  function () {\n",
       "            fig.send_message(\"supports_binary\", {value: fig.supports_binary});\n",
       "            fig.send_message(\"send_image_mode\", {});\n",
       "            if (mpl.ratio != 1) {\n",
       "                fig.send_message(\"set_dpi_ratio\", {'dpi_ratio': mpl.ratio});\n",
       "            }\n",
       "            fig.send_message(\"refresh\", {});\n",
       "        }\n",
       "\n",
       "    this.imageObj.onload = function() {\n",
       "            if (fig.image_mode == 'full') {\n",
       "                // Full images could contain transparency (where diff images\n",
       "                // almost always do), so we need to clear the canvas so that\n",
       "                // there is no ghosting.\n",
       "                fig.context.clearRect(0, 0, fig.canvas.width, fig.canvas.height);\n",
       "            }\n",
       "            fig.context.drawImage(fig.imageObj, 0, 0);\n",
       "        };\n",
       "\n",
       "    this.imageObj.onunload = function() {\n",
       "        fig.ws.close();\n",
       "    }\n",
       "\n",
       "    this.ws.onmessage = this._make_on_message_function(this);\n",
       "\n",
       "    this.ondownload = ondownload;\n",
       "}\n",
       "\n",
       "mpl.figure.prototype._init_header = function() {\n",
       "    var titlebar = $(\n",
       "        '<div class=\"ui-dialog-titlebar ui-widget-header ui-corner-all ' +\n",
       "        'ui-helper-clearfix\"/>');\n",
       "    var titletext = $(\n",
       "        '<div class=\"ui-dialog-title\" style=\"width: 100%; ' +\n",
       "        'text-align: center; padding: 3px;\"/>');\n",
       "    titlebar.append(titletext)\n",
       "    this.root.append(titlebar);\n",
       "    this.header = titletext[0];\n",
       "}\n",
       "\n",
       "\n",
       "\n",
       "mpl.figure.prototype._canvas_extra_style = function(canvas_div) {\n",
       "\n",
       "}\n",
       "\n",
       "\n",
       "mpl.figure.prototype._root_extra_style = function(canvas_div) {\n",
       "\n",
       "}\n",
       "\n",
       "mpl.figure.prototype._init_canvas = function() {\n",
       "    var fig = this;\n",
       "\n",
       "    var canvas_div = $('<div/>');\n",
       "\n",
       "    canvas_div.attr('style', 'position: relative; clear: both; outline: 0');\n",
       "\n",
       "    function canvas_keyboard_event(event) {\n",
       "        return fig.key_event(event, event['data']);\n",
       "    }\n",
       "\n",
       "    canvas_div.keydown('key_press', canvas_keyboard_event);\n",
       "    canvas_div.keyup('key_release', canvas_keyboard_event);\n",
       "    this.canvas_div = canvas_div\n",
       "    this._canvas_extra_style(canvas_div)\n",
       "    this.root.append(canvas_div);\n",
       "\n",
       "    var canvas = $('<canvas/>');\n",
       "    canvas.addClass('mpl-canvas');\n",
       "    canvas.attr('style', \"left: 0; top: 0; z-index: 0; outline: 0\")\n",
       "\n",
       "    this.canvas = canvas[0];\n",
       "    this.context = canvas[0].getContext(\"2d\");\n",
       "\n",
       "    var backingStore = this.context.backingStorePixelRatio ||\n",
       "\tthis.context.webkitBackingStorePixelRatio ||\n",
       "\tthis.context.mozBackingStorePixelRatio ||\n",
       "\tthis.context.msBackingStorePixelRatio ||\n",
       "\tthis.context.oBackingStorePixelRatio ||\n",
       "\tthis.context.backingStorePixelRatio || 1;\n",
       "\n",
       "    mpl.ratio = (window.devicePixelRatio || 1) / backingStore;\n",
       "\n",
       "    var rubberband = $('<canvas/>');\n",
       "    rubberband.attr('style', \"position: absolute; left: 0; top: 0; z-index: 1;\")\n",
       "\n",
       "    var pass_mouse_events = true;\n",
       "\n",
       "    canvas_div.resizable({\n",
       "        start: function(event, ui) {\n",
       "            pass_mouse_events = false;\n",
       "        },\n",
       "        resize: function(event, ui) {\n",
       "            fig.request_resize(ui.size.width, ui.size.height);\n",
       "        },\n",
       "        stop: function(event, ui) {\n",
       "            pass_mouse_events = true;\n",
       "            fig.request_resize(ui.size.width, ui.size.height);\n",
       "        },\n",
       "    });\n",
       "\n",
       "    function mouse_event_fn(event) {\n",
       "        if (pass_mouse_events)\n",
       "            return fig.mouse_event(event, event['data']);\n",
       "    }\n",
       "\n",
       "    rubberband.mousedown('button_press', mouse_event_fn);\n",
       "    rubberband.mouseup('button_release', mouse_event_fn);\n",
       "    // Throttle sequential mouse events to 1 every 20ms.\n",
       "    rubberband.mousemove('motion_notify', mouse_event_fn);\n",
       "\n",
       "    rubberband.mouseenter('figure_enter', mouse_event_fn);\n",
       "    rubberband.mouseleave('figure_leave', mouse_event_fn);\n",
       "\n",
       "    canvas_div.on(\"wheel\", function (event) {\n",
       "        event = event.originalEvent;\n",
       "        event['data'] = 'scroll'\n",
       "        if (event.deltaY < 0) {\n",
       "            event.step = 1;\n",
       "        } else {\n",
       "            event.step = -1;\n",
       "        }\n",
       "        mouse_event_fn(event);\n",
       "    });\n",
       "\n",
       "    canvas_div.append(canvas);\n",
       "    canvas_div.append(rubberband);\n",
       "\n",
       "    this.rubberband = rubberband;\n",
       "    this.rubberband_canvas = rubberband[0];\n",
       "    this.rubberband_context = rubberband[0].getContext(\"2d\");\n",
       "    this.rubberband_context.strokeStyle = \"#000000\";\n",
       "\n",
       "    this._resize_canvas = function(width, height) {\n",
       "        // Keep the size of the canvas, canvas container, and rubber band\n",
       "        // canvas in synch.\n",
       "        canvas_div.css('width', width)\n",
       "        canvas_div.css('height', height)\n",
       "\n",
       "        canvas.attr('width', width * mpl.ratio);\n",
       "        canvas.attr('height', height * mpl.ratio);\n",
       "        canvas.attr('style', 'width: ' + width + 'px; height: ' + height + 'px;');\n",
       "\n",
       "        rubberband.attr('width', width);\n",
       "        rubberband.attr('height', height);\n",
       "    }\n",
       "\n",
       "    // Set the figure to an initial 600x600px, this will subsequently be updated\n",
       "    // upon first draw.\n",
       "    this._resize_canvas(600, 600);\n",
       "\n",
       "    // Disable right mouse context menu.\n",
       "    $(this.rubberband_canvas).bind(\"contextmenu\",function(e){\n",
       "        return false;\n",
       "    });\n",
       "\n",
       "    function set_focus () {\n",
       "        canvas.focus();\n",
       "        canvas_div.focus();\n",
       "    }\n",
       "\n",
       "    window.setTimeout(set_focus, 100);\n",
       "}\n",
       "\n",
       "mpl.figure.prototype._init_toolbar = function() {\n",
       "    var fig = this;\n",
       "\n",
       "    var nav_element = $('<div/>');\n",
       "    nav_element.attr('style', 'width: 100%');\n",
       "    this.root.append(nav_element);\n",
       "\n",
       "    // Define a callback function for later on.\n",
       "    function toolbar_event(event) {\n",
       "        return fig.toolbar_button_onclick(event['data']);\n",
       "    }\n",
       "    function toolbar_mouse_event(event) {\n",
       "        return fig.toolbar_button_onmouseover(event['data']);\n",
       "    }\n",
       "\n",
       "    for(var toolbar_ind in mpl.toolbar_items) {\n",
       "        var name = mpl.toolbar_items[toolbar_ind][0];\n",
       "        var tooltip = mpl.toolbar_items[toolbar_ind][1];\n",
       "        var image = mpl.toolbar_items[toolbar_ind][2];\n",
       "        var method_name = mpl.toolbar_items[toolbar_ind][3];\n",
       "\n",
       "        if (!name) {\n",
       "            // put a spacer in here.\n",
       "            continue;\n",
       "        }\n",
       "        var button = $('<button/>');\n",
       "        button.addClass('ui-button ui-widget ui-state-default ui-corner-all ' +\n",
       "                        'ui-button-icon-only');\n",
       "        button.attr('role', 'button');\n",
       "        button.attr('aria-disabled', 'false');\n",
       "        button.click(method_name, toolbar_event);\n",
       "        button.mouseover(tooltip, toolbar_mouse_event);\n",
       "\n",
       "        var icon_img = $('<span/>');\n",
       "        icon_img.addClass('ui-button-icon-primary ui-icon');\n",
       "        icon_img.addClass(image);\n",
       "        icon_img.addClass('ui-corner-all');\n",
       "\n",
       "        var tooltip_span = $('<span/>');\n",
       "        tooltip_span.addClass('ui-button-text');\n",
       "        tooltip_span.html(tooltip);\n",
       "\n",
       "        button.append(icon_img);\n",
       "        button.append(tooltip_span);\n",
       "\n",
       "        nav_element.append(button);\n",
       "    }\n",
       "\n",
       "    var fmt_picker_span = $('<span/>');\n",
       "\n",
       "    var fmt_picker = $('<select/>');\n",
       "    fmt_picker.addClass('mpl-toolbar-option ui-widget ui-widget-content');\n",
       "    fmt_picker_span.append(fmt_picker);\n",
       "    nav_element.append(fmt_picker_span);\n",
       "    this.format_dropdown = fmt_picker[0];\n",
       "\n",
       "    for (var ind in mpl.extensions) {\n",
       "        var fmt = mpl.extensions[ind];\n",
       "        var option = $(\n",
       "            '<option/>', {selected: fmt === mpl.default_extension}).html(fmt);\n",
       "        fmt_picker.append(option);\n",
       "    }\n",
       "\n",
       "    // Add hover states to the ui-buttons\n",
       "    $( \".ui-button\" ).hover(\n",
       "        function() { $(this).addClass(\"ui-state-hover\");},\n",
       "        function() { $(this).removeClass(\"ui-state-hover\");}\n",
       "    );\n",
       "\n",
       "    var status_bar = $('<span class=\"mpl-message\"/>');\n",
       "    nav_element.append(status_bar);\n",
       "    this.message = status_bar[0];\n",
       "}\n",
       "\n",
       "mpl.figure.prototype.request_resize = function(x_pixels, y_pixels) {\n",
       "    // Request matplotlib to resize the figure. Matplotlib will then trigger a resize in the client,\n",
       "    // which will in turn request a refresh of the image.\n",
       "    this.send_message('resize', {'width': x_pixels, 'height': y_pixels});\n",
       "}\n",
       "\n",
       "mpl.figure.prototype.send_message = function(type, properties) {\n",
       "    properties['type'] = type;\n",
       "    properties['figure_id'] = this.id;\n",
       "    this.ws.send(JSON.stringify(properties));\n",
       "}\n",
       "\n",
       "mpl.figure.prototype.send_draw_message = function() {\n",
       "    if (!this.waiting) {\n",
       "        this.waiting = true;\n",
       "        this.ws.send(JSON.stringify({type: \"draw\", figure_id: this.id}));\n",
       "    }\n",
       "}\n",
       "\n",
       "\n",
       "mpl.figure.prototype.handle_save = function(fig, msg) {\n",
       "    var format_dropdown = fig.format_dropdown;\n",
       "    var format = format_dropdown.options[format_dropdown.selectedIndex].value;\n",
       "    fig.ondownload(fig, format);\n",
       "}\n",
       "\n",
       "\n",
       "mpl.figure.prototype.handle_resize = function(fig, msg) {\n",
       "    var size = msg['size'];\n",
       "    if (size[0] != fig.canvas.width || size[1] != fig.canvas.height) {\n",
       "        fig._resize_canvas(size[0], size[1]);\n",
       "        fig.send_message(\"refresh\", {});\n",
       "    };\n",
       "}\n",
       "\n",
       "mpl.figure.prototype.handle_rubberband = function(fig, msg) {\n",
       "    var x0 = msg['x0'] / mpl.ratio;\n",
       "    var y0 = (fig.canvas.height - msg['y0']) / mpl.ratio;\n",
       "    var x1 = msg['x1'] / mpl.ratio;\n",
       "    var y1 = (fig.canvas.height - msg['y1']) / mpl.ratio;\n",
       "    x0 = Math.floor(x0) + 0.5;\n",
       "    y0 = Math.floor(y0) + 0.5;\n",
       "    x1 = Math.floor(x1) + 0.5;\n",
       "    y1 = Math.floor(y1) + 0.5;\n",
       "    var min_x = Math.min(x0, x1);\n",
       "    var min_y = Math.min(y0, y1);\n",
       "    var width = Math.abs(x1 - x0);\n",
       "    var height = Math.abs(y1 - y0);\n",
       "\n",
       "    fig.rubberband_context.clearRect(\n",
       "        0, 0, fig.canvas.width / mpl.ratio, fig.canvas.height / mpl.ratio);\n",
       "\n",
       "    fig.rubberband_context.strokeRect(min_x, min_y, width, height);\n",
       "}\n",
       "\n",
       "mpl.figure.prototype.handle_figure_label = function(fig, msg) {\n",
       "    // Updates the figure title.\n",
       "    fig.header.textContent = msg['label'];\n",
       "}\n",
       "\n",
       "mpl.figure.prototype.handle_cursor = function(fig, msg) {\n",
       "    var cursor = msg['cursor'];\n",
       "    switch(cursor)\n",
       "    {\n",
       "    case 0:\n",
       "        cursor = 'pointer';\n",
       "        break;\n",
       "    case 1:\n",
       "        cursor = 'default';\n",
       "        break;\n",
       "    case 2:\n",
       "        cursor = 'crosshair';\n",
       "        break;\n",
       "    case 3:\n",
       "        cursor = 'move';\n",
       "        break;\n",
       "    }\n",
       "    fig.rubberband_canvas.style.cursor = cursor;\n",
       "}\n",
       "\n",
       "mpl.figure.prototype.handle_message = function(fig, msg) {\n",
       "    fig.message.textContent = msg['message'];\n",
       "}\n",
       "\n",
       "mpl.figure.prototype.handle_draw = function(fig, msg) {\n",
       "    // Request the server to send over a new figure.\n",
       "    fig.send_draw_message();\n",
       "}\n",
       "\n",
       "mpl.figure.prototype.handle_image_mode = function(fig, msg) {\n",
       "    fig.image_mode = msg['mode'];\n",
       "}\n",
       "\n",
       "mpl.figure.prototype.updated_canvas_event = function() {\n",
       "    // Called whenever the canvas gets updated.\n",
       "    this.send_message(\"ack\", {});\n",
       "}\n",
       "\n",
       "// A function to construct a web socket function for onmessage handling.\n",
       "// Called in the figure constructor.\n",
       "mpl.figure.prototype._make_on_message_function = function(fig) {\n",
       "    return function socket_on_message(evt) {\n",
       "        if (evt.data instanceof Blob) {\n",
       "            /* FIXME: We get \"Resource interpreted as Image but\n",
       "             * transferred with MIME type text/plain:\" errors on\n",
       "             * Chrome.  But how to set the MIME type?  It doesn't seem\n",
       "             * to be part of the websocket stream */\n",
       "            evt.data.type = \"image/png\";\n",
       "\n",
       "            /* Free the memory for the previous frames */\n",
       "            if (fig.imageObj.src) {\n",
       "                (window.URL || window.webkitURL).revokeObjectURL(\n",
       "                    fig.imageObj.src);\n",
       "            }\n",
       "\n",
       "            fig.imageObj.src = (window.URL || window.webkitURL).createObjectURL(\n",
       "                evt.data);\n",
       "            fig.updated_canvas_event();\n",
       "            fig.waiting = false;\n",
       "            return;\n",
       "        }\n",
       "        else if (typeof evt.data === 'string' && evt.data.slice(0, 21) == \"data:image/png;base64\") {\n",
       "            fig.imageObj.src = evt.data;\n",
       "            fig.updated_canvas_event();\n",
       "            fig.waiting = false;\n",
       "            return;\n",
       "        }\n",
       "\n",
       "        var msg = JSON.parse(evt.data);\n",
       "        var msg_type = msg['type'];\n",
       "\n",
       "        // Call the  \"handle_{type}\" callback, which takes\n",
       "        // the figure and JSON message as its only arguments.\n",
       "        try {\n",
       "            var callback = fig[\"handle_\" + msg_type];\n",
       "        } catch (e) {\n",
       "            console.log(\"No handler for the '\" + msg_type + \"' message type: \", msg);\n",
       "            return;\n",
       "        }\n",
       "\n",
       "        if (callback) {\n",
       "            try {\n",
       "                // console.log(\"Handling '\" + msg_type + \"' message: \", msg);\n",
       "                callback(fig, msg);\n",
       "            } catch (e) {\n",
       "                console.log(\"Exception inside the 'handler_\" + msg_type + \"' callback:\", e, e.stack, msg);\n",
       "            }\n",
       "        }\n",
       "    };\n",
       "}\n",
       "\n",
       "// from http://stackoverflow.com/questions/1114465/getting-mouse-location-in-canvas\n",
       "mpl.findpos = function(e) {\n",
       "    //this section is from http://www.quirksmode.org/js/events_properties.html\n",
       "    var targ;\n",
       "    if (!e)\n",
       "        e = window.event;\n",
       "    if (e.target)\n",
       "        targ = e.target;\n",
       "    else if (e.srcElement)\n",
       "        targ = e.srcElement;\n",
       "    if (targ.nodeType == 3) // defeat Safari bug\n",
       "        targ = targ.parentNode;\n",
       "\n",
       "    // jQuery normalizes the pageX and pageY\n",
       "    // pageX,Y are the mouse positions relative to the document\n",
       "    // offset() returns the position of the element relative to the document\n",
       "    var x = e.pageX - $(targ).offset().left;\n",
       "    var y = e.pageY - $(targ).offset().top;\n",
       "\n",
       "    return {\"x\": x, \"y\": y};\n",
       "};\n",
       "\n",
       "/*\n",
       " * return a copy of an object with only non-object keys\n",
       " * we need this to avoid circular references\n",
       " * http://stackoverflow.com/a/24161582/3208463\n",
       " */\n",
       "function simpleKeys (original) {\n",
       "  return Object.keys(original).reduce(function (obj, key) {\n",
       "    if (typeof original[key] !== 'object')\n",
       "        obj[key] = original[key]\n",
       "    return obj;\n",
       "  }, {});\n",
       "}\n",
       "\n",
       "mpl.figure.prototype.mouse_event = function(event, name) {\n",
       "    var canvas_pos = mpl.findpos(event)\n",
       "\n",
       "    if (name === 'button_press')\n",
       "    {\n",
       "        this.canvas.focus();\n",
       "        this.canvas_div.focus();\n",
       "    }\n",
       "\n",
       "    var x = canvas_pos.x * mpl.ratio;\n",
       "    var y = canvas_pos.y * mpl.ratio;\n",
       "\n",
       "    this.send_message(name, {x: x, y: y, button: event.button,\n",
       "                             step: event.step,\n",
       "                             guiEvent: simpleKeys(event)});\n",
       "\n",
       "    /* This prevents the web browser from automatically changing to\n",
       "     * the text insertion cursor when the button is pressed.  We want\n",
       "     * to control all of the cursor setting manually through the\n",
       "     * 'cursor' event from matplotlib */\n",
       "    event.preventDefault();\n",
       "    return false;\n",
       "}\n",
       "\n",
       "mpl.figure.prototype._key_event_extra = function(event, name) {\n",
       "    // Handle any extra behaviour associated with a key event\n",
       "}\n",
       "\n",
       "mpl.figure.prototype.key_event = function(event, name) {\n",
       "\n",
       "    // Prevent repeat events\n",
       "    if (name == 'key_press')\n",
       "    {\n",
       "        if (event.which === this._key)\n",
       "            return;\n",
       "        else\n",
       "            this._key = event.which;\n",
       "    }\n",
       "    if (name == 'key_release')\n",
       "        this._key = null;\n",
       "\n",
       "    var value = '';\n",
       "    if (event.ctrlKey && event.which != 17)\n",
       "        value += \"ctrl+\";\n",
       "    if (event.altKey && event.which != 18)\n",
       "        value += \"alt+\";\n",
       "    if (event.shiftKey && event.which != 16)\n",
       "        value += \"shift+\";\n",
       "\n",
       "    value += 'k';\n",
       "    value += event.which.toString();\n",
       "\n",
       "    this._key_event_extra(event, name);\n",
       "\n",
       "    this.send_message(name, {key: value,\n",
       "                             guiEvent: simpleKeys(event)});\n",
       "    return false;\n",
       "}\n",
       "\n",
       "mpl.figure.prototype.toolbar_button_onclick = function(name) {\n",
       "    if (name == 'download') {\n",
       "        this.handle_save(this, null);\n",
       "    } else {\n",
       "        this.send_message(\"toolbar_button\", {name: name});\n",
       "    }\n",
       "};\n",
       "\n",
       "mpl.figure.prototype.toolbar_button_onmouseover = function(tooltip) {\n",
       "    this.message.textContent = tooltip;\n",
       "};\n",
       "mpl.toolbar_items = [[\"Home\", \"Reset original view\", \"fa fa-home icon-home\", \"home\"], [\"Back\", \"Back to previous view\", \"fa fa-arrow-left icon-arrow-left\", \"back\"], [\"Forward\", \"Forward to next view\", \"fa fa-arrow-right icon-arrow-right\", \"forward\"], [\"\", \"\", \"\", \"\"], [\"Pan\", \"Pan axes with left mouse, zoom with right\", \"fa fa-arrows icon-move\", \"pan\"], [\"Zoom\", \"Zoom to rectangle\", \"fa fa-square-o icon-check-empty\", \"zoom\"], [\"\", \"\", \"\", \"\"], [\"Download\", \"Download plot\", \"fa fa-floppy-o icon-save\", \"download\"]];\n",
       "\n",
       "mpl.extensions = [\"eps\", \"jpeg\", \"pdf\", \"png\", \"ps\", \"raw\", \"svg\", \"tif\"];\n",
       "\n",
       "mpl.default_extension = \"png\";var comm_websocket_adapter = function(comm) {\n",
       "    // Create a \"websocket\"-like object which calls the given IPython comm\n",
       "    // object with the appropriate methods. Currently this is a non binary\n",
       "    // socket, so there is still some room for performance tuning.\n",
       "    var ws = {};\n",
       "\n",
       "    ws.close = function() {\n",
       "        comm.close()\n",
       "    };\n",
       "    ws.send = function(m) {\n",
       "        //console.log('sending', m);\n",
       "        comm.send(m);\n",
       "    };\n",
       "    // Register the callback with on_msg.\n",
       "    comm.on_msg(function(msg) {\n",
       "        //console.log('receiving', msg['content']['data'], msg);\n",
       "        // Pass the mpl event to the overridden (by mpl) onmessage function.\n",
       "        ws.onmessage(msg['content']['data'])\n",
       "    });\n",
       "    return ws;\n",
       "}\n",
       "\n",
       "mpl.mpl_figure_comm = function(comm, msg) {\n",
       "    // This is the function which gets called when the mpl process\n",
       "    // starts-up an IPython Comm through the \"matplotlib\" channel.\n",
       "\n",
       "    var id = msg.content.data.id;\n",
       "    // Get hold of the div created by the display call when the Comm\n",
       "    // socket was opened in Python.\n",
       "    var element = $(\"#\" + id);\n",
       "    var ws_proxy = comm_websocket_adapter(comm)\n",
       "\n",
       "    function ondownload(figure, format) {\n",
       "        window.open(figure.imageObj.src);\n",
       "    }\n",
       "\n",
       "    var fig = new mpl.figure(id, ws_proxy,\n",
       "                           ondownload,\n",
       "                           element.get(0));\n",
       "\n",
       "    // Call onopen now - mpl needs it, as it is assuming we've passed it a real\n",
       "    // web socket which is closed, not our websocket->open comm proxy.\n",
       "    ws_proxy.onopen();\n",
       "\n",
       "    fig.parent_element = element.get(0);\n",
       "    fig.cell_info = mpl.find_output_cell(\"<div id='\" + id + \"'></div>\");\n",
       "    if (!fig.cell_info) {\n",
       "        console.error(\"Failed to find cell for figure\", id, fig);\n",
       "        return;\n",
       "    }\n",
       "\n",
       "    var output_index = fig.cell_info[2]\n",
       "    var cell = fig.cell_info[0];\n",
       "\n",
       "};\n",
       "\n",
       "mpl.figure.prototype.handle_close = function(fig, msg) {\n",
       "    var width = fig.canvas.width/mpl.ratio\n",
       "    fig.root.unbind('remove')\n",
       "\n",
       "    // Update the output cell to use the data from the current canvas.\n",
       "    fig.push_to_output();\n",
       "    var dataURL = fig.canvas.toDataURL();\n",
       "    // Re-enable the keyboard manager in IPython - without this line, in FF,\n",
       "    // the notebook keyboard shortcuts fail.\n",
       "    IPython.keyboard_manager.enable()\n",
       "    $(fig.parent_element).html('<img src=\"' + dataURL + '\" width=\"' + width + '\">');\n",
       "    fig.close_ws(fig, msg);\n",
       "}\n",
       "\n",
       "mpl.figure.prototype.close_ws = function(fig, msg){\n",
       "    fig.send_message('closing', msg);\n",
       "    // fig.ws.close()\n",
       "}\n",
       "\n",
       "mpl.figure.prototype.push_to_output = function(remove_interactive) {\n",
       "    // Turn the data on the canvas into data in the output cell.\n",
       "    var width = this.canvas.width/mpl.ratio\n",
       "    var dataURL = this.canvas.toDataURL();\n",
       "    this.cell_info[1]['text/html'] = '<img src=\"' + dataURL + '\" width=\"' + width + '\">';\n",
       "}\n",
       "\n",
       "mpl.figure.prototype.updated_canvas_event = function() {\n",
       "    // Tell IPython that the notebook contents must change.\n",
       "    IPython.notebook.set_dirty(true);\n",
       "    this.send_message(\"ack\", {});\n",
       "    var fig = this;\n",
       "    // Wait a second, then push the new image to the DOM so\n",
       "    // that it is saved nicely (might be nice to debounce this).\n",
       "    setTimeout(function () { fig.push_to_output() }, 1000);\n",
       "}\n",
       "\n",
       "mpl.figure.prototype._init_toolbar = function() {\n",
       "    var fig = this;\n",
       "\n",
       "    var nav_element = $('<div/>');\n",
       "    nav_element.attr('style', 'width: 100%');\n",
       "    this.root.append(nav_element);\n",
       "\n",
       "    // Define a callback function for later on.\n",
       "    function toolbar_event(event) {\n",
       "        return fig.toolbar_button_onclick(event['data']);\n",
       "    }\n",
       "    function toolbar_mouse_event(event) {\n",
       "        return fig.toolbar_button_onmouseover(event['data']);\n",
       "    }\n",
       "\n",
       "    for(var toolbar_ind in mpl.toolbar_items){\n",
       "        var name = mpl.toolbar_items[toolbar_ind][0];\n",
       "        var tooltip = mpl.toolbar_items[toolbar_ind][1];\n",
       "        var image = mpl.toolbar_items[toolbar_ind][2];\n",
       "        var method_name = mpl.toolbar_items[toolbar_ind][3];\n",
       "\n",
       "        if (!name) { continue; };\n",
       "\n",
       "        var button = $('<button class=\"btn btn-default\" href=\"#\" title=\"' + name + '\"><i class=\"fa ' + image + ' fa-lg\"></i></button>');\n",
       "        button.click(method_name, toolbar_event);\n",
       "        button.mouseover(tooltip, toolbar_mouse_event);\n",
       "        nav_element.append(button);\n",
       "    }\n",
       "\n",
       "    // Add the status bar.\n",
       "    var status_bar = $('<span class=\"mpl-message\" style=\"text-align:right; float: right;\"/>');\n",
       "    nav_element.append(status_bar);\n",
       "    this.message = status_bar[0];\n",
       "\n",
       "    // Add the close button to the window.\n",
       "    var buttongrp = $('<div class=\"btn-group inline pull-right\"></div>');\n",
       "    var button = $('<button class=\"btn btn-mini btn-primary\" href=\"#\" title=\"Stop Interaction\"><i class=\"fa fa-power-off icon-remove icon-large\"></i></button>');\n",
       "    button.click(function (evt) { fig.handle_close(fig, {}); } );\n",
       "    button.mouseover('Stop Interaction', toolbar_mouse_event);\n",
       "    buttongrp.append(button);\n",
       "    var titlebar = this.root.find($('.ui-dialog-titlebar'));\n",
       "    titlebar.prepend(buttongrp);\n",
       "}\n",
       "\n",
       "mpl.figure.prototype._root_extra_style = function(el){\n",
       "    var fig = this\n",
       "    el.on(\"remove\", function(){\n",
       "\tfig.close_ws(fig, {});\n",
       "    });\n",
       "}\n",
       "\n",
       "mpl.figure.prototype._canvas_extra_style = function(el){\n",
       "    // this is important to make the div 'focusable\n",
       "    el.attr('tabindex', 0)\n",
       "    // reach out to IPython and tell the keyboard manager to turn it's self\n",
       "    // off when our div gets focus\n",
       "\n",
       "    // location in version 3\n",
       "    if (IPython.notebook.keyboard_manager) {\n",
       "        IPython.notebook.keyboard_manager.register_events(el);\n",
       "    }\n",
       "    else {\n",
       "        // location in version 2\n",
       "        IPython.keyboard_manager.register_events(el);\n",
       "    }\n",
       "\n",
       "}\n",
       "\n",
       "mpl.figure.prototype._key_event_extra = function(event, name) {\n",
       "    var manager = IPython.notebook.keyboard_manager;\n",
       "    if (!manager)\n",
       "        manager = IPython.keyboard_manager;\n",
       "\n",
       "    // Check for shift+enter\n",
       "    if (event.shiftKey && event.which == 13) {\n",
       "        this.canvas_div.blur();\n",
       "        // select the cell after this one\n",
       "        var index = IPython.notebook.find_cell_index(this.cell_info[0]);\n",
       "        IPython.notebook.select(index + 1);\n",
       "    }\n",
       "}\n",
       "\n",
       "mpl.figure.prototype.handle_save = function(fig, msg) {\n",
       "    fig.ondownload(fig, null);\n",
       "}\n",
       "\n",
       "\n",
       "mpl.find_output_cell = function(html_output) {\n",
       "    // Return the cell and output element which can be found *uniquely* in the notebook.\n",
       "    // Note - this is a bit hacky, but it is done because the \"notebook_saving.Notebook\"\n",
       "    // IPython event is triggered only after the cells have been serialised, which for\n",
       "    // our purposes (turning an active figure into a static one), is too late.\n",
       "    var cells = IPython.notebook.get_cells();\n",
       "    var ncells = cells.length;\n",
       "    for (var i=0; i<ncells; i++) {\n",
       "        var cell = cells[i];\n",
       "        if (cell.cell_type === 'code'){\n",
       "            for (var j=0; j<cell.output_area.outputs.length; j++) {\n",
       "                var data = cell.output_area.outputs[j];\n",
       "                if (data.data) {\n",
       "                    // IPython >= 3 moved mimebundle to data attribute of output\n",
       "                    data = data.data;\n",
       "                }\n",
       "                if (data['text/html'] == html_output) {\n",
       "                    return [cell, data, j];\n",
       "                }\n",
       "            }\n",
       "        }\n",
       "    }\n",
       "}\n",
       "\n",
       "// Register the function which deals with the matplotlib target/channel.\n",
       "// The kernel may be null if the page has been refreshed.\n",
       "if (IPython.notebook.kernel != null) {\n",
       "    IPython.notebook.kernel.comm_manager.register_target('matplotlib', mpl.mpl_figure_comm);\n",
       "}\n"
      ],
      "text/plain": [
       "<IPython.core.display.Javascript object>"
      ]
     },
     "metadata": {},
     "output_type": "display_data"
    },
    {
     "data": {
      "text/html": [
       "<img src=\"data:image/png;base64,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\" width=\"999.4166666666666\">"
      ],
      "text/plain": [
       "<IPython.core.display.HTML object>"
      ]
     },
     "metadata": {},
     "output_type": "display_data"
    }
   ],
   "source": [
    "# Sort the data with the good intervals of time to process them\n",
    "\n",
    "%matplotlib notebook\n",
    "tfuu = importlib.reload(tfuu)\n",
    "#path = \"./data/total_station/20220523/\"\n",
    "path = \"./data/raw_data/20220316/\"\n",
    "\n",
    "time_trimble_1, trimble_1 = tfuu.read_point_data_csv_file(path+\"trimble1.csv\")\n",
    "time_trimble_2, trimble_2 = tfuu.read_point_data_csv_file(path+\"trimble2.csv\")\n",
    "time_trimble_3, trimble_3 = tfuu.read_point_data_csv_file(path+\"trimble3.csv\")\n",
    "\n",
    "# Work on the data with 3 prisms and 3 theodolites\n",
    "tfu = importlib.reload(tfu)\n",
    "# Slipt the data into different interval according to the timestamps of the measurements\n",
    "limit_time_interval = 1    #3 seconds max\n",
    "list_interval, list_time = tfu.split_time_interval_all_data(time_trimble_1, time_trimble_2, time_trimble_3, limit_time_interval)\n",
    "# Keep only the intervals where the three theodlites have done some measurements at the same time\n",
    "limit_search = 1\n",
    "#print(list_interval[2])\n",
    "list_trajectories_split = tfu.merge_interval(list_interval, list_time, time_trimble_1, time_trimble_2, time_trimble_3, limit_search)\n",
    "print(\"Number sub-trajectories:\",len(list_trajectories_split))\n",
    "# Plot subtrajectory for debug\n",
    "tfu.plot_subtrajectory_result(0, list_trajectories_split, trimble_1, trimble_2, trimble_3)"
   ]
  },
  {
   "cell_type": "code",
   "execution_count": 4,
   "id": "8d8e2616",
   "metadata": {},
   "outputs": [
    {
     "name": "stdout",
     "output_type": "stream",
     "text": [
      "[[ 1  0  0]\n",
      " [41 40 40]]\n",
      "40 40 40\n",
      "1647471762.4704554\n"
     ]
    }
   ],
   "source": [
    "# Show first sub-trajectory\n",
    "\n",
    "po=list_trajectories_split[0]\n",
    "print(po)\n",
    "print(len(trimble_1[1,po[0,0]:po[1,0]]),len(trimble_2[1,po[0,1]:po[1,1]]),len(trimble_3[1,po[0,2]:po[1,2]]))\n",
    "print(min(time_trimble_1[po[0,0]],time_trimble_2[po[0,1]],time_trimble_3[po[0,2]]))\n",
    "#print(max(time_trimble_1[po[1,0]],time_trimble_2[po[1,1]],time_trimble_3[po[1,2]]))"
   ]
  },
  {
   "cell_type": "code",
   "execution_count": 5,
   "id": "19d2fe01",
   "metadata": {
    "scrolled": true
   },
   "outputs": [
    {
     "name": "stderr",
     "output_type": "stream",
     "text": [
      "\r",
      "  0%|          | 0/152 [00:00<?, ?it/s]"
     ]
    },
    {
     "name": "stdout",
     "output_type": "stream",
     "text": [
      "Training\n",
      "Prediction\n"
     ]
    },
    {
     "name": "stderr",
     "output_type": "stream",
     "text": [
      "\r",
      "  1%|          | 1/152 [00:16<42:34, 16.91s/it]"
     ]
    },
    {
     "name": "stdout",
     "output_type": "stream",
     "text": [
      "Training\n",
      "Prediction\n"
     ]
    },
    {
     "name": "stderr",
     "output_type": "stream",
     "text": [
      "\r",
      "  1%|▏         | 2/152 [00:31<39:28, 15.79s/it]"
     ]
    },
    {
     "name": "stdout",
     "output_type": "stream",
     "text": [
      "Training\n",
      "Prediction\n"
     ]
    },
    {
     "name": "stderr",
     "output_type": "stream",
     "text": [
      "\r",
      "  3%|▎         | 5/152 [00:42<17:24,  7.11s/it]"
     ]
    },
    {
     "name": "stdout",
     "output_type": "stream",
     "text": [
      "Training\n"
     ]
    },
    {
     "name": "stderr",
     "output_type": "stream",
     "text": [
      "\r",
      "  5%|▌         | 8/152 [00:58<14:34,  6.07s/it]"
     ]
    },
    {
     "name": "stdout",
     "output_type": "stream",
     "text": [
      "Prediction\n",
      "Training\n",
      "Prediction\n"
     ]
    },
    {
     "name": "stderr",
     "output_type": "stream",
     "text": [
      "\r",
      "  7%|▋         | 11/152 [01:10<12:21,  5.26s/it]"
     ]
    },
    {
     "name": "stdout",
     "output_type": "stream",
     "text": [
      "Training\n",
      "Prediction\n"
     ]
    },
    {
     "name": "stderr",
     "output_type": "stream",
     "text": [
      "\r",
      "  8%|▊         | 12/152 [01:23<15:23,  6.60s/it]"
     ]
    },
    {
     "name": "stdout",
     "output_type": "stream",
     "text": [
      "Training\n"
     ]
    },
    {
     "name": "stderr",
     "output_type": "stream",
     "text": [
      "\r",
      "  9%|▊         | 13/152 [01:36<17:50,  7.70s/it]"
     ]
    },
    {
     "name": "stdout",
     "output_type": "stream",
     "text": [
      "Prediction\n",
      "Training\n",
      "Prediction\n"
     ]
    },
    {
     "name": "stderr",
     "output_type": "stream",
     "text": [
      "\r",
      " 11%|█         | 17/152 [01:49<12:09,  5.40s/it]"
     ]
    },
    {
     "name": "stdout",
     "output_type": "stream",
     "text": [
      "Training\n",
      "Prediction\n"
     ]
    },
    {
     "name": "stderr",
     "output_type": "stream",
     "text": [
      "\r",
      " 12%|█▏        | 18/152 [02:02<14:57,  6.70s/it]"
     ]
    },
    {
     "name": "stdout",
     "output_type": "stream",
     "text": [
      "Training\n",
      "Prediction\n"
     ]
    },
    {
     "name": "stderr",
     "output_type": "stream",
     "text": [
      "\r",
      " 12%|█▎        | 19/152 [02:16<17:28,  7.89s/it]"
     ]
    },
    {
     "name": "stdout",
     "output_type": "stream",
     "text": [
      "Training\n"
     ]
    },
    {
     "name": "stderr",
     "output_type": "stream",
     "text": [
      "\r",
      " 13%|█▎        | 20/152 [02:29<19:37,  8.92s/it]"
     ]
    },
    {
     "name": "stdout",
     "output_type": "stream",
     "text": [
      "Prediction\n",
      "Training\n"
     ]
    },
    {
     "name": "stderr",
     "output_type": "stream",
     "text": [
      "\r",
      " 14%|█▍        | 21/152 [02:41<21:12,  9.72s/it]"
     ]
    },
    {
     "name": "stdout",
     "output_type": "stream",
     "text": [
      "Prediction\n",
      "Training\n",
      "Prediction\n"
     ]
    },
    {
     "name": "stderr",
     "output_type": "stream",
     "text": [
      "\r",
      " 14%|█▍        | 22/152 [02:54<22:43, 10.49s/it]"
     ]
    },
    {
     "name": "stdout",
     "output_type": "stream",
     "text": [
      "Training\n",
      "Prediction\n"
     ]
    },
    {
     "name": "stderr",
     "output_type": "stream",
     "text": [
      "\r",
      " 15%|█▌        | 23/152 [03:09<25:05, 11.67s/it]"
     ]
    },
    {
     "name": "stdout",
     "output_type": "stream",
     "text": [
      "Training\n"
     ]
    },
    {
     "name": "stderr",
     "output_type": "stream",
     "text": [
      "\r",
      " 16%|█▌        | 24/152 [03:23<26:23, 12.37s/it]"
     ]
    },
    {
     "name": "stdout",
     "output_type": "stream",
     "text": [
      "Prediction\n",
      "Training\n",
      "Prediction\n"
     ]
    },
    {
     "name": "stderr",
     "output_type": "stream",
     "text": [
      "\r",
      " 17%|█▋        | 26/152 [03:38<21:19, 10.16s/it]"
     ]
    },
    {
     "name": "stdout",
     "output_type": "stream",
     "text": [
      "Training\n",
      "Prediction\n"
     ]
    },
    {
     "name": "stderr",
     "output_type": "stream",
     "text": [
      "\r",
      " 18%|█▊        | 27/152 [03:55<24:43, 11.87s/it]"
     ]
    },
    {
     "name": "stdout",
     "output_type": "stream",
     "text": [
      "Training\n",
      "Prediction\n"
     ]
    },
    {
     "name": "stderr",
     "output_type": "stream",
     "text": [
      "\r",
      " 19%|█▉        | 29/152 [04:10<20:45, 10.13s/it]"
     ]
    },
    {
     "name": "stdout",
     "output_type": "stream",
     "text": [
      "Training\n",
      "Prediction\n"
     ]
    },
    {
     "name": "stderr",
     "output_type": "stream",
     "text": [
      "\r",
      " 22%|██▏       | 34/152 [04:25<11:35,  5.90s/it]"
     ]
    },
    {
     "name": "stdout",
     "output_type": "stream",
     "text": [
      "Training\n",
      "Prediction\n"
     ]
    },
    {
     "name": "stderr",
     "output_type": "stream",
     "text": [
      "\r",
      " 23%|██▎       | 35/152 [04:38<13:28,  6.91s/it]"
     ]
    },
    {
     "name": "stdout",
     "output_type": "stream",
     "text": [
      "Training\n"
     ]
    },
    {
     "name": "stderr",
     "output_type": "stream",
     "text": [
      "\r",
      " 25%|██▌       | 38/152 [04:52<11:35,  6.10s/it]"
     ]
    },
    {
     "name": "stdout",
     "output_type": "stream",
     "text": [
      "Prediction\n",
      "Training\n",
      "Prediction\n"
     ]
    },
    {
     "name": "stderr",
     "output_type": "stream",
     "text": [
      "\r",
      " 31%|███       | 47/152 [05:08<05:58,  3.41s/it]"
     ]
    },
    {
     "name": "stdout",
     "output_type": "stream",
     "text": [
      "Training\n",
      "Prediction\n"
     ]
    },
    {
     "name": "stderr",
     "output_type": "stream",
     "text": [
      "\r",
      " 33%|███▎      | 50/152 [05:27<06:54,  4.06s/it]"
     ]
    },
    {
     "name": "stdout",
     "output_type": "stream",
     "text": [
      "Training\n",
      "Prediction\n"
     ]
    },
    {
     "name": "stderr",
     "output_type": "stream",
     "text": [
      "\r",
      " 36%|███▌      | 54/152 [05:43<06:36,  4.05s/it]"
     ]
    },
    {
     "name": "stdout",
     "output_type": "stream",
     "text": [
      "Training\n",
      "Prediction\n"
     ]
    },
    {
     "name": "stderr",
     "output_type": "stream",
     "text": [
      "\r",
      " 36%|███▌      | 55/152 [06:25<12:31,  7.75s/it]"
     ]
    },
    {
     "name": "stdout",
     "output_type": "stream",
     "text": [
      "Training\n"
     ]
    },
    {
     "name": "stderr",
     "output_type": "stream",
     "text": [
      "\r",
      " 38%|███▊      | 57/152 [06:41<12:16,  7.75s/it]"
     ]
    },
    {
     "name": "stdout",
     "output_type": "stream",
     "text": [
      "Prediction\n",
      "Training\n"
     ]
    },
    {
     "name": "stderr",
     "output_type": "stream",
     "text": [
      "\r",
      " 39%|███▉      | 60/152 [06:55<10:29,  6.84s/it]"
     ]
    },
    {
     "name": "stdout",
     "output_type": "stream",
     "text": [
      "Prediction\n",
      "Training\n",
      "Prediction\n"
     ]
    },
    {
     "name": "stderr",
     "output_type": "stream",
     "text": [
      "\r",
      " 40%|████      | 61/152 [07:12<12:22,  8.16s/it]"
     ]
    },
    {
     "name": "stdout",
     "output_type": "stream",
     "text": [
      "Training\n",
      "Prediction\n"
     ]
    },
    {
     "name": "stderr",
     "output_type": "stream",
     "text": [
      "\r",
      " 42%|████▏     | 64/152 [07:30<10:44,  7.33s/it]"
     ]
    },
    {
     "name": "stdout",
     "output_type": "stream",
     "text": [
      "Training\n",
      "Prediction\n"
     ]
    },
    {
     "name": "stderr",
     "output_type": "stream",
     "text": [
      "\r",
      " 44%|████▍     | 67/152 [07:47<09:34,  6.76s/it]"
     ]
    },
    {
     "name": "stdout",
     "output_type": "stream",
     "text": [
      "Training\n",
      "Prediction\n"
     ]
    },
    {
     "name": "stderr",
     "output_type": "stream",
     "text": [
      "\r",
      " 45%|████▌     | 69/152 [08:12<11:25,  8.26s/it]"
     ]
    },
    {
     "name": "stdout",
     "output_type": "stream",
     "text": [
      "Training\n",
      "Prediction\n"
     ]
    },
    {
     "name": "stderr",
     "output_type": "stream",
     "text": [
      "\r",
      " 47%|████▋     | 71/152 [08:38<12:46,  9.46s/it]"
     ]
    },
    {
     "name": "stdout",
     "output_type": "stream",
     "text": [
      "Training\n"
     ]
    },
    {
     "name": "stderr",
     "output_type": "stream",
     "text": [
      "\r",
      " 47%|████▋     | 72/152 [08:56<14:15, 10.69s/it]"
     ]
    },
    {
     "name": "stdout",
     "output_type": "stream",
     "text": [
      "Prediction\n",
      "Training\n",
      "Prediction\n"
     ]
    },
    {
     "name": "stderr",
     "output_type": "stream",
     "text": [
      "\r",
      " 49%|████▉     | 75/152 [09:12<11:00,  8.57s/it]"
     ]
    },
    {
     "name": "stdout",
     "output_type": "stream",
     "text": [
      "Training\n",
      "Prediction\n"
     ]
    },
    {
     "name": "stderr",
     "output_type": "stream",
     "text": [
      "\r",
      " 51%|█████▏    | 78/152 [09:31<09:40,  7.84s/it]"
     ]
    },
    {
     "name": "stdout",
     "output_type": "stream",
     "text": [
      "Training\n"
     ]
    },
    {
     "name": "stderr",
     "output_type": "stream",
     "text": [
      "\r",
      " 52%|█████▏    | 79/152 [09:46<10:47,  8.88s/it]"
     ]
    },
    {
     "name": "stdout",
     "output_type": "stream",
     "text": [
      "Prediction\n",
      "Training\n",
      "Prediction\n"
     ]
    },
    {
     "name": "stderr",
     "output_type": "stream",
     "text": [
      "\r",
      " 54%|█████▍    | 82/152 [10:04<09:04,  7.77s/it]"
     ]
    },
    {
     "name": "stdout",
     "output_type": "stream",
     "text": [
      "Training\n",
      "Prediction\n"
     ]
    },
    {
     "name": "stderr",
     "output_type": "stream",
     "text": [
      "\r",
      " 55%|█████▍    | 83/152 [10:34<12:53, 11.20s/it]"
     ]
    },
    {
     "name": "stdout",
     "output_type": "stream",
     "text": [
      "Training\n",
      "Prediction\n"
     ]
    },
    {
     "name": "stderr",
     "output_type": "stream",
     "text": [
      "\r",
      " 59%|█████▊    | 89/152 [10:54<07:02,  6.70s/it]"
     ]
    },
    {
     "name": "stdout",
     "output_type": "stream",
     "text": [
      "Training\n",
      "Prediction\n"
     ]
    },
    {
     "name": "stderr",
     "output_type": "stream",
     "text": [
      "\r",
      " 61%|██████    | 92/152 [11:11<06:22,  6.37s/it]"
     ]
    },
    {
     "name": "stdout",
     "output_type": "stream",
     "text": [
      "Training\n",
      "Prediction\n"
     ]
    },
    {
     "name": "stderr",
     "output_type": "stream",
     "text": [
      "\r",
      " 62%|██████▏   | 94/152 [11:32<07:01,  7.26s/it]"
     ]
    },
    {
     "name": "stdout",
     "output_type": "stream",
     "text": [
      "Training\n"
     ]
    },
    {
     "name": "stderr",
     "output_type": "stream",
     "text": [
      "\r",
      " 66%|██████▌   | 100/152 [11:48<04:24,  5.08s/it]"
     ]
    },
    {
     "name": "stdout",
     "output_type": "stream",
     "text": [
      "Prediction\n",
      "Training\n",
      "Prediction\n"
     ]
    },
    {
     "name": "stderr",
     "output_type": "stream",
     "text": [
      "\r",
      " 66%|██████▋   | 101/152 [12:05<05:18,  6.24s/it]"
     ]
    },
    {
     "name": "stdout",
     "output_type": "stream",
     "text": [
      "Training\n",
      "Prediction\n"
     ]
    },
    {
     "name": "stderr",
     "output_type": "stream",
     "text": [
      "\r",
      " 67%|██████▋   | 102/152 [12:23<06:31,  7.82s/it]"
     ]
    },
    {
     "name": "stdout",
     "output_type": "stream",
     "text": [
      "Training\n"
     ]
    },
    {
     "name": "stderr",
     "output_type": "stream",
     "text": [
      "\r",
      " 68%|██████▊   | 103/152 [12:39<07:26,  9.12s/it]"
     ]
    },
    {
     "name": "stdout",
     "output_type": "stream",
     "text": [
      "Prediction\n",
      "Training\n"
     ]
    },
    {
     "name": "stderr",
     "output_type": "stream",
     "text": [
      "\r",
      " 70%|██████▉   | 106/152 [12:54<05:44,  7.49s/it]"
     ]
    },
    {
     "name": "stdout",
     "output_type": "stream",
     "text": [
      "Prediction\n",
      "Training\n",
      "Prediction\n"
     ]
    },
    {
     "name": "stderr",
     "output_type": "stream",
     "text": [
      "\r",
      " 70%|███████   | 107/152 [13:12<06:52,  9.16s/it]"
     ]
    },
    {
     "name": "stdout",
     "output_type": "stream",
     "text": [
      "Training\n",
      "Prediction\n"
     ]
    },
    {
     "name": "stderr",
     "output_type": "stream",
     "text": [
      "\r",
      " 73%|███████▎  | 111/152 [13:29<04:38,  6.80s/it]"
     ]
    },
    {
     "name": "stdout",
     "output_type": "stream",
     "text": [
      "Training\n",
      "Prediction\n"
     ]
    },
    {
     "name": "stderr",
     "output_type": "stream",
     "text": [
      "\r",
      " 74%|███████▎  | 112/152 [13:46<05:31,  8.28s/it]"
     ]
    },
    {
     "name": "stdout",
     "output_type": "stream",
     "text": [
      "Training\n"
     ]
    },
    {
     "name": "stderr",
     "output_type": "stream",
     "text": [
      "\r",
      " 76%|███████▋  | 116/152 [14:04<03:53,  6.49s/it]"
     ]
    },
    {
     "name": "stdout",
     "output_type": "stream",
     "text": [
      "Prediction\n",
      "Training\n"
     ]
    },
    {
     "name": "stderr",
     "output_type": "stream",
     "text": [
      "\r",
      " 79%|███████▉  | 120/152 [14:20<02:56,  5.53s/it]"
     ]
    },
    {
     "name": "stdout",
     "output_type": "stream",
     "text": [
      "Prediction\n",
      "Training\n",
      "Prediction\n"
     ]
    },
    {
     "name": "stderr",
     "output_type": "stream",
     "text": [
      "\r",
      " 80%|███████▉  | 121/152 [14:38<03:38,  7.04s/it]"
     ]
    },
    {
     "name": "stdout",
     "output_type": "stream",
     "text": [
      "Training\n",
      "Prediction\n"
     ]
    },
    {
     "name": "stderr",
     "output_type": "stream",
     "text": [
      "\r",
      " 80%|████████  | 122/152 [14:58<04:32,  9.07s/it]"
     ]
    },
    {
     "name": "stdout",
     "output_type": "stream",
     "text": [
      "Training\n",
      "Prediction\n"
     ]
    },
    {
     "name": "stderr",
     "output_type": "stream",
     "text": [
      "\r",
      " 82%|████████▏ | 125/152 [15:20<03:46,  8.38s/it]"
     ]
    },
    {
     "name": "stdout",
     "output_type": "stream",
     "text": [
      "Training\n",
      "Prediction\n"
     ]
    },
    {
     "name": "stderr",
     "output_type": "stream",
     "text": [
      "\r",
      " 83%|████████▎ | 126/152 [16:18<07:00, 16.18s/it]"
     ]
    },
    {
     "name": "stdout",
     "output_type": "stream",
     "text": [
      "Training\n",
      "Prediction\n"
     ]
    },
    {
     "name": "stderr",
     "output_type": "stream",
     "text": [
      "\r",
      " 86%|████████▌ | 130/152 [22:42<19:46, 53.92s/it]"
     ]
    },
    {
     "name": "stdout",
     "output_type": "stream",
     "text": [
      "Training\n",
      "Prediction\n"
     ]
    },
    {
     "name": "stderr",
     "output_type": "stream",
     "text": [
      "\r",
      " 86%|████████▌ | 131/152 [23:07<17:23, 49.70s/it]"
     ]
    },
    {
     "name": "stdout",
     "output_type": "stream",
     "text": [
      "Training\n",
      "Prediction\n"
     ]
    },
    {
     "name": "stderr",
     "output_type": "stream",
     "text": [
      "\r",
      " 87%|████████▋ | 132/152 [23:30<15:03, 45.15s/it]"
     ]
    },
    {
     "name": "stdout",
     "output_type": "stream",
     "text": [
      "Training\n",
      "Prediction\n"
     ]
    },
    {
     "name": "stderr",
     "output_type": "stream",
     "text": [
      "\r",
      " 88%|████████▊ | 134/152 [23:55<10:18, 34.38s/it]"
     ]
    },
    {
     "name": "stdout",
     "output_type": "stream",
     "text": [
      "Training\n",
      "Prediction\n"
     ]
    },
    {
     "name": "stderr",
     "output_type": "stream",
     "text": [
      "\r",
      " 89%|████████▉ | 135/152 [24:14<08:56, 31.55s/it]"
     ]
    },
    {
     "name": "stdout",
     "output_type": "stream",
     "text": [
      "Training\n",
      "Prediction\n"
     ]
    },
    {
     "name": "stderr",
     "output_type": "stream",
     "text": [
      "\r",
      " 89%|████████▉ | 136/152 [24:31<07:33, 28.35s/it]"
     ]
    },
    {
     "name": "stdout",
     "output_type": "stream",
     "text": [
      "Training\n"
     ]
    },
    {
     "name": "stderr",
     "output_type": "stream",
     "text": [
      "\r",
      " 90%|█████████ | 137/152 [24:48<06:27, 25.86s/it]"
     ]
    },
    {
     "name": "stdout",
     "output_type": "stream",
     "text": [
      "Prediction\n",
      "Training\n",
      "Prediction\n"
     ]
    },
    {
     "name": "stderr",
     "output_type": "stream",
     "text": [
      "\r",
      " 92%|█████████▏| 140/152 [25:11<03:20, 16.69s/it]"
     ]
    },
    {
     "name": "stdout",
     "output_type": "stream",
     "text": [
      "Training\n",
      "Prediction\n"
     ]
    },
    {
     "name": "stderr",
     "output_type": "stream",
     "text": [
      "\r",
      " 93%|█████████▎| 141/152 [25:40<03:30, 19.13s/it]"
     ]
    },
    {
     "name": "stdout",
     "output_type": "stream",
     "text": [
      "Training\n",
      "Prediction\n"
     ]
    },
    {
     "name": "stderr",
     "output_type": "stream",
     "text": [
      "\r",
      " 93%|█████████▎| 142/152 [26:14<03:42, 22.25s/it]"
     ]
    },
    {
     "name": "stdout",
     "output_type": "stream",
     "text": [
      "Training\n",
      "Prediction\n"
     ]
    },
    {
     "name": "stderr",
     "output_type": "stream",
     "text": [
      "\r",
      " 94%|█████████▍| 143/152 [26:33<03:13, 21.52s/it]"
     ]
    },
    {
     "name": "stdout",
     "output_type": "stream",
     "text": [
      "Training\n",
      "Prediction\n"
     ]
    },
    {
     "name": "stderr",
     "output_type": "stream",
     "text": [
      "\r",
      " 95%|█████████▍| 144/152 [26:52<02:47, 20.91s/it]"
     ]
    },
    {
     "name": "stdout",
     "output_type": "stream",
     "text": [
      "Training\n",
      "Prediction\n"
     ]
    },
    {
     "name": "stderr",
     "output_type": "stream",
     "text": [
      "\r",
      " 96%|█████████▌| 146/152 [27:20<01:48, 18.04s/it]"
     ]
    },
    {
     "name": "stdout",
     "output_type": "stream",
     "text": [
      "Training\n",
      "Prediction\n"
     ]
    },
    {
     "name": "stderr",
     "output_type": "stream",
     "text": [
      "\r",
      " 98%|█████████▊| 149/152 [27:36<00:36, 12.01s/it]"
     ]
    },
    {
     "name": "stdout",
     "output_type": "stream",
     "text": [
      "Training\n",
      "Prediction\n"
     ]
    },
    {
     "name": "stderr",
     "output_type": "stream",
     "text": [
      "100%|██████████| 152/152 [27:52<00:00, 11.01s/it]"
     ]
    },
    {
     "name": "stdout",
     "output_type": "stream",
     "text": [
      "1672.9138836860657\n",
      "Finished !\n"
     ]
    },
    {
     "name": "stderr",
     "output_type": "stream",
     "text": [
      "\n"
     ]
    }
   ],
   "source": [
    "import scripts.theodolite_utils as tfuu\n",
    "tfuu = importlib.reload(tfuu)\n",
    "import warnings\n",
    "import time\n",
    "from tqdm import tqdm\n",
    "warnings.filterwarnings('ignore')\n",
    "tfu = importlib.reload(tfu)\n",
    "GPf = importlib.reload(GPf)\n",
    "#path_data = \"./data/total_station/20220523/\"\n",
    "#path = \"./data/prediction/\"\n",
    "path_data = \"./data/raw_data/20220316/\"\n",
    "path = \"./data/raw_data/20220316/\"\n",
    "B.epsilon = 1e-8\n",
    "save = True\n",
    "verbose=False\n",
    "noise_GP = 0\n",
    "variance_GP = 1\n",
    "lengthscale_GP = 1\n",
    "\n",
    "limit_points_windows = [18,18]\n",
    "Mode_window = \"ground-truth\"\n",
    "\n",
    "mode_arr = [\"GP\"]\n",
    "size_interval_arr = [10]\n",
    "number_restart_arr = [20]\n",
    "trajectoire_arr = [\"10-20\"] #interval-restart\n",
    "file_open = [path_data+\"trimble\"]\n",
    "file_save = [path+\"TS/1611-\"+mode_arr[0]+\"-\"+trajectoire_arr[0]+\"_\"]\n",
    "time_origin = 1647471762     ######### Important, need to change it, timestamp given by the function above\n",
    "\n",
    "for m,n,p,r,s,nr in zip(mode_arr, size_interval_arr, trajectoire_arr, file_open, file_save, number_restart_arr):\n",
    "    \n",
    "    time_trimble_1, trimble_1 = tfuu.read_point_data_csv_file(r+\"1\"+\".csv\")\n",
    "    time_trimble_2, trimble_2 = tfuu.read_point_data_csv_file(r+\"2\"+\".csv\")\n",
    "    time_trimble_3, trimble_3 = tfuu.read_point_data_csv_file(r+\"3\"+\".csv\")\n",
    "    \n",
    "    time_trimble_1 = time_trimble_1 - np.ones_like(time_trimble_1)*time_origin\n",
    "    time_trimble_2 = time_trimble_2 - np.ones_like(time_trimble_2)*time_origin\n",
    "    time_trimble_3 = time_trimble_3 - np.ones_like(time_trimble_3)*time_origin\n",
    "    \n",
    "    limit_time_interval = 1\n",
    "    list_interval, list_time = tfu.split_time_interval_all_data(time_trimble_1, time_trimble_2, time_trimble_3, limit_time_interval)\n",
    "    limit_search = 1\n",
    "    list_trajectories_split = tfu.merge_interval(list_interval, list_time, time_trimble_1, time_trimble_2, time_trimble_3, limit_search)\n",
    "    \n",
    "    start_time = time.time()\n",
    "    Mode = m\n",
    "    trajectoire = p\n",
    "    size_interval = n\n",
    "    \n",
    "    Number_points_window = []\n",
    "    Prediction_1_MGPO = []\n",
    "    Prediction_2_MGPO = []\n",
    "    Prediction_3_MGPO = []\n",
    "    Prediction_1_GP = []\n",
    "    Prediction_2_GP = []\n",
    "    Prediction_3_GP = []\n",
    "    T_prediction = []\n",
    "    compteur = 0\n",
    "    \n",
    "    for i in tqdm(list_trajectories_split):\n",
    "        \n",
    "        index_1 = np.array([i[0,0],i[1,0]])\n",
    "        index_2 = np.array([i[0,1],i[1,1]])\n",
    "        index_3 = np.array([i[0,2],i[1,2]])\n",
    "\n",
    "        begin = np.max([time_trimble_1[index_1[0]], time_trimble_2[index_2[0]], time_trimble_3[index_3[0]]])\n",
    "        end = np.min([time_trimble_1[index_1[1]], time_trimble_2[index_2[1]], time_trimble_3[index_3[1]]])\n",
    "        rate = 5  #Hz\n",
    "        T_prediction_init = torch.from_numpy(np.arange(begin, end, 1/rate))\n",
    "\n",
    "        if(abs(end-begin)>n):\n",
    "\n",
    "            if(Mode == \"MGPO\" or Mode == \"All\"):\n",
    "                T_MGPO, S_MGPO = GPf.data_training_MGPO(time_trimble_1, time_trimble_2, time_trimble_2, trimble_1, \n",
    "                                                                     trimble_2, trimble_3, index_1, index_2, index_3)\n",
    "                print(\"Training\")\n",
    "                m = GPf.training_MGPO(nr, verbose, T_MGPO, S_MGPO)\n",
    "                print(\"Prediction\")\n",
    "                for i in T_prediction_init.numpy():\n",
    "                    T_prediction.append(i+time_origin)\n",
    "                    P1_MGPO, P2_MGPO, P3_MGPO = GPf.unit_prediction_MGPO(i, m)\n",
    "                    Prediction_1_MGPO.append(P1_MGPO)\n",
    "                    Prediction_2_MGPO.append(P2_MGPO)\n",
    "                    Prediction_3_MGPO.append(P3_MGPO)\n",
    "\n",
    "            if(Mode == \"GP\" or Mode == \"All\"):\n",
    "                T1, X1, Y1, Z1, T2, X2, Y2, Z2, T3, X3, Y3, Z3 = GPf.data_training_GP(time_trimble_1, time_trimble_2, time_trimble_3, trimble_1, \n",
    "                                                                     trimble_2, trimble_3, index_1, index_2, index_3)\n",
    "                print(\"Training\")\n",
    "                mx1, my1, mz1, mx2, my2, mz2, mx3, my3, mz3 = GPf.training_GP(nr, verbose, T1, X1, Y1,\n",
    "                                                                          Z1, T2, X2, Y2, Z2, T3, X3, Y3, Z3)\n",
    "                print(\"Prediction\")\n",
    "                for i in T_prediction_init.numpy():\n",
    "                    T_prediction.append(i+time_origin)\n",
    "                    P1_GP, P2_GP, P3_GP = GPf.unit_prediction_GP(i, mx1, my1, mz1, mx2, my2, mz2, mx3, my3, mz3)\n",
    "                    Prediction_1_GP.append(P1_GP)\n",
    "                    Prediction_2_GP.append(P2_GP)\n",
    "                    Prediction_3_GP.append(P3_GP)\n",
    "\n",
    "    stop_time = time.time()\n",
    "    print(stop_time - start_time)\n",
    "    \n",
    "print(\"Finished !\")"
   ]
  },
  {
   "cell_type": "code",
   "execution_count": 6,
   "id": "90780c08",
   "metadata": {},
   "outputs": [
    {
     "name": "stdout",
     "output_type": "stream",
     "text": [
      "Conversion done !\n",
      "Conversion done !\n",
      "Conversion done !\n"
     ]
    }
   ],
   "source": [
    "# Save file of GP\n",
    "\n",
    "save = True\n",
    "#path = \"./data/prediction/\"\n",
    "path = \"./data/raw_data/\"\n",
    "if(Mode == \"MGPO\" or Mode == \"All\"):\n",
    "    trajectoire = \"MGPO-10-20\"\n",
    "    if save:\n",
    "        tfu.Convert_data_prediction_to_csv(T_prediction, Prediction_1_MGPO, path+trajectoire+ \"_1.csv\")\n",
    "        tfu.Convert_data_prediction_to_csv(T_prediction, Prediction_2_MGPO, path+trajectoire+ \"_2.csv\")\n",
    "        tfu.Convert_data_prediction_to_csv(T_prediction, Prediction_3_MGPO, path+trajectoire+ \"_3.csv\")\n",
    "if(Mode == \"GP\" or Mode == \"All\"):\n",
    "    trajectoire = \"GP-10-20\"\n",
    "    if save:\n",
    "        tfu.Convert_data_prediction_to_csv(T_prediction, Prediction_1_GP, path+trajectoire+ \"_1.csv\")\n",
    "        tfu.Convert_data_prediction_to_csv(T_prediction, Prediction_2_GP, path+trajectoire+ \"_2.csv\")\n",
    "        tfu.Convert_data_prediction_to_csv(T_prediction, Prediction_3_GP, path+trajectoire+ \"_3.csv\")"
   ]
  },
  {
   "cell_type": "code",
   "execution_count": 14,
   "id": "d035b6d4",
   "metadata": {},
   "outputs": [
    {
     "name": "stdout",
     "output_type": "stream",
     "text": [
      "Mean e:  1178.569436873512 21026.01681894524 20207.421331315527\n",
      "Variance e:  561.5166085328656 9664.106823854541 9830.333306977756\n"
     ]
    },
    {
     "data": {
      "application/javascript": [
       "/* Put everything inside the global mpl namespace */\n",
       "window.mpl = {};\n",
       "\n",
       "\n",
       "mpl.get_websocket_type = function() {\n",
       "    if (typeof(WebSocket) !== 'undefined') {\n",
       "        return WebSocket;\n",
       "    } else if (typeof(MozWebSocket) !== 'undefined') {\n",
       "        return MozWebSocket;\n",
       "    } else {\n",
       "        alert('Your browser does not have WebSocket support. ' +\n",
       "              'Please try Chrome, Safari or Firefox ≥ 6. ' +\n",
       "              'Firefox 4 and 5 are also supported but you ' +\n",
       "              'have to enable WebSockets in about:config.');\n",
       "    };\n",
       "}\n",
       "\n",
       "mpl.figure = function(figure_id, websocket, ondownload, parent_element) {\n",
       "    this.id = figure_id;\n",
       "\n",
       "    this.ws = websocket;\n",
       "\n",
       "    this.supports_binary = (this.ws.binaryType != undefined);\n",
       "\n",
       "    if (!this.supports_binary) {\n",
       "        var warnings = document.getElementById(\"mpl-warnings\");\n",
       "        if (warnings) {\n",
       "            warnings.style.display = 'block';\n",
       "            warnings.textContent = (\n",
       "                \"This browser does not support binary websocket messages. \" +\n",
       "                    \"Performance may be slow.\");\n",
       "        }\n",
       "    }\n",
       "\n",
       "    this.imageObj = new Image();\n",
       "\n",
       "    this.context = undefined;\n",
       "    this.message = undefined;\n",
       "    this.canvas = undefined;\n",
       "    this.rubberband_canvas = undefined;\n",
       "    this.rubberband_context = undefined;\n",
       "    this.format_dropdown = undefined;\n",
       "\n",
       "    this.image_mode = 'full';\n",
       "\n",
       "    this.root = $('<div/>');\n",
       "    this._root_extra_style(this.root)\n",
       "    this.root.attr('style', 'display: inline-block');\n",
       "\n",
       "    $(parent_element).append(this.root);\n",
       "\n",
       "    this._init_header(this);\n",
       "    this._init_canvas(this);\n",
       "    this._init_toolbar(this);\n",
       "\n",
       "    var fig = this;\n",
       "\n",
       "    this.waiting = false;\n",
       "\n",
       "    this.ws.onopen =  function () {\n",
       "            fig.send_message(\"supports_binary\", {value: fig.supports_binary});\n",
       "            fig.send_message(\"send_image_mode\", {});\n",
       "            if (mpl.ratio != 1) {\n",
       "                fig.send_message(\"set_dpi_ratio\", {'dpi_ratio': mpl.ratio});\n",
       "            }\n",
       "            fig.send_message(\"refresh\", {});\n",
       "        }\n",
       "\n",
       "    this.imageObj.onload = function() {\n",
       "            if (fig.image_mode == 'full') {\n",
       "                // Full images could contain transparency (where diff images\n",
       "                // almost always do), so we need to clear the canvas so that\n",
       "                // there is no ghosting.\n",
       "                fig.context.clearRect(0, 0, fig.canvas.width, fig.canvas.height);\n",
       "            }\n",
       "            fig.context.drawImage(fig.imageObj, 0, 0);\n",
       "        };\n",
       "\n",
       "    this.imageObj.onunload = function() {\n",
       "        fig.ws.close();\n",
       "    }\n",
       "\n",
       "    this.ws.onmessage = this._make_on_message_function(this);\n",
       "\n",
       "    this.ondownload = ondownload;\n",
       "}\n",
       "\n",
       "mpl.figure.prototype._init_header = function() {\n",
       "    var titlebar = $(\n",
       "        '<div class=\"ui-dialog-titlebar ui-widget-header ui-corner-all ' +\n",
       "        'ui-helper-clearfix\"/>');\n",
       "    var titletext = $(\n",
       "        '<div class=\"ui-dialog-title\" style=\"width: 100%; ' +\n",
       "        'text-align: center; padding: 3px;\"/>');\n",
       "    titlebar.append(titletext)\n",
       "    this.root.append(titlebar);\n",
       "    this.header = titletext[0];\n",
       "}\n",
       "\n",
       "\n",
       "\n",
       "mpl.figure.prototype._canvas_extra_style = function(canvas_div) {\n",
       "\n",
       "}\n",
       "\n",
       "\n",
       "mpl.figure.prototype._root_extra_style = function(canvas_div) {\n",
       "\n",
       "}\n",
       "\n",
       "mpl.figure.prototype._init_canvas = function() {\n",
       "    var fig = this;\n",
       "\n",
       "    var canvas_div = $('<div/>');\n",
       "\n",
       "    canvas_div.attr('style', 'position: relative; clear: both; outline: 0');\n",
       "\n",
       "    function canvas_keyboard_event(event) {\n",
       "        return fig.key_event(event, event['data']);\n",
       "    }\n",
       "\n",
       "    canvas_div.keydown('key_press', canvas_keyboard_event);\n",
       "    canvas_div.keyup('key_release', canvas_keyboard_event);\n",
       "    this.canvas_div = canvas_div\n",
       "    this._canvas_extra_style(canvas_div)\n",
       "    this.root.append(canvas_div);\n",
       "\n",
       "    var canvas = $('<canvas/>');\n",
       "    canvas.addClass('mpl-canvas');\n",
       "    canvas.attr('style', \"left: 0; top: 0; z-index: 0; outline: 0\")\n",
       "\n",
       "    this.canvas = canvas[0];\n",
       "    this.context = canvas[0].getContext(\"2d\");\n",
       "\n",
       "    var backingStore = this.context.backingStorePixelRatio ||\n",
       "\tthis.context.webkitBackingStorePixelRatio ||\n",
       "\tthis.context.mozBackingStorePixelRatio ||\n",
       "\tthis.context.msBackingStorePixelRatio ||\n",
       "\tthis.context.oBackingStorePixelRatio ||\n",
       "\tthis.context.backingStorePixelRatio || 1;\n",
       "\n",
       "    mpl.ratio = (window.devicePixelRatio || 1) / backingStore;\n",
       "\n",
       "    var rubberband = $('<canvas/>');\n",
       "    rubberband.attr('style', \"position: absolute; left: 0; top: 0; z-index: 1;\")\n",
       "\n",
       "    var pass_mouse_events = true;\n",
       "\n",
       "    canvas_div.resizable({\n",
       "        start: function(event, ui) {\n",
       "            pass_mouse_events = false;\n",
       "        },\n",
       "        resize: function(event, ui) {\n",
       "            fig.request_resize(ui.size.width, ui.size.height);\n",
       "        },\n",
       "        stop: function(event, ui) {\n",
       "            pass_mouse_events = true;\n",
       "            fig.request_resize(ui.size.width, ui.size.height);\n",
       "        },\n",
       "    });\n",
       "\n",
       "    function mouse_event_fn(event) {\n",
       "        if (pass_mouse_events)\n",
       "            return fig.mouse_event(event, event['data']);\n",
       "    }\n",
       "\n",
       "    rubberband.mousedown('button_press', mouse_event_fn);\n",
       "    rubberband.mouseup('button_release', mouse_event_fn);\n",
       "    // Throttle sequential mouse events to 1 every 20ms.\n",
       "    rubberband.mousemove('motion_notify', mouse_event_fn);\n",
       "\n",
       "    rubberband.mouseenter('figure_enter', mouse_event_fn);\n",
       "    rubberband.mouseleave('figure_leave', mouse_event_fn);\n",
       "\n",
       "    canvas_div.on(\"wheel\", function (event) {\n",
       "        event = event.originalEvent;\n",
       "        event['data'] = 'scroll'\n",
       "        if (event.deltaY < 0) {\n",
       "            event.step = 1;\n",
       "        } else {\n",
       "            event.step = -1;\n",
       "        }\n",
       "        mouse_event_fn(event);\n",
       "    });\n",
       "\n",
       "    canvas_div.append(canvas);\n",
       "    canvas_div.append(rubberband);\n",
       "\n",
       "    this.rubberband = rubberband;\n",
       "    this.rubberband_canvas = rubberband[0];\n",
       "    this.rubberband_context = rubberband[0].getContext(\"2d\");\n",
       "    this.rubberband_context.strokeStyle = \"#000000\";\n",
       "\n",
       "    this._resize_canvas = function(width, height) {\n",
       "        // Keep the size of the canvas, canvas container, and rubber band\n",
       "        // canvas in synch.\n",
       "        canvas_div.css('width', width)\n",
       "        canvas_div.css('height', height)\n",
       "\n",
       "        canvas.attr('width', width * mpl.ratio);\n",
       "        canvas.attr('height', height * mpl.ratio);\n",
       "        canvas.attr('style', 'width: ' + width + 'px; height: ' + height + 'px;');\n",
       "\n",
       "        rubberband.attr('width', width);\n",
       "        rubberband.attr('height', height);\n",
       "    }\n",
       "\n",
       "    // Set the figure to an initial 600x600px, this will subsequently be updated\n",
       "    // upon first draw.\n",
       "    this._resize_canvas(600, 600);\n",
       "\n",
       "    // Disable right mouse context menu.\n",
       "    $(this.rubberband_canvas).bind(\"contextmenu\",function(e){\n",
       "        return false;\n",
       "    });\n",
       "\n",
       "    function set_focus () {\n",
       "        canvas.focus();\n",
       "        canvas_div.focus();\n",
       "    }\n",
       "\n",
       "    window.setTimeout(set_focus, 100);\n",
       "}\n",
       "\n",
       "mpl.figure.prototype._init_toolbar = function() {\n",
       "    var fig = this;\n",
       "\n",
       "    var nav_element = $('<div/>');\n",
       "    nav_element.attr('style', 'width: 100%');\n",
       "    this.root.append(nav_element);\n",
       "\n",
       "    // Define a callback function for later on.\n",
       "    function toolbar_event(event) {\n",
       "        return fig.toolbar_button_onclick(event['data']);\n",
       "    }\n",
       "    function toolbar_mouse_event(event) {\n",
       "        return fig.toolbar_button_onmouseover(event['data']);\n",
       "    }\n",
       "\n",
       "    for(var toolbar_ind in mpl.toolbar_items) {\n",
       "        var name = mpl.toolbar_items[toolbar_ind][0];\n",
       "        var tooltip = mpl.toolbar_items[toolbar_ind][1];\n",
       "        var image = mpl.toolbar_items[toolbar_ind][2];\n",
       "        var method_name = mpl.toolbar_items[toolbar_ind][3];\n",
       "\n",
       "        if (!name) {\n",
       "            // put a spacer in here.\n",
       "            continue;\n",
       "        }\n",
       "        var button = $('<button/>');\n",
       "        button.addClass('ui-button ui-widget ui-state-default ui-corner-all ' +\n",
       "                        'ui-button-icon-only');\n",
       "        button.attr('role', 'button');\n",
       "        button.attr('aria-disabled', 'false');\n",
       "        button.click(method_name, toolbar_event);\n",
       "        button.mouseover(tooltip, toolbar_mouse_event);\n",
       "\n",
       "        var icon_img = $('<span/>');\n",
       "        icon_img.addClass('ui-button-icon-primary ui-icon');\n",
       "        icon_img.addClass(image);\n",
       "        icon_img.addClass('ui-corner-all');\n",
       "\n",
       "        var tooltip_span = $('<span/>');\n",
       "        tooltip_span.addClass('ui-button-text');\n",
       "        tooltip_span.html(tooltip);\n",
       "\n",
       "        button.append(icon_img);\n",
       "        button.append(tooltip_span);\n",
       "\n",
       "        nav_element.append(button);\n",
       "    }\n",
       "\n",
       "    var fmt_picker_span = $('<span/>');\n",
       "\n",
       "    var fmt_picker = $('<select/>');\n",
       "    fmt_picker.addClass('mpl-toolbar-option ui-widget ui-widget-content');\n",
       "    fmt_picker_span.append(fmt_picker);\n",
       "    nav_element.append(fmt_picker_span);\n",
       "    this.format_dropdown = fmt_picker[0];\n",
       "\n",
       "    for (var ind in mpl.extensions) {\n",
       "        var fmt = mpl.extensions[ind];\n",
       "        var option = $(\n",
       "            '<option/>', {selected: fmt === mpl.default_extension}).html(fmt);\n",
       "        fmt_picker.append(option);\n",
       "    }\n",
       "\n",
       "    // Add hover states to the ui-buttons\n",
       "    $( \".ui-button\" ).hover(\n",
       "        function() { $(this).addClass(\"ui-state-hover\");},\n",
       "        function() { $(this).removeClass(\"ui-state-hover\");}\n",
       "    );\n",
       "\n",
       "    var status_bar = $('<span class=\"mpl-message\"/>');\n",
       "    nav_element.append(status_bar);\n",
       "    this.message = status_bar[0];\n",
       "}\n",
       "\n",
       "mpl.figure.prototype.request_resize = function(x_pixels, y_pixels) {\n",
       "    // Request matplotlib to resize the figure. Matplotlib will then trigger a resize in the client,\n",
       "    // which will in turn request a refresh of the image.\n",
       "    this.send_message('resize', {'width': x_pixels, 'height': y_pixels});\n",
       "}\n",
       "\n",
       "mpl.figure.prototype.send_message = function(type, properties) {\n",
       "    properties['type'] = type;\n",
       "    properties['figure_id'] = this.id;\n",
       "    this.ws.send(JSON.stringify(properties));\n",
       "}\n",
       "\n",
       "mpl.figure.prototype.send_draw_message = function() {\n",
       "    if (!this.waiting) {\n",
       "        this.waiting = true;\n",
       "        this.ws.send(JSON.stringify({type: \"draw\", figure_id: this.id}));\n",
       "    }\n",
       "}\n",
       "\n",
       "\n",
       "mpl.figure.prototype.handle_save = function(fig, msg) {\n",
       "    var format_dropdown = fig.format_dropdown;\n",
       "    var format = format_dropdown.options[format_dropdown.selectedIndex].value;\n",
       "    fig.ondownload(fig, format);\n",
       "}\n",
       "\n",
       "\n",
       "mpl.figure.prototype.handle_resize = function(fig, msg) {\n",
       "    var size = msg['size'];\n",
       "    if (size[0] != fig.canvas.width || size[1] != fig.canvas.height) {\n",
       "        fig._resize_canvas(size[0], size[1]);\n",
       "        fig.send_message(\"refresh\", {});\n",
       "    };\n",
       "}\n",
       "\n",
       "mpl.figure.prototype.handle_rubberband = function(fig, msg) {\n",
       "    var x0 = msg['x0'] / mpl.ratio;\n",
       "    var y0 = (fig.canvas.height - msg['y0']) / mpl.ratio;\n",
       "    var x1 = msg['x1'] / mpl.ratio;\n",
       "    var y1 = (fig.canvas.height - msg['y1']) / mpl.ratio;\n",
       "    x0 = Math.floor(x0) + 0.5;\n",
       "    y0 = Math.floor(y0) + 0.5;\n",
       "    x1 = Math.floor(x1) + 0.5;\n",
       "    y1 = Math.floor(y1) + 0.5;\n",
       "    var min_x = Math.min(x0, x1);\n",
       "    var min_y = Math.min(y0, y1);\n",
       "    var width = Math.abs(x1 - x0);\n",
       "    var height = Math.abs(y1 - y0);\n",
       "\n",
       "    fig.rubberband_context.clearRect(\n",
       "        0, 0, fig.canvas.width / mpl.ratio, fig.canvas.height / mpl.ratio);\n",
       "\n",
       "    fig.rubberband_context.strokeRect(min_x, min_y, width, height);\n",
       "}\n",
       "\n",
       "mpl.figure.prototype.handle_figure_label = function(fig, msg) {\n",
       "    // Updates the figure title.\n",
       "    fig.header.textContent = msg['label'];\n",
       "}\n",
       "\n",
       "mpl.figure.prototype.handle_cursor = function(fig, msg) {\n",
       "    var cursor = msg['cursor'];\n",
       "    switch(cursor)\n",
       "    {\n",
       "    case 0:\n",
       "        cursor = 'pointer';\n",
       "        break;\n",
       "    case 1:\n",
       "        cursor = 'default';\n",
       "        break;\n",
       "    case 2:\n",
       "        cursor = 'crosshair';\n",
       "        break;\n",
       "    case 3:\n",
       "        cursor = 'move';\n",
       "        break;\n",
       "    }\n",
       "    fig.rubberband_canvas.style.cursor = cursor;\n",
       "}\n",
       "\n",
       "mpl.figure.prototype.handle_message = function(fig, msg) {\n",
       "    fig.message.textContent = msg['message'];\n",
       "}\n",
       "\n",
       "mpl.figure.prototype.handle_draw = function(fig, msg) {\n",
       "    // Request the server to send over a new figure.\n",
       "    fig.send_draw_message();\n",
       "}\n",
       "\n",
       "mpl.figure.prototype.handle_image_mode = function(fig, msg) {\n",
       "    fig.image_mode = msg['mode'];\n",
       "}\n",
       "\n",
       "mpl.figure.prototype.updated_canvas_event = function() {\n",
       "    // Called whenever the canvas gets updated.\n",
       "    this.send_message(\"ack\", {});\n",
       "}\n",
       "\n",
       "// A function to construct a web socket function for onmessage handling.\n",
       "// Called in the figure constructor.\n",
       "mpl.figure.prototype._make_on_message_function = function(fig) {\n",
       "    return function socket_on_message(evt) {\n",
       "        if (evt.data instanceof Blob) {\n",
       "            /* FIXME: We get \"Resource interpreted as Image but\n",
       "             * transferred with MIME type text/plain:\" errors on\n",
       "             * Chrome.  But how to set the MIME type?  It doesn't seem\n",
       "             * to be part of the websocket stream */\n",
       "            evt.data.type = \"image/png\";\n",
       "\n",
       "            /* Free the memory for the previous frames */\n",
       "            if (fig.imageObj.src) {\n",
       "                (window.URL || window.webkitURL).revokeObjectURL(\n",
       "                    fig.imageObj.src);\n",
       "            }\n",
       "\n",
       "            fig.imageObj.src = (window.URL || window.webkitURL).createObjectURL(\n",
       "                evt.data);\n",
       "            fig.updated_canvas_event();\n",
       "            fig.waiting = false;\n",
       "            return;\n",
       "        }\n",
       "        else if (typeof evt.data === 'string' && evt.data.slice(0, 21) == \"data:image/png;base64\") {\n",
       "            fig.imageObj.src = evt.data;\n",
       "            fig.updated_canvas_event();\n",
       "            fig.waiting = false;\n",
       "            return;\n",
       "        }\n",
       "\n",
       "        var msg = JSON.parse(evt.data);\n",
       "        var msg_type = msg['type'];\n",
       "\n",
       "        // Call the  \"handle_{type}\" callback, which takes\n",
       "        // the figure and JSON message as its only arguments.\n",
       "        try {\n",
       "            var callback = fig[\"handle_\" + msg_type];\n",
       "        } catch (e) {\n",
       "            console.log(\"No handler for the '\" + msg_type + \"' message type: \", msg);\n",
       "            return;\n",
       "        }\n",
       "\n",
       "        if (callback) {\n",
       "            try {\n",
       "                // console.log(\"Handling '\" + msg_type + \"' message: \", msg);\n",
       "                callback(fig, msg);\n",
       "            } catch (e) {\n",
       "                console.log(\"Exception inside the 'handler_\" + msg_type + \"' callback:\", e, e.stack, msg);\n",
       "            }\n",
       "        }\n",
       "    };\n",
       "}\n",
       "\n",
       "// from http://stackoverflow.com/questions/1114465/getting-mouse-location-in-canvas\n",
       "mpl.findpos = function(e) {\n",
       "    //this section is from http://www.quirksmode.org/js/events_properties.html\n",
       "    var targ;\n",
       "    if (!e)\n",
       "        e = window.event;\n",
       "    if (e.target)\n",
       "        targ = e.target;\n",
       "    else if (e.srcElement)\n",
       "        targ = e.srcElement;\n",
       "    if (targ.nodeType == 3) // defeat Safari bug\n",
       "        targ = targ.parentNode;\n",
       "\n",
       "    // jQuery normalizes the pageX and pageY\n",
       "    // pageX,Y are the mouse positions relative to the document\n",
       "    // offset() returns the position of the element relative to the document\n",
       "    var x = e.pageX - $(targ).offset().left;\n",
       "    var y = e.pageY - $(targ).offset().top;\n",
       "\n",
       "    return {\"x\": x, \"y\": y};\n",
       "};\n",
       "\n",
       "/*\n",
       " * return a copy of an object with only non-object keys\n",
       " * we need this to avoid circular references\n",
       " * http://stackoverflow.com/a/24161582/3208463\n",
       " */\n",
       "function simpleKeys (original) {\n",
       "  return Object.keys(original).reduce(function (obj, key) {\n",
       "    if (typeof original[key] !== 'object')\n",
       "        obj[key] = original[key]\n",
       "    return obj;\n",
       "  }, {});\n",
       "}\n",
       "\n",
       "mpl.figure.prototype.mouse_event = function(event, name) {\n",
       "    var canvas_pos = mpl.findpos(event)\n",
       "\n",
       "    if (name === 'button_press')\n",
       "    {\n",
       "        this.canvas.focus();\n",
       "        this.canvas_div.focus();\n",
       "    }\n",
       "\n",
       "    var x = canvas_pos.x * mpl.ratio;\n",
       "    var y = canvas_pos.y * mpl.ratio;\n",
       "\n",
       "    this.send_message(name, {x: x, y: y, button: event.button,\n",
       "                             step: event.step,\n",
       "                             guiEvent: simpleKeys(event)});\n",
       "\n",
       "    /* This prevents the web browser from automatically changing to\n",
       "     * the text insertion cursor when the button is pressed.  We want\n",
       "     * to control all of the cursor setting manually through the\n",
       "     * 'cursor' event from matplotlib */\n",
       "    event.preventDefault();\n",
       "    return false;\n",
       "}\n",
       "\n",
       "mpl.figure.prototype._key_event_extra = function(event, name) {\n",
       "    // Handle any extra behaviour associated with a key event\n",
       "}\n",
       "\n",
       "mpl.figure.prototype.key_event = function(event, name) {\n",
       "\n",
       "    // Prevent repeat events\n",
       "    if (name == 'key_press')\n",
       "    {\n",
       "        if (event.which === this._key)\n",
       "            return;\n",
       "        else\n",
       "            this._key = event.which;\n",
       "    }\n",
       "    if (name == 'key_release')\n",
       "        this._key = null;\n",
       "\n",
       "    var value = '';\n",
       "    if (event.ctrlKey && event.which != 17)\n",
       "        value += \"ctrl+\";\n",
       "    if (event.altKey && event.which != 18)\n",
       "        value += \"alt+\";\n",
       "    if (event.shiftKey && event.which != 16)\n",
       "        value += \"shift+\";\n",
       "\n",
       "    value += 'k';\n",
       "    value += event.which.toString();\n",
       "\n",
       "    this._key_event_extra(event, name);\n",
       "\n",
       "    this.send_message(name, {key: value,\n",
       "                             guiEvent: simpleKeys(event)});\n",
       "    return false;\n",
       "}\n",
       "\n",
       "mpl.figure.prototype.toolbar_button_onclick = function(name) {\n",
       "    if (name == 'download') {\n",
       "        this.handle_save(this, null);\n",
       "    } else {\n",
       "        this.send_message(\"toolbar_button\", {name: name});\n",
       "    }\n",
       "};\n",
       "\n",
       "mpl.figure.prototype.toolbar_button_onmouseover = function(tooltip) {\n",
       "    this.message.textContent = tooltip;\n",
       "};\n",
       "mpl.toolbar_items = [[\"Home\", \"Reset original view\", \"fa fa-home icon-home\", \"home\"], [\"Back\", \"Back to previous view\", \"fa fa-arrow-left icon-arrow-left\", \"back\"], [\"Forward\", \"Forward to next view\", \"fa fa-arrow-right icon-arrow-right\", \"forward\"], [\"\", \"\", \"\", \"\"], [\"Pan\", \"Pan axes with left mouse, zoom with right\", \"fa fa-arrows icon-move\", \"pan\"], [\"Zoom\", \"Zoom to rectangle\", \"fa fa-square-o icon-check-empty\", \"zoom\"], [\"\", \"\", \"\", \"\"], [\"Download\", \"Download plot\", \"fa fa-floppy-o icon-save\", \"download\"]];\n",
       "\n",
       "mpl.extensions = [\"eps\", \"jpeg\", \"pdf\", \"png\", \"ps\", \"raw\", \"svg\", \"tif\"];\n",
       "\n",
       "mpl.default_extension = \"png\";var comm_websocket_adapter = function(comm) {\n",
       "    // Create a \"websocket\"-like object which calls the given IPython comm\n",
       "    // object with the appropriate methods. Currently this is a non binary\n",
       "    // socket, so there is still some room for performance tuning.\n",
       "    var ws = {};\n",
       "\n",
       "    ws.close = function() {\n",
       "        comm.close()\n",
       "    };\n",
       "    ws.send = function(m) {\n",
       "        //console.log('sending', m);\n",
       "        comm.send(m);\n",
       "    };\n",
       "    // Register the callback with on_msg.\n",
       "    comm.on_msg(function(msg) {\n",
       "        //console.log('receiving', msg['content']['data'], msg);\n",
       "        // Pass the mpl event to the overridden (by mpl) onmessage function.\n",
       "        ws.onmessage(msg['content']['data'])\n",
       "    });\n",
       "    return ws;\n",
       "}\n",
       "\n",
       "mpl.mpl_figure_comm = function(comm, msg) {\n",
       "    // This is the function which gets called when the mpl process\n",
       "    // starts-up an IPython Comm through the \"matplotlib\" channel.\n",
       "\n",
       "    var id = msg.content.data.id;\n",
       "    // Get hold of the div created by the display call when the Comm\n",
       "    // socket was opened in Python.\n",
       "    var element = $(\"#\" + id);\n",
       "    var ws_proxy = comm_websocket_adapter(comm)\n",
       "\n",
       "    function ondownload(figure, format) {\n",
       "        window.open(figure.imageObj.src);\n",
       "    }\n",
       "\n",
       "    var fig = new mpl.figure(id, ws_proxy,\n",
       "                           ondownload,\n",
       "                           element.get(0));\n",
       "\n",
       "    // Call onopen now - mpl needs it, as it is assuming we've passed it a real\n",
       "    // web socket which is closed, not our websocket->open comm proxy.\n",
       "    ws_proxy.onopen();\n",
       "\n",
       "    fig.parent_element = element.get(0);\n",
       "    fig.cell_info = mpl.find_output_cell(\"<div id='\" + id + \"'></div>\");\n",
       "    if (!fig.cell_info) {\n",
       "        console.error(\"Failed to find cell for figure\", id, fig);\n",
       "        return;\n",
       "    }\n",
       "\n",
       "    var output_index = fig.cell_info[2]\n",
       "    var cell = fig.cell_info[0];\n",
       "\n",
       "};\n",
       "\n",
       "mpl.figure.prototype.handle_close = function(fig, msg) {\n",
       "    var width = fig.canvas.width/mpl.ratio\n",
       "    fig.root.unbind('remove')\n",
       "\n",
       "    // Update the output cell to use the data from the current canvas.\n",
       "    fig.push_to_output();\n",
       "    var dataURL = fig.canvas.toDataURL();\n",
       "    // Re-enable the keyboard manager in IPython - without this line, in FF,\n",
       "    // the notebook keyboard shortcuts fail.\n",
       "    IPython.keyboard_manager.enable()\n",
       "    $(fig.parent_element).html('<img src=\"' + dataURL + '\" width=\"' + width + '\">');\n",
       "    fig.close_ws(fig, msg);\n",
       "}\n",
       "\n",
       "mpl.figure.prototype.close_ws = function(fig, msg){\n",
       "    fig.send_message('closing', msg);\n",
       "    // fig.ws.close()\n",
       "}\n",
       "\n",
       "mpl.figure.prototype.push_to_output = function(remove_interactive) {\n",
       "    // Turn the data on the canvas into data in the output cell.\n",
       "    var width = this.canvas.width/mpl.ratio\n",
       "    var dataURL = this.canvas.toDataURL();\n",
       "    this.cell_info[1]['text/html'] = '<img src=\"' + dataURL + '\" width=\"' + width + '\">';\n",
       "}\n",
       "\n",
       "mpl.figure.prototype.updated_canvas_event = function() {\n",
       "    // Tell IPython that the notebook contents must change.\n",
       "    IPython.notebook.set_dirty(true);\n",
       "    this.send_message(\"ack\", {});\n",
       "    var fig = this;\n",
       "    // Wait a second, then push the new image to the DOM so\n",
       "    // that it is saved nicely (might be nice to debounce this).\n",
       "    setTimeout(function () { fig.push_to_output() }, 1000);\n",
       "}\n",
       "\n",
       "mpl.figure.prototype._init_toolbar = function() {\n",
       "    var fig = this;\n",
       "\n",
       "    var nav_element = $('<div/>');\n",
       "    nav_element.attr('style', 'width: 100%');\n",
       "    this.root.append(nav_element);\n",
       "\n",
       "    // Define a callback function for later on.\n",
       "    function toolbar_event(event) {\n",
       "        return fig.toolbar_button_onclick(event['data']);\n",
       "    }\n",
       "    function toolbar_mouse_event(event) {\n",
       "        return fig.toolbar_button_onmouseover(event['data']);\n",
       "    }\n",
       "\n",
       "    for(var toolbar_ind in mpl.toolbar_items){\n",
       "        var name = mpl.toolbar_items[toolbar_ind][0];\n",
       "        var tooltip = mpl.toolbar_items[toolbar_ind][1];\n",
       "        var image = mpl.toolbar_items[toolbar_ind][2];\n",
       "        var method_name = mpl.toolbar_items[toolbar_ind][3];\n",
       "\n",
       "        if (!name) { continue; };\n",
       "\n",
       "        var button = $('<button class=\"btn btn-default\" href=\"#\" title=\"' + name + '\"><i class=\"fa ' + image + ' fa-lg\"></i></button>');\n",
       "        button.click(method_name, toolbar_event);\n",
       "        button.mouseover(tooltip, toolbar_mouse_event);\n",
       "        nav_element.append(button);\n",
       "    }\n",
       "\n",
       "    // Add the status bar.\n",
       "    var status_bar = $('<span class=\"mpl-message\" style=\"text-align:right; float: right;\"/>');\n",
       "    nav_element.append(status_bar);\n",
       "    this.message = status_bar[0];\n",
       "\n",
       "    // Add the close button to the window.\n",
       "    var buttongrp = $('<div class=\"btn-group inline pull-right\"></div>');\n",
       "    var button = $('<button class=\"btn btn-mini btn-primary\" href=\"#\" title=\"Stop Interaction\"><i class=\"fa fa-power-off icon-remove icon-large\"></i></button>');\n",
       "    button.click(function (evt) { fig.handle_close(fig, {}); } );\n",
       "    button.mouseover('Stop Interaction', toolbar_mouse_event);\n",
       "    buttongrp.append(button);\n",
       "    var titlebar = this.root.find($('.ui-dialog-titlebar'));\n",
       "    titlebar.prepend(buttongrp);\n",
       "}\n",
       "\n",
       "mpl.figure.prototype._root_extra_style = function(el){\n",
       "    var fig = this\n",
       "    el.on(\"remove\", function(){\n",
       "\tfig.close_ws(fig, {});\n",
       "    });\n",
       "}\n",
       "\n",
       "mpl.figure.prototype._canvas_extra_style = function(el){\n",
       "    // this is important to make the div 'focusable\n",
       "    el.attr('tabindex', 0)\n",
       "    // reach out to IPython and tell the keyboard manager to turn it's self\n",
       "    // off when our div gets focus\n",
       "\n",
       "    // location in version 3\n",
       "    if (IPython.notebook.keyboard_manager) {\n",
       "        IPython.notebook.keyboard_manager.register_events(el);\n",
       "    }\n",
       "    else {\n",
       "        // location in version 2\n",
       "        IPython.keyboard_manager.register_events(el);\n",
       "    }\n",
       "\n",
       "}\n",
       "\n",
       "mpl.figure.prototype._key_event_extra = function(event, name) {\n",
       "    var manager = IPython.notebook.keyboard_manager;\n",
       "    if (!manager)\n",
       "        manager = IPython.keyboard_manager;\n",
       "\n",
       "    // Check for shift+enter\n",
       "    if (event.shiftKey && event.which == 13) {\n",
       "        this.canvas_div.blur();\n",
       "        // select the cell after this one\n",
       "        var index = IPython.notebook.find_cell_index(this.cell_info[0]);\n",
       "        IPython.notebook.select(index + 1);\n",
       "    }\n",
       "}\n",
       "\n",
       "mpl.figure.prototype.handle_save = function(fig, msg) {\n",
       "    fig.ondownload(fig, null);\n",
       "}\n",
       "\n",
       "\n",
       "mpl.find_output_cell = function(html_output) {\n",
       "    // Return the cell and output element which can be found *uniquely* in the notebook.\n",
       "    // Note - this is a bit hacky, but it is done because the \"notebook_saving.Notebook\"\n",
       "    // IPython event is triggered only after the cells have been serialised, which for\n",
       "    // our purposes (turning an active figure into a static one), is too late.\n",
       "    var cells = IPython.notebook.get_cells();\n",
       "    var ncells = cells.length;\n",
       "    for (var i=0; i<ncells; i++) {\n",
       "        var cell = cells[i];\n",
       "        if (cell.cell_type === 'code'){\n",
       "            for (var j=0; j<cell.output_area.outputs.length; j++) {\n",
       "                var data = cell.output_area.outputs[j];\n",
       "                if (data.data) {\n",
       "                    // IPython >= 3 moved mimebundle to data attribute of output\n",
       "                    data = data.data;\n",
       "                }\n",
       "                if (data['text/html'] == html_output) {\n",
       "                    return [cell, data, j];\n",
       "                }\n",
       "            }\n",
       "        }\n",
       "    }\n",
       "}\n",
       "\n",
       "// Register the function which deals with the matplotlib target/channel.\n",
       "// The kernel may be null if the page has been refreshed.\n",
       "if (IPython.notebook.kernel != null) {\n",
       "    IPython.notebook.kernel.comm_manager.register_target('matplotlib', mpl.mpl_figure_comm);\n",
       "}\n"
      ],
      "text/plain": [
       "<IPython.core.display.Javascript object>"
      ]
     },
     "metadata": {},
     "output_type": "display_data"
    },
    {
     "data": {
      "text/html": [
       "<img src=\"data:image/png;base64,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\" width=\"639.85\">"
      ],
      "text/plain": [
       "<IPython.core.display.HTML object>"
      ]
     },
     "metadata": {},
     "output_type": "display_data"
    }
   ],
   "source": [
    "# Show inter-prism error obtained\n",
    "\n",
    "%matplotlib notebook\n",
    "GPf = importlib.reload(GPf)\n",
    "error_euclidian_GP, T_prediction = GPf.error_calculation_eucli(Prediction_1_GP, Prediction_2_GP, Prediction_3_GP, Dist_prism_12, Dist_prism_13, Dist_prism_23)\n",
    "error_e_GP = np.array(error_euclidian_GP)\n",
    "print(\"Mean e: \", np.mean(error_e_GP[:,0]),np.mean(error_e_GP[:,1]),np.mean(error_e_GP[:,2]))\n",
    "print(\"Variance e: \", np.std(error_e_GP[:,0]),np.std(error_e_GP[:,1]),np.std(error_e_GP[:,2]))\n",
    "plt.figure(0)\n",
    "plt.plot(T_prediction, error_e_GP[:,0], label=\"e12\")\n",
    "plt.plot(T_prediction, error_e_GP[:,1], label=\"e13\")\n",
    "plt.plot(T_prediction, error_e_GP[:,2], label=\"e23\")\n",
    "ax = plt.gca()\n",
    "ax.set_yscale('symlog')\n",
    "plt.legend(loc='best')\n",
    "#ax.set_ylim([0, 1])\n",
    "plt.show()"
   ]
  },
  {
   "cell_type": "code",
   "execution_count": null,
   "id": "3c39cf3e",
   "metadata": {},
   "outputs": [],
   "source": []
  }
 ],
 "metadata": {
  "kernelspec": {
   "display_name": "Python 3",
   "language": "python",
   "name": "python3"
  },
  "language_info": {
   "codemirror_mode": {
    "name": "ipython",
    "version": 3
   },
   "file_extension": ".py",
   "mimetype": "text/x-python",
   "name": "python",
   "nbconvert_exporter": "python",
   "pygments_lexer": "ipython3",
   "version": "3.6.9"
  }
 },
 "nbformat": 4,
 "nbformat_minor": 5
}
