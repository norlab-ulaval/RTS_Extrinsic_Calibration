{
 "cells": [
  {
   "cell_type": "markdown",
   "metadata": {
    "pycharm": {
     "name": "#%% md\n"
    }
   },
   "source": [
    "# Rosbags topics conversion\n",
    "\n",
    "Use this notebook to convert a list of topics from a rosbag into a csv file.\n",
    "Each topic will have their own csv file based on the name of the topic in the same directory then the rosbag file.\n",
    "\n",
    "The `rosbag_file_path` variable for a fully-qualified or relative path to the rosbag file to convert.\n",
    "The `topics_file_path` variable is also a fully-qualified or relative path to the text file containing the topics to convert.\n"
   ]
  },
  {
   "cell_type": "code",
   "execution_count": null,
   "metadata": {
    "pycharm": {
     "name": "#%%\n"
    },
    "scrolled": true
   },
   "outputs": [],
   "source": [
    "from scripts.theodolite_utils import convert_rosbag_topics_to_csv, read_rosbag_topics_to_convert\n",
    "\n",
    "rosbag_file_path = \"\"\n",
    "topics_file_path = \"\"\n",
    "\n",
    "topics = read_rosbag_topics_to_convert(topics_file_path)\n",
    "convert_rosbag_topics_to_csv(rosbag_file_path, topics)\n"
   ]
  }
 ],
 "metadata": {
  "kernelspec": {
   "display_name": "Python 3",
   "language": "python",
   "name": "python3"
  },
  "language_info": {
   "codemirror_mode": {
    "name": "ipython",
    "version": 3
   },
   "file_extension": ".py",
   "mimetype": "text/x-python",
   "name": "python",
   "nbconvert_exporter": "python",
   "pygments_lexer": "ipython3",
   "version": "3.6.9"
  }
 },
 "nbformat": 4,
 "nbformat_minor": 1
}