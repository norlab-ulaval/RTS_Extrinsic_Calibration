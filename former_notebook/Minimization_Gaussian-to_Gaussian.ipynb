{
 "cells": [
  {
   "cell_type": "code",
   "execution_count": 1,
   "id": "e6b331e2",
   "metadata": {},
   "outputs": [
    {
     "name": "stderr",
     "output_type": "stream",
     "text": [
      "Failed to load Python extension for LZ4 support. LZ4 compression will not be available.\n"
     ]
    },
    {
     "name": "stdout",
     "output_type": "stream",
     "text": [
      "0.89 1.23 0.748\n",
      "0.89 1.23 0.748\n"
     ]
    }
   ],
   "source": [
    "import sys\n",
    "#!{sys.executable} -m pip install sklearn\n",
    "import numpy as np\n",
    "import math\n",
    "from matplotlib import pyplot as plt\n",
    "import matplotlib\n",
    "import random\n",
    "import os\n",
    "from matplotlib import animation\n",
    "from mpl_toolkits.mplot3d.art3d import Poly3DCollection\n",
    "from scipy import spatial\n",
    "from IPython.display import HTML\n",
    "from sklearn.gaussian_process import GaussianProcessRegressor\n",
    "from sklearn.gaussian_process.kernels import (RBF, Matern, RationalQuadratic, ExpSineSquared, DotProduct, ConstantKernel)\n",
    "from pypointmatcher import pointmatcher as pm, pointmatchersupport as pms\n",
    "PM = pm.PointMatcher\n",
    "DP = PM.DataPoints\n",
    "\n",
    "import importlib\n",
    "import scripts.theodolite_function as tfu\n",
    "import scripts.theodolite_utils as tfuu\n",
    "tfu = importlib.reload(tfu)\n",
    "from scipy.interpolate import splprep, splev\n",
    "from scipy import interpolate\n",
    "import seaborn as sns\n",
    "from matplotlib.colors import BoundaryNorm\n",
    "from matplotlib.ticker import MaxNLocator\n",
    "from scipy.spatial.transform import Rotation as R\n",
    "import scripts.gp_prediction_utils as GPf\n",
    "GPf = importlib.reload(GPf)\n",
    "import GPy\n",
    "\n",
    "#1 11 2021\n",
    "Dist_prism_12 = 1.0398341231585624*1000\n",
    "Dist_prism_13 = 0.818424700118086*1000\n",
    "Dist_prism_23 = 0.8806156053859284*1000\n",
    "Dist_GPS_12 = 0.835637436093363*1000\n",
    "Dist_GPS_13 = 0.7812173648662254*1000\n",
    "Dist_GPS_23 = 0.5166745729506486*1000\n",
    "\n",
    "P1 = np.array([[1,0,0,0.5],[0,1,0,-0.25],[0,0,1,0.3],[0,0,0,1]])\n",
    "P2 = np.array([[1,0,0,-0.1],[0,1,0,0.4],[0,0,1,0.2],[0,0,0,1]])\n",
    "P3 = np.array([[1,0,0,-0.7],[0,1,0,0],[0,0,1,0.4],[0,0,0,1]])\n",
    "\n",
    "# Distance in meter\n",
    "Dist_prism_12 = round(np.linalg.norm(np.array([P1[0,3],P1[1,3],P1[2,3]])-np.array([P2[0,3],P2[1,3],P2[2,3]])),3)\n",
    "Dist_prism_13 = round(np.linalg.norm(np.array([P1[0,3],P1[1,3],P1[2,3]])-np.array([P3[0,3],P3[1,3],P3[2,3]])),3)\n",
    "Dist_prism_23 = round(np.linalg.norm(np.array([P2[0,3],P2[1,3],P2[2,3]])-np.array([P3[0,3],P3[1,3],P3[2,3]])),3)\n",
    "cov_prism = np.array([[0.002,0,0],[0,0.002,0],[0,0,0.002]])\n",
    "D12_wref = round(np.sqrt(np.linalg.norm(P1-P2)*np.linalg.norm(P1-P2)+(2*cov_prism-2*np.sqrt(np.sqrt(cov_prism)@cov_prism@np.sqrt(cov_prism))).trace()),3)\n",
    "D13_wref = round(np.sqrt(np.linalg.norm(P1-P3)*np.linalg.norm(P1-P3)+(2*cov_prism-2*np.sqrt(np.sqrt(cov_prism)@cov_prism@np.sqrt(cov_prism))).trace()),3)\n",
    "D23_wref = round(np.sqrt(np.linalg.norm(P2-P3)*np.linalg.norm(P2-P3)+(2*cov_prism-2*np.sqrt(np.sqrt(cov_prism)@cov_prism@np.sqrt(cov_prism))).trace()),3)\n",
    "print(Dist_prism_12,Dist_prism_13,Dist_prism_23)\n",
    "print(D12_wref,D13_wref,D23_wref)"
   ]
  },
  {
   "cell_type": "code",
   "execution_count": 3,
   "id": "318a1ef6",
   "metadata": {},
   "outputs": [],
   "source": [
    "import scripts.theodolite_utils as tfu\n",
    "tfu = importlib.reload(tfu)\n",
    "Prediction_1 = tfu.read_prediction_data_csv_file(\"./data/simulation/prediction_GP_sub_prism_1_3.csv\")\n",
    "Prediction_2 = tfu.read_prediction_data_csv_file(\"./data/simulation/prediction_GP_sub_prism_1_3.csv\")\n",
    "Prediction_3 = tfu.read_prediction_data_csv_file(\"./data/simulation/prediction_GP_sub_prism_1_3.csv\")"
   ]
  },
  {
   "cell_type": "code",
   "execution_count": null,
   "id": "b58c223c",
   "metadata": {},
   "outputs": [],
   "source": []
  }
 ],
 "metadata": {
  "kernelspec": {
   "display_name": "Python 3",
   "language": "python",
   "name": "python3"
  },
  "language_info": {
   "codemirror_mode": {
    "name": "ipython",
    "version": 3
   },
   "file_extension": ".py",
   "mimetype": "text/x-python",
   "name": "python",
   "nbconvert_exporter": "python",
   "pygments_lexer": "ipython3",
   "version": "3.6.9"
  }
 },
 "nbformat": 4,
 "nbformat_minor": 5
}
