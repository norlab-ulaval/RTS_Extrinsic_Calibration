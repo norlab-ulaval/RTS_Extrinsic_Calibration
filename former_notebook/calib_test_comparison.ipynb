{
 "cells": [
  {
   "cell_type": "markdown",
   "id": "e0105f70-3f5a-499f-93ce-10b8fb9f606e",
   "metadata": {},
   "source": [
    "# Load Data"
   ]
  },
  {
   "cell_type": "code",
   "execution_count": 1,
   "id": "68239cb1-b176-4524-9751-e686e22c424e",
   "metadata": {},
   "outputs": [
    {
     "data": {
      "text/plain": [
       "Text(0.5, 0, 'z')"
      ]
     },
     "execution_count": 1,
     "metadata": {},
     "output_type": "execute_result"
    }
   ],
   "source": [
    "import pandas as pd\n",
    "import numpy as np\n",
    "import matplotlib.pyplot as plt\n",
    "import scipy.linalg\n",
    "import scipy.optimize\n",
    "import liblie as ll\n",
    "\n",
    "%matplotlib qt\n",
    "\n",
    "\n",
    "df_1 = pd.read_csv('data_calib/f-2-1-1-1-6-1-L_1.csv', header=None, delimiter=' ')\n",
    "df_1.columns = [\"time\", \"x\", \"y\", \"z\"]\n",
    "df_2 = pd.read_csv('data_calib/f-2-1-1-1-6-1-L_2.csv', header=None, delimiter=' ')\n",
    "df_2.columns = [\"time\", \"x\", \"y\", \"z\"]\n",
    "df_3 = pd.read_csv('data_calib/f-2-1-1-1-6-1-L_3.csv', header=None, delimiter=' ')\n",
    "df_3.columns = [\"time\", \"x\", \"y\", \"z\"]\n",
    "\n",
    "p1s_l = np.zeros((len(df_1), 4))\n",
    "p2s_l = np.zeros((len(df_1), 4))\n",
    "p3s_l = np.zeros((len(df_1), 4))\n",
    "\n",
    "for ps, df in zip([p1s_l, p2s_l, p3s_l], [df_1, df_2, df_3]):\n",
    "    for i in range(ps.shape[0]):\n",
    "        ps[i] = np.array([df.iloc[i]['x'], \n",
    "                          df.iloc[i]['y'],\n",
    "                          df.iloc[i]['z'],\n",
    "                             1])\n",
    "# p1s_l = p1s_l[:50]       \n",
    "# p2s_l = p2s_l[:50]       \n",
    "# p3s_l = p3s_l[:50]       \n",
    "Dist_prism_12 = 0.3819811991689936\n",
    "Dist_prism_13 = 0.4426382054042266\n",
    "Dist_prism_23 = 0.2564685508415531\n",
    "\n",
    "fig = plt.figure()\n",
    "ax = plt.axes(projection='3d')\n",
    "ax.plot(p1s_l[:,0], p1s_l[:,2], p1s_l[:,3], color='tab:red')\n",
    "ax.plot(p2s_l[:,0], p2s_l[:,2], p2s_l[:,3], color='tab:green')\n",
    "ax.plot(p3s_l[:,0], p3s_l[:,2], p3s_l[:,3], color='tab:blue')\n",
    "ax.set_xlabel(\"x\")\n",
    "ax.set_ylabel(\"y\")\n",
    "ax.set_zlabel(\"z\")"
   ]
  },
  {
   "cell_type": "code",
   "execution_count": 2,
   "id": "80b1a4fb-c60f-4ee5-a4d9-a5b4587ef9eb",
   "metadata": {},
   "outputs": [],
   "source": [
    "c1 = np.array([[  1.43887968,   3.75545863,  -0.57627539,   1.        ],\n",
    " [  0.48894384,   6.75926881,  -0.5869449 ,   1.        ],\n",
    " [  1.36502929,  12.08766919,  -0.54940165,   1.        ],\n",
    " [  2.08759776,  20.26933936,  -0.49206061,   1.        ],\n",
    " [  2.95924891,  29.45196985,  -0.40240111,   1.        ],\n",
    " [  4.96145448,  43.67246302,  -0.25069846,   1.        ],\n",
    " [ -2.74990705,   0.95319382,  -0.578599  ,   1.        ],\n",
    " [ -8.92016744,   2.69609736,  -0.56646922,   1.        ],\n",
    " [-17.46391439,   3.70710209,  -0.50579883,   1.        ],\n",
    " [-26.49787505,   3.71514406,  -0.45982965,   1.        ],\n",
    " [-34.55389862,   4.87882254,  -0.44752752,   1.        ],\n",
    " [-43.38713417,   5.76577935,  -0.42166513,   1.        ]])\n",
    "c2 = np.array([[ -1.77937907,   2.64135816,  -0.63033238,   1.        ],\n",
    " [ -4.34148853,   4.47228736,  -0.63825173,   1.        ],\n",
    " [ -6.84448749,   9.25804343,  -0.6014729 ,   1.        ],\n",
    " [-11.18551417,  16.23081266,  -0.54386175,   1.        ],\n",
    " [-16.00845024,  24.0936953 ,  -0.4505375 ,   1.        ],\n",
    " [-22.95710727,  36.66284013,  -0.29647593,   1.        ],\n",
    " [ -3.43828009,  -2.11874632,  -0.63218799,   1.        ],\n",
    " [ -9.42188783,  -4.43221931,  -0.61884105,   1.        ],\n",
    " [-16.85698435,  -8.76120715,  -0.55458324,   1.        ],\n",
    " [-24.0818527 , -14.18423241,  -0.50882464,   1.        ],\n",
    " [-31.2175589 , -18.09612541,  -0.49414403,   1.        ],\n",
    " [-38.81076928, -22.69677762,  -0.46462055,   1.        ]])\n",
    "c3 = np.array([[ -2.3052958,    0.63678683,  -0.49565694,   1.        ],\n",
    " [ -5.45438075,   0.61432696,  -0.50609356,   1.        ],\n",
    " [-10.28896689,   3.02399706,  -0.46898338,   1.        ],\n",
    " [-17.89260624,   6.12741005,  -0.41224264,   1.        ],\n",
    " [-26.41009228,   9.6693983 ,  -0.32270604,   1.        ],\n",
    " [-39.40973676,  15.77674074,  -0.17038278,   1.        ],\n",
    " [ -0.86149119,  -4.19376028,  -0.49941067,   1.        ],\n",
    " [ -4.35097891,  -9.576572  ,  -0.48687291,   1.        ],\n",
    " [ -7.83555428, -17.44310933,  -0.42465254,   1.        ],\n",
    " [-10.50796211, -26.07180827,  -0.38073216,   1.        ],\n",
    " [-13.9946294 , -33.42575968,  -0.36614078,   1.        ],\n",
    " [-17.44860434, -41.60421735,  -0.3403394 ,   1.        ]])"
   ]
  },
  {
   "cell_type": "markdown",
   "id": "3260efb2-ac72-4437-91d0-3f735aaab09c",
   "metadata": {},
   "source": [
    "# Find transforms for both methods"
   ]
  },
  {
   "cell_type": "code",
   "execution_count": 3,
   "id": "1dacf57a-e4e8-446c-b968-ae60d60b64be",
   "metadata": {},
   "outputs": [],
   "source": [
    "def dist(xi1, xi2):\n",
    "    return np.linalg.norm(xi1-xi2)\n",
    "def dist2(a,b):\n",
    "    return np.sum([(a_-b_)**2 for a_, b_ in zip(a,b)])\n",
    "def plot_theodolite(ax, T, c1='tab:red', c2='tab:green', name=\"\"):\n",
    "    b = T@np.array([0,0,0,1])\n",
    "    dx = T@np.array([1,0,0,1]) - b\n",
    "    dy = T@np.array([0,1,0,1]) - b\n",
    "    \n",
    "    plt.arrow(*b[:2], *dx[:2], color=c1)\n",
    "    plt.arrow(*b[:2], *dy[:2], color=c2)\n",
    "    plt.text(*b[:2],name)"
   ]
  },
  {
   "cell_type": "markdown",
   "id": "7c8ad35c-172b-4b12-b98a-7ae6bfa1bd41",
   "metadata": {},
   "source": [
    "## old method"
   ]
  },
  {
   "cell_type": "code",
   "execution_count": 13,
   "id": "cec68370-de62-45b7-9043-283ae7ec6f4b",
   "metadata": {},
   "outputs": [
    {
     "name": "stdout",
     "output_type": "stream",
     "text": [
      "The maximum number of function evaluations is exceeded.\n",
      "Function evaluations 10000, initial cost 9.8238e+03, final cost 5.5683e-05, first-order optimality 1.06e-03.\n",
      "The maximum number of function evaluations is exceeded.\n"
     ]
    }
   ],
   "source": [
    "def cost_funb(c1, c2, c3, xi1, xi2):\n",
    "    T12_ = ll.expm_se3(ll.wedge_se3(xi1))\n",
    "    T13 = ll.expm_se3(ll.wedge_se3(xi2))\n",
    "    \n",
    "    c=[]\n",
    "    c += [ dist(c1_, T12_@c2_) for c1_,c2_ in zip(c1, c2)]\n",
    "    c += [ dist(c1_, T13@c3_) for c1_,c3_ in zip(c1, c3)]\n",
    "    # c += [ dist2(T12@c2_, T13@c3_) for c2_,c3_ in zip(c2, c3)]\n",
    "    \n",
    "    return c\n",
    "\n",
    "x0 = np.random.normal(size=12)\n",
    "f = lambda x: cost_funb(c1, c2, c3, x[:6], x[6:])\n",
    "res = scipy.optimize.least_squares(f, x0, \n",
    "    xtol=1e-10, gtol=1e-10, max_nfev=10000,\n",
    "    method='lm', verbose=2)\n",
    "nxi_12 = res.x[:6]\n",
    "nxi_13 = res.x[6:]\n",
    "print(res.message)\n",
    "\n",
    "# print(xi1)\n",
    "# print(xi2)\n",
    "\n",
    "nT12 = ll.expm_se3(ll.wedge_se3(nxi_12))\n",
    "nT13 = ll.expm_se3(ll.wedge_se3(nxi_13))\n",
    "\n",
    "fig = plt.figure()\n",
    "ax = plt.axes(projection='3d')\n",
    "ax.set_xlabel(\"x\")\n",
    "ax.set_ylabel(\"y\")\n",
    "ax.set_zlabel(\"z\")\n",
    "# ax.set_xlim(-50,-20)\n",
    "# ax.set_ylim(-15,15)\n",
    "# ax.set_zlim(-15,15)\n",
    "\n",
    "ax.scatter(c1[:,0], c1[:,1], c1[:,2], color='tab:red')\n",
    "\n",
    "c21 = np.zeros(c2.shape)\n",
    "for i in range(c2.shape[0]):\n",
    "    c21[i] = nT12@c2[i]\n",
    "\n",
    "ax.scatter(c21[:,0], c21[:,1], c21[:,2], color='tab:green')\n",
    "\n",
    "c31 = np.zeros(c3.shape)\n",
    "for i in range(c3.shape[0]):\n",
    "    c31[i] = nT13@c3[i]\n",
    "\n",
    "ax.scatter(c31[:,0], c31[:,1], c31[:,2], color='tab:blue')\n",
    "# plt.xlim(-1,5)\n",
    "# plt.ylim(0,10)\n",
    "\n",
    "T12_gt = nT12\n",
    "T13_gt = nT13"
   ]
  },
  {
   "cell_type": "markdown",
   "id": "1a4b8b9a-8042-4f3b-abe5-8f34b9f45833",
   "metadata": {},
   "source": [
    "## new method"
   ]
  },
  {
   "cell_type": "code",
   "execution_count": 14,
   "id": "68cb16dd-5fe4-4ed3-b5af-94dc4ced3af5",
   "metadata": {},
   "outputs": [
    {
     "name": "stdout",
     "output_type": "stream",
     "text": [
      "`ftol` termination condition is satisfied.\n",
      "Function evaluations 105, initial cost 1.8698e+02, final cost 2.0420e-02, first-order optimality 9.04e-04.\n",
      "True\n",
      "`ftol` termination condition is satisfied.\n"
     ]
    }
   ],
   "source": [
    "def cost_fun(p1s_l, p2s_l, p3s_l, xi_12, xi_13):\n",
    "    T12 = ll.expm_se3(ll.wedge_se3(xi_12))\n",
    "    T13 = ll.expm_se3(ll.wedge_se3(xi_13))\n",
    "    c=[]\n",
    "    c += [(dist(p1,T12@p2)-Dist_prism_12**2) for p1,p2 in zip(p1s_l, p2s_l)]\n",
    "    c += [(dist(p1,T13@p3)-Dist_prism_13**2) for p1,p3 in zip(p1s_l, p3s_l)]\n",
    "    c += [(dist(T12@p2,T13@p3)-Dist_prism_23**2) for p2,p3 in zip(p2s_l, p3s_l)]\n",
    "    \n",
    "    return c\n",
    "\n",
    "x0 = [*nxi_12, *nxi_13]\n",
    "f = lambda x: cost_fun(p1s_l, p2s_l, p3s_l, x[:6], x[6:])\n",
    "res = scipy.optimize.least_squares(f, x0,\n",
    "      # gtol=1e-10, xtol=1e-10, ftol=1e-10,\n",
    "      method='lm',\n",
    "      verbose=2)\n",
    "# print(res)\n",
    "print(res.success)\n",
    "print(res.message)\n",
    "# print(res.x)\n",
    "xi_12 = res.x[:6]\n",
    "xi_13 = res.x[6:]\n",
    "T12 = ll.expm_se3(ll.wedge_se3(xi_12))\n",
    "T13 = ll.expm_se3(ll.wedge_se3(xi_13))\n",
    "\n",
    "\n",
    "plt.figure()\n",
    "plt.axis('equal')\n",
    "ax = plt.gca()\n",
    "\n",
    "plot_theodolite(ax,np.eye(4,4), name=\"1\")\n",
    "plot_theodolite(ax,T12, name=\"2\")\n",
    "plot_theodolite(ax,T13, name=\"3\")"
   ]
  },
  {
   "cell_type": "markdown",
   "id": "30fab26b-83fa-4fa6-8f47-0ee81b49f084",
   "metadata": {},
   "source": [
    "# Compare Results"
   ]
  },
  {
   "cell_type": "markdown",
   "id": "b06b4ebc-ceac-455e-9983-8c681461ae51",
   "metadata": {},
   "source": [
    "## Align trajectories and look at errors"
   ]
  },
  {
   "cell_type": "code",
   "execution_count": 16,
   "id": "43fa98a4-0e4d-4fbf-af24-f60097bb4d8d",
   "metadata": {},
   "outputs": [
    {
     "name": "stdout",
     "output_type": "stream",
     "text": [
      "`ftol` termination condition is satisfied.\n",
      "Function evaluations 80, initial cost 1.4196e+00, final cost 4.8892e-01, first-order optimality 3.32e-06.\n",
      "[ 0.24497393 -0.10594986 -0.07951836  0.          0.          0.        ]\n"
     ]
    },
    {
     "data": {
      "text/plain": [
       "<mpl_toolkits.mplot3d.art3d.Path3DCollection at 0x7ff394855130>"
      ]
     },
     "execution_count": 16,
     "metadata": {},
     "output_type": "execute_result"
    }
   ],
   "source": [
    "def cost_fun(xi):\n",
    "    Tb = ll.expm_se3(ll.wedge_se3(xi))\n",
    "    c = []\n",
    "    c += [dist(p1, Tb@T12@p2) for p1,p2 in zip(c1,c2)]\n",
    "    c += [dist(p1, Tb@T13@p3) for p1,p3 in zip(c1,c3)]\n",
    "    c += [dist(Tb@T12@p2, Tb@T13@p3) for p2,p3 in zip(c2,c3)]\n",
    "    \n",
    "    return c\n",
    "\n",
    "x0 = np.zeros((6))\n",
    "res =  scipy.optimize.least_squares(cost_fun, x0, \n",
    "    xtol=1e-10, gtol=1e-10, ftol=1e-10, max_nfev=10000,\n",
    "    method='lm', verbose=2)\n",
    "\n",
    "print(res.x)\n",
    "\n",
    "Tb = ll.expm_se3(ll.wedge_se3(res.x))\n",
    "\n",
    "fig = plt.figure()\n",
    "ax = plt.axes(projection='3d')\n",
    "ax.set_xlabel(\"x\")\n",
    "ax.set_ylabel(\"y\")\n",
    "ax.set_zlabel(\"z\")\n",
    "\n",
    "p12 = np.zeros(c2.shape)\n",
    "for i in range(p12.shape[0]):\n",
    "    p12[i] = Tb@T12@c2[i]\n",
    "\n",
    "ax.scatter(c1[:,0], c1[:,1], c1[:,2], color='tab:red')\n",
    "ax.scatter(p12[:,0], p12[:,1], p12[:,2], color='tab:green', marker='d')\n",
    "# plt.plot(p2s_l[:,0], p2s_l[:,1])\n",
    "\n",
    "# p = df_2.iloc[-1]\n",
    "# print(p)\n",
    "# print(T12@p)\n",
    "p13 = np.zeros(c3.shape)\n",
    "for i in range(p13.shape[0]):\n",
    "    p13[i] = Tb@T13@c3[i]\n",
    "        \n",
    "ax.scatter(p13[:,0], p13[:,1], p13[:,2], color='tab:blue', marker='X')"
   ]
  },
  {
   "cell_type": "code",
   "execution_count": 17,
   "id": "829c1443-54d9-40ab-8c19-80209d833f78",
   "metadata": {},
   "outputs": [
    {
     "data": {
      "text/plain": [
       "[<mpl_toolkits.mplot3d.art3d.Line3D at 0x7ff3946682e0>]"
      ]
     },
     "execution_count": 17,
     "metadata": {},
     "output_type": "execute_result"
    }
   ],
   "source": [
    "fig = plt.figure()\n",
    "ax = plt.axes(projection='3d')\n",
    "ax.set_xlabel(\"x\")\n",
    "ax.set_ylabel(\"y\")\n",
    "ax.set_zlabel(\"z\")\n",
    "ax.set_xlim(-25,-15)\n",
    "ax.set_ylim(0,10)\n",
    "ax.set_zlim(-5,5)\n",
    "\n",
    "p12 = np.zeros(p2s_l.shape)\n",
    "for i in range(p12.shape[0]):\n",
    "    p12[i] = T12@p2s_l[i]\n",
    "\n",
    "ax.plot(p1s_l[:,0], p1s_l[:,1], p1s_l[:,2], color='tab:red')\n",
    "ax.plot(p12[:,0], p12[:,1], p12[:,2], color='tab:green')\n",
    "# plt.plot(p2s_l[:,0], p2s_l[:,1])\n",
    "\n",
    "# p = df_2.iloc[-1]\n",
    "# print(p)\n",
    "# print(T12@p)\n",
    "p13 = np.zeros(p3s_l.shape)\n",
    "for i in range(p13.shape[0]):\n",
    "    p13[i] = T13@p3s_l[i]\n",
    "        \n",
    "plt.plot(p13[:,0], p13[:,1], p13[:,2], color='tab:blue')\n",
    "\n",
    "#-------------------------------------------------------------------------------------\n",
    "#-------------------------------------------------------------------------------------\n",
    "#-------------------------------------------------------------------------------------\n",
    "p12 = np.zeros(p2s_l.shape)\n",
    "for i in range(p12.shape[0]):\n",
    "    p12[i] = nT12@p2s_l[i]\n",
    "\n",
    "ax.plot(p1s_l[:,0], p1s_l[:,1], p1s_l[:,2], color='tab:brown', ls='--')\n",
    "ax.plot(p12[:,0], p12[:,1], p12[:,2], color='tab:purple', ls='--')\n",
    "\n",
    "p13 = np.zeros(p3s_l.shape)\n",
    "for i in range(p13.shape[0]):\n",
    "    p13[i] = nT13@p3s_l[i]\n",
    "        \n",
    "plt.plot(p13[:,0], p13[:,1], p13[:,2], color='tab:cyan', ls='--')"
   ]
  },
  {
   "cell_type": "markdown",
   "id": "c592c42a-bb64-4045-a744-f2b846b45566",
   "metadata": {},
   "source": [
    "## Same but align on trajectory instead of control points"
   ]
  },
  {
   "cell_type": "code",
   "execution_count": 19,
   "id": "3737ad2d-8e4d-4f19-8df4-40298f79abcd",
   "metadata": {},
   "outputs": [
    {
     "name": "stdout",
     "output_type": "stream",
     "text": [
      "`ftol` termination condition is satisfied.\n",
      "Function evaluations 84, initial cost 2.1346e+01, final cost 3.8677e-01, first-order optimality 6.60e-07.\n",
      "[ 0.24508238 -0.11228323 -0.0743031   0.          0.          0.        ]\n"
     ]
    },
    {
     "data": {
      "text/plain": [
       "{'whiskers': [<matplotlib.lines.Line2D at 0x7ff394300040>,\n",
       "  <matplotlib.lines.Line2D at 0x7ff394300b50>],\n",
       " 'caps': [<matplotlib.lines.Line2D at 0x7ff3943002e0>,\n",
       "  <matplotlib.lines.Line2D at 0x7ff394300190>],\n",
       " 'boxes': [<matplotlib.lines.Line2D at 0x7ff3a8c15880>],\n",
       " 'medians': [<matplotlib.lines.Line2D at 0x7ff394300f70>],\n",
       " 'fliers': [<matplotlib.lines.Line2D at 0x7ff39431a580>],\n",
       " 'means': []}"
      ]
     },
     "execution_count": 19,
     "metadata": {},
     "output_type": "execute_result"
    }
   ],
   "source": [
    "def cost_fun(xi):\n",
    "    Tb = ll.expm_se3(ll.wedge_se3(xi))\n",
    "    c = []\n",
    "    c += [dist2(nT12@p, Tb@T12@p) for p in p2s_l]\n",
    "    c += [dist2(nT13@p, Tb@T13@p) for p in p3s_l]\n",
    "    \n",
    "    return np.array(c)\n",
    "\n",
    "x0 = np.zeros((6))\n",
    "res =  scipy.optimize.least_squares(cost_fun, x0, \n",
    "    xtol=1e-15, gtol=1e-15, ftol=1e-15, max_nfev=10000,\n",
    "    method='lm', verbose=2)\n",
    "\n",
    "print(res.x)\n",
    "\n",
    "Tb = ll.expm_se3(ll.wedge_se3(res.x))\n",
    "\n",
    "fig = plt.figure()\n",
    "ax = plt.axes(projection='3d')\n",
    "ax.set_xlabel(\"x\")\n",
    "ax.set_ylabel(\"y\")\n",
    "ax.set_zlabel(\"z\")\n",
    "ax.set_xlim(-25,-15)\n",
    "ax.set_ylim(0,10)\n",
    "ax.set_zlim(-5,5)\n",
    "\n",
    "p12 = np.zeros(p2s_l.shape)\n",
    "for i in range(p12.shape[0]):\n",
    "    p12[i] = Tb@T12@p2s_l[i]\n",
    "\n",
    "ax.plot(p1s_l[:,0], p1s_l[:,1], p1s_l[:,2], color='tab:red')\n",
    "ax.plot(p12[:,0], p12[:,1], p12[:,2], color='tab:green')\n",
    "# plt.plot(p2s_l[:,0], p2s_l[:,1])\n",
    "\n",
    "# p = df_2.iloc[-1]\n",
    "# print(p)\n",
    "# print(T12@p)\n",
    "p13 = np.zeros(p3s_l.shape)\n",
    "for i in range(p13.shape[0]):\n",
    "    p13[i] = Tb@T13@p3s_l[i]\n",
    "        \n",
    "plt.plot(p13[:,0], p13[:,1], p13[:,2], color='tab:blue')\n",
    "\n",
    "#-------------------------------------------------------------------------------------\n",
    "\n",
    "p12 = np.zeros(p2s_l.shape)\n",
    "for i in range(p12.shape[0]):\n",
    "    p12[i] = nT12@p2s_l[i]\n",
    "\n",
    "ax.plot(p1s_l[:,0], p1s_l[:,1], p1s_l[:,2], color='tab:brown', ls='--')\n",
    "ax.plot(p12[:,0], p12[:,1], p12[:,2], color='tab:purple', ls='--')\n",
    "# plt.plot(p2s_l[:,0], p2s_l[:,1])\n",
    "\n",
    "# p = df_2.iloc[-1]\n",
    "# print(p)\n",
    "# print(T12@p)\n",
    "p13 = np.zeros(p3s_l.shape)\n",
    "for i in range(p13.shape[0]):\n",
    "    p13[i] = nT13@p3s_l[i]\n",
    "        \n",
    "plt.plot(p13[:,0], p13[:,1], p13[:,2], color='tab:cyan', ls='--')\n",
    "\n",
    "plt.figure()\n",
    "plt.boxplot(cost_fun(res.x))"
   ]
  },
  {
   "cell_type": "code",
   "execution_count": null,
   "id": "3a39bf92-7893-47c2-8ef3-2ae3cead8152",
   "metadata": {},
   "outputs": [],
   "source": []
  }
 ],
 "metadata": {
  "kernelspec": {
   "display_name": "Python 3 (ipykernel)",
   "language": "python",
   "name": "python3"
  },
  "language_info": {
   "codemirror_mode": {
    "name": "ipython",
    "version": 3
   },
   "file_extension": ".py",
   "mimetype": "text/x-python",
   "name": "python",
   "nbconvert_exporter": "python",
   "pygments_lexer": "ipython3",
   "version": "3.8.10"
  }
 },
 "nbformat": 4,
 "nbformat_minor": 5
}
