{
 "cells": [
  {
   "cell_type": "code",
   "execution_count": 1,
   "id": "ff877c1c",
   "metadata": {},
   "outputs": [
    {
     "name": "stderr",
     "output_type": "stream",
     "text": [
      "Failed to load Python extension for LZ4 support. LZ4 compression will not be available.\n"
     ]
    }
   ],
   "source": [
    "import sys\n",
    "import numpy as np\n",
    "import random\n",
    "import os\n",
    "import math\n",
    "import warnings\n",
    "warnings.filterwarnings('ignore')\n",
    "import time\n",
    "from tqdm import tqdm\n",
    "\n",
    "import matplotlib.pyplot as plt\n",
    "import matplotlib\n",
    "from matplotlib import animation\n",
    "from matplotlib.colors import BoundaryNorm\n",
    "from matplotlib.ticker import MaxNLocator\n",
    "\n",
    "import importlib\n",
    "import scripts.theodolite_function as tfu\n",
    "import scripts.theodolite_utils as ttf\n",
    "import GPy\n",
    "import scripts.gp_prediction_utils as GPf\n",
    "tfu = importlib.reload(tfu)\n",
    "ttf = importlib.reload(ttf)\n",
    "GPf = importlib.reload(GPf)\n",
    "\n",
    "from scipy.interpolate import splprep, splev\n",
    "from scipy import interpolate\n",
    "from scipy import spatial\n",
    "import seaborn as sns\n",
    "\n",
    "from scipy.spatial.transform import Rotation as R\n",
    "from IPython.display import HTML\n",
    "from sklearn.gaussian_process import GaussianProcessRegressor\n",
    "from sklearn.gaussian_process.kernels import (RBF, Matern, RationalQuadratic, ExpSineSquared, DotProduct, ConstantKernel)\n",
    "from stheno import B, Measure, GP, EQ, Delta\n",
    "import torch\n",
    "\n",
    "from mpl_toolkits.mplot3d.art3d import Poly3DCollection\n",
    "from wbml.plot import tweak\n"
   ]
  },
  {
   "cell_type": "code",
   "execution_count": 12,
   "id": "c53e2fb4",
   "metadata": {
    "scrolled": true,
    "tags": []
   },
   "outputs": [
    {
     "name": "stdout",
     "output_type": "stream",
     "text": [
      "Number of data for theodolites: [425 426 429]\n",
      "Bad measures: 0\n",
      "417 418 421\n"
     ]
    },
    {
     "name": "stderr",
     "output_type": "stream",
     "text": [
      "  0%|                                                                                                                                                                                        | 0/4 [00:00<?, ?it/s] /home/will/catkin_ws/src/code_publication_ICRA2023_MaximeVaidis/scripts/gp_prediction_utils.py:653: DeprecationWarning:`np.float` is a deprecated alias for the builtin `float`. To silence this warning, use `float` by itself. Doing this will not modify any behavior and is safe. If you specifically wanted the numpy scalar type, use `np.float64` here.\n",
      "Deprecated in NumPy 1.20; for more details and guidance: https://numpy.org/devdocs/release/1.20.0-notes.html#deprecations\n",
      " /home/will/catkin_ws/src/code_publication_ICRA2023_MaximeVaidis/scripts/gp_prediction_utils.py:654: DeprecationWarning:`np.float` is a deprecated alias for the builtin `float`. To silence this warning, use `float` by itself. Doing this will not modify any behavior and is safe. If you specifically wanted the numpy scalar type, use `np.float64` here.\n",
      "Deprecated in NumPy 1.20; for more details and guidance: https://numpy.org/devdocs/release/1.20.0-notes.html#deprecations\n",
      " /home/will/catkin_ws/src/code_publication_ICRA2023_MaximeVaidis/scripts/gp_prediction_utils.py:655: DeprecationWarning:`np.float` is a deprecated alias for the builtin `float`. To silence this warning, use `float` by itself. Doing this will not modify any behavior and is safe. If you specifically wanted the numpy scalar type, use `np.float64` here.\n",
      "Deprecated in NumPy 1.20; for more details and guidance: https://numpy.org/devdocs/release/1.20.0-notes.html#deprecations\n",
      " /home/will/catkin_ws/src/code_publication_ICRA2023_MaximeVaidis/scripts/gp_prediction_utils.py:656: DeprecationWarning:`np.float` is a deprecated alias for the builtin `float`. To silence this warning, use `float` by itself. Doing this will not modify any behavior and is safe. If you specifically wanted the numpy scalar type, use `np.float64` here.\n",
      "Deprecated in NumPy 1.20; for more details and guidance: https://numpy.org/devdocs/release/1.20.0-notes.html#deprecations\n",
      " /home/will/catkin_ws/src/code_publication_ICRA2023_MaximeVaidis/scripts/gp_prediction_utils.py:657: DeprecationWarning:`np.float` is a deprecated alias for the builtin `float`. To silence this warning, use `float` by itself. Doing this will not modify any behavior and is safe. If you specifically wanted the numpy scalar type, use `np.float64` here.\n",
      "Deprecated in NumPy 1.20; for more details and guidance: https://numpy.org/devdocs/release/1.20.0-notes.html#deprecations\n",
      " /home/will/catkin_ws/src/code_publication_ICRA2023_MaximeVaidis/scripts/gp_prediction_utils.py:658: DeprecationWarning:`np.float` is a deprecated alias for the builtin `float`. To silence this warning, use `float` by itself. Doing this will not modify any behavior and is safe. If you specifically wanted the numpy scalar type, use `np.float64` here.\n",
      "Deprecated in NumPy 1.20; for more details and guidance: https://numpy.org/devdocs/release/1.20.0-notes.html#deprecations\n",
      " /home/will/catkin_ws/src/code_publication_ICRA2023_MaximeVaidis/scripts/gp_prediction_utils.py:659: DeprecationWarning:`np.float` is a deprecated alias for the builtin `float`. To silence this warning, use `float` by itself. Doing this will not modify any behavior and is safe. If you specifically wanted the numpy scalar type, use `np.float64` here.\n",
      "Deprecated in NumPy 1.20; for more details and guidance: https://numpy.org/devdocs/release/1.20.0-notes.html#deprecations\n",
      " /home/will/catkin_ws/src/code_publication_ICRA2023_MaximeVaidis/scripts/gp_prediction_utils.py:660: DeprecationWarning:`np.float` is a deprecated alias for the builtin `float`. To silence this warning, use `float` by itself. Doing this will not modify any behavior and is safe. If you specifically wanted the numpy scalar type, use `np.float64` here.\n",
      "Deprecated in NumPy 1.20; for more details and guidance: https://numpy.org/devdocs/release/1.20.0-notes.html#deprecations\n",
      " /home/will/catkin_ws/src/code_publication_ICRA2023_MaximeVaidis/scripts/gp_prediction_utils.py:661: DeprecationWarning:`np.float` is a deprecated alias for the builtin `float`. To silence this warning, use `float` by itself. Doing this will not modify any behavior and is safe. If you specifically wanted the numpy scalar type, use `np.float64` here.\n",
      "Deprecated in NumPy 1.20; for more details and guidance: https://numpy.org/devdocs/release/1.20.0-notes.html#deprecations\n"
     ]
    },
    {
     "name": "stdout",
     "output_type": "stream",
     "text": [
      "GP(0, 3.582031726837158 * (EQ() > 11.013118743896484))\n",
      "GP(0, 25.60613441467285 * (EQ() > 3.8558168411254883))\n",
      "GP(0, 0.0016036798479035497 * (EQ() > 9.581188201904297))\n",
      "GP(0, 14.786362648010254 * (EQ() > 3.8069472312927246))\n",
      "GP(0, 1.0918138027191162 * (EQ() > 15.105390548706055))\n",
      "GP(0, 0.0023374317679554224 * (EQ() > 32.408260345458984))\n",
      "GP(0, 6.192529201507568 * (EQ() > 7.394991874694824))\n",
      "GP(0, 23.88251304626465 * (EQ() > 4.379164218902588))\n"
     ]
    },
    {
     "name": "stderr",
     "output_type": "stream",
     "text": [
      "100%|████████████████████████████████████████████████████████████████████████████████████████████████████████████████████████████████████████████████████████████████████████████████| 4/4 [05:11<00:00, 77.96s/it]"
     ]
    },
    {
     "name": "stdout",
     "output_type": "stream",
     "text": [
      "GP(0, 1.8847102182917297e-05 * (EQ() > 24.71275520324707))\n",
      "311.84664273262024\n",
      "Interpolation finished !\n",
      "Conversion done !\n",
      "Conversion done !\n",
      "Conversion done !\n",
      "Saved !\n"
     ]
    },
    {
     "name": "stderr",
     "output_type": "stream",
     "text": [
      "\n"
     ]
    },
    {
     "name": "stdout",
     "output_type": "stream",
     "text": [
      "Number of data for theodolites: [504 615 605]\n",
      "Bad measures: 121\n",
      "346 415 391\n"
     ]
    },
    {
     "name": "stderr",
     "output_type": "stream",
     "text": [
      "  0%|                                                                                                                                                                                       | 0/10 [00:00<?, ?it/s] /home/will/catkin_ws/src/code_publication_ICRA2023_MaximeVaidis/scripts/gp_prediction_utils.py:653: DeprecationWarning:`np.float` is a deprecated alias for the builtin `float`. To silence this warning, use `float` by itself. Doing this will not modify any behavior and is safe. If you specifically wanted the numpy scalar type, use `np.float64` here.\n",
      "Deprecated in NumPy 1.20; for more details and guidance: https://numpy.org/devdocs/release/1.20.0-notes.html#deprecations\n",
      " /home/will/catkin_ws/src/code_publication_ICRA2023_MaximeVaidis/scripts/gp_prediction_utils.py:654: DeprecationWarning:`np.float` is a deprecated alias for the builtin `float`. To silence this warning, use `float` by itself. Doing this will not modify any behavior and is safe. If you specifically wanted the numpy scalar type, use `np.float64` here.\n",
      "Deprecated in NumPy 1.20; for more details and guidance: https://numpy.org/devdocs/release/1.20.0-notes.html#deprecations\n",
      " /home/will/catkin_ws/src/code_publication_ICRA2023_MaximeVaidis/scripts/gp_prediction_utils.py:655: DeprecationWarning:`np.float` is a deprecated alias for the builtin `float`. To silence this warning, use `float` by itself. Doing this will not modify any behavior and is safe. If you specifically wanted the numpy scalar type, use `np.float64` here.\n",
      "Deprecated in NumPy 1.20; for more details and guidance: https://numpy.org/devdocs/release/1.20.0-notes.html#deprecations\n",
      " /home/will/catkin_ws/src/code_publication_ICRA2023_MaximeVaidis/scripts/gp_prediction_utils.py:656: DeprecationWarning:`np.float` is a deprecated alias for the builtin `float`. To silence this warning, use `float` by itself. Doing this will not modify any behavior and is safe. If you specifically wanted the numpy scalar type, use `np.float64` here.\n",
      "Deprecated in NumPy 1.20; for more details and guidance: https://numpy.org/devdocs/release/1.20.0-notes.html#deprecations\n",
      " /home/will/catkin_ws/src/code_publication_ICRA2023_MaximeVaidis/scripts/gp_prediction_utils.py:657: DeprecationWarning:`np.float` is a deprecated alias for the builtin `float`. To silence this warning, use `float` by itself. Doing this will not modify any behavior and is safe. If you specifically wanted the numpy scalar type, use `np.float64` here.\n",
      "Deprecated in NumPy 1.20; for more details and guidance: https://numpy.org/devdocs/release/1.20.0-notes.html#deprecations\n",
      " /home/will/catkin_ws/src/code_publication_ICRA2023_MaximeVaidis/scripts/gp_prediction_utils.py:658: DeprecationWarning:`np.float` is a deprecated alias for the builtin `float`. To silence this warning, use `float` by itself. Doing this will not modify any behavior and is safe. If you specifically wanted the numpy scalar type, use `np.float64` here.\n",
      "Deprecated in NumPy 1.20; for more details and guidance: https://numpy.org/devdocs/release/1.20.0-notes.html#deprecations\n",
      " /home/will/catkin_ws/src/code_publication_ICRA2023_MaximeVaidis/scripts/gp_prediction_utils.py:659: DeprecationWarning:`np.float` is a deprecated alias for the builtin `float`. To silence this warning, use `float` by itself. Doing this will not modify any behavior and is safe. If you specifically wanted the numpy scalar type, use `np.float64` here.\n",
      "Deprecated in NumPy 1.20; for more details and guidance: https://numpy.org/devdocs/release/1.20.0-notes.html#deprecations\n",
      " /home/will/catkin_ws/src/code_publication_ICRA2023_MaximeVaidis/scripts/gp_prediction_utils.py:660: DeprecationWarning:`np.float` is a deprecated alias for the builtin `float`. To silence this warning, use `float` by itself. Doing this will not modify any behavior and is safe. If you specifically wanted the numpy scalar type, use `np.float64` here.\n",
      "Deprecated in NumPy 1.20; for more details and guidance: https://numpy.org/devdocs/release/1.20.0-notes.html#deprecations\n",
      " /home/will/catkin_ws/src/code_publication_ICRA2023_MaximeVaidis/scripts/gp_prediction_utils.py:661: DeprecationWarning:`np.float` is a deprecated alias for the builtin `float`. To silence this warning, use `float` by itself. Doing this will not modify any behavior and is safe. If you specifically wanted the numpy scalar type, use `np.float64` here.\n",
      "Deprecated in NumPy 1.20; for more details and guidance: https://numpy.org/devdocs/release/1.20.0-notes.html#deprecations\n"
     ]
    },
    {
     "name": "stdout",
     "output_type": "stream",
     "text": [
      "GP(0, 6.887453079223633 * (EQ() > 17.352319717407227))\n",
      "GP(0, 33.0523796081543 * (EQ() > 4.290213108062744))\n",
      "GP(0, 0.0026471219025552273 * (EQ() > 57.9909782409668))\n",
      "GP(0, 16.291587829589844 * (EQ() > 3.838878870010376))\n",
      "GP(0, 1.7080004215240479 * (EQ() > 7.829657554626465))\n",
      "GP(0, 0.00254039722494781 * (EQ() > 260.08251953125))\n",
      "GP(0, 9.316170692443848 * (EQ() > 10.246613502502441))\n",
      "GP(0, 29.254140853881836 * (EQ() > 3.1996853351593018))\n"
     ]
    },
    {
     "name": "stderr",
     "output_type": "stream",
     "text": [
      " 10%|█████████████████▌                                                                                                                                                             | 1/10 [01:03<09:28, 63.11s/it]"
     ]
    },
    {
     "name": "stdout",
     "output_type": "stream",
     "text": [
      "GP(0, 1.992825673369225e-05 * (EQ() > 11.609599113464355))\n"
     ]
    },
    {
     "name": "stderr",
     "output_type": "stream",
     "text": [
      " /home/will/catkin_ws/src/code_publication_ICRA2023_MaximeVaidis/scripts/gp_prediction_utils.py:653: DeprecationWarning:`np.float` is a deprecated alias for the builtin `float`. To silence this warning, use `float` by itself. Doing this will not modify any behavior and is safe. If you specifically wanted the numpy scalar type, use `np.float64` here.\n",
      "Deprecated in NumPy 1.20; for more details and guidance: https://numpy.org/devdocs/release/1.20.0-notes.html#deprecations\n",
      " /home/will/catkin_ws/src/code_publication_ICRA2023_MaximeVaidis/scripts/gp_prediction_utils.py:654: DeprecationWarning:`np.float` is a deprecated alias for the builtin `float`. To silence this warning, use `float` by itself. Doing this will not modify any behavior and is safe. If you specifically wanted the numpy scalar type, use `np.float64` here.\n",
      "Deprecated in NumPy 1.20; for more details and guidance: https://numpy.org/devdocs/release/1.20.0-notes.html#deprecations\n",
      " /home/will/catkin_ws/src/code_publication_ICRA2023_MaximeVaidis/scripts/gp_prediction_utils.py:655: DeprecationWarning:`np.float` is a deprecated alias for the builtin `float`. To silence this warning, use `float` by itself. Doing this will not modify any behavior and is safe. If you specifically wanted the numpy scalar type, use `np.float64` here.\n",
      "Deprecated in NumPy 1.20; for more details and guidance: https://numpy.org/devdocs/release/1.20.0-notes.html#deprecations\n",
      " /home/will/catkin_ws/src/code_publication_ICRA2023_MaximeVaidis/scripts/gp_prediction_utils.py:656: DeprecationWarning:`np.float` is a deprecated alias for the builtin `float`. To silence this warning, use `float` by itself. Doing this will not modify any behavior and is safe. If you specifically wanted the numpy scalar type, use `np.float64` here.\n",
      "Deprecated in NumPy 1.20; for more details and guidance: https://numpy.org/devdocs/release/1.20.0-notes.html#deprecations\n",
      " /home/will/catkin_ws/src/code_publication_ICRA2023_MaximeVaidis/scripts/gp_prediction_utils.py:657: DeprecationWarning:`np.float` is a deprecated alias for the builtin `float`. To silence this warning, use `float` by itself. Doing this will not modify any behavior and is safe. If you specifically wanted the numpy scalar type, use `np.float64` here.\n",
      "Deprecated in NumPy 1.20; for more details and guidance: https://numpy.org/devdocs/release/1.20.0-notes.html#deprecations\n",
      " /home/will/catkin_ws/src/code_publication_ICRA2023_MaximeVaidis/scripts/gp_prediction_utils.py:658: DeprecationWarning:`np.float` is a deprecated alias for the builtin `float`. To silence this warning, use `float` by itself. Doing this will not modify any behavior and is safe. If you specifically wanted the numpy scalar type, use `np.float64` here.\n",
      "Deprecated in NumPy 1.20; for more details and guidance: https://numpy.org/devdocs/release/1.20.0-notes.html#deprecations\n",
      " /home/will/catkin_ws/src/code_publication_ICRA2023_MaximeVaidis/scripts/gp_prediction_utils.py:659: DeprecationWarning:`np.float` is a deprecated alias for the builtin `float`. To silence this warning, use `float` by itself. Doing this will not modify any behavior and is safe. If you specifically wanted the numpy scalar type, use `np.float64` here.\n",
      "Deprecated in NumPy 1.20; for more details and guidance: https://numpy.org/devdocs/release/1.20.0-notes.html#deprecations\n",
      " /home/will/catkin_ws/src/code_publication_ICRA2023_MaximeVaidis/scripts/gp_prediction_utils.py:660: DeprecationWarning:`np.float` is a deprecated alias for the builtin `float`. To silence this warning, use `float` by itself. Doing this will not modify any behavior and is safe. If you specifically wanted the numpy scalar type, use `np.float64` here.\n",
      "Deprecated in NumPy 1.20; for more details and guidance: https://numpy.org/devdocs/release/1.20.0-notes.html#deprecations\n",
      " /home/will/catkin_ws/src/code_publication_ICRA2023_MaximeVaidis/scripts/gp_prediction_utils.py:661: DeprecationWarning:`np.float` is a deprecated alias for the builtin `float`. To silence this warning, use `float` by itself. Doing this will not modify any behavior and is safe. If you specifically wanted the numpy scalar type, use `np.float64` here.\n",
      "Deprecated in NumPy 1.20; for more details and guidance: https://numpy.org/devdocs/release/1.20.0-notes.html#deprecations\n"
     ]
    },
    {
     "name": "stdout",
     "output_type": "stream",
     "text": [
      "GP(0, 4.008718013763428 * (EQ() > 0.8246411681175232))\n",
      "GP(0, 31.45159149169922 * (EQ() > 0.7852556109428406))\n",
      "GP(0, 0.0017954556969925761 * (EQ() > 3.240771532058716))\n",
      "GP(0, 17.763809204101562 * (EQ() > 0.78072589635849))\n",
      "GP(0, 1.2863330841064453 * (EQ() > 0.7788929343223572))\n",
      "GP(0, 0.0022629459854215384 * (EQ() > 1.6485990285873413))\n",
      "GP(0, 6.713192939758301 * (EQ() > 0.8717191815376282))\n",
      "GP(0, 29.19083023071289 * (EQ() > 0.7984321117401123))\n"
     ]
    },
    {
     "name": "stderr",
     "output_type": "stream",
     "text": [
      " 30%|████████████████████████████████████████████████████▌                                                                                                                          | 3/10 [02:09<04:46, 40.97s/it]"
     ]
    },
    {
     "name": "stdout",
     "output_type": "stream",
     "text": [
      "GP(0, 8.032516234379727e-06 * (EQ() > 1.3197505474090576))\n"
     ]
    },
    {
     "name": "stderr",
     "output_type": "stream",
     "text": [
      " /home/will/catkin_ws/src/code_publication_ICRA2023_MaximeVaidis/scripts/gp_prediction_utils.py:653: DeprecationWarning:`np.float` is a deprecated alias for the builtin `float`. To silence this warning, use `float` by itself. Doing this will not modify any behavior and is safe. If you specifically wanted the numpy scalar type, use `np.float64` here.\n",
      "Deprecated in NumPy 1.20; for more details and guidance: https://numpy.org/devdocs/release/1.20.0-notes.html#deprecations\n",
      " /home/will/catkin_ws/src/code_publication_ICRA2023_MaximeVaidis/scripts/gp_prediction_utils.py:654: DeprecationWarning:`np.float` is a deprecated alias for the builtin `float`. To silence this warning, use `float` by itself. Doing this will not modify any behavior and is safe. If you specifically wanted the numpy scalar type, use `np.float64` here.\n",
      "Deprecated in NumPy 1.20; for more details and guidance: https://numpy.org/devdocs/release/1.20.0-notes.html#deprecations\n",
      " /home/will/catkin_ws/src/code_publication_ICRA2023_MaximeVaidis/scripts/gp_prediction_utils.py:655: DeprecationWarning:`np.float` is a deprecated alias for the builtin `float`. To silence this warning, use `float` by itself. Doing this will not modify any behavior and is safe. If you specifically wanted the numpy scalar type, use `np.float64` here.\n",
      "Deprecated in NumPy 1.20; for more details and guidance: https://numpy.org/devdocs/release/1.20.0-notes.html#deprecations\n",
      " /home/will/catkin_ws/src/code_publication_ICRA2023_MaximeVaidis/scripts/gp_prediction_utils.py:656: DeprecationWarning:`np.float` is a deprecated alias for the builtin `float`. To silence this warning, use `float` by itself. Doing this will not modify any behavior and is safe. If you specifically wanted the numpy scalar type, use `np.float64` here.\n",
      "Deprecated in NumPy 1.20; for more details and guidance: https://numpy.org/devdocs/release/1.20.0-notes.html#deprecations\n",
      " /home/will/catkin_ws/src/code_publication_ICRA2023_MaximeVaidis/scripts/gp_prediction_utils.py:657: DeprecationWarning:`np.float` is a deprecated alias for the builtin `float`. To silence this warning, use `float` by itself. Doing this will not modify any behavior and is safe. If you specifically wanted the numpy scalar type, use `np.float64` here.\n",
      "Deprecated in NumPy 1.20; for more details and guidance: https://numpy.org/devdocs/release/1.20.0-notes.html#deprecations\n",
      " /home/will/catkin_ws/src/code_publication_ICRA2023_MaximeVaidis/scripts/gp_prediction_utils.py:658: DeprecationWarning:`np.float` is a deprecated alias for the builtin `float`. To silence this warning, use `float` by itself. Doing this will not modify any behavior and is safe. If you specifically wanted the numpy scalar type, use `np.float64` here.\n",
      "Deprecated in NumPy 1.20; for more details and guidance: https://numpy.org/devdocs/release/1.20.0-notes.html#deprecations\n",
      " /home/will/catkin_ws/src/code_publication_ICRA2023_MaximeVaidis/scripts/gp_prediction_utils.py:659: DeprecationWarning:`np.float` is a deprecated alias for the builtin `float`. To silence this warning, use `float` by itself. Doing this will not modify any behavior and is safe. If you specifically wanted the numpy scalar type, use `np.float64` here.\n",
      "Deprecated in NumPy 1.20; for more details and guidance: https://numpy.org/devdocs/release/1.20.0-notes.html#deprecations\n",
      " /home/will/catkin_ws/src/code_publication_ICRA2023_MaximeVaidis/scripts/gp_prediction_utils.py:660: DeprecationWarning:`np.float` is a deprecated alias for the builtin `float`. To silence this warning, use `float` by itself. Doing this will not modify any behavior and is safe. If you specifically wanted the numpy scalar type, use `np.float64` here.\n",
      "Deprecated in NumPy 1.20; for more details and guidance: https://numpy.org/devdocs/release/1.20.0-notes.html#deprecations\n",
      " /home/will/catkin_ws/src/code_publication_ICRA2023_MaximeVaidis/scripts/gp_prediction_utils.py:661: DeprecationWarning:`np.float` is a deprecated alias for the builtin `float`. To silence this warning, use `float` by itself. Doing this will not modify any behavior and is safe. If you specifically wanted the numpy scalar type, use `np.float64` here.\n",
      "Deprecated in NumPy 1.20; for more details and guidance: https://numpy.org/devdocs/release/1.20.0-notes.html#deprecations\n"
     ]
    },
    {
     "name": "stdout",
     "output_type": "stream",
     "text": [
      "GP(0, 10.333980560302734 * (EQ() > 1.5612950325012207))\n",
      "GP(0, 58.645469665527344 * (EQ() > 1.7928916215896606))\n",
      "GP(0, 0.00023182520817499608 * (EQ() > 0.6461740136146545))\n",
      "GP(0, 65.03972625732422 * (EQ() > 1.801148533821106))\n",
      "GP(0, 3.307030439376831 * (EQ() > 15.904305458068848))\n",
      "GP(0, 0.00010676236706785858 * (EQ() > 1.009709119796753))\n",
      "GP(0, 40.94913864135742 * (EQ() > 1.7220876216888428))\n",
      "GP(0, 75.25711822509766 * (EQ() > 2.0624685287475586))\n"
     ]
    },
    {
     "name": "stderr",
     "output_type": "stream",
     "text": [
      " 50%|███████████████████████████████████████████████████████████████████████████████████████▌                                                                                       | 5/10 [03:07<02:54, 34.85s/it]"
     ]
    },
    {
     "name": "stdout",
     "output_type": "stream",
     "text": [
      "GP(0, 0.00869207363575697 * (EQ() > 2.891787052154541))\n"
     ]
    },
    {
     "name": "stderr",
     "output_type": "stream",
     "text": [
      " /home/will/catkin_ws/src/code_publication_ICRA2023_MaximeVaidis/scripts/gp_prediction_utils.py:653: DeprecationWarning:`np.float` is a deprecated alias for the builtin `float`. To silence this warning, use `float` by itself. Doing this will not modify any behavior and is safe. If you specifically wanted the numpy scalar type, use `np.float64` here.\n",
      "Deprecated in NumPy 1.20; for more details and guidance: https://numpy.org/devdocs/release/1.20.0-notes.html#deprecations\n",
      " /home/will/catkin_ws/src/code_publication_ICRA2023_MaximeVaidis/scripts/gp_prediction_utils.py:654: DeprecationWarning:`np.float` is a deprecated alias for the builtin `float`. To silence this warning, use `float` by itself. Doing this will not modify any behavior and is safe. If you specifically wanted the numpy scalar type, use `np.float64` here.\n",
      "Deprecated in NumPy 1.20; for more details and guidance: https://numpy.org/devdocs/release/1.20.0-notes.html#deprecations\n",
      " /home/will/catkin_ws/src/code_publication_ICRA2023_MaximeVaidis/scripts/gp_prediction_utils.py:655: DeprecationWarning:`np.float` is a deprecated alias for the builtin `float`. To silence this warning, use `float` by itself. Doing this will not modify any behavior and is safe. If you specifically wanted the numpy scalar type, use `np.float64` here.\n",
      "Deprecated in NumPy 1.20; for more details and guidance: https://numpy.org/devdocs/release/1.20.0-notes.html#deprecations\n",
      " /home/will/catkin_ws/src/code_publication_ICRA2023_MaximeVaidis/scripts/gp_prediction_utils.py:656: DeprecationWarning:`np.float` is a deprecated alias for the builtin `float`. To silence this warning, use `float` by itself. Doing this will not modify any behavior and is safe. If you specifically wanted the numpy scalar type, use `np.float64` here.\n",
      "Deprecated in NumPy 1.20; for more details and guidance: https://numpy.org/devdocs/release/1.20.0-notes.html#deprecations\n",
      " /home/will/catkin_ws/src/code_publication_ICRA2023_MaximeVaidis/scripts/gp_prediction_utils.py:657: DeprecationWarning:`np.float` is a deprecated alias for the builtin `float`. To silence this warning, use `float` by itself. Doing this will not modify any behavior and is safe. If you specifically wanted the numpy scalar type, use `np.float64` here.\n",
      "Deprecated in NumPy 1.20; for more details and guidance: https://numpy.org/devdocs/release/1.20.0-notes.html#deprecations\n",
      " /home/will/catkin_ws/src/code_publication_ICRA2023_MaximeVaidis/scripts/gp_prediction_utils.py:658: DeprecationWarning:`np.float` is a deprecated alias for the builtin `float`. To silence this warning, use `float` by itself. Doing this will not modify any behavior and is safe. If you specifically wanted the numpy scalar type, use `np.float64` here.\n",
      "Deprecated in NumPy 1.20; for more details and guidance: https://numpy.org/devdocs/release/1.20.0-notes.html#deprecations\n",
      " /home/will/catkin_ws/src/code_publication_ICRA2023_MaximeVaidis/scripts/gp_prediction_utils.py:659: DeprecationWarning:`np.float` is a deprecated alias for the builtin `float`. To silence this warning, use `float` by itself. Doing this will not modify any behavior and is safe. If you specifically wanted the numpy scalar type, use `np.float64` here.\n",
      "Deprecated in NumPy 1.20; for more details and guidance: https://numpy.org/devdocs/release/1.20.0-notes.html#deprecations\n",
      " /home/will/catkin_ws/src/code_publication_ICRA2023_MaximeVaidis/scripts/gp_prediction_utils.py:660: DeprecationWarning:`np.float` is a deprecated alias for the builtin `float`. To silence this warning, use `float` by itself. Doing this will not modify any behavior and is safe. If you specifically wanted the numpy scalar type, use `np.float64` here.\n",
      "Deprecated in NumPy 1.20; for more details and guidance: https://numpy.org/devdocs/release/1.20.0-notes.html#deprecations\n",
      " /home/will/catkin_ws/src/code_publication_ICRA2023_MaximeVaidis/scripts/gp_prediction_utils.py:661: DeprecationWarning:`np.float` is a deprecated alias for the builtin `float`. To silence this warning, use `float` by itself. Doing this will not modify any behavior and is safe. If you specifically wanted the numpy scalar type, use `np.float64` here.\n",
      "Deprecated in NumPy 1.20; for more details and guidance: https://numpy.org/devdocs/release/1.20.0-notes.html#deprecations\n"
     ]
    },
    {
     "name": "stdout",
     "output_type": "stream",
     "text": [
      "GP(0, 22.462583541870117 * (EQ() > 0.8436093330383301))\n",
      "GP(0, 182.89581298828125 * (EQ() > 0.9395285844802856))\n",
      "GP(0, 0.028051596134901047 * (EQ() > 0.6847649812698364))\n",
      "GP(0, 189.67384338378906 * (EQ() > 0.9260407090187073))\n",
      "GP(0, 0.377069354057312 * (EQ() > 0.7348833084106445))\n",
      "GP(0, 0.028888622298836708 * (EQ() > 0.648874819278717))\n",
      "GP(0, 41.76242446899414 * (EQ() > 0.8807977437973022))\n",
      "GP(0, 195.1511993408203 * (EQ() > 0.8830164670944214))\n"
     ]
    },
    {
     "name": "stderr",
     "output_type": "stream",
     "text": [
      " 60%|█████████████████████████████████████████████████████████████████████████████████████████████████████████                                                                      | 6/10 [04:09<02:48, 42.04s/it]"
     ]
    },
    {
     "name": "stdout",
     "output_type": "stream",
     "text": [
      "GP(0, 0.047892749309539795 * (EQ() > 0.672443687915802))\n"
     ]
    },
    {
     "name": "stderr",
     "output_type": "stream",
     "text": [
      " /home/will/catkin_ws/src/code_publication_ICRA2023_MaximeVaidis/scripts/gp_prediction_utils.py:653: DeprecationWarning:`np.float` is a deprecated alias for the builtin `float`. To silence this warning, use `float` by itself. Doing this will not modify any behavior and is safe. If you specifically wanted the numpy scalar type, use `np.float64` here.\n",
      "Deprecated in NumPy 1.20; for more details and guidance: https://numpy.org/devdocs/release/1.20.0-notes.html#deprecations\n",
      " /home/will/catkin_ws/src/code_publication_ICRA2023_MaximeVaidis/scripts/gp_prediction_utils.py:654: DeprecationWarning:`np.float` is a deprecated alias for the builtin `float`. To silence this warning, use `float` by itself. Doing this will not modify any behavior and is safe. If you specifically wanted the numpy scalar type, use `np.float64` here.\n",
      "Deprecated in NumPy 1.20; for more details and guidance: https://numpy.org/devdocs/release/1.20.0-notes.html#deprecations\n",
      " /home/will/catkin_ws/src/code_publication_ICRA2023_MaximeVaidis/scripts/gp_prediction_utils.py:655: DeprecationWarning:`np.float` is a deprecated alias for the builtin `float`. To silence this warning, use `float` by itself. Doing this will not modify any behavior and is safe. If you specifically wanted the numpy scalar type, use `np.float64` here.\n",
      "Deprecated in NumPy 1.20; for more details and guidance: https://numpy.org/devdocs/release/1.20.0-notes.html#deprecations\n",
      " /home/will/catkin_ws/src/code_publication_ICRA2023_MaximeVaidis/scripts/gp_prediction_utils.py:656: DeprecationWarning:`np.float` is a deprecated alias for the builtin `float`. To silence this warning, use `float` by itself. Doing this will not modify any behavior and is safe. If you specifically wanted the numpy scalar type, use `np.float64` here.\n",
      "Deprecated in NumPy 1.20; for more details and guidance: https://numpy.org/devdocs/release/1.20.0-notes.html#deprecations\n",
      " /home/will/catkin_ws/src/code_publication_ICRA2023_MaximeVaidis/scripts/gp_prediction_utils.py:657: DeprecationWarning:`np.float` is a deprecated alias for the builtin `float`. To silence this warning, use `float` by itself. Doing this will not modify any behavior and is safe. If you specifically wanted the numpy scalar type, use `np.float64` here.\n",
      "Deprecated in NumPy 1.20; for more details and guidance: https://numpy.org/devdocs/release/1.20.0-notes.html#deprecations\n",
      " /home/will/catkin_ws/src/code_publication_ICRA2023_MaximeVaidis/scripts/gp_prediction_utils.py:658: DeprecationWarning:`np.float` is a deprecated alias for the builtin `float`. To silence this warning, use `float` by itself. Doing this will not modify any behavior and is safe. If you specifically wanted the numpy scalar type, use `np.float64` here.\n",
      "Deprecated in NumPy 1.20; for more details and guidance: https://numpy.org/devdocs/release/1.20.0-notes.html#deprecations\n",
      " /home/will/catkin_ws/src/code_publication_ICRA2023_MaximeVaidis/scripts/gp_prediction_utils.py:659: DeprecationWarning:`np.float` is a deprecated alias for the builtin `float`. To silence this warning, use `float` by itself. Doing this will not modify any behavior and is safe. If you specifically wanted the numpy scalar type, use `np.float64` here.\n",
      "Deprecated in NumPy 1.20; for more details and guidance: https://numpy.org/devdocs/release/1.20.0-notes.html#deprecations\n",
      " /home/will/catkin_ws/src/code_publication_ICRA2023_MaximeVaidis/scripts/gp_prediction_utils.py:660: DeprecationWarning:`np.float` is a deprecated alias for the builtin `float`. To silence this warning, use `float` by itself. Doing this will not modify any behavior and is safe. If you specifically wanted the numpy scalar type, use `np.float64` here.\n",
      "Deprecated in NumPy 1.20; for more details and guidance: https://numpy.org/devdocs/release/1.20.0-notes.html#deprecations\n",
      " /home/will/catkin_ws/src/code_publication_ICRA2023_MaximeVaidis/scripts/gp_prediction_utils.py:661: DeprecationWarning:`np.float` is a deprecated alias for the builtin `float`. To silence this warning, use `float` by itself. Doing this will not modify any behavior and is safe. If you specifically wanted the numpy scalar type, use `np.float64` here.\n",
      "Deprecated in NumPy 1.20; for more details and guidance: https://numpy.org/devdocs/release/1.20.0-notes.html#deprecations\n"
     ]
    },
    {
     "name": "stdout",
     "output_type": "stream",
     "text": [
      "GP(0, 74.51235961914062 * (EQ() > 0.856900155544281))\n",
      "GP(0, 231.05990600585938 * (EQ() > 0.7899745106697083))\n",
      "GP(0, 0.05315135046839714 * (EQ() > 0.750036358833313))\n",
      "GP(0, 286.01507568359375 * (EQ() > 0.9302594661712646))\n",
      "GP(0, 15.784868240356445 * (EQ() > 0.7984924912452698))\n",
      "GP(0, 0.05259515345096588 * (EQ() > 0.7473481297492981))\n",
      "GP(0, 34.31208038330078 * (EQ() > 0.8843775391578674))\n",
      "GP(0, 296.4278869628906 * (EQ() > 0.8963292837142944))\n"
     ]
    },
    {
     "name": "stderr",
     "output_type": "stream",
     "text": [
      " 90%|█████████████████████████████████████████████████████████████████████████████████████████████████████████████████████████████████████████████████████████████▌                 | 9/10 [05:08<00:30, 30.19s/it]"
     ]
    },
    {
     "name": "stdout",
     "output_type": "stream",
     "text": [
      "GP(0, 0.0839574933052063 * (EQ() > 0.843090832233429))\n"
     ]
    },
    {
     "name": "stderr",
     "output_type": "stream",
     "text": [
      " /home/will/catkin_ws/src/code_publication_ICRA2023_MaximeVaidis/scripts/gp_prediction_utils.py:653: DeprecationWarning:`np.float` is a deprecated alias for the builtin `float`. To silence this warning, use `float` by itself. Doing this will not modify any behavior and is safe. If you specifically wanted the numpy scalar type, use `np.float64` here.\n",
      "Deprecated in NumPy 1.20; for more details and guidance: https://numpy.org/devdocs/release/1.20.0-notes.html#deprecations\n",
      " /home/will/catkin_ws/src/code_publication_ICRA2023_MaximeVaidis/scripts/gp_prediction_utils.py:654: DeprecationWarning:`np.float` is a deprecated alias for the builtin `float`. To silence this warning, use `float` by itself. Doing this will not modify any behavior and is safe. If you specifically wanted the numpy scalar type, use `np.float64` here.\n",
      "Deprecated in NumPy 1.20; for more details and guidance: https://numpy.org/devdocs/release/1.20.0-notes.html#deprecations\n",
      " /home/will/catkin_ws/src/code_publication_ICRA2023_MaximeVaidis/scripts/gp_prediction_utils.py:655: DeprecationWarning:`np.float` is a deprecated alias for the builtin `float`. To silence this warning, use `float` by itself. Doing this will not modify any behavior and is safe. If you specifically wanted the numpy scalar type, use `np.float64` here.\n",
      "Deprecated in NumPy 1.20; for more details and guidance: https://numpy.org/devdocs/release/1.20.0-notes.html#deprecations\n",
      " /home/will/catkin_ws/src/code_publication_ICRA2023_MaximeVaidis/scripts/gp_prediction_utils.py:656: DeprecationWarning:`np.float` is a deprecated alias for the builtin `float`. To silence this warning, use `float` by itself. Doing this will not modify any behavior and is safe. If you specifically wanted the numpy scalar type, use `np.float64` here.\n",
      "Deprecated in NumPy 1.20; for more details and guidance: https://numpy.org/devdocs/release/1.20.0-notes.html#deprecations\n",
      " /home/will/catkin_ws/src/code_publication_ICRA2023_MaximeVaidis/scripts/gp_prediction_utils.py:657: DeprecationWarning:`np.float` is a deprecated alias for the builtin `float`. To silence this warning, use `float` by itself. Doing this will not modify any behavior and is safe. If you specifically wanted the numpy scalar type, use `np.float64` here.\n",
      "Deprecated in NumPy 1.20; for more details and guidance: https://numpy.org/devdocs/release/1.20.0-notes.html#deprecations\n",
      " /home/will/catkin_ws/src/code_publication_ICRA2023_MaximeVaidis/scripts/gp_prediction_utils.py:658: DeprecationWarning:`np.float` is a deprecated alias for the builtin `float`. To silence this warning, use `float` by itself. Doing this will not modify any behavior and is safe. If you specifically wanted the numpy scalar type, use `np.float64` here.\n",
      "Deprecated in NumPy 1.20; for more details and guidance: https://numpy.org/devdocs/release/1.20.0-notes.html#deprecations\n",
      " /home/will/catkin_ws/src/code_publication_ICRA2023_MaximeVaidis/scripts/gp_prediction_utils.py:659: DeprecationWarning:`np.float` is a deprecated alias for the builtin `float`. To silence this warning, use `float` by itself. Doing this will not modify any behavior and is safe. If you specifically wanted the numpy scalar type, use `np.float64` here.\n",
      "Deprecated in NumPy 1.20; for more details and guidance: https://numpy.org/devdocs/release/1.20.0-notes.html#deprecations\n",
      " /home/will/catkin_ws/src/code_publication_ICRA2023_MaximeVaidis/scripts/gp_prediction_utils.py:660: DeprecationWarning:`np.float` is a deprecated alias for the builtin `float`. To silence this warning, use `float` by itself. Doing this will not modify any behavior and is safe. If you specifically wanted the numpy scalar type, use `np.float64` here.\n",
      "Deprecated in NumPy 1.20; for more details and guidance: https://numpy.org/devdocs/release/1.20.0-notes.html#deprecations\n",
      " /home/will/catkin_ws/src/code_publication_ICRA2023_MaximeVaidis/scripts/gp_prediction_utils.py:661: DeprecationWarning:`np.float` is a deprecated alias for the builtin `float`. To silence this warning, use `float` by itself. Doing this will not modify any behavior and is safe. If you specifically wanted the numpy scalar type, use `np.float64` here.\n",
      "Deprecated in NumPy 1.20; for more details and guidance: https://numpy.org/devdocs/release/1.20.0-notes.html#deprecations\n"
     ]
    },
    {
     "name": "stdout",
     "output_type": "stream",
     "text": [
      "GP(0, 12.538651466369629 * (EQ() > 0.7947434782981873))\n",
      "GP(0, 286.5089111328125 * (EQ() > 0.9089205861091614))\n",
      "GP(0, 0.0006082883919589221 * (EQ() > 0.6144087910652161))\n",
      "GP(0, 259.88726806640625 * (EQ() > 0.8784748315811157))\n",
      "GP(0, 144.06875610351562 * (EQ() > 0.8366893529891968))\n",
      "GP(0, 0.0006894684047438204 * (EQ() > 0.5974371433258057))\n",
      "GP(0, 24.40195655822754 * (EQ() > 0.8108933568000793))\n",
      "GP(0, 284.060302734375 * (EQ() > 0.9162187576293945))\n"
     ]
    },
    {
     "name": "stderr",
     "output_type": "stream",
     "text": [
      "100%|██████████████████████████████████████████████████████████████████████████████████████████████████████████████████████████████████████████████████████████████████████████████| 10/10 [06:13<00:00, 37.32s/it]"
     ]
    },
    {
     "name": "stdout",
     "output_type": "stream",
     "text": [
      "GP(0, 0.0010128602152690291 * (EQ() > 0.6434069275856018))\n",
      "373.19151496887207\n",
      "Interpolation finished !\n",
      "Conversion done !\n",
      "Conversion done !\n",
      "Conversion done !\n",
      "Saved !\n"
     ]
    },
    {
     "name": "stderr",
     "output_type": "stream",
     "text": [
      "\n"
     ]
    },
    {
     "name": "stdout",
     "output_type": "stream",
     "text": [
      "Number of data for theodolites: [366 429 419]\n",
      "Bad measures: 74\n",
      "281 307 298\n"
     ]
    },
    {
     "name": "stderr",
     "output_type": "stream",
     "text": [
      "  0%|                                                                                                                                                                                        | 0/6 [00:00<?, ?it/s] /home/will/catkin_ws/src/code_publication_ICRA2023_MaximeVaidis/scripts/gp_prediction_utils.py:653: DeprecationWarning:`np.float` is a deprecated alias for the builtin `float`. To silence this warning, use `float` by itself. Doing this will not modify any behavior and is safe. If you specifically wanted the numpy scalar type, use `np.float64` here.\n",
      "Deprecated in NumPy 1.20; for more details and guidance: https://numpy.org/devdocs/release/1.20.0-notes.html#deprecations\n",
      " /home/will/catkin_ws/src/code_publication_ICRA2023_MaximeVaidis/scripts/gp_prediction_utils.py:654: DeprecationWarning:`np.float` is a deprecated alias for the builtin `float`. To silence this warning, use `float` by itself. Doing this will not modify any behavior and is safe. If you specifically wanted the numpy scalar type, use `np.float64` here.\n",
      "Deprecated in NumPy 1.20; for more details and guidance: https://numpy.org/devdocs/release/1.20.0-notes.html#deprecations\n",
      " /home/will/catkin_ws/src/code_publication_ICRA2023_MaximeVaidis/scripts/gp_prediction_utils.py:655: DeprecationWarning:`np.float` is a deprecated alias for the builtin `float`. To silence this warning, use `float` by itself. Doing this will not modify any behavior and is safe. If you specifically wanted the numpy scalar type, use `np.float64` here.\n",
      "Deprecated in NumPy 1.20; for more details and guidance: https://numpy.org/devdocs/release/1.20.0-notes.html#deprecations\n",
      " /home/will/catkin_ws/src/code_publication_ICRA2023_MaximeVaidis/scripts/gp_prediction_utils.py:656: DeprecationWarning:`np.float` is a deprecated alias for the builtin `float`. To silence this warning, use `float` by itself. Doing this will not modify any behavior and is safe. If you specifically wanted the numpy scalar type, use `np.float64` here.\n",
      "Deprecated in NumPy 1.20; for more details and guidance: https://numpy.org/devdocs/release/1.20.0-notes.html#deprecations\n",
      " /home/will/catkin_ws/src/code_publication_ICRA2023_MaximeVaidis/scripts/gp_prediction_utils.py:657: DeprecationWarning:`np.float` is a deprecated alias for the builtin `float`. To silence this warning, use `float` by itself. Doing this will not modify any behavior and is safe. If you specifically wanted the numpy scalar type, use `np.float64` here.\n",
      "Deprecated in NumPy 1.20; for more details and guidance: https://numpy.org/devdocs/release/1.20.0-notes.html#deprecations\n",
      " /home/will/catkin_ws/src/code_publication_ICRA2023_MaximeVaidis/scripts/gp_prediction_utils.py:658: DeprecationWarning:`np.float` is a deprecated alias for the builtin `float`. To silence this warning, use `float` by itself. Doing this will not modify any behavior and is safe. If you specifically wanted the numpy scalar type, use `np.float64` here.\n",
      "Deprecated in NumPy 1.20; for more details and guidance: https://numpy.org/devdocs/release/1.20.0-notes.html#deprecations\n",
      " /home/will/catkin_ws/src/code_publication_ICRA2023_MaximeVaidis/scripts/gp_prediction_utils.py:659: DeprecationWarning:`np.float` is a deprecated alias for the builtin `float`. To silence this warning, use `float` by itself. Doing this will not modify any behavior and is safe. If you specifically wanted the numpy scalar type, use `np.float64` here.\n",
      "Deprecated in NumPy 1.20; for more details and guidance: https://numpy.org/devdocs/release/1.20.0-notes.html#deprecations\n",
      " /home/will/catkin_ws/src/code_publication_ICRA2023_MaximeVaidis/scripts/gp_prediction_utils.py:660: DeprecationWarning:`np.float` is a deprecated alias for the builtin `float`. To silence this warning, use `float` by itself. Doing this will not modify any behavior and is safe. If you specifically wanted the numpy scalar type, use `np.float64` here.\n",
      "Deprecated in NumPy 1.20; for more details and guidance: https://numpy.org/devdocs/release/1.20.0-notes.html#deprecations\n",
      " /home/will/catkin_ws/src/code_publication_ICRA2023_MaximeVaidis/scripts/gp_prediction_utils.py:661: DeprecationWarning:`np.float` is a deprecated alias for the builtin `float`. To silence this warning, use `float` by itself. Doing this will not modify any behavior and is safe. If you specifically wanted the numpy scalar type, use `np.float64` here.\n",
      "Deprecated in NumPy 1.20; for more details and guidance: https://numpy.org/devdocs/release/1.20.0-notes.html#deprecations\n"
     ]
    },
    {
     "name": "stdout",
     "output_type": "stream",
     "text": [
      "GP(0, 6.038331985473633 * (EQ() > 0.7848527431488037))\n",
      "GP(0, 254.93374633789062 * (EQ() > 0.8068491816520691))\n",
      "GP(0, 0.008279379457235336 * (EQ() > 0.7201864719390869))\n",
      "GP(0, 247.24465942382812 * (EQ() > 0.8285313248634338))\n",
      "GP(0, 83.86894989013672 * (EQ() > 0.8030776977539062))\n",
      "GP(0, 0.006673211697489023 * (EQ() > 0.7252374291419983))\n",
      "GP(0, 3.111298084259033 * (EQ() > 0.7285667061805725))\n",
      "GP(0, 265.8619689941406 * (EQ() > 0.8506090044975281))\n"
     ]
    },
    {
     "name": "stderr",
     "output_type": "stream",
     "text": [
      " 17%|█████████████████████████████▎                                                                                                                                                  | 1/6 [01:16<06:22, 76.47s/it]"
     ]
    },
    {
     "name": "stdout",
     "output_type": "stream",
     "text": [
      "GP(0, 0.015234515070915222 * (EQ() > 0.6926090717315674))\n"
     ]
    },
    {
     "name": "stderr",
     "output_type": "stream",
     "text": [
      " /home/will/catkin_ws/src/code_publication_ICRA2023_MaximeVaidis/scripts/gp_prediction_utils.py:653: DeprecationWarning:`np.float` is a deprecated alias for the builtin `float`. To silence this warning, use `float` by itself. Doing this will not modify any behavior and is safe. If you specifically wanted the numpy scalar type, use `np.float64` here.\n",
      "Deprecated in NumPy 1.20; for more details and guidance: https://numpy.org/devdocs/release/1.20.0-notes.html#deprecations\n",
      " /home/will/catkin_ws/src/code_publication_ICRA2023_MaximeVaidis/scripts/gp_prediction_utils.py:654: DeprecationWarning:`np.float` is a deprecated alias for the builtin `float`. To silence this warning, use `float` by itself. Doing this will not modify any behavior and is safe. If you specifically wanted the numpy scalar type, use `np.float64` here.\n",
      "Deprecated in NumPy 1.20; for more details and guidance: https://numpy.org/devdocs/release/1.20.0-notes.html#deprecations\n",
      " /home/will/catkin_ws/src/code_publication_ICRA2023_MaximeVaidis/scripts/gp_prediction_utils.py:655: DeprecationWarning:`np.float` is a deprecated alias for the builtin `float`. To silence this warning, use `float` by itself. Doing this will not modify any behavior and is safe. If you specifically wanted the numpy scalar type, use `np.float64` here.\n",
      "Deprecated in NumPy 1.20; for more details and guidance: https://numpy.org/devdocs/release/1.20.0-notes.html#deprecations\n",
      " /home/will/catkin_ws/src/code_publication_ICRA2023_MaximeVaidis/scripts/gp_prediction_utils.py:656: DeprecationWarning:`np.float` is a deprecated alias for the builtin `float`. To silence this warning, use `float` by itself. Doing this will not modify any behavior and is safe. If you specifically wanted the numpy scalar type, use `np.float64` here.\n",
      "Deprecated in NumPy 1.20; for more details and guidance: https://numpy.org/devdocs/release/1.20.0-notes.html#deprecations\n",
      " /home/will/catkin_ws/src/code_publication_ICRA2023_MaximeVaidis/scripts/gp_prediction_utils.py:657: DeprecationWarning:`np.float` is a deprecated alias for the builtin `float`. To silence this warning, use `float` by itself. Doing this will not modify any behavior and is safe. If you specifically wanted the numpy scalar type, use `np.float64` here.\n",
      "Deprecated in NumPy 1.20; for more details and guidance: https://numpy.org/devdocs/release/1.20.0-notes.html#deprecations\n",
      " /home/will/catkin_ws/src/code_publication_ICRA2023_MaximeVaidis/scripts/gp_prediction_utils.py:658: DeprecationWarning:`np.float` is a deprecated alias for the builtin `float`. To silence this warning, use `float` by itself. Doing this will not modify any behavior and is safe. If you specifically wanted the numpy scalar type, use `np.float64` here.\n",
      "Deprecated in NumPy 1.20; for more details and guidance: https://numpy.org/devdocs/release/1.20.0-notes.html#deprecations\n",
      " /home/will/catkin_ws/src/code_publication_ICRA2023_MaximeVaidis/scripts/gp_prediction_utils.py:659: DeprecationWarning:`np.float` is a deprecated alias for the builtin `float`. To silence this warning, use `float` by itself. Doing this will not modify any behavior and is safe. If you specifically wanted the numpy scalar type, use `np.float64` here.\n",
      "Deprecated in NumPy 1.20; for more details and guidance: https://numpy.org/devdocs/release/1.20.0-notes.html#deprecations\n",
      " /home/will/catkin_ws/src/code_publication_ICRA2023_MaximeVaidis/scripts/gp_prediction_utils.py:660: DeprecationWarning:`np.float` is a deprecated alias for the builtin `float`. To silence this warning, use `float` by itself. Doing this will not modify any behavior and is safe. If you specifically wanted the numpy scalar type, use `np.float64` here.\n",
      "Deprecated in NumPy 1.20; for more details and guidance: https://numpy.org/devdocs/release/1.20.0-notes.html#deprecations\n",
      " /home/will/catkin_ws/src/code_publication_ICRA2023_MaximeVaidis/scripts/gp_prediction_utils.py:661: DeprecationWarning:`np.float` is a deprecated alias for the builtin `float`. To silence this warning, use `float` by itself. Doing this will not modify any behavior and is safe. If you specifically wanted the numpy scalar type, use `np.float64` here.\n",
      "Deprecated in NumPy 1.20; for more details and guidance: https://numpy.org/devdocs/release/1.20.0-notes.html#deprecations\n"
     ]
    },
    {
     "name": "stdout",
     "output_type": "stream",
     "text": [
      "GP(0, 17.247665405273438 * (EQ() > 0.8138819336891174))\n",
      "GP(0, 385.8492431640625 * (EQ() > 0.8338016867637634))\n",
      "GP(0, 0.016379106789827347 * (EQ() > 0.7503079771995544))\n",
      "GP(0, 346.5786437988281 * (EQ() > 0.8729270100593567))\n",
      "GP(0, 159.80763244628906 * (EQ() > 0.8157675862312317))\n",
      "GP(0, 0.014270731247961521 * (EQ() > 0.7375678420066833))\n",
      "GP(0, 10.447683334350586 * (EQ() > 0.7670677900314331))\n",
      "GP(0, 354.5186462402344 * (EQ() > 0.8972834348678589))\n"
     ]
    },
    {
     "name": "stderr",
     "output_type": "stream",
     "text": [
      " 33%|██████████████████████████████████████████████████████████▋                                                                                                                     | 2/6 [02:16<04:26, 66.69s/it]"
     ]
    },
    {
     "name": "stdout",
     "output_type": "stream",
     "text": [
      "GP(0, 0.02552538737654686 * (EQ() > 0.77153080701828))\n"
     ]
    },
    {
     "name": "stderr",
     "output_type": "stream",
     "text": [
      " /home/will/catkin_ws/src/code_publication_ICRA2023_MaximeVaidis/scripts/gp_prediction_utils.py:653: DeprecationWarning:`np.float` is a deprecated alias for the builtin `float`. To silence this warning, use `float` by itself. Doing this will not modify any behavior and is safe. If you specifically wanted the numpy scalar type, use `np.float64` here.\n",
      "Deprecated in NumPy 1.20; for more details and guidance: https://numpy.org/devdocs/release/1.20.0-notes.html#deprecations\n",
      " /home/will/catkin_ws/src/code_publication_ICRA2023_MaximeVaidis/scripts/gp_prediction_utils.py:654: DeprecationWarning:`np.float` is a deprecated alias for the builtin `float`. To silence this warning, use `float` by itself. Doing this will not modify any behavior and is safe. If you specifically wanted the numpy scalar type, use `np.float64` here.\n",
      "Deprecated in NumPy 1.20; for more details and guidance: https://numpy.org/devdocs/release/1.20.0-notes.html#deprecations\n",
      " /home/will/catkin_ws/src/code_publication_ICRA2023_MaximeVaidis/scripts/gp_prediction_utils.py:655: DeprecationWarning:`np.float` is a deprecated alias for the builtin `float`. To silence this warning, use `float` by itself. Doing this will not modify any behavior and is safe. If you specifically wanted the numpy scalar type, use `np.float64` here.\n",
      "Deprecated in NumPy 1.20; for more details and guidance: https://numpy.org/devdocs/release/1.20.0-notes.html#deprecations\n",
      " /home/will/catkin_ws/src/code_publication_ICRA2023_MaximeVaidis/scripts/gp_prediction_utils.py:656: DeprecationWarning:`np.float` is a deprecated alias for the builtin `float`. To silence this warning, use `float` by itself. Doing this will not modify any behavior and is safe. If you specifically wanted the numpy scalar type, use `np.float64` here.\n",
      "Deprecated in NumPy 1.20; for more details and guidance: https://numpy.org/devdocs/release/1.20.0-notes.html#deprecations\n",
      " /home/will/catkin_ws/src/code_publication_ICRA2023_MaximeVaidis/scripts/gp_prediction_utils.py:657: DeprecationWarning:`np.float` is a deprecated alias for the builtin `float`. To silence this warning, use `float` by itself. Doing this will not modify any behavior and is safe. If you specifically wanted the numpy scalar type, use `np.float64` here.\n",
      "Deprecated in NumPy 1.20; for more details and guidance: https://numpy.org/devdocs/release/1.20.0-notes.html#deprecations\n",
      " /home/will/catkin_ws/src/code_publication_ICRA2023_MaximeVaidis/scripts/gp_prediction_utils.py:658: DeprecationWarning:`np.float` is a deprecated alias for the builtin `float`. To silence this warning, use `float` by itself. Doing this will not modify any behavior and is safe. If you specifically wanted the numpy scalar type, use `np.float64` here.\n",
      "Deprecated in NumPy 1.20; for more details and guidance: https://numpy.org/devdocs/release/1.20.0-notes.html#deprecations\n",
      " /home/will/catkin_ws/src/code_publication_ICRA2023_MaximeVaidis/scripts/gp_prediction_utils.py:659: DeprecationWarning:`np.float` is a deprecated alias for the builtin `float`. To silence this warning, use `float` by itself. Doing this will not modify any behavior and is safe. If you specifically wanted the numpy scalar type, use `np.float64` here.\n",
      "Deprecated in NumPy 1.20; for more details and guidance: https://numpy.org/devdocs/release/1.20.0-notes.html#deprecations\n",
      " /home/will/catkin_ws/src/code_publication_ICRA2023_MaximeVaidis/scripts/gp_prediction_utils.py:660: DeprecationWarning:`np.float` is a deprecated alias for the builtin `float`. To silence this warning, use `float` by itself. Doing this will not modify any behavior and is safe. If you specifically wanted the numpy scalar type, use `np.float64` here.\n",
      "Deprecated in NumPy 1.20; for more details and guidance: https://numpy.org/devdocs/release/1.20.0-notes.html#deprecations\n",
      " /home/will/catkin_ws/src/code_publication_ICRA2023_MaximeVaidis/scripts/gp_prediction_utils.py:661: DeprecationWarning:`np.float` is a deprecated alias for the builtin `float`. To silence this warning, use `float` by itself. Doing this will not modify any behavior and is safe. If you specifically wanted the numpy scalar type, use `np.float64` here.\n",
      "Deprecated in NumPy 1.20; for more details and guidance: https://numpy.org/devdocs/release/1.20.0-notes.html#deprecations\n"
     ]
    },
    {
     "name": "stdout",
     "output_type": "stream",
     "text": [
      "GP(0, 34.83690643310547 * (EQ() > 0.8534393906593323))\n",
      "GP(0, 267.9195556640625 * (EQ() > 0.8668414950370789))\n",
      "GP(0, 0.04039023444056511 * (EQ() > 0.8261046409606934))\n",
      "GP(0, 266.4552917480469 * (EQ() > 0.876971423625946))\n",
      "GP(0, 11.54808235168457 * (EQ() > 0.7824208736419678))\n",
      "GP(0, 0.03324192017316818 * (EQ() > 0.7735539078712463))\n",
      "GP(0, 26.735605239868164 * (EQ() > 0.8784573674201965))\n",
      "GP(0, 269.5176696777344 * (EQ() > 0.9617265462875366))\n"
     ]
    },
    {
     "name": "stderr",
     "output_type": "stream",
     "text": [
      " 83%|██████████████████████████████████████████████████████████████████████████████████████████████████████████████████████████████████████████████████▋                             | 5/6 [03:15<00:33, 33.18s/it]"
     ]
    },
    {
     "name": "stdout",
     "output_type": "stream",
     "text": [
      "GP(0, 0.06567073613405228 * (EQ() > 0.8232376575469971))\n"
     ]
    },
    {
     "name": "stderr",
     "output_type": "stream",
     "text": [
      " /home/will/catkin_ws/src/code_publication_ICRA2023_MaximeVaidis/scripts/gp_prediction_utils.py:653: DeprecationWarning:`np.float` is a deprecated alias for the builtin `float`. To silence this warning, use `float` by itself. Doing this will not modify any behavior and is safe. If you specifically wanted the numpy scalar type, use `np.float64` here.\n",
      "Deprecated in NumPy 1.20; for more details and guidance: https://numpy.org/devdocs/release/1.20.0-notes.html#deprecations\n",
      " /home/will/catkin_ws/src/code_publication_ICRA2023_MaximeVaidis/scripts/gp_prediction_utils.py:654: DeprecationWarning:`np.float` is a deprecated alias for the builtin `float`. To silence this warning, use `float` by itself. Doing this will not modify any behavior and is safe. If you specifically wanted the numpy scalar type, use `np.float64` here.\n",
      "Deprecated in NumPy 1.20; for more details and guidance: https://numpy.org/devdocs/release/1.20.0-notes.html#deprecations\n",
      " /home/will/catkin_ws/src/code_publication_ICRA2023_MaximeVaidis/scripts/gp_prediction_utils.py:655: DeprecationWarning:`np.float` is a deprecated alias for the builtin `float`. To silence this warning, use `float` by itself. Doing this will not modify any behavior and is safe. If you specifically wanted the numpy scalar type, use `np.float64` here.\n",
      "Deprecated in NumPy 1.20; for more details and guidance: https://numpy.org/devdocs/release/1.20.0-notes.html#deprecations\n",
      " /home/will/catkin_ws/src/code_publication_ICRA2023_MaximeVaidis/scripts/gp_prediction_utils.py:656: DeprecationWarning:`np.float` is a deprecated alias for the builtin `float`. To silence this warning, use `float` by itself. Doing this will not modify any behavior and is safe. If you specifically wanted the numpy scalar type, use `np.float64` here.\n",
      "Deprecated in NumPy 1.20; for more details and guidance: https://numpy.org/devdocs/release/1.20.0-notes.html#deprecations\n",
      " /home/will/catkin_ws/src/code_publication_ICRA2023_MaximeVaidis/scripts/gp_prediction_utils.py:657: DeprecationWarning:`np.float` is a deprecated alias for the builtin `float`. To silence this warning, use `float` by itself. Doing this will not modify any behavior and is safe. If you specifically wanted the numpy scalar type, use `np.float64` here.\n",
      "Deprecated in NumPy 1.20; for more details and guidance: https://numpy.org/devdocs/release/1.20.0-notes.html#deprecations\n",
      " /home/will/catkin_ws/src/code_publication_ICRA2023_MaximeVaidis/scripts/gp_prediction_utils.py:658: DeprecationWarning:`np.float` is a deprecated alias for the builtin `float`. To silence this warning, use `float` by itself. Doing this will not modify any behavior and is safe. If you specifically wanted the numpy scalar type, use `np.float64` here.\n",
      "Deprecated in NumPy 1.20; for more details and guidance: https://numpy.org/devdocs/release/1.20.0-notes.html#deprecations\n",
      " /home/will/catkin_ws/src/code_publication_ICRA2023_MaximeVaidis/scripts/gp_prediction_utils.py:659: DeprecationWarning:`np.float` is a deprecated alias for the builtin `float`. To silence this warning, use `float` by itself. Doing this will not modify any behavior and is safe. If you specifically wanted the numpy scalar type, use `np.float64` here.\n",
      "Deprecated in NumPy 1.20; for more details and guidance: https://numpy.org/devdocs/release/1.20.0-notes.html#deprecations\n",
      " /home/will/catkin_ws/src/code_publication_ICRA2023_MaximeVaidis/scripts/gp_prediction_utils.py:660: DeprecationWarning:`np.float` is a deprecated alias for the builtin `float`. To silence this warning, use `float` by itself. Doing this will not modify any behavior and is safe. If you specifically wanted the numpy scalar type, use `np.float64` here.\n",
      "Deprecated in NumPy 1.20; for more details and guidance: https://numpy.org/devdocs/release/1.20.0-notes.html#deprecations\n",
      " /home/will/catkin_ws/src/code_publication_ICRA2023_MaximeVaidis/scripts/gp_prediction_utils.py:661: DeprecationWarning:`np.float` is a deprecated alias for the builtin `float`. To silence this warning, use `float` by itself. Doing this will not modify any behavior and is safe. If you specifically wanted the numpy scalar type, use `np.float64` here.\n",
      "Deprecated in NumPy 1.20; for more details and guidance: https://numpy.org/devdocs/release/1.20.0-notes.html#deprecations\n"
     ]
    },
    {
     "name": "stdout",
     "output_type": "stream",
     "text": [
      "GP(0, 17.66777229309082 * (EQ() > 0.8993105292320251))\n",
      "GP(0, 185.975341796875 * (EQ() > 0.8815268874168396))\n",
      "GP(0, 0.025384696200489998 * (EQ() > 0.7589706778526306))\n",
      "GP(0, 191.02297973632812 * (EQ() > 0.9373718500137329))\n",
      "GP(0, 0.1194334477186203 * (EQ() > 0.7675642371177673))\n",
      "GP(0, 0.02566094510257244 * (EQ() > 0.843783438205719))\n",
      "GP(0, 42.74337387084961 * (EQ() > 0.898737907409668))\n",
      "GP(0, 199.20936584472656 * (EQ() > 0.920367956161499))\n"
     ]
    },
    {
     "name": "stderr",
     "output_type": "stream",
     "text": [
      "100%|████████████████████████████████████████████████████████████████████████████████████████████████████████████████████████████████████████████████████████████████████████████████| 6/6 [04:13<00:00, 42.25s/it]"
     ]
    },
    {
     "name": "stdout",
     "output_type": "stream",
     "text": [
      "GP(0, 0.03959694132208824 * (EQ() > 0.7239181399345398))\n",
      "253.4960207939148\n",
      "Interpolation finished !\n",
      "Conversion done !\n",
      "Conversion done !\n",
      "Conversion done !\n",
      "Saved !\n"
     ]
    },
    {
     "name": "stderr",
     "output_type": "stream",
     "text": [
      "\n"
     ]
    },
    {
     "name": "stdout",
     "output_type": "stream",
     "text": [
      "Number of data for theodolites: [620 622 614]\n",
      "Bad measures: 7\n",
      "612 614 604\n"
     ]
    },
    {
     "name": "stderr",
     "output_type": "stream",
     "text": [
      "  0%|                                                                                                                                                                                        | 0/6 [00:00<?, ?it/s] /home/will/catkin_ws/src/code_publication_ICRA2023_MaximeVaidis/scripts/gp_prediction_utils.py:653: DeprecationWarning:`np.float` is a deprecated alias for the builtin `float`. To silence this warning, use `float` by itself. Doing this will not modify any behavior and is safe. If you specifically wanted the numpy scalar type, use `np.float64` here.\n",
      "Deprecated in NumPy 1.20; for more details and guidance: https://numpy.org/devdocs/release/1.20.0-notes.html#deprecations\n",
      " /home/will/catkin_ws/src/code_publication_ICRA2023_MaximeVaidis/scripts/gp_prediction_utils.py:654: DeprecationWarning:`np.float` is a deprecated alias for the builtin `float`. To silence this warning, use `float` by itself. Doing this will not modify any behavior and is safe. If you specifically wanted the numpy scalar type, use `np.float64` here.\n",
      "Deprecated in NumPy 1.20; for more details and guidance: https://numpy.org/devdocs/release/1.20.0-notes.html#deprecations\n",
      " /home/will/catkin_ws/src/code_publication_ICRA2023_MaximeVaidis/scripts/gp_prediction_utils.py:655: DeprecationWarning:`np.float` is a deprecated alias for the builtin `float`. To silence this warning, use `float` by itself. Doing this will not modify any behavior and is safe. If you specifically wanted the numpy scalar type, use `np.float64` here.\n",
      "Deprecated in NumPy 1.20; for more details and guidance: https://numpy.org/devdocs/release/1.20.0-notes.html#deprecations\n",
      " /home/will/catkin_ws/src/code_publication_ICRA2023_MaximeVaidis/scripts/gp_prediction_utils.py:656: DeprecationWarning:`np.float` is a deprecated alias for the builtin `float`. To silence this warning, use `float` by itself. Doing this will not modify any behavior and is safe. If you specifically wanted the numpy scalar type, use `np.float64` here.\n",
      "Deprecated in NumPy 1.20; for more details and guidance: https://numpy.org/devdocs/release/1.20.0-notes.html#deprecations\n",
      " /home/will/catkin_ws/src/code_publication_ICRA2023_MaximeVaidis/scripts/gp_prediction_utils.py:657: DeprecationWarning:`np.float` is a deprecated alias for the builtin `float`. To silence this warning, use `float` by itself. Doing this will not modify any behavior and is safe. If you specifically wanted the numpy scalar type, use `np.float64` here.\n",
      "Deprecated in NumPy 1.20; for more details and guidance: https://numpy.org/devdocs/release/1.20.0-notes.html#deprecations\n",
      " /home/will/catkin_ws/src/code_publication_ICRA2023_MaximeVaidis/scripts/gp_prediction_utils.py:658: DeprecationWarning:`np.float` is a deprecated alias for the builtin `float`. To silence this warning, use `float` by itself. Doing this will not modify any behavior and is safe. If you specifically wanted the numpy scalar type, use `np.float64` here.\n",
      "Deprecated in NumPy 1.20; for more details and guidance: https://numpy.org/devdocs/release/1.20.0-notes.html#deprecations\n",
      " /home/will/catkin_ws/src/code_publication_ICRA2023_MaximeVaidis/scripts/gp_prediction_utils.py:659: DeprecationWarning:`np.float` is a deprecated alias for the builtin `float`. To silence this warning, use `float` by itself. Doing this will not modify any behavior and is safe. If you specifically wanted the numpy scalar type, use `np.float64` here.\n",
      "Deprecated in NumPy 1.20; for more details and guidance: https://numpy.org/devdocs/release/1.20.0-notes.html#deprecations\n",
      " /home/will/catkin_ws/src/code_publication_ICRA2023_MaximeVaidis/scripts/gp_prediction_utils.py:660: DeprecationWarning:`np.float` is a deprecated alias for the builtin `float`. To silence this warning, use `float` by itself. Doing this will not modify any behavior and is safe. If you specifically wanted the numpy scalar type, use `np.float64` here.\n",
      "Deprecated in NumPy 1.20; for more details and guidance: https://numpy.org/devdocs/release/1.20.0-notes.html#deprecations\n",
      " /home/will/catkin_ws/src/code_publication_ICRA2023_MaximeVaidis/scripts/gp_prediction_utils.py:661: DeprecationWarning:`np.float` is a deprecated alias for the builtin `float`. To silence this warning, use `float` by itself. Doing this will not modify any behavior and is safe. If you specifically wanted the numpy scalar type, use `np.float64` here.\n",
      "Deprecated in NumPy 1.20; for more details and guidance: https://numpy.org/devdocs/release/1.20.0-notes.html#deprecations\n"
     ]
    },
    {
     "name": "stdout",
     "output_type": "stream",
     "text": [
      "GP(0, 18.371349334716797 * (EQ() > 6.854693412780762))\n",
      "GP(0, 34.00909423828125 * (EQ() > 5.220294952392578))\n",
      "GP(0, 0.0021177034359425306 * (EQ() > 46.436458587646484))\n",
      "GP(0, 8.834665298461914 * (EQ() > 4.880214214324951))\n",
      "GP(0, 12.538994789123535 * (EQ() > 3.629544734954834))\n",
      "GP(0, 0.07389216125011444 * (EQ() > 7.626256942749023))\n",
      "GP(0, 0.22634340822696686 * (EQ() > 400.0986328125))\n",
      "GP(0, 26.870832443237305 * (EQ() > 4.451594352722168))\n"
     ]
    },
    {
     "name": "stderr",
     "output_type": "stream",
     "text": [
      " 17%|█████████████████████████████▏                                                                                                                                                 | 1/6 [01:51<09:17, 111.51s/it]"
     ]
    },
    {
     "name": "stdout",
     "output_type": "stream",
     "text": [
      "GP(0, 0.04672260954976082 * (EQ() > 154.4708251953125))\n"
     ]
    },
    {
     "name": "stderr",
     "output_type": "stream",
     "text": [
      " /home/will/catkin_ws/src/code_publication_ICRA2023_MaximeVaidis/scripts/gp_prediction_utils.py:653: DeprecationWarning:`np.float` is a deprecated alias for the builtin `float`. To silence this warning, use `float` by itself. Doing this will not modify any behavior and is safe. If you specifically wanted the numpy scalar type, use `np.float64` here.\n",
      "Deprecated in NumPy 1.20; for more details and guidance: https://numpy.org/devdocs/release/1.20.0-notes.html#deprecations\n",
      " /home/will/catkin_ws/src/code_publication_ICRA2023_MaximeVaidis/scripts/gp_prediction_utils.py:654: DeprecationWarning:`np.float` is a deprecated alias for the builtin `float`. To silence this warning, use `float` by itself. Doing this will not modify any behavior and is safe. If you specifically wanted the numpy scalar type, use `np.float64` here.\n",
      "Deprecated in NumPy 1.20; for more details and guidance: https://numpy.org/devdocs/release/1.20.0-notes.html#deprecations\n",
      " /home/will/catkin_ws/src/code_publication_ICRA2023_MaximeVaidis/scripts/gp_prediction_utils.py:655: DeprecationWarning:`np.float` is a deprecated alias for the builtin `float`. To silence this warning, use `float` by itself. Doing this will not modify any behavior and is safe. If you specifically wanted the numpy scalar type, use `np.float64` here.\n",
      "Deprecated in NumPy 1.20; for more details and guidance: https://numpy.org/devdocs/release/1.20.0-notes.html#deprecations\n",
      " /home/will/catkin_ws/src/code_publication_ICRA2023_MaximeVaidis/scripts/gp_prediction_utils.py:656: DeprecationWarning:`np.float` is a deprecated alias for the builtin `float`. To silence this warning, use `float` by itself. Doing this will not modify any behavior and is safe. If you specifically wanted the numpy scalar type, use `np.float64` here.\n",
      "Deprecated in NumPy 1.20; for more details and guidance: https://numpy.org/devdocs/release/1.20.0-notes.html#deprecations\n",
      " /home/will/catkin_ws/src/code_publication_ICRA2023_MaximeVaidis/scripts/gp_prediction_utils.py:657: DeprecationWarning:`np.float` is a deprecated alias for the builtin `float`. To silence this warning, use `float` by itself. Doing this will not modify any behavior and is safe. If you specifically wanted the numpy scalar type, use `np.float64` here.\n",
      "Deprecated in NumPy 1.20; for more details and guidance: https://numpy.org/devdocs/release/1.20.0-notes.html#deprecations\n",
      " /home/will/catkin_ws/src/code_publication_ICRA2023_MaximeVaidis/scripts/gp_prediction_utils.py:658: DeprecationWarning:`np.float` is a deprecated alias for the builtin `float`. To silence this warning, use `float` by itself. Doing this will not modify any behavior and is safe. If you specifically wanted the numpy scalar type, use `np.float64` here.\n",
      "Deprecated in NumPy 1.20; for more details and guidance: https://numpy.org/devdocs/release/1.20.0-notes.html#deprecations\n",
      " /home/will/catkin_ws/src/code_publication_ICRA2023_MaximeVaidis/scripts/gp_prediction_utils.py:659: DeprecationWarning:`np.float` is a deprecated alias for the builtin `float`. To silence this warning, use `float` by itself. Doing this will not modify any behavior and is safe. If you specifically wanted the numpy scalar type, use `np.float64` here.\n",
      "Deprecated in NumPy 1.20; for more details and guidance: https://numpy.org/devdocs/release/1.20.0-notes.html#deprecations\n",
      " /home/will/catkin_ws/src/code_publication_ICRA2023_MaximeVaidis/scripts/gp_prediction_utils.py:660: DeprecationWarning:`np.float` is a deprecated alias for the builtin `float`. To silence this warning, use `float` by itself. Doing this will not modify any behavior and is safe. If you specifically wanted the numpy scalar type, use `np.float64` here.\n",
      "Deprecated in NumPy 1.20; for more details and guidance: https://numpy.org/devdocs/release/1.20.0-notes.html#deprecations\n",
      " /home/will/catkin_ws/src/code_publication_ICRA2023_MaximeVaidis/scripts/gp_prediction_utils.py:661: DeprecationWarning:`np.float` is a deprecated alias for the builtin `float`. To silence this warning, use `float` by itself. Doing this will not modify any behavior and is safe. If you specifically wanted the numpy scalar type, use `np.float64` here.\n",
      "Deprecated in NumPy 1.20; for more details and guidance: https://numpy.org/devdocs/release/1.20.0-notes.html#deprecations\n"
     ]
    },
    {
     "name": "stdout",
     "output_type": "stream",
     "text": [
      "GP(0, 33.461341857910156 * (EQ() > 8.054945945739746))\n",
      "GP(0, 58.97893524169922 * (EQ() > 8.106168746948242))\n",
      "GP(0, 0.002488769358024001 * (EQ() > 693.7590942382812))\n",
      "GP(0, 14.393218040466309 * (EQ() > 8.270904541015625))\n",
      "GP(0, 20.877458572387695 * (EQ() > 8.338726043701172))\n",
      "GP(0, 0.11173903942108154 * (EQ() > 2727.271728515625))\n",
      "GP(0, 0.2946648895740509 * (EQ() > 3473.214599609375))\n",
      "GP(0, 53.91318130493164 * (EQ() > 6.529730319976807))\n"
     ]
    },
    {
     "name": "stderr",
     "output_type": "stream",
     "text": [
      " 33%|██████████████████████████████████████████████████████████▋                                                                                                                     | 2/6 [02:46<05:13, 78.26s/it]"
     ]
    },
    {
     "name": "stdout",
     "output_type": "stream",
     "text": [
      "GP(0, 0.05511368811130524 * (EQ() > 17.661813735961914))\n"
     ]
    },
    {
     "name": "stderr",
     "output_type": "stream",
     "text": [
      " /home/will/catkin_ws/src/code_publication_ICRA2023_MaximeVaidis/scripts/gp_prediction_utils.py:653: DeprecationWarning:`np.float` is a deprecated alias for the builtin `float`. To silence this warning, use `float` by itself. Doing this will not modify any behavior and is safe. If you specifically wanted the numpy scalar type, use `np.float64` here.\n",
      "Deprecated in NumPy 1.20; for more details and guidance: https://numpy.org/devdocs/release/1.20.0-notes.html#deprecations\n",
      " /home/will/catkin_ws/src/code_publication_ICRA2023_MaximeVaidis/scripts/gp_prediction_utils.py:654: DeprecationWarning:`np.float` is a deprecated alias for the builtin `float`. To silence this warning, use `float` by itself. Doing this will not modify any behavior and is safe. If you specifically wanted the numpy scalar type, use `np.float64` here.\n",
      "Deprecated in NumPy 1.20; for more details and guidance: https://numpy.org/devdocs/release/1.20.0-notes.html#deprecations\n",
      " /home/will/catkin_ws/src/code_publication_ICRA2023_MaximeVaidis/scripts/gp_prediction_utils.py:655: DeprecationWarning:`np.float` is a deprecated alias for the builtin `float`. To silence this warning, use `float` by itself. Doing this will not modify any behavior and is safe. If you specifically wanted the numpy scalar type, use `np.float64` here.\n",
      "Deprecated in NumPy 1.20; for more details and guidance: https://numpy.org/devdocs/release/1.20.0-notes.html#deprecations\n",
      " /home/will/catkin_ws/src/code_publication_ICRA2023_MaximeVaidis/scripts/gp_prediction_utils.py:656: DeprecationWarning:`np.float` is a deprecated alias for the builtin `float`. To silence this warning, use `float` by itself. Doing this will not modify any behavior and is safe. If you specifically wanted the numpy scalar type, use `np.float64` here.\n",
      "Deprecated in NumPy 1.20; for more details and guidance: https://numpy.org/devdocs/release/1.20.0-notes.html#deprecations\n",
      " /home/will/catkin_ws/src/code_publication_ICRA2023_MaximeVaidis/scripts/gp_prediction_utils.py:657: DeprecationWarning:`np.float` is a deprecated alias for the builtin `float`. To silence this warning, use `float` by itself. Doing this will not modify any behavior and is safe. If you specifically wanted the numpy scalar type, use `np.float64` here.\n",
      "Deprecated in NumPy 1.20; for more details and guidance: https://numpy.org/devdocs/release/1.20.0-notes.html#deprecations\n",
      " /home/will/catkin_ws/src/code_publication_ICRA2023_MaximeVaidis/scripts/gp_prediction_utils.py:658: DeprecationWarning:`np.float` is a deprecated alias for the builtin `float`. To silence this warning, use `float` by itself. Doing this will not modify any behavior and is safe. If you specifically wanted the numpy scalar type, use `np.float64` here.\n",
      "Deprecated in NumPy 1.20; for more details and guidance: https://numpy.org/devdocs/release/1.20.0-notes.html#deprecations\n",
      " /home/will/catkin_ws/src/code_publication_ICRA2023_MaximeVaidis/scripts/gp_prediction_utils.py:659: DeprecationWarning:`np.float` is a deprecated alias for the builtin `float`. To silence this warning, use `float` by itself. Doing this will not modify any behavior and is safe. If you specifically wanted the numpy scalar type, use `np.float64` here.\n",
      "Deprecated in NumPy 1.20; for more details and guidance: https://numpy.org/devdocs/release/1.20.0-notes.html#deprecations\n",
      " /home/will/catkin_ws/src/code_publication_ICRA2023_MaximeVaidis/scripts/gp_prediction_utils.py:660: DeprecationWarning:`np.float` is a deprecated alias for the builtin `float`. To silence this warning, use `float` by itself. Doing this will not modify any behavior and is safe. If you specifically wanted the numpy scalar type, use `np.float64` here.\n",
      "Deprecated in NumPy 1.20; for more details and guidance: https://numpy.org/devdocs/release/1.20.0-notes.html#deprecations\n",
      " /home/will/catkin_ws/src/code_publication_ICRA2023_MaximeVaidis/scripts/gp_prediction_utils.py:661: DeprecationWarning:`np.float` is a deprecated alias for the builtin `float`. To silence this warning, use `float` by itself. Doing this will not modify any behavior and is safe. If you specifically wanted the numpy scalar type, use `np.float64` here.\n",
      "Deprecated in NumPy 1.20; for more details and guidance: https://numpy.org/devdocs/release/1.20.0-notes.html#deprecations\n"
     ]
    },
    {
     "name": "stdout",
     "output_type": "stream",
     "text": [
      "GP(0, 25.0970458984375 * (EQ() > 9.055150032043457))\n",
      "GP(0, 38.13343048095703 * (EQ() > 8.111833572387695))\n",
      "GP(0, 0.003431568155065179 * (EQ() > 67.90849304199219))\n",
      "GP(0, 10.480912208557129 * (EQ() > 5.210598945617676))\n",
      "GP(0, 13.846578598022461 * (EQ() > 4.305521011352539))\n",
      "GP(0, 0.08705469965934753 * (EQ() > 1230.0587158203125))\n",
      "GP(0, 0.3096601366996765 * (EQ() > 1066.887939453125))\n",
      "GP(0, 28.907316207885742 * (EQ() > 4.2570953369140625))\n"
     ]
    },
    {
     "name": "stderr",
     "output_type": "stream",
     "text": [
      " 83%|██████████████████████████████████████████████████████████████████████████████████████████████████████████████████████████████████████████████████▋                             | 5/6 [03:53<00:38, 38.18s/it]"
     ]
    },
    {
     "name": "stdout",
     "output_type": "stream",
     "text": [
      "GP(0, 0.07698918879032135 * (EQ() > 918.7340087890625))\n"
     ]
    },
    {
     "name": "stderr",
     "output_type": "stream",
     "text": [
      " /home/will/catkin_ws/src/code_publication_ICRA2023_MaximeVaidis/scripts/gp_prediction_utils.py:653: DeprecationWarning:`np.float` is a deprecated alias for the builtin `float`. To silence this warning, use `float` by itself. Doing this will not modify any behavior and is safe. If you specifically wanted the numpy scalar type, use `np.float64` here.\n",
      "Deprecated in NumPy 1.20; for more details and guidance: https://numpy.org/devdocs/release/1.20.0-notes.html#deprecations\n",
      " /home/will/catkin_ws/src/code_publication_ICRA2023_MaximeVaidis/scripts/gp_prediction_utils.py:654: DeprecationWarning:`np.float` is a deprecated alias for the builtin `float`. To silence this warning, use `float` by itself. Doing this will not modify any behavior and is safe. If you specifically wanted the numpy scalar type, use `np.float64` here.\n",
      "Deprecated in NumPy 1.20; for more details and guidance: https://numpy.org/devdocs/release/1.20.0-notes.html#deprecations\n",
      " /home/will/catkin_ws/src/code_publication_ICRA2023_MaximeVaidis/scripts/gp_prediction_utils.py:655: DeprecationWarning:`np.float` is a deprecated alias for the builtin `float`. To silence this warning, use `float` by itself. Doing this will not modify any behavior and is safe. If you specifically wanted the numpy scalar type, use `np.float64` here.\n",
      "Deprecated in NumPy 1.20; for more details and guidance: https://numpy.org/devdocs/release/1.20.0-notes.html#deprecations\n",
      " /home/will/catkin_ws/src/code_publication_ICRA2023_MaximeVaidis/scripts/gp_prediction_utils.py:656: DeprecationWarning:`np.float` is a deprecated alias for the builtin `float`. To silence this warning, use `float` by itself. Doing this will not modify any behavior and is safe. If you specifically wanted the numpy scalar type, use `np.float64` here.\n",
      "Deprecated in NumPy 1.20; for more details and guidance: https://numpy.org/devdocs/release/1.20.0-notes.html#deprecations\n",
      " /home/will/catkin_ws/src/code_publication_ICRA2023_MaximeVaidis/scripts/gp_prediction_utils.py:657: DeprecationWarning:`np.float` is a deprecated alias for the builtin `float`. To silence this warning, use `float` by itself. Doing this will not modify any behavior and is safe. If you specifically wanted the numpy scalar type, use `np.float64` here.\n",
      "Deprecated in NumPy 1.20; for more details and guidance: https://numpy.org/devdocs/release/1.20.0-notes.html#deprecations\n",
      " /home/will/catkin_ws/src/code_publication_ICRA2023_MaximeVaidis/scripts/gp_prediction_utils.py:658: DeprecationWarning:`np.float` is a deprecated alias for the builtin `float`. To silence this warning, use `float` by itself. Doing this will not modify any behavior and is safe. If you specifically wanted the numpy scalar type, use `np.float64` here.\n",
      "Deprecated in NumPy 1.20; for more details and guidance: https://numpy.org/devdocs/release/1.20.0-notes.html#deprecations\n",
      " /home/will/catkin_ws/src/code_publication_ICRA2023_MaximeVaidis/scripts/gp_prediction_utils.py:659: DeprecationWarning:`np.float` is a deprecated alias for the builtin `float`. To silence this warning, use `float` by itself. Doing this will not modify any behavior and is safe. If you specifically wanted the numpy scalar type, use `np.float64` here.\n",
      "Deprecated in NumPy 1.20; for more details and guidance: https://numpy.org/devdocs/release/1.20.0-notes.html#deprecations\n",
      " /home/will/catkin_ws/src/code_publication_ICRA2023_MaximeVaidis/scripts/gp_prediction_utils.py:660: DeprecationWarning:`np.float` is a deprecated alias for the builtin `float`. To silence this warning, use `float` by itself. Doing this will not modify any behavior and is safe. If you specifically wanted the numpy scalar type, use `np.float64` here.\n",
      "Deprecated in NumPy 1.20; for more details and guidance: https://numpy.org/devdocs/release/1.20.0-notes.html#deprecations\n",
      " /home/will/catkin_ws/src/code_publication_ICRA2023_MaximeVaidis/scripts/gp_prediction_utils.py:661: DeprecationWarning:`np.float` is a deprecated alias for the builtin `float`. To silence this warning, use `float` by itself. Doing this will not modify any behavior and is safe. If you specifically wanted the numpy scalar type, use `np.float64` here.\n",
      "Deprecated in NumPy 1.20; for more details and guidance: https://numpy.org/devdocs/release/1.20.0-notes.html#deprecations\n"
     ]
    },
    {
     "name": "stdout",
     "output_type": "stream",
     "text": [
      "GP(0, 18.446626663208008 * (EQ() > 6.502414226531982))\n",
      "GP(0, 33.533409118652344 * (EQ() > 4.604700088500977))\n",
      "GP(0, 0.0019753235392272472 * (EQ() > 36.20799255371094))\n",
      "GP(0, 8.290247917175293 * (EQ() > 4.360740661621094))\n",
      "GP(0, 12.419700622558594 * (EQ() > 3.332939624786377))\n",
      "GP(0, 0.07578279078006744 * (EQ() > 7.435021877288818))\n",
      "GP(0, 0.26513123512268066 * (EQ() > 311.2315368652344))\n",
      "GP(0, 28.007427215576172 * (EQ() > 3.5998027324676514))\n"
     ]
    },
    {
     "name": "stderr",
     "output_type": "stream",
     "text": [
      "100%|████████████████████████████████████████████████████████████████████████████████████████████████████████████████████████████████████████████████████████████████████████████████| 6/6 [06:55<00:00, 69.28s/it]"
     ]
    },
    {
     "name": "stdout",
     "output_type": "stream",
     "text": [
      "GP(0, 0.055631447583436966 * (EQ() > 50.755794525146484))\n",
      "415.72327637672424\n",
      "Interpolation finished !\n",
      "Conversion done !\n",
      "Conversion done !\n",
      "Conversion done !\n",
      "Saved !\n"
     ]
    },
    {
     "name": "stderr",
     "output_type": "stream",
     "text": [
      "\n"
     ]
    }
   ],
   "source": [
    "# Read rosbag of grand axe and show the trajectory\n",
    "ttf = importlib.reload(ttf)\n",
    "tfu = importlib.reload(tfu)\n",
    "GPf = importlib.reload(GPf)\n",
    "\n",
    "\n",
    "# file = [\"/home/norlab/Data/IROS_2022/20220224_TS/2022-02-24-15-34-38.bag\",\n",
    "#         \"/home/norlab/Data/IROS_2022/20220307_TS/2022-03-07-19-20-06.bag\",\n",
    "#         \"/home/norlab/Data/IROS_2022/20220312_TS/2022-03-12-09-45-12.bag\",\n",
    "#         \"/home/norlab/Data/IROS_2022/20220314_TS/2022-03-14-10-47-49.bag\",\n",
    "#         \"/home/norlab/Data/IROS_2022/20220316_TS/2022-03-16-19-02-42.bag\",\n",
    "#         \"/home/norlab/Data/IROS_2022/20220331_TS/2022-03-31-10-22-52.bag\",\n",
    "#         \"/home/norlab/Data/IROS_2022/20220331_TS/2022-03-31-11-20-05.bag\",\n",
    "#         \"/home/norlab/Data/IROS_2022/20220427_TS/2022-04-27-12-12-10_filered.bag\",\n",
    "#         \"/home/norlab/Data/IROS_2022/20220505_TS/empty1_2022-05-05-19-14-33.bag\",\n",
    "#         \"/home/norlab/Data/IROS_2022/20220505_TS/cones1_2022-05-05-19-25-54.bag\",\n",
    "#         \"/home/norlab/Data/IROS_2022/20201007_Foret/2020-10-08-11-57-30_one_prism_continuous_mapping_quarry1_filtered.bag\",\n",
    "#         \"/home/norlab/Data/IROS_2022/20201007_Foret/2020-10-08-12-14-23_three_prism_continuos_mapping_quarry2_filtered.bag\",\n",
    "#         \"/home/norlab/Data/IROS_2022/20201007_Foret/2020-10-08-17-58-38_ski_trail_continuous_motion_filtered.bag\",\n",
    "#         \"/home/norlab/Data/IROS_2022/20201007_Foret/2020-10-08-18-01-19_ski_trail_start_stop_motion_filtered.bag\",\n",
    "#         \"/home/norlab/Data/IROS_2022/20201007_Foret/2020-10-08-18-05-08_ski_trail_start_stop_straight_segment_filtered.bag\",\n",
    "#         \"/home/norlab/Data/IROS_2022/20201201_Foret/2020-12-01-17-29-01_theodolite.bag\",\n",
    "#         \"/home/norlab/Data/IROS_2022/20201201_Foret/2020-12-01-18-00-21_theodolite.bag\",\n",
    "#         \"/home/norlab/Data/IROS_2022/20201201_Foret/2020-12-01-18-15-43_theodolite.bag\",\n",
    "#         \"/home/norlab/Data/IROS_2022/20201202_Foret/2020-12-02-11-37-05_theodolite.bag\",\n",
    "#         \"/home/norlab/Data/IROS_2022/20201202_Foret/2020-12-02-12-28-41_theodolite.bag\",\n",
    "#         \"/home/norlab/Data/IROS_2022/20201203_Foret/2020-12-03-10-21-59_theodolite.bag\",\n",
    "#         \"/home/norlab/Data/IROS_2022/20210222_Foret/2021-02-22-15-43-34_filtered.bag\",\n",
    "#         \"/home/norlab/Data/IROS_2022/20210222_Foret/2021-02-22-15-50-23_filtered.bag\",\n",
    "#         \"/home/norlab/Data/IROS_2022/20210222_Foret/2021-02-22-16-01-10_filtered.bag\"]\n",
    "\n",
    "# output = [\"TS/20220224/\",\n",
    "#          \"TS/20220307/\",\n",
    "#          \"TS/20220312/\",\n",
    "#          \"TS/20220314/\",\n",
    "#          \"TS/20220316/\",\n",
    "#          \"TS/20220331-1/\",\n",
    "#          \"TS/20220331-2/\",\n",
    "#          \"TS/20220427/\",\n",
    "#          \"TS/20220505_empty/\",\n",
    "#          \"TS/20220505_cones/\",\n",
    "#          \"TS/20201007/01/\",\n",
    "#          \"TS/20201007/02/\",\n",
    "#          \"TS/20201007/03/\",\n",
    "#          \"TS/20201007/04/\",\n",
    "#          \"TS/20201007/05/\",\n",
    "#          \"TS/20201201/01/\",\n",
    "#          \"TS/20201201/02/\",\n",
    "#          \"TS/20201201/03/\",\n",
    "#          \"TS/20201202/01/\",\n",
    "#          \"TS/20201202/02/\",\n",
    "#          \"TS/20201203/01/\",\n",
    "#          \"TS/20210222/01/\",\n",
    "#          \"TS/20210222/02/\",\n",
    "#          \"TS/20210222/03/\"]\n",
    "\n",
    "\n",
    "file = [\"/media/will/T7/theodolite_bags/20220715_TS/2022-07-15-11-50-15.bag\",\n",
    "        \"/media/will/T7/theodolite_bags/20220715_TS/2022-07-15-11-53-12.bag\",\n",
    "        \"/media/will/T7/theodolite_bags/20220715_TS/2022-07-15-11-58-58.bag\",\n",
    "        \"/media/will/T7/theodolite_bags/20220715_TS/2022-07-15-14-42-27.bag\"]\n",
    "        # \"/media/will/T7/theodolite_bags/20220513_TS_2/2022-05-13-22-35-30.bag\",\n",
    "        # \"/media/will/T7/theodolite_bags/20220513_TS_2/2022-05-13-22-51-40.bag\"]\n",
    "\n",
    "output = [\"TS/20220715/01/\",\n",
    "          \"TS/20220715/02/\",\n",
    "          \"TS/20220715/03/\",\n",
    "          \"TS/20220715/04/\"]\n",
    "          # \"TS/20220513/05/\",\n",
    "          # \"TS/20220513/06/\"]\n",
    "\n",
    "\n",
    "\n",
    "# General parameters \n",
    "filtering = True\n",
    "thresold_d = 2                 # m/s\n",
    "thresold_a = 1                 # deg/s\n",
    "thresold_e = 1                 # deg/s\n",
    "limit_time_interval = 1        # s\n",
    "path_output = \"./data/prediction/\"\n",
    "B.epsilon = 1e-8\n",
    "Mode = \"SGP\"\n",
    "limit_search = limit_time_interval\n",
    "size_interval = 6           # Minimum time size sub-interval \n",
    "delta_t = 1                 # Value to remove points near edge of time intervals\n",
    "save = True\n",
    "\n",
    "# GP parameters\n",
    "verbose=False\n",
    "Number_restart = 1000\n",
    "noise_GP = 0                # Noise of GP\n",
    "variance_GP = 1             # Variance of GP\n",
    "lengthscale_GP = 1          # Lengthscale of GP\n",
    "\n",
    "for fname, opath in zip(file,output): \n",
    "    if(not filtering):\n",
    "        path = opath + \"raw/\"\n",
    "    else:\n",
    "        path = opath + \"filtered/\"\n",
    "        \n",
    "    if(filtering):\n",
    "        t1, t2, t3, tp1, tp2, tp3, d1, d2, d3, a1, a2, a3, e1, e2, e3 = ttf.read_rosbag_theodolite_without_tf_raw_data_pre_filtered(fname)\n",
    "        index_1_f = ttf.thresold_raw_data(t1, d1, a1, e1, thresold_d, thresold_a*3.1415926/180, thresold_e*3.1415926/180, limit_time_interval)\n",
    "        index_2_f = ttf.thresold_raw_data(t2, d2, a2, e2, thresold_d, thresold_a*3.1415926/180, thresold_e*3.1415926/180, limit_time_interval)\n",
    "        index_3_f = ttf.thresold_raw_data(t3, d3, a3, e3, thresold_d, thresold_a*3.1415926/180, thresold_e*3.1415926/180, limit_time_interval)\n",
    "        t1 = t1[index_1_f]\n",
    "        t2 = t2[index_2_f]\n",
    "        t3 = t3[index_3_f]\n",
    "        tp1 = tp1[index_1_f].T\n",
    "        tp2 = tp2[index_2_f].T\n",
    "        tp3 = tp3[index_3_f].T\n",
    "        print(len(t1),len(t2),len(t3))\n",
    "    else:\n",
    "        t1, t2, t3, tp1, tp2, tp3, d1, d2, d3, a1, a2, a3, e1, e2, e3 = ttf.read_rosbag_theodolite_without_tf_raw_data(fname)\n",
    "        print(len(t1),len(t2),len(t3))\n",
    "\n",
    "    time_origin = np.min([t1[0],t2[0],t3[0]])\n",
    "\n",
    "    start_time = time.time()\n",
    "\n",
    "    t1 = t1 - np.ones_like(t1)*time_origin\n",
    "    t2 = t2 - np.ones_like(t2)*time_origin\n",
    "    t3 = t3 - np.ones_like(t3)*time_origin\n",
    "\n",
    "    list_interval, list_time = tfu.split_time_interval_all_data(t1, t2, t3, limit_time_interval)\n",
    "    list_trajectories_split = tfu.merge_interval(list_interval, list_time, t1, t2, t3, limit_search)\n",
    "\n",
    "    Prediction_1 = []\n",
    "    Prediction_2 = []\n",
    "    Prediction_3 = []\n",
    "    T_prediction = []\n",
    "\n",
    "    for i in tqdm(list_trajectories_split):\n",
    "\n",
    "        index_1 = np.array([i[0,0],i[1,0]])\n",
    "        index_2 = np.array([i[0,1],i[1,1]])\n",
    "        index_3 = np.array([i[0,2],i[1,2]])\n",
    "\n",
    "        begin = np.max([t1[index_1[0]], t2[index_2[0]], t3[index_3[0]]])+delta_t\n",
    "        end = np.min([t1[index_1[1]], t2[index_2[1]], t3[index_3[1]]])-delta_t\n",
    "\n",
    "        if(abs(end-begin)>size_interval and begin<end):\n",
    "\n",
    "            rate = 10  #Hz\n",
    "            T_prediction_init = torch.from_numpy(np.arange(begin, end, 1/rate))\n",
    "\n",
    "            if(Mode == \"MGPO\" or Mode == \"All\"):\n",
    "                T_MGPO, S_MGPO = GPf.data_training_MGPO(t1, t2, t3, tp1, tp2, tp3, index_1, index_2, index_3)\n",
    "                print(\"Training\")\n",
    "                m = GPf.training_MGPO(Number_restart, verbose, T_MGPO, S_MGPO)\n",
    "                print(\"Prediction\")\n",
    "                for i in T_prediction_init.numpy():\n",
    "                    T_prediction.append(i+time_origin)\n",
    "                    P1_MGPO, P2_MGPO, P3_MGPO = GPf.unit_prediction_MGPO(i, m)\n",
    "                    Prediction_1.append(P1_MGPO)\n",
    "                    Prediction_2.append(P2_MGPO)\n",
    "                    Prediction_3.append(P3_MGPO)\n",
    "\n",
    "            if(Mode == \"GP\" or Mode == \"All\"):\n",
    "                T1, X1, Y1, Z1, T2, X2, Y2, Z2, T3, X3, Y3, Z3 = GPf.data_training_GP(t1, t2, t3, tp1, tp2, tp3, index_1, index_2, index_3)\n",
    "                print(\"Training\")\n",
    "                mx1, my1, mz1, mx2, my2, mz2, mx3, my3, mz3 = GPf.training_GP(Number_restart, verbose, T1, X1, Y1, Z1, T2, X2, Y2, Z2, T3, X3, Y3, Z3)\n",
    "                print(\"Prediction\")\n",
    "                for i in T_prediction_init.numpy():\n",
    "                    T_prediction.append(i+time_origin)\n",
    "                    P1_GP, P2_GP, P3_GP = GPf.unit_prediction_GP(i, mx1, my1, mz1, mx2, my2, mz2, mx3, my3, mz3)\n",
    "                    Prediction_1.append(P1_GP)\n",
    "                    Prediction_2.append(P2_GP)\n",
    "                    Prediction_3.append(P3_GP)\n",
    "\n",
    "            if(Mode == \"L\" or Mode == \"All\"):\n",
    "                T1, X1, Y1, Z1, T2, X2, Y2, Z2, T3, X3, Y3, Z3 = GPf.data_training_L(t1, t2, t3, tp1, tp2, tp3, index_1, index_2, index_3)\n",
    "                print(\"Prediction\")\n",
    "                mx1, my1, mz1, mx2, my2, mz2, mx3, my3, mz3 = GPf.linear_interpolation(T1, X1, Y1, Z1, T2, X2, Y2, Z2,T3, X3, Y3, Z3)\n",
    "\n",
    "                for i in T_prediction_init.numpy():\n",
    "                    T_prediction.append(i+time_origin)\n",
    "                    P1_GP, P2_GP, P3_GP = GPf.linear_prediction(i, time_origin, mx1, my1, mz1, mx2, my2, mz2, mx3, my3, mz3)\n",
    "                    Prediction_1.append(P1_GP)\n",
    "                    Prediction_2.append(P2_GP)\n",
    "                    Prediction_3.append(P3_GP)\n",
    "\n",
    "            if(Mode==\"SGP\"):\n",
    "                prediction_value = T_prediction_init.numpy()\n",
    "                # Prepare data for training\n",
    "                T1, X1, Y1, Z1, T2, X2, Y2, Z2, T3, X3, Y3, Z3 = GPf.data_training_GP_stheno(t1, t2, t3, tp1, tp2, tp3, index_1, index_2, index_3)\n",
    "                # Training for each axis\n",
    "                m_X1, v_X1 = GPf.GP_function_stheno(x=prediction_value, x_obs=T1, y_obs=X1, variance=variance_GP, lengthscale=lengthscale_GP, noise_init=noise_GP, optimization_nb=Number_restart)\n",
    "                m_Y1, v_Y1 = GPf.GP_function_stheno(x=prediction_value, x_obs=T1, y_obs=Y1, variance=variance_GP, lengthscale=lengthscale_GP, noise_init=noise_GP, optimization_nb=Number_restart)\n",
    "                m_Z1, v_Z1 = GPf.GP_function_stheno(x=prediction_value, x_obs=T1, y_obs=Z1, variance=variance_GP, lengthscale=lengthscale_GP, noise_init=noise_GP, optimization_nb=Number_restart)\n",
    "                m_X2, v_X2 = GPf.GP_function_stheno(x=prediction_value, x_obs=T2, y_obs=X2, variance=variance_GP, lengthscale=lengthscale_GP, noise_init=noise_GP, optimization_nb=Number_restart)\n",
    "                m_Y2, v_Y2 = GPf.GP_function_stheno(x=prediction_value, x_obs=T2, y_obs=Y2, variance=variance_GP, lengthscale=lengthscale_GP, noise_init=noise_GP, optimization_nb=Number_restart)\n",
    "                m_Z2, v_Z2 = GPf.GP_function_stheno(x=prediction_value, x_obs=T2, y_obs=Z2, variance=variance_GP, lengthscale=lengthscale_GP, noise_init=noise_GP, optimization_nb=Number_restart)\n",
    "                m_X3, v_X3 = GPf.GP_function_stheno(x=prediction_value, x_obs=T3, y_obs=X3, variance=variance_GP, lengthscale=lengthscale_GP, noise_init=noise_GP, optimization_nb=Number_restart)\n",
    "                m_Y3, v_Y3 = GPf.GP_function_stheno(x=prediction_value, x_obs=T3, y_obs=Y3, variance=variance_GP, lengthscale=lengthscale_GP, noise_init=noise_GP, optimization_nb=Number_restart)\n",
    "                m_Z3, v_Z3 = GPf.GP_function_stheno(x=prediction_value, x_obs=T3, y_obs=Z3, variance=variance_GP, lengthscale=lengthscale_GP, noise_init=noise_GP, optimization_nb=Number_restart)\n",
    "\n",
    "                # Save prediction at time i\n",
    "                for i,mx,my,mz,vx,vy,vz in zip(T_prediction_init.numpy(), m_X1, m_Y1, m_Z1, v_X1, v_Y1, v_Z1):\n",
    "                    Prediction_1.append(np.array([i+time_origin, mx ,my, mz, vx, vy, vz]))\n",
    "                    T_prediction.append(i+time_origin)\n",
    "                for i,mx,my,mz,vx,vy,vz in zip(T_prediction_init.numpy(), m_X2, m_Y2, m_Z2, v_X2, v_Y2, v_Z2):\n",
    "                    Prediction_2.append(np.array([i+time_origin, mx ,my, mz, vx, vy, vz]))\n",
    "                for i,mx,my,mz,vx,vy,vz in zip(T_prediction_init.numpy(), m_X3, m_Y3, m_Z3, v_X3, v_Y3, v_Z3):\n",
    "                    Prediction_3.append(np.array([i+time_origin, mx ,my, mz, vx, vy, vz]))\n",
    "\n",
    "    stop_time = time.time()\n",
    "    print(stop_time - start_time)\n",
    "\n",
    "    print(\"Interpolation finished !\")\n",
    "\n",
    "    if save:\n",
    "        if(Mode == \"MGPO\" or Mode == \"All\"):\n",
    "            if(filtering):\n",
    "                trajectoire = \"f-\"+str(thresold_d)+\"-\"+str(thresold_a)+\"-\"+str(thresold_e)+\"-\"+str(limit_time_interval)+\"-\"+str(size_interval)+\"-\"+str(delta_t)+\"-MGPO-\"+str(Number_restart)\n",
    "            else:\n",
    "                trajectoire = \"nf-\"+str(limit_time_interval)+\"-\"+str(size_interval)+\"-\"+str(delta_t)+\"-MGPO-\"+str(Number_restart)\n",
    "\n",
    "            tfu.Convert_data_prediction_to_csv(T_prediction, Prediction_1, path_output+path+trajectoire+ \"_1.csv\")\n",
    "            tfu.Convert_data_prediction_to_csv(T_prediction, Prediction_2, path_output+path+trajectoire+ \"_2.csv\")\n",
    "            tfu.Convert_data_prediction_to_csv(T_prediction, Prediction_3, path_output+path+trajectoire+ \"_3.csv\")\n",
    "        if(Mode == \"GP\" or Mode == \"All\"):\n",
    "            if(filtering):\n",
    "                trajectoire = \"f-\"+str(thresold_d)+\"-\"+str(thresold_a)+\"-\"+str(thresold_e)+\"-\"+str(limit_time_interval)+\"-\"+str(size_interval)+\"-\"+str(delta_t)+\"-GP-\"+str(Number_restart)\n",
    "            else:\n",
    "                trajectoire = \"nf-\"+str(limit_time_interval)+\"-\"+str(size_interval)+\"-\"+str(delta_t)+\"-GP-\"+str(Number_restart)\n",
    "\n",
    "            tfu.Convert_data_prediction_to_csv(T_prediction, Prediction_1, path_output+path+trajectoire+ \"_1.csv\")\n",
    "            tfu.Convert_data_prediction_to_csv(T_prediction, Prediction_2, path_output+path+trajectoire+ \"_2.csv\")\n",
    "            tfu.Convert_data_prediction_to_csv(T_prediction, Prediction_3, path_output+path+trajectoire+ \"_3.csv\")\n",
    "        if(Mode == \"SGP\" or Mode == \"All\"):\n",
    "            if(filtering):\n",
    "                trajectoire = \"f-\"+str(thresold_d)+\"-\"+str(thresold_a)+\"-\"+str(thresold_e)+\"-\"+str(limit_time_interval)+\"-\"+str(size_interval)+\"-\"+str(delta_t)+\"-SGP-\"+str(Number_restart)\n",
    "            else:\n",
    "                trajectoire = \"nf-\"+str(limit_time_interval)+\"-\"+str(size_interval)+\"-\"+str(delta_t)+\"-SGP-\"+str(Number_restart)\n",
    "\n",
    "            tfu.Convert_data_prediction_to_csv(T_prediction, Prediction_1, path_output+path+trajectoire+ \"_1.csv\")\n",
    "            tfu.Convert_data_prediction_to_csv(T_prediction, Prediction_2, path_output+path+trajectoire+ \"_2.csv\")\n",
    "            tfu.Convert_data_prediction_to_csv(T_prediction, Prediction_3, path_output+path+trajectoire+ \"_3.csv\")\n",
    "        if(Mode == \"L\" or Mode == \"All\"):\n",
    "            if(filtering):\n",
    "                trajectoire = \"f-\"+str(thresold_d)+\"-\"+str(thresold_a)+\"-\"+str(thresold_e)+\"-\"+str(limit_time_interval)+\"-\"+str(size_interval)+\"-\"+str(delta_t)+\"-L\"\n",
    "            else:\n",
    "                trajectoire = \"nf-\"+str(limit_time_interval)+\"-\"+str(size_interval)+\"-\"+str(delta_t)+\"-L\"\n",
    "\n",
    "            if save:\n",
    "                tfu.Convert_datap_to_csv(T_prediction, Prediction_1, path_output+path+trajectoire+ \"_1.csv\")\n",
    "                tfu.Convert_datap_to_csv(T_prediction, Prediction_2, path_output+path+trajectoire+ \"_2.csv\")\n",
    "                tfu.Convert_datap_to_csv(T_prediction, Prediction_3, path_output+path+trajectoire+ \"_3.csv\")\n",
    "\n",
    "    print(\"Saved !\")"
   ]
  },
  {
   "cell_type": "code",
   "execution_count": null,
   "id": "4b510b74",
   "metadata": {},
   "outputs": [],
   "source": []
  }
 ],
 "metadata": {
  "kernelspec": {
   "display_name": "codeMax_venv",
   "language": "python",
   "name": "codemax_venv"
  },
  "language_info": {
   "codemirror_mode": {
    "name": "ipython",
    "version": 3
   },
   "file_extension": ".py",
   "mimetype": "text/x-python",
   "name": "python",
   "nbconvert_exporter": "python",
   "pygments_lexer": "ipython3",
   "version": "3.8.13"
  }
 },
 "nbformat": 4,
 "nbformat_minor": 5
}
