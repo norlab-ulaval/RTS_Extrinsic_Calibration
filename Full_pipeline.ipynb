{
 "cells": [
  {
   "cell_type": "code",
   "execution_count": 1,
   "id": "ff877c1c",
   "metadata": {},
   "outputs": [
    {
     "name": "stderr",
     "output_type": "stream",
     "text": [
      "Failed to load Python extension for LZ4 support. LZ4 compression will not be available.\n"
     ]
    }
   ],
   "source": [
    "import sys\n",
    "import numpy as np\n",
    "import random\n",
    "import os\n",
    "import math\n",
    "import warnings\n",
    "warnings.filterwarnings('ignore')\n",
    "import time\n",
    "from tqdm import tqdm\n",
    "\n",
    "import matplotlib.pyplot as plt\n",
    "import matplotlib\n",
    "from matplotlib import animation\n",
    "from matplotlib.colors import BoundaryNorm\n",
    "from matplotlib.ticker import MaxNLocator\n",
    "\n",
    "import importlib\n",
    "import scripts.theodolite_function as tfu\n",
    "import scripts.theodolite_utils as ttf\n",
    "import GPy\n",
    "import scripts.gp_prediction_utils as GPf\n",
    "tfu = importlib.reload(tfu)\n",
    "ttf = importlib.reload(ttf)\n",
    "GPf = importlib.reload(GPf)\n",
    "\n",
    "from scipy.interpolate import splprep, splev\n",
    "from scipy import interpolate\n",
    "from scipy import spatial\n",
    "import seaborn as sns\n",
    "\n",
    "from scipy.spatial.transform import Rotation as R\n",
    "from IPython.display import HTML\n",
    "from sklearn.gaussian_process import GaussianProcessRegressor\n",
    "from sklearn.gaussian_process.kernels import (RBF, Matern, RationalQuadratic, ExpSineSquared, DotProduct, ConstantKernel)\n",
    "from stheno import B, Measure, GP, EQ, Delta\n",
    "import torch\n",
    "\n",
    "from mpl_toolkits.mplot3d.art3d import Poly3DCollection\n",
    "from wbml.plot import tweak\n"
   ]
  },
  {
   "cell_type": "code",
   "execution_count": 7,
   "id": "c53e2fb4",
   "metadata": {
    "scrolled": true
   },
   "outputs": [
    {
     "name": "stdout",
     "output_type": "stream",
     "text": [
      "Number of data for theodolites: [4945 4681 4737]\n",
      "Bad measures: 558\n",
      "3798 3585 3661\n"
     ]
    },
    {
     "name": "stderr",
     "output_type": "stream",
     "text": [
      "  9%|▉         | 7/75 [00:00<00:01, 58.54it/s]"
     ]
    },
    {
     "name": "stdout",
     "output_type": "stream",
     "text": [
      "Prediction\n",
      "Prediction\n",
      "Prediction\n",
      "Prediction\n",
      "Prediction\n",
      "Prediction\n",
      "Prediction\n",
      "Prediction\n"
     ]
    },
    {
     "name": "stderr",
     "output_type": "stream",
     "text": [
      " 25%|██▌       | 19/75 [00:00<00:01, 46.24it/s]"
     ]
    },
    {
     "name": "stdout",
     "output_type": "stream",
     "text": [
      "Prediction\n",
      "Prediction\n",
      "Prediction\n",
      "Prediction\n",
      "Prediction\n"
     ]
    },
    {
     "name": "stderr",
     "output_type": "stream",
     "text": [
      " 37%|███▋      | 28/75 [00:00<00:01, 33.14it/s]"
     ]
    },
    {
     "name": "stdout",
     "output_type": "stream",
     "text": [
      "Prediction\n",
      "Prediction\n",
      "Prediction\n",
      "Prediction\n",
      "Prediction\n",
      "Prediction\n",
      "Prediction\n",
      "Prediction\n",
      "Prediction\n",
      "Prediction"
     ]
    },
    {
     "name": "stderr",
     "output_type": "stream",
     "text": [
      " 72%|███████▏  | 54/75 [00:01<00:00, 59.35it/s]"
     ]
    },
    {
     "name": "stdout",
     "output_type": "stream",
     "text": [
      "\n",
      "Prediction\n",
      "Prediction\n",
      "Prediction\n",
      "Prediction\n",
      "Prediction\n",
      "Prediction\n",
      "Prediction\n",
      "Prediction\n",
      "Prediction\n"
     ]
    },
    {
     "name": "stderr",
     "output_type": "stream",
     "text": [
      "\r",
      " 81%|████████▏ | 61/75 [00:01<00:00, 50.96it/s]"
     ]
    },
    {
     "name": "stdout",
     "output_type": "stream",
     "text": [
      "Prediction\n",
      "Prediction\n",
      "Prediction\n",
      "Prediction\n",
      "Prediction\n",
      "Prediction\n",
      "Prediction\n",
      "Prediction\n",
      "Prediction\n",
      "Prediction"
     ]
    },
    {
     "name": "stderr",
     "output_type": "stream",
     "text": [
      " 97%|█████████▋| 73/75 [00:01<00:00, 48.91it/s]"
     ]
    },
    {
     "name": "stdout",
     "output_type": "stream",
     "text": [
      "\n",
      "Prediction\n",
      "Prediction\n",
      "Prediction\n",
      "Prediction\n",
      "Prediction\n",
      "Prediction\n"
     ]
    },
    {
     "name": "stderr",
     "output_type": "stream",
     "text": [
      "\r",
      "100%|██████████| 75/75 [00:01<00:00, 37.63it/s]"
     ]
    },
    {
     "name": "stdout",
     "output_type": "stream",
     "text": [
      "Prediction\n",
      "2.6269147396087646\n",
      "Interpolation finished !\n",
      "Conversion done !\n",
      "Conversion done !\n"
     ]
    },
    {
     "name": "stderr",
     "output_type": "stream",
     "text": [
      "\n"
     ]
    },
    {
     "name": "stdout",
     "output_type": "stream",
     "text": [
      "Conversion done !\n",
      "Saved !\n",
      "Number of data for theodolites: [7292 6861 7123]\n",
      "Bad measures: 556\n",
      "5913 5512 5773\n"
     ]
    },
    {
     "name": "stderr",
     "output_type": "stream",
     "text": [
      "\r",
      "  0%|          | 0/66 [00:00<?, ?it/s]"
     ]
    },
    {
     "name": "stdout",
     "output_type": "stream",
     "text": [
      "Prediction\n"
     ]
    },
    {
     "name": "stderr",
     "output_type": "stream",
     "text": [
      "  9%|▉         | 6/66 [00:00<00:02, 22.82it/s]"
     ]
    },
    {
     "name": "stdout",
     "output_type": "stream",
     "text": [
      "Prediction\n",
      "Prediction\n",
      "Prediction\n",
      "Prediction\n",
      "Prediction\n",
      "Prediction\n",
      "Prediction\n"
     ]
    },
    {
     "name": "stderr",
     "output_type": "stream",
     "text": [
      "\r",
      " 14%|█▎        | 9/66 [00:00<00:02, 21.31it/s]"
     ]
    },
    {
     "name": "stdout",
     "output_type": "stream",
     "text": [
      "Prediction\n",
      "Prediction\n",
      "Prediction\n",
      "Prediction\n",
      "Prediction\n"
     ]
    },
    {
     "name": "stderr",
     "output_type": "stream",
     "text": [
      " 36%|███▋      | 24/66 [00:00<00:01, 35.24it/s]"
     ]
    },
    {
     "name": "stdout",
     "output_type": "stream",
     "text": [
      "Prediction\n",
      "Prediction\n",
      "Prediction\n",
      "Prediction\n",
      "Prediction\n",
      "Prediction\n",
      "Prediction\n",
      "Prediction\n",
      "Prediction\n",
      "Prediction\n",
      "Prediction\n",
      "Prediction\n"
     ]
    },
    {
     "name": "stderr",
     "output_type": "stream",
     "text": [
      "\r",
      " 50%|█████     | 33/66 [00:01<00:01, 29.62it/s]"
     ]
    },
    {
     "name": "stdout",
     "output_type": "stream",
     "text": [
      "Prediction\n",
      "Prediction\n"
     ]
    },
    {
     "name": "stderr",
     "output_type": "stream",
     "text": [
      "\r",
      " 56%|█████▌    | 37/66 [00:01<00:01, 18.53it/s]"
     ]
    },
    {
     "name": "stdout",
     "output_type": "stream",
     "text": [
      "Prediction\n"
     ]
    },
    {
     "name": "stderr",
     "output_type": "stream",
     "text": [
      " 92%|█████████▏| 61/66 [00:02<00:00, 41.67it/s]"
     ]
    },
    {
     "name": "stdout",
     "output_type": "stream",
     "text": [
      "Prediction\n",
      "Prediction\n",
      "Prediction\n",
      "Prediction\n",
      "Prediction\n",
      "Prediction\n",
      "Prediction\n",
      "Prediction\n",
      "Prediction\n",
      "Prediction\n"
     ]
    },
    {
     "name": "stderr",
     "output_type": "stream",
     "text": [
      "100%|██████████| 66/66 [00:02<00:00, 22.48it/s]\n"
     ]
    },
    {
     "name": "stdout",
     "output_type": "stream",
     "text": [
      "3.852107048034668\n",
      "Interpolation finished !\n",
      "Conversion done !\n",
      "Conversion done !\n",
      "Conversion done !\n",
      "Saved !\n",
      "Number of data for theodolites: [7273 7358 7741]\n",
      "Bad measures: 658\n",
      "7039 7109 7541\n"
     ]
    },
    {
     "name": "stderr",
     "output_type": "stream",
     "text": [
      "\r",
      "  0%|          | 0/64 [00:00<?, ?it/s]"
     ]
    },
    {
     "name": "stdout",
     "output_type": "stream",
     "text": [
      "Prediction\n"
     ]
    },
    {
     "name": "stderr",
     "output_type": "stream",
     "text": [
      "  5%|▍         | 3/64 [00:00<00:07,  8.34it/s]"
     ]
    },
    {
     "name": "stdout",
     "output_type": "stream",
     "text": [
      "Prediction\n",
      "Prediction\n",
      "Prediction\n"
     ]
    },
    {
     "name": "stderr",
     "output_type": "stream",
     "text": [
      " 19%|█▉        | 12/64 [00:00<00:02, 17.60it/s]"
     ]
    },
    {
     "name": "stdout",
     "output_type": "stream",
     "text": [
      "Prediction\n",
      "Prediction\n",
      "Prediction\n",
      "Prediction\n",
      "Prediction\n",
      "Prediction\n",
      "Prediction\n",
      "Prediction\n",
      "Prediction\n"
     ]
    },
    {
     "name": "stderr",
     "output_type": "stream",
     "text": [
      "\r",
      " 25%|██▌       | 16/64 [00:01<00:02, 17.51it/s]"
     ]
    },
    {
     "name": "stdout",
     "output_type": "stream",
     "text": [
      "Prediction\n",
      "Prediction\n"
     ]
    },
    {
     "name": "stderr",
     "output_type": "stream",
     "text": [
      "\r",
      " 30%|██▉       | 19/64 [00:01<00:02, 15.26it/s]"
     ]
    },
    {
     "name": "stdout",
     "output_type": "stream",
     "text": [
      "Prediction\n",
      "Prediction\n",
      "Prediction\n"
     ]
    },
    {
     "name": "stderr",
     "output_type": "stream",
     "text": [
      " 42%|████▏     | 27/64 [00:01<00:01, 23.03it/s]"
     ]
    },
    {
     "name": "stdout",
     "output_type": "stream",
     "text": [
      "Prediction\n",
      "Prediction\n",
      "Prediction\n",
      "Prediction\n",
      "Prediction\n",
      "Prediction\n",
      "Prediction\n",
      "Prediction\n",
      "Prediction\n",
      "Prediction\n"
     ]
    },
    {
     "name": "stderr",
     "output_type": "stream",
     "text": [
      " 53%|█████▎    | 34/64 [00:02<00:01, 16.15it/s]"
     ]
    },
    {
     "name": "stdout",
     "output_type": "stream",
     "text": [
      "Prediction\n",
      "Prediction\n",
      "Prediction\n",
      "Prediction\n",
      "Prediction\n",
      "Prediction\n",
      "Prediction\n"
     ]
    },
    {
     "name": "stderr",
     "output_type": "stream",
     "text": [
      "\r",
      " 59%|█████▉    | 38/64 [00:02<00:01, 19.17it/s]"
     ]
    },
    {
     "name": "stdout",
     "output_type": "stream",
     "text": [
      "Prediction\n",
      "Prediction\n",
      "Prediction\n"
     ]
    },
    {
     "name": "stderr",
     "output_type": "stream",
     "text": [
      "\r",
      " 64%|██████▍   | 41/64 [00:02<00:01, 16.09it/s]"
     ]
    },
    {
     "name": "stdout",
     "output_type": "stream",
     "text": [
      "Prediction\n",
      "Prediction\n",
      "Prediction\n"
     ]
    },
    {
     "name": "stderr",
     "output_type": "stream",
     "text": [
      " 75%|███████▌  | 48/64 [00:03<00:01, 15.00it/s]"
     ]
    },
    {
     "name": "stdout",
     "output_type": "stream",
     "text": [
      "Prediction\n",
      "Prediction\n",
      "Prediction\n",
      "Prediction\n"
     ]
    },
    {
     "name": "stderr",
     "output_type": "stream",
     "text": [
      "\r",
      " 80%|███████▉  | 51/64 [00:03<00:01, 10.96it/s]"
     ]
    },
    {
     "name": "stdout",
     "output_type": "stream",
     "text": [
      "Prediction\n",
      "Prediction\n",
      "Prediction\n",
      "Prediction\n"
     ]
    },
    {
     "name": "stderr",
     "output_type": "stream",
     "text": [
      " 86%|████████▌ | 55/64 [00:03<00:00, 11.78it/s]"
     ]
    },
    {
     "name": "stdout",
     "output_type": "stream",
     "text": [
      "Prediction\n",
      "Prediction\n",
      "Prediction\n"
     ]
    },
    {
     "name": "stderr",
     "output_type": "stream",
     "text": [
      " 98%|█████████▊| 63/64 [00:04<00:00, 19.28it/s]"
     ]
    },
    {
     "name": "stdout",
     "output_type": "stream",
     "text": [
      "Prediction\n",
      "Prediction\n",
      "Prediction\n",
      "Prediction\n",
      "Prediction\n",
      "Prediction\n",
      "Prediction\n"
     ]
    },
    {
     "name": "stderr",
     "output_type": "stream",
     "text": [
      "100%|██████████| 64/64 [00:04<00:00, 14.54it/s]\n"
     ]
    },
    {
     "name": "stdout",
     "output_type": "stream",
     "text": [
      "5.480032682418823\n",
      "Interpolation finished !\n",
      "Conversion done !\n",
      "Conversion done !\n",
      "Conversion done !\n",
      "Saved !\n",
      "Number of data for theodolites: [7505 7107 7482]\n",
      "Bad measures: 704\n",
      "4604 4378 4629\n"
     ]
    },
    {
     "name": "stderr",
     "output_type": "stream",
     "text": [
      " 20%|██        | 9/44 [00:00<00:00, 74.67it/s]"
     ]
    },
    {
     "name": "stdout",
     "output_type": "stream",
     "text": [
      "Prediction\n",
      "Prediction\n",
      "Prediction\n",
      "Prediction\n",
      "Prediction\n",
      "Prediction\n"
     ]
    },
    {
     "name": "stderr",
     "output_type": "stream",
     "text": [
      " 50%|█████     | 22/44 [00:00<00:00, 30.05it/s]"
     ]
    },
    {
     "name": "stdout",
     "output_type": "stream",
     "text": [
      "Prediction\n",
      "Prediction\n",
      "Prediction\n",
      "Prediction\n",
      "Prediction\n",
      "Prediction\n",
      "Prediction\n",
      "Prediction\n",
      "Prediction\n",
      "Prediction\n",
      "Prediction\n",
      "Prediction\n",
      "Prediction\n"
     ]
    },
    {
     "name": "stderr",
     "output_type": "stream",
     "text": [
      " 75%|███████▌  | 33/44 [00:01<00:00, 25.23it/s]"
     ]
    },
    {
     "name": "stdout",
     "output_type": "stream",
     "text": [
      "Prediction\n",
      "Prediction\n",
      "Prediction\n",
      "Prediction\n",
      "Prediction\n",
      "Prediction\n"
     ]
    },
    {
     "name": "stderr",
     "output_type": "stream",
     "text": [
      "\r",
      " 86%|████████▋ | 38/44 [00:01<00:00, 18.45it/s]"
     ]
    },
    {
     "name": "stdout",
     "output_type": "stream",
     "text": [
      "Prediction\n",
      "Prediction\n",
      "Prediction\n",
      "Prediction\n",
      "Prediction\n"
     ]
    },
    {
     "name": "stderr",
     "output_type": "stream",
     "text": [
      "100%|██████████| 44/44 [00:02<00:00, 18.17it/s]\n"
     ]
    },
    {
     "name": "stdout",
     "output_type": "stream",
     "text": [
      "Prediction\n",
      "2.882720470428467\n",
      "Interpolation finished !\n",
      "Conversion done !\n",
      "Conversion done !\n",
      "Conversion done !\n",
      "Saved !\n",
      "Number of data for theodolites: [5680 5508 5382]\n",
      "Bad measures: 459\n",
      "3710 3553 3509\n"
     ]
    },
    {
     "name": "stderr",
     "output_type": "stream",
     "text": [
      "  4%|▍         | 2/47 [00:00<00:02, 17.39it/s]"
     ]
    },
    {
     "name": "stdout",
     "output_type": "stream",
     "text": [
      "Prediction\n",
      "Prediction\n",
      "Prediction\n",
      "Prediction\n",
      "Prediction\n",
      "Prediction\n"
     ]
    },
    {
     "name": "stderr",
     "output_type": "stream",
     "text": [
      "\r",
      " 23%|██▎       | 11/47 [00:00<00:00, 50.51it/s]"
     ]
    },
    {
     "name": "stdout",
     "output_type": "stream",
     "text": [
      "Prediction\n",
      "Prediction\n",
      "Prediction\n",
      "Prediction\n"
     ]
    },
    {
     "name": "stderr",
     "output_type": "stream",
     "text": [
      "\r",
      " 34%|███▍      | 16/47 [00:00<00:01, 26.81it/s]"
     ]
    },
    {
     "name": "stdout",
     "output_type": "stream",
     "text": [
      "Prediction\n",
      "Prediction\n"
     ]
    },
    {
     "name": "stderr",
     "output_type": "stream",
     "text": [
      " 57%|█████▋    | 27/47 [00:00<00:00, 29.55it/s]"
     ]
    },
    {
     "name": "stdout",
     "output_type": "stream",
     "text": [
      "Prediction\n",
      "Prediction\n",
      "Prediction\n",
      "Prediction\n",
      "Prediction\n",
      "Prediction\n",
      "Prediction\n",
      "Prediction\n",
      "Prediction\n",
      "Prediction\n"
     ]
    },
    {
     "name": "stderr",
     "output_type": "stream",
     "text": [
      "\r",
      " 72%|███████▏  | 34/47 [00:01<00:00, 31.52it/s]"
     ]
    },
    {
     "name": "stdout",
     "output_type": "stream",
     "text": [
      "Prediction\n",
      "Prediction\n",
      "Prediction\n"
     ]
    },
    {
     "name": "stderr",
     "output_type": "stream",
     "text": [
      "\r",
      " 81%|████████  | 38/47 [00:01<00:00, 26.20it/s]"
     ]
    },
    {
     "name": "stdout",
     "output_type": "stream",
     "text": [
      "Prediction\n",
      "Prediction\n",
      "Prediction\n"
     ]
    },
    {
     "name": "stderr",
     "output_type": "stream",
     "text": [
      "\r",
      " 89%|████████▉ | 42/47 [00:01<00:00, 23.10it/s]"
     ]
    },
    {
     "name": "stdout",
     "output_type": "stream",
     "text": [
      "Prediction\n",
      "Prediction\n",
      "Prediction\n"
     ]
    },
    {
     "name": "stderr",
     "output_type": "stream",
     "text": [
      "100%|██████████| 47/47 [00:01<00:00, 25.41it/s]\n"
     ]
    },
    {
     "name": "stdout",
     "output_type": "stream",
     "text": [
      "Prediction\n",
      "2.2199692726135254\n",
      "Interpolation finished !\n",
      "Conversion done !\n",
      "Conversion done !\n",
      "Conversion done !\n",
      "Saved !\n",
      "Number of data for theodolites: [4645 4243 4455]\n",
      "Bad measures: 3550\n",
      "4025 3652 3786\n"
     ]
    },
    {
     "name": "stderr",
     "output_type": "stream",
     "text": [
      "\r",
      "  0%|          | 0/50 [00:00<?, ?it/s]"
     ]
    },
    {
     "name": "stdout",
     "output_type": "stream",
     "text": [
      "Prediction\n"
     ]
    },
    {
     "name": "stderr",
     "output_type": "stream",
     "text": [
      " 16%|█▌        | 8/50 [00:00<00:01, 25.93it/s]"
     ]
    },
    {
     "name": "stdout",
     "output_type": "stream",
     "text": [
      "Prediction\n",
      "Prediction\n",
      "Prediction\n",
      "Prediction\n",
      "Prediction\n",
      "Prediction\n",
      "Prediction\n"
     ]
    },
    {
     "name": "stderr",
     "output_type": "stream",
     "text": [
      "\r",
      " 24%|██▍       | 12/50 [00:00<00:02, 17.38it/s]"
     ]
    },
    {
     "name": "stdout",
     "output_type": "stream",
     "text": [
      "Prediction\n",
      "Prediction\n",
      "Prediction\n"
     ]
    },
    {
     "name": "stderr",
     "output_type": "stream",
     "text": [
      "\r",
      " 30%|███       | 15/50 [00:01<00:02, 13.36it/s]"
     ]
    },
    {
     "name": "stdout",
     "output_type": "stream",
     "text": [
      "Prediction\n",
      "Prediction\n",
      "Prediction\n"
     ]
    },
    {
     "name": "stderr",
     "output_type": "stream",
     "text": [
      "\r",
      " 40%|████      | 20/50 [00:01<00:01, 18.16it/s]"
     ]
    },
    {
     "name": "stdout",
     "output_type": "stream",
     "text": [
      "Prediction\n",
      "Prediction\n",
      "Prediction\n",
      "Prediction\n",
      "Prediction\n"
     ]
    },
    {
     "name": "stderr",
     "output_type": "stream",
     "text": [
      " 84%|████████▍ | 42/50 [00:01<00:00, 43.05it/s]"
     ]
    },
    {
     "name": "stdout",
     "output_type": "stream",
     "text": [
      "Prediction\n",
      "Prediction\n",
      "Prediction\n",
      "Prediction\n",
      "Prediction\n",
      "Prediction\n",
      "Prediction\n",
      "Prediction\n",
      "Prediction\n",
      "Prediction\n",
      "Prediction\n",
      "Prediction\n"
     ]
    },
    {
     "name": "stderr",
     "output_type": "stream",
     "text": [
      "100%|██████████| 50/50 [00:01<00:00, 31.15it/s]\n"
     ]
    },
    {
     "name": "stdout",
     "output_type": "stream",
     "text": [
      "Prediction\n",
      "Prediction\n",
      "Prediction\n",
      "Prediction\n",
      "2.056140661239624\n",
      "Interpolation finished !\n",
      "Conversion done !\n",
      "Conversion done !\n",
      "Conversion done !\n",
      "Saved !\n",
      "Number of data for theodolites: [1734 1807 1871]\n",
      "Bad measures: 4622\n",
      "1168 1231 1217\n"
     ]
    },
    {
     "name": "stderr",
     "output_type": "stream",
     "text": [
      "\r",
      "  0%|          | 0/31 [00:00<?, ?it/s]"
     ]
    },
    {
     "name": "stdout",
     "output_type": "stream",
     "text": [
      "Prediction\n",
      "Prediction\n",
      "Prediction\n",
      "Prediction\n"
     ]
    },
    {
     "name": "stderr",
     "output_type": "stream",
     "text": [
      " 35%|███▌      | 11/31 [00:00<00:00, 56.89it/s]"
     ]
    },
    {
     "name": "stdout",
     "output_type": "stream",
     "text": [
      "Prediction\n",
      "Prediction\n",
      "Prediction\n",
      "Prediction\n",
      "Prediction\n",
      "Prediction\n",
      "Prediction\n",
      "Prediction\n"
     ]
    },
    {
     "name": "stderr",
     "output_type": "stream",
     "text": [
      "\r",
      " 74%|███████▍  | 23/31 [00:00<00:00, 83.52it/s]"
     ]
    },
    {
     "name": "stdout",
     "output_type": "stream",
     "text": [
      "Prediction\n",
      "Prediction\n",
      "Prediction\n",
      "Prediction\n",
      "Prediction\n"
     ]
    },
    {
     "name": "stderr",
     "output_type": "stream",
     "text": [
      "100%|██████████| 31/31 [00:00<00:00, 84.30it/s]\n"
     ]
    },
    {
     "name": "stdout",
     "output_type": "stream",
     "text": [
      "0.4703667163848877\n",
      "Interpolation finished !\n",
      "Conversion done !\n",
      "Conversion done !\n",
      "Conversion done !\n",
      "Saved !\n",
      "Number of data for theodolites: [5147 5552 5811]\n",
      "Bad measures: 2602\n",
      "4747 5194 5433\n"
     ]
    },
    {
     "name": "stderr",
     "output_type": "stream",
     "text": [
      "  4%|▍         | 3/73 [00:00<00:03, 20.66it/s]"
     ]
    },
    {
     "name": "stdout",
     "output_type": "stream",
     "text": [
      "Prediction\n",
      "Prediction\n",
      "Prediction\n",
      "Prediction\n"
     ]
    },
    {
     "name": "stderr",
     "output_type": "stream",
     "text": [
      " 14%|█▎        | 10/73 [00:00<00:02, 26.39it/s]"
     ]
    },
    {
     "name": "stdout",
     "output_type": "stream",
     "text": [
      "Prediction\n",
      "Prediction\n",
      "Prediction\n",
      "Prediction\n",
      "Prediction\n",
      "Prediction\n",
      "Prediction\n",
      "Prediction\n"
     ]
    },
    {
     "name": "stderr",
     "output_type": "stream",
     "text": [
      " 29%|██▉       | 21/73 [00:00<00:01, 32.94it/s]"
     ]
    },
    {
     "name": "stdout",
     "output_type": "stream",
     "text": [
      "Prediction\n",
      "Prediction\n",
      "Prediction\n",
      "Prediction\n",
      "Prediction\n"
     ]
    },
    {
     "name": "stderr",
     "output_type": "stream",
     "text": [
      " 51%|█████     | 37/73 [00:00<00:00, 51.66it/s]"
     ]
    },
    {
     "name": "stdout",
     "output_type": "stream",
     "text": [
      "Prediction\n",
      "Prediction\n",
      "Prediction\n",
      "Prediction\n",
      "Prediction\n",
      "Prediction\n",
      "Prediction\n",
      "Prediction\n",
      "Prediction\n",
      "Prediction\n",
      "Prediction\n"
     ]
    },
    {
     "name": "stderr",
     "output_type": "stream",
     "text": [
      "\r",
      " 59%|█████▉    | 43/73 [00:01<00:00, 45.41it/s]"
     ]
    },
    {
     "name": "stdout",
     "output_type": "stream",
     "text": [
      "Prediction\n",
      "Prediction\n",
      "Prediction\n"
     ]
    },
    {
     "name": "stderr",
     "output_type": "stream",
     "text": [
      " 74%|███████▍  | 54/73 [00:01<00:00, 33.36it/s]"
     ]
    },
    {
     "name": "stdout",
     "output_type": "stream",
     "text": [
      "Prediction\n",
      "Prediction\n",
      "Prediction\n",
      "Prediction\n",
      "Prediction\n",
      "Prediction\n",
      "Prediction\n",
      "Prediction\n"
     ]
    },
    {
     "name": "stderr",
     "output_type": "stream",
     "text": [
      "\r",
      " 81%|████████  | 59/73 [00:01<00:00, 30.30it/s]"
     ]
    },
    {
     "name": "stdout",
     "output_type": "stream",
     "text": [
      "Prediction\n",
      "Prediction\n",
      "Prediction\n",
      "Prediction\n"
     ]
    },
    {
     "name": "stderr",
     "output_type": "stream",
     "text": [
      "\r",
      " 86%|████████▋ | 63/73 [00:02<00:00, 25.35it/s]"
     ]
    },
    {
     "name": "stdout",
     "output_type": "stream",
     "text": [
      "Prediction\n",
      "Prediction\n",
      "Prediction\n",
      "Prediction\n",
      "Prediction\n",
      "Prediction\n"
     ]
    },
    {
     "name": "stderr",
     "output_type": "stream",
     "text": [
      "100%|██████████| 73/73 [00:02<00:00, 29.82it/s]\n"
     ]
    },
    {
     "name": "stdout",
     "output_type": "stream",
     "text": [
      "Prediction\n",
      "Prediction\n",
      "Prediction\n",
      "Prediction\n",
      "3.3073017597198486\n",
      "Interpolation finished !\n",
      "Conversion done !\n",
      "Conversion done !\n",
      "Conversion done !\n",
      "Saved !\n",
      "Number of data for theodolites: [764 767 759]\n",
      "Bad measures: 25\n",
      "728 732 730\n"
     ]
    },
    {
     "name": "stderr",
     "output_type": "stream",
     "text": [
      "\r",
      "  0%|          | 0/3 [00:00<?, ?it/s]"
     ]
    },
    {
     "name": "stdout",
     "output_type": "stream",
     "text": [
      "Prediction\n"
     ]
    },
    {
     "name": "stderr",
     "output_type": "stream",
     "text": [
      "100%|██████████| 3/3 [00:00<00:00,  7.77it/s]\n"
     ]
    },
    {
     "name": "stdout",
     "output_type": "stream",
     "text": [
      "0.4016885757446289\n",
      "Interpolation finished !\n",
      "Conversion done !\n",
      "Conversion done !\n",
      "Conversion done !\n",
      "Saved !\n",
      "Number of data for theodolites: [614 653 638]\n",
      "Bad measures: 67\n",
      "589 634 620\n"
     ]
    },
    {
     "name": "stderr",
     "output_type": "stream",
     "text": [
      " 67%|██████▋   | 4/6 [00:00<00:00, 32.88it/s]"
     ]
    },
    {
     "name": "stdout",
     "output_type": "stream",
     "text": [
      "Prediction\n",
      "Prediction\n",
      "Prediction\n",
      "Prediction\n",
      "Prediction\n",
      "Prediction"
     ]
    },
    {
     "name": "stderr",
     "output_type": "stream",
     "text": [
      "\r",
      "100%|██████████| 6/6 [00:00<00:00, 17.51it/s]"
     ]
    },
    {
     "name": "stdout",
     "output_type": "stream",
     "text": [
      "\n",
      "0.3550076484680176\n",
      "Interpolation finished !\n",
      "Conversion done !\n",
      "Conversion done !\n",
      "Conversion done !\n",
      "Saved !\n"
     ]
    },
    {
     "name": "stderr",
     "output_type": "stream",
     "text": [
      "\n"
     ]
    }
   ],
   "source": [
    "# Read rosbag of grand axe and show the trajectory\n",
    "ttf = importlib.reload(ttf)\n",
    "tfu = importlib.reload(tfu)\n",
    "GPf = importlib.reload(GPf)\n",
    "\n",
    "file = [\"/home/norlab/Data/IROS_2022/20220224_TS/2022-02-24-15-34-38.bag\",\n",
    "        \"/home/norlab/Data/IROS_2022/20220307_TS/2022-03-07-19-20-06.bag\",\n",
    "        \"/home/norlab/Data/IROS_2022/20220312_TS/2022-03-12-09-45-12.bag\",\n",
    "        \"/home/norlab/Data/IROS_2022/20220314_TS/2022-03-14-10-47-49.bag\",\n",
    "        \"/home/norlab/Data/IROS_2022/20220316_TS/2022-03-16-19-02-42.bag\",\n",
    "        \"/home/norlab/Data/IROS_2022/20220331_TS/2022-03-31-10-22-52.bag\",\n",
    "        \"/home/norlab/Data/IROS_2022/20220331_TS/2022-03-31-11-20-05.bag\",\n",
    "        \"/home/norlab/Data/IROS_2022/20220427_TS/2022-04-27-12-12-10_filered.bag\",\n",
    "        \"/home/norlab/Data/IROS_2022/20220505_TS/empty1_2022-05-05-19-14-33.bag\",\n",
    "        \"/home/norlab/Data/IROS_2022/20220505_TS/cones1_2022-05-05-19-25-54.bag\"]\n",
    "\n",
    "output = [\"TS/20220224/\",\n",
    "         \"TS/20220307/\",\n",
    "         \"TS/20220312/\",\n",
    "         \"TS/20220314/\",\n",
    "         \"TS/20220316/\",\n",
    "         \"TS/20220331-1/\",\n",
    "         \"TS/20220331-2/\",\n",
    "         \"TS/20220427/\",\n",
    "         \"TS/20220505_empty/\",\n",
    "         \"TS/20220505_cones/\"]\n",
    "\n",
    "#file = \"/home/norlab/Data/IROS_2022/20220427_TS_2/2022-04-27-22-33-19_filtered.bag\"\n",
    "#file = \"/home/norlab/Data/IROS_2022/20220523_TS/constrained_2022-05-23-18-56-16.bag\"\n",
    "#file = \"/home/norlab/Data/IROS_2022/20220523_TS/empty_filtered_2022-05-23-19-18-35.bag\"\n",
    "#file = \"/home/norlab/Data/IROS_2022/20220523_TS/cones_filtered_2022-05-23-19-31-32.bag\"\n",
    "#file = \"/home/norlab/Data/IROS_2022/20220523_TS/other_tunnel_2022-05-23-19-39-40.bag\"\n",
    "\n",
    "\n",
    "# General parameters \n",
    "filtering = True\n",
    "thresold_d = 2                 # m/s\n",
    "thresold_a = 1                 # deg/s\n",
    "thresold_e = 1                 # deg/s\n",
    "limit_time_interval = 2        # s\n",
    "path_output = \"./data/prediction/\"\n",
    "B.epsilon = 1e-8\n",
    "Mode = \"L\"\n",
    "limit_search = limit_time_interval\n",
    "size_interval = 6           # Minimum time size sub-interval \n",
    "delta_t = 0                 # Value to remove points near edge of time intervals\n",
    "save = True\n",
    "\n",
    "# GP parameters\n",
    "verbose=False\n",
    "noise_GP = 0                # Noise of GP\n",
    "variance_GP = 1             # Variance of GP\n",
    "lengthscale_GP = 1          # Lengthscale of GP\n",
    "\n",
    "for fname, opath in zip(file,output): \n",
    "    if(not filtering):\n",
    "        path = opath + \"raw/\"\n",
    "    else:\n",
    "        path = opath + \"filtered/\"\n",
    "        \n",
    "    if(filtering):\n",
    "        t1, t2, t3, tp1, tp2, tp3, d1, d2, d3, a1, a2, a3, e1, e2, e3 = ttf.read_rosbag_theodolite_without_tf_raw_data_pre_filtered(fname)\n",
    "        index_1_f = ttf.thresold_raw_data(t1, d1, a1, e1, thresold_d, thresold_a*3.1415926/180, thresold_e*3.1415926/180, limit_time_interval)\n",
    "        index_2_f = ttf.thresold_raw_data(t2, d2, a2, e2, thresold_d, thresold_a*3.1415926/180, thresold_e*3.1415926/180, limit_time_interval)\n",
    "        index_3_f = ttf.thresold_raw_data(t3, d3, a3, e3, thresold_d, thresold_a*3.1415926/180, thresold_e*3.1415926/180, limit_time_interval)\n",
    "        t1 = t1[index_1_f]\n",
    "        t2 = t2[index_2_f]\n",
    "        t3 = t3[index_3_f]\n",
    "        tp1 = tp1[index_1_f].T\n",
    "        tp2 = tp2[index_2_f].T\n",
    "        tp3 = tp3[index_3_f].T\n",
    "        print(len(t1),len(t2),len(t3))\n",
    "    else:\n",
    "        t1, t2, t3, tp1, tp2, tp3, d1, d2, d3, a1, a2, a3, e1, e2, e3 = ttf.read_rosbag_theodolite_without_tf_raw_data(fname)\n",
    "        print(len(t1),len(t2),len(t3))\n",
    "\n",
    "    time_origin = np.min([t1[0],t2[0],t3[0]])\n",
    "\n",
    "    Number_restart = 10\n",
    "\n",
    "    start_time = time.time()\n",
    "\n",
    "    t1 = t1 - np.ones_like(t1)*time_origin\n",
    "    t2 = t2 - np.ones_like(t2)*time_origin\n",
    "    t3 = t3 - np.ones_like(t3)*time_origin\n",
    "\n",
    "    list_interval, list_time = tfu.split_time_interval_all_data(t1, t2, t3, limit_time_interval)\n",
    "    list_trajectories_split = tfu.merge_interval(list_interval, list_time, t1, t2, t3, limit_search)\n",
    "\n",
    "    Prediction_1 = []\n",
    "    Prediction_2 = []\n",
    "    Prediction_3 = []\n",
    "    T_prediction = []\n",
    "\n",
    "    for i in tqdm(list_trajectories_split):\n",
    "\n",
    "        index_1 = np.array([i[0,0],i[1,0]])\n",
    "        index_2 = np.array([i[0,1],i[1,1]])\n",
    "        index_3 = np.array([i[0,2],i[1,2]])\n",
    "\n",
    "        begin = np.max([t1[index_1[0]], t2[index_2[0]], t3[index_3[0]]])+delta_t\n",
    "        end = np.min([t1[index_1[1]], t2[index_2[1]], t3[index_3[1]]])-delta_t\n",
    "\n",
    "        if(abs(end-begin)>size_interval and begin<end):\n",
    "\n",
    "            rate = 10  #Hz\n",
    "            T_prediction_init = torch.from_numpy(np.arange(begin, end, 1/rate))\n",
    "\n",
    "            if(Mode == \"MGPO\" or Mode == \"All\"):\n",
    "                T_MGPO, S_MGPO = GPf.data_training_MGPO(t1, t2, t3, tp1, tp2, tp3, index_1, index_2, index_3)\n",
    "                print(\"Training\")\n",
    "                m = GPf.training_MGPO(Number_restart, verbose, T_MGPO, S_MGPO)\n",
    "                print(\"Prediction\")\n",
    "                for i in T_prediction_init.numpy():\n",
    "                    T_prediction.append(i+time_origin)\n",
    "                    P1_MGPO, P2_MGPO, P3_MGPO = GPf.unit_prediction_MGPO(i, m)\n",
    "                    Prediction_1.append(P1_MGPO)\n",
    "                    Prediction_2.append(P2_MGPO)\n",
    "                    Prediction_3.append(P3_MGPO)\n",
    "\n",
    "            if(Mode == \"GP\" or Mode == \"All\"):\n",
    "                T1, X1, Y1, Z1, T2, X2, Y2, Z2, T3, X3, Y3, Z3 = GPf.data_training_GP(t1, t2, t3, tp1, tp2, tp3, index_1, index_2, index_3)\n",
    "                print(\"Training\")\n",
    "                mx1, my1, mz1, mx2, my2, mz2, mx3, my3, mz3 = GPf.training_GP(Number_restart, verbose, T1, X1, Y1, Z1, T2, X2, Y2, Z2, T3, X3, Y3, Z3)\n",
    "                print(\"Prediction\")\n",
    "                for i in T_prediction_init.numpy():\n",
    "                    T_prediction.append(i+time_origin)\n",
    "                    P1_GP, P2_GP, P3_GP = GPf.unit_prediction_GP(i, mx1, my1, mz1, mx2, my2, mz2, mx3, my3, mz3)\n",
    "                    Prediction_1.append(P1_GP)\n",
    "                    Prediction_2.append(P2_GP)\n",
    "                    Prediction_3.append(P3_GP)\n",
    "\n",
    "            if(Mode == \"L\" or Mode == \"All\"):\n",
    "                T1, X1, Y1, Z1, T2, X2, Y2, Z2, T3, X3, Y3, Z3 = GPf.data_training_L(t1, t2, t3, tp1, tp2, tp3, index_1, index_2, index_3)\n",
    "                print(\"Prediction\")\n",
    "                mx1, my1, mz1, mx2, my2, mz2, mx3, my3, mz3 = GPf.linear_interpolation(T1, X1, Y1, Z1, T2, X2, Y2, Z2,T3, X3, Y3, Z3)\n",
    "\n",
    "                for i in T_prediction_init.numpy():\n",
    "                    T_prediction.append(i+time_origin)\n",
    "                    P1_GP, P2_GP, P3_GP = GPf.linear_prediction(i, time_origin, mx1, my1, mz1, mx2, my2, mz2, mx3, my3, mz3)\n",
    "                    Prediction_1.append(P1_GP)\n",
    "                    Prediction_2.append(P2_GP)\n",
    "                    Prediction_3.append(P3_GP)\n",
    "\n",
    "            if(Mode==\"SGP\"):\n",
    "                prediction_value = T_prediction_init.numpy()\n",
    "                # Prepare data for training\n",
    "                T1, X1, Y1, Z1, T2, X2, Y2, Z2, T3, X3, Y3, Z3 = GPf.data_training_GP_stheno(t1, t2, t3, tp1, tp2, tp3, index_1, index_2, index_3)\n",
    "                # Training for each axis\n",
    "                m_X1, v_X1 = GPf.GP_function_stheno(x=prediction_value, x_obs=T1, y_obs=X1, variance=variance_GP, lengthscale=lengthscale_GP, noise_init=noise_GP, optimization_nb=Number_restart)\n",
    "                m_Y1, v_Y1 = GPf.GP_function_stheno(x=prediction_value, x_obs=T1, y_obs=Y1, variance=variance_GP, lengthscale=lengthscale_GP, noise_init=noise_GP, optimization_nb=Number_restart)\n",
    "                m_Z1, v_Z1 = GPf.GP_function_stheno(x=prediction_value, x_obs=T1, y_obs=Z1, variance=variance_GP, lengthscale=lengthscale_GP, noise_init=noise_GP, optimization_nb=Number_restart)\n",
    "                m_X2, v_X2 = GPf.GP_function_stheno(x=prediction_value, x_obs=T2, y_obs=X2, variance=variance_GP, lengthscale=lengthscale_GP, noise_init=noise_GP, optimization_nb=Number_restart)\n",
    "                m_Y2, v_Y2 = GPf.GP_function_stheno(x=prediction_value, x_obs=T2, y_obs=Y2, variance=variance_GP, lengthscale=lengthscale_GP, noise_init=noise_GP, optimization_nb=Number_restart)\n",
    "                m_Z2, v_Z2 = GPf.GP_function_stheno(x=prediction_value, x_obs=T2, y_obs=Z2, variance=variance_GP, lengthscale=lengthscale_GP, noise_init=noise_GP, optimization_nb=Number_restart)\n",
    "                m_X3, v_X3 = GPf.GP_function_stheno(x=prediction_value, x_obs=T3, y_obs=X3, variance=variance_GP, lengthscale=lengthscale_GP, noise_init=noise_GP, optimization_nb=Number_restart)\n",
    "                m_Y3, v_Y3 = GPf.GP_function_stheno(x=prediction_value, x_obs=T3, y_obs=Y3, variance=variance_GP, lengthscale=lengthscale_GP, noise_init=noise_GP, optimization_nb=Number_restart)\n",
    "                m_Z3, v_Z3 = GPf.GP_function_stheno(x=prediction_value, x_obs=T3, y_obs=Z3, variance=variance_GP, lengthscale=lengthscale_GP, noise_init=noise_GP, optimization_nb=Number_restart)\n",
    "\n",
    "                # Save prediction at time i\n",
    "                for i,mx,my,mz,vx,vy,vz in zip(T_prediction_init.numpy(), m_X1, m_Y1, m_Z1, v_X1, v_Y1, v_Z1):\n",
    "                    Prediction_1.append(np.array([i+time_origin, mx ,my, mz, vx, vy, vz]))\n",
    "                    T_prediction.append(i+time_origin)\n",
    "                for i,mx,my,mz,vx,vy,vz in zip(T_prediction_init.numpy(), m_X2, m_Y2, m_Z2, v_X2, v_Y2, v_Z2):\n",
    "                    Prediction_2.append(np.array([i+time_origin, mx ,my, mz, vx, vy, vz]))\n",
    "                for i,mx,my,mz,vx,vy,vz in zip(T_prediction_init.numpy(), m_X3, m_Y3, m_Z3, v_X3, v_Y3, v_Z3):\n",
    "                    Prediction_3.append(np.array([i+time_origin, mx ,my, mz, vx, vy, vz]))\n",
    "\n",
    "    stop_time = time.time()\n",
    "    print(stop_time - start_time)\n",
    "\n",
    "    print(\"Interpolation finished !\")\n",
    "\n",
    "    if save:\n",
    "        if(Mode == \"MGPO\" or Mode == \"All\"):\n",
    "            if(filtering):\n",
    "                trajectoire = \"f-\"+str(thresold_d)+\"-\"+str(thresold_a)+\"-\"+str(thresold_e)+\"-\"+str(limit_time_interval)+\"-\"+str(size_interval)+\"-\"+str(delta_t)+\"-MGPO-\"+str(Number_restart)\n",
    "            else:\n",
    "                trajectoire = \"nf-\"+str(limit_time_interval)+\"-\"+str(size_interval)+\"-\"+str(delta_t)+\"-MGPO-\"+str(Number_restart)\n",
    "\n",
    "            tfu.Convert_data_prediction_to_csv(T_prediction, Prediction_1, path_output+path+trajectoire+ \"_1.csv\")\n",
    "            tfu.Convert_data_prediction_to_csv(T_prediction, Prediction_2, path_output+path+trajectoire+ \"_2.csv\")\n",
    "            tfu.Convert_data_prediction_to_csv(T_prediction, Prediction_3, path_output+path+trajectoire+ \"_3.csv\")\n",
    "        if(Mode == \"GP\" or Mode == \"All\"):\n",
    "            if(filtering):\n",
    "                trajectoire = \"f-\"+str(thresold_d)+\"-\"+str(thresold_a)+\"-\"+str(thresold_e)+\"-\"+str(limit_time_interval)+\"-\"+str(size_interval)+\"-\"+str(delta_t)+\"-GP-\"+str(Number_restart)\n",
    "            else:\n",
    "                trajectoire = \"nf-\"+str(limit_time_interval)+\"-\"+str(size_interval)+\"-\"+str(delta_t)+\"-GP-\"+str(Number_restart)\n",
    "\n",
    "            tfu.Convert_data_prediction_to_csv(T_prediction, Prediction_1, path_output+path+trajectoire+ \"_1.csv\")\n",
    "            tfu.Convert_data_prediction_to_csv(T_prediction, Prediction_2, path_output+path+trajectoire+ \"_2.csv\")\n",
    "            tfu.Convert_data_prediction_to_csv(T_prediction, Prediction_3, path_output+path+trajectoire+ \"_3.csv\")\n",
    "        if(Mode == \"SGP\" or Mode == \"All\"):\n",
    "            if(filtering):\n",
    "                trajectoire = \"f-\"+str(thresold_d)+\"-\"+str(thresold_a)+\"-\"+str(thresold_e)+\"-\"+str(limit_time_interval)+\"-\"+str(size_interval)+\"-\"+str(delta_t)+\"-SGP-\"+str(Number_restart)\n",
    "            else:\n",
    "                trajectoire = \"nf-\"+str(limit_time_interval)+\"-\"+str(size_interval)+\"-\"+str(delta_t)+\"-SGP-\"+str(Number_restart)\n",
    "\n",
    "            tfu.Convert_data_prediction_to_csv(T_prediction, Prediction_1, path_output+path+trajectoire+ \"_1.csv\")\n",
    "            tfu.Convert_data_prediction_to_csv(T_prediction, Prediction_2, path_output+path+trajectoire+ \"_2.csv\")\n",
    "            tfu.Convert_data_prediction_to_csv(T_prediction, Prediction_3, path_output+path+trajectoire+ \"_3.csv\")\n",
    "        if(Mode == \"L\" or Mode == \"All\"):\n",
    "            if(filtering):\n",
    "                trajectoire = \"f-\"+str(thresold_d)+\"-\"+str(thresold_a)+\"-\"+str(thresold_e)+\"-\"+str(limit_time_interval)+\"-\"+str(size_interval)+\"-\"+str(delta_t)+\"-L\"\n",
    "            else:\n",
    "                trajectoire = \"nf-\"+str(limit_time_interval)+\"-\"+str(size_interval)+\"-\"+str(delta_t)+\"-L\"\n",
    "\n",
    "            if save:\n",
    "                tfu.Convert_datap_to_csv(T_prediction, Prediction_1, path_output+path+trajectoire+ \"_1.csv\")\n",
    "                tfu.Convert_datap_to_csv(T_prediction, Prediction_2, path_output+path+trajectoire+ \"_2.csv\")\n",
    "                tfu.Convert_datap_to_csv(T_prediction, Prediction_3, path_output+path+trajectoire+ \"_3.csv\")\n",
    "\n",
    "    print(\"Saved !\")"
   ]
  },
  {
   "cell_type": "code",
   "execution_count": null,
   "id": "4b510b74",
   "metadata": {},
   "outputs": [],
   "source": []
  }
 ],
 "metadata": {
  "kernelspec": {
   "display_name": "Python 3",
   "language": "python",
   "name": "python3"
  },
  "language_info": {
   "codemirror_mode": {
    "name": "ipython",
    "version": 3
   },
   "file_extension": ".py",
   "mimetype": "text/x-python",
   "name": "python",
   "nbconvert_exporter": "python",
   "pygments_lexer": "ipython3",
   "version": "3.6.9"
  }
 },
 "nbformat": 4,
 "nbformat_minor": 5
}
