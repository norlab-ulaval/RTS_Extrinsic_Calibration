{
 "cells": [
  {
   "cell_type": "code",
   "execution_count": 1,
   "id": "ff877c1c",
   "metadata": {},
   "outputs": [
    {
     "name": "stderr",
     "output_type": "stream",
     "text": [
      "Failed to load Python extension for LZ4 support. LZ4 compression will not be available.\n"
     ]
    },
    {
     "name": "stdout",
     "output_type": "stream",
     "text": [
      "Python older than 3.7 detected. \n"
     ]
    }
   ],
   "source": [
    "import sys\n",
    "import numpy as np\n",
    "import random\n",
    "import os\n",
    "import math\n",
    "import warnings\n",
    "warnings.filterwarnings('ignore')\n",
    "import time\n",
    "from tqdm import tqdm\n",
    "\n",
    "import matplotlib.pyplot as plt\n",
    "import matplotlib\n",
    "from matplotlib import animation\n",
    "from matplotlib.colors import BoundaryNorm\n",
    "from matplotlib.ticker import MaxNLocator\n",
    "\n",
    "import importlib\n",
    "import scripts.theodolite_function as tfu\n",
    "import scripts.theodolite_utils as ttf\n",
    "import GPy\n",
    "import scripts.gp_prediction_utils as GPf\n",
    "tfu = importlib.reload(tfu)\n",
    "ttf = importlib.reload(ttf)\n",
    "GPf = importlib.reload(GPf)\n",
    "\n",
    "from scipy.interpolate import splprep, splev\n",
    "from scipy import interpolate\n",
    "from scipy import spatial\n",
    "import seaborn as sns\n",
    "\n",
    "from scipy.spatial.transform import Rotation as R\n",
    "from IPython.display import HTML\n",
    "from sklearn.gaussian_process import GaussianProcessRegressor\n",
    "from sklearn.gaussian_process.kernels import (RBF, Matern, RationalQuadratic, ExpSineSquared, DotProduct, ConstantKernel)\n",
    "from stheno import B, Measure, GP, EQ, Delta\n",
    "import torch\n",
    "\n",
    "from mpl_toolkits.mplot3d.art3d import Poly3DCollection\n",
    "from wbml.plot import tweak\n"
   ]
  },
  {
   "cell_type": "code",
   "execution_count": 3,
   "id": "c53e2fb4",
   "metadata": {
    "scrolled": true
   },
   "outputs": [
    {
     "name": "stdout",
     "output_type": "stream",
     "text": [
      "Number of data for theodolites: [3144 2757 3053]\n",
      "Bad measures: 517\n",
      "2056 1781 2086\n"
     ]
    },
    {
     "name": "stderr",
     "output_type": "stream",
     "text": [
      "\r",
      "  0%|          | 0/43 [00:00<?, ?it/s]"
     ]
    },
    {
     "name": "stdout",
     "output_type": "stream",
     "text": [
      "GP(0, 258.9342956542969 * (EQ() > 0.8587316870689392))\n",
      "GP(0, 12.429343223571777 * (EQ() > 0.7494053244590759))\n",
      "GP(0, 0.1140696182847023 * (EQ() > 0.750789999961853))\n",
      "GP(0, 255.6785430908203 * (EQ() > 0.9087539911270142))\n",
      "GP(0, 76.78582763671875 * (EQ() > 0.8084259629249573))\n",
      "GP(0, 0.008153230883181095 * (EQ() > 0.6017882227897644))\n",
      "GP(0, 61.105140686035156 * (EQ() > 0.7617635130882263))\n",
      "GP(0, 226.52728271484375 * (EQ() > 0.7888383269309998))\n"
     ]
    },
    {
     "name": "stderr",
     "output_type": "stream",
     "text": [
      "\r",
      "  5%|▍         | 2/43 [00:17<06:04,  8.89s/it]"
     ]
    },
    {
     "name": "stdout",
     "output_type": "stream",
     "text": [
      "GP(0, 0.053321339190006256 * (EQ() > 0.6879297494888306))\n",
      "GP(0, 257.4642639160156 * (EQ() > 0.8550118803977966))\n",
      "GP(0, 15.22788143157959 * (EQ() > 0.765803337097168))\n",
      "GP(0, 0.09023653715848923 * (EQ() > 0.6648169159889221))\n",
      "GP(0, 232.19398498535156 * (EQ() > 0.9282513856887817))\n",
      "GP(0, 155.54061889648438 * (EQ() > 0.8264565467834473))\n",
      "GP(0, 0.026159632951021194 * (EQ() > 0.6795147657394409))\n",
      "GP(0, 175.20889282226562 * (EQ() > 0.8278501033782959))\n",
      "GP(0, 237.039306640625 * (EQ() > 0.91191166639328))\n"
     ]
    },
    {
     "name": "stderr",
     "output_type": "stream",
     "text": [
      "\r",
      "  7%|▋         | 3/43 [00:35<08:28, 12.72s/it]"
     ]
    },
    {
     "name": "stdout",
     "output_type": "stream",
     "text": [
      "GP(0, 0.09380048513412476 * (EQ() > 0.6745566725730896))\n",
      "GP(0, 341.7729187011719 * (EQ() > 0.8439996242523193))\n",
      "GP(0, 36.135311126708984 * (EQ() > 0.8361994624137878))\n",
      "GP(0, 0.08536878973245621 * (EQ() > 0.7883235216140747))\n",
      "GP(0, 302.9151611328125 * (EQ() > 0.8619052171707153))\n",
      "GP(0, 232.6114501953125 * (EQ() > 0.8518638014793396))\n",
      "GP(0, 0.018239501863718033 * (EQ() > 0.6938517689704895))\n",
      "GP(0, 233.61708068847656 * (EQ() > 0.8720897436141968))\n",
      "GP(0, 335.8104553222656 * (EQ() > 0.8646329045295715))\n"
     ]
    },
    {
     "name": "stderr",
     "output_type": "stream",
     "text": [
      "\r",
      "  9%|▉         | 4/43 [00:58<10:34, 16.28s/it]"
     ]
    },
    {
     "name": "stdout",
     "output_type": "stream",
     "text": [
      "GP(0, 0.06614820659160614 * (EQ() > 0.7356122732162476))\n",
      "GP(0, 112.02337646484375 * (EQ() > 0.6922112107276917))\n",
      "GP(0, 25.78711700439453 * (EQ() > 0.7637082934379578))\n",
      "GP(0, 0.11687959730625153 * (EQ() > 0.7254866361618042))\n",
      "GP(0, 196.40699768066406 * (EQ() > 0.8120341897010803))\n",
      "GP(0, 75.77716064453125 * (EQ() > 0.8242834806442261))\n",
      "GP(0, 0.008138967677950859 * (EQ() > 0.6558393239974976))\n",
      "GP(0, 50.03642272949219 * (EQ() > 0.7520663738250732))\n",
      "GP(0, 147.66024780273438 * (EQ() > 0.6904100179672241))\n"
     ]
    },
    {
     "name": "stderr",
     "output_type": "stream",
     "text": [
      "\r",
      " 16%|█▋        | 7/43 [01:15<05:52,  9.80s/it]"
     ]
    },
    {
     "name": "stdout",
     "output_type": "stream",
     "text": [
      "GP(0, 0.05913018807768822 * (EQ() > 0.6285842061042786))\n",
      "GP(0, 225.18592834472656 * (EQ() > 0.9243078827857971))\n",
      "GP(0, 14.500479698181152 * (EQ() > 0.7674418091773987))\n",
      "GP(0, 0.1017838791012764 * (EQ() > 0.7185465693473816))\n",
      "GP(0, 240.52151489257812 * (EQ() > 0.9421072602272034))\n",
      "GP(0, 45.45824432373047 * (EQ() > 0.808367908000946))\n",
      "GP(0, 0.013842771761119366 * (EQ() > 0.6575645804405212))\n",
      "GP(0, 41.80985641479492 * (EQ() > 0.8424584269523621))\n",
      "GP(0, 244.579833984375 * (EQ() > 0.9582824110984802))\n"
     ]
    },
    {
     "name": "stderr",
     "output_type": "stream",
     "text": [
      "\r",
      " 19%|█▊        | 8/43 [01:32<06:42, 11.50s/it]"
     ]
    },
    {
     "name": "stdout",
     "output_type": "stream",
     "text": [
      "GP(0, 0.06693322211503983 * (EQ() > 0.6899757385253906))\n",
      "GP(0, 223.09156799316406 * (EQ() > 0.819542646408081))\n",
      "GP(0, 45.47736358642578 * (EQ() > 0.8251675367355347))\n",
      "GP(0, 0.07434659451246262 * (EQ() > 0.7730805277824402))\n",
      "GP(0, 164.7382354736328 * (EQ() > 0.8707429766654968))\n",
      "GP(0, 178.07626342773438 * (EQ() > 0.8333634734153748))\n",
      "GP(0, 0.03541465476155281 * (EQ() > 0.7282970547676086))\n",
      "GP(0, 181.79400634765625 * (EQ() > 0.856549084186554))\n",
      "GP(0, 182.16531372070312 * (EQ() > 0.8399546146392822))\n"
     ]
    },
    {
     "name": "stderr",
     "output_type": "stream",
     "text": [
      "\r",
      " 21%|██        | 9/43 [01:50<07:26, 13.14s/it]"
     ]
    },
    {
     "name": "stdout",
     "output_type": "stream",
     "text": [
      "GP(0, 0.10037925094366074 * (EQ() > 0.7056210041046143))\n",
      "GP(0, 209.5122833251953 * (EQ() > 0.833194375038147))\n",
      "GP(0, 11.275957107543945 * (EQ() > 0.7150862216949463))\n",
      "GP(0, 0.07181128114461899 * (EQ() > 0.6718290448188782))\n",
      "GP(0, 169.37986755371094 * (EQ() > 0.839684784412384))\n",
      "GP(0, 130.64955139160156 * (EQ() > 0.78868567943573))\n",
      "GP(0, 0.0390351377427578 * (EQ() > 0.6676442623138428))\n",
      "GP(0, 130.96946716308594 * (EQ() > 0.8563688397407532))\n",
      "GP(0, 174.76315307617188 * (EQ() > 0.8046415448188782))\n"
     ]
    },
    {
     "name": "stderr",
     "output_type": "stream",
     "text": [
      "\r",
      " 28%|██▊       | 12/43 [02:08<04:52,  9.45s/it]"
     ]
    },
    {
     "name": "stdout",
     "output_type": "stream",
     "text": [
      "GP(0, 0.11117950081825256 * (EQ() > 0.7088025212287903))\n",
      "GP(0, 265.8390197753906 * (EQ() > 0.8586833477020264))\n",
      "GP(0, 2.635535478591919 * (EQ() > 0.7806236147880554))\n",
      "GP(0, 0.10269996523857117 * (EQ() > 0.6849848628044128))\n",
      "GP(0, 239.83299255371094 * (EQ() > 0.8755948543548584))\n",
      "GP(0, 148.22715759277344 * (EQ() > 0.874374270439148))\n",
      "GP(0, 0.013445873744785786 * (EQ() > 0.6289478540420532))\n",
      "GP(0, 140.8882598876953 * (EQ() > 0.8683788180351257))\n",
      "GP(0, 253.6665802001953 * (EQ() > 0.8502737879753113))\n"
     ]
    },
    {
     "name": "stderr",
     "output_type": "stream",
     "text": [
      "\r",
      " 33%|███▎      | 14/43 [02:26<04:28,  9.27s/it]"
     ]
    },
    {
     "name": "stdout",
     "output_type": "stream",
     "text": [
      "GP(0, 0.06356259435415268 * (EQ() > 0.6429758071899414))\n",
      "GP(0, 142.45556640625 * (EQ() > 0.7250077128410339))\n",
      "GP(0, 7.579133987426758 * (EQ() > 0.741137683391571))\n",
      "GP(0, 0.11570446193218231 * (EQ() > 0.7859407663345337))\n",
      "GP(0, 149.73110961914062 * (EQ() > 0.7368746995925903))\n",
      "GP(0, 92.28876495361328 * (EQ() > 0.8412086963653564))\n",
      "GP(0, 0.008086346089839935 * (EQ() > 0.6163955330848694))\n",
      "GP(0, 91.52320098876953 * (EQ() > 0.8163803219795227))\n",
      "GP(0, 152.98394775390625 * (EQ() > 0.7354106903076172))\n"
     ]
    },
    {
     "name": "stderr",
     "output_type": "stream",
     "text": [
      "\r",
      " 35%|███▍      | 15/43 [02:46<05:15, 11.28s/it]"
     ]
    },
    {
     "name": "stdout",
     "output_type": "stream",
     "text": [
      "GP(0, 0.052527621388435364 * (EQ() > 0.652917742729187))\n",
      "GP(0, 140.2706756591797 * (EQ() > 0.874423086643219))\n",
      "GP(0, 19.857208251953125 * (EQ() > 0.8141042590141296))\n",
      "GP(0, 0.08812612295150757 * (EQ() > 0.7537140846252441))\n",
      "GP(0, 160.63243103027344 * (EQ() > 0.8971720933914185))\n",
      "GP(0, 8.401060104370117 * (EQ() > 0.822978675365448))\n",
      "GP(0, 0.01858300156891346 * (EQ() > 0.759358823299408))\n",
      "GP(0, 7.456489086151123 * (EQ() > 0.7966585159301758))\n",
      "GP(0, 162.0673065185547 * (EQ() > 0.8581544756889343))\n"
     ]
    },
    {
     "name": "stderr",
     "output_type": "stream",
     "text": [
      "\r",
      " 37%|███▋      | 16/43 [03:06<05:56, 13.20s/it]"
     ]
    },
    {
     "name": "stdout",
     "output_type": "stream",
     "text": [
      "GP(0, 0.08317570388317108 * (EQ() > 0.7025994062423706))\n",
      "GP(0, 269.77777099609375 * (EQ() > 0.848345935344696))\n",
      "GP(0, 49.852352142333984 * (EQ() > 0.8024915456771851))\n",
      "GP(0, 0.06427798420190811 * (EQ() > 0.7785789966583252))\n",
      "GP(0, 180.80519104003906 * (EQ() > 0.8359285593032837))\n",
      "GP(0, 191.62107849121094 * (EQ() > 0.855187714099884))\n",
      "GP(0, 0.0316564105451107 * (EQ() > 0.6874513030052185))\n",
      "GP(0, 193.0987548828125 * (EQ() > 0.8580378293991089))\n",
      "GP(0, 202.6623077392578 * (EQ() > 0.8502274751663208))\n"
     ]
    },
    {
     "name": "stderr",
     "output_type": "stream",
     "text": [
      "\r",
      " 40%|███▉      | 17/43 [03:26<06:22, 14.70s/it]"
     ]
    },
    {
     "name": "stdout",
     "output_type": "stream",
     "text": [
      "GP(0, 0.0966307744383812 * (EQ() > 0.6989356279373169))\n",
      "GP(0, 143.22515869140625 * (EQ() > 0.8183047771453857))\n",
      "GP(0, 17.929983139038086 * (EQ() > 0.812406063079834))\n",
      "GP(0, 0.08972477167844772 * (EQ() > 0.6992213129997253))\n",
      "GP(0, 162.32803344726562 * (EQ() > 0.8582196831703186))\n",
      "GP(0, 10.574577331542969 * (EQ() > 0.8190750479698181))\n",
      "GP(0, 0.018848169595003128 * (EQ() > 0.6525758504867554))\n",
      "GP(0, 9.684855461120605 * (EQ() > 0.8280137181282043))\n",
      "GP(0, 165.9613494873047 * (EQ() > 0.9272357225418091))\n"
     ]
    },
    {
     "name": "stderr",
     "output_type": "stream",
     "text": [
      "\r",
      " 47%|████▋     | 20/43 [03:45<04:01, 10.48s/it]"
     ]
    },
    {
     "name": "stdout",
     "output_type": "stream",
     "text": [
      "GP(0, 0.07923571765422821 * (EQ() > 0.6754248738288879))\n",
      "GP(0, 240.2086181640625 * (EQ() > 0.8306819796562195))\n",
      "GP(0, 0.18385450541973114 * (EQ() > 0.6506409049034119))\n",
      "GP(0, 0.09957005083560944 * (EQ() > 0.7184695601463318))\n",
      "GP(0, 217.46421813964844 * (EQ() > 0.8283451199531555))\n",
      "GP(0, 92.99751281738281 * (EQ() > 0.8537806272506714))\n",
      "GP(0, 0.012060271576046944 * (EQ() > 0.6517509818077087))\n",
      "GP(0, 102.95476531982422 * (EQ() > 0.9125762581825256))\n",
      "GP(0, 232.72061157226562 * (EQ() > 0.8379612565040588))\n"
     ]
    },
    {
     "name": "stderr",
     "output_type": "stream",
     "text": [
      "\r",
      " 51%|█████     | 22/43 [04:04<03:33, 10.16s/it]"
     ]
    },
    {
     "name": "stdout",
     "output_type": "stream",
     "text": [
      "GP(0, 0.06167189031839371 * (EQ() > 0.6749811768531799))\n",
      "GP(0, 125.61742401123047 * (EQ() > 0.8727235198020935))\n",
      "GP(0, 43.3938102722168 * (EQ() > 0.8104376196861267))\n",
      "GP(0, 0.055170971900224686 * (EQ() > 0.6821773052215576))\n",
      "GP(0, 10.128303527832031 * (EQ() > 0.6300649046897888))\n",
      "GP(0, 38.07401657104492 * (EQ() > 0.7317072153091431))\n",
      "GP(0, 0.04268267750740051 * (EQ() > 0.6821548342704773))\n",
      "GP(0, 113.56475830078125 * (EQ() > 0.9106153845787048))\n",
      "GP(0, 59.50211715698242 * (EQ() > 0.848514199256897))\n"
     ]
    },
    {
     "name": "stderr",
     "output_type": "stream",
     "text": [
      "\r",
      " 58%|█████▊    | 25/43 [04:22<02:33,  8.51s/it]"
     ]
    },
    {
     "name": "stdout",
     "output_type": "stream",
     "text": [
      "GP(0, 0.12420609593391418 * (EQ() > 0.7048632502555847))\n",
      "GP(0, 264.7424011230469 * (EQ() > 0.8319389224052429))\n",
      "GP(0, 9.877124786376953 * (EQ() > 0.7137358784675598))\n",
      "GP(0, 0.10860602557659149 * (EQ() > 0.7424238920211792))\n",
      "GP(0, 244.85696411132812 * (EQ() > 0.8107990026473999))\n",
      "GP(0, 80.9505844116211 * (EQ() > 0.7858905792236328))\n",
      "GP(0, 0.008932601660490036 * (EQ() > 0.6121698021888733))\n",
      "GP(0, 30.49462890625 * (EQ() > 0.5861201286315918))\n",
      "GP(0, 46.66594696044922 * (EQ() > 0.6102584004402161))\n"
     ]
    },
    {
     "name": "stderr",
     "output_type": "stream",
     "text": [
      "\r",
      " 63%|██████▎   | 27/43 [04:42<02:23,  8.95s/it]"
     ]
    },
    {
     "name": "stdout",
     "output_type": "stream",
     "text": [
      "GP(0, 0.05702921748161316 * (EQ() > 0.6435868144035339))\n",
      "GP(0, 273.3816833496094 * (EQ() > 0.8546880483627319))\n",
      "GP(0, 70.4981918334961 * (EQ() > 0.8122437596321106))\n",
      "GP(0, 0.055317580699920654 * (EQ() > 0.6670651435852051))\n",
      "GP(0, 217.7913055419922 * (EQ() > 0.8777997493743896))\n",
      "GP(0, 236.6477508544922 * (EQ() > 0.8394697904586792))\n",
      "GP(0, 0.040631253272295 * (EQ() > 0.7038758993148804))\n",
      "GP(0, 235.0263671875 * (EQ() > 0.8827201128005981))\n",
      "GP(0, 224.56378173828125 * (EQ() > 0.8694297671318054))\n"
     ]
    },
    {
     "name": "stderr",
     "output_type": "stream",
     "text": [
      "\r",
      " 74%|███████▍  | 32/43 [05:01<01:10,  6.36s/it]"
     ]
    },
    {
     "name": "stdout",
     "output_type": "stream",
     "text": [
      "GP(0, 0.11996978521347046 * (EQ() > 0.6717548966407776))\n",
      "GP(0, 241.87001037597656 * (EQ() > 0.896582305431366))\n",
      "GP(0, 52.91851806640625 * (EQ() > 0.8002936840057373))\n",
      "GP(0, 0.06928931176662445 * (EQ() > 0.7852907776832581))\n",
      "GP(0, 168.95880126953125 * (EQ() > 0.8280677199363708))\n",
      "GP(0, 191.49156188964844 * (EQ() > 0.8429528474807739))\n",
      "GP(0, 0.026766721159219742 * (EQ() > 0.7030956149101257))\n",
      "GP(0, 194.73866271972656 * (EQ() > 0.8386019468307495))\n",
      "GP(0, 187.80551147460938 * (EQ() > 0.8953766226768494))\n"
     ]
    },
    {
     "name": "stderr",
     "output_type": "stream",
     "text": [
      "\r",
      " 81%|████████▏ | 35/43 [05:20<00:50,  6.31s/it]"
     ]
    },
    {
     "name": "stdout",
     "output_type": "stream",
     "text": [
      "GP(0, 0.09073866903781891 * (EQ() > 0.762228786945343))\n",
      "GP(0, 217.05210876464844 * (EQ() > 0.8685423731803894))\n",
      "GP(0, 10.502216339111328 * (EQ() > 0.7480219006538391))\n",
      "GP(0, 0.0725017860531807 * (EQ() > 0.6215641498565674))\n",
      "GP(0, 185.7168426513672 * (EQ() > 0.8312606811523438))\n",
      "GP(0, 141.56753540039062 * (EQ() > 0.8294482827186584))\n",
      "GP(0, 0.03611098602414131 * (EQ() > 0.6114301085472107))\n",
      "GP(0, 138.4804229736328 * (EQ() > 0.8290738463401794))\n",
      "GP(0, 200.39541625976562 * (EQ() > 0.8690903186798096))\n"
     ]
    },
    {
     "name": "stderr",
     "output_type": "stream",
     "text": [
      "\r",
      " 84%|████████▎ | 36/43 [05:40<00:56,  8.02s/it]"
     ]
    },
    {
     "name": "stdout",
     "output_type": "stream",
     "text": [
      "GP(0, 0.10420854389667511 * (EQ() > 0.6858071088790894))\n",
      "GP(0, 287.3055419921875 * (EQ() > 0.8894804120063782))\n",
      "GP(0, 46.1239013671875 * (EQ() > 0.8372939825057983))\n",
      "GP(0, 0.0714675784111023 * (EQ() > 0.7243446111679077))\n",
      "GP(0, 209.60211181640625 * (EQ() > 0.8595158457756042))\n",
      "GP(0, 204.48178100585938 * (EQ() > 0.8710055947303772))\n",
      "GP(0, 0.025574345141649246 * (EQ() > 0.8229939341545105))\n",
      "GP(0, 205.60499572753906 * (EQ() > 0.8822765350341797))\n",
      "GP(0, 236.82972717285156 * (EQ() > 0.88448566198349))\n"
     ]
    },
    {
     "name": "stderr",
     "output_type": "stream",
     "text": [
      "\r",
      " 91%|█████████ | 39/43 [05:59<00:30,  7.53s/it]"
     ]
    },
    {
     "name": "stdout",
     "output_type": "stream",
     "text": [
      "GP(0, 0.08466939628124237 * (EQ() > 0.7315088510513306))\n",
      "GP(0, 70.97868347167969 * (EQ() > 1.021855354309082))\n",
      "GP(0, 19.300710678100586 * (EQ() > 1.0406370162963867))\n",
      "GP(0, 0.05978268384933472 * (EQ() > 22.296005249023438))\n",
      "GP(0, 40.00295639038086 * (EQ() > 1.1919867992401123))\n",
      "GP(0, 68.10702514648438 * (EQ() > 1.1011406183242798))\n",
      "GP(0, 0.0390518382191658 * (EQ() > 1.2481422424316406))\n",
      "GP(0, 49.3205680847168 * (EQ() > 0.9129611849784851))\n",
      "GP(0, 45.9199333190918 * (EQ() > 0.9151249527931213))\n"
     ]
    },
    {
     "name": "stderr",
     "output_type": "stream",
     "text": [
      "100%|██████████| 43/43 [06:19<00:00,  8.84s/it]"
     ]
    },
    {
     "name": "stdout",
     "output_type": "stream",
     "text": [
      "GP(0, 0.2565004229545593 * (EQ() > 6.051632404327393))\n",
      "380.11617255210876\n",
      "Interpolation finished !\n",
      "Conversion done !\n",
      "Conversion done !\n",
      "Conversion done !\n",
      "Saved !\n"
     ]
    },
    {
     "name": "stderr",
     "output_type": "stream",
     "text": [
      "\n"
     ]
    }
   ],
   "source": [
    "# Read rosbag of grand axe and show the trajectory\n",
    "ttf = importlib.reload(ttf)\n",
    "tfu = importlib.reload(tfu)\n",
    "GPf = importlib.reload(GPf)\n",
    "\n",
    "'''\n",
    "file = [\"/home/norlab/Data/IROS_2022/20220224_TS/2022-02-24-15-34-38.bag\",\n",
    "        \"/home/norlab/Data/IROS_2022/20220307_TS/2022-03-07-19-20-06.bag\",\n",
    "        \"/home/norlab/Data/IROS_2022/20220312_TS/2022-03-12-09-45-12.bag\",\n",
    "        \"/home/norlab/Data/IROS_2022/20220314_TS/2022-03-14-10-47-49.bag\",\n",
    "        \"/home/norlab/Data/IROS_2022/20220316_TS/2022-03-16-19-02-42.bag\",\n",
    "        \"/home/norlab/Data/IROS_2022/20220331_TS/2022-03-31-10-22-52.bag\",\n",
    "        \"/home/norlab/Data/IROS_2022/20220331_TS/2022-03-31-11-20-05.bag\",\n",
    "        \"/home/norlab/Data/IROS_2022/20220427_TS/2022-04-27-12-12-10_filered.bag\",\n",
    "        \"/home/norlab/Data/IROS_2022/20220505_TS/empty1_2022-05-05-19-14-33.bag\",\n",
    "        \"/home/norlab/Data/IROS_2022/20220505_TS/cones1_2022-05-05-19-25-54.bag\"]\n",
    "\n",
    "output = [\"TS/20220224/\",\n",
    "         \"TS/20220307/\",\n",
    "         \"TS/20220312/\",\n",
    "         \"TS/20220314/\",\n",
    "         \"TS/20220316/\",\n",
    "         \"TS/20220331-1/\",\n",
    "         \"TS/20220331-2/\",\n",
    "         \"TS/20220427/\",\n",
    "         \"TS/20220505_empty/\",\n",
    "         \"TS/20220505_cones/\"]\n",
    "'''\n",
    "\n",
    "file = [\"/home/norlab/Data/IROS_2022/20220630_TS/2022-06-30-10-57-07.bag\"]\n",
    "\n",
    "output = [\"TS/20220630-2/\"]\n",
    "\n",
    "\n",
    "# General parameters \n",
    "filtering = True\n",
    "thresold_d = 2                 # m/s\n",
    "thresold_a = 1                 # deg/s\n",
    "thresold_e = 1                 # deg/s\n",
    "limit_time_interval = 1        # s\n",
    "path_output = \"./data/prediction/\"\n",
    "B.epsilon = 1e-8\n",
    "Mode = \"SGP\"\n",
    "limit_search = limit_time_interval\n",
    "size_interval = 6           # Minimum time size sub-interval \n",
    "delta_t = 1                # Value to remove points near edge of time intervals\n",
    "save = True\n",
    "\n",
    "# GP parameters\n",
    "verbose=False\n",
    "Number_restart = 1000\n",
    "noise_GP = 0                # Noise of GP\n",
    "variance_GP = 1             # Variance of GP\n",
    "lengthscale_GP = 1          # Lengthscale of GP\n",
    "\n",
    "for fname, opath in zip(file,output): \n",
    "    if(not filtering):\n",
    "        path = opath + \"raw/\"\n",
    "    else:\n",
    "        path = opath + \"filtered/\"\n",
    "        \n",
    "    if(filtering):\n",
    "        t1, t2, t3, tp1, tp2, tp3, d1, d2, d3, a1, a2, a3, e1, e2, e3 = ttf.read_rosbag_theodolite_without_tf_raw_data_pre_filtered(fname)\n",
    "        index_1_f = ttf.thresold_raw_data(t1, d1, a1, e1, thresold_d, thresold_a*3.1415926/180, thresold_e*3.1415926/180, limit_time_interval)\n",
    "        index_2_f = ttf.thresold_raw_data(t2, d2, a2, e2, thresold_d, thresold_a*3.1415926/180, thresold_e*3.1415926/180, limit_time_interval)\n",
    "        index_3_f = ttf.thresold_raw_data(t3, d3, a3, e3, thresold_d, thresold_a*3.1415926/180, thresold_e*3.1415926/180, limit_time_interval)\n",
    "        t1 = t1[index_1_f]\n",
    "        t2 = t2[index_2_f]\n",
    "        t3 = t3[index_3_f]\n",
    "        tp1 = tp1[index_1_f].T\n",
    "        tp2 = tp2[index_2_f].T\n",
    "        tp3 = tp3[index_3_f].T\n",
    "        print(len(t1),len(t2),len(t3))\n",
    "    else:\n",
    "        t1, t2, t3, tp1, tp2, tp3, d1, d2, d3, a1, a2, a3, e1, e2, e3 = ttf.read_rosbag_theodolite_without_tf_raw_data(fname)\n",
    "        print(len(t1),len(t2),len(t3))\n",
    "\n",
    "    time_origin = np.min([t1[0],t2[0],t3[0]])\n",
    "\n",
    "    start_time = time.time()\n",
    "\n",
    "    t1 = t1 - np.ones_like(t1)*time_origin\n",
    "    t2 = t2 - np.ones_like(t2)*time_origin\n",
    "    t3 = t3 - np.ones_like(t3)*time_origin\n",
    "\n",
    "    list_interval, list_time = tfu.split_time_interval_all_data(t1, t2, t3, limit_time_interval)\n",
    "    list_trajectories_split = tfu.merge_interval(list_interval, list_time, t1, t2, t3, limit_search)\n",
    "\n",
    "    Prediction_1 = []\n",
    "    Prediction_2 = []\n",
    "    Prediction_3 = []\n",
    "    T_prediction = []\n",
    "\n",
    "    for i in tqdm(list_trajectories_split):\n",
    "\n",
    "        index_1 = np.array([i[0,0],i[1,0]])\n",
    "        index_2 = np.array([i[0,1],i[1,1]])\n",
    "        index_3 = np.array([i[0,2],i[1,2]])\n",
    "\n",
    "        begin = np.max([t1[index_1[0]], t2[index_2[0]], t3[index_3[0]]])+delta_t\n",
    "        end = np.min([t1[index_1[1]], t2[index_2[1]], t3[index_3[1]]])-delta_t\n",
    "\n",
    "        if(abs(end-begin)>size_interval and begin<end):\n",
    "\n",
    "            rate = 10  #Hz\n",
    "            T_prediction_init = torch.from_numpy(np.arange(begin, end, 1/rate))\n",
    "\n",
    "            if(Mode == \"MGPO\" or Mode == \"All\"):\n",
    "                T_MGPO, S_MGPO = GPf.data_training_MGPO(t1, t2, t3, tp1, tp2, tp3, index_1, index_2, index_3)\n",
    "                print(\"Training\")\n",
    "                m = GPf.training_MGPO(Number_restart, verbose, T_MGPO, S_MGPO)\n",
    "                print(\"Prediction\")\n",
    "                for i in T_prediction_init.numpy():\n",
    "                    T_prediction.append(i+time_origin)\n",
    "                    P1_MGPO, P2_MGPO, P3_MGPO = GPf.unit_prediction_MGPO(i, m)\n",
    "                    Prediction_1.append(P1_MGPO)\n",
    "                    Prediction_2.append(P2_MGPO)\n",
    "                    Prediction_3.append(P3_MGPO)\n",
    "\n",
    "            if(Mode == \"GP\" or Mode == \"All\"):\n",
    "                T1, X1, Y1, Z1, T2, X2, Y2, Z2, T3, X3, Y3, Z3 = GPf.data_training_GP(t1, t2, t3, tp1, tp2, tp3, index_1, index_2, index_3)\n",
    "                print(\"Training\")\n",
    "                mx1, my1, mz1, mx2, my2, mz2, mx3, my3, mz3 = GPf.training_GP(Number_restart, verbose, T1, X1, Y1, Z1, T2, X2, Y2, Z2, T3, X3, Y3, Z3)\n",
    "                print(\"Prediction\")\n",
    "                for i in T_prediction_init.numpy():\n",
    "                    T_prediction.append(i+time_origin)\n",
    "                    P1_GP, P2_GP, P3_GP = GPf.unit_prediction_GP(i, mx1, my1, mz1, mx2, my2, mz2, mx3, my3, mz3)\n",
    "                    Prediction_1.append(P1_GP)\n",
    "                    Prediction_2.append(P2_GP)\n",
    "                    Prediction_3.append(P3_GP)\n",
    "\n",
    "            if(Mode == \"L\" or Mode == \"All\"):\n",
    "                T1, X1, Y1, Z1, T2, X2, Y2, Z2, T3, X3, Y3, Z3 = GPf.data_training_L(t1, t2, t3, tp1, tp2, tp3, index_1, index_2, index_3)\n",
    "                print(\"Prediction\")\n",
    "                mx1, my1, mz1, mx2, my2, mz2, mx3, my3, mz3 = GPf.linear_interpolation(T1, X1, Y1, Z1, T2, X2, Y2, Z2,T3, X3, Y3, Z3)\n",
    "\n",
    "                for i in T_prediction_init.numpy():\n",
    "                    T_prediction.append(i+time_origin)\n",
    "                    P1_GP, P2_GP, P3_GP = GPf.linear_prediction(i, time_origin, mx1, my1, mz1, mx2, my2, mz2, mx3, my3, mz3)\n",
    "                    Prediction_1.append(P1_GP)\n",
    "                    Prediction_2.append(P2_GP)\n",
    "                    Prediction_3.append(P3_GP)\n",
    "\n",
    "            if(Mode==\"SGP\"):\n",
    "                prediction_value = T_prediction_init.numpy()\n",
    "                # Prepare data for training\n",
    "                T1, X1, Y1, Z1, T2, X2, Y2, Z2, T3, X3, Y3, Z3 = GPf.data_training_GP_stheno(t1, t2, t3, tp1, tp2, tp3, index_1, index_2, index_3)\n",
    "                # Training for each axis\n",
    "                m_X1, v_X1 = GPf.GP_function_stheno(x=prediction_value, x_obs=T1, y_obs=X1, variance=variance_GP, lengthscale=lengthscale_GP, noise_init=noise_GP, optimization_nb=Number_restart)\n",
    "                m_Y1, v_Y1 = GPf.GP_function_stheno(x=prediction_value, x_obs=T1, y_obs=Y1, variance=variance_GP, lengthscale=lengthscale_GP, noise_init=noise_GP, optimization_nb=Number_restart)\n",
    "                m_Z1, v_Z1 = GPf.GP_function_stheno(x=prediction_value, x_obs=T1, y_obs=Z1, variance=variance_GP, lengthscale=lengthscale_GP, noise_init=noise_GP, optimization_nb=Number_restart)\n",
    "                m_X2, v_X2 = GPf.GP_function_stheno(x=prediction_value, x_obs=T2, y_obs=X2, variance=variance_GP, lengthscale=lengthscale_GP, noise_init=noise_GP, optimization_nb=Number_restart)\n",
    "                m_Y2, v_Y2 = GPf.GP_function_stheno(x=prediction_value, x_obs=T2, y_obs=Y2, variance=variance_GP, lengthscale=lengthscale_GP, noise_init=noise_GP, optimization_nb=Number_restart)\n",
    "                m_Z2, v_Z2 = GPf.GP_function_stheno(x=prediction_value, x_obs=T2, y_obs=Z2, variance=variance_GP, lengthscale=lengthscale_GP, noise_init=noise_GP, optimization_nb=Number_restart)\n",
    "                m_X3, v_X3 = GPf.GP_function_stheno(x=prediction_value, x_obs=T3, y_obs=X3, variance=variance_GP, lengthscale=lengthscale_GP, noise_init=noise_GP, optimization_nb=Number_restart)\n",
    "                m_Y3, v_Y3 = GPf.GP_function_stheno(x=prediction_value, x_obs=T3, y_obs=Y3, variance=variance_GP, lengthscale=lengthscale_GP, noise_init=noise_GP, optimization_nb=Number_restart)\n",
    "                m_Z3, v_Z3 = GPf.GP_function_stheno(x=prediction_value, x_obs=T3, y_obs=Z3, variance=variance_GP, lengthscale=lengthscale_GP, noise_init=noise_GP, optimization_nb=Number_restart)\n",
    "\n",
    "                # Save prediction at time i\n",
    "                for i,mx,my,mz,vx,vy,vz in zip(T_prediction_init.numpy(), m_X1, m_Y1, m_Z1, v_X1, v_Y1, v_Z1):\n",
    "                    Prediction_1.append(np.array([i+time_origin, mx ,my, mz, vx, vy, vz]))\n",
    "                    T_prediction.append(i+time_origin)\n",
    "                for i,mx,my,mz,vx,vy,vz in zip(T_prediction_init.numpy(), m_X2, m_Y2, m_Z2, v_X2, v_Y2, v_Z2):\n",
    "                    Prediction_2.append(np.array([i+time_origin, mx ,my, mz, vx, vy, vz]))\n",
    "                for i,mx,my,mz,vx,vy,vz in zip(T_prediction_init.numpy(), m_X3, m_Y3, m_Z3, v_X3, v_Y3, v_Z3):\n",
    "                    Prediction_3.append(np.array([i+time_origin, mx ,my, mz, vx, vy, vz]))\n",
    "\n",
    "    stop_time = time.time()\n",
    "    print(stop_time - start_time)\n",
    "\n",
    "    print(\"Interpolation finished !\")\n",
    "\n",
    "    if save:\n",
    "        if(Mode == \"MGPO\" or Mode == \"All\"):\n",
    "            if(filtering):\n",
    "                trajectoire = \"f-\"+str(thresold_d)+\"-\"+str(thresold_a)+\"-\"+str(thresold_e)+\"-\"+str(limit_time_interval)+\"-\"+str(size_interval)+\"-\"+str(delta_t)+\"-MGPO-\"+str(Number_restart)\n",
    "            else:\n",
    "                trajectoire = \"nf-\"+str(limit_time_interval)+\"-\"+str(size_interval)+\"-\"+str(delta_t)+\"-MGPO-\"+str(Number_restart)\n",
    "\n",
    "            tfu.Convert_data_prediction_to_csv(T_prediction, Prediction_1, path_output+path+trajectoire+ \"_1.csv\")\n",
    "            tfu.Convert_data_prediction_to_csv(T_prediction, Prediction_2, path_output+path+trajectoire+ \"_2.csv\")\n",
    "            tfu.Convert_data_prediction_to_csv(T_prediction, Prediction_3, path_output+path+trajectoire+ \"_3.csv\")\n",
    "        if(Mode == \"GP\" or Mode == \"All\"):\n",
    "            if(filtering):\n",
    "                trajectoire = \"f-\"+str(thresold_d)+\"-\"+str(thresold_a)+\"-\"+str(thresold_e)+\"-\"+str(limit_time_interval)+\"-\"+str(size_interval)+\"-\"+str(delta_t)+\"-GP-\"+str(Number_restart)\n",
    "            else:\n",
    "                trajectoire = \"nf-\"+str(limit_time_interval)+\"-\"+str(size_interval)+\"-\"+str(delta_t)+\"-GP-\"+str(Number_restart)\n",
    "\n",
    "            tfu.Convert_data_prediction_to_csv(T_prediction, Prediction_1, path_output+path+trajectoire+ \"_1.csv\")\n",
    "            tfu.Convert_data_prediction_to_csv(T_prediction, Prediction_2, path_output+path+trajectoire+ \"_2.csv\")\n",
    "            tfu.Convert_data_prediction_to_csv(T_prediction, Prediction_3, path_output+path+trajectoire+ \"_3.csv\")\n",
    "        if(Mode == \"SGP\" or Mode == \"All\"):\n",
    "            if(filtering):\n",
    "                trajectoire = \"f-\"+str(thresold_d)+\"-\"+str(thresold_a)+\"-\"+str(thresold_e)+\"-\"+str(limit_time_interval)+\"-\"+str(size_interval)+\"-\"+str(delta_t)+\"-SGP-\"+str(Number_restart)\n",
    "            else:\n",
    "                trajectoire = \"nf-\"+str(limit_time_interval)+\"-\"+str(size_interval)+\"-\"+str(delta_t)+\"-SGP-\"+str(Number_restart)\n",
    "\n",
    "            tfu.Convert_data_prediction_to_csv(T_prediction, Prediction_1, path_output+path+trajectoire+ \"_1.csv\")\n",
    "            tfu.Convert_data_prediction_to_csv(T_prediction, Prediction_2, path_output+path+trajectoire+ \"_2.csv\")\n",
    "            tfu.Convert_data_prediction_to_csv(T_prediction, Prediction_3, path_output+path+trajectoire+ \"_3.csv\")\n",
    "        if(Mode == \"L\" or Mode == \"All\"):\n",
    "            if(filtering):\n",
    "                trajectoire = \"f-\"+str(thresold_d)+\"-\"+str(thresold_a)+\"-\"+str(thresold_e)+\"-\"+str(limit_time_interval)+\"-\"+str(size_interval)+\"-\"+str(delta_t)+\"-L\"\n",
    "            else:\n",
    "                trajectoire = \"nf-\"+str(limit_time_interval)+\"-\"+str(size_interval)+\"-\"+str(delta_t)+\"-L\"\n",
    "\n",
    "            if save:\n",
    "                tfu.Convert_datap_to_csv(T_prediction, Prediction_1, path_output+path+trajectoire+ \"_1.csv\")\n",
    "                tfu.Convert_datap_to_csv(T_prediction, Prediction_2, path_output+path+trajectoire+ \"_2.csv\")\n",
    "                tfu.Convert_datap_to_csv(T_prediction, Prediction_3, path_output+path+trajectoire+ \"_3.csv\")\n",
    "\n",
    "    print(\"Saved !\")"
   ]
  },
  {
   "cell_type": "code",
   "execution_count": null,
   "id": "4b510b74",
   "metadata": {},
   "outputs": [],
   "source": []
  }
 ],
 "metadata": {
  "kernelspec": {
   "display_name": "Python 3",
   "language": "python",
   "name": "python3"
  },
  "language_info": {
   "codemirror_mode": {
    "name": "ipython",
    "version": 3
   },
   "file_extension": ".py",
   "mimetype": "text/x-python",
   "name": "python",
   "nbconvert_exporter": "python",
   "pygments_lexer": "ipython3",
   "version": "3.6.9"
  }
 },
 "nbformat": 4,
 "nbformat_minor": 5
}
