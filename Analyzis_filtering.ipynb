{
 "cells": [
  {
   "cell_type": "code",
   "execution_count": 1,
   "id": "d1af33ea-9517-4927-b209-e066223952dd",
   "metadata": {
    "scrolled": false
   },
   "outputs": [
    {
     "name": "stderr",
     "output_type": "stream",
     "text": [
      "Failed to load Python extension for LZ4 support. LZ4 compression will not be available.\n"
     ]
    }
   ],
   "source": [
    "import scipy.linalg\n",
    "import scipy.optimize\n",
    "import sys\n",
    "import numpy as np\n",
    "import importlib\n",
    "import matplotlib.pyplot as plt\n",
    "import scripts.theodolite_function as tfu\n",
    "tfu = importlib.reload(tfu)\n",
    "from scipy.interpolate import splprep, splev\n",
    "from scipy import interpolate\n",
    "import seaborn as sns\n",
    "from matplotlib.colors import BoundaryNorm\n",
    "from matplotlib.ticker import MaxNLocator\n",
    "from scipy.spatial.transform import Rotation as R\n",
    "import scripts.theodolite_utils as ttfu"
   ]
  },
  {
   "cell_type": "code",
   "execution_count": 2,
   "id": "47e92299",
   "metadata": {},
   "outputs": [],
   "source": [
    "def result_prediction(Inter_distance, file_name_marker, file_name_path, path_type, path_file_type):\n",
    "    dist_prism = []\n",
    "    dist_prism_all = []\n",
    "    for i,j,k in zip(Inter_distance, file_name_marker, file_name_path):\n",
    "        m1, m2, m3, T_1, T_2, T_3 = tfu.read_marker_file(j, 1, 1)\n",
    "        trimble_1 = ttfu.read_prediction_data_resection_csv_file(k+path_type+path_file_type+\"1.csv\")\n",
    "        trimble_2 = ttfu.read_prediction_data_resection_csv_file(k+path_type+path_file_type+\"2.csv\")\n",
    "        trimble_3 = ttfu.read_prediction_data_resection_csv_file(k+path_type+path_file_type+\"3.csv\")\n",
    "        if(len(np.array(trimble_1)) > 0 and len(np.array(trimble_2)) > 0 and len(np.array(trimble_3)) > 0):\n",
    "            p1 = np.array(trimble_1)[:,1:5]\n",
    "            p2 = np.array(trimble_2)[:,1:5]\n",
    "            p3 = np.array(trimble_3)[:,1:5]\n",
    "            p1t = T_1@p1.T\n",
    "            p2t = T_2@p2.T\n",
    "            p3t = T_3@p3.T\n",
    "\n",
    "            timestamp = trimble_1[:,0]\n",
    "            for num in range(0,len(timestamp)-1):\n",
    "                dp1 = abs(np.linalg.norm(p1t.T[num,0:3]-p2t.T[num,0:3])-i[0])*1000\n",
    "                dp2 = abs(np.linalg.norm(p1t.T[num,0:3]-p3t.T[num,0:3])-i[1])*1000\n",
    "                dp3 = abs(np.linalg.norm(p3t.T[num,0:3]-p2t.T[num,0:3])-i[2])*1000\n",
    "                mdp = np.mean([dp1, dp2, dp3])\n",
    "                dist_prism_all.append(dp1)\n",
    "                dist_prism_all.append(dp2)\n",
    "                dist_prism_all.append(dp3)\n",
    "                dist_prism.append(np.array([timestamp[num], dp1, dp2, dp3, mdp]))\n",
    "        else:\n",
    "            print(\"No data in file(s) \"+k+\"  !!\")\n",
    "    print(\"Results done !\")\n",
    "    dist_prism = np.array(dist_prism)\n",
    "    dist_prism_all = np.array(dist_prism_all)\n",
    "    return dist_prism, dist_prism_all"
   ]
  },
  {
   "cell_type": "code",
   "execution_count": 3,
   "id": "8e786077",
   "metadata": {},
   "outputs": [],
   "source": [
    "# 17 02 2022 / 24 02 2022\n",
    "Dist_prism_12_240222 = 0.8882613537922258\n",
    "Dist_prism_13_240222 = 0.8262903370535766\n",
    "Dist_prism_23_240222 = 1.0377436460567973\n",
    "Dist_GPS_12_240222 = 0.7809786915630756\n",
    "Dist_GPS_13_240222 = 0.8378323585433202\n",
    "Dist_GPS_23_240222 = 0.5191788936274444   \n",
    "\n",
    "# 07 03 2022\n",
    "Dist_prism_12_070322 = 0.8832836583456264\n",
    "Dist_prism_13_070322 = 0.8247449387008166\n",
    "Dist_prism_23_070322 = 1.039409793600046\n",
    "Dist_GPS_12_070322 = 0.7781099344563802\n",
    "Dist_GPS_13_070322 = 0.8431026980109139\n",
    "Dist_GPS_23_070322 = 0.5157221841320069\n",
    "\n",
    "# 12 03 2022\n",
    "Dist_prism_12_120322 = 0.8860734460339026\n",
    "Dist_prism_13_120322 = 0.8303896290142598\n",
    "Dist_prism_23_120322 = 1.0393117663247973\n",
    "Dist_GPS_12_120322 = 0.7829424296161074\n",
    "Dist_GPS_13_120322 = 0.8415176433032493\n",
    "Dist_GPS_23_120322 = 0.5161917038941966\n",
    "\n",
    "# 14 03 2022 / 16 03 2022\n",
    "Dist_prism_12_140322 = 0.8873171656784946\n",
    "Dist_prism_13_140322 = 0.8272212117473343\n",
    "Dist_prism_23_140322 = 1.0379270641796363\n",
    "Dist_GPS_12_140322 = 0.7829081036179948\n",
    "Dist_GPS_13_140322 = 0.8424633975958637\n",
    "Dist_GPS_23_140322 = 0.5165807364575292\n",
    "\n",
    "# 31 03 2022\n",
    "Dist_prism_12_310322 = 0.8873171656784946\n",
    "Dist_prism_13_310322 = 0.8272212117473343\n",
    "Dist_prism_23_310322 = 1.0379270641796363\n",
    "Dist_GPS_12_310322 = 0.7829081036179948\n",
    "Dist_GPS_13_310322 = 0.8424633975958637\n",
    "Dist_GPS_23_310322 = 0.5165807364575292\n",
    "\n",
    "# 27 04 2022\n",
    "Dist_prism_12_270422 = 0.8856608085851714\n",
    "Dist_prism_13_270422 = 0.8264452483880412\n",
    "Dist_prism_23_270422 = 1.0384219210289538\n",
    "Dist_GPS_12_270422 = 0.7809547832390561\n",
    "Dist_GPS_13_270422 = 0.8259590286006459\n",
    "Dist_GPS_23_270422 = 0.5191274645630007  \n",
    "\n",
    "# 27 04 2022 soir\n",
    "Dist_prism_12_270422_soir = 0.8868846942534616\n",
    "Dist_prism_13_270422_soir = 0.829169129877633\n",
    "Dist_prism_23_270422_soir = 1.0387571594276301\n",
    "Dist_GPS_12_270422_soir = 0.7837749633840095\n",
    "Dist_GPS_13_270422_soir = 0.8323125081688734\n",
    "Dist_GPS_23_270422_soir = 0.5187055120945835\n",
    "\n",
    "# 05 05 2022\n",
    "Dist_prism_12_050522 = 0.3819811991689936\n",
    "Dist_prism_13_050522 = 0.4426382054042266\n",
    "Dist_prism_23_050522 = 0.2564685508415531\n",
    "\n",
    "# 13 05 2022\n",
    "Dist_prism_12_130522 = 0.8113569618671205\n",
    "Dist_prism_13_130522 = 0.8695313906832193\n",
    "Dist_prism_23_130522 = 1.0383292631343506\n",
    "Dist_GPS_12_130522 = 0.7800801192552722\n",
    "Dist_GPS_13_130522 = 0.8396027021467387\n",
    "Dist_GPS_23_130522 = 0.5157656903777014\n",
    "\n",
    "# 23 05 2022\n",
    "Dist_prism_12_230522 = 0.3851913749758221\n",
    "Dist_prism_13_230522 = 0.4433899497583272\n",
    "Dist_prism_23_230522 = 0.25861327466684897\n",
    "\n",
    "Inter_distance = [[Dist_prism_12_240222,Dist_prism_13_240222,Dist_prism_23_240222,Dist_GPS_12_240222,Dist_GPS_13_240222,Dist_GPS_23_240222],\n",
    "                 [Dist_prism_12_070322,Dist_prism_13_070322,Dist_prism_23_070322,Dist_GPS_12_070322,Dist_GPS_13_070322,Dist_GPS_23_070322],\n",
    "                 [Dist_prism_12_120322,Dist_prism_13_120322,Dist_prism_23_120322,Dist_GPS_12_120322,Dist_GPS_13_120322,Dist_GPS_23_120322],\n",
    "                 [Dist_prism_12_140322,Dist_prism_13_140322,Dist_prism_23_140322,Dist_GPS_12_140322,Dist_GPS_13_140322,Dist_GPS_23_140322],\n",
    "                 [Dist_prism_12_140322,Dist_prism_13_140322,Dist_prism_23_140322,Dist_GPS_12_140322,Dist_GPS_13_140322,Dist_GPS_23_140322],\n",
    "                 [Dist_prism_12_310322,Dist_prism_13_310322,Dist_prism_23_310322,Dist_GPS_12_310322,Dist_GPS_13_310322,Dist_GPS_23_310322],\n",
    "                 [Dist_prism_12_310322,Dist_prism_13_310322,Dist_prism_23_310322,Dist_GPS_12_310322,Dist_GPS_13_310322,Dist_GPS_23_310322],\n",
    "                 [Dist_prism_12_270422,Dist_prism_13_270422,Dist_prism_23_270422,Dist_GPS_12_270422,Dist_GPS_13_270422,Dist_GPS_23_270422],\n",
    "                 [Dist_prism_12_050522,Dist_prism_13_050522,Dist_prism_23_050522,Dist_prism_12_050522,Dist_prism_13_050522,Dist_prism_23_050522],\n",
    "                 [Dist_prism_12_050522,Dist_prism_13_050522,Dist_prism_23_050522,Dist_prism_12_050522,Dist_prism_13_050522,Dist_prism_23_050522]]\n",
    "\n",
    "file_name_marker = ['./data/total_station/20220224/20220224_theodolite_reference_prisms.txt',\n",
    "             './data/total_station/20220307/theodolite_reference_prisms.txt',\n",
    "             './data/total_station/20220312/theodolite_reference_prisms.txt',\n",
    "             './data/total_station/20220314/theodolite_reference_prisms.txt',\n",
    "             './data/total_station/20220316/theodolite_reference_prisms.txt',\n",
    "             './data/total_station/20220331-1/theodolite_reference_prisms.txt',\n",
    "             './data/total_station/20220331-2/theodolite_reference_prisms.txt',\n",
    "             './data/total_station/20220427/theodolite_reference_prisms.txt',\n",
    "             './data/total_station/20220505_cones/theodolite_reference_prisms.txt',\n",
    "             './data/total_station/20220505_cones/theodolite_reference_prisms.txt']\n",
    "\n",
    "file_name_path = ['./data/prediction/TS/20220224/',\n",
    "                      './data/prediction/TS/20220307/',\n",
    "                     './data/prediction/TS/20220312/',\n",
    "                     './data/prediction/TS/20220314/',\n",
    "                     './data/prediction/TS/20220316/',\n",
    "                     './data/prediction/TS/20220331-1/',\n",
    "                     './data/prediction/TS/20220331-2/',\n",
    "                     './data/prediction/TS/20220427/',\n",
    "                     './data/prediction/TS/20220505_cones/',\n",
    "                     './data/prediction/TS/20220505_empty/']\n"
   ]
  },
  {
   "cell_type": "code",
   "execution_count": 4,
   "id": "3a1cc3da",
   "metadata": {},
   "outputs": [
    {
     "name": "stdout",
     "output_type": "stream",
     "text": [
      "Results done !\n",
      "f-1-1-1-1-6-0-L_\n",
      "Results done !\n",
      "f-1.5-1-1-1-6-0-L_\n",
      "Results done !\n",
      "f-2-1-1-1-6-0-L_\n",
      "Results done !\n",
      "f-2.5-1-1-1-6-0-L_\n",
      "Results done !\n"
     ]
    }
   ],
   "source": [
    "ttfu = importlib.reload(ttfu)\n",
    "\n",
    "result = []\n",
    "\n",
    "path_type = 'raw/'\n",
    "path_file_type = 'nf-1-6-0-L_'\n",
    "dist_prism_raw, dist_prism_raw_all = result_prediction(Inter_distance, file_name_marker, file_name_path, path_type, path_file_type)\n",
    "result.append(dist_prism_raw_all)\n",
    "\n",
    "path_type = 'filtered/'\n",
    "path_file_type = ['f-1-1-1-1-6-0-L_',\n",
    "                  'f-1.5-1-1-1-6-0-L_',\n",
    "                  'f-2-1-1-1-6-0-L_',\n",
    "                  'f-2.5-1-1-1-6-0-L_',\n",
    "                  ]\n",
    "\n",
    "for i in path_file_type:\n",
    "    print(i)\n",
    "    dist_prism_filtered, dist_prism_filtered_all = result_prediction(Inter_distance, file_name_marker, file_name_path, path_type, i)\n",
    "    result.append(dist_prism_filtered_all)"
   ]
  },
  {
   "cell_type": "code",
   "execution_count": 6,
   "id": "38f17c2c",
   "metadata": {},
   "outputs": [
    {
     "name": "stderr",
     "output_type": "stream",
     "text": [
      "/home/norlab/python-env/lib/python3.6/site-packages/numpy/core/_asarray.py:83: VisibleDeprecationWarning: Creating an ndarray from ragged nested sequences (which is a list-or-tuple of lists-or-tuples-or ndarrays with different lengths or shapes) is deprecated. If you meant to do this, you must specify 'dtype=object' when creating the ndarray\n",
      "  return array(a, dtype, copy=False, order=order)\n"
     ]
    },
    {
     "data": {
      "image/png": "[encoded data removed]",
      "text/plain": [
       "<Figure size 1008x432 with 1 Axes>"
      ]
     },
     "metadata": {
      "needs_background": "light"
     },
     "output_type": "display_data"
    }
   ],
   "source": [
    "# Creating dataset\n",
    "fig = plt.figure(figsize =(14, 6))\n",
    "ax = fig.add_subplot(111)\n",
    "\n",
    "box = ax.boxplot(result, notch=True, patch_artist=True, vert = 1, showfliers=False, showmeans=False)\n",
    "plt.xticks([1, 2, 3, 4, 5], [\"Raw \\n\\n Median: \"+str(round(np.median(result[0]),2))+\"mm \\n Std: \"+str(round(np.std(result[0]),2))+\"mm\",\n",
    "                   \"D 1 \\n\\n Median: \"+str(round(np.median(result[1]),2))+\"mm \\n Std: \"+str(round(np.std(result[1]),2))+\"mm\",\n",
    "                   \"D 1.5 \\n\\n Median: \"+str(round(np.median(result[2]),2))+\"mm \\n Std: \"+str(round(np.std(result[2]),2))+\"mm\",\n",
    "                   \"D 2 \\n\\n Median: \"+str(round(np.median(result[3]),2))+\"mm \\n Std: \"+str(round(np.std(result[3]),2))+\"mm\",\n",
    "                   \"D 2.5 \\n\\n Median: \"+str(round(np.median(result[4]),2))+\"mm \\n Std: \"+str(round(np.std(result[4]),2))+\"mm\"])\n",
    "colors_box = ['#069AF3', '#EF4026','#069AF3', '#EF4026','#069AF3']\n",
    "\n",
    "for patch, color in zip(box['boxes'], colors_box):\n",
    "    patch.set_facecolor(color)\n",
    "        \n",
    "ax.set_ylabel(\"Error inter-prism [mm]\")\n",
    "plt.show()\n",
    "fig.savefig(\"./figs/comparison_error_distance-f-n-1-1-1-6-0-L.jpg\")"
   ]
  },
  {
   "cell_type": "code",
   "execution_count": 7,
   "id": "c7459db7",
   "metadata": {},
   "outputs": [
    {
     "name": "stdout",
     "output_type": "stream",
     "text": [
      "Results done !\n",
      "f-2-0.5-0.5-1-6-0-L_\n",
      "Results done !\n",
      "f-2-1-1-1-6-0-L_\n",
      "Results done !\n",
      "f-2-1.5-1.5-1-6-0-L_\n",
      "Results done !\n",
      "f-2-2-2-1-6-0-L_\n",
      "Results done !\n"
     ]
    }
   ],
   "source": [
    "ttfu = importlib.reload(ttfu)\n",
    "\n",
    "result = []\n",
    "\n",
    "path_type = 'raw/'\n",
    "path_file_type = 'nf-1-6-0-L_'\n",
    "dist_prism_raw, dist_prism_raw_all = result_prediction(Inter_distance, file_name_marker, file_name_path, path_type, path_file_type)\n",
    "result.append(dist_prism_raw_all)\n",
    "\n",
    "path_type = 'filtered/'\n",
    "path_file_type = ['f-2-0.5-0.5-1-6-0-L_',\n",
    "                  'f-2-1-1-1-6-0-L_',\n",
    "                  'f-2-1.5-1.5-1-6-0-L_',\n",
    "                  'f-2-2-2-1-6-0-L_',\n",
    "                  ]\n",
    "\n",
    "for i in path_file_type:\n",
    "    print(i)\n",
    "    dist_prism_filtered, dist_prism_filtered_all = result_prediction(Inter_distance, file_name_marker, file_name_path, path_type, i)\n",
    "    result.append(dist_prism_filtered_all)"
   ]
  },
  {
   "cell_type": "code",
   "execution_count": 9,
   "id": "b97a7e74",
   "metadata": {},
   "outputs": [
    {
     "name": "stderr",
     "output_type": "stream",
     "text": [
      "/home/norlab/python-env/lib/python3.6/site-packages/numpy/core/_asarray.py:83: VisibleDeprecationWarning: Creating an ndarray from ragged nested sequences (which is a list-or-tuple of lists-or-tuples-or ndarrays with different lengths or shapes) is deprecated. If you meant to do this, you must specify 'dtype=object' when creating the ndarray\n",
      "  return array(a, dtype, copy=False, order=order)\n"
     ]
    },
    {
     "data": {
      "image/png": "[encoded data removed]",
      "text/plain": [
       "<Figure size 1008x432 with 1 Axes>"
      ]
     },
     "metadata": {
      "needs_background": "light"
     },
     "output_type": "display_data"
    }
   ],
   "source": [
    "# Creating dataset\n",
    "fig = plt.figure(figsize =(14, 6))\n",
    "ax = fig.add_subplot(111)\n",
    "\n",
    "box = ax.boxplot(result, notch=True, patch_artist=True, vert = 1, showfliers=False, showmeans=False)\n",
    "plt.xticks([1, 2, 3, 4, 5], [\"Raw \\n\\n Median: \"+str(round(np.median(result[0]),2))+\"mm \\n Std: \"+str(round(np.std(result[0]),2))+\"mm\",\n",
    "                   \"A 0.5 \\n\\n Median: \"+str(round(np.median(result[1]),2))+\"mm \\n Std: \"+str(round(np.std(result[1]),2))+\"mm\",\n",
    "                   \"A 1 \\n\\n Median: \"+str(round(np.median(result[2]),2))+\"mm \\n Std: \"+str(round(np.std(result[2]),2))+\"mm\",\n",
    "                   \"A 1.5 \\n\\n Median: \"+str(round(np.median(result[3]),2))+\"mm \\n Std: \"+str(round(np.std(result[3]),2))+\"mm\",\n",
    "                   \"A 2 \\n\\n Median: \"+str(round(np.median(result[4]),2))+\"mm \\n Std: \"+str(round(np.std(result[4]),2))+\"mm\"])\n",
    "colors_box = ['#069AF3', '#EF4026','#069AF3', '#EF4026','#069AF3']\n",
    "\n",
    "for patch, color in zip(box['boxes'], colors_box):\n",
    "    patch.set_facecolor(color)\n",
    "        \n",
    "ax.set_ylabel(\"Error inter-prism [mm]\")\n",
    "plt.show()\n",
    "fig.savefig(\"./figs/comparison_error_angle-f-2-n-n-1-6-0-L.jpg\")"
   ]
  },
  {
   "cell_type": "code",
   "execution_count": 22,
   "id": "81a0e3f8",
   "metadata": {
    "scrolled": true
   },
   "outputs": [
    {
     "name": "stdout",
     "output_type": "stream",
     "text": [
      "f-2-1-1-0.5-6-0-L_\n",
      "No data in file(s) ./data/prediction/TS/20220316/  !!\n",
      "Results done !\n",
      "f-2-1-1-0.75-6-0-L_\n",
      "No data in file(s) ./data/prediction/TS/20220316/  !!\n",
      "Results done !\n",
      "f-2-1-1-1-6-0-L_\n",
      "Results done !\n",
      "f-2-1-1-1.25-6-0-L_\n",
      "Results done !\n",
      "f-2-1-1-1.5-6-0-L_\n",
      "Results done !\n",
      "f-2-1-1-1.75-6-0-L_\n",
      "Results done !\n",
      "f-2-1-1-2-6-0-L_\n",
      "Results done !\n"
     ]
    }
   ],
   "source": [
    "ttfu = importlib.reload(ttfu)\n",
    "\n",
    "path_type = 'filtered/'\n",
    "path_file_type = ['f-2-1-1-0.5-6-0-L_',\n",
    "                  'f-2-1-1-0.75-6-0-L_',\n",
    "                  'f-2-1-1-1-6-0-L_',\n",
    "                  'f-2-1-1-1.25-6-0-L_',\n",
    "                  'f-2-1-1-1.5-6-0-L_',\n",
    "                  'f-2-1-1-1.75-6-0-L_',\n",
    "                  'f-2-1-1-2-6-0-L_']\n",
    "\n",
    "result = []\n",
    "for i in path_file_type:\n",
    "    print(i)\n",
    "    dist_prism_filtered, dist_prism_filtered_all = result_prediction(Inter_distance, file_name_marker, file_name_path, path_type, i)\n",
    "    result.append(dist_prism_filtered_all)"
   ]
  },
  {
   "cell_type": "code",
   "execution_count": 26,
   "id": "6a021e8a",
   "metadata": {},
   "outputs": [
    {
     "name": "stderr",
     "output_type": "stream",
     "text": [
      "/home/norlab/python-env/lib/python3.6/site-packages/numpy/core/_asarray.py:83: VisibleDeprecationWarning: Creating an ndarray from ragged nested sequences (which is a list-or-tuple of lists-or-tuples-or ndarrays with different lengths or shapes) is deprecated. If you meant to do this, you must specify 'dtype=object' when creating the ndarray\n",
      "  return array(a, dtype, copy=False, order=order)\n"
     ]
    },
    {
     "data": {
      "image/png": "[encoded data removed]",
      "text/plain": [
       "<Figure size 1008x432 with 1 Axes>"
      ]
     },
     "metadata": {
      "needs_background": "light"
     },
     "output_type": "display_data"
    }
   ],
   "source": [
    "# Creating dataset\n",
    "fig = plt.figure(figsize =(14, 6))\n",
    "ax = fig.add_subplot(111)\n",
    "\n",
    "box = ax.boxplot(result, notch=True, patch_artist=True, vert = 1, showfliers=False, showmeans=False)\n",
    "plt.xticks([1, 2, 3, 4, 5, 6, 7], [\"T 0.5 \\n\\n Median: \"+str(round(np.median(result[0]),2))+\"mm \\n Std: \"+str(round(np.std(result[0]),2))+\"mm\",\n",
    "                   \"T 0.75 \\n\\n Median: \"+str(round(np.median(result[1]),2))+\"mm \\n Std: \"+str(round(np.std(result[1]),2))+\"mm\",\n",
    "                   \"T 1 \\n\\n Median: \"+str(round(np.median(result[2]),2))+\"mm \\n Std: \"+str(round(np.std(result[2]),2))+\"mm\",\n",
    "                   \"T 1.25 \\n\\n Median: \"+str(round(np.median(result[3]),2))+\"mm \\n Std: \"+str(round(np.std(result[3]),2))+\"mm\",\n",
    "                   \"T 1.5 \\n\\n Median: \"+str(round(np.median(result[4]),2))+\"mm \\n Std: \"+str(round(np.std(result[4]),2))+\"mm\",\n",
    "                   \"T 1.75 \\n\\n Median: \"+str(round(np.median(result[5]),2))+\"mm \\n Std: \"+str(round(np.std(result[5]),2))+\"mm\",\n",
    "                   \"T 2 \\n\\n Median: \"+str(round(np.median(result[6]),2))+\"mm \\n Std: \"+str(round(np.std(result[6]),2))+\"mm\"])\n",
    "colors_box = ['#069AF3', '#EF4026','#069AF3', '#EF4026','#069AF3', '#EF4026','#069AF3']\n",
    "\n",
    "for patch, color in zip(box['boxes'], colors_box):\n",
    "    patch.set_facecolor(color)\n",
    "        \n",
    "ax.set_ylabel(\"Error inter-prism [mm]\")\n",
    "plt.show()\n",
    "fig.savefig(\"./figs/comparison_error_time_interval-f-2-1-1-n-6-0-L.jpg\")"
   ]
  },
  {
   "cell_type": "code",
   "execution_count": 25,
   "id": "988a4986",
   "metadata": {},
   "outputs": [
    {
     "name": "stdout",
     "output_type": "stream",
     "text": [
      "35925\n",
      "35925\n",
      "260790\n",
      "346227\n",
      "346308\n",
      "395565\n",
      "404952\n"
     ]
    }
   ],
   "source": [
    "for i in result:\n",
    "    print(len(i))"
   ]
  },
  {
   "cell_type": "code",
   "execution_count": null,
   "id": "4ba12d8a",
   "metadata": {},
   "outputs": [],
   "source": [
    "print(\"Mean inter-prism [mm]: \", round(np.median(dist_prism_raw_all),2))\n",
    "print(\"Std inter-prism [mm]: \", round(np.std(dist_prism_raw_all),2))\n",
    "fig = plt.figure(figsize=(10,7))\n",
    "ax = fig.add_subplot(111)\n",
    "ax.plot(dist_prism_raw_all, label=\"Raw\", color=\"red\", alpha=0.5)\n",
    "ax = plt.gca()\n",
    "ax.set_yscale('symlog')\n",
    "ax.legend(loc='best')\n",
    "ax.set_ylabel(\"Error [mm]\")\n",
    "ax.set_xlabel(\"Samples \\n Mean inter-prism [mm]: \" + str(round(np.median(dist_prism_raw_all),2))\n",
    "             + \"\\n Std inter-prism [mm]: \" + str(round(np.std(dist_prism_raw_all),2)))\n",
    "limity = [0, 100000]\n",
    "ax.set_ylim(limity)\n",
    "plt.show()  \n",
    "fig.tight_layout()\n",
    "#fig.savefig(\"./figs/error_nf-1-6-0-L.jpg\")\n",
    "#fig.savefig(\"./figs/error_f-2-1-1-1-6-0-L.jpg\")"
   ]
  }
 ],
 "metadata": {
  "kernelspec": {
   "display_name": "Python 3",
   "language": "python",
   "name": "python3"
  },
  "language_info": {
   "codemirror_mode": {
    "name": "ipython",
    "version": 3
   },
   "file_extension": ".py",
   "mimetype": "text/x-python",
   "name": "python",
   "nbconvert_exporter": "python",
   "pygments_lexer": "ipython3",
   "version": "3.6.9"
  }
 },
 "nbformat": 4,
 "nbformat_minor": 5
}
