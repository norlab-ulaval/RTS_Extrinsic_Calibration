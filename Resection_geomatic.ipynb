{
 "cells": [
  {
   "cell_type": "code",
   "execution_count": 84,
   "id": "4a7dfd1c",
   "metadata": {},
   "outputs": [],
   "source": [
    "import scipy.linalg\n",
    "import scipy.optimize\n",
    "import sys\n",
    "import numpy as np\n",
    "import importlib\n",
    "import matplotlib.pyplot as plt\n",
    "import scripts.theodolite_function as tfu\n",
    "tfu = importlib.reload(tfu)\n",
    "from scipy.interpolate import splprep, splev\n",
    "from scipy import interpolate\n",
    "import seaborn as sns\n",
    "from matplotlib.colors import BoundaryNorm\n",
    "from matplotlib.ticker import MaxNLocator\n",
    "from scipy.spatial.transform import Rotation as R\n",
    "import scripts.theodolite_utils as ttfu\n",
    "\n",
    "\n",
    "def resection_with_2_known_points(point1, point2, measures_first_point, measures_second_point):\n",
    "    station_z = ((point1[2] - measures_first_point[2]*np.cos(measures_first_point[0])) + (point2[2] - measures_second_point[2]*np.cos(measures_second_point[0])))/2\n",
    "    \n",
    "    # find the position of the total station using the intersection of 2 circles given by the measurements of the prism position.\n",
    "    radius_1 = abs(measures_first_point[2]*np.sin(measures_first_point[0]))\n",
    "    radius_2 = abs(measures_second_point[2]*np.sin(measures_second_point[0]))\n",
    "    \n",
    "    delta_x = point2[0] - point1[0]\n",
    "    delta_y = point2[1] - point1[1]\n",
    "    \n",
    "    # find the y value based on the intersection of 2 circles aligned in x (same value of x)\n",
    "    y = (np.power(radius_1, 2) - np.power(radius_2, 2) - np.power(point1[1], 2) + np.power(point2[1], 2))/(2*delta_y)\n",
    "    \n",
    "    # find the possible values of x based on the quadratic formula and the circle formula knowing y\n",
    "    A = 1\n",
    "    B = -2*point1[0]\n",
    "    C = np.power(point1[0], 2) + np.power(y, 2) + np.power(point1[1], 2) - 2*y*point1[1] - np.power(radius_1, 2)\n",
    "    \n",
    "    x_1 = (-B + np.sqrt(np.power(B, 2) - 4*A*C))/2*A\n",
    "    \n",
    "    x_2 = (-B - np.sqrt(np.power(B, 2) - 4*A*C))/2*A    \n",
    "    \n",
    "    # find the yaw offset to get the measures back in the prism's frame\n",
    "    theta_station__prism_1 = np.arctan2(abs(point1[0]-x_1), radius_1)\n",
    "    if (x_1 > point1[0]):\n",
    "        yaw_1 =  (measures_first_point[1] - theta_station__prism_1 + np.pi/2)\n",
    "    else:\n",
    "        yaw_1 =  (measures_first_point[1] - theta_station__prism_1 + np.pi/2)\n",
    "        \n",
    "    theta_station__prism_2 = np.arctan2(abs(point1[0]-x_2), radius_2)\n",
    "    if (x_2 > point1[0]):\n",
    "        yaw_2 =  (measures_first_point[1] - theta_station__prism_2 + np.pi/2)\n",
    "    else:\n",
    "        yaw_2 =  (measures_first_point[1] - theta_station__prism_2 + np.pi/2)\n",
    "        \n",
    "    station_pos_complete_1 = np.array([x_1, y, station_z, 0, 0, yaw_1])    \n",
    "    station_pos_complete_2 = np.array([x_2, y, station_z, 0, 0, yaw_2])\n",
    "    \n",
    "    return station_pos_complete_1, station_pos_complete_2"
   ]
  },
  {
   "cell_type": "raw",
   "id": "45805903-1682-4d4f-916b-8f9753e12793",
   "metadata": {},
   "source": [
    "# easy test of resection function\n",
    "pilier_D = np.array([1000, 1000, 100])\n",
    "pilier_A = np.array([1000, 1000 - np.sqrt(np.power(548.578, 2) - np.power(2.374, 2)), 100-2.374])\n",
    "pilier_B = np.array([1000, 1000 - np.sqrt(np.power(367.562, 2) - np.power(2.051, 2)), 100-2.051])\n",
    "pilier_C = np.array([1000, 1000 - np.sqrt(np.power(185.087, 2) - np.power(1.336, 2)), 100-1.336])\n",
    "\n",
    "print(pilier_A)\n",
    "print(pilier_B)\n",
    "print(pilier_C)\n",
    "print(pilier_D)\n",
    "\n",
    "station_1_height = 1.333\n",
    "station_1_measures_first_point = np.array([1.55774, 3.19823, 123.852])\n",
    "station_1_measures_second_point = np.array([1.56641, 5.97814, 63.9705])\n",
    "\n",
    "station_2_height = 1.652\n",
    "station_2_measures_first_point = np.array([1.56011, 5.80277, 123.123])\n",
    "station_2_measures_second_point = np.array([1.57114, 2.31949, 64.4049])\n",
    "\n",
    "station_3_height = 1.896\n",
    "station_3_measures_first_point = np.array([1.56214, 4.23715, 121.901])\n",
    "station_3_measures_second_point = np.array([1.57511, 0.774994, 65.3486])\n",
    "#point_1 = np.array([0,0,3])\n",
    "#point_2 = np.array([0,-4,3])\n",
    "#station_height = 2\n",
    "#measures_first_point = np.array([np.pi/4, np.arctan2(1,np.sqrt(8)), 3])\n",
    "#measures_second_point = np.array([7*np.pi/4, np.arctan2(1,np.sqrt(8)), 3])\n",
    "\n",
    "#station_pos1, station_pos2 = resection_with_2_known_points(point_1, point_2, station_height, measures_first_point, measures_second_point)\n",
    "\n",
    "station_1_pos1, station_1_pos2 = resection_with_2_known_points(pilier_D, pilier_C, station_1_measures_first_point, station_1_measures_second_point)\n",
    "\n",
    "station_2_pos1, station_2_pos2 = resection_with_2_known_points(pilier_D, pilier_C, station_2_measures_first_point, station_2_measures_second_point)\n",
    "\n",
    "station_3_pos1, station_3_pos2 = resection_with_2_known_points(pilier_D, pilier_C, station_3_measures_first_point, station_3_measures_second_point)\n",
    "\n",
    "print(\"Sation 1:\")\n",
    "print(\"possible position 1: \", station_1_pos1)\n",
    "print(\"possible position 2: \", station_1_pos2)\n",
    "print(\"Station 2:\")\n",
    "print(\"possible position 1: \", station_2_pos1)\n",
    "print(\"possible position 2: \", station_2_pos2)\n",
    "print(\"Station 3:\")\n",
    "print(\"possible position 1: \", station_3_pos1)\n",
    "print(\"possible position 2: \", station_3_pos2)"
   ]
  },
  {
   "cell_type": "code",
   "execution_count": 85,
   "id": "98c85d0a",
   "metadata": {},
   "outputs": [
    {
     "name": "stdout",
     "output_type": "stream",
     "text": [
      "Sation 1:\n",
      "possible position 1:  [1015.09249351  574.34548304   97.34519957    0.            0.\n",
      "    4.64775486]\n",
      "possible position 2:  [984.90750649 574.34548304  97.34519957   0.           0.\n",
      "   4.53733206]\n",
      "Station 2:\n",
      "possible position 1:  [1014.29310913  573.71061516   97.64721333    0.            0.\n",
      "    7.25798904]\n",
      "possible position 2:  [985.70689087 573.71061516  97.64721333   0.           0.\n",
      "   7.15517986]\n",
      "Station 3:\n",
      "possible position 1:  [1013.50790411  572.57282134   97.90734496    0.            0.\n",
      "    5.69758201]\n",
      "possible position 2:  [986.49209589 572.57282134  97.90734496   0.           0.\n",
      "   5.60410988]\n"
     ]
    }
   ],
   "source": [
    "%matplotlib notebook\n",
    "\n",
    "pilier_A = np.array([1000, 1000, 100])\n",
    "pilier_B = np.array([1000, 1000 - np.sqrt(np.power(181.016, 2) - np.power(0.323, 2)), 100-0.323])\n",
    "pilier_C = np.array([1000, 1000 - np.sqrt(np.power(363.492, 2) - np.power(1.038, 2)), 100-1.038])\n",
    "pilier_D = np.array([1000, 1000 - np.sqrt(np.power(548.578, 2) - np.power(2.374, 2)), 100 - 2.374])\n",
    "\n",
    "# Read markers file of grand axe and show them\n",
    "tfu = importlib.reload(tfu)\n",
    "ttfu = importlib.reload(ttfu)\n",
    "\n",
    "file_name = './data/total_station/20220630-1/theodolite_reference_prisms.txt'\n",
    "\n",
    "raw_1, raw_2, raw_3, trimble_1, trimble_2, trimble_3, T_1_grand, T_2_grand, T_3_grand = ttfu.read_marker_file_raw_data(file_name)\n",
    "\n",
    "station_1_pos1, station_1_pos2 = resection_with_2_known_points(pilier_D, pilier_C, raw_1[0], raw_1[1])\n",
    "\n",
    "station_2_pos1, station_2_pos2 = resection_with_2_known_points(pilier_D, pilier_C, raw_2[0], raw_2[1])\n",
    "\n",
    "station_3_pos1, station_3_pos2 = resection_with_2_known_points(pilier_D, pilier_C, raw_3[0], raw_3[1])\n",
    "print(\"Sation 1:\")\n",
    "print(\"possible position 1: \", station_1_pos1)\n",
    "print(\"possible position 2: \", station_1_pos2)\n",
    "print(\"Station 2:\")\n",
    "print(\"possible position 1: \", station_2_pos1)\n",
    "print(\"possible position 2: \", station_2_pos2)\n",
    "print(\"Station 3:\")\n",
    "print(\"possible position 1: \", station_3_pos1)\n",
    "print(\"possible position 2: \", station_3_pos2)"
   ]
  },
  {
   "cell_type": "code",
   "execution_count": 86,
   "id": "269fa207-c5a9-4b69-aa04-2b6dc35b8b80",
   "metadata": {},
   "outputs": [
    {
     "data": {
      "text/plain": [
       "<matplotlib.collections.PathCollection at 0x7fcf97a00828>"
      ]
     },
     "execution_count": 86,
     "metadata": {},
     "output_type": "execute_result"
    },
    {
     "data": {
      "image/png": "[encoded data removed]",
      "text/plain": [
       "<Figure size 432x288 with 1 Axes>"
      ]
     },
     "metadata": {
      "needs_background": "light"
     },
     "output_type": "display_data"
    }
   ],
   "source": [
    "%matplotlib inline\n",
    "plt.figure()\n",
    "plt.scatter([station_1_pos2[0], station_2_pos2[0], station_3_pos2[0]],[station_1_pos2[1], station_2_pos2[1], station_3_pos2[1]],c=['r', 'g', 'b'])"
   ]
  },
  {
   "cell_type": "code",
   "execution_count": 87,
   "id": "6037e186-7332-47c9-a534-1e9155108312",
   "metadata": {},
   "outputs": [
    {
     "name": "stdout",
     "output_type": "stream",
     "text": [
      "Average error during the calibration:  2276.775 mm\n",
      "TF1:  [[-1.74164192e-01  9.84716626e-01  0.00000000e+00  9.84907506e+02]\n",
      " [-9.84716626e-01 -1.74164192e-01  0.00000000e+00  5.74345483e+02]\n",
      " [ 0.00000000e+00  0.00000000e+00  0.00000000e+00  9.73451996e+01]\n",
      " [ 0.00000000e+00  0.00000000e+00  0.00000000e+00  1.00000000e+00]]\n",
      "TF2:  [[ 6.43300774e-01 -7.65613554e-01  0.00000000e+00  9.85706891e+02]\n",
      " [ 7.65613554e-01  6.43300774e-01  0.00000000e+00  5.73710615e+02]\n",
      " [ 0.00000000e+00  0.00000000e+00  0.00000000e+00  9.76472133e+01]\n",
      " [ 0.00000000e+00  0.00000000e+00  0.00000000e+00  1.00000000e+00]]\n",
      "TF3:  [[ 7.78153751e-01  6.28073833e-01  0.00000000e+00  9.86492096e+02]\n",
      " [-6.28073833e-01  7.78153751e-01  0.00000000e+00  5.72572821e+02]\n",
      " [ 0.00000000e+00  0.00000000e+00  0.00000000e+00  9.79073450e+01]\n",
      " [ 0.00000000e+00  0.00000000e+00  0.00000000e+00  1.00000000e+00]]\n"
     ]
    },
    {
     "data": {
      "image/png": "[encoded data removed]",
      "text/plain": [
       "<Figure size 720x504 with 1 Axes>"
      ]
     },
     "metadata": {
      "needs_background": "light"
     },
     "output_type": "display_data"
    }
   ],
   "source": [
    "%matplotlib inline\n",
    "\n",
    "tfu = importlib.reload(tfu)\n",
    "# choose which line is right for each total station in this section (the correct position is the first or the 2nd found with the resection)\n",
    "#TF1 = tfu.tf_from_pose_roll_pitch_yaw(station_1_pos1)\n",
    "TF1 = ttfu.tf_from_pose_roll_pitch_yaw(station_1_pos2)\n",
    "\n",
    "#TF2 = tfu.tf_from_pose_roll_pitch_yaw(station_2_pos1)\n",
    "TF2 = ttfu.tf_from_pose_roll_pitch_yaw(station_2_pos2)\n",
    "\n",
    "#TF3 = tfu.tf_from_pose_roll_pitch_yaw(station_3_pos1)\n",
    "TF3 = ttfu.tf_from_pose_roll_pitch_yaw(station_3_pos2)\n",
    "\n",
    "tp1 = TF1@trimble_1\n",
    "tp2 = TF2@trimble_2\n",
    "tp3 = TF3@trimble_3\n",
    "tp1 = tp1.T\n",
    "tp2 = tp2.T\n",
    "tp3 = tp3.T\n",
    "\n",
    "error = []\n",
    "for i,j,k in zip(tp1,tp2,tp3):\n",
    "    dist_12 = np.linalg.norm(i-j)\n",
    "    dist_13 = np.linalg.norm(i-k)\n",
    "    dist_23 = np.linalg.norm(k-j)\n",
    "    error.append(dist_12)\n",
    "    error.append(dist_13)\n",
    "    error.append(dist_23)\n",
    "print(\"Average error during the calibration: \", round(np.mean(error)*1000,3), \"mm\")\n",
    "print(\"TF1: \", TF1)\n",
    "print(\"TF2: \", TF2)\n",
    "print(\"TF3: \", TF3)\n",
    "\n",
    "tfu.plot_trajectories_prism(3, tp1.T, tp2.T, tp3.T, TF1, TF2, TF3, 0, 0,\"example.pdf\",1)"
   ]
  },
  {
   "cell_type": "code",
   "execution_count": null,
   "id": "18de00c3-1d8a-42b7-a096-6d6391b008db",
   "metadata": {},
   "outputs": [],
   "source": []
  }
 ],
 "metadata": {
  "kernelspec": {
   "display_name": "Python 3 (ipykernel)",
   "language": "python",
   "name": "python3"
  },
  "language_info": {
   "codemirror_mode": {
    "name": "ipython",
    "version": 3
   },
   "file_extension": ".py",
   "mimetype": "text/x-python",
   "name": "python",
   "nbconvert_exporter": "python",
   "pygments_lexer": "ipython3",
   "version": "3.6.9"
  }
 },
 "nbformat": 4,
 "nbformat_minor": 5
}
