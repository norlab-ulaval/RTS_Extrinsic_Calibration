{
 "cells": [
  {
   "cell_type": "markdown",
   "source": [
    "# Analysis of outliers points removed\n",
    "\n",
    "Notebook which studies the impact of the pre-processing pipeline modules. specifically on the points removed by it."
   ],
   "metadata": {
    "collapsed": false
   }
  },
  {
   "cell_type": "code",
   "execution_count": null,
   "outputs": [],
   "source": [
    "import numpy as np\n",
    "import importlib\n",
    "import matplotlib.pyplot as plt\n",
    "import warnings\n",
    "warnings.filterwarnings('ignore')\n",
    "import importlib\n",
    "import scripts.theodolite_function as theodo_f"
   ],
   "metadata": {
    "collapsed": false
   }
  },
  {
   "cell_type": "markdown",
   "source": [
    "# Selection of rosbags"
   ],
   "metadata": {
    "collapsed": false
   }
  },
  {
   "cell_type": "code",
   "execution_count": null,
   "id": "db3ee44a",
   "metadata": {},
   "outputs": [],
   "source": [
    "# Selection of rosbags to process\n",
    "file_list = [\"/home/maxime/data/ICRA_2023/Vaidis2022_dataset/20220224/20220224_inter_prism.bag\",\n",
    "        # \"/home/maxime/data/ICRA_2023/Vaidis2022_dataset/20220307/20220307_inter_prism.bag\",\n",
    "        # \"/home/maxime/data/ICRA_2023/Vaidis2022_dataset/20220312/20220312_inter_prism.bag\",\n",
    "        # \"/home/maxime/data/ICRA_2023/Vaidis2022_dataset/20220314/20220314_inter_prism.bag\",\n",
    "        # \"/home/maxime/data/ICRA_2023/Vaidis2022_dataset/20220316/20220316_inter_prism.bag\",\n",
    "        # \"/home/maxime/data/ICRA_2023/Vaidis2022_dataset/20220331/20220331_1_inter_prism.bag\",\n",
    "        # \"/home/maxime/data/ICRA_2023/Vaidis2022_dataset/20220331/20220331_2_inter_prism.bag\",\n",
    "        # \"/home/maxime/data/ICRA_2023/Vaidis2022_dataset/20220427/20220427_1_inter_prism.bag\",\n",
    "        # \"/home/maxime/data/ICRA_2023/Vaidis2022_dataset/20220505/20220505_1_inter_prism.bag\",\n",
    "        # \"/home/maxime/data/ICRA_2023/Vaidis2022_dataset/20220505/20220505_2_inter_prism.bag\",\n",
    "        # \"/home/maxime/data/ICRA_2023/Vaidis2022_dataset/20220513/20220513_1_inter_prism.bag\",\n",
    "        # \"/home/maxime/data/ICRA_2023/Vaidis2022_dataset/20220513/20220513_2_inter_prism.bag\",\n",
    "        # \"/home/maxime/data/ICRA_2023/Vaidis2022_dataset/20220513/20220513_3_inter_prism.bag\",\n",
    "        # \"/home/maxime/data/ICRA_2023/Vaidis2022_dataset/20220513/20220513_4_inter_prism.bag\",\n",
    "        # \"/home/maxime/data/ICRA_2023/Vaidis2022_dataset/20220513/20220513_5_inter_prism.bag\",\n",
    "        # \"/home/maxime/data/ICRA_2023/Vaidis2022_dataset/20220513/20220513_6_inter_prism.bag\",\n",
    "        # \"/home/maxime/data/ICRA_2023/Vaidis2022_dataset/20220523/20220523_1_inter_prism.bag\",\n",
    "        # \"/home/maxime/data/ICRA_2023/Vaidis2022_dataset/20220523/20220523_2_inter_prism.bag\",\n",
    "        # \"/home/maxime/data/ICRA_2023/Vaidis2022_dataset/20220523/20220523_3_inter_prism.bag\",\n",
    "        # \"/home/maxime/data/ICRA_2023/Vaidis2022_dataset/20220523/20220523_4_inter_prism.bag\",\n",
    "        # \"/home/maxime/data/ICRA_2023/Vaidis2022_dataset/20220525/20220525_1_inter_prism.bag\",\n",
    "        # \"/home/maxime/data/ICRA_2023/Vaidis2022_dataset/20220525/20220525_2_inter_prism.bag\",\n",
    "        # \"/home/maxime/data/ICRA_2023/Vaidis2022_dataset/20220622/20220622_1_inter_prism.bag\",\n",
    "        # \"/home/maxime/data/ICRA_2023/Vaidis2022_dataset/20220622/20220622_2_inter_prism.bag\",\n",
    "        # \"/home/maxime/data/ICRA_2023/Vaidis2022_dataset/20220630/20220630_1_inter_prism.bag\",\n",
    "        # \"/home/maxime/data/ICRA_2023/Vaidis2022_dataset/20220630/20220630_2_inter_prism.bag\",\n",
    "        # \"/home/maxime/data/ICRA_2023/Vaidis2022_dataset/20220711/20220711_1_dynamic_GCP.bag\",\n",
    "        # \"/home/maxime/data/ICRA_2023/Vaidis2022_dataset/20220711/20220711_2_inter_prism.bag\",\n",
    "        # \"/home/maxime/data/ICRA_2023/Vaidis2022_dataset/20220715/20220715_1_dynamic_GCP.bag\",\n",
    "        # \"/home/maxime/data/ICRA_2023/Vaidis2022_dataset/20220715/20220715_2_dynamic_GCP.bag\",\n",
    "        # \"/home/maxime/data/ICRA_2023/Vaidis2022_dataset/20220715/20220715_3_dynamic_GCP.bag\",\n",
    "        # \"/home/maxime/data/ICRA_2023/Vaidis2022_dataset/20220715/20220715_4_dynamic_GCP.bag\",\n",
    "        # \"/home/maxime/data/ICRA_2023/Vaidis2022_dataset/20220717/20220717_1_inter_prism.bag\",\n",
    "        # \"/home/maxime/data/ICRA_2023/Vaidis2022_dataset/20220717/20220717_2_inter_prism.bag\",\n",
    "        # \"/home/maxime/data/ICRA_2023/Vaidis2022_dataset/20220717/20220717_3_inter_prism.bag\",\n",
    "        # \"/home/maxime/data/ICRA_2023/Vaidis2022_dataset/20220717/20220717_4_inter_prism.bag\",\n",
    "        # \"/home/maxime/data/ICRA_2023/Vaidis2022_dataset/20220717/20220717_5_dynamic_GCP.bag\",\n",
    "        # \"/home/maxime/data/ICRA_2023/Vaidis2022_dataset/20220910/20220910_1_dynamic_GCP.bag\",\n",
    "        # \"/home/maxime/data/ICRA_2023/Vaidis2022_dataset/20220910/20220910_2_dynamic_GCP.bag\",\n",
    "        # \"/home/maxime/data/ICRA_2023/Vaidis2022_dataset/20220910/20220910_3_dynamic_GCP.bag\",\n",
    "        # \"/home/maxime/data/ICRA_2023/Vaidis2022_dataset/20220910/20220910_4_dynamic_GCP.bag\",\n",
    "        # \"/home/maxime/data/ICRA_2023/Vaidis2022_dataset/20220910/20220910_5_dynamic_GCP.bag\",\n",
    "        # \"/home/maxime/data/ICRA_2023/Vaidis2022_dataset/20220910/20220910_6_dynamic_GCP.bag\",\n",
    "        # \"/home/maxime/data/ICRA_2023/Vaidis2022_dataset/20220910/20220910_7_inter_prism.bag\",\n",
    "        # \"/home/maxime/data/ICRA_2023/Vaidis2022_dataset/20220910/20220910_8_inter_prism.bag\",\n",
    "        # \"/home/maxime/data/ICRA_2023/Vaidis2022_dataset/20220910/20220910_9_inter_prism.bag\",\n",
    "       ]\n",
    "\n",
    "repo_out_list = [\n",
    "    '../data/20220224/',\n",
    "    # '../data/20220307/',\n",
    "    # '../data/20220312/',\n",
    "    # '../data/20220314/',\n",
    "    # '../data/20220316/',\n",
    "    # '../data/20220331-1/',\n",
    "    # '../data/20220331-2/',\n",
    "    # '../data/20220427-1/',\n",
    "    # '../data/20220505-1/',\n",
    "    # '../data/20220505-2/',\n",
    "    # '../data/20220513-1/',\n",
    "    # '../data/20220513-2/',\n",
    "    # '../data/20220513-3/',\n",
    "    # '../data/20220513-4/',\n",
    "    # '../data/20220513-5/',\n",
    "    # '../data/20220513-6/',\n",
    "    # '../data/20220523-1/',\n",
    "    # '../data/20220523-2/',\n",
    "    # '../data/20220523-3/',\n",
    "    # '../data/20220523-4/',\n",
    "    # '../data/20220525-1/',\n",
    "    # '../data/20220525-2/',\n",
    "    # '../data/20220622-1/',\n",
    "    # '../data/20220622-2/',\n",
    "    # '../data/20220630-1/',\n",
    "    # '../data/20220630-2/',\n",
    "    # '../data/20220711-1/',\n",
    "    # '../data/20220711-2/',\n",
    "    # '../data/20220715-1/',\n",
    "    # '../data/20220715-2/',\n",
    "    # '../data/20220715-3/',\n",
    "    # '../data/20220715-4/',\n",
    "    # '../data/20220717-1/',\n",
    "    # '../data/20220717-2/',\n",
    "    # '../data/20220717-3/',\n",
    "    # '../data/20220717-4/',\n",
    "    # '../data/20220717-5/',\n",
    "    # '../data/20220910-1/',\n",
    "    # '../data/20220910-2/',\n",
    "    # '../data/20220910-3/',\n",
    "    # '../data/20220910-4/',\n",
    "    # '../data/20220910-5/',\n",
    "    # '../data/20220910-6/',\n",
    "    # '../data/20220910-7/',\n",
    "    # '../data/20220910-8/',\n",
    "    # '../data/20220910-9/',\n",
    "]"
   ]
  },
  {
   "cell_type": "markdown",
   "source": [
    "# Selection of parameters to test"
   ],
   "metadata": {
    "collapsed": false
   }
  },
  {
   "cell_type": "code",
   "execution_count": null,
   "outputs": [],
   "source": [
    "# Selection of parameter to test\n",
    "# Outlier range\n",
    "param = [np.array([0.5, 10, 10, 1, 0, 6]),\n",
    "        np.array([1, 10, 10, 1, 0, 6]),\n",
    "        np.array([1.5, 10, 10, 1, 0, 6]),\n",
    "        np.array([2, 10, 10, 1, 0, 6]),\n",
    "        np.array([2.5, 10, 10, 1, 0, 6]),\n",
    "        np.array([3, 10, 10, 1, 0, 6]),\n",
    "       ]\n",
    "\n",
    "# Outlier azimuth angle\n",
    "#param = [np.array([10, 0.5, 10, 1, 0, 6]),\n",
    "#         np.array([10, 1, 10, 1, 0, 6]),\n",
    "#         np.array([10, 1.5, 10, 1, 0, 6]),\n",
    "#         np.array([10, 2, 10, 1, 0, 6]),\n",
    "#         np.array([10, 2.5, 10, 1, 0, 6]),\n",
    "#         np.array([10, 3, 10, 1, 0, 6]),\n",
    "#        ]\n",
    "\n",
    "# Outlier elevation angle\n",
    "#param = [np.array([10, 10, 0.5, 1, 0, 6]),\n",
    "#         np.array([10, 10, 1, 1, 0, 6]),\n",
    "#         np.array([10, 10, 1.5, 1, 0, 6]),\n",
    "#         np.array([10, 10, 2, 1, 0, 6]),\n",
    "#         np.array([10, 10, 2.5, 1, 0, 6]),\n",
    "#         np.array([10, 10, 3, 1, 0, 6]),\n",
    "#        ]\n",
    "\n",
    "# split time interval\n",
    "#param = [np.array([2, 1, 1, 0.5, 0, 6]),\n",
    "#         np.array([2, 1, 1, 0.75, 0, 6]),\n",
    "#         np.array([2, 1, 1, 1, 0, 6]),\n",
    "#         np.array([2, 1, 1, 1.25, 0, 6]),\n",
    "#         np.array([2, 1, 1, 1.5, 0, 6]),\n",
    "#         np.array([2, 1, 1, 1.75, 0, 6]),\n",
    "#         np.array([2, 1, 1, 2, 0, 6]),\n",
    "#         np.array([2, 1, 1, 2.25, 0, 6]),\n",
    "#         np.array([2, 1, 1, 2.5, 0, 6])\n",
    "#        ]\n",
    "\n",
    "# delta_t\n",
    "# param = [np.array([2, 1, 1, 1, 0, 6]),\n",
    "#          np.array([2, 1, 1, 1, 0.25, 6]),\n",
    "#          np.array([2, 1, 1, 1, 0.5, 6]),\n",
    "#          np.array([2, 1, 1, 1, 0.75, 6]),\n",
    "#          np.array([2, 1, 1, 1, 1, 6]),\n",
    "#          np.array([2, 1, 1, 1, 1.25, 6]),\n",
    "#          np.array([2, 1, 1, 1, 1.5, 6]),\n",
    "#          np.array([2, 1, 1, 1, 1.75, 6]),\n",
    "#          np.array([2, 1, 1, 1, 2, 6])\n",
    "#         ]\n",
    "\n",
    "# split time interval\n",
    "#param = [np.array([2, 1, 1, 1, 0, 2]),\n",
    "#         np.array([2, 1, 1, 1, 0, 4]),\n",
    "#         np.array([2, 1, 1, 1, 0, 6]),\n",
    "#         np.array([2, 1, 1, 1, 0, 8]),\n",
    "#         np.array([2, 1, 1, 1, 0, 10]),\n",
    "#         np.array([2, 1, 1, 1, 0, 12])\n",
    "#        ]"
   ],
   "metadata": {
    "collapsed": false
   }
  },
  {
   "cell_type": "markdown",
   "source": [
    "# Number of points in each modules"
   ],
   "metadata": {
    "collapsed": false
   }
  },
  {
   "cell_type": "code",
   "execution_count": null,
   "id": "140c8011",
   "metadata": {
    "scrolled": true
   },
   "outputs": [],
   "source": [
    "theodo_f = importlib.reload(theodo_f)\n",
    "\n",
    "mean_points_input,mean_point_out_outlier,mean_point_out_filter,mean_point_out_filter_only,mean_points_out_outliers_end_with_outliers,mean_points_out_outliers_end_without_outliers = theodo_f.drop_outlier_filtering_loop(param,file_list,repo_out_list)"
   ]
  },
  {
   "cell_type": "markdown",
   "source": [
    "# Percentage of points removed by each module"
   ],
   "metadata": {
    "collapsed": false
   }
  },
  {
   "cell_type": "code",
   "execution_count": null,
   "outputs": [],
   "source": [
    "# Percentage points removed by outliers/filters\n",
    "theodo_f = importlib.reload(theodo_f)\n",
    "\n",
    "percentage_out_outliers,percentage_out_filters,percentage_out_total_outliers_filters,percentage_out_end_outliers_only,percentage_out_total=theodo_f.percentage_points_removed(mean_points_input, mean_point_out_outlier, mean_point_out_filter, mean_point_out_filter_only, mean_points_out_outliers_end_with_outliers, mean_points_out_outliers_end_without_outliers)"
   ],
   "metadata": {
    "collapsed": false
   }
  },
  {
   "cell_type": "markdown",
   "source": [
    "# Display results"
   ],
   "metadata": {
    "collapsed": false
   }
  },
  {
   "cell_type": "code",
   "execution_count": null,
   "id": "a8bd9da1",
   "metadata": {},
   "outputs": [],
   "source": [
    "%matplotlib notebook\n",
    "\n",
    "y_limit = 360000\n",
    "#arr = [\"0.5\", \"1\", \"1.5\", \"2\", \"2.5\", \"3\"]  #30min for distance outliers generation, azimuth, elevation\n",
    "#arr = [\"0\", \"0.25\",\"0.5\",\"0.75\", \"1\", \"1.25\",\"1.5\",\"1.75\", \"2\"]  #50min for delta_t outliers generation\n",
    "#arr = [\"0.5\", \"0.75\",\"1\",\"1.25\", \"1.5\", \"1.75\",\"2\",\"2.25\", \"2.5\"]  #50min for time split interval generation\n",
    "arr = [\"2\", \"4\",\"6\",\"8\", \"10\", \"12\"]  #40min for length interval generation\n",
    "#arr = [\"0.5\",\"1\",\"1.5\",\"2\"]\n",
    "#arr = [\"0.5\",\"1\",\"1.5\",\"2\"]\n",
    "\n",
    "fig = plt.figure(figsize =(8,8))\n",
    "ax = fig.add_subplot(211)\n",
    "ax.plot(mean_points_input, color='r', label=\"total points\")\n",
    "ax.plot(mean_point_out_outlier, color='b', label=\"points outlier\")\n",
    "ax.plot(mean_point_out_filter, color='g', label=\"points filter\")\n",
    "ax.plot(mean_points_out_outliers_end_with_outliers, color='yellow', label=\"points end outliers\")\n",
    "ax.set_ylabel(\"Number points\")\n",
    "ax.set_ylim([0,y_limit])\n",
    "ax.legend(mode = \"expand\", ncol = 4)\n",
    "#plt.xticks([0, 1, 2, 3, 4, 5], arr)\n",
    "#ax.set_xlabel(\"Outlier distance [m.s^-1]\")\n",
    "#ax.set_xlabel(\"Outlier azimuth [deg/s]\")\n",
    "#ax.set_xlabel(\"Outlier elevation [deg/s]\")\n",
    "#plt.xticks([0, 1, 2, 3, 4, 5,6,7], arr)\n",
    "#ax.set_xlabel(\"Outlier delta_t [s]\")\n",
    "#ax.set_xlabel(\"Time split [s]\")\n",
    "plt.xticks([0, 1, 2, 3, 4, 5], arr)\n",
    "ax.set_xlabel(\"Length interval [s]\")\n",
    "\n",
    "ax2 = fig.add_subplot(212)\n",
    "ax2.plot(percentage_out_outliers, color='b', label=\"outlier\")\n",
    "ax2.plot(percentage_out_filters, color='g', label=\"filtered\")\n",
    "ax2.plot(percentage_out_end_outliers_only, color='r', label=\"end outliers\")\n",
    "ax2.plot(percentage_out_total, color='black', label=\"total\")\n",
    "ax2.legend(mode = \"expand\", ncol = 4)\n",
    "ax2.set_ylim([0,100])\n",
    "ax2.set_ylabel(\"Percentage removed [%]\")\n",
    "#plt.xticks([0, 1, 2, 3, 4, 5], arr)\n",
    "#ax2.set_xlabel(\"Outlier distance [m.s^-1]\")\n",
    "#ax2.set_xlabel(\"Outlier azimuth [deg/s]\")\n",
    "#ax2.set_xlabel(\"Outlier elevation [deg/s]\")\n",
    "#plt.xticks([0, 1, 2, 3, 4, 5,6,7], arr)\n",
    "#ax2.set_xlabel(\"Outlier delta_t [s]\")\n",
    "#ax2.set_xlabel(\"Time split [s]\")\n",
    "plt.xticks([0, 1, 2, 3, 4, 5], arr)\n",
    "ax2.set_xlabel(\"Length interval [s]\")\n",
    "\n",
    "fig.tight_layout()\n",
    "plt.show()\n",
    "#fig.savefig(\"./figs/number_points_removed_distance-f-n-10-10-1-0-6.jpg\")\n",
    "#fig.savefig(\"./figs/number_points_removed_azimuth-f-10-n-10-1-0-6.jpg\")\n",
    "#fig.savefig(\"./figs/number_points_removed_elevation-f-10-10-n-1-0-6.jpg\")\n",
    "#fig.savefig(\"./figs/number_points_removed_delta_t-f-2-1-1-1-n-6.jpg\")\n",
    "#fig.savefig(\"./figs/number_points_removed_time_split-f-2-1-1-n-0-6.jpg\")\n",
    "#fig.savefig(\"./figs/number_points_removed_length_interval-f-2-1-1-1-0-n.jpg\")"
   ]
  },
  {
   "cell_type": "code",
   "execution_count": null,
   "id": "f38c8ffa",
   "metadata": {},
   "outputs": [],
   "source": []
  }
 ],
 "metadata": {
  "kernelspec": {
   "display_name": "Python 3 (ipykernel)",
   "language": "python",
   "name": "python3"
  },
  "language_info": {
   "codemirror_mode": {
    "name": "ipython",
    "version": 3
   },
   "file_extension": ".py",
   "mimetype": "text/x-python",
   "name": "python",
   "nbconvert_exporter": "python",
   "pygments_lexer": "ipython3",
   "version": "3.8.14"
  }
 },
 "nbformat": 4,
 "nbformat_minor": 5
}
