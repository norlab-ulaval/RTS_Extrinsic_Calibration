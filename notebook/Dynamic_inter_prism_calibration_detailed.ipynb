{
 "cells": [
  {
   "cell_type": "markdown",
   "source": [
    "# Dynamic inter-prism calibration notebook\n",
    "\n",
    "Notebook to test the dynamic inter-prism calibration with one set of data"
   ],
   "metadata": {
    "collapsed": false
   }
  },
  {
   "cell_type": "code",
   "execution_count": null,
   "outputs": [],
   "source": [
    "import numpy as np\n",
    "import importlib\n",
    "import matplotlib.pyplot as plt\n",
    "import scipy\n",
    "import warnings\n",
    "warnings.filterwarnings('ignore')\n",
    "import scripts.theodolite_utils as theodo_u\n",
    "import scripts.resection_functions as theodo_r"
   ],
   "metadata": {
    "collapsed": false
   }
  },
  {
   "cell_type": "markdown",
   "source": [
    "# Input for calibration"
   ],
   "metadata": {
    "collapsed": false
   }
  },
  {
   "cell_type": "code",
   "execution_count": null,
   "id": "0392242c",
   "metadata": {},
   "outputs": [],
   "source": [
    "# Read predicted prism trajectories\n",
    "theodo_u = importlib.reload(theodo_u)\n",
    "\n",
    "# path = \"../data/20220717-2/\"\n",
    "# path_type = \"filtered_prediction/\"\n",
    "# file_name = \"f-2-1-1-1-6-0-L_\"\n",
    "\n",
    "path = \"../data/Simulation_1/\"\n",
    "path_type = \"total_stations/\"\n",
    "file_name = \"ns_sync_p_\"\n",
    "\n",
    "trimble_1 = np.array(theodo_u.read_prediction_data_Linear_csv_file(path+path_type+file_name+\"1.csv\"))\n",
    "trimble_2 = np.array(theodo_u.read_prediction_data_Linear_csv_file(path+path_type+file_name+\"2.csv\"))\n",
    "trimble_3 = np.array(theodo_u.read_prediction_data_Linear_csv_file(path+path_type+file_name+\"3.csv\"))\n",
    "print(\"Number of points: \", len(trimble_1),len(trimble_2),len(trimble_3))"
   ]
  },
  {
   "cell_type": "code",
   "execution_count": null,
   "id": "6ed3f189",
   "metadata": {},
   "outputs": [],
   "source": [
    "# Display prism trajectories\n",
    "%matplotlib notebook\n",
    "plt.figure(figsize=(10,3))\n",
    "plt.scatter(trimble_1[:,1],trimble_1[:,2], color='r')\n",
    "plt.scatter(trimble_2[:,1],trimble_2[:,2], color='b')\n",
    "plt.scatter(trimble_3[:,1],trimble_3[:,2], color='g')\n",
    "plt.show()"
   ]
  },
  {
   "cell_type": "markdown",
   "source": [
    "# Prism positions selection"
   ],
   "metadata": {
    "collapsed": false
   }
  },
  {
   "cell_type": "code",
   "execution_count": null,
   "id": "0ffa962c",
   "metadata": {},
   "outputs": [],
   "source": [
    "# Sort points according to their speed\n",
    "theodo_u = importlib.reload(theodo_u)\n",
    "rate = 2.5\n",
    "speed_limit = 10\n",
    "index1 = theodo_u.find_not_moving_points_GP(np.array(trimble_1), speed_limit, 1/rate)"
   ]
  },
  {
   "cell_type": "code",
   "execution_count": null,
   "id": "485d3fa3",
   "metadata": {},
   "outputs": [],
   "source": [
    "# Split set of positions selected into a training set and an evalution set\n",
    "theodo_u = importlib.reload(theodo_u)\n",
    "\n",
    "p1s_l = trimble_1[index1,1:5]\n",
    "p2s_l = trimble_2[index1,1:5]\n",
    "p3s_l = trimble_3[index1,1:5]\n",
    "\n",
    "threshold_training = 0.75\n",
    "mask_1 = theodo_u.random_splitting_mask(p1s_l, threshold_training)\n",
    "\n",
    "# training set\n",
    "p1s_t = p1s_l[mask_1]\n",
    "p2s_t = p2s_l[mask_1]\n",
    "p3s_t = p3s_l[mask_1]\n",
    "\n",
    "# evaluation set\n",
    "p1s_p = p1s_l[~mask_1]\n",
    "p2s_p = p2s_l[~mask_1]\n",
    "p3s_p = p3s_l[~mask_1]\n",
    "\n",
    "print(\"Number of points kept: \", len(p1s_l),len(p1s_t),len(p1s_p))"
   ]
  },
  {
   "cell_type": "code",
   "execution_count": null,
   "id": "374d3118",
   "metadata": {},
   "outputs": [],
   "source": [
    "# Information about the shape of the point cloud\n",
    "cov_1 = np.cov(p1s_t[:,0:3].T)\n",
    "w1, v1 = np.linalg.eig(cov_1)\n",
    "print(\"Eigen values: \", (w1)**0.5)"
   ]
  },
  {
   "cell_type": "markdown",
   "source": [
    "# Prior computation"
   ],
   "metadata": {
    "collapsed": false
   }
  },
  {
   "cell_type": "code",
   "execution_count": null,
   "id": "636c9349",
   "metadata": {},
   "outputs": [],
   "source": [
    "# Compute the prior\n",
    "theodo_u = importlib.reload(theodo_u)\n",
    "theodo_r = importlib.reload(theodo_r)\n",
    "\n",
    "method_prior = \"Else\"    #GCP or PTP or None\n",
    "method_6DOF = True\n",
    "\n",
    "if(method_prior == \"GCP\"):\n",
    "    file_name_marker = [path+\"total_stations/GCP.txt\"]\n",
    "    marker_1, marker_2, marker_3, T1_GCP, T12_GCP, T13_GCP = theodo_u.read_marker_file(file_name_marker[0], 1, 1)\n",
    "    T12_init = T12_GCP\n",
    "    T13_init = T13_GCP\n",
    "else:\n",
    "    if(method_prior == \"PTP\"):\n",
    "        T12_init = theodo_u.point_to_point_minimization(p2s_t.T, p1s_t.T)\n",
    "        T13_init = theodo_u.point_to_point_minimization(p3s_t.T, p1s_t.T)\n",
    "    else:\n",
    "        if(method_prior == \"None\"):\n",
    "            T12_init=np.identity(4)\n",
    "            T13_init=np.identity(4)\n",
    "        else:\n",
    "            T12_init = np.array([[-0.0691160,  0.4427109,  0.8939967, 10],[0.5290934, -0.7434545,  0.4090667, -5],\n",
    "                                 [0.8457441,  0.5012808, -0.1828508, -3],[0,0,0,1]])\n",
    "            T13_init = np.array([[-0.0691160, -0.4427109,  0.8939967, -6],[-0.5290934, -0.7434545, -0.4090667, 4],\n",
    "                                 [0.8457441, -0.5012808, -0.1828508, 1],[0,0,0,1]])\n",
    "\n",
    "T12_init_log = theodo_r.exp_inv_T(T12_init)\n",
    "T13_init_log = theodo_r.exp_inv_T(T13_init)\n",
    "if(method_6DOF):\n",
    "    x_init = [T12_init_log[2,1],T12_init_log[0,2],T12_init_log[1,0],T12_init_log[0,3],T12_init_log[1,3],T12_init_log[2,3],\n",
    "          T13_init_log[2,1],T13_init_log[0,2],T13_init_log[1,0],T13_init_log[0,3],T13_init_log[1,3],T13_init_log[2,3]]\n",
    "else:\n",
    "    x_init = [T12_init_log[1,0],T12_init_log[0,3],T12_init_log[1,3],T12_init_log[2,3],\n",
    "             T13_init_log[1,0],T13_init_log[0,3],T13_init_log[1,3],T13_init_log[2,3]]\n",
    "\n",
    "pt2l = (T12_init@p2s_l.T).T\n",
    "pt3l = (T13_init@p3s_l.T).T\n",
    "\n",
    "print(x_init)"
   ]
  },
  {
   "cell_type": "code",
   "execution_count": null,
   "id": "859667a9",
   "metadata": {},
   "outputs": [],
   "source": [
    "# Display the prism positions aligned with the prior selected\n",
    "%matplotlib notebook\n",
    "plt.figure(figsize=(10,3))\n",
    "plt.scatter(p1s_l[:,0],p1s_l[:,1], color='b')\n",
    "plt.scatter(pt2l[:,0],pt2l[:,1], color='r')\n",
    "plt.scatter(pt3l[:,0],pt3l[:,1], color='g')\n",
    "plt.show()"
   ]
  },
  {
   "cell_type": "markdown",
   "source": [
    "# Minimization"
   ],
   "metadata": {
    "collapsed": false
   }
  },
  {
   "cell_type": "code",
   "execution_count": null,
   "id": "923b8c88",
   "metadata": {},
   "outputs": [],
   "source": [
    "# Minimization with the cost function\n",
    "theodo_u = importlib.reload(theodo_u)\n",
    "theodo_r = importlib.reload(theodo_r)\n",
    "\n",
    "import time\n",
    "\n",
    "extrinsic_calibration_results = theodo_u.read_extrinsic_calibration_results_file(path+\"sensors_extrinsic_calibration/calibration_results.csv\")\n",
    "\n",
    "start_time = time.time()\n",
    "\n",
    "if(method_6DOF):\n",
    "    res = scipy.optimize.least_squares(lambda x: theodo_r.cost_fun_ls(p1s_t, p2s_t, p3s_t, x[:6], x[6:], extrinsic_calibration_results[0],      extrinsic_calibration_results[1], extrinsic_calibration_results[2]), x0=x_init, method='lm', ftol=1e-15, xtol=1e-15, gtol=1e-15, x_scale=1.0,\n",
    "                                       loss='linear', f_scale=1.0, diff_step=None, tr_solver=None, tr_options={}, jac_sparsity=None, max_nfev=30000000,\n",
    "                                       verbose=2, args=(), kwargs={})\n",
    "    xi_12 = res.x[:6]\n",
    "    xi_13 = res.x[6:]\n",
    "    T12 = theodo_r.exp_T(xi_12)\n",
    "    T13 = theodo_r.exp_T(xi_13)\n",
    "else:\n",
    "    res = scipy.optimize.least_squares(lambda x: theodo_r.cost_fun_ls_4dof(p1s_t, p2s_t, p3s_t, x[:4], x[4:], extrinsic_calibration_results[0],      extrinsic_calibration_results[1], extrinsic_calibration_results[2]), x0=x_init, method='trf', ftol=1e-15, xtol=1e-15, gtol=1e-15, x_scale=1.0,\n",
    "                                       loss='linear', f_scale=1.0, diff_step=None, tr_solver=None, tr_options={}, jac_sparsity=None, max_nfev=30000000,\n",
    "                                       verbose=2, args=(), kwargs={})\n",
    "    xi_12 = res.x[:4]\n",
    "    xi_13 = res.x[4:]\n",
    "    T12 = theodo_r.exp_T_4dof(xi_12)\n",
    "    T13 = theodo_r.exp_T_4dof(xi_13)\n",
    "\n",
    "stop_time = time.time()\n",
    "print(stop_time - start_time)\n",
    "print(res.fun)"
   ]
  },
  {
   "cell_type": "markdown",
   "source": [
    "# Analysis"
   ],
   "metadata": {
    "collapsed": false
   }
  },
  {
   "cell_type": "code",
   "execution_count": null,
   "id": "9becb561",
   "metadata": {},
   "outputs": [],
   "source": [
    "# Difference between the prior and the results\n",
    "theodo_u = importlib.reload(theodo_u)\n",
    "theodo_r = importlib.reload(theodo_r)\n",
    "\n",
    "p1s_r = p1s_p\n",
    "p2s_r = (T12@p2s_p.T).T\n",
    "p3s_r = (T13@p3s_p.T).T\n",
    "\n",
    "save_tf = False\n",
    "name_file_type = 'f-2-1-1-1-6-1-L'\n",
    "if(save_tf):\n",
    "    theodo_u.save_tf(np.identity(4), T12, T13, path+\"list_tf/dynamic_inter_prism_test-\"+name_file_type+\".csv\")\n",
    "\n",
    "A_12 = np.array([theodo_r.exp_inv_T(T12)[2,1],theodo_r.exp_inv_T(T12)[0,2],theodo_r.exp_inv_T(T12)[1,0],theodo_r.exp_inv_T(T12)[0,3],theodo_r.exp_inv_T(T12)[1,3],theodo_r.exp_inv_T(T12)[2,3]])\n",
    "A_13 =  np.array([theodo_r.exp_inv_T(T13)[2,1],theodo_r.exp_inv_T(T13)[0,2],theodo_r.exp_inv_T(T13)[1,0],theodo_r.exp_inv_T(T13)[0,3],theodo_r.exp_inv_T(T13)[1,3],theodo_r.exp_inv_T(T13)[2,3]])\n",
    "B_12 =  np.array([theodo_r.exp_inv_T(T12_init)[2,1],theodo_r.exp_inv_T(T12_init)[0,2],theodo_r.exp_inv_T(T12_init)[1,0],theodo_r.exp_inv_T(T12_init)[0,3],theodo_r.exp_inv_T(T12_init)[1,3],theodo_r.exp_inv_T(T12_init)[2,3]])\n",
    "B_13 =  np.array([theodo_r.exp_inv_T(T13_init)[2,1],theodo_r.exp_inv_T(T13_init)[0,2],theodo_r.exp_inv_T(T13_init)[1,0],theodo_r.exp_inv_T(T13_init)[0,3],theodo_r.exp_inv_T(T13_init)[1,3],theodo_r.exp_inv_T(T13_init)[2,3]])\n",
    "print(\"Difference with prior 12: \",A_12-B_12)\n",
    "print(\"Difference with prior 13: \",A_13-B_13)"
   ]
  },
  {
   "cell_type": "code",
   "execution_count": null,
   "id": "01a85c6b",
   "metadata": {},
   "outputs": [],
   "source": [
    "# Errors obtained for the different metrics\n",
    "dist_prism_new = []\n",
    "dist_prism_basic = []\n",
    "timestamp = np.array(trimble_1)[:,0]\n",
    "for i in range(0,len(p1s_r)-1):\n",
    "    dp1 = abs(np.linalg.norm(p1s_r[i,0:3]-p2s_r[i,0:3])-extrinsic_calibration_results[0])*1000\n",
    "    dp2 = abs(np.linalg.norm(p1s_r[i,0:3]-p3s_r[i,0:3])-extrinsic_calibration_results[1])*1000\n",
    "    dp3 = abs(np.linalg.norm(p3s_r[i,0:3]-p2s_r[i,0:3])-extrinsic_calibration_results[2])*1000\n",
    "    dist_prism_new.append(np.array([timestamp[i], dp1, dp2, dp3]))\n",
    "    \n",
    "    dp1 = abs(np.linalg.norm(p1s_l[i,0:3]-(T12_GCP@p2s_l[i,0:4].T)[0:3])-extrinsic_calibration_results[0])*1000\n",
    "    dp2 = abs(np.linalg.norm(p1s_l[i,0:3]-(T13_GCP@p3s_l[i,0:4].T)[0:3])-extrinsic_calibration_results[1])*1000\n",
    "    dp3 = abs(np.linalg.norm((T13_GCP@p3s_l[i,0:4].T)[0:3]-(T12_GCP@p2s_l[i,0:4].T)[0:3])-extrinsic_calibration_results[2])*1000\n",
    "    dist_prism_basic.append(np.array([timestamp[i], dp1, dp2, dp3]))\n",
    "dist_prism_new = np.array(dist_prism_new)\n",
    "dist_prism_basic = np.array(dist_prism_basic)\n",
    "\n",
    "print(\"Inter-prism distance error metric\")\n",
    "print(\"GCP\")\n",
    "print(\"Mean inter-prism [mm]: \", round(np.mean(dist_prism_basic[:,1]),2), round(np.mean(dist_prism_basic[:,2]),2), round(np.mean(dist_prism_basic[:,3]),2))\n",
    "print(\"Std inter-prism [mm]: \", round(np.std(dist_prism_basic[:,1]),2), round(np.std(dist_prism_basic[:,2]),2), round(np.std(dist_prism_basic[:,3]),3))\n",
    "print(\"Dynamic inter-prism\")\n",
    "print(\"Mean inter-prism [mm]: \", round(np.mean(dist_prism_new[:,1]),2), round(np.mean(dist_prism_new[:,2]),2), round(np.mean(dist_prism_new[:,3]),2))\n",
    "print(\"Std inter-prism [mm]: \", round(np.std(dist_prism_new[:,1]),2), round(np.std(dist_prism_new[:,2]),2), round(np.std(dist_prism_new[:,3]),3))"
   ]
  },
  {
   "cell_type": "code",
   "execution_count": null,
   "id": "26f625b5",
   "metadata": {},
   "outputs": [],
   "source": [
    "# Display inter-prism metric\n",
    "print(\"Mean inter-prism [mm]: \", round(np.mean(dist_prism_new[:,1]),2), round(np.mean(dist_prism_new[:,2]),2), round(np.mean(dist_prism_new[:,3]),2))\n",
    "print(\"Std inter-prism [mm]: \", round(np.std(dist_prism_new[:,1]),2), round(np.std(dist_prism_new[:,2]),2), round(np.std(dist_prism_new[:,3]),3))\n",
    "plt.figure(figsize=(10,5))\n",
    "offset_timestamp = min(dist_prism_new[:,0])\n",
    "plt.subplot(111)\n",
    "plt.plot(dist_prism_new[:,0]-offset_timestamp, dist_prism_new[:,1], label=\"P12\", color=\"red\", alpha=0.5)\n",
    "plt.plot(dist_prism_new[:,0]-offset_timestamp, dist_prism_new[:,2], label=\"P13\", color=\"blue\", alpha=0.5)\n",
    "plt.plot(dist_prism_new[:,0]-offset_timestamp, dist_prism_new[:,3], label=\"P23\", color=\"green\", alpha=0.5)\n",
    "ax = plt.gca()\n",
    "ax.set_yscale('symlog')\n",
    "plt.legend(loc='best')\n",
    "ax.set_ylabel(\"Error [mm]\")\n",
    "#limitx = [-50, 350]\n",
    "#ax.set_xlim(limitx)\n",
    "ax.set_xlabel(\"Time [s] \\n Mean inter-prism [mm]: \" + str(round(np.mean(dist_prism_new[:,1]),2)) + \"  \" + str(round(np.mean(dist_prism_new[:,2]),2)) + \"  \" + str(round(np.mean(dist_prism_new[:,3]),2))\n",
    "             + \"\\n Std inter-prism [mm]: \" + str(round(np.std(dist_prism_new[:,1]),2)) + \"  \" + str(round(np.std(dist_prism_new[:,2]),2)) + \"  \" + str(round(np.std(dist_prism_new[:,3]),2)))\n",
    "plt.tight_layout()\n",
    "plt.show()  \n",
    "plt.savefig(path+\"figures/dynamic_inter_prism_test\"+name_file_type+\".jpg\")"
   ]
  },
  {
   "cell_type": "markdown",
   "source": [
    "# Trajectories analysis"
   ],
   "metadata": {
    "collapsed": false
   }
  },
  {
   "cell_type": "code",
   "execution_count": null,
   "id": "944e7e56",
   "metadata": {},
   "outputs": [],
   "source": [
    "# Display evaluation prism positions\n",
    "%matplotlib notebook\n",
    "p2s_rarr = np.array(p2s_r)\n",
    "p3s_rarr = np.array(p3s_r)\n",
    "plt.figure(figsize=(10,3))\n",
    "plt.scatter(p1s_r[:,0],p1s_r[:,1], color='r')\n",
    "plt.scatter(p2s_rarr[:,0],p2s_rarr[:,1], color='b')\n",
    "plt.scatter(p3s_rarr[:,0],p3s_rarr[:,1], color='g')\n",
    "plt.show()"
   ]
  },
  {
   "cell_type": "code",
   "execution_count": null,
   "id": "373b7be8",
   "metadata": {},
   "outputs": [],
   "source": [
    "# Dispay X axis\n",
    "t1s_r = trimble_1[:,1:5]\n",
    "t2s_r = (T12@(trimble_2[:,1:5]).T).T\n",
    "t3s_r = (T13@(trimble_3[:,1:5]).T).T\n",
    "plt.figure(figsize=(10,3))\n",
    "offset_timestamp = min(trimble_1[0,0],trimble_2[0,0],trimble_3[0,0])\n",
    "plt.plot(trimble_1[:,0]-offset_timestamp,t1s_r[:,0], color='r')\n",
    "plt.plot(trimble_2[:,0]-offset_timestamp,t2s_r[:,0], color='b')\n",
    "plt.plot(trimble_3[:,0]-offset_timestamp,t3s_r[:,0], color='g')\n",
    "plt.show()"
   ]
  },
  {
   "cell_type": "code",
   "execution_count": null,
   "id": "bd7f2d20",
   "metadata": {},
   "outputs": [],
   "source": [
    "# Dispay Y axis\n",
    "plt.figure(figsize=(10,3))\n",
    "plt.plot(trimble_1[:,0]-offset_timestamp,t1s_r[:,1], color='r')\n",
    "plt.plot(trimble_2[:,0]-offset_timestamp,t2s_r[:,1], color='b')\n",
    "plt.plot(trimble_3[:,0]-offset_timestamp,t3s_r[:,1], color='g')\n",
    "plt.show()"
   ]
  },
  {
   "cell_type": "code",
   "execution_count": null,
   "id": "120f7d32",
   "metadata": {},
   "outputs": [],
   "source": [
    "# Dispay Z axis\n",
    "plt.figure(figsize=(10,3))\n",
    "plt.plot(trimble_1[:,0]-offset_timestamp,t1s_r[:,2], color='r')\n",
    "plt.plot(trimble_2[:,0]-offset_timestamp,t2s_r[:,2], color='b')\n",
    "plt.plot(trimble_3[:,0]-offset_timestamp,t3s_r[:,2], color='g')\n",
    "plt.show()"
   ]
  },
  {
   "cell_type": "markdown",
   "source": [
    "# Analysis with GCP"
   ],
   "metadata": {
    "collapsed": false
   }
  },
  {
   "cell_type": "code",
   "execution_count": null,
   "id": "764a7558",
   "metadata": {},
   "outputs": [],
   "source": [
    "m1_b = marker_1\n",
    "m2_b = T12_GCP@marker_2\n",
    "m3_b = T13_GCP@marker_3\n",
    "m1_n = marker_1\n",
    "m2_n = T12@marker_2\n",
    "m3_n = T13@marker_3"
   ]
  },
  {
   "cell_type": "code",
   "execution_count": null,
   "id": "88c59e5e",
   "metadata": {},
   "outputs": [],
   "source": [
    "error_basic = []\n",
    "error_new = []\n",
    "for i,j,k in zip(m1_b.T, m2_b.T, m3_b.T):\n",
    "    dist_12 = np.linalg.norm(i[0:3]-j[0:3])*1000\n",
    "    dist_13 = np.linalg.norm(i[0:3]-k[0:3])*1000\n",
    "    dist_23 = np.linalg.norm(k[0:3]-j[0:3])*1000\n",
    "    error_basic.append(dist_12)\n",
    "    error_basic.append(dist_13)\n",
    "    error_basic.append(dist_23)\n",
    "            \n",
    "for i,j,k in zip(m1_n.T, m2_n.T, m3_n.T):\n",
    "    dist_12 = np.linalg.norm(i[0:3]-j[0:3])*1000\n",
    "    dist_13 = np.linalg.norm(i[0:3]-k[0:3])*1000\n",
    "    dist_23 = np.linalg.norm(k[0:3]-j[0:3])*1000\n",
    "    error_new.append(dist_12)\n",
    "    error_new.append(dist_13)\n",
    "    error_new.append(dist_23)\n",
    "\n",
    "print(\"Ground control points error metric [mm]\")\n",
    "print(\"Number control points: \", len(marker_1.T))\n",
    "print(\"GCP: \",np.median(error_basic))\n",
    "print(\"Dynamic inter-prism: \",np.median(error_new))"
   ]
  },
  {
   "cell_type": "code",
   "execution_count": null,
   "id": "57fe2317",
   "metadata": {},
   "outputs": [],
   "source": [
    "# Display GCP with prism trajectories\n",
    "plt.figure(figsize=(10,3))\n",
    "axis_1 = 0\n",
    "axis_2 = 1\n",
    "plt.plot(p1s_r[:,axis_1],p1s_r[:,axis_2], color='r')\n",
    "plt.plot(p2s_r[:,axis_1],p2s_r[:,axis_2], color='b')\n",
    "plt.plot(p3s_r[:,axis_1],p3s_r[:,axis_2], color='g')\n",
    "plt.scatter(m1_b[axis_1,:],m1_b[axis_2,:], color='black')\n",
    "plt.scatter(m2_b[axis_1,:],m2_b[axis_2,:], color='black')\n",
    "plt.scatter(m3_b[axis_1,:],m3_b[axis_2,:], color='black')\n",
    "plt.scatter(m1_n[axis_1,:],m1_n[axis_2,:], color='brown')\n",
    "plt.scatter(m2_n[axis_1,:],m2_n[axis_2,:], color='orange')\n",
    "plt.scatter(m3_n[axis_1,:],m3_n[axis_2,:], color='yellow')\n",
    "plt.xlabel('X [m]')\n",
    "plt.ylabel('Y [m]')\n",
    "plt.tight_layout()\n",
    "#plt.savefig(\"./figs/20220505_empty_YZ_plan.jpg\")\n",
    "plt.show()"
   ]
  },
  {
   "cell_type": "code",
   "execution_count": null,
   "id": "d7a70f5f",
   "metadata": {},
   "outputs": [],
   "source": []
  }
 ],
 "metadata": {
  "kernelspec": {
   "display_name": "Python 3",
   "language": "python",
   "name": "python3"
  },
  "language_info": {
   "codemirror_mode": {
    "name": "ipython",
    "version": 3
   },
   "file_extension": ".py",
   "mimetype": "text/x-python",
   "name": "python",
   "nbconvert_exporter": "python",
   "pygments_lexer": "ipython3",
   "version": "3.6.9"
  }
 },
 "nbformat": 4,
 "nbformat_minor": 5
}
