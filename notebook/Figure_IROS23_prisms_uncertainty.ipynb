{
 "cells": [
  {
   "cell_type": "code",
   "execution_count": 179,
   "metadata": {},
   "outputs": [],
   "source": [
    "## Import dependencies\n",
    "import sys\n",
    "sys.path.append(\"../\")\n",
    "import numpy as np\n",
    "import matplotlib.pyplot as plt\n",
    "import scripts.theodolite_utils as theodo_u\n",
    "import scripts.theodolite_plot_function as theodo_p\n",
    "import scripts.groundtruth_utils as theodo_g\n",
    "import random\n",
    "import pandas as pd\n",
    "from numpy import linalg\n",
    "import importlib\n",
    "theodo_u = importlib.reload(theodo_u)\n",
    "theodo_p = importlib.reload(theodo_p)"
   ]
  },
  {
   "cell_type": "code",
   "execution_count": 180,
   "metadata": {},
   "outputs": [],
   "source": [
    "## Import files\n",
    "theodo_u = importlib.reload(theodo_u)\n",
    "\n",
    "file_0 = \"/home/effie/Model/model_MC_0_0_0_0_0.csv\"\n",
    "file_1 = \"/home/effie/Model/model_MC_1_0_0_0_0.csv\"\n",
    "file_2 = \"/home/effie/Model/model_MC_0_1_0_0_0.csv\"\n",
    "file_3 = \"/home/effie/Model/model_MC_0_0_1_0_0.csv\"\n",
    "file_4 = \"/home/effie/Model/model_MC_0_0_0_1_0.csv\"\n",
    "file_5 = \"/home/effie/Model/model_MC_1_1_1_1_0.csv\"\n",
    "\n",
    "Data_0 = theodo_u.read_point_uncertainty_with_raw_data_csv_file_pandas(file_0)\n",
    "Data_1 = theodo_u.read_point_uncertainty_with_raw_data_csv_file_pandas(file_1)\n",
    "Data_2 = theodo_u.read_point_uncertainty_with_raw_data_csv_file_pandas(file_2)\n",
    "Data_3 = theodo_u.read_point_uncertainty_with_raw_data_csv_file_pandas(file_3)\n",
    "Data_4 = theodo_u.read_point_uncertainty_with_raw_data_csv_file_pandas(file_4)\n",
    "Data_5 = theodo_u.read_point_uncertainty_with_raw_data_csv_file_pandas(file_5)\n"
   ]
  },
  {
   "cell_type": "code",
   "execution_count": 181,
   "metadata": {},
   "outputs": [],
   "source": [
    "## Creating Data Frames\n",
    "theodo_u = importlib.reload(theodo_u)\n",
    "\n",
    "Data_total = [Data_0,Data_1,Data_2,Data_3,Data_4,Data_5]\n",
    "\n",
    "\n",
    "df_0 = pd.DataFrame(data=Data_0,columns=['Time_stamp','X','Y','Z','C1','C2','C3','C4','C5','C6','C7','C8','C9','distance','azimuth','elevation'])\n",
    "df_1 = pd.DataFrame(data=Data_1,columns=['Time_stamp','X','Y','Z','C1','C2','C3','C4','C5','C6','C7','C8','C9','distance','azimuth','elevation'])\n",
    "df_2 = pd.DataFrame(data=Data_2,columns=['Time_stamp','X','Y','Z','C1','C2','C3','C4','C5','C6','C7','C8','C9','distance','azimuth','elevation'])\n",
    "df_3 = pd.DataFrame(data=Data_3,columns=['Time_stamp','X','Y','Z','C1','C2','C3','C4','C5','C6','C7','C8','C9','distance','azimuth','elevation'])\n",
    "df_4 = pd.DataFrame(data=Data_4,columns=['Time_stamp','X','Y','Z','C1','C2','C3','C4','C5','C6','C7','C8','C9','distance','azimuth','elevation'])\n",
    "df_5 = pd.DataFrame(data=Data_5,columns=['Time_stamp','X','Y','Z','C1','C2','C3','C4','C5','C6','C7','C8','C9','distance','azimuth','elevation'])"
   ]
  },
  {
   "cell_type": "code",
   "execution_count": 182,
   "metadata": {},
   "outputs": [],
   "source": [
    "## Frobenius norm for all data according to the model chosen and the range linked\n",
    "def add_Frobenius(df):\n",
    "    Distance_F = []\n",
    "    for i,item in df.iterrows() :\n",
    "        C = np.array(#Compute covariance matrix   \n",
    "                [\n",
    "                    [float(item['C1']), float(item['C2']), float(item['C3'])],\n",
    "                    [float(item['C4']), float(item['C5']), float(item['C4'])],\n",
    "                    [float(item['C7']), float(item['C8']), float(item['C9'])],\n",
    "                ])\n",
    "        Distance_F.append(1000*np.sqrt(theodo_u.Frobenius_norm(C, np.zeros((3,3)))))\n",
    "\n",
    "    df['Frobenius_norm'] = Distance_F\n",
    "    return df\n"
   ]
  },
  {
   "cell_type": "code",
   "execution_count": 183,
   "metadata": {},
   "outputs": [],
   "source": [
    "## Adding Frobenius norm to Data Frames\n",
    "df_0=add_Frobenius(df_0)\n",
    "df_1=add_Frobenius(df_1)\n",
    "df_2=add_Frobenius(df_2)\n",
    "df_3=add_Frobenius(df_3)\n",
    "df_4=add_Frobenius(df_4)\n",
    "df_5=add_Frobenius(df_5)"
   ]
  },
  {
   "cell_type": "code",
   "execution_count": 184,
   "metadata": {},
   "outputs": [],
   "source": [
    "## Sort distances\n",
    "def sort_distance(df):\n",
    "    # df.loc[df['distance'].between(0,25,'left'),'0 to 25 m'] = '0 to 25 m'\n",
    "    # df.loc[df['distance'].between(25,75,'left'),'dist'] = '25 to 75 m'\n",
    "    # df.loc[df['distance'].between(75,125,'left'),'dist'] = '75 to 125 m'\n",
    "    # df.loc[df['distance'].between(125,200,'left'),'dist'] = '125 to 200 m'\n",
    "    # df.loc[df['distance'].between(200,500,'left'),'dist'] = 'more than 200 m'\n",
    "    df.loc[df['distance'].between(0,25,'left'),'0 to 25 m'] = df['Frobenius_norm']\n",
    "    df.loc[df['distance'].between(25,75,'left'),'25 to 75 m'] = df['Frobenius_norm']\n",
    "    df.loc[df['distance'].between(75,125,'left'),'75 to 125 m'] = df['Frobenius_norm']\n",
    "    df.loc[df['distance'].between(125,200,'left'),'125 to 200 m'] = df['Frobenius_norm']\n",
    "    df.loc[df['distance'].between(200,500,'left'),'more than 200 m'] = df['Frobenius_norm']\n",
    "    return df"
   ]
  },
  {
   "cell_type": "code",
   "execution_count": 187,
   "metadata": {},
   "outputs": [],
   "source": [
    "## Sort distances to Data Frames\n",
    "df_0=sort_distance(df_0)\n",
    "df_1=sort_distance(df_1)\n",
    "df_2=sort_distance(df_2)\n",
    "df_3=sort_distance(df_3)\n",
    "df_4=sort_distance(df_4)\n",
    "df_5=sort_distance(df_5)"
   ]
  },
  {
   "cell_type": "code",
   "execution_count": 188,
   "metadata": {},
   "outputs": [],
   "source": [
    "def pandas_to_list(df):\n",
    "    df_0_to_25 = []\n",
    "    df_25_to_75 = []\n",
    "    df_75_to_125 = []\n",
    "    df_125_to_200 = []\n",
    "    df_more_200 = []\n",
    "\n",
    "    df_0_to_25 = df['0 to 25 m'].tolist()\n",
    "    df_25_to_75 = df['25 to 75 m'].tolist()\n",
    "    df_75_to_125 = df['75 to 125 m'].tolist()\n",
    "    df_125_to_200 = df['125 to 200 m'].tolist()\n",
    "    df_more_200 = df['more than 200 m'].tolist()\n",
    "\n",
    "    D_1 = []\n",
    "    for i in df_0_to_25:\n",
    "        if np.isnan(i)!=True:\n",
    "            D_1.append(float(i))\n",
    "    D_2 = []\n",
    "    for i in df_25_to_75:\n",
    "        if np.isnan(i)!=True:\n",
    "            D_2.append(float(i))\n",
    "    D_3 = []\n",
    "    for i in df_75_to_125:\n",
    "        if np.isnan(i)!=True:\n",
    "            D_3.append(float(i))\n",
    "    D_4 = []\n",
    "    for i in df_125_to_200:\n",
    "        if np.isnan(i)!=True:\n",
    "            D_4.append(float(i))\n",
    "    D_5 = []\n",
    "    for i in df_more_200:\n",
    "        if np.isnan(i)!=True:\n",
    "            D_5.append(float(i))\n",
    "    return D_1,D_2,D_3,D_4,D_5"
   ]
  },
  {
   "cell_type": "code",
   "execution_count": 189,
   "metadata": {},
   "outputs": [],
   "source": [
    "D_1, D_2, D_3, D_4, D_5 = pandas_to_list(df_0)"
   ]
  },
  {
   "cell_type": "code",
   "execution_count": 190,
   "metadata": {},
   "outputs": [
    {
     "data": {
      "image/png": "[encoded data removed]",
      "text/plain": [
       "<Figure size 640x480 with 1 Axes>"
      ]
     },
     "metadata": {},
     "output_type": "display_data"
    },
    {
     "data": {
      "image/png": "[encoded data removed]",
      "text/plain": [
       "<Figure size 640x480 with 1 Axes>"
      ]
     },
     "metadata": {},
     "output_type": "display_data"
    }
   ],
   "source": [
    "data = [D_1, D_2, D_3, D_4, D_5]\n",
    "\n",
    "fig, ax = plt.subplots()\n",
    "box = ax.boxplot(data, showfliers=False, notch=False, patch_artist=True)\n",
    "ax.set_xticklabels(['', '', 'RTS + \\nAtmospheric', '', '',\n",
    "                    # '', '', 'RTS + \\nAtmospheric', '', '',\n",
    "                    # '', '', 'RTS + \\nExtrinsic calib', '', '',\n",
    "                    # '', '', 'RTS + \\nTime synch', '', '',\n",
    "                    # '', '', 'RTS + All', '', '',\n",
    "])\n",
    "\n",
    "colors = ['cyan', 'cyan', 'cyan', 'cyan', 'cyan']\n",
    "for patch, color in zip(box['boxes'], colors):\n",
    "    patch.set_facecolor(color)\n",
    "\n",
    "# ax.vlines(5.5,0,max_value, linestyles='dashed', color=\"black\")\n",
    "# ax.vlines(10.5,0,max_value, linestyles='dashed', color=\"black\")\n",
    "# ax.vlines(15.5,0,max_value, linestyles='dashed', color=\"black\")\n",
    "\n",
    "ax.set_xlabel(\"\\nCorrection used as comparison\")\n",
    "ax.set_ylabel(\"Square Frobenius norm [mm]\")\n",
    "#ax.set_yscale('log')\n",
    "ax.legend(handles=[box[\"boxes\"][0]],\n",
    "          labels =['0 to 25m'],\n",
    "          loc='upper center', bbox_to_anchor=(0.5, 1.18), ncol=3)\n",
    "#plt.tight_layout()\n",
    "#plt.savefig(\"../figs/uncertainty/Frobenius_norm.png\", bbox_inches=\"tight\")\n",
    "plt.show()"
   ]
  },
  {
   "cell_type": "code",
   "execution_count": 191,
   "metadata": {},
   "outputs": [
    {
     "name": "stdout",
     "output_type": "stream",
     "text": [
      "          Time_stamp          X          Y         Z            C1  \\\n",
      "0       1.645735e+09  -8.598498  -9.457725  1.221733  1.706609e-06   \n",
      "1       1.645735e+09  -0.940585  11.781074  0.339213  4.166873e-08   \n",
      "2       1.645735e+09  11.404255   5.341409  0.216261  3.033424e-06   \n",
      "3       1.645735e+09  -8.598494  -9.457701  1.221730  1.772675e-06   \n",
      "4       1.645735e+09  -0.940572  11.780834  0.339205  3.973160e-08   \n",
      "...              ...        ...        ...       ...           ...   \n",
      "260017  1.668099e+09  10.448694  -5.369151 -0.240346  3.325846e-06   \n",
      "260018  1.668099e+09  57.377396  39.465246 -1.156804  2.672188e-06   \n",
      "260019  1.668098e+09  74.138108 -20.988070 -0.353902  3.992791e-06   \n",
      "260020  1.668099e+09  10.437464  -5.369066 -0.244883  3.329106e-06   \n",
      "260021  1.668099e+09  57.147718  39.244635 -1.146259  2.895333e-06   \n",
      "\n",
      "                  C2            C3            C4            C5            C6  \\\n",
      "0       1.854590e-06 -2.332594e-07  1.854590e-06  2.048529e-06 -2.551958e-07   \n",
      "1      -3.372303e-07 -1.088772e-08 -3.372303e-07  4.019353e-06  1.238579e-07   \n",
      "2       1.427879e-06  5.623747e-08  1.427879e-06  6.896240e-07  2.702742e-08   \n",
      "3       1.936838e-06 -2.472420e-07  1.936838e-06  2.150920e-06 -2.732289e-07   \n",
      "4      -3.371972e-07 -1.006981e-08 -3.371972e-07  4.305509e-06  1.264021e-07   \n",
      "...              ...           ...           ...           ...           ...   \n",
      "260017 -1.702782e-06 -8.025554e-08 -1.702782e-06  8.879009e-07  4.113224e-08   \n",
      "260018  1.516552e-06 -6.958249e-08  1.516552e-06  1.483037e-06 -4.705779e-08   \n",
      "260019 -8.586932e-07 -6.430875e-09 -8.586932e-07  7.401515e-07  2.202912e-08   \n",
      "260020 -1.701793e-06 -8.134301e-08 -1.701793e-06  8.859224e-07  4.245700e-08   \n",
      "260021  1.683488e-06 -3.680559e-08  1.683488e-06  1.597478e-06 -2.751706e-08   \n",
      "\n",
      "        ...            C9   distance   azimuth  elevation  Frobenius_norm  \\\n",
      "0       ...  4.801123e-08  12.830380  3.879440   1.475504        2.048336   \n",
      "1       ...  1.680004e-08  11.813429  6.203516   1.542102        2.015872   \n",
      "2       ...  1.554989e-08  12.585017  1.132772   1.553625        1.993754   \n",
      "3       ...  4.958376e-08  12.830360  3.879441   1.475505        2.093876   \n",
      "4       ...  1.794594e-08  11.813189  6.203515   1.542103        2.084951   \n",
      "...     ...           ...        ...       ...        ...             ...   \n",
      "260017  ...  1.556216e-08  11.739926  2.045469   1.591253        2.129466   \n",
      "260018  ...  4.652546e-07  69.639188  0.968293   1.587406        2.014471   \n",
      "260019  ...  5.641231e-07  77.042472  1.846672   1.575389        2.088376   \n",
      "260020  ...  1.530923e-08  11.729996  2.045900   1.591657        2.129687   \n",
      "260021  ...  4.862217e-07  69.324818  0.969037   1.587329        2.106156   \n",
      "\n",
      "        0 to 25 m  25 to 75 m  75 to 125 m  125 to 200 m  more than 200 m  \n",
      "0        2.048336         NaN          NaN           NaN              NaN  \n",
      "1        2.015872         NaN          NaN           NaN              NaN  \n",
      "2        1.993754         NaN          NaN           NaN              NaN  \n",
      "3        2.093876         NaN          NaN           NaN              NaN  \n",
      "4        2.084951         NaN          NaN           NaN              NaN  \n",
      "...           ...         ...          ...           ...              ...  \n",
      "260017   2.129466         NaN          NaN           NaN              NaN  \n",
      "260018        NaN    2.014471          NaN           NaN              NaN  \n",
      "260019        NaN         NaN     2.088376           NaN              NaN  \n",
      "260020   2.129687         NaN          NaN           NaN              NaN  \n",
      "260021        NaN    2.106156          NaN           NaN              NaN  \n",
      "\n",
      "[260022 rows x 22 columns]\n"
     ]
    }
   ],
   "source": [
    "print(df_0)"
   ]
  },
  {
   "cell_type": "code",
   "execution_count": null,
   "metadata": {},
   "outputs": [],
   "source": [
    "## Creating a Data Frame for all the Frobenius norms\n",
    "df_fn = pd.concat([df_0['Frobenius_norm'],df_1['Frobenius_norm'],df_2['Frobenius_norm'],df_3['Frobenius_norm'],df_4['Frobenius_norm'],df_5['Frobenius_norm']],axis=1)\n",
    "df_fn.columns = ['Instrument','Tilt','Atmospheric','Extrinsic \\n Calibration','Time Sync','All']\n",
    "\n",
    "# print(df_fn.head())"
   ]
  },
  {
   "cell_type": "code",
   "execution_count": null,
   "metadata": {},
   "outputs": [
    {
     "data": {
      "image/png": "[encoded data removed]",
      "text/plain": [
       "<Figure size 640x480 with 1 Axes>"
      ]
     },
     "metadata": {},
     "output_type": "display_data"
    }
   ],
   "source": [
    "boxplot = df_fn.boxplot(column=['Instrument','Tilt','Atmospheric','Extrinsic \\n Calibration','Time Sync','All'],grid=False,showfliers=False)\n",
    "\n",
    "\n",
    "plt.show()"
   ]
  }
 ],
 "metadata": {
  "kernelspec": {
   "display_name": "venv",
   "language": "python",
   "name": "python3"
  },
  "language_info": {
   "codemirror_mode": {
    "name": "ipython",
    "version": 3
   },
   "file_extension": ".py",
   "mimetype": "text/x-python",
   "name": "python",
   "nbconvert_exporter": "python",
   "pygments_lexer": "ipython3",
   "version": "3.10.6"
  },
  "orig_nbformat": 4,
  "vscode": {
   "interpreter": {
    "hash": "0b3e9d22013c5a5f94e5f7a413c146a873d8f837ccd30ed0cd410d30c64ef097"
   }
  }
 },
 "nbformat": 4,
 "nbformat_minor": 2
}
