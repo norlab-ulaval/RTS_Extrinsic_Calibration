{
 "cells": [
  {
   "cell_type": "code",
   "execution_count": null,
   "metadata": {},
   "outputs": [],
   "source": [
    "## Import dependencies\n",
    "import sys\n",
    "sys.path.append(\"../\")\n",
    "import numpy as np\n",
    "import matplotlib.pyplot as plt\n",
    "import scripts.theodolite_utils as theodo_u\n",
    "import scripts.theodolite_plot_function as theodo_p\n",
    "import scripts.groundtruth_utils as theodo_g\n",
    "import random\n",
    "import pandas as pd\n",
    "from numpy import linalg\n",
    "import importlib\n",
    "theodo_u = importlib.reload(theodo_u)\n",
    "theodo_p = importlib.reload(theodo_p)"
   ]
  },
  {
   "cell_type": "code",
   "execution_count": null,
   "metadata": {},
   "outputs": [],
   "source": [
    "## Import files\n",
    "theodo_u = importlib.reload(theodo_u)\n",
    "\n",
    "file_0 = \"/media/william/will_SSD/Theodolite_data/IROS_data/simulated_data_for_figure/will_model_MC_0_0_0_0_0.csv\"\n",
    "file_1 = \"/media/william/will_SSD/Theodolite_data/IROS_data/simulated_data_for_figure/will_model_MC_1_0_0_0_0.csv\"\n",
    "file_2 = \"/media/william/will_SSD/Theodolite_data/IROS_data/simulated_data_for_figure/will_model_MC_0_1_0_0_0.csv\"\n",
    "file_3 = \"/media/william/will_SSD/Theodolite_data/IROS_data/simulated_data_for_figure/will_model_MC_0_0_1_0_0.csv\"\n",
    "file_4 = \"/media/william/will_SSD/Theodolite_data/IROS_data/simulated_data_for_figure/will_model_MC_0_0_0_1_0.csv\"\n",
    "file_5 = \"/media/william/will_SSD/Theodolite_data/IROS_data/simulated_data_for_figure/will_model_MC_1_1_1_1_0.csv\"\n",
    "\n",
    "Data_0 = theodo_u.read_point_uncertainty_with_raw_data_csv_file_pandas(file_0)\n",
    "Data_1 = theodo_u.read_point_uncertainty_with_raw_data_csv_file_pandas(file_1)\n",
    "Data_2 = theodo_u.read_point_uncertainty_with_raw_data_csv_file_pandas(file_2)\n",
    "Data_3 = theodo_u.read_point_uncertainty_with_raw_data_csv_file_pandas(file_3)\n",
    "Data_4 = theodo_u.read_point_uncertainty_with_raw_data_csv_file_pandas(file_4)\n",
    "Data_5 = theodo_u.read_point_uncertainty_with_raw_data_csv_file_pandas(file_5)\n"
   ]
  },
  {
   "cell_type": "code",
   "execution_count": null,
   "metadata": {},
   "outputs": [],
   "source": [
    "## Creating Data Frames\n",
    "theodo_u = importlib.reload(theodo_u)\n",
    "\n",
    "Data_total = [Data_0,Data_1,Data_2,Data_3,Data_4,Data_5]\n",
    "\n",
    "\n",
    "df_0 = pd.DataFrame(data=Data_0,columns=['Time_stamp','X','Y','Z','C1','C2','C3','C4','C5','C6','C7','C8','C9','distance','azimuth','elevation'])\n",
    "df_1 = pd.DataFrame(data=Data_1,columns=['Time_stamp','X','Y','Z','C1','C2','C3','C4','C5','C6','C7','C8','C9','distance','azimuth','elevation'])\n",
    "df_2 = pd.DataFrame(data=Data_2,columns=['Time_stamp','X','Y','Z','C1','C2','C3','C4','C5','C6','C7','C8','C9','distance','azimuth','elevation'])\n",
    "df_3 = pd.DataFrame(data=Data_3,columns=['Time_stamp','X','Y','Z','C1','C2','C3','C4','C5','C6','C7','C8','C9','distance','azimuth','elevation'])\n",
    "df_4 = pd.DataFrame(data=Data_4,columns=['Time_stamp','X','Y','Z','C1','C2','C3','C4','C5','C6','C7','C8','C9','distance','azimuth','elevation'])\n",
    "df_5 = pd.DataFrame(data=Data_5,columns=['Time_stamp','X','Y','Z','C1','C2','C3','C4','C5','C6','C7','C8','C9','distance','azimuth','elevation'])"
   ]
  },
  {
   "cell_type": "code",
   "execution_count": null,
   "metadata": {},
   "outputs": [],
   "source": [
    "## Frobenius norm for all data according to the model chosen and the range linked\n",
    "def add_Frobenius(df):\n",
    "    Distance_F = []\n",
    "    for i,item in df.iterrows() :\n",
    "        C = np.array(#Compute covariance matrix   \n",
    "                [\n",
    "                    [float(item['C1']), float(item['C2']), float(item['C3'])],\n",
    "                    [float(item['C4']), float(item['C5']), float(item['C4'])],\n",
    "                    [float(item['C7']), float(item['C8']), float(item['C9'])],\n",
    "                ])\n",
    "        Distance_F.append(1000000*(theodo_u.Frobenius_norm(C, np.zeros((3,3)))))\n",
    "\n",
    "    df['Frobenius_norm'] = Distance_F\n",
    "    return df\n"
   ]
  },
  {
   "cell_type": "code",
   "execution_count": null,
   "metadata": {},
   "outputs": [],
   "source": [
    "## Adding Frobenius norm to Data Frames\n",
    "df_0=add_Frobenius(df_0)\n",
    "df_1=add_Frobenius(df_1)\n",
    "df_2=add_Frobenius(df_2)\n",
    "df_3=add_Frobenius(df_3)\n",
    "df_4=add_Frobenius(df_4)\n",
    "df_5=add_Frobenius(df_5)"
   ]
  },
  {
   "cell_type": "code",
   "execution_count": null,
   "metadata": {},
   "outputs": [],
   "source": [
    "## Sort distances\n",
    "def sort_distance(df):\n",
    "    # df.loc[df['distance'].between(0,25,'left'),'0 to 25 m'] = '0 to 25 m'\n",
    "    # df.loc[df['distance'].between(25,75,'left'),'dist'] = '25 to 75 m'\n",
    "    # df.loc[df['distance'].between(75,125,'left'),'dist'] = '75 to 125 m'\n",
    "    # df.loc[df['distance'].between(125,200,'left'),'dist'] = '125 to 200 m'\n",
    "    # df.loc[df['distance'].between(200,500,'left'),'dist'] = 'more than 200 m'\n",
    "    df.loc[df['distance'].between(0,75,'left'),'0 to 75 m'] = df['Frobenius_norm']\n",
    "    df.loc[df['distance'].between(75,150,'left'),'75 to 150 m'] = df['Frobenius_norm']\n",
    "    df.loc[df['distance'].between(150,1000,'left'),'more than 150 m'] = df['Frobenius_norm']\n",
    "#     df.loc[df['distance'].between(125,200,'left'),'125 to 200 m'] = df['Frobenius_norm']\n",
    "#     df.loc[df['distance'].between(200,500,'left'),'more than 200 m'] = df['Frobenius_norm']\n",
    "    return df"
   ]
  },
  {
   "cell_type": "code",
   "execution_count": null,
   "metadata": {},
   "outputs": [],
   "source": [
    "## Sort distances to Data Frames\n",
    "df_0=sort_distance(df_0)\n",
    "df_1=sort_distance(df_1)\n",
    "df_2=sort_distance(df_2)\n",
    "df_3=sort_distance(df_3)\n",
    "df_4=sort_distance(df_4)\n",
    "df_5=sort_distance(df_5)"
   ]
  },
  {
   "cell_type": "code",
   "execution_count": null,
   "metadata": {},
   "outputs": [],
   "source": [
    "def pandas_to_list(df):\n",
    "    df_0_to_25 = []\n",
    "    df_25_to_75 = []\n",
    "    df_75_to_125 = []\n",
    "    df_125_to_200 = []\n",
    "    df_more_200 = []\n",
    "\n",
    "    df_0_to_75 = df['0 to 75 m'].tolist()\n",
    "    df_75_to_150 = df['75 to 150 m'].tolist()\n",
    "#     df_75_to_125 = df['75 to 125 m'].tolist()\n",
    "#     df_125_to_200 = df['125 to 200 m'].tolist()\n",
    "    df_more_150 = df['more than 150 m'].tolist()\n",
    "    df_frobenius_norm = df['Frobenius_norm'].tolist()\n",
    "\n",
    "    D_1 = []\n",
    "    for i in df_0_to_75:\n",
    "        if np.isnan(i)!=True:\n",
    "            D_1.append(float(i))\n",
    "    D_2 = []\n",
    "    for i in df_75_to_150:\n",
    "        if np.isnan(i)!=True:\n",
    "            D_2.append(float(i))\n",
    "    D_3 = []\n",
    "    for i in df_more_150:\n",
    "        if np.isnan(i)!=True:\n",
    "            D_3.append(float(i))\n",
    "#     D_4 = []\n",
    "#     for i in df_125_to_200:\n",
    "#         if np.isnan(i)!=True:\n",
    "#             D_4.append(float(i))\n",
    "#     D_5 = []\n",
    "#     for i in df_more_200:\n",
    "#         if np.isnan(i)!=True:\n",
    "#             D_5.append(float(i))\n",
    "    return D_1,D_2,D_3,df_frobenius_norm,0 # ,D_4,D_5"
   ]
  },
  {
   "cell_type": "code",
   "execution_count": null,
   "metadata": {},
   "outputs": [],
   "source": [
    "df_0_D_1, df_0_D_2, df_0_D_3, df_0_D_4, df_0_D_5 = pandas_to_list(df_0)\n",
    "df_1_D_1, df_1_D_2, df_1_D_3, df_1_D_4, df_1_D_5 = pandas_to_list(df_1)\n",
    "df_2_D_1, df_2_D_2, df_2_D_3, df_2_D_4, df_2_D_5 = pandas_to_list(df_2)\n",
    "df_3_D_1, df_3_D_2, df_3_D_3, df_3_D_4, df_3_D_5 = pandas_to_list(df_3)\n",
    "df_4_D_1, df_4_D_2, df_4_D_3, df_4_D_4, df_4_D_5 = pandas_to_list(df_4)\n",
    "df_5_D_1, df_5_D_2, df_5_D_3, df_5_D_4, df_5_D_5 = pandas_to_list(df_5)"
   ]
  },
  {
   "cell_type": "code",
   "execution_count": null,
   "metadata": {},
   "outputs": [],
   "source": [
    "data = [df_0_D_1, df_0_D_2, df_0_D_3, df_0_D_4,\n",
    "        df_4_D_1, df_4_D_2, df_4_D_3, df_4_D_4,\n",
    "        df_1_D_1, df_1_D_2, df_1_D_3, df_1_D_4,\n",
    "        df_2_D_1, df_2_D_2, df_2_D_3, df_2_D_4,\n",
    "        df_3_D_1, df_3_D_2, df_3_D_3, df_3_D_4,\n",
    "        df_5_D_1, df_5_D_2, df_5_D_3, df_5_D_4]\n",
    "\n",
    "plt.rc('font', family='serif', serif='Times')\n",
    "plt.rc('text', usetex=True)\n",
    "plt.rc('xtick', labelsize=20)\n",
    "plt.rc('ytick', labelsize=10)\n",
    "plt.rc('axes', labelsize=10)\n",
    "font_size = 13\n",
    "\n",
    "width = 3.487\n",
    "height = width/1.618\n",
    "\n",
    "fig, ax = plt.subplots()\n",
    "box = ax.boxplot(data, showfliers=False, notch=False, patch_artist=True)\n",
    "\n",
    "plt.xticks(ticks=[2.5, 6.5, 10.5, 14.5, 18.5, 22.5], labels=['Instrument', '\\\\ \\\\ \\\\ \\\\ \\\\ \\\\ \\\\ \\\\ \\\\ Time\\nsynchronization', 'Tilt', 'Atmospheric', '\\\\ Extrinsic\\ncalibration', 'Total'], fontsize=font_size, ha='center', ma='center')\n",
    "\n",
    "colors = ['paleturquoise', 'deepskyblue', 'royalblue', 'tomato',#, 'pink',\n",
    "          'paleturquoise', 'deepskyblue', 'royalblue', 'tomato',#, 'pink',\n",
    "          'paleturquoise', 'deepskyblue', 'royalblue', 'tomato',#, 'pink',\n",
    "          'paleturquoise', 'deepskyblue', 'royalblue', 'tomato',#, 'pink',\n",
    "          'paleturquoise', 'deepskyblue', 'royalblue', 'tomato',#, 'pink',\n",
    "          'paleturquoise', 'deepskyblue', 'royalblue', 'tomato']#, 'pink']\n",
    "for patch, color in zip(box['boxes'], colors):\n",
    "    patch.set_facecolor(color)\n",
    "\n",
    "for median in box['medians']:\n",
    "    median.set_color('black')\n",
    "    \n",
    "plt.axvline(x=4.5, linestyle='dashed', color=\"black\")\n",
    "plt.axvline(x=8.5, linestyle='dashed', color=\"black\")\n",
    "plt.axvline(x=12.5, linestyle='dashed', color=\"black\")\n",
    "plt.axvline(x=16.5, linestyle='dashed', color=\"black\")\n",
    "plt.axvline(x=20.5, linestyle='dashed', color=\"black\")\n",
    "\n",
    "ax.axvspan(0.5, 4.5, alpha = 0.2, color='lightgrey')\n",
    "ax.axvspan(4.5, 8.5, alpha = 0.2, color='tab:orange')\n",
    "ax.axvspan(8.5, 12.5, alpha = 0.2, color='lightgrey')\n",
    "ax.axvspan(12.5, 16.5, alpha = 0.2, color='tab:orange')\n",
    "ax.axvspan(16.5, 20.5, alpha = 0.2, color='lightgrey')\n",
    "ax.axvspan(20.5, 24.5, alpha = 0.2, color='tab:orange')\n",
    "\n",
    "ax.set_xlabel(\"Source of uncertainty\", fontsize=font_size)\n",
    "ax.set_ylabel(\"Frobenius norm [mm²]\", fontsize=font_size)\n",
    "ax.set_yscale('log')\n",
    "ax.legend(handles=[box[\"boxes\"][0], box[\"boxes\"][1], box[\"boxes\"][2], box[\"boxes\"][3]], #, box[\"boxes\"][4]],\n",
    "          handletextpad=0.3,\n",
    "          handlelength=1.4,\n",
    "          columnspacing=0.8,\n",
    "          labels =['0 to 75m', '75 to 150m', 'More than 150m', 'Complete range'], #, '125 to 200m', 'More than 200m'],\n",
    "          loc='upper center', bbox_to_anchor=(0.5, 1.12), ncol=4, fontsize=font_size)\n",
    "plt.tight_layout()\n",
    "# fig.set_size_inches(width, height)\n",
    "plt.savefig(\"../figs/uncertainty/fig1_will_multiple_boxplot.png\", bbox_inches=\"tight\")\n",
    "plt.show()"
   ]
  },
  {
   "cell_type": "code",
   "execution_count": null,
   "metadata": {},
   "outputs": [],
   "source": [
    "print(df_0)"
   ]
  },
  {
   "cell_type": "code",
   "execution_count": null,
   "metadata": {},
   "outputs": [],
   "source": [
    "## Creating a Data Frame for all the Frobenius norms\n",
    "df_fn = pd.concat([df_0['Frobenius_norm'],df_1['Frobenius_norm'],df_2['Frobenius_norm'],df_3['Frobenius_norm'],df_4['Frobenius_norm'],df_5['Frobenius_norm']],axis=1)\n",
    "df_fn.columns = ['Instrument','Tilt','Atmospheric','Extrinsic \\n Calibration','Time Sync','All']\n",
    "\n",
    "# print(df_fn.head())"
   ]
  },
  {
   "cell_type": "code",
   "execution_count": null,
   "metadata": {},
   "outputs": [],
   "source": [
    "boxplot = df_fn.boxplot(column=['Instrument','Tilt','Atmospheric','Extrinsic \\n Calibration','Time Sync','All'],grid=False,showfliers=False)\n",
    "\n",
    "\n",
    "plt.show()"
   ]
  }
 ],
 "metadata": {
  "kernelspec": {
   "display_name": "rtsVenv",
   "language": "python",
   "name": "rtsvenv"
  },
  "language_info": {
   "codemirror_mode": {
    "name": "ipython",
    "version": 3
   },
   "file_extension": ".py",
   "mimetype": "text/x-python",
   "name": "python",
   "nbconvert_exporter": "python",
   "pygments_lexer": "ipython3",
   "version": "3.10.6"
  },
  "vscode": {
   "interpreter": {
    "hash": "0b3e9d22013c5a5f94e5f7a413c146a873d8f837ccd30ed0cd410d30c64ef097"
   }
  }
 },
 "nbformat": 4,
 "nbformat_minor": 2
}
