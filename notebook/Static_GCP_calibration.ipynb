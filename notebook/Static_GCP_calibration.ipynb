{
 "cells": [
  {
   "cell_type": "markdown",
   "source": [
    "# Static GCP calibration\n",
    "\n",
    "Notebook which computes and saves results of the static GCP calibration"
   ],
   "metadata": {
    "collapsed": false
   }
  },
  {
   "cell_type": "code",
   "execution_count": null,
   "outputs": [],
   "source": [
    "import numpy as np\n",
    "import importlib\n",
    "import matplotlib.pyplot as plt\n",
    "import scripts.theodolite_utils as theodo_u\n",
    "import scripts.theodolite_plot_function as theodo_p\n",
    "import scripts.theodolite_function as theodo_f\n",
    "import scripts.resection_functions as theodo_r"
   ],
   "metadata": {
    "collapsed": false
   }
  },
  {
   "cell_type": "code",
   "execution_count": null,
   "outputs": [],
   "source": [
    "# This cell gathers result for the static control points for the graphic below\n",
    "\n",
    "theodo_r = importlib.reload(theodo_r)\n",
    "theodo_u = importlib.reload(theodo_u)\n",
    "theodo_f = importlib.reload(theodo_f)\n",
    "\n",
    "path_list = [\n",
    "    \"../data/20221129-5/\",\n",
    "]\n",
    "\n",
    "path_list_inter = [\n",
    "    [\"../data/20221129-5/\"],\n",
    "]\n",
    "\n",
    "save_results = True\n",
    "\n",
    "errors_static_cp = []\n",
    "error_inter_prism_exp_cp = []\n",
    "TF_list_static = []\n",
    "for i,j in zip(path_list,path_list_inter):\n",
    "    # Generate file path\n",
    "    file_GCP = i + 'total_stations/GCP.txt'\n",
    "    print(\"don't give up: \", i)\n",
    "    error_static_loop = []\n",
    "    error_static_exp_loop = []\n",
    "    error_static_cp_loop = []\n",
    "    Tf_static_loop = []\n",
    "    for m in j:\n",
    "        file_prediction = theodo_u.if_file_exist(m + 'filtered_prediction/f-2-2-2-4-4-0-L_','1.csv')\n",
    "        file_sensors = theodo_u.if_file_exist(m + \"sensors_extrinsic_calibration/calibration_results.csv\",'')\n",
    "        extrinsic_calibration_results = theodo_u.read_extrinsic_calibration_results_file(file_sensors)\n",
    "        errors_cp, error_inter_prism_cp, TF_list = theodo_r.static_control_points_error(static_file_path=file_GCP, exp_file_path=file_prediction, inter_prism_dist=extrinsic_calibration_results)\n",
    "        error_static_exp_loop += error_inter_prism_cp\n",
    "        error_static_cp_loop += errors_cp\n",
    "        Tf_static_loop += TF_list\n",
    "    errors_static_cp += error_static_cp_loop\n",
    "    error_inter_prism_exp_cp += error_static_exp_loop\n",
    "    TF_list_static += Tf_static_loop\n",
    "    print(\"Cp error: \",np.median(error_static_cp_loop),np.std(error_static_cp_loop))\n",
    "    print(\"Inter-prism: \", np.median(error_static_exp_loop),np.std(error_static_exp_loop))\n",
    "    if(save_results):\n",
    "        theodo_u.save_error_list_to_file(error_static_cp_loop, i+\"list_error/error_static_cp_cp.csv\")\n",
    "        theodo_u.save_error_list_to_file(error_static_exp_loop, i+\"list_error/error_static_cp_experiment.csv\")\n",
    "        theodo_u.save_tf_list_to_file_multi(Tf_static_loop, i+\"list_tf/TF_list_static_cp.csv\")\n",
    "print(\"End !\")\n"
   ],
   "metadata": {
    "collapsed": false
   }
  },
  {
   "cell_type": "code",
   "execution_count": null,
   "id": "534cf239-a5d9-4a42-a312-de7a22d6e964",
   "metadata": {},
   "outputs": [],
   "source": [
    "# Display results according to different metrics\n",
    "%matplotlib notebook\n",
    "\n",
    "fig = plt.figure(figsize =(10, 5))\n",
    "ax = fig.add_subplot(111)\n",
    "lis = [errors_static_cp,error_inter_prism_exp_cp]\n",
    "\n",
    "box = ax.boxplot(lis, notch=True, patch_artist=True, vert = 1, showfliers=False, showmeans=False)\n",
    "plt.xticks([1,2],\n",
    "               [\"GCP\\n\\n\\n M: \"+str(round(np.median(lis[0]),2))+\"mm \\n Std: \"+str(round(np.std(lis[0]),2))+\"mm\\n\"+str(round(len(lis[0])/3))+\" pts\",\n",
    "            \"Inter-prism\\n\\n\\n M: \"+str(round(np.median(lis[1]),2))+\"mm \\n Std: \"+str(round(np.std(lis[1]),2))+\"mm\\n\"+str(round(len(lis[1])/3))+\" pts\",\n",
    "           ])\n",
    "colors_box = ['#069AF3','#069AF3']\n",
    "\n",
    "for patch, color in zip(box['boxes'], colors_box):\n",
    "    patch.set_facecolor(color)\n",
    "\n",
    "ax.set_ylabel(\"Error [mm]\")\n",
    "fig.tight_layout()\n",
    "plt.show()"
   ]
  },
  {
   "cell_type": "code",
   "execution_count": null,
   "outputs": [],
   "source": [],
   "metadata": {
    "collapsed": false
   }
  }
 ],
 "metadata": {
  "kernelspec": {
   "display_name": "Python 3 (ipykernel)",
   "language": "python",
   "name": "python3"
  },
  "language_info": {
   "codemirror_mode": {
    "name": "ipython",
    "version": 3
   },
   "file_extension": ".py",
   "mimetype": "text/x-python",
   "name": "python",
   "nbconvert_exporter": "python",
   "pygments_lexer": "ipython3",
   "version": "3.6.9"
  }
 },
 "nbformat": 4,
 "nbformat_minor": 5
}
