{
 "cells": [
  {
   "cell_type": "markdown",
   "source": [
    "# Calibration file\n",
    "\n",
    "Notebook used to compute the inter-prism and inter-GPS distance after an experiment, also their positions into a lidar frame if the measures were done.\n",
    "Just the extrinsic calibration file is needed with the lidar height."
   ],
   "metadata": {
    "collapsed": false
   }
  },
  {
   "cell_type": "code",
   "execution_count": 6,
   "id": "dd395992",
   "metadata": {},
   "outputs": [],
   "source": [
    "import sys\n",
    "sys.path.append(\"../\")\n",
    "import numpy as np\n",
    "import importlib\n",
    "import scripts.theodolite_utils as theodo_u\n",
    "import matplotlib.pyplot as plt\n",
    "import warnings\n",
    "warnings.filterwarnings('ignore')\n",
    "path = \"../data/20221205-1/\""
   ]
  },
  {
   "cell_type": "code",
   "execution_count": 8,
   "id": "d1354f66",
   "metadata": {},
   "outputs": [
    {
     "name": "stdout",
     "output_type": "stream",
     "text": [
      "Distance inter-prism [m]:  0.7302236922335014 0.906645510707088 1.0320499614577772\n",
      "Distance inter-GPS [m]:  0.7832728689639656 0.8695814311237784 0.5001290996627039\n",
      "Conversion done !\n"
     ]
    }
   ],
   "source": [
    "# Warthog experiment\n",
    "theodo_u = importlib.reload(theodo_u)\n",
    "theodo_u.read_calibration_gps_prism_lidar(path+\"sensors_extrinsic_calibration/calibration_raw.csv\", path+\"sensors_extrinsic_calibration/calibration_results.csv\", \"Robosense_32\")"
   ]
  },
  {
   "cell_type": "code",
   "execution_count": null,
   "id": "4d88c72a",
   "metadata": {},
   "outputs": [],
   "source": [
    "# Marmotte experiments\n",
    "theodo_u = importlib.reload(theodo_u)\n",
    "theodo_u.read_calibration_prism_lidar_marmotte(path+\"sensors_extrinsic_calibration/calibration_raw.csv\", path+\"sensors_extrinsic_calibration/calibration_results.csv\", \"Velodyne\")"
   ]
  },
  {
   "cell_type": "code",
   "execution_count": 9,
   "outputs": [
    {
     "name": "stdout",
     "output_type": "stream",
     "text": [
      "Conversion done !\n"
     ]
    }
   ],
   "source": [
    "# Sensor positions (lidar positions need still to be coded)\n",
    "theodo_u = importlib.reload(theodo_u)\n",
    "theodo_u.read_sensor_positions(path+\"sensors_extrinsic_calibration/calibration_raw.csv\",\n",
    "                               path+\"sensors_extrinsic_calibration/sensor_positions.csv\", \"Robosense_32\")"
   ],
   "metadata": {
    "collapsed": false
   }
  },
  {
   "cell_type": "code",
   "execution_count": null,
   "outputs": [],
   "source": [
    "# Pose of sensors on robot\n",
    "theodo_u = importlib.reload(theodo_u)\n",
    "file_sensor_positions = theodo_u.if_file_exist(path + \"sensors_extrinsic_calibration/sensor_positions.csv\",'')\n",
    "sensor_positions_list = np.array(theodo_u.read_extrinsic_calibration_results_file(file_sensor_positions))"
   ],
   "metadata": {
    "collapsed": false
   }
  },
  {
   "cell_type": "code",
   "execution_count": null,
   "outputs": [],
   "source": [
    "# Test pose sensor results\n",
    "P1 = sensor_positions_list[0]\n",
    "P2 = sensor_positions_list[1]\n",
    "P3 = sensor_positions_list[2]\n",
    "O = sensor_positions_list[6]\n",
    "Ox = sensor_positions_list[7]\n",
    "Oy = sensor_positions_list[8]\n",
    "Oz = sensor_positions_list[9]"
   ],
   "metadata": {
    "collapsed": false
   }
  },
  {
   "cell_type": "code",
   "execution_count": null,
   "outputs": [],
   "source": [
    "ux = Ox - O\n",
    "uy = Oy - O\n",
    "uz = Oz - O\n",
    "\n",
    "T_lidar = np.array([[ux[0],uy[0],uz[0],O[0]],\n",
    "                    [ux[1],uy[1],uz[1],O[1]],\n",
    "                    [ux[2],uy[2],uz[2],O[2]],\n",
    "                    [0,0,0,1]])\n",
    "T_lidar_inv = np.linalg.inv(T_lidar)\n",
    "print(T_lidar_inv)\n",
    "P1_lidar = T_lidar_inv@P1\n",
    "P2_lidar = T_lidar_inv@P2\n",
    "P3_lidar = T_lidar_inv@P3"
   ],
   "metadata": {
    "collapsed": false
   }
  },
  {
   "cell_type": "code",
   "execution_count": null,
   "outputs": [],
   "source": [
    "%matplotlib notebook\n",
    "\n",
    "fig = plt.figure()\n",
    "ax = plt.axes(projection=\"3d\")\n",
    "ax.scatter3D(P1_lidar[0], P1_lidar[1], P1_lidar[2], color = \"red\")\n",
    "ax.scatter3D(P2_lidar[0], P2_lidar[1], P2_lidar[2], color = \"blue\")\n",
    "ax.scatter3D(P3_lidar[0], P3_lidar[1], P3_lidar[2], color = \"green\")\n",
    "ax.scatter3D(O[0], O[1], O[2], color = \"yellow\")\n",
    "ax.scatter3D(Ox[0], Ox[1], Ox[2], color = \"red\")\n",
    "ax.scatter3D(Oy[0], Oy[1], Oy[2], color = \"blue\")\n",
    "ax.scatter3D(Oz[0], Oz[1], Oz[2], color = \"green\")\n",
    "ax.set_xlabel(\"X\")\n",
    "ax.set_ylabel(\"Y\")\n",
    "ax.set_zlabel(\"Z\")\n",
    "plt.show()"
   ],
   "metadata": {
    "collapsed": false
   }
  },
  {
   "cell_type": "code",
   "execution_count": null,
   "outputs": [],
   "source": [],
   "metadata": {
    "collapsed": false
   }
  },
  {
   "cell_type": "code",
   "execution_count": null,
   "outputs": [],
   "source": [],
   "metadata": {
    "collapsed": false
   }
  },
  {
   "cell_type": "code",
   "execution_count": null,
   "outputs": [],
   "source": [],
   "metadata": {
    "collapsed": false
   }
  }
 ],
 "metadata": {
  "kernelspec": {
   "display_name": "Python 3",
   "language": "python",
   "name": "python3"
  },
  "language_info": {
   "codemirror_mode": {
    "name": "ipython",
    "version": 3
   },
   "file_extension": ".py",
   "mimetype": "text/x-python",
   "name": "python",
   "nbconvert_exporter": "python",
   "pygments_lexer": "ipython3",
   "version": "3.6.9"
  }
 },
 "nbformat": 4,
 "nbformat_minor": 5
}
