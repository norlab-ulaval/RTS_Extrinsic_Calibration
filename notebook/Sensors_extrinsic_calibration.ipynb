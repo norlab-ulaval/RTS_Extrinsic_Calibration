{
 "cells": [
  {
   "cell_type": "markdown",
   "source": [
    "# Calibration file\n",
    "\n",
    "Notebook used to compute the inter-prism and inter-GPS distance after an experiment, also their positions into a lidar frame if the measures were done.\n",
    "Just the extrinsic calibration file is needed with the lidar height."
   ],
   "metadata": {
    "collapsed": false
   }
  },
  {
   "cell_type": "code",
   "execution_count": null,
   "id": "dd395992",
   "metadata": {},
   "outputs": [],
   "source": [
    "import sys\n",
    "import numpy as np\n",
    "import importlib\n",
    "import scripts.theodolite_utils as theodo_u\n",
    "import matplotlib.pyplot as plt\n",
    "import warnings\n",
    "warnings.filterwarnings('ignore')\n",
    "path = \"../data/20220224/\""
   ]
  },
  {
   "cell_type": "code",
   "execution_count": null,
   "id": "d1354f66",
   "metadata": {},
   "outputs": [],
   "source": [
    "# Warthog experiment\n",
    "theodo_u = importlib.reload(theodo_u)\n",
    "theodo_u.read_calibration_gps_prism_lidar(path+\"sensors_extrinsic_calibration/calibration_raw.csv\", path+\"sensors_extrinsic_calibration/calibration_results.csv\", \"Robosense_32\")"
   ]
  },
  {
   "cell_type": "code",
   "execution_count": null,
   "id": "4d88c72a",
   "metadata": {},
   "outputs": [],
   "source": [
    "# Marmotte experiments\n",
    "theodo_u = importlib.reload(theodo_u)\n",
    "theodo_u.read_calibration_prism_lidar_marmotte(path+\"sensors_extrinsic_calibration/calibration_raw.csv\", path+\"sensors_extrinsic_calibration/calibration_results.csv\", \"Velodyne\")"
   ]
  },
  {
   "cell_type": "code",
   "execution_count": null,
   "outputs": [],
   "source": [
    "# Sensor positions (lidar positions need still to be coded)\n",
    "theodo_u = importlib.reload(theodo_u)\n",
    "theodo_u.read_sensor_positions(path+\"sensors_extrinsic_calibration/calibration_raw.csv\",\n",
    "                               path+\"sensors_extrinsic_calibration/sensor_positions.csv\", \"Robosense_32\")"
   ],
   "metadata": {
    "collapsed": false
   }
  },
  {
   "cell_type": "code",
   "execution_count": null,
   "outputs": [],
   "source": [],
   "metadata": {
    "collapsed": false
   }
  }
 ],
 "metadata": {
  "kernelspec": {
   "display_name": "Python 3",
   "language": "python",
   "name": "python3"
  },
  "language_info": {
   "codemirror_mode": {
    "name": "ipython",
    "version": 3
   },
   "file_extension": ".py",
   "mimetype": "text/x-python",
   "name": "python",
   "nbconvert_exporter": "python",
   "pygments_lexer": "ipython3",
   "version": "3.6.9"
  }
 },
 "nbformat": 4,
 "nbformat_minor": 5
}
