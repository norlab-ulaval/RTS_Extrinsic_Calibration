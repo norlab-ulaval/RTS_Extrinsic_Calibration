{
 "cells": [
  {
   "cell_type": "markdown",
   "source": [
    "# Check raw data without interpolation\n",
    "\n",
    "Notebook to check the RTS data before applying the interpolation"
   ],
   "metadata": {
    "collapsed": false
   }
  },
  {
   "cell_type": "code",
   "execution_count": null,
   "outputs": [],
   "source": [
    "import numpy as np\n",
    "import importlib\n",
    "import matplotlib.pyplot as plt\n",
    "import scripts.theodolite_utils as theodo_u"
   ],
   "metadata": {
    "collapsed": false
   }
  },
  {
   "cell_type": "code",
   "execution_count": null,
   "id": "4c4cee19",
   "metadata": {},
   "outputs": [],
   "source": [
    "# Read rosbag and select raw data\n",
    "theodo_u = importlib.reload(theodo_u)\n",
    "\n",
    "file = \"/home/maxime/data/IROS_2022/20220224_TS/2022-02-24-15-34-38.bag\"\n",
    "\n",
    "filtering = False\n",
    "thresold_d = 2                 # tau_r m/s\n",
    "thresold_a = 1*3.1415926/180   #tau_a rad/s\n",
    "thresold_e = 1*3.1415926/180   #tau_e rad/s\n",
    "time_split = 1                 #tau_s s\n",
    " \n",
    "if(filtering):\n",
    "    t1, t2, t3, tp1, tp2, tp3, d1, d2, d3, a1, a2, a3, e1, e2, e3 = theodo_u.read_rosbag_theodolite_without_tf_raw_data_pre_filtered(file)\n",
    "    index_1 = theodo_u.thresold_raw_data(t1, d1, a1, e1, thresold_d, thresold_a, thresold_e, time_split)\n",
    "    index_2 = theodo_u.thresold_raw_data(t2, d2, a2, e2, thresold_d, thresold_a, thresold_e, time_split)\n",
    "    index_3 = theodo_u.thresold_raw_data(t3, d3, a3, e3, thresold_d, thresold_a, thresold_e, time_split)\n",
    "    t1 = t1[index_1]\n",
    "    t2 = t2[index_2]\n",
    "    t3 = t3[index_3]\n",
    "    tp1 = tp1[index_1]\n",
    "    tp2 = tp2[index_2]\n",
    "    tp3 = tp3[index_3]\n",
    "    print(\"Number of points: \", len(t1))\n",
    "else:\n",
    "    t1, t2, t3, tp1, tp2, tp3, d1, d2, d3, a1, a2, a3, e1, e2, e3 = theodo_u.read_rosbag_theodolite_without_tf_raw_data(file)\n",
    "    print(\"Number of points: \", len(t1))"
   ]
  },
  {
   "cell_type": "code",
   "execution_count": null,
   "id": "4fee0e01",
   "metadata": {},
   "outputs": [],
   "source": [
    "# Plot raw data we want to display\n",
    "%matplotlib notebook\n",
    "offset_timestamp = min(t1[0],t2[0],t3[2])\n",
    "fig, ax1 = plt.subplots() \n",
    "#ax1.scatter([(i-offset_timestamp) for i in time_trimble_1], distance_1, color='b')\n",
    "#ax1.scatter([(i-offset_timestamp) for i in time_trimble_2], distance_2, color='r')\n",
    "#ax1.scatter([(i-offset_timestamp) for i in time_trimble_3], distance_3, color='g')\n",
    "\n",
    "ax1.plot([(t1[i]-t1[i-1]) for i in range(1,len(t1)-1)], color='b')\n",
    "ax1.plot([(t2[i]-t2[i-1]) for i in range(1,len(t2)-1)], color='r')\n",
    "ax1.plot([(t3[i]-t3[i-1]) for i in range(1,len(t3)-1)], color='g')\n",
    "\n",
    "#ax1.scatter([(i-offset_timestamp) for i in time_trimble_1], azimuth_1, color='b')\n",
    "#ax1.scatter([(i-offset_timestamp) for i in time_trimble_2], azimuth_2, color='r')\n",
    "#ax1.scatter([(i-offset_timestamp) for i in time_trimble_3], azimuth_3, color='g')\n",
    "\n",
    "#ax2 = ax1.twinx() \n",
    "#ax2.plot([(i-offset_timestamp) for i in time_trimble_1], status_1, color='b')\n",
    "#ax2.plot([(i-offset_timestamp) for i in time_trimble_2], status_2, color='r')\n",
    "#ax2.plot([(i-offset_timestamp) for i in time_trimble_3], status_3, color='g')\n",
    "#ax2.set_ylim(0, 4.1)\n",
    "plt.show()\n",
    "\n",
    "#plt.figure(1)\n",
    "#plt.plot([(i-offset_timestamp) for i in time_trimble_1], azimuth_1, color='b')\n",
    "#plt.plot([(i-offset_timestamp) for i in time_trimble_2], azimuth_2, color='r')\n",
    "#plt.plot([(i-offset_timestamp) for i in time_trimble_3], azimuth_3, color='g')\n",
    "#plt.figure(2)\n",
    "#plt.plot([(i-offset_timestamp) for i in time_trimble_1], elevation_1, color='b')\n",
    "#plt.plot([(i-offset_timestamp) for i in time_trimble_2], elevation_2, color='r')\n",
    "#plt.plot([(i-offset_timestamp) for i in time_trimble_3], elevation_3, color='g')"
   ]
  },
  {
   "cell_type": "code",
   "execution_count": null,
   "id": "9055ddcd",
   "metadata": {},
   "outputs": [],
   "source": [
    "# Plot raw data trajectories\n",
    "%matplotlib notebook\n",
    "trimble_1 = np.array(tp1)\n",
    "trimble_2 = np.array(tp2)\n",
    "trimble_3 = np.array(tp3)\n",
    "\n",
    "plt.figure(figsize=(10,3))\n",
    "plt.scatter(trimble_1[0,:],trimble_1[1,:])\n",
    "plt.scatter(trimble_2[0,:],trimble_2[1,:])\n",
    "plt.scatter(trimble_3[0,:],trimble_3[1,:])\n",
    "plt.show()"
   ]
  },
  {
   "cell_type": "code",
   "execution_count": null,
   "id": "5bf4d4a7",
   "metadata": {},
   "outputs": [],
   "source": [
    "# Convert point data to csv file\n",
    "theodo_u = importlib.reload(theodo_u)\n",
    "# Trajectory total station (time, point data) x3\n",
    "path = \"../data/20220224/\"\n",
    "if(filtering):\n",
    "    name = \"raw_data_filtered_\"\n",
    "else:\n",
    "    name = \"raw_data_\"\n",
    "theodo_u.Convert_raw_data_point_to_csv(t1, tp1.T, path + \"total_stations/\" + name + \"1.csv\")\n",
    "theodo_u.Convert_raw_data_point_to_csv(t2, tp2.T, path + \"total_stations/\" + name + \"2.csv\")\n",
    "theodo_u.Convert_raw_data_point_to_csv(t3, tp3.T, path + \"total_stations/\" + name + \"3.csv\")"
   ]
  },
  {
   "cell_type": "code",
   "execution_count": null,
   "id": "aa42077c",
   "metadata": {},
   "outputs": [],
   "source": []
  }
 ],
 "metadata": {
  "kernelspec": {
   "display_name": "Python 3",
   "language": "python",
   "name": "python3"
  },
  "language_info": {
   "codemirror_mode": {
    "name": "ipython",
    "version": 3
   },
   "file_extension": ".py",
   "mimetype": "text/x-python",
   "name": "python",
   "nbconvert_exporter": "python",
   "pygments_lexer": "ipython3",
   "version": "3.6.9"
  }
 },
 "nbformat": 4,
 "nbformat_minor": 5
}
