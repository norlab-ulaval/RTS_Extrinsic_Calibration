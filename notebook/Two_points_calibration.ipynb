{
 "cells": [
  {
   "cell_type": "markdown",
   "source": [
    "# Two-points calibration\n",
    "\n",
    "Notebook which computes and saves results of the two-points calibration"
   ],
   "metadata": {
    "collapsed": false
   }
  },
  {
   "cell_type": "code",
   "execution_count": null,
   "outputs": [],
   "source": [
    "import numpy as np\n",
    "import importlib\n",
    "import matplotlib.pyplot as plt\n",
    "import scripts.theodolite_utils as theodo_u\n",
    "import scripts.theodolite_plot_function as theodo_p\n",
    "import scripts.theodolite_function as theodo_f\n",
    "import scripts.resection_functions as theodo_r"
   ],
   "metadata": {
    "collapsed": false
   }
  },
  {
   "cell_type": "code",
   "execution_count": null,
   "outputs": [],
   "source": [
    "# This cell gathers result for the two-points resection\n",
    "\n",
    "theodo_r = importlib.reload(theodo_r)\n",
    "theodo_u = importlib.reload(theodo_u)\n",
    "theodo_f = importlib.reload(theodo_f)\n",
    "\n",
    "pilier_A = np.array([0, 0, 0, 1]).T\n",
    "pilier_B = np.array([0, np.sqrt(181.016**2 - 0.323**2), 0.323, 1])\n",
    "pilier_C = np.array([0, np.sqrt(363.492**2 - 1.038**2), 1.038, 1])\n",
    "pilier_D = np.array([0, np.sqrt(548.578**2 - 2.374**2), 2.374, 1])\n",
    "pilier_ref = [pilier_A, pilier_B, pilier_C, pilier_D]\n",
    "\n",
    "path_list = [\n",
    "    \"../data/20220711-1/\",\n",
    "    \"../data/20220715-1/\"\n",
    "]\n",
    "\n",
    "path_list_inter = [\n",
    "    [\"../data/20220711-2/\"],\n",
    "    [\"\"]\n",
    "]\n",
    "\n",
    "save_results = False\n",
    "\n",
    "error_distance_resection = []\n",
    "error_distance_resection_exp = []\n",
    "error_distance_resection_cp = []\n",
    "TF_list_distance_resection = []\n",
    "for i,j in zip(path_list,path_list_inter):\n",
    "    # Generate file path\n",
    "    file_geomatic = i + 'total_stations/Two_points.txt'\n",
    "    file_GCP = theodo_u.if_file_exist(i + 'total_stations/GCP.txt','')\n",
    "    error_distance_loop = []\n",
    "    error_distance_exp_loop = []\n",
    "    error_distance_cp_loop = []\n",
    "    Tf_distance_loop = []\n",
    "    for m in j:\n",
    "        file_prediction = theodo_u.if_file_exist(m + 'filtered_prediction/f-2-1-1-1-6-0-L_','1.csv')\n",
    "        file_sensors = theodo_u.if_file_exist(m+\"sensors_extrinsic_calibration/calibration_results.csv\",'')\n",
    "        extrinsic_calibration_results = theodo_u.read_extrinsic_calibration_results_file(file_sensors)\n",
    "        # Compute error of two-points resection\n",
    "        TF1,TF2,TF3,error_all_distance_resection,error_distance_cp,error_distance_resection_experiment = theodo_r.geomatic_resection_errors_angle_based(file_geomatic, pilier_ref, file_prediction, extrinsic_calibration_results, file_GCP)\n",
    "        error_distance_loop += error_all_distance_resection\n",
    "        error_distance_exp_loop += error_distance_resection_experiment\n",
    "        error_distance_cp_loop += error_distance_cp\n",
    "        Tf_distance_loop += [TF1, TF2, TF3]\n",
    "    error_distance_resection += error_distance_loop\n",
    "    error_distance_resection_exp += error_distance_exp_loop\n",
    "    error_distance_resection_cp += error_distance_cp_loop\n",
    "    TF_list_distance_resection += Tf_distance_loop\n",
    "    print(\"Cp error: \",np.median(error_distance_cp_loop),np.std(error_distance_cp_loop))\n",
    "    print(\"Inter-prism: \", np.median(error_distance_exp_loop),np.std(error_distance_exp_loop))\n",
    "    # Save results if wanted\n",
    "    if(save_results):\n",
    "        theodo_u.save_error_list_to_file(error_distance_cp_loop, i+\"list_error/error_distance_resection_cp.csv\")\n",
    "        theodo_u.save_error_list_to_file(error_distance_exp_loop, i+\"list_error/error_distance_resection_experiment.csv\")\n",
    "        theodo_u.save_tf_list_to_file_multi(Tf_distance_loop, i+\"list_tf/TF_list_distance_resection.csv\")\n"
   ],
   "metadata": {
    "collapsed": false
   }
  },
  {
   "cell_type": "code",
   "execution_count": null,
   "id": "534cf239-a5d9-4a42-a312-de7a22d6e964",
   "metadata": {},
   "outputs": [],
   "source": [
    "# Display results according to different metrics\n",
    "%matplotlib notebook\n",
    "\n",
    "fig = plt.figure(figsize =(10, 5))\n",
    "ax = fig.add_subplot(111)\n",
    "lis = [error_distance_resection,error_distance_resection_cp,error_distance_resection_exp]\n",
    "\n",
    "box = ax.boxplot(lis, notch=True, patch_artist=True, vert = 1, showfliers=False, showmeans=False)\n",
    "plt.xticks([1,2,3],\n",
    "               [\"Two-points \\n\\n\\n M: \"+str(round(np.median(lis[0]),2))+\"mm \\n Std: \"+str(round(np.std(lis[0]),2))+\"mm\\n\"+str(round(len(lis[0])/3))+\" pts\",\n",
    "            \"GCP\\n\\n\\n M: \"+str(round(np.median(lis[1]),2))+\"mm \\n Std: \"+str(round(np.std(lis[1]),2))+\"mm\\n\"+str(round(len(lis[1])/3))+\" pts\",\n",
    "            \"Inter-prism\\n\\n\\n M: \"+str(round(np.median(lis[2]),2))+\"mm \\n Std: \"+str(round(np.std(lis[2]),2))+\"mm\\n\"+str(round(len(lis[2])/3))+\" pts\",\n",
    "           ])\n",
    "colors_box = ['#069AF3','#069AF3','#069AF3']\n",
    "\n",
    "for patch, color in zip(box['boxes'], colors_box):\n",
    "    patch.set_facecolor(color)\n",
    "\n",
    "ax.set_ylabel(\"Error [mm]\")\n",
    "fig.tight_layout()\n",
    "plt.show()"
   ]
  },
  {
   "cell_type": "code",
   "execution_count": null,
   "outputs": [],
   "source": [],
   "metadata": {
    "collapsed": false
   }
  }
 ],
 "metadata": {
  "kernelspec": {
   "display_name": "Python 3 (ipykernel)",
   "language": "python",
   "name": "python3"
  },
  "language_info": {
   "codemirror_mode": {
    "name": "ipython",
    "version": 3
   },
   "file_extension": ".py",
   "mimetype": "text/x-python",
   "name": "python",
   "nbconvert_exporter": "python",
   "pygments_lexer": "ipython3",
   "version": "3.6.9"
  }
 },
 "nbformat": 4,
 "nbformat_minor": 5
}
