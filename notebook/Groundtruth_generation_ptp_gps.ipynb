{
 "cells": [
  {
   "cell_type": "markdown",
   "source": [
    "# Groundtruth file\n",
    "\n",
    "Notebook used to generate the ground truth according to the position of GPS in post-process."
   ],
   "metadata": {
    "collapsed": false
   }
  },
  {
   "cell_type": "code",
   "execution_count": null,
   "id": "2d5f7a30",
   "metadata": {},
   "outputs": [],
   "source": [
    "import numpy as np\n",
    "import matplotlib.pyplot as plt\n",
    "import importlib\n",
    "import scripts.theodolite_utils as theodo_u\n",
    "import warnings\n",
    "warnings.filterwarnings('ignore')"
   ]
  },
  {
   "cell_type": "code",
   "execution_count": null,
   "id": "c9dfba70",
   "metadata": {},
   "outputs": [],
   "source": [
    "theodo_u = importlib.reload(theodo_u)\n",
    "path = \"../data/20220224/\"\n",
    "prefix = \"filtered_prediction/f-2-1-1-1-6-0-L\"    # Change to GPS predictions, NOT prisms predictions !\n",
    "linear_interpolation = True\n",
    "if(linear_interpolation==True):\n",
    "    P1 = np.array(theodo_u.read_prediction_data_Linear_csv_file(path+prefix +\"_1.csv\"))\n",
    "    P2 = np.array(theodo_u.read_prediction_data_Linear_csv_file(path+prefix +\"_2.csv\"))\n",
    "    P3 = np.array(theodo_u.read_prediction_data_Linear_csv_file(path+prefix +\"_3.csv\"))\n",
    "else:\n",
    "    P1 = np.array(theodo_u.read_prediction_data_GP_csv_file(path+prefix +\"_1.csv\"))\n",
    "    P2 = np.array(theodo_u.read_prediction_data_GP_csv_file(path+prefix +\"_2.csv\"))\n",
    "    P3 = np.array(theodo_u.read_prediction_data_GP_csv_file(path+prefix +\"_3.csv\"))"
   ]
  },
  {
   "cell_type": "code",
   "execution_count": null,
   "id": "74dcd856",
   "metadata": {},
   "outputs": [],
   "source": [
    "P = np.array([[ 3.16757534, -0.42103498, -0.12806262,  1.        ],\n",
    "            [ 3.89296346e+00,  1.96285659e-03, -4.14797074e-01,  1.00000000e+00],\n",
    "            [ 2.89566976,  0.28583646, -0.46077129,  1.        ]]).T\n",
    "G1 = np.array([ 2.85818819, -0.25079912, -0.77501231,  1.        ]).T\n",
    "G2 = np.array([ 3.63328716, -0.20827459, -0.67323631,  1.        ]).T\n",
    "G3 = np.array([ 3.49290871,  0.28817526, -0.64702379,  1.        ]).T"
   ]
  },
  {
   "cell_type": "code",
   "execution_count": null,
   "id": "8bac54ac",
   "metadata": {},
   "outputs": [],
   "source": [
    "# Doing a minimization between these not moving points, and the 3D prism coordinates\n",
    "# Pose_lidar is a list of each rigid transform founded\n",
    "theodo_u = importlib.reload(theodo_u)\n",
    "list_gps_time = []\n",
    "Pose_G1 = []\n",
    "Pose_G2 = []\n",
    "Pose_G3 = []\n",
    "Prism_corrected = []\n",
    "number = len(P1)\n",
    "for i in range(0,number):\n",
    "    Q = np.array([P1[i,1:4], P2[i,1:4], P3[i,1:4]]).T\n",
    "    Q =np.concatenate((Q, np.array([[1,1,1]])), axis=0)\n",
    "    T = theodo_u.point_to_point_minimization(P, Q)\n",
    "    Pose_G1.append(T@G1)\n",
    "    Pose_G2.append(T@G2)\n",
    "    Pose_G3.append(T@G3)\n",
    "    prism_correct = T@P\n",
    "    Prism_corrected.append(prism_correct)\n",
    "    list_gps_time.append(P1[i,0])"
   ]
  },
  {
   "cell_type": "code",
   "execution_count": null,
   "id": "27d2f4a1",
   "metadata": {},
   "outputs": [],
   "source": [
    "Pose_G1_arr = np.array(Pose_G1)\n",
    "Pose_G2_arr = np.array(Pose_G2)\n",
    "Pose_G3_arr = np.array(Pose_G3)\n",
    "Prism_corrected_arr = np.array(Prism_corrected)\n",
    "print(Pose_G1_arr[:])\n",
    "print(Prism_corrected[0][:,0])"
   ]
  },
  {
   "cell_type": "code",
   "execution_count": null,
   "id": "9b39afdb",
   "metadata": {},
   "outputs": [],
   "source": [
    "%matplotlib notebook\n",
    "fig = plt.figure(figsize = (8, 6))\n",
    "ax = plt.axes()\n",
    "begin = 0\n",
    "end = -1\n",
    "ax.plot(Pose_G1_arr[begin:end,0],Pose_G1_arr[begin:end,1], color='black')\n",
    "ax.plot(Pose_G2_arr[begin:end,0],Pose_G2_arr[begin:end,1], color='black')\n",
    "ax.plot(Pose_G3_arr[begin:end,0],Pose_G3_arr[begin:end,1], color='black')\n",
    "ax.plot(Prism_corrected_arr[begin:end,0,0],Prism_corrected_arr[begin:end,1,0], color='red')\n",
    "ax.plot(Prism_corrected_arr[begin:end,0,1],Prism_corrected_arr[begin:end,1,1], color='green')\n",
    "ax.plot(Prism_corrected_arr[begin:end,0,2],Prism_corrected_arr[begin:end,1,2], color='blue')\n",
    "ax.set_xlabel(\"X\")\n",
    "ax.set_ylabel(\"Y\")\n",
    "ax.set_aspect('equal')\n",
    "fig.tight_layout() "
   ]
  },
  {
   "cell_type": "code",
   "execution_count": null,
   "id": "ffe7b28d",
   "metadata": {},
   "outputs": [],
   "source": [
    "%matplotlib notebook\n",
    "fig = plt.figure(figsize = (8, 6))\n",
    "ax = plt.axes(projection =\"3d\")\n",
    "ax.scatter3D(Pose_G1_arr[begin:end,0],Pose_G1_arr[begin:end,1],Pose_G1_arr[begin:end,2], color='black')\n",
    "ax.scatter3D(Prism_corrected_arr[begin:end,0,0],Prism_corrected_arr[begin:end,1,0],Prism_corrected_arr[begin:end,2,0], color='red')\n",
    "ax.scatter3D(Prism_corrected_arr[begin:end,0,1],Prism_corrected_arr[begin:end,1,1],Prism_corrected_arr[begin:end,2,1], color='green')\n",
    "ax.scatter3D(Prism_corrected_arr[begin:end,0,2],Prism_corrected_arr[begin:end,1,2],Prism_corrected_arr[begin:end,2,2], color='blue')\n",
    "ax.scatter3D(0,0,0, color='orange')\n",
    "ax.set_xlabel(\"X\")\n",
    "ax.set_ylabel(\"Y\")\n",
    "fig.tight_layout()"
   ]
  },
  {
   "cell_type": "code",
   "execution_count": null,
   "id": "caede8fb",
   "metadata": {},
   "outputs": [],
   "source": [
    "theodo_u = importlib.reload(theodo_u)\n",
    "theodo_u.grountruth_GP_gps_convert_for_eval(list_gps_time, Pose_G1, path + \"ground_truth/gps_front_predicted.txt\")\n",
    "theodo_u.grountruth_GP_gps_convert_for_eval(list_gps_time, Pose_G2, path + \"ground_truth/gps_back_predicted.txt\")\n",
    "theodo_u.grountruth_GP_gps_convert_for_eval(list_gps_time, Pose_G3, path + \"ground_truth/gps_middle_predicted.txt\")"
   ]
  }
 ],
 "metadata": {
  "kernelspec": {
   "display_name": "Python 3",
   "language": "python",
   "name": "python3"
  },
  "language_info": {
   "codemirror_mode": {
    "name": "ipython",
    "version": 3
   },
   "file_extension": ".py",
   "mimetype": "text/x-python",
   "name": "python",
   "nbconvert_exporter": "python",
   "pygments_lexer": "ipython3",
   "version": "3.6.9"
  }
 },
 "nbformat": 4,
 "nbformat_minor": 5
}
