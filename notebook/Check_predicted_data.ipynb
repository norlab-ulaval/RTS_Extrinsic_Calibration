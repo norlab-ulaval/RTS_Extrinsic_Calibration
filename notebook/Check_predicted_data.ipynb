{
 "cells": [
  {
   "cell_type": "markdown",
   "source": [
    "# Check_predicted_data\n",
    "\n",
    "Notebook used to check the predicted data coming from the pre-processing pipeline.\n"
   ],
   "metadata": {
    "collapsed": false
   }
  },
  {
   "cell_type": "code",
   "execution_count": null,
   "metadata": {},
   "outputs": [],
   "source": [
    "import numpy as np\n",
    "import importlib\n",
    "import matplotlib.pyplot as plt\n",
    "import scripts.theodolite_utils as theodo_u\n",
    "import scripts.theodolite_plot_function as theodo_p\n",
    "import scripts.theodolite_function as theodo_f\n",
    "\n",
    "# Important: set path to deployment data\n",
    "path = \"../data/20220717-5/\""
   ]
  },
  {
   "cell_type": "markdown",
   "source": [
    "# 1. Static GCP calibration result and accuracy\n"
   ],
   "metadata": {
    "collapsed": false
   }
  },
  {
   "cell_type": "code",
   "execution_count": null,
   "metadata": {},
   "outputs": [],
   "source": [
    "# Function used to show the resection accuracy\n",
    "# Read markers file of grand axe and show them\n",
    "\n",
    "%matplotlib notebook\n",
    "theodo_u = importlib.reload(theodo_u)\n",
    "theodo_p = importlib.reload(theodo_p)\n",
    "\n",
    "path_file_GCP = \"total_stations/GCP.txt\"\n",
    "file_name = path+path_file_GCP\n",
    "\n",
    "trimble_1, trimble_2, trimble_3, T_1_grand, T_2_grand, T_3_grand = theodo_u.read_marker_file(file_name, 1, 1)\n",
    "\n",
    "tp1 = T_1_grand@trimble_1\n",
    "tp2 = T_2_grand@trimble_2\n",
    "tp3 = T_3_grand@trimble_3\n",
    "\n",
    "save_tf = False\n",
    "name_file = path + \"list_tf/GCP_result_all_points_considered.csv\"\n",
    "if(save_tf):\n",
    "    theodo_u.save_tf(T_1_grand, T_2_grand, T_3_grand, name_file)\n",
    "\n",
    "error = []\n",
    "for i,j,k in zip(tp1,tp2,tp3):\n",
    "    dist_12 = np.linalg.norm(i-j)\n",
    "    dist_13 = np.linalg.norm(i-k)\n",
    "    dist_23 = np.linalg.norm(k-j)\n",
    "    error.append(dist_12)\n",
    "    error.append(dist_13)\n",
    "    error.append(dist_23)\n",
    "print(\"Average error during the calibration: \", round(np.mean(error)*1000,3), \"mm\")\n",
    "\n",
    "plot_3d = 0   # Variable to plot in 3d, 0 = 2D, 1 = 3D\n",
    "save_pdf = 0   # Variable to save file in pdf\n",
    "file_pdf = path + \"figures/GCP_calibration_result.pdf\"   # file name to save plot in pdf\n",
    "theodo_p.plot_trajectories_prism(3, tp1, tp2, tp3, T_1_grand, T_2_grand, T_3_grand, plot_3d, save_pdf,file_pdf,1)"
   ]
  },
  {
   "cell_type": "markdown",
   "source": [
    "# 2. Predicted data"
   ],
   "metadata": {
    "collapsed": false
   }
  },
  {
   "cell_type": "code",
   "execution_count": null,
   "outputs": [],
   "source": [
    "# Read predicted prism trajectories\n",
    "theodo_u = importlib.reload(theodo_u)\n",
    "\n",
    "path_type = \"filtered_prediction/\"\n",
    "file_name = \"f-2-1-1-1-6-0-L_\"\n",
    "\n",
    "trimble_1 = np.array(theodo_u.read_prediction_data_Linear_csv_file(path+path_type+file_name+\"1.csv\"))\n",
    "trimble_2 = np.array(theodo_u.read_prediction_data_Linear_csv_file(path+path_type+file_name+\"2.csv\"))\n",
    "trimble_3 = np.array(theodo_u.read_prediction_data_Linear_csv_file(path+path_type+file_name+\"3.csv\"))\n",
    "print(\"Number of points: \", len(trimble_1),len(trimble_2),len(trimble_3))"
   ],
   "metadata": {
    "collapsed": false
   }
  },
  {
   "cell_type": "code",
   "execution_count": null,
   "outputs": [],
   "source": [
    "# Apply rigid transformations coming from GCP results\n",
    "theodo_u = importlib.reload(theodo_u)\n",
    "tp1 = (T_1_grand@(trimble_1.T)[1:5]).T\n",
    "tp2 = (T_2_grand@(trimble_2.T)[1:5]).T\n",
    "tp3 = (T_3_grand@(trimble_3.T)[1:5]).T"
   ],
   "metadata": {
    "collapsed": false
   }
  },
  {
   "cell_type": "code",
   "execution_count": null,
   "outputs": [],
   "source": [
    "# Display prism trajectories\n",
    "%matplotlib notebook\n",
    "plt.figure(figsize=(10,3))\n",
    "plt.scatter(tp1[:,0],tp1[:,1], color='b')\n",
    "plt.scatter(tp2[:,0],tp2[:,1], color='r')\n",
    "plt.scatter(tp3[:,0],tp3[:,1], color='g')\n",
    "plt.show()"
   ],
   "metadata": {
    "collapsed": false
   }
  },
  {
   "cell_type": "code",
   "execution_count": null,
   "outputs": [],
   "source": [],
   "metadata": {
    "collapsed": false
   }
  }
 ],
 "metadata": {
  "kernelspec": {
   "display_name": "Python 3 (ipykernel)",
   "language": "python",
   "name": "python3"
  },
  "language_info": {
   "codemirror_mode": {
    "name": "ipython",
    "version": 3
   },
   "file_extension": ".py",
   "mimetype": "text/x-python",
   "name": "python",
   "nbconvert_exporter": "python",
   "pygments_lexer": "ipython3",
   "version": "3.8.14"
  }
 },
 "nbformat": 4,
 "nbformat_minor": 4
}
