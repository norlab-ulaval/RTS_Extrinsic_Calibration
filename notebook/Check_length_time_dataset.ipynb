{
 "cells": [
  {
   "cell_type": "markdown",
   "source": [
    "# Check_length_time_dataset\n",
    "\n",
    "Notebook used to check the length of the dataset."
   ],
   "metadata": {
    "collapsed": false
   },
   "id": "86c492ff14ec681b"
  },
  {
   "cell_type": "code",
   "execution_count": 1,
   "outputs": [],
   "source": [
    "from tqdm import tqdm\n",
    "import sys\n",
    "sys.path.append(\"../\")\n",
    "import importlib\n",
    "import scripts.theodolite_utils as theodo_u\n",
    "import scripts.theodolite_function as theodo_f\n",
    "import warnings\n",
    "warnings.filterwarnings('ignore')"
   ],
   "metadata": {
    "collapsed": false,
    "ExecuteTime": {
     "end_time": "2023-08-08T00:32:57.690416575Z",
     "start_time": "2023-08-08T00:32:53.141576454Z"
    }
   },
   "id": "cb2e97d39be926a5"
  },
  {
   "cell_type": "code",
   "execution_count": 2,
   "id": "1e8294f4",
   "metadata": {
    "scrolled": true,
    "ExecuteTime": {
     "end_time": "2023-08-08T00:33:00.602010687Z",
     "start_time": "2023-08-08T00:32:58.246660550Z"
    }
   },
   "outputs": [
    {
     "name": "stderr",
     "output_type": "stream",
     "text": [
      "  0%|          | 0/11 [00:00<?, ?it/s]\n",
      "100%|██████████| 26/26 [00:00<00:00, 1037.01it/s]\n",
      "  9%|▉         | 1/11 [00:00<00:02,  4.92it/s]\n",
      "100%|██████████| 42/42 [00:00<00:00, 1160.12it/s]\n",
      " 18%|█▊        | 2/11 [00:00<00:02,  3.28it/s]\n",
      "100%|██████████| 46/46 [00:00<00:00, 957.04it/s]\n",
      " 27%|██▋       | 3/11 [00:01<00:02,  2.74it/s]\n",
      "100%|██████████| 31/31 [00:00<00:00, 859.86it/s]\n",
      " 36%|███▋      | 4/11 [00:01<00:02,  3.06it/s]\n",
      "100%|██████████| 22/22 [00:00<00:00, 1246.23it/s]\n",
      " 45%|████▌     | 5/11 [00:01<00:01,  3.85it/s]\n",
      "100%|██████████| 49/49 [00:00<00:00, 1156.54it/s]\n",
      " 55%|█████▍    | 6/11 [00:01<00:01,  3.14it/s]\n",
      "100%|██████████| 17/17 [00:00<00:00, 1719.43it/s]\n",
      "\n",
      "100%|██████████| 11/11 [00:00<00:00, 1019.32it/s]\n",
      " 73%|███████▎  | 8/11 [00:01<00:00,  5.17it/s]\n",
      "100%|██████████| 20/20 [00:00<00:00, 1971.24it/s]\n",
      "\n",
      "100%|██████████| 18/18 [00:00<00:00, 1446.56it/s]\n",
      " 91%|█████████ | 10/11 [00:02<00:00,  6.65it/s]\n",
      "100%|██████████| 28/28 [00:00<00:00, 1580.77it/s]\n",
      "100%|██████████| 11/11 [00:02<00:00,  4.77it/s]"
     ]
    },
    {
     "name": "stdout",
     "output_type": "stream",
     "text": [
      "Total distance of dataset [m]:  16043.008748210996\n",
      "Total duration of dataset [s] 20965.60383629799\n"
     ]
    },
    {
     "name": "stderr",
     "output_type": "stream",
     "text": [
      "\n"
     ]
    }
   ],
   "source": [
    "theodo_u = importlib.reload(theodo_u)\n",
    "\n",
    "list_dataset = [\n",
    "    \"../data/20220224/\",\n",
    "    \"../data/20220307/\",\n",
    "    # \"../data/20220312/\",\n",
    "    \"../data/20220314/\",\n",
    "    \"../data/20220316/\",\n",
    "    # \"../data/20220331-1/\",\n",
    "    # \"../data/20220331-2/\",\n",
    "    # \"../data/20220427-1/\",\n",
    "    # \"../data/20220427-2/\",\n",
    "    # \"../data/20220513-1/\",\n",
    "    # \"../data/20220513-2/\",\n",
    "    # \"../data/20220513-3/\",\n",
    "    # \"../data/20220513-4/\",\n",
    "    # \"../data/20220513-5/\",\n",
    "    # \"../data/20220513-6/\",\n",
    "    \"../data/20220525-1/\",\n",
    "    \"../data/20220525-2/\",\n",
    "    \"../data/20220622-1/\",\n",
    "    \"../data/20220622-2/\",\n",
    "    \"../data/20220630-1/\",\n",
    "    \"../data/20220630-2/\",\n",
    "    # \"../data/20220711-1/\",\n",
    "    \"../data/20220711-2/\",\n",
    "    # \"../data/20221103-1/\",\n",
    "    # \"../data/20221103-2/\",\n",
    "    # \"../data/20221103-3/\",\n",
    "    # \"../data/20221109-1/\",\n",
    "    # \"../data/20221109-2/\",\n",
    "    # \"../data/20221109-3/\",\n",
    "    # \"../data/20221110/\",\n",
    "    # \"../data/20221116-1/\",\n",
    "    # \"../data/20221123/\",\n",
    "    # \"../data/20221124/\",\n",
    "    # \"../data/20221129-1/\",\n",
    "    # \"../data/20221129-2/\",\n",
    "    # \"../data/20221129-3/\",\n",
    "    # \"../data/20221129-4/\",\n",
    "    # \"../data/20221129-5/\",\n",
    "    # \"../data/20221205-1/\",\n",
    "    # \"../data/20221205-2/\",\n",
    "    # \"../data/20221205-3/\"\n",
    "]\n",
    "\n",
    "distance = []\n",
    "time_experiment = []\n",
    "for path in tqdm(list_dataset):\n",
    "\n",
    "    time_trimble_1, trimble_1 = theodo_u.read_point_data_csv_file(path+\"total_stations/trimble1.csv\")\n",
    "    time_trimble_2, trimble_2 = theodo_u.read_point_data_csv_file(path+\"total_stations/trimble2.csv\")\n",
    "    time_trimble_3, trimble_3 = theodo_u.read_point_data_csv_file(path+\"total_stations/trimble3.csv\")\n",
    "\n",
    "    limit_time_interval = 4    #4 seconds max\n",
    "    list_interval, list_time = theodo_f.split_time_interval_all_data(time_trimble_1, time_trimble_2, time_trimble_3, limit_time_interval)\n",
    "    limit_search = 3\n",
    "    list_trajectories_split = theodo_f.merge_interval(list_interval, list_time, time_trimble_1, time_trimble_2, time_trimble_3, limit_search)\n",
    "\n",
    "    dist, time = theodo_u.distance_time_trajectory(list_trajectories_split,trimble_1,time_trimble_1)\n",
    "    distance.append(dist)\n",
    "    time_experiment.append(time)\n",
    "print(\"Total distance of dataset [m]: \", sum(distance))\n",
    "print(\"Total duration of dataset [s]\", sum(time_experiment))"
   ]
  },
  {
   "cell_type": "code",
   "execution_count": null,
   "outputs": [],
   "source": [],
   "metadata": {
    "collapsed": false
   },
   "id": "4b07982f89a1e6b8"
  }
 ],
 "metadata": {
  "kernelspec": {
   "display_name": "Python 3",
   "language": "python",
   "name": "python3"
  },
  "language_info": {
   "codemirror_mode": {
    "name": "ipython",
    "version": 3
   },
   "file_extension": ".py",
   "mimetype": "text/x-python",
   "name": "python",
   "nbconvert_exporter": "python",
   "pygments_lexer": "ipython3",
   "version": "3.6.9"
  }
 },
 "nbformat": 4,
 "nbformat_minor": 5
}
