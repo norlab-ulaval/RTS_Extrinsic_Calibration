{
 "cells": [
  {
   "cell_type": "markdown",
   "source": [
    "# Check_length_time_dataset\n",
    "\n",
    "Notebook used to check the length of the dataset."
   ],
   "metadata": {
    "collapsed": false
   }
  },
  {
   "cell_type": "code",
   "execution_count": null,
   "outputs": [],
   "source": [
    "from tqdm import tqdm\n",
    "import sys\n",
    "sys.path.append(\"../\")\n",
    "import importlib\n",
    "import scripts.theodolite_utils as theodo_u\n",
    "import scripts.theodolite_function as theodo_f\n",
    "import warnings\n",
    "warnings.filterwarnings('ignore')"
   ],
   "metadata": {
    "collapsed": false
   }
  },
  {
   "cell_type": "code",
   "execution_count": null,
   "id": "1e8294f4",
   "metadata": {
    "scrolled": true
   },
   "outputs": [],
   "source": [
    "theodo_u = importlib.reload(theodo_u)\n",
    "\n",
    "list_dataset = [\n",
    "    \"../data/20220224/\",\n",
    "    \"../data/20220307/\",\n",
    "    \"../data/20220312/\",\n",
    "    \"../data/20220314/\",\n",
    "    \"../data/20220316/\",\n",
    "    \"../data/20220331-1/\",\n",
    "    \"../data/20220331-2/\",\n",
    "    \"../data/20220427-1/\",\n",
    "    \"../data/20220427-2/\",\n",
    "    \"../data/20220513-1/\",\n",
    "    \"../data/20220513-2/\",\n",
    "    \"../data/20220513-3/\",\n",
    "    \"../data/20220513-4/\",\n",
    "    \"../data/20220513-5/\",\n",
    "    \"../data/20220513-6/\",\n",
    "    \"../data/20220525-1/\",\n",
    "    \"../data/20220525-2/\",\n",
    "    \"../data/20220622-1/\",\n",
    "    \"../data/20220622-2/\",\n",
    "    \"../data/20220630-1/\",\n",
    "    \"../data/20220630-2/\",\n",
    "    \"../data/20220711-1/\",\n",
    "    \"../data/20220711-2/\",\n",
    "    \"../data/20221103-1/\",\n",
    "    \"../data/20221103-2/\",\n",
    "    \"../data/20221103-3/\",\n",
    "    \"../data/20221109-1/\",\n",
    "    \"../data/20221109-2/\",\n",
    "    \"../data/20221109-3/\",\n",
    "    \"../data/20221110/\",\n",
    "    \"../data/20221116-1/\",\n",
    "    \"../data/20221123/\",\n",
    "    \"../data/20221124/\",\n",
    "    \"../data/20221129-1/\",\n",
    "    \"../data/20221129-2/\",\n",
    "    \"../data/20221129-3/\",\n",
    "    \"../data/20221129-4/\",\n",
    "    \"../data/20221129-5/\",\n",
    "    \"../data/20221205-1/\",\n",
    "    \"../data/20221205-2/\",\n",
    "    \"../data/20221205-3/\"\n",
    "]\n",
    "\n",
    "distance = []\n",
    "time_experiment = []\n",
    "for path in tqdm(list_dataset):\n",
    "\n",
    "    time_trimble_1, trimble_1 = theodo_u.read_point_data_csv_file(path+\"total_stations/trimble1.csv\")\n",
    "    time_trimble_2, trimble_2 = theodo_u.read_point_data_csv_file(path+\"total_stations/trimble2.csv\")\n",
    "    time_trimble_3, trimble_3 = theodo_u.read_point_data_csv_file(path+\"total_stations/trimble3.csv\")\n",
    "\n",
    "    limit_time_interval = 4    #4 seconds max\n",
    "    list_interval, list_time = theodo_f.split_time_interval_all_data(time_trimble_1, time_trimble_2, time_trimble_3, limit_time_interval)\n",
    "    limit_search = 3\n",
    "    list_trajectories_split = theodo_f.merge_interval(list_interval, list_time, time_trimble_1, time_trimble_2, time_trimble_3, limit_search)\n",
    "\n",
    "    dist, time = theodo_u.distance_time_trajectory(list_trajectories_split,trimble_1,time_trimble_1)\n",
    "    distance.append(dist)\n",
    "    time_experiment.append(time)\n",
    "print(\"Total distance of dataset [m]: \", sum(distance))\n",
    "print(\"Total duration of dataset [s]\", sum(time_experiment))"
   ]
  },
  {
   "cell_type": "code",
   "execution_count": null,
   "outputs": [],
   "source": [],
   "metadata": {
    "collapsed": false
   }
  }
 ],
 "metadata": {
  "kernelspec": {
   "display_name": "Python 3",
   "language": "python",
   "name": "python3"
  },
  "language_info": {
   "codemirror_mode": {
    "name": "ipython",
    "version": 3
   },
   "file_extension": ".py",
   "mimetype": "text/x-python",
   "name": "python",
   "nbconvert_exporter": "python",
   "pygments_lexer": "ipython3",
   "version": "3.6.9"
  }
 },
 "nbformat": 4,
 "nbformat_minor": 5
}
