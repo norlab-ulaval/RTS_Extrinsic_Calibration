{
 "cells": [
  {
   "attachments": {},
   "cell_type": "markdown",
   "metadata": {
    "collapsed": false
   },
   "source": [
    "# Groundtruth file\n",
    "\n",
    "Notebook used to generate the ground truth according to the position of prisms in post-process."
   ],
   "id": "5adcb3df07e5700a"
  },
  {
   "cell_type": "code",
   "execution_count": null,
   "id": "2d5f7a30",
   "metadata": {},
   "outputs": [],
   "source": [
    "import sys\n",
    "sys.path.append(\"../\")\n",
    "import numpy as np\n",
    "import importlib\n",
    "import matplotlib.pyplot as plt\n",
    "import scripts.theodolite_utils as theodo_u\n",
    "import warnings\n",
    "warnings.filterwarnings('ignore')"
   ]
  },
  {
   "cell_type": "code",
   "execution_count": null,
   "metadata": {
    "collapsed": false
   },
   "outputs": [],
   "source": [
    "theodo_u = importlib.reload(theodo_u)\n",
    "path = \"../data/20230725-1/\"\n",
    "prefix = \"filtered_prediction/f-2-2-2-3-6-0-L\"\n",
    "linear_interpolation = True\n",
    "if(linear_interpolation==True):\n",
    "    P1 = theodo_u.read_prediction_data_Linear_csv_file(path+prefix +\"_1.csv\")\n",
    "    P2 = theodo_u.read_prediction_data_Linear_csv_file(path+prefix +\"_2.csv\")\n",
    "    P3 = theodo_u.read_prediction_data_Linear_csv_file(path+prefix +\"_3.csv\")\n",
    "else:\n",
    "    P1 = theodo_u.read_prediction_data_GP_csv_file(path+prefix +\"_1.csv\")\n",
    "    P2 = theodo_u.read_prediction_data_GP_csv_file(path+prefix +\"_2.csv\")\n",
    "    P3 = theodo_u.read_prediction_data_GP_csv_file(path+prefix +\"_3.csv\")"
   ],
   "id": "b6626a8904f82bad"
  },
  {
   "cell_type": "code",
   "execution_count": null,
   "outputs": [],
   "source": [
    "P1_arr = np.array(P1)\n",
    "P2_arr = np.array(P2)\n",
    "P3_arr = np.array(P3)\n",
    "\n",
    "path_file_GCP = \"total_stations/GCP.txt\"\n",
    "file_name = path+path_file_GCP\n",
    "trimble_1_gcp, trimble_2_gcp, trimble_3_gcp, T_1_grand, T_2_grand, T_3_grand = theodo_u.read_marker_file(file_name, 1, 1)\n",
    "\n",
    "P1_corrected = []\n",
    "P2_corrected = []\n",
    "P3_corrected = []\n",
    "for i, j, k in zip(P1_arr, P2_arr, P3_arr):\n",
    "    P1_arr = T_1_grand@i[1:5].T\n",
    "    P1_corrected.append([i[0], P1_arr[0], P1_arr[1], P1_arr[2], 1])\n",
    "    P2_arr = T_2_grand@j[1:5].T\n",
    "    P2_corrected.append([j[0], P2_arr[0], P2_arr[1], P2_arr[2], 1])\n",
    "    P3_arr = T_3_grand@k[1:5].T\n",
    "    P3_corrected.append([k[0], P3_arr[0], P3_arr[1], P3_arr[2], 1])\n",
    "\n",
    "P1_corrected = np.array(P1_corrected)\n",
    "P2_corrected = np.array(P2_corrected)\n",
    "P3_corrected = np.array(P3_corrected)\n"
   ],
   "metadata": {
    "collapsed": false
   },
   "id": "6c8e608132626781"
  },
  {
   "cell_type": "code",
   "execution_count": null,
   "outputs": [],
   "source": [
    "fig = plt.figure(figsize = (8, 6))\n",
    "ax = plt.axes()\n",
    "begin = 0\n",
    "end = -1\n",
    "ax.scatter(P1_corrected[begin:end,1],P1_corrected[begin:end,2], color='red')\n",
    "ax.scatter(P2_corrected[begin:end,1],P2_corrected[begin:end,2], color='green')\n",
    "ax.scatter(P3_corrected[begin:end,1],P3_corrected[begin:end,2], color='blue')\n",
    "ax.set_xlabel(\"X\")\n",
    "ax.set_ylabel(\"Y\")\n",
    "ax.set_title(\"Groundtruth\")\n",
    "ax.set_aspect('equal')\n",
    "fig.tight_layout() "
   ],
   "metadata": {
    "collapsed": false
   },
   "id": "f0a6fbdd31da1f13"
  },
  {
   "cell_type": "code",
   "execution_count": null,
   "id": "ab301291",
   "metadata": {},
   "outputs": [],
   "source": [
    "# Load sensor positions\n",
    "from scripts.theodolite_utils import read_file\n",
    "sensor = read_file(path + \"sensors_extrinsic_calibration/sensor_position_lidar_frame.csv\")\n",
    "P1_lidar, P2_lidar, P3_lidar = sensor[0:3]\n",
    "P = np.array([P1_lidar, P2_lidar, P3_lidar]).T"
   ]
  },
  {
   "cell_type": "code",
   "execution_count": null,
   "id": "8bac54ac",
   "metadata": {},
   "outputs": [],
   "source": [
    "# Doing a minimization between these not moving points, and the 3D prism coordinates\n",
    "# Pose_lidar is a list of each rigid transform founded\n",
    "list_lidar_time = []\n",
    "Pose_lidar = []\n",
    "Prism_corrected = []\n",
    "number = len(P1)\n",
    "for i in range(0,number):\n",
    "    Q = np.array([P1_corrected[i,1:4], P2_corrected[i,1:4], P3_corrected[i,1:4]]).T\n",
    "    Q =np.concatenate((Q, np.array([[1,1,1]])), axis=0)\n",
    "    T = theodo_u.point_to_point_minimization(P, Q)\n",
    "    Pose_lidar.append(T)\n",
    "    prism_correct = T@P\n",
    "    Prism_corrected.append(prism_correct)\n",
    "    list_lidar_time.append(P1_corrected[i,0])\n",
    "Pose_lidar_arr = np.array(Pose_lidar)\n",
    "Prism_corrected_arr = np.array(Prism_corrected)"
   ]
  },
  {
   "cell_type": "code",
   "execution_count": null,
   "id": "9b39afdb",
   "metadata": {},
   "outputs": [],
   "source": [
    "%matplotlib inline\n",
    "fig = plt.figure(figsize = (8, 6))\n",
    "ax = plt.axes()\n",
    "begin = 0\n",
    "end = -1\n",
    "ax.plot(Pose_lidar_arr[begin:end,0,3],Pose_lidar_arr[begin:end,1,3], color='black')\n",
    "ax.plot(Prism_corrected_arr[begin:end,0,0],Prism_corrected_arr[begin:end,1,0], color='red')\n",
    "ax.plot(Prism_corrected_arr[begin:end,0,1],Prism_corrected_arr[begin:end,1,1], color='green')\n",
    "ax.plot(Prism_corrected_arr[begin:end,0,2],Prism_corrected_arr[begin:end,1,2], color='blue')\n",
    "ax.set_xlabel(\"X\")\n",
    "ax.set_ylabel(\"Y\")\n",
    "ax.set_title(\"Groundtruth\")\n",
    "ax.set_aspect('equal')\n",
    "fig.tight_layout() "
   ]
  },
  {
   "cell_type": "code",
   "execution_count": null,
   "id": "ffe7b28d",
   "metadata": {},
   "outputs": [],
   "source": [
    "%matplotlib inline\n",
    "fig = plt.figure(figsize = (8, 6))\n",
    "ax = plt.axes(projection =\"3d\")\n",
    "ax.scatter3D(Pose_lidar_arr[begin:end,0,3],Pose_lidar_arr[begin:end,1,3],Pose_lidar_arr[begin:end,2,3], color='black')\n",
    "ax.scatter3D(Prism_corrected_arr[begin:end,0,0],Prism_corrected_arr[begin:end,1,0],Prism_corrected_arr[begin:end,2,0], color='red')\n",
    "ax.scatter3D(Prism_corrected_arr[begin:end,0,1],Prism_corrected_arr[begin:end,1,1],Prism_corrected_arr[begin:end,2,1], color='green')\n",
    "ax.scatter3D(Prism_corrected_arr[begin:end,0,2],Prism_corrected_arr[begin:end,1,2],Prism_corrected_arr[begin:end,2,2], color='blue')\n",
    "ax.scatter3D(0,0,0, color='orange')\n",
    "ax.set_xlabel(\"X\")\n",
    "ax.set_ylabel(\"Y\")\n",
    "fig.tight_layout()"
   ]
  },
  {
   "cell_type": "code",
   "execution_count": null,
   "id": "c3c58931",
   "metadata": {},
   "outputs": [],
   "source": [
    "%matplotlib inline\n",
    "fig = plt.figure(figsize = (8, 6))\n",
    "ax = plt.axes()\n",
    "ax.plot(list_lidar_time,Pose_lidar_arr[:,0,2], color='black')\n",
    "ax.set_xlabel(\"X\")\n",
    "ax.set_ylabel(\"Y\")\n",
    "fig.tight_layout()"
   ]
  },
  {
   "cell_type": "code",
   "execution_count": null,
   "metadata": {
    "collapsed": false
   },
   "outputs": [],
   "source": [
    "theodo_u = importlib.reload(theodo_u)\n",
    "theodo_u.grountruth_GP_convert_for_eval(list_lidar_time, Pose_lidar, path+\"ground_truth/groundtruth_rts_lidar.csv\")"
   ],
   "id": "fb9cdedca4235daa"
  },
  {
   "cell_type": "code",
   "execution_count": null,
   "id": "3350af7e",
   "metadata": {},
   "outputs": [],
   "source": []
  }
 ],
 "metadata": {
  "kernelspec": {
   "display_name": "Python 3",
   "language": "python",
   "name": "python3"
  },
  "language_info": {
   "codemirror_mode": {
    "name": "ipython",
    "version": 3
   },
   "file_extension": ".py",
   "mimetype": "text/x-python",
   "name": "python",
   "nbconvert_exporter": "python",
   "pygments_lexer": "ipython3",
   "version": "3.10.8"
  }
 },
 "nbformat": 4,
 "nbformat_minor": 5
}
