{
 "cells": [
  {
   "cell_type": "markdown",
   "source": [
    "# Groundtruth file\n",
    "\n",
    "Notebook used to generate the ground truth according to the position of prisms in post-process."
   ],
   "metadata": {
    "collapsed": false
   }
  },
  {
   "cell_type": "code",
   "execution_count": 1,
   "id": "2d5f7a30",
   "metadata": {},
   "outputs": [],
   "source": [
    "import numpy as np\n",
    "import importlib\n",
    "import matplotlib.pyplot as plt\n",
    "import scripts.theodolite_utils as theodo_u\n",
    "import warnings\n",
    "warnings.filterwarnings('ignore')"
   ]
  },
  {
   "cell_type": "code",
   "execution_count": 2,
   "outputs": [],
   "source": [
    "theodo_u = importlib.reload(theodo_u)\n",
    "path = \"../data/20221110/\"\n",
    "prefix = \"filtered_prediction/f-2-1-1-1-6-0-L\"\n",
    "linear_interpolation = True\n",
    "if(linear_interpolation==True):\n",
    "    P1 = theodo_u.read_prediction_data_Linear_csv_file(path+prefix +\"_1.csv\")\n",
    "    P2 = theodo_u.read_prediction_data_Linear_csv_file(path+prefix +\"_2.csv\")\n",
    "    P3 = theodo_u.read_prediction_data_Linear_csv_file(path+prefix +\"_3.csv\")\n",
    "else:\n",
    "    P1 = theodo_u.read_prediction_data_GP_csv_file(path+prefix +\"_1.csv\")\n",
    "    P2 = theodo_u.read_prediction_data_GP_csv_file(path+prefix +\"_2.csv\")\n",
    "    P3 = theodo_u.read_prediction_data_GP_csv_file(path+prefix +\"_3.csv\")"
   ],
   "metadata": {
    "collapsed": false
   }
  },
  {
   "cell_type": "code",
   "execution_count": 3,
   "id": "74dcd856",
   "metadata": {},
   "outputs": [],
   "source": [
    "# P = np.array([[-0.3926683261421169, -0.06981451458695287, 0.37458416859960275,  1.],\n",
    "#             [-0.6480596685770119, -0.11178020130204336, 0.0936504044016776,  1.],\n",
    "#             [-0.6413256219354304, 0.14408137810898047, 0.07735247913826593,  1.]]).T"
   ]
  },
  {
   "cell_type": "code",
   "execution_count": 4,
   "id": "8bac54ac",
   "metadata": {},
   "outputs": [
    {
     "ename": "NameError",
     "evalue": "name 'P' is not defined",
     "output_type": "error",
     "traceback": [
      "\u001B[0;31m---------------------------------------------------------------------------\u001B[0m",
      "\u001B[0;31mNameError\u001B[0m                                 Traceback (most recent call last)",
      "Cell \u001B[0;32mIn [4], line 10\u001B[0m\n\u001B[1;32m      8\u001B[0m Q \u001B[38;5;241m=\u001B[39m np\u001B[38;5;241m.\u001B[39marray([P1[i][\u001B[38;5;241m1\u001B[39m:\u001B[38;5;241m4\u001B[39m], P2[i][\u001B[38;5;241m1\u001B[39m:\u001B[38;5;241m4\u001B[39m], P3[i][\u001B[38;5;241m1\u001B[39m:\u001B[38;5;241m4\u001B[39m]])\u001B[38;5;241m.\u001B[39mT\n\u001B[1;32m      9\u001B[0m Q \u001B[38;5;241m=\u001B[39mnp\u001B[38;5;241m.\u001B[39mconcatenate((Q, np\u001B[38;5;241m.\u001B[39marray([[\u001B[38;5;241m1\u001B[39m,\u001B[38;5;241m1\u001B[39m,\u001B[38;5;241m1\u001B[39m]])), axis\u001B[38;5;241m=\u001B[39m\u001B[38;5;241m0\u001B[39m)\n\u001B[0;32m---> 10\u001B[0m T \u001B[38;5;241m=\u001B[39m theodo_u\u001B[38;5;241m.\u001B[39mpoint_to_point_minimization(\u001B[43mP\u001B[49m, Q)\n\u001B[1;32m     11\u001B[0m Pose_lidar\u001B[38;5;241m.\u001B[39mappend(T)\n\u001B[1;32m     12\u001B[0m prism_correct \u001B[38;5;241m=\u001B[39m T\u001B[38;5;129m@P\u001B[39m\n",
      "\u001B[0;31mNameError\u001B[0m: name 'P' is not defined"
     ]
    }
   ],
   "source": [
    "# Doing a minimization between these not moving points, and the 3D prism coordinates\n",
    "# Pose_lidar is a list of each rigid transform founded\n",
    "list_lidar_time = []\n",
    "Pose_lidar = []\n",
    "Prism_corrected = []\n",
    "number = len(P1)\n",
    "for i in range(0,number):\n",
    "    Q = np.array([P1[i][1:4], P2[i][1:4], P3[i][1:4]]).T\n",
    "    Q =np.concatenate((Q, np.array([[1,1,1]])), axis=0)\n",
    "    T = theodo_u.point_to_point_minimization(P, Q)\n",
    "    Pose_lidar.append(T)\n",
    "    prism_correct = T@P\n",
    "    Prism_corrected.append(prism_correct)\n",
    "    list_lidar_time.append(P1[i][0])\n",
    "Pose_lidar_arr = np.array(Pose_lidar)\n",
    "Prism_corrected_arr = np.array(Prism_corrected)"
   ]
  },
  {
   "cell_type": "code",
   "execution_count": null,
   "id": "9b39afdb",
   "metadata": {},
   "outputs": [],
   "source": [
    "%matplotlib notebook\n",
    "fig = plt.figure(figsize = (8, 6))\n",
    "ax = plt.axes()\n",
    "begin = 0\n",
    "end = -1\n",
    "ax.plot(Pose_lidar_arr[begin:end,0,3],Pose_lidar_arr[begin:end,1,3], color='black')\n",
    "ax.plot(Prism_corrected_arr[begin:end,0,0],Prism_corrected_arr[begin:end,1,0], color='red')\n",
    "ax.plot(Prism_corrected_arr[begin:end,0,1],Prism_corrected_arr[begin:end,1,1], color='green')\n",
    "ax.plot(Prism_corrected_arr[begin:end,0,2],Prism_corrected_arr[begin:end,1,2], color='blue')\n",
    "ax.set_xlabel(\"X\")\n",
    "ax.set_ylabel(\"Y\")\n",
    "ax.set_aspect('equal')\n",
    "fig.tight_layout() "
   ]
  },
  {
   "cell_type": "code",
   "execution_count": null,
   "id": "ffe7b28d",
   "metadata": {},
   "outputs": [],
   "source": [
    "%matplotlib notebook\n",
    "fig = plt.figure(figsize = (8, 6))\n",
    "ax = plt.axes(projection =\"3d\")\n",
    "ax.scatter3D(Pose_lidar_arr[begin:end,0,3],Pose_lidar_arr[begin:end,1,3],Pose_lidar_arr[begin:end,2,3], color='black')\n",
    "ax.scatter3D(Prism_corrected_arr[begin:end,0,0],Prism_corrected_arr[begin:end,1,0],Prism_corrected_arr[begin:end,2,0], color='red')\n",
    "ax.scatter3D(Prism_corrected_arr[begin:end,0,1],Prism_corrected_arr[begin:end,1,1],Prism_corrected_arr[begin:end,2,1], color='green')\n",
    "ax.scatter3D(Prism_corrected_arr[begin:end,0,2],Prism_corrected_arr[begin:end,1,2],Prism_corrected_arr[begin:end,2,2], color='blue')\n",
    "ax.scatter3D(0,0,0, color='orange')\n",
    "ax.set_xlabel(\"X\")\n",
    "ax.set_ylabel(\"Y\")\n",
    "fig.tight_layout()"
   ]
  },
  {
   "cell_type": "code",
   "execution_count": null,
   "id": "c3c58931",
   "metadata": {},
   "outputs": [],
   "source": [
    "%matplotlib notebook\n",
    "fig = plt.figure(figsize = (8, 6))\n",
    "ax = plt.axes()\n",
    "ax.plot(list_lidar_time,Pose_lidar_arr[:,0,2], color='black')\n",
    "ax.set_xlabel(\"X\")\n",
    "ax.set_ylabel(\"Y\")\n",
    "fig.tight_layout()"
   ]
  },
  {
   "cell_type": "code",
   "execution_count": null,
   "outputs": [],
   "source": [
    "theodo_u = importlib.reload(theodo_u)\n",
    "theodo_u.grountruth_GP_convert_for_eval(list_lidar_time, Pose_lidar, path+\"ground_truth/groundtruth_lidar.csv\")"
   ],
   "metadata": {
    "collapsed": false
   }
  },
  {
   "cell_type": "code",
   "execution_count": null,
   "outputs": [],
   "source": [],
   "metadata": {
    "collapsed": false
   }
  }
 ],
 "metadata": {
  "kernelspec": {
   "display_name": "Python 3",
   "language": "python",
   "name": "python3"
  },
  "language_info": {
   "codemirror_mode": {
    "name": "ipython",
    "version": 3
   },
   "file_extension": ".py",
   "mimetype": "text/x-python",
   "name": "python",
   "nbconvert_exporter": "python",
   "pygments_lexer": "ipython3",
   "version": "3.6.9"
  }
 },
 "nbformat": 4,
 "nbformat_minor": 5
}
