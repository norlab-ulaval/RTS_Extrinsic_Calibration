{
 "cells": [
  {
   "cell_type": "markdown",
   "id": "b8c33847-5986-4874-ab4b-4b45f4a2a1e3",
   "metadata": {
    "tags": []
   },
   "source": [
    "# Comparison between error obtained through different extrinsic calibration\n",
    "\n",
    "The following graph compares the error obtained with the points used for the calibration, for all the methods.\n",
    "\n",
    "- Two-points resection\n",
    "- Static GCP calibration\n",
    "- Dynamic GCP calibration\n",
    "- Dynamic inter prism calibration\n",
    "\n",
    "Diplay also static GCP error on points at the end of the notebook"
   ]
  },
  {
   "cell_type": "code",
   "execution_count": null,
   "outputs": [],
   "source": [
    "import numpy as np\n",
    "import importlib\n",
    "import matplotlib.pyplot as plt\n",
    "import matplotlib as mpl\n",
    "import warnings\n",
    "warnings.filterwarnings('ignore')\n",
    "import scripts.theodolite_utils as theodo_u\n",
    "import scripts.theodolite_plot_function as theodo_p\n",
    "import scripts.theodolite_function as theodo_f\n",
    "import scripts.resection_functions as theodo_r\n",
    "mpl.rcParams['text.usetex'] = False\n",
    "\n",
    "def ticks2(y, pos):\n",
    "    return '%1.1e' % np.exp(y)"
   ],
   "metadata": {
    "collapsed": false
   }
  },
  {
   "cell_type": "markdown",
   "source": [
    "# 1. Two-points resection"
   ],
   "metadata": {
    "collapsed": false
   }
  },
  {
   "cell_type": "code",
   "execution_count": null,
   "id": "144095d1-07eb-40c8-bc36-8a9f89c9190c",
   "metadata": {},
   "outputs": [],
   "source": [
    "# This cell gathers result for the two-points resection\n",
    "theodo_u = importlib.reload(theodo_u)\n",
    "\n",
    "name_file_distance_cp = \"list_error/error_distance_resection_cp.csv\"\n",
    "name_file_distance_inter_prism = \"list_error/error_distance_resection_experiment.csv\"\n",
    "\n",
    "file_error_list = [\n",
    "        \"../data/20220711-1/\",\n",
    "        \"../data/20220715-1/\"\n",
    "]\n",
    "\n",
    "errors_linear_two_points = []\n",
    "errors_linear_two_points_exp = []\n",
    "\n",
    "for i in file_error_list:\n",
    "    error_cp = theodo_u.read_error_list_file_alone(i+name_file_distance_cp)\n",
    "    for value in error_cp:\n",
    "        errors_linear_two_points.append(value)\n",
    "    error_dyna = theodo_u.read_error_list_file_alone(i+name_file_distance_inter_prism)\n",
    "    for value in error_dyna:\n",
    "        errors_linear_two_points_exp.append(value)"
   ]
  },
  {
   "cell_type": "markdown",
   "source": [
    "# 2. GCP calibration"
   ],
   "metadata": {
    "collapsed": false
   }
  },
  {
   "cell_type": "code",
   "execution_count": null,
   "id": "6b79c0df-1743-4cd7-9719-e01e66e5d1f9",
   "metadata": {},
   "outputs": [],
   "source": [
    "# This cell gathers result for the static control points for the graphic below\n",
    "theodo_u = importlib.reload(theodo_u)\n",
    "\n",
    "name_file_static_cp = \"list_error/error_static_cp_cp.csv\"\n",
    "name_file_static_inter_prism = \"list_error/error_static_cp_experiment.csv\"\n",
    "\n",
    "file_error_list = [\n",
    "    \"../data/20220224/\",\n",
    "    \"../data/20220307/\",\n",
    "    # \"../data/20220312/\",\n",
    "    \"../data/20220314/\",\n",
    "    \"../data/20220316/\",\n",
    "    \"../data/20220331-1/\",\n",
    "    # \"../data/20220427-1/\",\n",
    "    # \"../data/20220427-2/\",\n",
    "    # \"../data/20220505-1/\",\n",
    "    # \"../data/20220513-1/\",\n",
    "    \"../data/20220513-4/\",\n",
    "    # \"../data/20220523-1/\",\n",
    "    # \"../data/20220525-1/\",\n",
    "    \"../data/20220622-1/\",\n",
    "    \"../data/20220630-1/\",\n",
    "    \"../data/20220711-1/\",\n",
    "    # \"../data/20220715-1/\",\n",
    "    # \"../data/20220717-1/\",\n",
    "    # \"../data/20220910-1/\",\n",
    "]\n",
    "\n",
    "errors_linear_static_cp = []\n",
    "errors_linear_static_cp_exp = []\n",
    "\n",
    "for i in file_error_list:\n",
    "    error_cp = theodo_u.read_error_list_file_alone(i+name_file_static_cp)\n",
    "    for value in error_cp:\n",
    "        errors_linear_static_cp.append(value)\n",
    "    error_dyna = theodo_u.read_error_list_file_alone(i+name_file_static_inter_prism)\n",
    "    for value in error_dyna:\n",
    "        errors_linear_static_cp_exp.append(value)"
   ]
  },
  {
   "cell_type": "markdown",
   "source": [
    "# 3. Dynamic GCP calibration"
   ],
   "metadata": {
    "collapsed": false
   }
  },
  {
   "cell_type": "code",
   "execution_count": null,
   "id": "e22199a8",
   "metadata": {},
   "outputs": [],
   "source": [
    "# This cell gathers result for the dynamic control points for the graphic below\n",
    "# With a linear interpolation\n",
    "theodo_u = importlib.reload(theodo_u)\n",
    "\n",
    "name_file_dynamic_cp = \"list_error/errors_linear_dynamic_cp_cp.csv\"\n",
    "name_file_dynamic_inter_prism = \"list_error/errors_linear_dynamic_cp_experiment.csv\"\n",
    "\n",
    "file_error_list = [\n",
    "    # \"../data/20220711-1/\",\n",
    "    \"../data/20220715-2/\",\n",
    "    \"../data/20220715-3/\",\n",
    "    \"../data/20220717-5/\",\n",
    "    \"../data/20220910-1/\",\n",
    "    \"../data/20220910-2/\",\n",
    "    \"../data/20220910-3/\",\n",
    "    \"../data/20220910-4/\",\n",
    "    \"../data/20220910-5/\",\n",
    "    # \"../data/20220910-6/\",\n",
    "]\n",
    "\n",
    "errors_linear_dynamic_cp = []\n",
    "errors_linear_dynamic_cp_exp = []\n",
    "\n",
    "for i in file_error_list:\n",
    "    error_cp = theodo_u.read_error_list_file_alone(i+name_file_dynamic_cp)\n",
    "    for value in error_cp:\n",
    "        errors_linear_dynamic_cp.append(value)\n",
    "    error_dyna = theodo_u.read_error_list_file_alone(i+name_file_dynamic_inter_prism)\n",
    "    for value in error_dyna:\n",
    "        errors_linear_dynamic_cp_exp.append(value)"
   ]
  },
  {
   "cell_type": "markdown",
   "source": [
    "# 4. Dynamic inter-prism calibration"
   ],
   "metadata": {
    "collapsed": false
   }
  },
  {
   "cell_type": "code",
   "execution_count": null,
   "id": "49213796",
   "metadata": {},
   "outputs": [],
   "source": [
    "theodo_u = importlib.reload(theodo_u)\n",
    "\n",
    "name_file_4dof_cp = \"list_error/errors_linear_dynamic_cp_4dof.csv\"\n",
    "name_file_4dof_dynamic = \"list_error/errors_linear_dynamic_cp_experiment_4dof.csv\"\n",
    "\n",
    "file_error_list = [\n",
    "                    '../data/20220224/',\n",
    "                    '../data/20220307/',\n",
    "                    '../data/20220314/',\n",
    "                    '../data/20220316/',\n",
    "                    '../data/20220331-2/',\n",
    "                    '../data/20220513-1/',\n",
    "                    '../data/20220513-2/',\n",
    "                    '../data/20220513-3/',\n",
    "                    '../data/20220513-4/',\n",
    "                    '../data/20220513-6/',\n",
    "                    '../data/20220525-1/',\n",
    "                    '../data/20220525-2/',\n",
    "                    '../data/20220622-1/',\n",
    "                    '../data/20220622-2/',\n",
    "                    '../data/20220630-1/',\n",
    "                    '../data/20220630-2/',\n",
    "                    '../data/20220711-2/',\n",
    "]\n",
    "\n",
    "errors_linear_inter_prism = []\n",
    "errors_linear_inter_prism_exp = []\n",
    "\n",
    "for i in file_error_list:\n",
    "    error_cp = theodo_u.read_error_list_file_alone(i+name_file_4dof_cp)\n",
    "    for value in error_cp:\n",
    "        errors_linear_inter_prism.append(value)\n",
    "    error_dyna = theodo_u.read_error_list_file_alone(i+name_file_4dof_dynamic)\n",
    "    for value in error_dyna:\n",
    "        errors_linear_inter_prism_exp.append(value)"
   ]
  },
  {
   "cell_type": "markdown",
   "source": [
    "# Check results individually"
   ],
   "metadata": {
    "collapsed": false
   }
  },
  {
   "cell_type": "code",
   "execution_count": null,
   "outputs": [],
   "source": [
    "%matplotlib notebook\n",
    "fig = plt.figure(figsize =(10, 5))\n",
    "ax = fig.add_subplot(111)\n",
    "lis = [errors_linear_dynamic_cp,errors_linear_dynamic_cp_exp]\n",
    "#lis = [errors_linear_inter_prism,errors_linear_inter_prism_exp]\n",
    "\n",
    "box = ax.boxplot(lis, notch=True, patch_artist=True, vert = 1, showfliers=False, showmeans=False)\n",
    "plt.xticks([1,2],\n",
    "               [\"L-GCP \\n\\n\\n M: \"+str(round(np.median(lis[0]),2))+\"mm \\n Std: \"+str(round(np.std(lis[0]),2))+\"mm\\n\"+str(round(len(lis[0])/3))+\" pts\",\n",
    "            \"L-inter-prism \\n\\n\\n M: \"+str(round(np.median(lis[1]),2))+\"mm \\n Std: \"+str(round(np.std(lis[1]),2))+\"mm\\n\"+str(round(len(lis[1])/3))+\" pts\",\n",
    "           ])\n",
    "colors_box = ['#069AF3','#069AF3']\n",
    "\n",
    "for patch, color in zip(box['boxes'], colors_box):\n",
    "    patch.set_facecolor(color)\n",
    "\n",
    "ax.set_ylabel(\"Resection inter-prism distance error [mm]\")\n",
    "fig.tight_layout()\n",
    "#fig.savefig(\"./figs/inter-prism-distance-error-all-4dof.pdf\")\n",
    "plt.show()"
   ],
   "metadata": {
    "collapsed": false
   }
  },
  {
   "cell_type": "markdown",
   "source": [
    "# Display results of comparison"
   ],
   "metadata": {
    "collapsed": false
   }
  },
  {
   "cell_type": "code",
   "execution_count": null,
   "outputs": [],
   "source": [
    "%matplotlib inline\n",
    "mpl.rcParams['text.usetex'] = True\n",
    "mpl.use('pdf')\n",
    "width = 3.487\n",
    "height = width/1.618\n",
    "\n",
    "plt.rc('font', family='serif', serif='Times')\n",
    "plt.rc('text', usetex=True)\n",
    "plt.rc('xtick', labelsize=10)\n",
    "plt.rc('ytick', labelsize=10)\n",
    "plt.rc('axes', labelsize=10)\n",
    "font_size = 10\n",
    "\n",
    "fig = plt.figure()\n",
    "ax = fig.add_subplot(111)\n",
    "\n",
    "box = ax.boxplot([errors_linear_two_points, errors_linear_two_points_exp,\n",
    "                  errors_linear_static_cp, errors_linear_static_cp_exp,\n",
    "                  errors_linear_dynamic_cp, errors_linear_dynamic_cp_exp,\n",
    "                  errors_linear_inter_prism, errors_linear_inter_prism_exp], notch=False, patch_artist=True, vert = 1, showfliers=False, showmeans=False)\n",
    "\n",
    "colors_box = ['#069AF3', '#EF4026', '#069AF3', '#EF4026', '#069AF3', '#EF4026', '#069AF3', '#EF4026']\n",
    "\n",
    "for patch, color in zip(box['boxes'], colors_box):\n",
    "    patch.set_facecolor(color)\n",
    "\n",
    "for median in box['medians']:\n",
    "    median.set_color('black')\n",
    "\n",
    "# legend_elements = [Patch(facecolor='#069AF3', edgecolor='black', label='Reference points'),\n",
    "#                    Patch(facecolor='#EF4026', edgecolor='black', label='Inter-prism')]\n",
    "# plt.text(1.3, 20, \"Static \\ntwo-points\", horizontalalignment='center',fontsize = font_size)\n",
    "# plt.text(3.5, 20, \"Static \\ncontrol points\", horizontalalignment='center',fontsize = font_size)\n",
    "# plt.text(5.5, 20, \"Dynamic\\ncontrol points\", horizontalalignment='center',fontsize = font_size)\n",
    "# plt.text(7.5, 20, \"Dynamic\\ninter-prism\", horizontalalignment='center',fontsize = font_size)\n",
    "plt.text(3.5, 26, \"Static\", horizontalalignment='center',fontsize = font_size-1, va=\"bottom\")\n",
    "plt.text(5.5, 26, \"Dynamic\", horizontalalignment='center',fontsize = font_size-1, va=\"bottom\")\n",
    "\n",
    "# ellipseA = Ellipse(xy=(1.3, 20), width=0.6, height=0.25*38.2/2, color='gray', fill=True)\n",
    "# ax.add_patch(ellipseA)\n",
    "\n",
    "# ellipseB = Ellipse(xy=(3.5, 20), width=0.6, height=0.25*38.2/2, color='gray', fill=True)\n",
    "# ax.add_patch(ellipseB)\n",
    "\n",
    "# ellipseC = Ellipse(xy=(5.5, 20), width=0.6, height=0.25*38.2/2, color='gray', fill=True)\n",
    "# ax.add_patch(ellipseC)\n",
    "\n",
    "# ellipseD = Ellipse(xy=(7.5, 20), width=0.6, height=0.25*38.2/2, color='gray', fill=True)\n",
    "# ax.add_patch(ellipseD)\n",
    "ax.plot(1.3, 20, 'o', color='gray',alpha=0.8, markersize=14)\n",
    "ax.plot(3.5, 20, 'o', color='gray',alpha=0.8, markersize=14)\n",
    "ax.plot(5.5, 20, 'o', color='gray',alpha=0.8, markersize=14)\n",
    "ax.plot(7.7, 20, 'o', color='gray',alpha=0.8, markersize=14)\n",
    "\n",
    "plt.text(1.3, 20, 'A', ha='center', va='center', fontsize=font_size)\n",
    "plt.text(3.5, 20, 'B', ha='center', va='center', fontsize=font_size)\n",
    "plt.text(5.5, 20, 'C', ha='center', va='center', fontsize=font_size)\n",
    "plt.text(7.7, 20, 'D', ha='center', va='center', fontsize=font_size)\n",
    "\n",
    "plt.axvline(x=2.5, color='gray', lw=0.25, ls='dashed')\n",
    "# plt.axvline(x=4.5, ymax=0.90, color='gray', lw=0.25)\n",
    "plt.axvline(x=6.5, color='gray', lw=0.25, ls='dashed')\n",
    "\n",
    "plt.xticks(np.arange(1,9),\n",
    "           ['RP', 'Inter', 'RP', 'Inter', 'RP', 'Inter', 'RP', 'Inter'],\n",
    "           fontsize=font_size)\n",
    "\n",
    "plt.yticks(fontsize=font_size)\n",
    "\n",
    "font_size_numbers = 7\n",
    "plt.text(1, np.round(np.median(errors_linear_two_points),1)+0.4, str(np.round(np.median(errors_linear_two_points),1)), horizontalalignment='center',fontsize = font_size_numbers)\n",
    "plt.text(2, np.round(np.median(errors_linear_two_points_exp),1)+0.4, str(np.round(np.median(errors_linear_two_points_exp),1)), horizontalalignment='center',fontsize = font_size_numbers)\n",
    "plt.text(3.46, np.round(np.median(errors_linear_static_cp),1), str(np.round(np.median(errors_linear_static_cp),1)), horizontalalignment='center', va='center',fontsize = font_size_numbers)\n",
    "plt.text(4, np.round(np.median(errors_linear_static_cp_exp),1)+0.4, str(np.round(np.median(errors_linear_static_cp_exp),1)), horizontalalignment='center', fontsize = font_size_numbers)\n",
    "plt.text(5, np.round(np.median(errors_linear_dynamic_cp),1)+0.4, str(np.round(np.median(errors_linear_dynamic_cp),1)), horizontalalignment='center',fontsize = font_size_numbers)\n",
    "plt.text(6, np.round(np.median(errors_linear_dynamic_cp_exp),1)+0.4, str(np.round(np.median(errors_linear_dynamic_cp_exp),1)), horizontalalignment='center',fontsize = font_size_numbers)\n",
    "plt.text(7, np.round(np.median(errors_linear_inter_prism),1)+0.9, str(np.round(np.median(errors_linear_inter_prism),1)), horizontalalignment='center',fontsize = font_size_numbers)\n",
    "plt.text(8, np.round(np.median(errors_linear_inter_prism_exp),1)+0.4, str(np.round(np.median(errors_linear_inter_prism_exp),1)), horizontalalignment='center',fontsize = font_size_numbers)\n",
    "\n",
    "plt.text(0.77, np.round(np.percentile(errors_linear_two_points, 75, interpolation='midpoint'),1)+1, \"IQR: \"+str(np.round(np.percentile(errors_linear_two_points, 75, interpolation='midpoint')-np.percentile(errors_linear_two_points, 25, interpolation='midpoint'),1)), horizontalalignment='center',fontsize = font_size_numbers, rotation=90)\n",
    "# plt.text(1.85, np.round(np.percentile(error_distance_resection_experiment, 75, interpolation='midpoint'),1)+1, \"IQR: \"+str(np.round(np.percentile(error_distance_resection_experiment, 75, interpolation='midpoint')-np.percentile(error_distance_resection_experiment, 25, interpolation='midpoint'),1)), horizontalalignment='center',fontsize = font_size_numbers, rotation=90)\n",
    "plt.text(2.77, np.round(np.percentile(errors_linear_static_cp, 75, interpolation='midpoint'),1)+1, \"IQR: \"+str(np.round(np.percentile(errors_linear_static_cp, 75, interpolation='midpoint')-np.percentile(errors_linear_static_cp, 25, interpolation='midpoint'),1)), horizontalalignment='center',fontsize = font_size_numbers, rotation=90)\n",
    "plt.text(3.77, np.round(np.percentile(errors_linear_static_cp_exp, 75, interpolation='midpoint'),1)+1, \"IQR: \"+str(np.round(np.percentile(errors_linear_static_cp_exp, 75, interpolation='midpoint')-np.percentile(errors_linear_static_cp_exp, 25, interpolation='midpoint'),1)), horizontalalignment='center',fontsize = font_size_numbers, rotation=90)\n",
    "plt.text(4.85, np.round(np.percentile(errors_linear_dynamic_cp, 75, interpolation='midpoint'),1)+1, \"IQR: \"+str(np.round(np.percentile(errors_linear_dynamic_cp, 75, interpolation='midpoint')-np.percentile(errors_linear_dynamic_cp, 25, interpolation='midpoint'),1)), horizontalalignment='center',fontsize = font_size_numbers, rotation=90)\n",
    "plt.text(5.85, np.round(np.percentile(errors_linear_dynamic_cp_exp, 75, interpolation='midpoint'),1)+1, \"IQR: \"+str(np.round(np.percentile(errors_linear_dynamic_cp_exp, 75, interpolation='midpoint')-np.percentile(errors_linear_dynamic_cp_exp, 25, interpolation='midpoint'),1)), horizontalalignment='center',fontsize = font_size_numbers, rotation=90)\n",
    "# plt.text(6.85, np.round(np.percentile(error_linear_inter_prism_cp, 75, interpolation='midpoint'),1)+1, \"IQR: \"+str(np.round(np.percentile(error_linear_inter_prism_cp, 75, interpolation='midpoint')-np.percentile(error_linear_inter_prism_cp, 25, interpolation='midpoint'),1)), horizontalalignment='center',fontsize = font_size_numbers, rotation=90)\n",
    "plt.text(7.77, np.round(np.percentile(errors_linear_inter_prism_exp, 75, interpolation='midpoint'),1)+1, \"IQR: \"+str(np.round(np.percentile(errors_linear_inter_prism_exp, 75, interpolation='midpoint')-np.percentile(errors_linear_inter_prism_exp, 25, interpolation='midpoint'),1)), horizontalalignment='center',fontsize = font_size_numbers, rotation=90)\n",
    "\n",
    "# plt.yscale(\"log\")\n",
    "# plt.legend(handles=legend_elements, bbox_to_anchor=(0, 0.935, 1, 0), loc=\"center\", ncol=2, fontsize = font_size, framealpha=1)\n",
    "#ax.legend(handles=legend_elements, loc='upper left',fontsize = font_size)\n",
    "ax.set_ylabel(\"Metric error [mm]\",fontsize = font_size)\n",
    "\n",
    "plt.tick_params(left = True, right = False , labelleft = True ,\n",
    "                labelbottom = True, bottom = True)\n",
    "plt.xlim(0.5,8.5)\n",
    "plt.ylim(top=28.5, bottom=-0.2)\n",
    "# plt.axvspan(0, 4.5, facecolor='g', alpha=0.5, zorder=-100)\n",
    "# plt.axvspan(4.5, 9, facecolor='y', alpha=0.5, zorder=-100)\n",
    "ax.fill_betweenx([-5, 100], -5, 4.5, color='tab:green' ,alpha = 0.2)\n",
    "ax.fill_betweenx([-5, 100], 4.5, 15, color='tab:orange' ,alpha = 0.2)\n",
    "# plt.show()\n",
    "# ax.yaxis.set_major_formatter(FuncFormatter(ticks2))\n",
    "# ax.get_yaxis().set_major_formatter(mpl.ticker.ScalarFormatter())\n",
    "fig.subplots_adjust(left=.13, bottom=.13, right=.99, top=.97)\n",
    "fig.set_size_inches(width, height)\n",
    "fig.savefig(\"../figs/comparison_resection_method.pdf\")\n",
    "#plt.show()\n",
    "mpl.rcParams.update(mpl.rcParamsDefault)"
   ],
   "metadata": {
    "collapsed": false
   }
  },
  {
   "cell_type": "markdown",
   "source": [
    "# Display the GCP with a color map based on the error obtained on each of them."
   ],
   "metadata": {
    "collapsed": false
   }
  },
  {
   "cell_type": "code",
   "execution_count": null,
   "outputs": [],
   "source": [
    "theodo_u = importlib.reload(theodo_u)\n",
    "marker_file_name = '../data/20220711-1/total_stations/GCP.txt'\n",
    "ts1_static, ts2_static, ts3_static, T1_static, T12_static, T13_static = theodo_u.read_marker_file(file_name=marker_file_name, theodolite_reference_frame=1)\n",
    "\n",
    "cp1 = ts1_static\n",
    "cp2 = (T12_static @ ts2_static)\n",
    "cp3 = (T13_static @ ts3_static)\n",
    "error_lin_dyn = []\n",
    "error_gp_dyn = []\n",
    "error_lin_ip = []\n",
    "error_gp_ip = []\n",
    "\n",
    "cp1_t = cp1.T\n",
    "for i in range(len(cp1[0])):\n",
    "    error_lin_dyn.append(np.mean([errors_linear_dynamic_cp[0+3*i], errors_linear_dynamic_cp[1+3*i], errors_linear_dynamic_cp[2+3*i]])/np.linalg.norm(cp1_t[i]))\n",
    "    error_lin_ip.append(np.mean([errors_linear_inter_prism[0+3*i], errors_linear_inter_prism[1+3*i], errors_linear_inter_prism[2+3*i]])/np.linalg.norm(cp1_t[i]))"
   ],
   "metadata": {
    "collapsed": false
   }
  },
  {
   "cell_type": "code",
   "execution_count": null,
   "outputs": [],
   "source": [
    "fig = plt.figure(figsize=(10,7))\n",
    "scat1=plt.scatter([cp1[0]], [cp1[1]], c=error_lin_ip, cmap='viridis')\n",
    "fig.colorbar(scat1)\n",
    "plt.xlabel(\"X [m]\")\n",
    "plt.ylabel(\"Y [m]\")\n",
    "fig.suptitle('Error on the static GCP with the inter-prism results [mm]', fontsize=16)\n",
    "plt.show()"
   ],
   "metadata": {
    "collapsed": false
   }
  },
  {
   "cell_type": "code",
   "execution_count": null,
   "outputs": [],
   "source": [
    "fig = plt.figure(figsize=(10,7))\n",
    "scat1=plt.scatter([cp1[0]], [cp1[1]], c=error_lin_dyn, cmap='viridis')\n",
    "fig.colorbar(scat1)\n",
    "plt.xlabel(\"X [m]\")\n",
    "plt.ylabel(\"Y [m]\")\n",
    "fig.suptitle('Error on the static GCP with the dynamic GCP results [mm]', fontsize=16)\n",
    "plt.show()"
   ],
   "metadata": {
    "collapsed": false
   }
  },
  {
   "cell_type": "code",
   "execution_count": null,
   "id": "10560c3a-59f8-4e87-98cb-d09fe0800b74",
   "metadata": {},
   "outputs": [],
   "source": []
  }
 ],
 "metadata": {
  "kernelspec": {
   "name": "python3",
   "language": "python",
   "display_name": "Python 3 (ipykernel)"
  },
  "language_info": {
   "codemirror_mode": {
    "name": "ipython",
    "version": 3
   },
   "file_extension": ".py",
   "mimetype": "text/x-python",
   "name": "python",
   "nbconvert_exporter": "python",
   "pygments_lexer": "ipython3",
   "version": "3.8.14"
  }
 },
 "nbformat": 4,
 "nbformat_minor": 5
}
