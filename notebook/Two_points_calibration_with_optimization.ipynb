{
 "cells": [
  {
   "cell_type": "markdown",
   "source": [
    "# Two-points calibration with cost function\n",
    "\n",
    "Notebook which uses a cost function to do the two-points calibration"
   ],
   "metadata": {
    "collapsed": false
   }
  },
  {
   "cell_type": "code",
   "execution_count": null,
   "outputs": [],
   "source": [
    "import numpy as np\n",
    "import importlib\n",
    "import matplotlib.pyplot as plt\n",
    "import scripts.theodolite_plot_function as theodo_p\n",
    "import scripts.resection_functions as theodo_r"
   ],
   "metadata": {
    "collapsed": false
   }
  },
  {
   "cell_type": "code",
   "execution_count": null,
   "id": "06360339",
   "metadata": {},
   "outputs": [],
   "source": [
    "# Set relative values of geodesic pillars and compute the solution\n",
    "theodo_r = importlib.reload(theodo_r)\n",
    "\n",
    "path = \"../data/20220711-1/\"\n",
    "pilier_A = np.array([0, 0, 0, 1]).T\n",
    "pilier_B = np.array([0, np.sqrt(181.016**2 - 0.323**2), 0.323, 1])\n",
    "pilier_C = np.array([0, np.sqrt(363.492**2 - 1.038**2), 1.038, 1])\n",
    "pilier_D = np.array([0, np.sqrt(548.578**2 - 2.374**2), 2.374, 1])\n",
    "pilier_ref = np.array([pilier_A, pilier_B, pilier_C, pilier_D]).T\n",
    "\n",
    "TW1,TW2,TW3,cp_1_all,cp_2_all,cp_3_all,error_all,errors1, errors2, errors3, _, _ = theodo_r.geomatic_resection_optimization_on_pose(path+'total_stations/Two_points.txt', pilier_ref, \"\", [], \"\")"
   ]
  },
  {
   "cell_type": "code",
   "execution_count": null,
   "id": "faecb492",
   "metadata": {},
   "outputs": [],
   "source": [
    "# Display the error for all data with the GCP metric (here GCP=geodesic pillars)\n",
    "%matplotlib notebook\n",
    "fig = plt.figure(figsize =(6, 4))\n",
    "ax = fig.add_subplot(111)\n",
    "\n",
    "box = ax.boxplot(error_all, notch=True, patch_artist=True, vert = 1, showfliers=False, showmeans=False)\n",
    "plt.xticks([1], [\"TS \\n\\n Median: \"+str(round(np.median(error_all),2))+\"mm \\n Std: \"+str(round(np.std(error_all),2))+\"mm\"])\n",
    "colors_box = ['#069AF3']\n",
    "\n",
    "for patch, color in zip(box['boxes'], colors_box):\n",
    "    patch.set_facecolor(color)\n",
    "        \n",
    "ax.set_ylabel(\"Resection error in-between control points [mm]\")\n",
    "fig.tight_layout()\n",
    "plt.show()"
   ]
  },
  {
   "cell_type": "code",
   "execution_count": null,
   "id": "7da0a0c4",
   "metadata": {},
   "outputs": [],
   "source": [
    "# Display for the three different RTS error position of GCP compare to the true values\n",
    "%matplotlib notebook\n",
    "fig = plt.figure(figsize =(8, 4))\n",
    "ax = fig.add_subplot(111)\n",
    "\n",
    "box = ax.boxplot([errors1, errors2, errors3], notch=True, patch_artist=True, vert = 1, showfliers=False, showmeans=False)\n",
    "plt.xticks([1, 2, 3], [\"TS1 \\n\\n Median: \"+str(round(np.median(errors1),2))+\"mm \\n Std: \"+str(round(np.std(errors1),2))+\"mm\",\n",
    "                       \"TS2 \\n\\n Median: \"+str(round(np.median(errors2),2))+\"mm \\n Std: \"+str(round(np.std(errors2),2))+\"mm\",\n",
    "                       \"TS3 \\n\\n Median: \"+str(round(np.median(errors3),2))+\"mm \\n Std: \"+str(round(np.std(errors3),2))+\"mm\"])\n",
    "colors_box = ['#069AF3', '#069AF3', '#069AF3']\n",
    "\n",
    "for patch, color in zip(box['boxes'], colors_box):\n",
    "    patch.set_facecolor(color)\n",
    "        \n",
    "ax.set_ylabel(\"Resection errors compared to reference [mm]\")\n",
    "fig.tight_layout()\n",
    "plt.show()"
   ]
  },
  {
   "cell_type": "code",
   "execution_count": null,
   "id": "ee987fc7",
   "metadata": {},
   "outputs": [],
   "source": [
    "# Display positions of computed solutions\n",
    "%matplotlib notebook\n",
    "theodo_p = importlib.reload(theodo_p)\n",
    "theodo_p.plot_trajectories_prism(3, cp_1_all, cp_2_all, cp_3_all, TW1, TW2, TW3, 0, 0,\"example.pdf\",0)\n",
    "fig.tight_layout()"
   ]
  },
  {
   "cell_type": "code",
   "execution_count": null,
   "id": "534cf239-a5d9-4a42-a312-de7a22d6e964",
   "metadata": {},
   "outputs": [],
   "source": []
  }
 ],
 "metadata": {
  "kernelspec": {
   "display_name": "Python 3 (ipykernel)",
   "language": "python",
   "name": "python3"
  },
  "language_info": {
   "codemirror_mode": {
    "name": "ipython",
    "version": 3
   },
   "file_extension": ".py",
   "mimetype": "text/x-python",
   "name": "python",
   "nbconvert_exporter": "python",
   "pygments_lexer": "ipython3",
   "version": "3.6.9"
  }
 },
 "nbformat": 4,
 "nbformat_minor": 5
}
