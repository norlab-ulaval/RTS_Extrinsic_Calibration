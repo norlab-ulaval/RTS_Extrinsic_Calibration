{
 "cells": [
  {
   "cell_type": "markdown",
   "source": [
    "# Check_raw_data_deployment\n",
    "\n",
    "Notebook used to check the raw data coming from one deployment and see if everything is correct before processing them and to use them:\n",
    "1. Sensors extrinsic calibration values\n",
    "2. Static GCP calibration result and accuracy\n",
    "3. Robotic total stations data\n",
    "4. GNSS data\n",
    "\n",
    "Files of raw data are saved in the repository of the deployment.\n"
   ],
   "metadata": {
    "collapsed": false
   }
  },
  {
   "cell_type": "code",
   "execution_count": null,
   "metadata": {},
   "outputs": [],
   "source": [
    "import numpy as np\n",
    "import importlib\n",
    "import matplotlib.pyplot as plt\n",
    "import scripts.theodolite_utils as theodo_u\n",
    "import scripts.theodolite_plot_function as theodo_p\n",
    "import scripts.theodolite_function as theodo_f\n",
    "\n",
    "# Important: set path to deployment data\n",
    "path = \"../data/20220224/\""
   ]
  },
  {
   "cell_type": "markdown",
   "source": [
    "# 1. Sensors extrinsic calibration results"
   ],
   "metadata": {
    "collapsed": false
   }
  },
  {
   "cell_type": "code",
   "execution_count": null,
   "outputs": [],
   "source": [
    "# Function to read sensors extrinsic calibration file and see the inter-prism and inter-GNSS distance (if GNSS was used during the deployment)\n",
    "theodo_u = importlib.reload(theodo_u)\n",
    "\n",
    "extrinsic_calibration_results = theodo_u.read_extrinsic_calibration_results_file(path+\"sensors_extrinsic_calibration/calibration_results.csv\")\n",
    "print(\"Inter-prism distance measured [m]: \", extrinsic_calibration_results[0:3])\n",
    "if(len(extrinsic_calibration_results)>3):\n",
    "    print(\"Inter-GNSS distance measured [m]: \", extrinsic_calibration_results[3:6])"
   ],
   "metadata": {
    "collapsed": false
   }
  },
  {
   "cell_type": "markdown",
   "source": [
    "# 2. Static GCP calibration result and accuracy\n"
   ],
   "metadata": {
    "collapsed": false
   }
  },
  {
   "cell_type": "code",
   "execution_count": null,
   "metadata": {},
   "outputs": [],
   "source": [
    "# Function used to show the resection accuracy\n",
    "# Read markers file of grand axe and show them\n",
    "\n",
    "%matplotlib notebook\n",
    "theodo_u = importlib.reload(theodo_u)\n",
    "theodo_p = importlib.reload(theodo_p)\n",
    "\n",
    "path_file_GCP = \"total_stations/GCP.txt\"\n",
    "file_name = path+path_file_GCP\n",
    "\n",
    "trimble_1, trimble_2, trimble_3, T_1_grand, T_2_grand, T_3_grand = theodo_u.read_marker_file(file_name, 1, 1)\n",
    "\n",
    "tp1 = T_1_grand@trimble_1\n",
    "tp2 = T_2_grand@trimble_2\n",
    "tp3 = T_3_grand@trimble_3\n",
    "\n",
    "save_tf = False\n",
    "name_file = path + \"list_tf/GCP_result_all_points_considered.csv\"\n",
    "if(save_tf):\n",
    "    theodo_u.save_tf(T_1_grand, T_2_grand, T_3_grand, name_file)\n",
    "\n",
    "error = []\n",
    "for i,j,k in zip(tp1,tp2,tp3):\n",
    "    dist_12 = np.linalg.norm(i-j)\n",
    "    dist_13 = np.linalg.norm(i-k)\n",
    "    dist_23 = np.linalg.norm(k-j)\n",
    "    error.append(dist_12)\n",
    "    error.append(dist_13)\n",
    "    error.append(dist_23)\n",
    "print(\"Average error during the calibration: \", round(np.mean(error)*1000,3), \"mm\")\n",
    "\n",
    "plot_3d = 0   # Variable to plot in 3d, 0 = 2D, 1 = 3D\n",
    "save_pdf = 0   # Variable to save file in pdf\n",
    "file_pdf = path + \"figures/GCP_calibration_result.pdf\"   # file name to save plot in pdf\n",
    "theodo_p.plot_trajectories_prism(3, tp1, tp2, tp3, T_1_grand, T_2_grand, T_3_grand, plot_3d, save_pdf,file_pdf,1)"
   ]
  },
  {
   "cell_type": "markdown",
   "source": [
    "# 3. Robotic total stations data"
   ],
   "metadata": {
    "collapsed": false
   }
  },
  {
   "cell_type": "code",
   "execution_count": null,
   "metadata": {},
   "outputs": [],
   "source": [
    "# Read rosbag of grand axe and show the trajectory\n",
    "%matplotlib notebook\n",
    "theodo_u = importlib.reload(theodo_u)\n",
    "theodo_p = importlib.reload(theodo_p)\n",
    "\n",
    "# Important: change path to rosbag\n",
    "file = \"/home/maxime/data/IROS_2022/20220224_TS/2022-02-24-15-34-38.bag\"\n",
    "\n",
    "Tf = []\n",
    "Tf.append(T_1_grand)\n",
    "Tf.append(T_2_grand)\n",
    "Tf.append(T_3_grand)\n",
    "trajectory_trimble_1, trajectory_trimble_2, trajectory_trimble_3, time_trimble_1, time_trimble_2, time_trimble_3 = theodo_u.read_rosbag_theodolite_with_tf(file, Tf)\n",
    "trimble_1 = np.array(trajectory_trimble_1).T\n",
    "trimble_2 = np.array(trajectory_trimble_2).T\n",
    "trimble_3 = np.array(trajectory_trimble_3).T\n",
    "\n",
    "%matplotlib inline\n",
    "plot_3d = 0   # Variable to plot in 3d, 0 = 2D, 1 = 3D\n",
    "save_pdf = 0   # Variable to save file in pdf\n",
    "file_pdf = path + \"figures/Raw_data_TS_with_GCP_calibration.pdf\"   # file name to save plot in pdf\n",
    "theodo_p.plot_trajectories_prism(3, trimble_1, trimble_2, trimble_3, T_1_grand, T_2_grand, T_3_grand, plot_3d, save_pdf, file_pdf, 1)\n",
    "\n",
    "# Convert point data to csv file\n",
    "# Trajectory total station (time, point data) x3\n",
    "if(save_pdf==1):\n",
    "    theodo_u.Convert_raw_data_TS_with_GCP_calibration_to_csv(time_trimble_1, np.array(trimble_1).T, path + \"total_stations/trimble1.csv\")\n",
    "    theodo_u.Convert_raw_data_TS_with_GCP_calibration_to_csv(time_trimble_2, np.array(trimble_2).T, path + \"total_stations/trimble2.csv\")\n",
    "    theodo_u.Convert_raw_data_TS_with_GCP_calibration_to_csv(time_trimble_3, np.array(trimble_3).T, path + \"total_stations/trimble3.csv\")\n"
   ]
  },
  {
   "cell_type": "markdown",
   "source": [
    "# 4. GNSS data"
   ],
   "metadata": {
    "collapsed": false
   }
  },
  {
   "cell_type": "code",
   "execution_count": null,
   "metadata": {},
   "outputs": [],
   "source": [
    "# Read GPS data and compute the inter-distance between them\n",
    "theodo_u = importlib.reload(theodo_u)\n",
    "theodo_f = importlib.reload(theodo_f)\n",
    "\n",
    "GPS_front_raw_data = theodo_u.read_gps_file(path + \"gps_data/front.pos\", 9)\n",
    "GPS_back_raw_data = theodo_u.read_gps_file(path + \"gps_data/back.pos\", 9)\n",
    "GPS_middle_raw_data = theodo_u.read_gps_file(path + \"gps_data/middle.pos\", 9)\n",
    "\n",
    "limit_data_front = np.array([0,1000000,0])\n",
    "limit_data_back = np.array([0,1000000,0])\n",
    "limit_data_middle = np.array([0,1000000,0])\n",
    "GPS_front_utm_data = theodo_u.utm_gps_data(GPS_front_raw_data, limit_data_front, False)\n",
    "GPS_back_utm_data = theodo_u.utm_gps_data(GPS_back_raw_data, limit_data_back, False)\n",
    "GPS_middle_utm_data = theodo_u.utm_gps_data(GPS_middle_raw_data, limit_data_middle, False)\n",
    "print(\"Done UTM data !\")\n",
    "\n",
    "time_gps_fb, distance_gps_fb = theodo_f.distance_between_gps_new(GPS_back_utm_data, GPS_front_utm_data)\n",
    "time_gps_fm, distance_gps_fm = theodo_f.distance_between_gps_new(GPS_middle_utm_data,GPS_front_utm_data)\n",
    "time_gps_mb, distance_gps_mb = theodo_f.distance_between_gps_new(GPS_back_utm_data,GPS_middle_utm_data)\n",
    "GPS_front_utm_data_arr = np.array(GPS_front_utm_data)\n",
    "GPS_back_utm_data_arr = np.array(GPS_back_utm_data)\n",
    "GPS_middle_utm_data_arr = np.array(GPS_middle_utm_data)\n",
    "\n",
    "print(\"Done inter-GPS distance !\")"
   ]
  },
  {
   "cell_type": "code",
   "execution_count": null,
   "metadata": {},
   "outputs": [],
   "source": [
    "# Show inter-GPS distance\n",
    "%matplotlib notebook\n",
    "plt.figure(1)\n",
    "start = 600   # Values to cut edges in case of GNSS failure (to change according to the data used)\n",
    "stop = -1\n",
    "plt.plot(time_gps_fb[start:stop], abs(distance_gps_fb[start:stop]-np.ones_like(distance_gps_fb[start:stop])*extrinsic_calibration_results[3])*1000, color='b')\n",
    "plt.plot(time_gps_fm[start:stop], abs(distance_gps_fm[start:stop]-np.ones_like(distance_gps_fm[start:stop])*extrinsic_calibration_results[4])*1000, color='r')\n",
    "plt.plot(time_gps_mb[start:stop], abs(distance_gps_mb[start:stop]-np.ones_like(distance_gps_mb[start:stop])*extrinsic_calibration_results[5])*1000, color='g')\n",
    "plt.xlabel('Time [s]')\n",
    "plt.ylabel('Inter-GNSS distance error [mm]')"
   ]
  },
  {
   "cell_type": "code",
   "execution_count": null,
   "metadata": {},
   "outputs": [],
   "source": [
    "# Plot GPS trajectory in 2D XY axis\n",
    "%matplotlib notebook\n",
    "plt.figure(2)\n",
    "interval_1 = [600,-100]\n",
    "interval_2 = [600,-100]\n",
    "interval_3 = [600,-100]\n",
    "plt.plot(-GPS_front_utm_data_arr[interval_1[0]:interval_1[1],1], GPS_front_utm_data_arr[interval_1[0]:interval_1[1],2], color=\"r\")\n",
    "plt.plot(-GPS_back_utm_data_arr[interval_2[0]:interval_2[1],1], GPS_back_utm_data_arr[interval_2[0]:interval_2[1],2], color=\"b\")\n",
    "plt.plot(-GPS_middle_utm_data_arr[interval_3[0]:interval_3[1],1], GPS_middle_utm_data_arr[interval_3[0]:interval_3[1],2], color=\"g\")\n",
    "plt.xlabel('X [m]')\n",
    "plt.ylabel('Y [m]')\n",
    "plt.axis(\"equal\")"
   ]
  },
  {
   "cell_type": "code",
   "execution_count": null,
   "metadata": {},
   "outputs": [],
   "source": [
    "# Plot GPS trajectory in 2D XZ axis\n",
    "%matplotlib notebook\n",
    "plt.figure(3)\n",
    "interval_1 = [600,-100]\n",
    "interval_2 = [600,-100]\n",
    "interval_3 = [600,-100]\n",
    "plt.plot(-GPS_front_utm_data_arr[interval_1[0]:interval_1[1],1], GPS_front_utm_data_arr[interval_1[0]:interval_1[1],3], color=\"r\")\n",
    "plt.plot(-GPS_back_utm_data_arr[interval_2[0]:interval_2[1],1], GPS_back_utm_data_arr[interval_2[0]:interval_2[1],3], color=\"b\")\n",
    "plt.plot(-GPS_middle_utm_data_arr[interval_3[0]:interval_3[1],1], GPS_middle_utm_data_arr[interval_3[0]:interval_3[1],3], color=\"g\")\n",
    "plt.xlabel('X [m]')\n",
    "plt.ylabel('Z [m]')\n",
    "plt.axis(\"equal\")"
   ]
  },
  {
   "cell_type": "code",
   "execution_count": null,
   "metadata": {},
   "outputs": [],
   "source": [
    "# Save inter-GPS distance into csv file\n",
    "theodo_u = importlib.reload(theodo_u)\n",
    "\n",
    "interval = [0,-1]    # intervals to cut edges in case of GNSS failure\n",
    "theodo_u.Convert_inter_distance_GNSS_to_csv(time_gps_fb[interval[0]:interval[1]], distance_gps_fb[interval[0]:interval[1]], path+\"gps_data/gps12_distance.csv\")\n",
    "theodo_u.Convert_inter_distance_GNSS_to_csv(time_gps_fm[interval[0]:interval[1]], distance_gps_fm[interval[0]:interval[1]], path+\"gps_data/gps13_distance.csv\")\n",
    "theodo_u.Convert_inter_distance_GNSS_to_csv(time_gps_mb[interval[0]:interval[1]], distance_gps_mb[interval[0]:interval[1]], path+\"gps_data/gps23_distance.csv\")"
   ]
  },
  {
   "cell_type": "code",
   "execution_count": null,
   "metadata": {},
   "outputs": [],
   "source": [
    "# Trajectory GPS (time, point data) x3\n",
    "theodo_u = importlib.reload(theodo_u)\n",
    "\n",
    "interval_1 = [0,-1]   # intervals to cut edges in case of GNSS failure\n",
    "interval_2 = [0,-1]\n",
    "interval_3 = [0,-1]\n",
    "theodo_u.Convert_raw_data_GNSS_to_csv(GPS_front_utm_data_arr[interval_1[0]:interval_1[1],0], GPS_front_utm_data_arr[interval_1[0]:interval_1[1],1:4], path+\"gps_data/gpsfront.csv\")\n",
    "theodo_u.Convert_raw_data_GNSS_to_csv(GPS_back_utm_data_arr[interval_2[0]:interval_2[1],0], GPS_back_utm_data_arr[interval_2[0]:interval_2[1],1:4], path+\"gps_data/gpsback.csv\")\n",
    "theodo_u.Convert_raw_data_GNSS_to_csv(GPS_middle_utm_data_arr[interval_3[0]:interval_3[1],0], GPS_middle_utm_data_arr[interval_3[0]:interval_3[1],1:4], path+\"gps_data/gpsmiddle.csv\")"
   ]
  },
  {
   "cell_type": "code",
   "execution_count": null,
   "outputs": [],
   "source": [],
   "metadata": {
    "collapsed": false
   }
  }
 ],
 "metadata": {
  "kernelspec": {
   "display_name": "Python 3 (ipykernel)",
   "language": "python",
   "name": "python3"
  },
  "language_info": {
   "codemirror_mode": {
    "name": "ipython",
    "version": 3
   },
   "file_extension": ".py",
   "mimetype": "text/x-python",
   "name": "python",
   "nbconvert_exporter": "python",
   "pygments_lexer": "ipython3",
   "version": "3.8.14"
  }
 },
 "nbformat": 4,
 "nbformat_minor": 4
}
