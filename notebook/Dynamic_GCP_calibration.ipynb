{
 "cells": [
  {
   "cell_type": "markdown",
   "source": [
    "# Dynamic GCP calibration\n",
    "\n",
    "Notebook which computes and saves results of the Dynamic GCP calibration"
   ],
   "metadata": {
    "collapsed": false
   }
  },
  {
   "cell_type": "code",
   "execution_count": null,
   "outputs": [],
   "source": [
    "import numpy as np\n",
    "import importlib\n",
    "import matplotlib.pyplot as plt\n",
    "import scripts.theodolite_utils as theodo_u\n",
    "import scripts.theodolite_function as theodo_f\n",
    "import scripts.resection_functions as theodo_r\n",
    "import warnings\n",
    "warnings.filterwarnings('ignore')"
   ],
   "metadata": {
    "collapsed": false
   }
  },
  {
   "cell_type": "code",
   "execution_count": null,
   "outputs": [],
   "source": [
    "# This cell gathers result for the dynamic control points for the graphic below\n",
    "# With a linear interpolation\n",
    "\n",
    "theodo_r = importlib.reload(theodo_r)\n",
    "theodo_u = importlib.reload(theodo_u)\n",
    "theodo_f = importlib.reload(theodo_f)\n",
    "\n",
    "path_list = [\n",
    "    \"../data/20220711-1/\",\n",
    "    \"../data/20220715-2/\",\n",
    "    \"../data/20220715-3/\",\n",
    "    \"../data/20220717-5/\",\n",
    "    \"../data/20220910-1/\",\n",
    "    \"../data/20220910-2/\",\n",
    "    \"../data/20220910-3/\",\n",
    "    \"../data/20220910-4/\",\n",
    "    \"../data/20220910-5/\",\n",
    "    \"../data/20220910-6/\",\n",
    "]\n",
    "\n",
    "path_list_inter = [\n",
    "    [\"../data/20220711-2/\"],\n",
    "    [\"\"],\n",
    "    [\"\"],\n",
    "    [\"../data/20220717-2/\",\"../data/20220717-3/\",\"../data/20220717-4/\"],\n",
    "    [\"../data/20220910-7/\",\"../data/20220910-8/\",\"../data/20220910-9/\"],\n",
    "    [\"../data/20220910-7/\",\"../data/20220910-8/\",\"../data/20220910-9/\"],\n",
    "    [\"../data/20220910-7/\",\"../data/20220910-8/\",\"../data/20220910-9/\"],\n",
    "    [\"../data/20220910-7/\",\"../data/20220910-8/\",\"../data/20220910-9/\"],\n",
    "    [\"../data/20220910-7/\",\"../data/20220910-8/\",\"../data/20220910-9/\"],\n",
    "    [\"../data/20220910-7/\",\"../data/20220910-8/\",\"../data/20220910-9/\"],\n",
    "]\n",
    "\n",
    "save_results = False\n",
    "\n",
    "velocity_outlier = [\n",
    "    2.2,2.2,2.2,2.2,1.2,\n",
    "    1.2,1.2,1.2,1.2,1.2\n",
    "]\n",
    "\n",
    "errors_linear_dynamic = []\n",
    "errors_linear_dynamic_cp = []\n",
    "errors_linear_dynamic_cp_exp = []\n",
    "TF_list_linear_dynamic = []\n",
    "for i,j,k in zip(path_list,path_list_inter,velocity_outlier):\n",
    "    # Generate file path\n",
    "    file_prediction_dynamic = theodo_u.if_file_exist(i + 'filtered_prediction/f-2-1-1-1-6-0-L_','1.csv')\n",
    "    file_GCP = theodo_u.if_file_exist(i + 'total_stations/GCP.txt','')\n",
    "    print(\"don't give up: \", i)\n",
    "    Tf_loop = []\n",
    "    error_dynamic_cp_loop = []\n",
    "    error_dynamic_exp_loop = []\n",
    "    error_dynamic_cp_exp_loop = []\n",
    "    for m in j:\n",
    "        file_prediction_inter = theodo_u.if_file_exist(m + 'filtered_prediction/f-2-1-1-1-6-0-L_','1.csv')\n",
    "        file_sensors = theodo_u.if_file_exist(m + \"sensors_extrinsic_calibration/calibration_results.csv\",'')\n",
    "        extrinsic_calibration_results = theodo_u.read_extrinsic_calibration_results_file(file_sensors)\n",
    "        errors_dynamic, errors_dynamic_cp, errors_dynamic_cp_exp, TF_list = theodo_r.dynamic_control_points_error_comparison(dynamic_file_path=file_prediction_dynamic, exp_file_path=file_prediction_inter, marker_file_path=file_GCP, inter_prism_dist=extrinsic_calibration_results,\n",
    "                                            rate = 10, velocity_outlier = k)\n",
    "        print(\"Cp error: \",np.median(errors_dynamic_cp),np.std(errors_dynamic_cp))\n",
    "        print(\"Inter-prism: \", np.median(errors_dynamic_cp_exp),np.std(errors_dynamic_cp_exp))\n",
    "        error_dynamic_exp_loop += errors_dynamic\n",
    "        error_dynamic_cp_loop += errors_dynamic_cp\n",
    "        error_dynamic_cp_exp_loop += errors_dynamic_cp_exp\n",
    "        Tf_loop += TF_list\n",
    "    errors_linear_dynamic += error_dynamic_exp_loop\n",
    "    errors_linear_dynamic_cp += error_dynamic_cp_loop\n",
    "    errors_linear_dynamic_cp_exp += error_dynamic_cp_exp_loop\n",
    "    TF_list_linear_dynamic += TF_list\n",
    "    if(save_results):\n",
    "        theodo_u.save_error_list_to_file(error_dynamic_cp_loop, i+\"list_error/errors_linear_dynamic_cp_cp.csv\")\n",
    "        theodo_u.save_error_list_to_file(error_dynamic_cp_exp_loop, i+\"list_error/errors_linear_dynamic_cp_experiment.csv\")\n",
    "        theodo_u.save_tf_list_to_file_multi(TF_list, i+\"list_tf/TF_list_linear_dynamic_cp.csv\")\n",
    "print(\"End !\")"
   ],
   "metadata": {
    "collapsed": false
   }
  },
  {
   "cell_type": "code",
   "execution_count": null,
   "id": "534cf239-a5d9-4a42-a312-de7a22d6e964",
   "metadata": {},
   "outputs": [],
   "source": [
    "# Display results according to different metrics\n",
    "%matplotlib notebook\n",
    "\n",
    "fig = plt.figure(figsize =(10, 5))\n",
    "ax = fig.add_subplot(111)\n",
    "lis = [errors_linear_dynamic_cp,errors_linear_dynamic_cp_exp]\n",
    "\n",
    "box = ax.boxplot(lis, notch=True, patch_artist=True, vert = 1, showfliers=False, showmeans=False)\n",
    "plt.xticks([1,2],\n",
    "               [\"GCP\\n\\n\\n M: \"+str(round(np.median(lis[0]),2))+\"mm \\n Std: \"+str(round(np.std(lis[0]),2))+\"mm\\n\"+str(round(len(lis[0])/3))+\" pts\",\n",
    "            \"Inter-prism\\n\\n\\n M: \"+str(round(np.median(lis[1]),2))+\"mm \\n Std: \"+str(round(np.std(lis[1]),2))+\"mm\\n\"+str(round(len(lis[1])/3))+\" pts\",\n",
    "           ])\n",
    "colors_box = ['#069AF3','#069AF3']\n",
    "\n",
    "for patch, color in zip(box['boxes'], colors_box):\n",
    "    patch.set_facecolor(color)\n",
    "\n",
    "ax.set_ylabel(\"Error [mm]\")\n",
    "fig.tight_layout()\n",
    "plt.show()"
   ]
  },
  {
   "cell_type": "code",
   "execution_count": null,
   "outputs": [],
   "source": [],
   "metadata": {
    "collapsed": false
   }
  }
 ],
 "metadata": {
  "kernelspec": {
   "display_name": "Python 3 (ipykernel)",
   "language": "python",
   "name": "python3"
  },
  "language_info": {
   "codemirror_mode": {
    "name": "ipython",
    "version": 3
   },
   "file_extension": ".py",
   "mimetype": "text/x-python",
   "name": "python",
   "nbconvert_exporter": "python",
   "pygments_lexer": "ipython3",
   "version": "3.6.9"
  }
 },
 "nbformat": 4,
 "nbformat_minor": 5
}
