{
 "cells": [
  {
   "cell_type": "code",
   "execution_count": 3,
   "id": "cc8bb7d2",
   "metadata": {},
   "outputs": [],
   "source": [
    "import sys\n",
    "#!{sys.executable} -m pip install seaborn\n",
    "#!{sys.executable} -m pip install pycryptodome\n",
    "#!{sys.executable} -m pip install pycryptodomex\n",
    "#!{sys.executable} -m pip install gnupg\n",
    "import numpy as np\n",
    "import importlib\n",
    "import matplotlib.pyplot as plt\n",
    "import scripts.theodolite_function as tfu\n",
    "tfu = importlib.reload(tfu)\n",
    "from scipy.interpolate import splprep, splev\n",
    "from scipy import interpolate\n",
    "import seaborn as sns\n",
    "from matplotlib.colors import BoundaryNorm\n",
    "from matplotlib.ticker import MaxNLocator\n",
    "from scipy.spatial.transform import Rotation as R\n",
    "import scripts.theodolite_utils as ttfu"
   ]
  },
  {
   "cell_type": "code",
   "execution_count": 5,
   "id": "d1354f66",
   "metadata": {},
   "outputs": [
    {
     "name": "stdout",
     "output_type": "stream",
     "text": [
      "1.0398341231585624 0.818424700118086 0.8806156053859284\n",
      "0.835637436093363 0.7812173648662254 0.5166745729506486\n",
      "Conversion done !\n"
     ]
    }
   ],
   "source": [
    "# Convert data to csv\n",
    "ttfu = importlib.reload(ttfu)\n",
    "file_name = \"./data/calibration_warthog_1_11_21.csv\"\n",
    "file_name_output = \"./data/calibration_distance_1_11_21.csv\"\n",
    "ttfu.read_calibration_gps_prism(file_name, file_name_output)"
   ]
  },
  {
   "cell_type": "code",
   "execution_count": null,
   "id": "872d0aaa",
   "metadata": {},
   "outputs": [],
   "source": []
  }
 ],
 "metadata": {
  "kernelspec": {
   "display_name": "Python 3",
   "language": "python",
   "name": "python3"
  },
  "language_info": {
   "codemirror_mode": {
    "name": "ipython",
    "version": 3
   },
   "file_extension": ".py",
   "mimetype": "text/x-python",
   "name": "python",
   "nbconvert_exporter": "python",
   "pygments_lexer": "ipython3",
   "version": "3.6.9"
  }
 },
 "nbformat": 4,
 "nbformat_minor": 5
}
