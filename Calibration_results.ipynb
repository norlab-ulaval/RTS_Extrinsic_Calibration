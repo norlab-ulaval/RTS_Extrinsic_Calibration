{
 "cells": [
  {
   "cell_type": "code",
   "execution_count": 1,
   "id": "cc8bb7d2",
   "metadata": {},
   "outputs": [
    {
     "name": "stderr",
     "output_type": "stream",
     "text": [
      "Failed to load Python extension for LZ4 support. LZ4 compression will not be available.\n"
     ]
    }
   ],
   "source": [
    "import sys\n",
    "#!{sys.executable} -m pip install seaborn\n",
    "#!{sys.executable} -m pip install pycryptodome\n",
    "#!{sys.executable} -m pip install pycryptodomex\n",
    "#!{sys.executable} -m pip install gnupg\n",
    "import numpy as np\n",
    "import importlib\n",
    "import matplotlib.pyplot as plt\n",
    "import scripts.theodolite_function as tfu\n",
    "tfu = importlib.reload(tfu)\n",
    "from scipy.interpolate import splprep, splev\n",
    "from scipy import interpolate\n",
    "import seaborn as sns\n",
    "\n",
    "from matplotlib.colors import BoundaryNorm\n",
    "from matplotlib.ticker import MaxNLocator\n",
    "from scipy.spatial.transform import Rotation as R\n",
    "import scripts.theodolite_utils as ttfu"
   ]
  },
  {
   "cell_type": "code",
   "execution_count": null,
   "id": "d1354f66",
   "metadata": {},
   "outputs": [],
   "source": [
    "# 1 11 21\n",
    "ttfu = importlib.reload(ttfu)\n",
    "file_name = \"./data/calibration/calibration_warthog_1_11_21.csv\"\n",
    "file_name_output = \"./data/calibration/calibration_distance_1_11_21.csv\"\n",
    "number_points = 6\n",
    "P1, P2, P3, G1, G2, G3= ttfu.read_calibration_gps_prism(file_name, file_name_output)"
   ]
  },
  {
   "cell_type": "code",
   "execution_count": null,
   "id": "47a031ef",
   "metadata": {},
   "outputs": [],
   "source": [
    "# 26 11 21\n",
    "ttfu = importlib.reload(ttfu)\n",
    "file_name = \"./data/calibration/calibration_warthog_26_11_21.csv\"\n",
    "file_name_output = \"./data/calibration/calibration_distance_26_11_21.csv\"\n",
    "number_points = 6\n",
    "P1, P2, P3, G1, G2, G3= ttfu.read_calibration_gps_prism(file_name, file_name_output)"
   ]
  },
  {
   "cell_type": "code",
   "execution_count": null,
   "id": "541f58ba",
   "metadata": {},
   "outputs": [],
   "source": [
    "# 31 01 22\n",
    "ttfu = importlib.reload(ttfu)\n",
    "file_name = \"./data/calibration/calibration_warthog_31_01_22.csv\"\n",
    "file_name_output = \"./data/calibration/calibration_distance_31_01_22.csv\"\n",
    "number_points = 6\n",
    "P1, P2, P3, G1, G2, G3, L = ttfu.read_calibration_gps_prism_lidar(file_name, file_name_output)"
   ]
  },
  {
   "cell_type": "code",
   "execution_count": null,
   "id": "c72e0acb",
   "metadata": {},
   "outputs": [],
   "source": [
    "# 03 02 22\n",
    "ttfu = importlib.reload(ttfu)\n",
    "file_name = \"./data/calibration/calibration_warthog_09_02_22.csv\"\n",
    "file_name_output = \"./data/calibration/calibration_distance_09_02_22.csv\"\n",
    "number_points = 6\n",
    "P1, P2, P3, G1, G2, G3, L = ttfu.read_calibration_gps_prism_lidar(file_name, file_name_output)"
   ]
  },
  {
   "cell_type": "code",
   "execution_count": null,
   "id": "3f34845b",
   "metadata": {},
   "outputs": [],
   "source": [
    "# 17 02 22\n",
    "ttfu = importlib.reload(ttfu)\n",
    "file_name = \"./data/calibration/calibration_warthog_17_02_22.csv\"\n",
    "file_name_output = \"./data/calibration/calibration_distance_17_02_22.csv\"\n",
    "P1, P2, P3, G1, G2, G3, L = ttfu.read_calibration_gps_prism_lidar(file_name, file_name_output)"
   ]
  },
  {
   "cell_type": "code",
   "execution_count": null,
   "id": "da6276f9",
   "metadata": {},
   "outputs": [],
   "source": [
    "# 07 03 22\n",
    "ttfu = importlib.reload(ttfu)\n",
    "file_name = \"./data/calibration/calibration_warthog_07_03_22.csv\"\n",
    "file_name_output = \"./data/calibration/calibration_distance_07_03_22.csv\"\n",
    "P1, P2, P3, G1, G2, G3, L = ttfu.read_calibration_gps_prism_lidar(file_name, file_name_output)"
   ]
  },
  {
   "cell_type": "code",
   "execution_count": null,
   "id": "8120f29a",
   "metadata": {},
   "outputs": [],
   "source": [
    "# 12 03 22\n",
    "ttfu = importlib.reload(ttfu)\n",
    "file_name = \"./data/calibration/calibration_warthog_12_03_22.csv\"\n",
    "file_name_output = \"./data/calibration/calibration_distance_12_03_22.csv\"\n",
    "P1, P2, P3, G1, G2, G3, L = ttfu.read_calibration_gps_prism_lidar(file_name, file_name_output)"
   ]
  },
  {
   "cell_type": "code",
   "execution_count": null,
   "id": "e6cdf52f",
   "metadata": {},
   "outputs": [],
   "source": [
    "# 14 03 22\n",
    "ttfu = importlib.reload(ttfu)\n",
    "file_name = \"./data/calibration/calibration_warthog_14_03_22.csv\"\n",
    "file_name_output = \"./data/calibration/calibration_distance_14_03_22.csv\"\n",
    "P1, P2, P3, G1, G2, G3, L = ttfu.read_calibration_gps_prism_lidar(file_name, file_name_output)"
   ]
  },
  {
   "cell_type": "code",
   "execution_count": null,
   "id": "c0d0afeb",
   "metadata": {},
   "outputs": [],
   "source": [
    "# 31 03 22\n",
    "ttfu = importlib.reload(ttfu)\n",
    "file_name = \"./data/calibration/calibration_warthog_31_03_22.csv\"\n",
    "file_name_output = \"./data/calibration/calibration_distance_31_03_22.csv\"\n",
    "P1, P2, P3, G1, G2, G3, L = ttfu.read_calibration_gps_prism_lidar(file_name, file_name_output)"
   ]
  },
  {
   "cell_type": "code",
   "execution_count": null,
   "id": "df21e281",
   "metadata": {},
   "outputs": [],
   "source": [
    "# 27 04 22\n",
    "ttfu = importlib.reload(ttfu)\n",
    "file_name = \"./data/calibration/calibration_warthog_27_04_22.csv\"\n",
    "file_name_output = \"./data/calibration/calibration_distance_27_04_22.csv\"\n",
    "P1, P2, P3, G1, G2, G3, L = ttfu.read_calibration_gps_prism_lidar(file_name, file_name_output)"
   ]
  },
  {
   "cell_type": "code",
   "execution_count": 5,
   "id": "62f89fae",
   "metadata": {},
   "outputs": [
    {
     "name": "stdout",
     "output_type": "stream",
     "text": [
      "Distance inter-prism:  0.8868846942534616 0.829169129877633 1.0387571594276301\n",
      "Distance inter-GPS:  0.7837749633840095 0.8323125081688734 0.5187055120945835\n",
      "Conversion done !\n"
     ]
    }
   ],
   "source": [
    "# 27 04 22 soir\n",
    "ttfu = importlib.reload(ttfu)\n",
    "file_name = \"./data/calibration/calibration_warthog_27_04_22_soir.csv\"\n",
    "file_name_output = \"./data/calibration/calibration_distance_27_04_22_soir.csv\"\n",
    "P1, P2, P3, G1, G2, G3, L = ttfu.read_calibration_gps_prism_lidar(file_name, file_name_output)"
   ]
  },
  {
   "cell_type": "code",
   "execution_count": null,
   "id": "872d0aaa",
   "metadata": {},
   "outputs": [],
   "source": [
    "print(P1)"
   ]
  },
  {
   "cell_type": "code",
   "execution_count": null,
   "id": "68c18503",
   "metadata": {},
   "outputs": [],
   "source": [
    "%matplotlib notebook\n",
    "fig = plt.figure()\n",
    "ax = fig.add_subplot(projection='3d')\n",
    "ax.scatter(P1[0], P1[1], P1[2], label=\"P1\", color=\"r\")\n",
    "ax.scatter(P2[0], P2[1], P2[2], label=\"P2\", color=\"r\")\n",
    "ax.scatter(P3[0], P3[1], P3[2], label=\"P3\", color=\"r\")\n",
    "ax.scatter(G1[0], G1[1], G1[2], label=\"G1\", color=\"b\")\n",
    "ax.scatter(G2[0], G2[1], G2[2], label=\"G2\", color=\"b\")\n",
    "ax.scatter(G3[0], G3[1], G3[2], label=\"G3\", color=\"b\")\n",
    "ax.scatter(L[0], L[1], L[2], label=\"L\", color=\"g\")\n",
    "#ax = plt.gca()\n",
    "#ax.set_yscale('symlog')\n",
    "#plt.legend(loc='best')\n",
    "#ax.set_ylim([0, 100])\n",
    "#plt.show()    "
   ]
  },
  {
   "cell_type": "code",
   "execution_count": null,
   "id": "a15e1087",
   "metadata": {},
   "outputs": [],
   "source": []
  }
 ],
 "metadata": {
  "kernelspec": {
   "display_name": "Python 3",
   "language": "python",
   "name": "python3"
  },
  "language_info": {
   "codemirror_mode": {
    "name": "ipython",
    "version": 3
   },
   "file_extension": ".py",
   "mimetype": "text/x-python",
   "name": "python",
   "nbconvert_exporter": "python",
   "pygments_lexer": "ipython3",
   "version": "3.6.9"
  }
 },
 "nbformat": 4,
 "nbformat_minor": 5
}
