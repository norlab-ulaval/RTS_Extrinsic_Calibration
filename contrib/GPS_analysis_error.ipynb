{
 "cells": [
  {
   "cell_type": "code",
   "execution_count": null,
   "id": "0912b068",
   "metadata": {},
   "outputs": [],
   "source": [
    "from evo.tools import log\n",
    "log.configure_logging()\n",
    "from evo.tools import plot\n",
    "from evo.tools.plot import PlotMode\n",
    "from evo.core.metrics import PoseRelation, Unit\n",
    "from evo.tools.settings import SETTINGS\n",
    "from evo.tools import file_interface\n",
    "from evo.core import sync\n",
    "import copy\n",
    "from evo.core import metrics\n",
    "import pprint\n",
    "\n",
    "# temporarily override some package settings\n",
    "SETTINGS.plot_figsize = [10, 8]\n",
    "SETTINGS.plot_split = True\n",
    "SETTINGS.plot_usetex = False\n",
    "\n",
    "# magic plot configuration\n",
    "import matplotlib.pyplot as plt\n",
    "%matplotlib inline\n",
    "%matplotlib notebook"
   ]
  },
  {
   "cell_type": "code",
   "execution_count": null,
   "id": "a28dce5f",
   "metadata": {},
   "outputs": [],
   "source": [
    "path = \"../data/20220224/\"\n",
    "\n",
    "traj_ref_back = file_interface.read_tum_trajectory_file(path+\"ground_truth/\"+\"gps_predicted_3.txt\")\n",
    "traj_est_back = file_interface.read_tum_trajectory_file(path+\"gps_data/\"+\"gps_sorted_eval_3.txt\")\n",
    "\n",
    "# traj_ref_front = file_interface.read_tum_trajectory_file(path+\"theo_gps_front.txt\")\n",
    "# traj_est_front = file_interface.read_tum_trajectory_file(path+\"real_gps_front.txt\")\n",
    "# traj_ref_middle = file_interface.read_tum_trajectory_file(path+\"theo_gps_middle.txt\")\n",
    "# traj_est_middle = file_interface.read_tum_trajectory_file(path+\"real_gps_middle.txt\")\n",
    "\n",
    "#traj_ref_back, traj_est_back = sync.associate_trajectories(traj_ref_back, traj_est_back)\n",
    "#traj_ref_front, traj_est_front = sync.associate_trajectories(traj_ref_front, traj_est_front)\n",
    "#traj_ref_middle, traj_est_middle = sync.associate_trajectories(traj_ref_middle, traj_est_middle)\n",
    "\n",
    "traj_est_aligned_back = copy.deepcopy(traj_est_back)\n",
    "traj_est_aligned_back.align(traj_ref_back, correct_scale=False, correct_only_scale=False)\n",
    "# traj_est_aligned_front = copy.deepcopy(traj_est_front)\n",
    "# traj_est_aligned_front.align(traj_ref_front, correct_scale=False, correct_only_scale=False)\n",
    "# traj_est_aligned_middle = copy.deepcopy(traj_est_middle)\n",
    "# traj_est_aligned_middle.align(traj_ref_middle, correct_scale=False, correct_only_scale=False)"
   ]
  },
  {
   "cell_type": "code",
   "execution_count": null,
   "id": "1febcb9a",
   "metadata": {},
   "outputs": [],
   "source": [
    "fig = plt.figure(figsize=(10,8))\n",
    "traj_by_label = {\n",
    "    #\"estimate (not aligned)\": traj_est,\n",
    "    \"estimate_back\": traj_est_aligned_back,\n",
    "    \"reference_back\": traj_ref_back,\n",
    "    #\"estimate_front\": traj_est_aligned_front,\n",
    "    #\"reference_front\": traj_ref_front,\n",
    "    #\"estimate_middle\": traj_est_aligned_middle,\n",
    "    #\"reference_middle\": traj_ref_middle\n",
    "}\n",
    "plot.trajectories(fig, traj_by_label, plot.PlotMode.xyz)\n",
    "plt.show()"
   ]
  },
  {
   "cell_type": "code",
   "execution_count": null,
   "id": "c0bc58b8",
   "metadata": {},
   "outputs": [],
   "source": [
    "pose_relation = metrics.PoseRelation.translation_part\n",
    "use_aligned_trajectories = False\n",
    "\n",
    "data_back = (traj_ref_back, traj_est_aligned_back) \n",
    "# data_front = (traj_ref_front, traj_est_aligned_front)\n",
    "# data_middle = (traj_ref_middle, traj_est_aligned_middle)\n",
    "\n",
    "ape_metric_back = metrics.APE(pose_relation)\n",
    "ape_metric_back.process_data(data_back)\n",
    "# ape_metric_front = metrics.APE(pose_relation)\n",
    "# ape_metric_front.process_data(data_front)\n",
    "# ape_metric_middle = metrics.APE(pose_relation)\n",
    "# ape_metric_middle.process_data(data_middle)\n",
    "\n",
    "ape_stat_back = ape_metric_back.get_statistic(metrics.StatisticsType.rmse)\n",
    "# ape_stat_front = ape_metric_front.get_statistic(metrics.StatisticsType.rmse)\n",
    "# ape_stat_middle = ape_metric_middle.get_statistic(metrics.StatisticsType.rmse)\n",
    "print(ape_stat_back)\n",
    "# print(ape_stat_front)\n",
    "# print(ape_stat_middle)"
   ]
  },
  {
   "cell_type": "code",
   "execution_count": null,
   "id": "fbc534e2",
   "metadata": {},
   "outputs": [],
   "source": [
    "ape_stats_back = ape_metric_back.get_all_statistics()\n",
    "#pprint.pprint(ape_stats_back)\n",
    "# ape_stats_front = ape_metric_front.get_all_statistics()\n",
    "#pprint.pprint(ape_stats_front)\n",
    "# ape_stats_middle = ape_metric_middle.get_all_statistics()\n",
    "#pprint.pprint(ape_stats_middle)\n",
    "\n",
    "seconds_from_start_back = [t - traj_est_back.timestamps[0] for t in traj_est_back.timestamps]\n",
    "# seconds_from_start_front = [t - traj_est_front.timestamps[0] for t in traj_est_front.timestamps]\n",
    "# seconds_from_start_middle = [t - traj_est_middle.timestamps[0] for t in traj_est_middle.timestamps]\n",
    "fig = plt.figure(figsize=(10,8))\n",
    "#plt.subplot(311)\n",
    "plot.error_array(fig.gca(), ape_metric_back.error, x_array=seconds_from_start_back,\n",
    "                 name=\"Back\", title=\"APE w.r.t. \" + ape_metric_back.pose_relation.value, color=\"blue\")\n",
    "#plt.subplot(312)\n",
    "# plot.error_array(fig.gca(), ape_metric_front.error, x_array=seconds_from_start_front,\n",
    "#                  name=\"Front\", color=\"red\")\n",
    "# #plt.subplot(313)\n",
    "# plot.error_array(fig.gca(), ape_metric_middle.error, x_array=seconds_from_start_middle,\n",
    "#                  name=\"Middle\", xlabel=\"$t$ [s]\", ylabel=\"APE [m]\", color=\"green\")\n",
    "fig.tight_layout()\n",
    "#plt.savefig(\"./figs/error_gps_ape_20220314.jpg\")\n",
    "plt.show()"
   ]
  },
  {
   "cell_type": "code",
   "execution_count": null,
   "id": "f9f7f59c",
   "metadata": {},
   "outputs": [],
   "source": [
    "# print(len(ape_metric_front.error))\n",
    "print(len(traj_est_back.positions_xyz))"
   ]
  },
  {
   "cell_type": "code",
   "execution_count": null,
   "id": "bea151c1",
   "metadata": {
    "scrolled": false
   },
   "outputs": [],
   "source": [
    "from matplotlib.colors import BoundaryNorm\n",
    "from matplotlib.ticker import MaxNLocator\n",
    "import matplotlib\n",
    "cmap = plt.get_cmap('viridis')\n",
    "levels = MaxNLocator(nbins=10).tick_values(ape_metric_back.error.min(), ape_metric_back.error.max())\n",
    "norm = BoundaryNorm(levels, ncolors=cmap.N, clip=True)\n",
    "fig, ax = plt.subplots(nrows=1, figsize=(10,8))\n",
    "sc=ax.scatter(traj_est_back.positions_xyz[:,0], -traj_est_back.positions_xyz[:,1], c=ape_metric_back.error, cmap='viridis',\n",
    "             alpha=0.4, norm=matplotlib.colors.LogNorm())\n",
    "#sc=ax.scatter(traj_est_front.positions_xyz[:,0], -traj_est_front.positions_xyz[:,1], c=ape_metric_front.error, cmap='viridis', \n",
    "#              alpha=0.4, norm=matplotlib.colors.LogNorm())\n",
    "# sc=ax.scatter(traj_est_middle.positions_xyz[:,0], -traj_est_middle.positions_xyz[:,1], c=ape_metric_middle.error, cmap='viridis',\n",
    "#               alpha=0.4, norm=matplotlib.colors.LogNorm())\n",
    "plt.colorbar(sc, label=\"Ape error [m]\")\n",
    "ax.set_xlabel(\"X [m]\")\n",
    "ax.set_ylabel(\"Y [m]\")\n",
    "# plt.savefig(\"./figs/error_gps_middle_20220314.jpg\")\n",
    "fig.tight_layout()"
   ]
  },
  {
   "cell_type": "code",
   "execution_count": null,
   "id": "4f84bb7d",
   "metadata": {},
   "outputs": [],
   "source": [
    "from matplotlib.colors import BoundaryNorm\n",
    "from matplotlib.ticker import MaxNLocator\n",
    "import matplotlib\n",
    "\n",
    "fig, ax = plt.subplots(nrows=1, figsize=(10,8))\n",
    "ax.plot(traj_est_back.positions_xyz[:,0], -traj_est_back.positions_xyz[:,1], color=\"blue\")\n",
    "# ax.plot(traj_est_front.positions_xyz[:,0], -traj_est_front.positions_xyz[:,1], color=\"red\")\n",
    "# ax.plot(traj_est_middle.positions_xyz[:,0], -traj_est_middle.positions_xyz[:,1], color=\"green\")\n",
    "ax.set_xlabel(\"X [m]\")\n",
    "ax.set_ylabel(\"Y [m]\")\n",
    "#plt.savefig(\"./figs/error_gps_middle_20220314.jpg\")\n",
    "fig.tight_layout()"
   ]
  },
  {
   "cell_type": "code",
   "execution_count": null,
   "id": "bcc00d66",
   "metadata": {},
   "outputs": [],
   "source": [
    "import importlib\n",
    "import scripts.theodolite_utils as tfuu\n",
    "tfuu = importlib.reload(tfuu)\n",
    "output = \"./data/error/error_ape_gps/20220427\"\n",
    "tfuu.Convert_gps_ape_error(traj_est_back, ape_metric_back.error, output+\"ape_back.txt\")\n",
    "# tfuu.Convert_gps_ape_error(traj_est_front, ape_metric_front.error, output+\"ape_front.txt\")\n",
    "# tfuu.Convert_gps_ape_error(traj_est_middle, ape_metric_middle.error, output+\"ape_middle.txt\")"
   ]
  },
  {
   "cell_type": "code",
   "execution_count": null,
   "id": "76e2452c",
   "metadata": {},
   "outputs": [],
   "source": []
  }
 ],
 "metadata": {
  "kernelspec": {
   "display_name": "Python 3",
   "language": "python",
   "name": "python3"
  },
  "language_info": {
   "codemirror_mode": {
    "name": "ipython",
    "version": 3
   },
   "file_extension": ".py",
   "mimetype": "text/x-python",
   "name": "python",
   "nbconvert_exporter": "python",
   "pygments_lexer": "ipython3",
   "version": "3.6.9"
  }
 },
 "nbformat": 4,
 "nbformat_minor": 5
}
