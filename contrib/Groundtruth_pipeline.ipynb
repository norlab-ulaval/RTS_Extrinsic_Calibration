{
 "cells": [
  {
   "cell_type": "markdown",
   "source": [
    "# Ground-truth generation pipeline (In progress)\n",
    "\n",
    "Pipeline to generate Lidar or GNSS ground-truth from the prism trajectories gathered by the RTS setup"
   ],
   "metadata": {
    "collapsed": false
   }
  },
  {
   "cell_type": "code",
   "execution_count": 1,
   "outputs": [],
   "source": [
    "import numpy as np\n",
    "import warnings\n",
    "warnings.filterwarnings('ignore')\n",
    "import importlib\n",
    "import scripts.theodolite_utils as theodo_u\n",
    "import scripts.theodolite_function as theodo_f\n",
    "import scripts.prediction_utils as prediction_u\n",
    "import scripts.resection_functions as theodo_r\n",
    "import time\n",
    "from tqdm import tqdm\n",
    "import torch\n",
    "import matplotlib.pyplot as plt"
   ],
   "metadata": {
    "collapsed": false
   }
  },
  {
   "cell_type": "code",
   "execution_count": null,
   "id": "022d5b76",
   "metadata": {},
   "outputs": [],
   "source": [
    "theodo_u = importlib.reload(theodo_u)\n",
    "\n",
    "path = \"../data/20221110/\"\n",
    "\n",
    "Tf = theodo_u.read_saved_tf(path+\"list_tf/TF_list_static_cp.csv\")\n",
    "Tf_1 = Tf[0]\n",
    "Tf_12 = Tf[1]\n",
    "Tf_13 = Tf[2]\n",
    "\n",
    "path_GNSS_file = path+\"gps_data/\"+\"gpsmiddle.txt\"\n",
    "GNSS_raw_data = theodo_u.read_prediction_data_Linear_csv_file(path_GNSS_file)\n",
    "time_delay = float(theodo_u.read_time_delay(path+\"gps_data/delay_synchronization_GNSS_3.txt\"))\n",
    "\n",
    "GNSS_raw_data_corrected = []\n",
    "for i in GNSS_raw_data:\n",
    "    raw_data = np.array([i[0]+time_delay, i[1], i[2], i[3], 0, 0, 0, 1])\n",
    "    GNSS_raw_data_corrected.append(raw_data)\n",
    "GNSS_raw_data_corrected = np.array(GNSS_raw_data_corrected)"
   ]
  },
  {
   "cell_type": "code",
   "execution_count": null,
   "outputs": [],
   "source": [
    "# Path of the rosbags\n",
    "file = [\n",
    "        \"/home/maxime/data/ICRA_2023/Vaidis2022_dataset/20220224/20220224_inter_prism.bag\"\n",
    "       ]\n",
    "\n",
    "# Parameters to select:\n",
    "# 1. Apply filtering or not (Module 1)\n",
    "# 2-3-4. Parameters tau_r, tau_a, tau_e (Module 1)\n",
    "# 5. Parameter tau_s (Module 2)\n",
    "\n",
    "parameters = [\n",
    "    [1,2,1,1,3],\n",
    "]\n",
    "\n",
    "# Path of output\n",
    "output = [\n",
    "        \"../data/20220224/\"\n",
    "]"
   ],
   "metadata": {
    "collapsed": false
   }
  },
  {
   "cell_type": "code",
   "execution_count": null,
   "outputs": [],
   "source": [
    "theodo_u = importlib.reload(theodo_u)\n",
    "theodo_f = importlib.reload(theodo_f)\n",
    "prediction_u = importlib.reload(prediction_u)\n",
    "\n",
    "for param in parameters:\n",
    "    print(param)\n",
    "\n",
    "    if(param[0]==0):\n",
    "        filtering = False\n",
    "    if(param[0]==1):\n",
    "        filtering = True\n",
    "    thresold_d = param[1]                # tau_r [m/s]\n",
    "    thresold_a = param[2]                # tau_a [deg/s]\n",
    "    thresold_e = param[3]                # tau_e [deg/s]\n",
    "    limit_time_interval = param[4]       # tau_s [s]\n",
    "    size_interval = 2\n",
    "\n",
    "    Mode = \"L\"       # Interpolation choice: 1. L -> Linear interpolation, 2. SGP -> Gaussian Process with Stheno library\n",
    "    limit_search = limit_time_interval\n",
    "    save = False\n",
    "\n",
    "    save_index_1 = []\n",
    "    save_index_2 = []\n",
    "    save_index_3 = []\n",
    "\n",
    "    for fname, opath in zip(file,output):\n",
    "        if(not filtering):\n",
    "            path_out = opath + \"raw_prediction/\"\n",
    "        else:\n",
    "            path_out = opath + \"filtered_prediction/\"\n",
    "\n",
    "        if(filtering):\n",
    "            t1, t2, t3, tp1, tp2, tp3, d1, d2, d3, a1, a2, a3, e1, e2, e3 = theodo_u.read_rosbag_theodolite_without_tf_raw_data_pre_filtered(fname)\n",
    "            index_1_f = theodo_u.thresold_raw_data(t1, d1, a1, e1, thresold_d, thresold_a*3.1415926/180, thresold_e*3.1415926/180, limit_time_interval)\n",
    "            index_2_f = theodo_u.thresold_raw_data(t2, d2, a2, e2, thresold_d, thresold_a*3.1415926/180, thresold_e*3.1415926/180, limit_time_interval)\n",
    "            index_3_f = theodo_u.thresold_raw_data(t3, d3, a3, e3, thresold_d, thresold_a*3.1415926/180, thresold_e*3.1415926/180, limit_time_interval)\n",
    "            t1 = t1[index_1_f]\n",
    "            t2 = t2[index_2_f]\n",
    "            t3 = t3[index_3_f]\n",
    "            tp1 = tp1[index_1_f].T\n",
    "            tp2 = tp2[index_2_f].T\n",
    "            tp3 = tp3[index_3_f].T\n",
    "            print(len(t1),len(t2),len(t3))\n",
    "        else:\n",
    "            t1, t2, t3, tp1, tp2, tp3, d1, d2, d3, a1, a2, a3, e1, e2, e3 = theodo_u.read_rosbag_theodolite_without_tf_raw_data(fname)\n",
    "            print(len(t1),len(t2),len(t3))\n",
    "\n",
    "        start_time = time.time()\n",
    "\n",
    "        # Put trajectories in same frame\n",
    "        tp1 = Tf_1@tp1\n",
    "        tp2 = Tf_12@tp2\n",
    "        tp3 = Tf_13@tp3\n",
    "\n",
    "        list_interval, list_time = theodo_f.split_time_interval_all_data(t1, t2, t3, limit_time_interval)\n",
    "        list_trajectories_split = theodo_f.merge_interval(list_interval, list_time, t1, t2, t3, limit_search)\n",
    "\n",
    "        Prediction_1 = []\n",
    "        Prediction_2 = []\n",
    "        Prediction_3 = []\n",
    "        T_prediction = []\n",
    "        Index_sensor = []\n",
    "\n",
    "        for i in tqdm(list_trajectories_split):\n",
    "\n",
    "            index_1 = np.array([i[0,0],i[1,0]])\n",
    "            index_2 = np.array([i[0,1],i[1,1]])\n",
    "            index_3 = np.array([i[0,2],i[1,2]])\n",
    "\n",
    "            save_index_1.append(index_1)\n",
    "            save_index_2.append(index_2)\n",
    "            save_index_3.append(index_3)\n",
    "\n",
    "            begin = np.max([t1[index_1[0]], t2[index_2[0]], t3[index_3[0]]])\n",
    "            end = np.min([t1[index_1[1]], t2[index_2[1]], t3[index_3[1]]])\n",
    "\n",
    "            if(abs(end-begin)>size_interval and begin<end):\n",
    "\n",
    "                Number = 0\n",
    "                T_prediction_sensor = []\n",
    "                for sensor_data in GNSS_raw_data_corrected:\n",
    "                    if sensor_data[0]<=end and sensor_data[0]>=begin:\n",
    "                        T_prediction_sensor.append(sensor_data[0])\n",
    "                        Index_sensor.append(Number)\n",
    "                    Number = Number + 1\n",
    "\n",
    "                #rate = 10  #Hz\n",
    "                #T_prediction_init = torch.from_numpy(np.arange(begin, end, 1/rate))\n",
    "                #print(T_prediction_sensor)\n",
    "                T_prediction_init = torch.from_numpy(np.array(T_prediction_sensor))\n",
    "\n",
    "                # Linear interpolation\n",
    "                if(Mode == \"L\" or Mode == \"All\"):\n",
    "                    T1, X1, Y1, Z1, T2, X2, Y2, Z2, T3, X3, Y3, Z3 = prediction_u.data_training_L(t1, t2, t3, tp1, tp2, tp3, index_1, index_2, index_3)\n",
    "                    mx1, my1, mz1, mx2, my2, mz2, mx3, my3, mz3 = prediction_u.linear_interpolation(T1, X1, Y1, Z1, T2, X2, Y2, Z2,T3, X3, Y3, Z3)\n",
    "\n",
    "                    for i in T_prediction_init.numpy():\n",
    "                        T_prediction.append(i)\n",
    "                        P1_L, P2_L, P3_L = prediction_u.linear_prediction(i, 0, mx1, my1, mz1, mx2, my2, mz2, mx3, my3, mz3)\n",
    "                        Prediction_1.append(P1_L)\n",
    "                        Prediction_2.append(P2_L)\n",
    "                        Prediction_3.append(P3_L)\n",
    "\n",
    "        stop_time = time.time()\n",
    "        print(stop_time - start_time)\n",
    "\n",
    "        print(\"Interpolation finished !\")\n",
    "\n",
    "        if save:\n",
    "\n",
    "            if(Mode == \"L\" or Mode == \"All\"):\n",
    "                if(filtering):\n",
    "                    trajectoire = \"f-\"+str(thresold_d)+\"-\"+str(thresold_a)+\"-\"+str(thresold_e)+\"-\"+str(limit_time_interval)+\"-\"+str(size_interval)+\"-\"+\"-L\"\n",
    "                else:\n",
    "                    trajectoire = \"nf-\"+str(limit_time_interval)+\"-\"+str(size_interval)+\"-\"+\"-L\"\n",
    "\n",
    "                if save:\n",
    "                    theodo_u.Convert_raw_data_point_to_csv(T_prediction, Prediction_1, path_out+trajectoire+ \"_1.csv\")\n",
    "                    theodo_u.Convert_raw_data_point_to_csv(T_prediction, Prediction_2, path_out+trajectoire+ \"_2.csv\")\n",
    "                    theodo_u.Convert_raw_data_point_to_csv(T_prediction, Prediction_3, path_out+trajectoire+ \"_3.csv\")\n",
    "\n",
    "        print(\"Saved !\")\n",
    "\n",
    "# Trajectories predicted\n",
    "Time = np.array(T_prediction)\n",
    "P1_arr = np.array(Prediction_1)\n",
    "P2_arr = np.array(Prediction_2)\n",
    "P3_arr = np.array(Prediction_3)\n",
    "Index_sensor = np.array(Index_sensor)"
   ],
   "metadata": {
    "collapsed": false
   }
  },
  {
   "cell_type": "code",
   "execution_count": null,
   "outputs": [],
   "source": [
    "# Plot of the interpolated trajectories\n",
    "%matplotlib notebook\n",
    "plt.figure()\n",
    "plt.scatter(t1,tp1[0,:],s =5)                                               # Raw data from rosbag\n",
    "plt.scatter(Time,P1_arr[:,0], s =2, linewidth=0.5, color= 'red')       # Interpolated points\n",
    "plt.xlabel(\"Time [s]\")\n",
    "plt.ylabel(\"Axis chosen [m]\")\n",
    "plt.show()"
   ],
   "metadata": {
    "collapsed": false
   }
  },
  {
   "cell_type": "code",
   "execution_count": null,
   "outputs": [],
   "source": [
    "theodo_r = importlib.reload(theodo_r)\n",
    "file_sensors = theodo_u.if_file_exist(path + \"sensors_extrinsic_calibration/calibration_results.csv\",'')\n",
    "extrinsic_calibration_results = theodo_u.read_extrinsic_calibration_results_file(file_sensors)\n",
    "error=[]\n",
    "error = theodo_r.inter_prism_distance_error_mean(P1_arr, P2_arr, P3_arr, extrinsic_calibration_results[0:3])"
   ],
   "metadata": {
    "collapsed": false
   }
  },
  {
   "cell_type": "code",
   "execution_count": null,
   "outputs": [],
   "source": [
    "# Plot error according to timestamps\n",
    "plt.figure()\n",
    "plt.plot(Time, error)\n",
    "plt.xlabel(\"Time [s]\")\n",
    "plt.ylabel(\"Error [mm]\")\n",
    "plt.yscale('log')\n",
    "plt.show()"
   ],
   "metadata": {
    "collapsed": false
   }
  },
  {
   "cell_type": "code",
   "execution_count": null,
   "outputs": [],
   "source": [
    "# Outliers for results\n",
    "P1_sort = []\n",
    "P2_sort = []\n",
    "P3_sort = []\n",
    "Time_sort = []\n",
    "Index_sensor_sort = []\n",
    "threshold_inter_prims_error = 10    # In mm, need to check how to choose it\n",
    "for i,j,k,l,m,n in zip(error,P1_arr,P2_arr,P3_arr,T_prediction,Index_sensor):\n",
    "    if(i<threshold_inter_prims_error):\n",
    "        P1_sort.append(j)\n",
    "        P2_sort.append(k)\n",
    "        P3_sort.append(l)\n",
    "        Time_sort.append(m)\n",
    "        Index_sensor_sort.append(n)\n",
    "print(\"Number points input/output: \", len(P1_arr), len(P1_sort))"
   ],
   "metadata": {
    "collapsed": false
   }
  },
  {
   "cell_type": "code",
   "execution_count": null,
   "outputs": [],
   "source": [
    "# Load sensor positions\n",
    "file_sensor_positions = theodo_u.if_file_exist(path + \"sensors_extrinsic_calibration/sensor_positions.csv\",'')\n",
    "sensor_positions_list = theodo_u.read_extrinsic_calibration_results_file(file_sensor_positions)\n",
    "GPS_data = True\n",
    "Lidar_data = False\n",
    "Gps_reference_chosen = 3    # 1: front, 2: back, 3: middle   # GNSS only for now\n",
    "\n",
    "Sensors = []\n",
    "P1_position_RTS = np.array(sensor_positions_list[0])\n",
    "P2_position_RTS = np.array(sensor_positions_list[1])\n",
    "P3_position_RTS = np.array(sensor_positions_list[2])\n",
    "if GPS_data:\n",
    "    Sensors.append(np.array(sensor_positions_list[3]))\n",
    "    Sensors.append(np.array(sensor_positions_list[4]))\n",
    "    Sensors.append(np.array(sensor_positions_list[5]))\n",
    "if Lidar_data:\n",
    "    Sensors.append(np.array(sensor_positions_list[6]))\n",
    "\n",
    "P1_position_GNSS = P1_position_RTS - Sensors[Gps_reference_chosen-1]\n",
    "P1_position_GNSS[3] = 1\n",
    "P2_position_GNSS = P2_position_RTS - Sensors[Gps_reference_chosen-1]\n",
    "P2_position_GNSS[3] = 1\n",
    "P3_position_GNSS = P3_position_RTS - Sensors[Gps_reference_chosen-1]\n",
    "P3_position_GNSS[3] = 1\n",
    "\n",
    "P_sensor = np.array([P1_position_GNSS,\n",
    "            P2_position_GNSS,\n",
    "            P3_position_GNSS]).T"
   ],
   "metadata": {
    "collapsed": false
   }
  },
  {
   "cell_type": "code",
   "execution_count": null,
   "outputs": [],
   "source": [
    "# Doing a minimization between these not moving points, and the 3D prism coordinates\n",
    "# Pose_GNSS is a list of each rigid transform founded\n",
    "list_sensor_time = []\n",
    "Pose_sensor = []\n",
    "Prism_corrected = []\n",
    "number = len(P1_sort)\n",
    "for i in range(0,number):\n",
    "    Q = np.array([P1_sort[i], P2_sort[i], P3_sort[i]]).T\n",
    "    Q =np.concatenate((Q, np.array([[1,1,1]])), axis=0)\n",
    "    T = theodo_u.point_to_point_minimization(P_sensor, Q)\n",
    "    Pose_sensor.append(T)\n",
    "    prism_correct = T@P_sensor\n",
    "    Prism_corrected.append(prism_correct)\n",
    "    list_sensor_time.append(Time_sort[i])\n",
    "Pose_sensor_arr = np.array(Pose_sensor)\n",
    "Prism_corrected_arr = np.array(Prism_corrected)"
   ],
   "metadata": {
    "collapsed": false
   }
  },
  {
   "cell_type": "code",
   "execution_count": null,
   "outputs": [],
   "source": [
    "# Plot bird view of the results\n",
    "%matplotlib notebook\n",
    "fig = plt.figure(figsize = (8, 6))\n",
    "ax = plt.axes()\n",
    "begin = 0\n",
    "end = -1\n",
    "ax.scatter(Pose_sensor_arr[begin:end,0,3],Pose_sensor_arr[begin:end,1,3], color='black')\n",
    "ax.scatter(Prism_corrected_arr[begin:end,0,0],Prism_corrected_arr[begin:end,1,0], color='red')\n",
    "ax.scatter(Prism_corrected_arr[begin:end,0,1],Prism_corrected_arr[begin:end,1,1], color='green')\n",
    "ax.scatter(Prism_corrected_arr[begin:end,0,2],Prism_corrected_arr[begin:end,1,2], color='blue')\n",
    "ax.set_xlabel(\"X [m]\")\n",
    "ax.set_ylabel(\"Y [m]\")\n",
    "ax.set_aspect('equal')\n",
    "fig.tight_layout()"
   ],
   "metadata": {
    "collapsed": false
   }
  },
  {
   "cell_type": "code",
   "execution_count": null,
   "outputs": [],
   "source": [
    "# Plot X axis results\n",
    "%matplotlib notebook\n",
    "fig = plt.figure(figsize = (8, 6))\n",
    "ax = plt.axes()\n",
    "begin = 0\n",
    "end = -1\n",
    "ax.scatter(list_sensor_time[begin:end],Pose_sensor_arr[begin:end,0,3], color='black')\n",
    "ax.scatter(list_sensor_time[begin:end],Prism_corrected_arr[begin:end,0,0], color='red')\n",
    "ax.scatter(list_sensor_time[begin:end],Prism_corrected_arr[begin:end,0,1], color='green')\n",
    "ax.scatter(list_sensor_time[begin:end],Prism_corrected_arr[begin:end,0,2], color='blue')\n",
    "ax.set_xlabel(\"Time [s]\")\n",
    "ax.set_ylabel(\"X [m]\")\n",
    "fig.tight_layout()"
   ],
   "metadata": {
    "collapsed": false
   }
  },
  {
   "cell_type": "code",
   "execution_count": null,
   "outputs": [],
   "source": [
    "# Plot Y axis results\n",
    "%matplotlib notebook\n",
    "fig = plt.figure(figsize = (8, 6))\n",
    "ax = plt.axes()\n",
    "begin = 0\n",
    "end = -1\n",
    "ax.scatter(list_sensor_time[begin:end],Pose_sensor_arr[begin:end,1,3], color='black')\n",
    "ax.scatter(list_sensor_time[begin:end],Prism_corrected_arr[begin:end,1,0], color='red')\n",
    "ax.scatter(list_sensor_time[begin:end],Prism_corrected_arr[begin:end,1,1], color='green')\n",
    "ax.scatter(list_sensor_time[begin:end],Prism_corrected_arr[begin:end,1,2], color='blue')\n",
    "ax.set_xlabel(\"Time [s]\")\n",
    "ax.set_ylabel(\"Y [m]\")\n",
    "fig.tight_layout()"
   ],
   "metadata": {
    "collapsed": false
   }
  },
  {
   "cell_type": "code",
   "execution_count": null,
   "outputs": [],
   "source": [
    "# Plot Z axis results\n",
    "%matplotlib notebook\n",
    "fig = plt.figure(figsize = (8, 6))\n",
    "ax = plt.axes()\n",
    "begin = 0\n",
    "end = -1\n",
    "ax.scatter(list_sensor_time[begin:end],Pose_sensor_arr[begin:end,2,3], color='black')\n",
    "ax.scatter(list_sensor_time[begin:end],Prism_corrected_arr[begin:end,2,0], color='red')\n",
    "ax.scatter(list_sensor_time[begin:end],Prism_corrected_arr[begin:end,2,1], color='green')\n",
    "ax.scatter(list_sensor_time[begin:end],Prism_corrected_arr[begin:end,2,2], color='blue')\n",
    "ax.set_xlabel(\"Time [s]\")\n",
    "ax.set_ylabel(\"Z [m]\")\n",
    "fig.tight_layout()"
   ],
   "metadata": {
    "collapsed": false
   }
  },
  {
   "cell_type": "code",
   "execution_count": null,
   "outputs": [],
   "source": [
    "# Save result if GNSS TUM format\n",
    "theodo_u = importlib.reload(theodo_u)\n",
    "theodo_u.grountruth_GP_gps_convert_for_eval(list_sensor_time, Pose_sensor_arr, path + \"ground_truth/gps_predicted_\" + str(Gps_reference_chosen) +\".txt\")\n",
    "theodo_u.grountruth_GNSS_sorted_convert_for_eval(Index_sensor_sort, path_GNSS_file, time_delay, path + \"gps_data/gps_sorted_eval_\" + str(Gps_reference_chosen) +\".txt\")"
   ],
   "metadata": {
    "collapsed": false
   }
  },
  {
   "cell_type": "code",
   "execution_count": null,
   "outputs": [],
   "source": [],
   "metadata": {
    "collapsed": false
   }
  }
 ],
 "metadata": {
  "kernelspec": {
   "display_name": "Python 3",
   "language": "python",
   "name": "python3"
  },
  "language_info": {
   "codemirror_mode": {
    "name": "ipython",
    "version": 3
   },
   "file_extension": ".py",
   "mimetype": "text/x-python",
   "name": "python",
   "nbconvert_exporter": "python",
   "pygments_lexer": "ipython3",
   "version": "3.6.9"
  }
 },
 "nbformat": 4,
 "nbformat_minor": 5
}
