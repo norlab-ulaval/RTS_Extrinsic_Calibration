{
 "cells": [
  {
   "cell_type": "markdown",
   "source": [
    "# Ground-truth generation pipeline (In progress)\n",
    "\n",
    "Pipeline to generate Lidar or GNSS ground-truth from the prism trajectories gathered by the RTS setup"
   ],
   "metadata": {
    "collapsed": false
   }
  },
  {
   "cell_type": "code",
   "execution_count": 1,
   "outputs": [],
   "source": [
    "import numpy as np\n",
    "import warnings\n",
    "warnings.filterwarnings('ignore')\n",
    "import sys\n",
    "sys.path.append(\"../\")\n",
    "import importlib\n",
    "import scripts.theodolite_utils as theodo_u\n",
    "import scripts.groundtruth_utils as theodo_g"
   ],
   "metadata": {
    "collapsed": false
   }
  },
  {
   "cell_type": "code",
   "execution_count": 9,
   "id": "022d5b76",
   "metadata": {},
   "outputs": [],
   "source": [
    "theodo_u = importlib.reload(theodo_u)\n",
    "\n",
    "# Path of the RTS data\n",
    "path = \"../data/20220224/\"\n",
    "\n",
    "# Reading sensor data\n",
    "# Sensor = \"Robosense_32\"\n",
    "Sensor = \"GNSS\"   # GNSS or Robosense_32\n",
    "# path_sensor_file = path+\"ICP/icp_odom.csv\"\n",
    "\n",
    "# Sensor = \"GNSS\"\n",
    "path_sensor_file = path+\"gps_data/\"+\"gps3.txt\"\n",
    "path_sensor_file_synch_time = path+\"gps_data/delay_synchronization_GNSS_3.txt\"  # If applied to GNSS\n",
    "Gps_reference_chosen = 3    # 1: front, 2: back, 3: middle   # Only for GNSS\n",
    "\n",
    "parameters = [\n",
    "    [1,2,1,1,3],  # 1. Apply filtering or not (Module 1), 2-3-4. Parameters tau_r, tau_a, tau_e (Module 1), 5. Parameter tau_s (Module 2)\n",
    "]\n",
    "\n",
    "# Path of the rosbags to process the RTS data\n",
    "file = [\n",
    "        \"/home/maxime/data/ICRA_2023/Vaidis2022_dataset/20220224/20220224_inter_prism.bag\"\n",
    "       ]\n",
    "\n",
    "output = [\n",
    "        path\n",
    "]"
   ]
  },
  {
   "cell_type": "code",
   "execution_count": 10,
   "outputs": [
    {
     "name": "stdout",
     "output_type": "stream",
     "text": [
      "[1, 2, 1, 1, 3]\n",
      "Number of data for theodolites: [4945 4681 4737]\n",
      "Bad measures: 558\n",
      "3836 3619 3690\n"
     ]
    },
    {
     "name": "stderr",
     "output_type": "stream",
     "text": [
      "100%|██████████| 47/47 [00:01<00:00, 35.45it/s]\n"
     ]
    },
    {
     "name": "stdout",
     "output_type": "stream",
     "text": [
      "Interpolation finished !\n",
      "Saved !\n",
      "Conversion done !\n",
      "Conversion done !\n",
      "Pipeline done !\n"
     ]
    }
   ],
   "source": [
    "theodo_g = importlib.reload(theodo_g)\n",
    "\n",
    "theodo_g.pipeline_groundtruth(path, Sensor, path_sensor_file, parameters, file, output, path_sensor_file_synch_time, Gps_reference_chosen)"
   ],
   "metadata": {
    "collapsed": false
   }
  },
  {
   "cell_type": "code",
   "execution_count": null,
   "outputs": [],
   "source": [],
   "metadata": {
    "collapsed": false
   }
  }
 ],
 "metadata": {
  "kernelspec": {
   "display_name": "Python 3",
   "language": "python",
   "name": "python3"
  },
  "language_info": {
   "codemirror_mode": {
    "name": "ipython",
    "version": 3
   },
   "file_extension": ".py",
   "mimetype": "text/x-python",
   "name": "python",
   "nbconvert_exporter": "python",
   "pygments_lexer": "ipython3",
   "version": "3.6.9"
  }
 },
 "nbformat": 4,
 "nbformat_minor": 5
}
