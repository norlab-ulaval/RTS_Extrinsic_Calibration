{
 "cells": [
  {
   "cell_type": "code",
   "execution_count": 1,
   "metadata": {
    "collapsed": true
   },
   "outputs": [],
   "source": [
    "import sys\n",
    "sys.path.append(\"../\")\n",
    "import numpy as np\n",
    "import matplotlib.pyplot as plt\n",
    "import scripts.theodolite_utils as theodo_u\n",
    "import scripts.theodolite_plot_function as theodo_p\n",
    "import scripts.groundtruth_utils as theodo_g\n",
    "from scipy.spatial.transform import Rotation as R\n",
    "from numpy import linalg\n",
    "import importlib\n",
    "theodo_u = importlib.reload(theodo_u)\n",
    "theodo_p = importlib.reload(theodo_p)"
   ]
  },
  {
   "cell_type": "code",
   "execution_count": 2,
   "outputs": [],
   "source": [
    "theodo_u = importlib.reload(theodo_u)\n",
    "\n",
    "# Data we want to use\n",
    "path = [\n",
    "    \"../data/20220224/\",\n",
    "    # \"../data/20220307/\",\n",
    "    # \"../data/20220312/\",\n",
    "    # \"../data/20220314/\",\n",
    "    # \"../data/20220316/\",\n",
    "    # \"../data/20220331-1/\",\n",
    "    # \"../data/20220331-2/\",\n",
    "    # \"../data/20220427-1/\",\n",
    "    # \"../data/20220427-2/\",\n",
    "    # \"../data/20220513-1/\",\n",
    "    # \"../data/20220513-2/\",\n",
    "    # \"../data/20220513-3/\",\n",
    "    # \"../data/20220513-4/\",\n",
    "    # \"../data/20220513-5/\",\n",
    "    # \"../data/20220513-6/\",\n",
    "    # \"../data/20220525-1/\",\n",
    "    # \"../data/20220525-2/\",\n",
    "    # \"../data/20220622-1/\",\n",
    "    # \"../data/20220622-2/\",\n",
    "    # \"../data/20220630-1/\",\n",
    "    # \"../data/20220630-2/\",\n",
    "    # \"../data/20220711-1/\",\n",
    "    # \"../data/20220711-2/\",\n",
    "    # \"../data/20220715-1/\",\n",
    "    # \"../data/20220715-2/\",\n",
    "    # \"../data/20220715-3/\",\n",
    "    # \"../data/20220715-4/\",\n",
    "    # \"../data/20221103-1/\",\n",
    "    # \"../data/20221103-2/\",\n",
    "    # \"../data/20221103-3/\",\n",
    "    # \"../data/20221109-1/\",\n",
    "    # \"../data/20221109-2/\",\n",
    "    # \"../data/20221109-3/\",\n",
    "    # \"../data/20221110/\",\n",
    "    # \"../data/20221116-1/\",\n",
    "    # \"../data/20221123/\",\n",
    "    # \"../data/20221124/\",\n",
    "    # \"../data/20221129-1/\",\n",
    "    # \"../data/20221129-2/\",\n",
    "    # \"../data/20221129-3/\",\n",
    "    # \"../data/20221129-4/\",\n",
    "    # \"../data/20221129-5/\",\n",
    "    # \"../data/20221205-1/\",\n",
    "    # \"../data/20221205-2/\",\n",
    "    # \"../data/20221205-3/\"\n",
    "]\n",
    "\n",
    "# Sub path to the file of raw_data in each repository\n",
    "sub_path = \"uncertainty/interpolation/MC_Fake_\"\n",
    "model_chosen_list = [\n",
    "    \"0_0_0_0_0_5\",\n",
    "    \"0_0_0_1_0_5\",\n",
    "]\n",
    "\n",
    "Sensor = \"GNSS\"\n",
    "path_sensor_file = \"gps_data/\"+\"gps1.txt\"\n",
    "path_sensor_file_synch_time = \"gps_data/delay_synchronization_GNSS_1.txt\"  # If applied to GNSS\n",
    "Gps_reference_chosen = 1    # 1: front, 2: back, 3: middle   # Only for GNSS\n",
    "\n",
    "# Limit acceptable for ground truth error\n",
    "limit_taken_into_accout = False\n",
    "limit_dist = 100  # Need to check the impact\n",
    "limit_uncertainty = 100 # Limit of eigenvalues taken into account\n",
    "\n",
    "num_samples_MC_sensor = 100   ## Number sample for uncertainty propagation to the sensor\n",
    "want_sensor_pose = True      ## Compute sensor uncertainty\n",
    "save_MC_sensor = True        ## Save sensor pose with uncertainty"
   ],
   "metadata": {
    "collapsed": false
   }
  },
  {
   "cell_type": "code",
   "execution_count": 4,
   "outputs": [
    {
     "name": "stdout",
     "output_type": "stream",
     "text": [
      "Model chosen:  0_0_0_0_0_5\n",
      "../data/20220224/\n",
      "Conversion done !\n",
      "Interpolation finished !\n",
      "Model chosen:  0_0_0_1_0_5\n",
      "../data/20220224/\n",
      "Conversion done !\n",
      "Interpolation finished !\n"
     ]
    }
   ],
   "source": [
    "theodo_g = importlib.reload(theodo_g)\n",
    "theodo_u = importlib.reload(theodo_u)\n",
    "\n",
    "# Compute covariance of all measurements for the dataset selected and model chosen\n",
    "Data_uncertainty_total = []\n",
    "for model_chosen in model_chosen_list:\n",
    "    print(\"Model chosen: \", model_chosen)\n",
    "    for file_path in path:\n",
    "        print(file_path)\n",
    "\n",
    "        # Reading sensor extrinsic calibration\n",
    "        file_sensors = theodo_u.if_file_exist(file_path + \"sensors_extrinsic_calibration/calibration_results.csv\",'')\n",
    "        extrinsic_calibration_results = theodo_u.read_extrinsic_calibration_results_file(file_sensors)\n",
    "\n",
    "        ## Read sensor data which we want a ground truth\n",
    "        sensor_data = []\n",
    "        if Sensor == \"GNSS\":\n",
    "            GNSS_raw_data = theodo_u.read_prediction_data_Linear_csv_file(file_path+path_sensor_file)\n",
    "            time_delay = float(theodo_u.read_time_delay(file_path+path_sensor_file_synch_time))\n",
    "\n",
    "            for i in GNSS_raw_data:\n",
    "                raw_data = np.array([i[0] + time_delay, i[1], i[2], i[3], 0, 0, 0, 1])\n",
    "                sensor_data.append(raw_data)\n",
    "            sensor_data = np.array(sensor_data)\n",
    "\n",
    "        if Sensor == \"Robosense_32\":\n",
    "            sensor_data = theodo_u.read_icp_odom_file(file_path+path_sensor_file)\n",
    "            sensor_data = np.array(sensor_data)\n",
    "\n",
    "        P1 = theodo_u.read_point_uncertainty_csv_file(file_path+sub_path+model_chosen+\"_1.csv\")\n",
    "        P2 = theodo_u.read_point_uncertainty_csv_file(file_path+sub_path+model_chosen+\"_2.csv\")\n",
    "        P3 = theodo_u.read_point_uncertainty_csv_file(file_path+sub_path+model_chosen+\"_3.csv\")\n",
    "\n",
    "        MC_1_sorted = []\n",
    "        MC_2_sorted = []\n",
    "        MC_3_sorted = []\n",
    "        if limit_taken_into_accout:\n",
    "            for i1,j1,k1 in zip(P1,P2,P3):\n",
    "                d1 = abs(np.linalg.norm(i1[1]-j1[1])-extrinsic_calibration_results[0])\n",
    "                d2 = abs(np.linalg.norm(i1[1]-k1[1])-extrinsic_calibration_results[1])\n",
    "                d3 = abs(np.linalg.norm(k1[1]-j1[1])-extrinsic_calibration_results[2])\n",
    "                if d1<limit_dist and d2<limit_dist and d3<limit_dist:\n",
    "                    MC_1_sorted.append(i1)\n",
    "                    MC_2_sorted.append(j1)\n",
    "                    MC_3_sorted.append(k1)\n",
    "        else:\n",
    "            MC_1_sorted = P1\n",
    "            MC_2_sorted = P2\n",
    "            MC_3_sorted = P3\n",
    "\n",
    "        if want_sensor_pose==True:\n",
    "            P_sensor = theodo_g.chose_sensor_before_ptp(file_path, Sensor, Gps_reference_chosen)\n",
    "            Pose_sensor_MC = []\n",
    "            for i_mc,j_mc,k_mc in zip(MC_1_sorted,MC_2_sorted,MC_3_sorted):\n",
    "                Pose_sensor = []\n",
    "                p1_corrected = theodo_g.return_point_from_covariance(i_mc[2],i_mc[1], num_samples_MC_sensor)\n",
    "                p2_corrected = theodo_g.return_point_from_covariance(j_mc[2],j_mc[1], num_samples_MC_sensor)\n",
    "                p3_corrected = theodo_g.return_point_from_covariance(k_mc[2],k_mc[1], num_samples_MC_sensor)\n",
    "                for i,j,k in zip(p1_corrected,p2_corrected,p3_corrected):\n",
    "                    Q = np.array([i, j, k]).T\n",
    "                    Q =np.concatenate((Q, np.array([[1,1,1]])), axis=0)\n",
    "                    T = theodo_u.point_to_point_minimization(P_sensor, Q)\n",
    "                    Pose_sensor.append(T)\n",
    "                mu_T, cov_matrix_T, mu_A, cov_matrix_A = theodo_g.find_noise_list_tf(Pose_sensor)\n",
    "                Pose_sensor_MC.append([i[0], mu_T, cov_matrix_T, mu_A, cov_matrix_A])\n",
    "\n",
    "            if save_MC_sensor:\n",
    "                if Sensor==\"GNSS\":\n",
    "                    theodo_u.save_MC_pose_sorted(Pose_sensor_MC, file_path + \"uncertainty/sensor/\"+Sensor+\"_\"+str(Gps_reference_chosen)+\"_\"\n",
    "                                                         +str(model_chosen[0])+\"_\"+str(model_chosen[2])+\"_\"+str(model_chosen[4])\n",
    "                                                     +\"_\"+str(model_chosen[6])+\"_\"+str(model_chosen[8])+\".csv\")\n",
    "                else:\n",
    "                    theodo_u.save_MC_pose_sorted(Pose_sensor_MC, file_path + \"uncertainty/sensor/\"+Sensor+\"_\"\n",
    "                                                         +str(model_chosen[0])+\"_\"+str(model_chosen[2])+\"_\"+str(model_chosen[4])\n",
    "                                                     +\"_\"+str(model_chosen[6])+\"_\"+str(model_chosen[8])+\".csv\")\n",
    "\n",
    "        print(\"Interpolation finished !\")\n"
   ],
   "metadata": {
    "collapsed": false
   }
  },
  {
   "cell_type": "code",
   "execution_count": 6,
   "outputs": [],
   "source": [
    "theodo_u = importlib.reload(theodo_u)\n",
    "\n",
    "Pose_0 = theodo_u.read_pose_uncertainty_sorted(\"../data/20220224/uncertainty/sensor/GNSS_1_0_0_0_0_0.csv\")\n",
    "Pose_1 = theodo_u.read_pose_uncertainty_sorted(\"../data/20220224/uncertainty/sensor/GNSS_1_0_0_0_1_0.csv\")"
   ],
   "metadata": {
    "collapsed": false
   }
  },
  {
   "cell_type": "code",
   "execution_count": 9,
   "outputs": [
    {
     "name": "stdout",
     "output_type": "stream",
     "text": [
      "1\n"
     ]
    }
   ],
   "source": [
    "theodo_g = importlib.reload(theodo_g)\n",
    "\n",
    "Data_total = [Pose_0,Pose_1]\n",
    "## Frobenius norm for all data according to the model chosen and the range linked\n",
    "Parameter_RTS_total = []    # Here the parameters linked to the metric (range for instance)\n",
    "Distance_F_total_t = []\n",
    "Distance_F_total_a = []\n",
    "Number_model = 1\n",
    "for model in Data_total[1:]:\n",
    "    print(Number_model)\n",
    "    Number_model=Number_model+1\n",
    "    Distance_F_t = []\n",
    "    Distance_F_a = []\n",
    "    Parameter_RTS = []\n",
    "    for value_model, value_0 in zip(model, Data_total[0]):\n",
    "        Distance_F_t.append(np.sqrt(theodo_u.Frobenius_norm(value_model[2], value_0[2])))\n",
    "        Distance_F_a.append(np.sqrt(theodo_u.Frobenius_norm(value_model[4], value_0[4])))\n",
    "        Parameter_RTS.append(value_0[3][0])\n",
    "    Distance_F_total_t.append(Distance_F_t)\n",
    "    Distance_F_total_a.append(Distance_F_a)\n",
    "    Parameter_RTS_total.append(Parameter_RTS)"
   ],
   "metadata": {
    "collapsed": false
   }
  },
  {
   "cell_type": "code",
   "execution_count": 11,
   "outputs": [
    {
     "data": {
      "text/plain": "<Figure size 640x480 with 1 Axes>",
      "image/png": "[encoded data removed]"
     },
     "metadata": {},
     "output_type": "display_data"
    }
   ],
   "source": [
    "data = Distance_F_total_t\n",
    "fig, ax = plt.subplots()\n",
    "ax.boxplot(data, showfliers=False, notch=False)\n",
    "ax.set_xticklabels(['RTS + time error'])\n",
    "#ax.set_xticklabels(['RTS + Tilt', 'RTS + \\nAtmospheric', 'RTS + \\nExtrinsic calib', 'RTS + time error', 'RTS + All'])\n",
    "#ax.set_xticklabels(['RTS + \\nExtrinsic calib', 'RTS + All'])\n",
    "plt.show()"
   ],
   "metadata": {
    "collapsed": false
   }
  },
  {
   "cell_type": "code",
   "execution_count": 12,
   "outputs": [
    {
     "data": {
      "text/plain": "<Figure size 640x480 with 1 Axes>",
      "image/png": "[encoded data removed]"
     },
     "metadata": {},
     "output_type": "display_data"
    }
   ],
   "source": [
    "data = Distance_F_total_a\n",
    "fig, ax = plt.subplots()\n",
    "ax.boxplot(data, showfliers=False, notch=False)\n",
    "ax.set_xticklabels(['RTS + time error'])\n",
    "#ax.set_xticklabels(['RTS + Tilt', 'RTS + \\nAtmospheric', 'RTS + \\nExtrinsic calib', 'RTS + time error', 'RTS + All'])\n",
    "#ax.set_xticklabels(['RTS + \\nExtrinsic calib', 'RTS + All'])\n",
    "plt.show()"
   ],
   "metadata": {
    "collapsed": false
   }
  },
  {
   "cell_type": "code",
   "execution_count": null,
   "outputs": [],
   "source": [],
   "metadata": {
    "collapsed": false
   }
  }
 ],
 "metadata": {
  "kernelspec": {
   "display_name": "Python 3",
   "language": "python",
   "name": "python3"
  },
  "language_info": {
   "codemirror_mode": {
    "name": "ipython",
    "version": 2
   },
   "file_extension": ".py",
   "mimetype": "text/x-python",
   "name": "python",
   "nbconvert_exporter": "python",
   "pygments_lexer": "ipython2",
   "version": "2.7.6"
  }
 },
 "nbformat": 4,
 "nbformat_minor": 0
}
