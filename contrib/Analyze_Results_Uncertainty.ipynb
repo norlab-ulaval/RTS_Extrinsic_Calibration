{
 "cells": [
  {
   "cell_type": "code",
   "execution_count": null,
   "metadata": {
    "collapsed": true
   },
   "outputs": [],
   "source": [
    "import sys\n",
    "sys.path.append(\"../\")\n",
    "import numpy as np\n",
    "import matplotlib.pyplot as plt\n",
    "import scripts.theodolite_utils as theodo_u\n",
    "import scripts.theodolite_plot_function as theodo_p\n",
    "import scripts.groundtruth_utils as theodo_g\n",
    "from numpy import linalg\n",
    "import importlib\n",
    "theodo_u = importlib.reload(theodo_u)\n",
    "theodo_p = importlib.reload(theodo_p)"
   ]
  },
  {
   "cell_type": "markdown",
   "source": [
    "# Analysis with all data"
   ],
   "metadata": {
    "collapsed": false
   }
  },
  {
   "cell_type": "code",
   "execution_count": null,
   "outputs": [],
   "source": [
    "theodo_u = importlib.reload(theodo_u)\n",
    "\n",
    "# Data we want to use\n",
    "path = [\n",
    "    \"../data/20220224/\",\n",
    "    \"../data/20220307/\",\n",
    "    \"../data/20220312/\",\n",
    "    \"../data/20220314/\",\n",
    "    \"../data/20220316/\",\n",
    "    \"../data/20220331-1/\",\n",
    "    \"../data/20220331-2/\",\n",
    "    \"../data/20220427-1/\",\n",
    "    \"../data/20220427-2/\",\n",
    "    \"../data/20220505-1/\",\n",
    "    \"../data/20220505-2/\",\n",
    "    \"../data/20220513-1/\",\n",
    "    \"../data/20220513-2/\",\n",
    "    \"../data/20220513-3/\",\n",
    "    \"../data/20220513-4/\",\n",
    "    \"../data/20220513-5/\",\n",
    "    \"../data/20220513-6/\",\n",
    "    \"../data/20220523-1/\",\n",
    "    \"../data/20220523-2/\",\n",
    "    \"../data/20220523-3/\",\n",
    "    \"../data/20220523-4/\",\n",
    "    \"../data/20220525-1/\",\n",
    "    \"../data/20220525-2/\",\n",
    "    \"../data/20220622-1/\",\n",
    "    \"../data/20220622-2/\",\n",
    "    \"../data/20220630-1/\",\n",
    "    \"../data/20220630-2/\",\n",
    "    \"../data/20220711-1/\",\n",
    "    \"../data/20220711-2/\",\n",
    "    \"../data/20220715-1/\",\n",
    "    \"../data/20220715-2/\",\n",
    "    \"../data/20220715-3/\",\n",
    "    \"../data/20220715-4/\",\n",
    "    \"../data/20220717-1/\",\n",
    "    \"../data/20220717-2/\",\n",
    "    \"../data/20220717-3/\",\n",
    "    \"../data/20220717-4/\",\n",
    "    \"../data/20220717-5/\",\n",
    "    \"../data/20220910-1/\",\n",
    "    \"../data/20220910-2/\",\n",
    "    \"../data/20220910-3/\",\n",
    "    \"../data/20220910-4/\",\n",
    "    \"../data/20220910-5/\",\n",
    "    \"../data/20220910-6/\",\n",
    "    \"../data/20220910-7/\",\n",
    "    \"../data/20220910-8/\",\n",
    "    \"../data/20220910-9/\",\n",
    "    \"../data/20221103-1/\",\n",
    "    \"../data/20221103-2/\",\n",
    "    \"../data/20221103-3/\",\n",
    "    \"../data/20221109-1/\",\n",
    "    \"../data/20221109-2/\",\n",
    "    \"../data/20221109-3/\",\n",
    "    \"../data/20221110/\",\n",
    "    \"../data/20221116-1/\",\n",
    "    \"../data/20221123/\",\n",
    "    \"../data/20221124/\",\n",
    "    \"../data/20221129-1/\",\n",
    "    \"../data/20221129-2/\",\n",
    "    \"../data/20221129-3/\",\n",
    "    \"../data/20221129-4/\",\n",
    "    \"../data/20221129-5/\",\n",
    "    \"../data/20221205-1/\",\n",
    "    \"../data/20221205-2/\",\n",
    "    \"../data/20221205-3/\"\n",
    "]\n",
    "\n",
    "# Sub path to the file of raw_data in each repository\n",
    "sub_path = \"uncertainty/raw_data/\"\n",
    "\n",
    "## Values of corrections\n",
    "## Range\n",
    "random_noise_range = [0, 0.004/2, 2]   ## Mean, sigma, ppm,  4mm + 2ppm (2 sigma)  ISO17123-3\n",
    "## Angles\n",
    "random_noise_angle = [0, 0.000024241/5*4/2]    # Mean, sigma, 5\"=0.000024241 precision datasheet  (2 sigma)  ISO17123-3\n",
    "## Tilt compensator\n",
    "random_noise_tilt = [0, 0.000002424/2]    # Mean, sigma, 0.5\"=0.000002424 precision datasheet  (2 sigma)  ISO17123-3\n",
    "## Weather\n",
    "weather_data_path = \"../data/weather_2022/Quebec/\"\n",
    "data_weather = np.array(theodo_u.read_weather_data(weather_data_path+\"data_sorted_2022.txt\"))\n",
    "## MC number sample\n",
    "num_samples = 100\n",
    "\n",
    "## Choice of noise model  # Tilt noise, Atmospheric correction, extrinsic calibration, Weather corrections, Time synchronization # 1: Activate, 0:Disable\n",
    "model_chosen_list = [\n",
    "    [0, 0, 0, 0, 0],\n",
    "    [1, 0, 0, 0, 0],\n",
    "    [0, 1, 0, 0, 0],\n",
    "    [0, 0, 1, 0, 0],\n",
    "    [1, 1, 1, 0, 0]\n",
    "]"
   ],
   "metadata": {
    "collapsed": false
   }
  },
  {
   "cell_type": "code",
   "execution_count": null,
   "outputs": [],
   "source": [
    "# Compute covariance of all measurements for the dataset selected and model chosen\n",
    "\n",
    "Data_uncertainty_total = []\n",
    "for model_chosen in model_chosen_list:\n",
    "    print(\"Model chosen: \", model_chosen)\n",
    "    Data_uncertainty = []\n",
    "    for file_path in path:\n",
    "        print(file_path)\n",
    "        P1 = theodo_u.read_raw_data_uncertainty(file_path+sub_path+\"prism1.csv\")\n",
    "        P2 = theodo_u.read_raw_data_uncertainty(file_path+sub_path+\"prism2.csv\")\n",
    "        P3 = theodo_u.read_raw_data_uncertainty(file_path+sub_path+\"prism3.csv\")\n",
    "\n",
    "        ## Number of rigid transforms to apply the uncertainty\n",
    "        path_file_GCP = \"total_stations/GCP.txt\"\n",
    "        frame_chosen, T_1_corrected, T_2_corrected, T_3_corrected = theodo_g.extrinsic_calibration_noise(file_path+path_file_GCP, random_noise_range, random_noise_angle, random_noise_tilt, num_samples)\n",
    "        ## Read Extrinsic results for RTS\n",
    "        ## Estimated extrinsic calibration uncertainty\n",
    "        _, _, _, Tf_1, Tf_2, Tf_3 = theodo_u.read_marker_file(file_path+path_file_GCP, 1, 1)\n",
    "\n",
    "        for i,j,k in zip(P1,P2,P3):\n",
    "            mu_raw_data, _,cov_matrix_simulated = theodo_g.MC_raw_data(num_samples, i[1], random_noise_range, i[2], i[3], random_noise_angle, random_noise_tilt, Tf_1, T_1_corrected, data_weather, i[0], model_chosen)\n",
    "            # Time, points in cartesian frame of RTS 1, Covariance matrix, raw range, raw azimuth, raw elevation\n",
    "            Data_uncertainty.append([i[0],mu_raw_data,cov_matrix_simulated, i[1], i[2], i[3]])\n",
    "            mu_raw_data, _,cov_matrix_simulated = theodo_g.MC_raw_data(num_samples, j[1], random_noise_range, j[2], j[3], random_noise_angle, random_noise_tilt, Tf_1, T_1_corrected, data_weather, j[0], model_chosen)\n",
    "            # Time, points in cartesian frame of RTS 1, Covariance matrix, raw range, raw azimuth, raw elevation\n",
    "            Data_uncertainty.append([j[0],mu_raw_data,cov_matrix_simulated, j[1], j[2], j[3]])\n",
    "            mu_raw_data, _,cov_matrix_simulated = theodo_g.MC_raw_data(num_samples, k[1], random_noise_range, k[2], k[3], random_noise_angle, random_noise_tilt, Tf_1, T_1_corrected, data_weather, k[0], model_chosen)\n",
    "            # Time, points in cartesian frame of RTS 1, Covariance matrix, raw range, raw azimuth, raw elevation\n",
    "            Data_uncertainty.append([k[0],mu_raw_data,cov_matrix_simulated, k[1], k[2], k[3]])\n",
    "\n",
    "    Data_uncertainty_total.append(Data_uncertainty)\n",
    "Data_uncertainty_total = np.array(Data_uncertainty_total)"
   ],
   "metadata": {
    "collapsed": false
   }
  },
  {
   "cell_type": "code",
   "execution_count": null,
   "outputs": [],
   "source": [
    "theodo_g = importlib.reload(theodo_g)\n",
    "\n",
    "## Frobenius norm for all data according to the model chosen and the range linked\n",
    "Parameter_RTS_total = []    # Here the parameters linked to the metric (range for instance)\n",
    "Distance_F_total = []\n",
    "for i in Data_uncertainty_total[1:]:\n",
    "    Distance_F = []\n",
    "    Parameter_RTS = []\n",
    "    for j,k in zip(i,Data_uncertainty_total[0]):\n",
    "        Distance_F.append(np.sqrt(theodo_u.Frobenius_norm(j[2], k[2])))\n",
    "        Parameter_RTS.append(j[3])\n",
    "    Distance_F_total.append(Distance_F)\n",
    "    Parameter_RTS_total.append(Parameter_RTS)"
   ],
   "metadata": {
    "collapsed": false
   }
  },
  {
   "cell_type": "code",
   "execution_count": null,
   "outputs": [],
   "source": [
    "data = Distance_F_total\n",
    "fig, ax = plt.subplots()\n",
    "ax.boxplot(data, showfliers=False, notch=False)\n",
    "ax.set_xticklabels(['RTS + Tilt', 'RTS + \\nAtmospheric', 'RTS + \\nExtrinsic calib', 'RTS + All'])\n",
    "plt.show()"
   ],
   "metadata": {
    "collapsed": false
   }
  },
  {
   "cell_type": "code",
   "execution_count": null,
   "outputs": [],
   "source": [
    "theodo_g = importlib.reload(theodo_g)\n",
    "\n",
    "## Sort results according to the range of measurements\n",
    "Distance_F_total_sorted = []\n",
    "for i,j in zip(Distance_F_total, Parameter_RTS_total):\n",
    "    Dist_0_25 = []\n",
    "    Dist_25_75 = []\n",
    "    Dist_75_125 = []\n",
    "    Dist_125_200 = []\n",
    "    Dist_200 = []\n",
    "    for k,l in zip(i,j):\n",
    "        if 0 <= l < 25:                 # Between 0 and 25m\n",
    "            Dist_0_25.append(k*1000)\n",
    "        if 25 <= l < 75:                # Between 25 and 75m\n",
    "            Dist_25_75.append(k*1000)\n",
    "        if 75 <= l < 125:               # Between 75 and 125m\n",
    "            Dist_75_125.append(k*1000)\n",
    "        if 125 <= l < 200:              # Between 125 and 200m\n",
    "            Dist_125_200.append(k*1000)\n",
    "        if 200 <= l:                    # Between 200 and more\n",
    "            Dist_200.append(k*1000)\n",
    "    Distance_F_total_sorted.append([Dist_0_25, Dist_25_75, Dist_75_125, Dist_125_200, Dist_200])"
   ],
   "metadata": {
    "collapsed": false
   }
  },
  {
   "cell_type": "code",
   "execution_count": null,
   "outputs": [],
   "source": [
    "data = []\n",
    "for i in Distance_F_total_sorted:\n",
    "    for j in i:\n",
    "        data.append(j)\n",
    "max_value = np.max(data[-1])\n",
    "\n",
    "fig, ax = plt.subplots()\n",
    "box = ax.boxplot(data, showfliers=False, notch=False, patch_artist=True)\n",
    "ax.set_xticklabels(['', '', 'RTS + Tilt', '', '',\n",
    "                    '', '', 'RTS + \\nAtmospheric', '', '',\n",
    "                    '', '', 'RTS + \\nExtrinsic calib', '', '',\n",
    "                    '', '', 'RTS + All', '', '',])\n",
    "\n",
    "colors = ['cyan', 'lightblue', 'lightgreen', 'tan', 'pink',\n",
    "          'cyan', 'lightblue', 'lightgreen', 'tan', 'pink',\n",
    "          'cyan', 'lightblue', 'lightgreen', 'tan', 'pink',\n",
    "          'cyan', 'lightblue', 'lightgreen', 'tan', 'pink']\n",
    "for patch, color in zip(box['boxes'], colors):\n",
    "    patch.set_facecolor(color)\n",
    "\n",
    "ax.vlines(5.5,0,max_value, linestyles='dashed', color=\"black\")\n",
    "ax.vlines(10.5,0,max_value, linestyles='dashed', color=\"black\")\n",
    "ax.vlines(15.5,0,max_value, linestyles='dashed', color=\"black\")\n",
    "\n",
    "ax.set_xlabel(\"\\nCorrection used as comparison\")\n",
    "ax.set_ylabel(\"Square Frobenius norm [mm]\")\n",
    "ax.set_yscale('log')\n",
    "ax.legend(handles=[box[\"boxes\"][0], box[\"boxes\"][1], box[\"boxes\"][2], box[\"boxes\"][3], box[\"boxes\"][4]],\n",
    "          labels =['0 to 25m', '25 to 75m', '75 to 125m', '125 to 200m', 'More than 200m'],\n",
    "          loc='upper center', bbox_to_anchor=(0.5, 1.18), ncol=3)\n",
    "plt.tight_layout()\n",
    "plt.savefig(\"../figs/uncertainty/Frobenius_norm.png\", bbox_inches=\"tight\")\n",
    "plt.show()"
   ],
   "metadata": {
    "collapsed": false
   }
  },
  {
   "cell_type": "code",
   "execution_count": null,
   "outputs": [],
   "source": [],
   "metadata": {
    "collapsed": false
   }
  }
 ],
 "metadata": {
  "kernelspec": {
   "display_name": "Python 3",
   "language": "python",
   "name": "python3"
  },
  "language_info": {
   "codemirror_mode": {
    "name": "ipython",
    "version": 2
   },
   "file_extension": ".py",
   "mimetype": "text/x-python",
   "name": "python",
   "nbconvert_exporter": "python",
   "pygments_lexer": "ipython2",
   "version": "2.7.6"
  }
 },
 "nbformat": 4,
 "nbformat_minor": 0
}
