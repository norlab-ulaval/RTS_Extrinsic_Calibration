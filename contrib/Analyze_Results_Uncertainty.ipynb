{
 "cells": [
  {
   "cell_type": "code",
   "execution_count": 1,
   "metadata": {
    "collapsed": true
   },
   "outputs": [],
   "source": [
    "import sys\n",
    "sys.path.append(\"../\")\n",
    "import numpy as np\n",
    "import matplotlib.pyplot as plt\n",
    "import scripts.theodolite_utils as theodo_u\n",
    "import scripts.theodolite_plot_function as theodo_p\n",
    "import scripts.groundtruth_utils as theodo_g\n",
    "from numpy import linalg\n",
    "import importlib\n",
    "theodo_u = importlib.reload(theodo_u)\n",
    "theodo_p = importlib.reload(theodo_p)"
   ]
  },
  {
   "cell_type": "code",
   "execution_count": 2,
   "outputs": [],
   "source": [
    "theodo_u = importlib.reload(theodo_u)\n",
    "path = \"../data/20220224/uncertainty/interpolation/MC_Fake_0_0_0_0_0_\"\n",
    "MC1_0 = theodo_u.read_point_uncertainty_csv_file(path+\"1.csv\")\n",
    "MC2_0 = theodo_u.read_point_uncertainty_csv_file(path+\"2.csv\")\n",
    "MC3_0 = theodo_u.read_point_uncertainty_csv_file(path+\"3.csv\")\n",
    "path = \"../data/20220224/uncertainty/interpolation/MC_Fake_1_0_0_0_0_\"\n",
    "MC1_1 = theodo_u.read_point_uncertainty_csv_file(path+\"1.csv\")\n",
    "MC2_1 = theodo_u.read_point_uncertainty_csv_file(path+\"2.csv\")\n",
    "MC3_1 = theodo_u.read_point_uncertainty_csv_file(path+\"3.csv\")\n",
    "path = \"../data/20220224/uncertainty/interpolation/MC_Fake_0_1_0_0_0_\"\n",
    "MC1_2 = theodo_u.read_point_uncertainty_csv_file(path+\"1.csv\")\n",
    "MC2_2 = theodo_u.read_point_uncertainty_csv_file(path+\"2.csv\")\n",
    "MC3_2 = theodo_u.read_point_uncertainty_csv_file(path+\"3.csv\")\n",
    "path = \"../data/20220224/uncertainty/interpolation/MC_Fake_0_0_1_0_0_\"\n",
    "MC1_3 = theodo_u.read_point_uncertainty_csv_file(path+\"1.csv\")\n",
    "MC2_3 = theodo_u.read_point_uncertainty_csv_file(path+\"2.csv\")\n",
    "MC3_3 = theodo_u.read_point_uncertainty_csv_file(path+\"3.csv\")\n",
    "path = \"../data/20220224/uncertainty/interpolation/MC_Fake_1_1_1_0_0_\"\n",
    "MC1_4 = theodo_u.read_point_uncertainty_csv_file(path+\"1.csv\")\n",
    "MC2_4 = theodo_u.read_point_uncertainty_csv_file(path+\"2.csv\")\n",
    "MC3_4 = theodo_u.read_point_uncertainty_csv_file(path+\"3.csv\")"
   ],
   "metadata": {
    "collapsed": false
   }
  },
  {
   "cell_type": "code",
   "execution_count": null,
   "outputs": [],
   "source": [
    "print(len(MC1_0),len(MC1_1),len(MC1_2),len(MC1_3),len(MC1_4))"
   ],
   "metadata": {
    "collapsed": false
   }
  },
  {
   "cell_type": "code",
   "execution_count": null,
   "outputs": [],
   "source": [
    "theodo_g = importlib.reload(theodo_g)\n",
    "Distance_DC_total = []\n",
    "Distance_DC_total.append(theodo_g.distance_dc_comparison(MC1_0,MC2_0,MC3_0,MC1_1,MC2_1,MC3_1))\n",
    "Distance_DC_total.append(theodo_g.distance_dc_comparison(MC1_0,MC2_0,MC3_0,MC1_2,MC2_2,MC3_2))\n",
    "Distance_DC_total.append(theodo_g.distance_dc_comparison(MC1_0,MC2_0,MC3_0,MC1_3,MC2_3,MC3_3))\n",
    "Distance_DC_total.append(theodo_g.distance_dc_comparison(MC1_0,MC2_0,MC3_0,MC1_4,MC2_4,MC3_4))"
   ],
   "metadata": {
    "collapsed": false
   }
  },
  {
   "cell_type": "code",
   "execution_count": null,
   "outputs": [],
   "source": [
    "theodo_g = importlib.reload(theodo_g)\n",
    "Distance_H_total = []\n",
    "Distance_H_total.append(theodo_g.distance_h_comparison(MC1_0,MC2_0,MC3_0,MC1_1,MC2_1,MC3_1))\n",
    "Distance_H_total.append(theodo_g.distance_h_comparison(MC1_0,MC2_0,MC3_0,MC1_2,MC2_2,MC3_2))\n",
    "Distance_H_total.append(theodo_g.distance_h_comparison(MC1_0,MC2_0,MC3_0,MC1_3,MC2_3,MC3_3))\n",
    "Distance_H_total.append(theodo_g.distance_h_comparison(MC1_0,MC2_0,MC3_0,MC1_4,MC2_4,MC3_4))"
   ],
   "metadata": {
    "collapsed": false
   }
  },
  {
   "cell_type": "code",
   "execution_count": 5,
   "outputs": [],
   "source": [
    "theodo_g = importlib.reload(theodo_g)\n",
    "Distance_F_total = []\n",
    "Distance_F_total.append(theodo_g.distance_F_comparison(MC1_0,MC2_0,MC3_0,MC1_1,MC2_1,MC3_1))\n",
    "Distance_F_total.append(theodo_g.distance_F_comparison(MC1_0,MC2_0,MC3_0,MC1_2,MC2_2,MC3_2))\n",
    "Distance_F_total.append(theodo_g.distance_F_comparison(MC1_0,MC2_0,MC3_0,MC1_3,MC2_3,MC3_3))\n",
    "Distance_F_total.append(theodo_g.distance_F_comparison(MC1_0,MC2_0,MC3_0,MC1_4,MC2_4,MC3_4))"
   ],
   "metadata": {
    "collapsed": false
   }
  },
  {
   "cell_type": "code",
   "execution_count": null,
   "outputs": [],
   "source": [
    "data = Distance_DC_total\n",
    "fig, ax = plt.subplots()\n",
    "ax.boxplot(data, showfliers=False, notch=False)\n",
    "#ax.set_xticklabels(['RTS + Tilt'])\n",
    "ax.set_xticklabels(['RTS + Tilt', 'RTS + \\nAtmospheric', 'RTS + \\nExtrinsic calib', 'RTS + All'])\n",
    "#ax.set_yscale('log')\n",
    "plt.show()"
   ],
   "metadata": {
    "collapsed": false
   }
  },
  {
   "cell_type": "code",
   "execution_count": null,
   "outputs": [],
   "source": [
    "data = Distance_H_total\n",
    "fig, ax = plt.subplots()\n",
    "ax.boxplot(data, showfliers=False, notch=False)\n",
    "#ax.set_xticklabels(['RTS + Tilt'])\n",
    "ax.set_xticklabels(['RTS + Tilt', 'RTS + \\nAtmospheric', 'RTS + \\nExtrinsic calib', 'RTS + All'])\n",
    "ax.set_yscale('log')\n",
    "# plt.savefig(\"../figs/uncertainty/boxplot_influence.jpg\")\n",
    "plt.show()"
   ],
   "metadata": {
    "collapsed": false
   }
  },
  {
   "cell_type": "code",
   "execution_count": 6,
   "outputs": [
    {
     "data": {
      "text/plain": "<Figure size 640x480 with 1 Axes>",
      "image/png": "[encoded data removed]"
     },
     "metadata": {},
     "output_type": "display_data"
    }
   ],
   "source": [
    "data = Distance_F_total\n",
    "fig, ax = plt.subplots()\n",
    "ax.boxplot(data, showfliers=False, notch=False)\n",
    "#ax.set_xticklabels(['RTS + Tilt'])\n",
    "ax.set_xticklabels(['RTS + Tilt', 'RTS + \\nAtmospheric', 'RTS + \\nExtrinsic calib', 'RTS + All'])\n",
    "#ax.set_yscale('log')\n",
    "plt.show()"
   ],
   "metadata": {
    "collapsed": false
   }
  },
  {
   "cell_type": "code",
   "execution_count": null,
   "outputs": [],
   "source": [],
   "metadata": {
    "collapsed": false
   }
  }
 ],
 "metadata": {
  "kernelspec": {
   "display_name": "Python 3",
   "language": "python",
   "name": "python3"
  },
  "language_info": {
   "codemirror_mode": {
    "name": "ipython",
    "version": 2
   },
   "file_extension": ".py",
   "mimetype": "text/x-python",
   "name": "python",
   "nbconvert_exporter": "python",
   "pygments_lexer": "ipython2",
   "version": "2.7.6"
  }
 },
 "nbformat": 4,
 "nbformat_minor": 0
}
