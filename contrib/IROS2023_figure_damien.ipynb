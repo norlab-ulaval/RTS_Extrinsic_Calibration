{
 "cells": [
  {
   "cell_type": "code",
   "execution_count": null,
   "metadata": {},
   "outputs": [],
   "source": [
    "from pathlib import Path\n",
    "\n",
    "import numpy as np\n",
    "import pandas as pd\n",
    "from matplotlib import pyplot as plt"
   ]
  },
  {
   "cell_type": "code",
   "execution_count": null,
   "metadata": {},
   "outputs": [],
   "source": [
    "model = \"1_0_0_0_0_5\"\n",
    "\n",
    "experiment_paths = [\n",
    "    Path(p)\n",
    "    for p in (\n",
    "        \"../data/20220224/\",\n",
    "        \"../data/20220307/\",\n",
    "        \"../data/20220312/\",\n",
    "        \"../data/20220314/\",\n",
    "        \"../data/20220316/\",\n",
    "        \"../data/20220331-1/\",\n",
    "        \"../data/20220331-2/\",\n",
    "        \"../data/20220427-1/\",\n",
    "        \"../data/20220427-2/\",\n",
    "        \"../data/20220513-1/\",\n",
    "        \"../data/20220513-2/\",\n",
    "        \"../data/20220513-3/\",\n",
    "        \"../data/20220513-4/\",\n",
    "        \"../data/20220513-5/\",\n",
    "        \"../data/20220513-6/\",\n",
    "        \"../data/20220525-1/\",\n",
    "        \"../data/20220525-2/\",\n",
    "        \"../data/20220622-1/\",\n",
    "        \"../data/20220622-2/\",\n",
    "        \"../data/20220630-1/\",\n",
    "        \"../data/20220630-2/\",\n",
    "        \"../data/20220711-1/\",\n",
    "        \"../data/20220711-2/\",\n",
    "        \"../data/20221103-1/\",\n",
    "        \"../data/20221103-2/\",\n",
    "        \"../data/20221103-3/\",\n",
    "        \"../data/20221109-1/\",\n",
    "        \"../data/20221109-2/\",\n",
    "        \"../data/20221109-3/\",\n",
    "        \"../data/20221110/\",\n",
    "        \"../data/20221116-1/\",\n",
    "        \"../data/20221123/\",\n",
    "        \"../data/20221124/\",\n",
    "        \"../data/20221129-1/\",\n",
    "        \"../data/20221129-2/\",\n",
    "        \"../data/20221129-3/\",\n",
    "        \"../data/20221129-4/\",\n",
    "        \"../data/20221129-5/\",\n",
    "        \"../data/20221205-1/\",\n",
    "        \"../data/20221205-2/\",\n",
    "        \"../data/20221205-3/\",\n",
    "    )\n",
    "]\n",
    "\n",
    "\n",
    "uncertainty_data = experiment_paths[0] / \"uncertainty\"\n",
    "sensor_data = uncertainty_data / \"sensor\"\n",
    "prism_data = uncertainty_data / \"interpolation\"\n",
    "sub_path = \"uncertainty/interpolation/MC_Fake_\"\n"
   ]
  },
  {
   "cell_type": "code",
   "execution_count": null,
   "metadata": {},
   "outputs": [],
   "source": [
    "models = {\n",
    "    \"Instrument\": \"1_0_0_0_0\",\n",
    "    \"Tilt\": \"1_1_0_0_0\",\n",
    "    \"Atmospheric\": \"1_0_1_0_0\",\n",
    "    \"Extrinsic\": \"1_0_0_1_0\",\n",
    "    \"Time\": \"1_0_0_0_1\",\n",
    "    \"All\": \"1_1_1_1_1\",\n",
    "}\n",
    "columns=[\"time\", \"mx\", \"my\", \"mz\"] + [f\"Sp{i}\" for i in range(9)] + [\"r\", \"p\", \"y\"] + [f\"Sa{i}\" for i in range(9)]\n",
    "dfs = {}\n",
    "for mname, mcode in models.items():\n",
    "    dfs[mname] = pd.read_csv(sensor_data / f\"GNSS_{mcode}_0.csv\", sep=\" \", names=columns, header=None)\n",
    "dfs[\"P1\"] = pd.read_csv(prism_data / f\"MC_Fake_{model}_1.csv\", sep=\" \", names=columns, header=None)"
   ]
  },
  {
   "cell_type": "code",
   "execution_count": null,
   "metadata": {},
   "outputs": [],
   "source": [
    "begin, end = 1000, 1020\n",
    "cutted_dfs = {l: df.iloc[begin:end].copy() for l, df in dfs.items()}\n",
    "pose_mean = [\"mx\", \"my\", \"mz\"]\n",
    "poses = {l:df[pose_mean].copy().to_numpy() for l, df in cutted_dfs.items()}\n"
   ]
  },
  {
   "cell_type": "code",
   "execution_count": null,
   "metadata": {},
   "outputs": [],
   "source": [
    "\n",
    "stds = {lab: np.std(pt.T, dtype=np.float64) for lab, pt in poses.items()}\n",
    "fig, ax = plt.subplots()\n",
    "labs = [*stds.keys()]\n",
    "labstd = [stds[lab] for lab in labs]\n",
    "\n",
    "x_pos = np.arange(len(labs))\n",
    "ax.bar(x_pos, labstd)\n",
    "ax.set_xticks(x_pos)\n",
    "ax.set_xticklabels(labs, rotation=45, ha=\"right\")\n",
    "ax.set_ylabel(\"Standard deviation\")\n",
    "ax.set_ylim((27, 31))\n",
    "\n",
    "plt.show()"
   ]
  }
 ],
 "metadata": {
  "kernelspec": {
   "display_name": "venv",
   "language": "python",
   "name": "python3"
  },
  "language_info": {
   "codemirror_mode": {
    "name": "ipython",
    "version": 3
   },
   "file_extension": ".py",
   "mimetype": "text/x-python",
   "name": "python",
   "nbconvert_exporter": "python",
   "pygments_lexer": "ipython3",
   "version": "3.10.6"
  },
  "orig_nbformat": 4,
  "vscode": {
   "interpreter": {
    "hash": "d92334465520ddc419553691ccffa0c71b3d383a242513da63f4601eaadcdad1"
   }
  }
 },
 "nbformat": 4,
 "nbformat_minor": 2
}
