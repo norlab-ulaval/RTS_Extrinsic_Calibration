{
 "cells": [
  {
   "cell_type": "code",
   "execution_count": 1,
   "metadata": {
    "ExecuteTime": {
     "end_time": "2023-08-01T04:56:25.842481211Z",
     "start_time": "2023-08-01T04:56:25.033778538Z"
    }
   },
   "outputs": [],
   "source": [
    "from pathlib import Path\n",
    "import sys\n",
    "sys.path.append(\"../\")\n",
    "import numpy as np\n",
    "import pandas as pd\n",
    "from matplotlib import pyplot as plt\n",
    "from tqdm import tqdm\n",
    "from scripts import theodolite_utils as theodo_u\n"
   ]
  },
  {
   "cell_type": "code",
   "execution_count": 2,
   "metadata": {
    "ExecuteTime": {
     "end_time": "2023-08-01T04:56:25.842802633Z",
     "start_time": "2023-08-01T04:56:25.824843346Z"
    }
   },
   "outputs": [],
   "source": [
    "model = \"0_0_0_0_0_5\"\n",
    "\n",
    "experiment_paths = [\n",
    "    Path(p)\n",
    "    for p in (\n",
    "        \"../data/20220224/\",\n",
    "        \"../data/20220307/\",\n",
    "        \"../data/20220312/\",\n",
    "        \"../data/20220314/\",\n",
    "        \"../data/20220316/\",\n",
    "        \"../data/20220331-1/\",\n",
    "        \"../data/20220331-2/\",\n",
    "        \"../data/20220427-1/\",\n",
    "        \"../data/20220427-2/\",\n",
    "        \"../data/20220513-1/\",\n",
    "        \"../data/20220513-2/\",\n",
    "        \"../data/20220513-3/\",\n",
    "        \"../data/20220513-4/\",\n",
    "        # \"../data/20220513-5/\",\n",
    "        # \"../data/20220513-6/\",\n",
    "        \"../data/20220525-1/\",\n",
    "        \"../data/20220525-2/\",\n",
    "        \"../data/20220622-1/\",\n",
    "        \"../data/20220622-2/\",\n",
    "        \"../data/20220630-1/\",\n",
    "        \"../data/20220630-2/\",\n",
    "        # \"../data/20220711-1/\",\n",
    "        \"../data/20220711-2/\",\n",
    "        \"../data/20221103-1/\",\n",
    "        \"../data/20221103-2/\",\n",
    "        \"../data/20221103-3/\",\n",
    "        \"../data/20221109-1/\",\n",
    "        \"../data/20221109-2/\",\n",
    "        \"../data/20221109-3/\",\n",
    "        \"../data/20221110/\",\n",
    "        \"../data/20221116-1/\",\n",
    "        \"../data/20221123/\",\n",
    "        # \"../data/20221124/\",\n",
    "        \"../data/20221129-1/\",\n",
    "        \"../data/20221129-2/\",\n",
    "        \"../data/20221129-3/\",\n",
    "        # \"../data/20221129-4/\",\n",
    "        \"../data/20221129-5/\",\n",
    "        \"../data/20221205-1/\",\n",
    "        # \"../data/20221205-2/\",\n",
    "        \"../data/20221205-3/\",\n",
    "    )\n",
    "]\n"
   ]
  },
  {
   "cell_type": "code",
   "execution_count": 3,
   "metadata": {
    "ExecuteTime": {
     "end_time": "2023-08-01T04:56:29.003317681Z",
     "start_time": "2023-08-01T04:56:25.833317789Z"
    }
   },
   "outputs": [
    {
     "name": "stderr",
     "output_type": "stream",
     "text": [
      "100%|██████████| 35/35 [00:03<00:00, 11.10it/s]\n"
     ]
    }
   ],
   "source": [
    "models = {\n",
    "    \"Instrument\": \"1_0_0_0_0\",\n",
    "    \"Tilt\": \"1_1_0_0_0\",\n",
    "    \"Atmospheric\": \"1_0_1_0_0\",\n",
    "    \"Extrinsic\": \"1_0_0_1_0\",\n",
    "    \"Time\": \"1_0_0_0_1\",\n",
    "    \"All\": \"1_1_1_1_1\",\n",
    "}\n",
    "columns = (\n",
    "    [\"time\", \"mx\", \"my\", \"mz\"]\n",
    "    + [f\"Sp{i}\" for i in range(9)]\n",
    "    + [\"r\", \"p\", \"y\"]\n",
    "    + [f\"Sa{i}\" for i in range(9)]\n",
    ")\n",
    "orig_dfs = {mname: {} for mname in models.keys()}\n",
    "ignored_dates = [\"20220513-5\", \"20220711-1\", \"20221124\", \"20221129-4\", \"20221205-2\"]\n",
    "for pat in tqdm(experiment_paths):\n",
    "    uncertainty_data = pat / \"uncertainty\"\n",
    "    sensor_data = uncertainty_data / \"sensor\"\n",
    "    date = str(pat.stem)\n",
    "    for mname, mcode in models.items():\n",
    "        GNSS_path = sensor_data / f\"GNSS_{mcode}_0.csv\"\n",
    "        if not date in ignored_dates:\n",
    "            orig_dfs[mname][date] = pd.read_csv(\n",
    "                GNSS_path, sep=\" \", names=columns, header=None\n",
    "            )\n"
   ]
  },
  {
   "cell_type": "code",
   "execution_count": 4,
   "metadata": {
    "ExecuteTime": {
     "end_time": "2023-08-01T04:56:29.040657317Z",
     "start_time": "2023-08-01T04:56:29.004856300Z"
    }
   },
   "outputs": [],
   "source": [
    "# concat_prisms = {l:{lab:pd.concat(df, ignore_index=True)for lab, df in mod.items()} for l, mod in prisms_dfs.items()}\n",
    "concat_dfs = {l:pd.concat(df.values(), ignore_index=True) for l, df in orig_dfs.items()}\n",
    "# concat_dists = {l:pd.concat(df.values(), ignore_index=True) for l, df in dist_dfs.items()}"
   ]
  },
  {
   "cell_type": "code",
   "execution_count": 5,
   "metadata": {
    "ExecuteTime": {
     "end_time": "2023-08-01T04:56:29.046267139Z",
     "start_time": "2023-08-01T04:56:29.041789281Z"
    }
   },
   "outputs": [],
   "source": [
    "# for mod in models:\n",
    "#     print(mod, concat_prisms[mod][\"P1\"].shape)\n",
    "#     print(mod, concat_prisms[mod][\"P2\"].shape)\n",
    "#     print(mod, concat_prisms[mod][\"P3\"].shape)\n",
    "#     print(mod, concat_dfs[mod].shape)\n",
    "#     concat_prisms[mod][\"P1\"].iloc[:concat_dfs[mod].shape[0]]\n",
    "# def apply_frobenius(df):\n",
    "#     pose_covariance = [f\"Sa{i}\" for i in range(9)]\n",
    "#     poscovs = {\n",
    "#         l: df[pose_covariance].copy()\n",
    "#         for l, df in concat_dfs.items()\n",
    "#     }\n",
    "#     f = 1_000_000\n",
    "#     f = 1\n",
    "#     all_frobs = poscovs[\"All\"].copy().to_numpy()\n",
    "#     all_mat = [spdf[i, :].reshape((3, 3)) for i in range(all_frobs.shape[0])]\n",
    "#     for l, df in poscovs.items():\n",
    "#         spdf = df[pose_covariance].copy().to_numpy()\n",
    "#         mats = [spdf[i, :].reshape((3, 3)) for i in range(spdf.shape[0])]\n",
    "#         df[\"frob\"] = f * pd.Series(\n",
    "#             [\n",
    "#                 np.linalg.norm(spdf[i, :].reshape((3, 3)), ord=\"fro\")\n",
    "#                 for i in range(spdf.shape[0])\n",
    "#             ]\n",
    "#         )\n",
    "#     frobs = {l:df.frob for l, df in poscovs.items()}"
   ]
  },
  {
   "cell_type": "code",
   "execution_count": 6,
   "metadata": {
    "ExecuteTime": {
     "end_time": "2023-08-01T04:56:34.766045956Z",
     "start_time": "2023-08-01T04:56:29.052417254Z"
    }
   },
   "outputs": [],
   "source": [
    "pose_covariance = [f\"Sa{i}\" for i in range(9)]\n",
    "poscovs = {\n",
    "    l: df[pose_covariance].copy()\n",
    "    for l, df in concat_dfs.items()\n",
    "}\n",
    "f = 1_000_000\n",
    "f = 1\n",
    "for l, df in poscovs.items():\n",
    "    spdf = df[pose_covariance].copy().to_numpy()\n",
    "    mats = [spdf[i, :].reshape((3, 3)) for i in range(spdf.shape[0])]\n",
    "    df[\"frobp\"] = f * pd.Series(\n",
    "        [\n",
    "            np.linalg.norm(spdf[i, :].reshape((3, 3)), ord=\"fro\")\n",
    "            for i in range(spdf.shape[0])\n",
    "        ]\n",
    "    )\n",
    "frobps = {l:np.sqrt(df.frobp) for l, df in poscovs.items()}\n",
    "\n",
    "\n",
    "ori_covariance = [f\"Sp{i}\" for i in range(9)]\n",
    "oricovs = {\n",
    "    l: df[ori_covariance].copy()\n",
    "    for l, df in concat_dfs.items()\n",
    "}\n",
    "f = 1_000_000\n",
    "f = 1\n",
    "for l, df in oricovs.items():\n",
    "    spdf = df[ori_covariance].copy().to_numpy()\n",
    "    mats = [spdf[i, :].reshape((3, 3)) for i in range(spdf.shape[0])]\n",
    "    df[\"froba\"] = f * pd.Series(\n",
    "        [\n",
    "            np.linalg.norm(spdf[i, :].reshape((3, 3)), ord=\"fro\")\n",
    "            for i in range(spdf.shape[0])\n",
    "        ]\n",
    "    )\n",
    "frobas = {l:np.sqrt(df.froba) for l, df in oricovs.items()}\n",
    "\n"
   ]
  },
  {
   "cell_type": "code",
   "execution_count": 7,
   "metadata": {
    "ExecuteTime": {
     "end_time": "2023-08-01T04:56:34.769906022Z",
     "start_time": "2023-08-01T04:56:34.767478913Z"
    }
   },
   "outputs": [],
   "source": [
    "\n",
    "series = {}\n",
    "for mname in models:\n",
    "    series.setdefault(mname, {})[\"pos\"] = frobps[mname]\n",
    "    series.setdefault(mname, {})[\"ori\"] = frobas[mname]\n",
    "\n",
    "\n"
   ]
  },
  {
   "cell_type": "code",
   "execution_count": 8,
   "metadata": {
    "ExecuteTime": {
     "end_time": "2023-08-01T04:56:34.808910491Z",
     "start_time": "2023-08-01T04:56:34.771341926Z"
    }
   },
   "outputs": [],
   "source": [
    "import itertools\n",
    "# f = 1_000_000\n",
    "f = 1\n",
    "pos_data = [(series[mname][\"pos\"] / f).dropna().to_list() for mname in models]\n",
    "ori_data = [(series[mname][\"ori\"] / f).dropna().to_list() for mname in models]\n",
    "# data = [(series[mname][\"pos\"] / f, series[mname][\"ori\"] / f) for mname in models]\n",
    "# data = [elem.dropna().to_list() for elem in itertools.chain(*data)]"
   ]
  },
  {
   "cell_type": "code",
   "execution_count": 77,
   "metadata": {
    "ExecuteTime": {
     "end_time": "2023-08-01T05:26:45.280264334Z",
     "start_time": "2023-08-01T05:26:44.695608005Z"
    }
   },
   "outputs": [
    {
     "data": {
      "text/plain": "<Figure size 600x300 with 2 Axes>",
      "image/png": "[encoded data removed]"
     },
     "metadata": {},
     "output_type": "display_data"
    }
   ],
   "source": [
    "plt.rc('font', family='serif', serif='Times')\n",
    "plt.rc('text', usetex=True)\n",
    "plt.rc('xtick', labelsize=13)\n",
    "plt.rc('ytick', labelsize=13)\n",
    "plt.rc('axes', labelsize=13)\n",
    "font_size = 15\n",
    "\n",
    "width = 3.487\n",
    "height = width / 1.618\n",
    "\n",
    "fig, (ax1, ax2) = plt.subplots(1, 2)\n",
    "box1 = ax1.boxplot(pos_data, positions=[2*x+1 for x in range(6)], showfliers=False, notch=False, patch_artist=True)\n",
    "box2 = ax2.boxplot(ori_data, positions=[2*x+1 for x in range(6)], showfliers=False, notch=False, patch_artist=True)\n",
    "\n",
    "tickslabs = [\n",
    "    \"Instrument\",\n",
    "    \"\\n Tilt\",\n",
    "    \"Atmospheric\",\n",
    "    \"Extrinsic\\ncalibration\",\n",
    "    \"Time sync.\",\n",
    "    \"All sources\",\n",
    "]\n",
    "\n",
    "ax1.set_xticks(\n",
    "    ticks=[1, 3, 5, 7, 9, 11],\n",
    "    labels=tickslabs,\n",
    "    fontsize=font_size,\n",
    "    ha=\"center\",\n",
    "    ma=\"center\",\n",
    "    rotation=45,\n",
    ")\n",
    "\n",
    "ax2.set_xticks(\n",
    "    ticks=[1, 3, 5, 7, 9, 11],\n",
    "    labels=tickslabs,\n",
    "    fontsize=font_size,\n",
    "    ha=\"center\",\n",
    "    ma=\"center\",\n",
    "    rotation=45,\n",
    ")\n",
    "\n",
    "ax1.tick_params(axis=\"x\", which=\"major\", labelsize=font_size, rotation=45)\n",
    "ax2.tick_params(axis=\"x\", which=\"major\", labelsize=font_size, rotation=45)\n",
    "\n",
    "#ax.tick_params(axis='y', labelcolor=\"royalblue\", color=\"royalblue\")\n",
    "#ax2.tick_params(axis='y', labelcolor=\"tomato\", color=\"tomato\")\n",
    "\n",
    "colors = [\n",
    "    \"royalblue\",\n",
    "    \"tomato\",  # , 'pink',\n",
    "    \"royalblue\",\n",
    "    \"tomato\",  # , 'pink',\n",
    "    \"royalblue\",\n",
    "    \"tomato\",  # , 'pink',\n",
    "    \"royalblue\",\n",
    "    \"tomato\",  # , 'pink',\n",
    "    \"royalblue\",\n",
    "    \"tomato\",  # , 'pink',\n",
    "    \"royalblue\",\n",
    "    \"tomato\",\n",
    "]  # , 'pink']\n",
    "for patch in box1[\"boxes\"]:\n",
    "    patch.set_facecolor(\"royalblue\")\n",
    "for patch in box2[\"boxes\"]:\n",
    "    patch.set_facecolor(\"tomato\")\n",
    "\n",
    "for median in box1[\"medians\"]:\n",
    "    median.set_color(\"black\")\n",
    "for median in box2[\"medians\"]:\n",
    "    median.set_color(\"black\")\n",
    "\n",
    "ax1.set_ylabel(\"Frobenius norm square root\\n position [m]\", fontsize=font_size, color=\"black\")\n",
    "ax2.set_ylabel(\"Frobenius norm square root\\n orientation [rad]\", fontsize=font_size, color=\"black\")\n",
    "\n",
    "# plt.legend(\n",
    "#     handles=[\n",
    "#         box1[\"boxes\"][0],\n",
    "#         box2[\"boxes\"][0],\n",
    "#     ],  # , box[\"boxes\"][4]],\n",
    "#     handletextpad=0.3,\n",
    "#     handlelength=1.0,\n",
    "#     columnspacing=0.8,\n",
    "#     labels=[\n",
    "#         f\"Position\",\n",
    "#         f\"Orientation\",\n",
    "#     ],  # , '125 to 200m', 'More than 200m'],\n",
    "#     loc=\"lower center\",\n",
    "#     bbox_to_anchor=(-0.5, 0.99),\n",
    "#     ncol=4,\n",
    "#     fontsize=font_size - 3,\n",
    "# )\n",
    "\n",
    "width = 6\n",
    "height = 3\n",
    "\n",
    "plt.tight_layout()\n",
    "fig.subplots_adjust(left=0.01, bottom=0.01, right=0.99, top=0.99,wspace=0.4)\n",
    "fig.set_size_inches(width, height)\n",
    "plt.savefig(\"../figs/uncertainty/pose_uncertainty_stats.pdf\", bbox_inches=\"tight\")\n",
    "plt.show()\n",
    "ori_median = [np.median(ori) for ori in ori_data]\n",
    "pos_median = [np.median(pos) for pos in pos_data]\n"
   ]
  },
  {
   "cell_type": "code",
   "execution_count": 10,
   "metadata": {
    "ExecuteTime": {
     "end_time": "2023-08-01T04:56:35.746390086Z",
     "start_time": "2023-08-01T04:56:35.743413825Z"
    }
   },
   "outputs": [
    {
     "name": "stdout",
     "output_type": "stream",
     "text": [
      "Pos\n",
      "[2.3907723246747477, 2.5779920376650542, 2.4116906232160678, 2.326912001527914, 2.487742584325134, 2.5209812282856205]\n",
      "ori\n",
      "[0.7405636208236739, 0.7573511854483342, 0.7605390847810958, 0.7761037237138372, 0.7430283637577262, 0.7598443115713347]\n"
     ]
    }
   ],
   "source": [
    "\n",
    "print(\"Pos\",pos_median, \"ori\",ori_median, sep=\"\\n\")"
   ]
  },
  {
   "cell_type": "code",
   "execution_count": 11,
   "outputs": [
    {
     "data": {
      "text/plain": "0.7585977485098345"
     },
     "execution_count": 11,
     "metadata": {},
     "output_type": "execute_result"
    }
   ],
   "source": [
    "np.median(ori_median)"
   ],
   "metadata": {
    "collapsed": false,
    "ExecuteTime": {
     "end_time": "2023-08-01T04:56:35.756537206Z",
     "start_time": "2023-08-01T04:56:35.746930880Z"
    }
   }
  },
  {
   "cell_type": "code",
   "execution_count": 12,
   "metadata": {
    "ExecuteTime": {
     "end_time": "2023-08-01T04:56:38.553509412Z",
     "start_time": "2023-08-01T04:56:35.759219119Z"
    }
   },
   "outputs": [],
   "source": [
    "pose_covariance = [f\"Sp{i}\" for i in range(9)]\n",
    "poscovs = {\n",
    "    l: df[pose_covariance].dropna().copy()\n",
    "    for l, df in concat_dfs.items()\n",
    "    if l in models\n",
    "}\n",
    "for l, df in poscovs.items():\n",
    "    df[\"sumcov\"] = df.Sp0 + df.Sp4 + df.Sp8\n",
    "    df[\"covxyz\"] = np.sqrt(df.sumcov)\n",
    "    spdf = df[pose_covariance].copy().to_numpy()\n",
    "    mats = [spdf[i, :].reshape((3, 3)) for i in range(spdf.shape[0])]\n",
    "    df[\"frob\"] = 1_000_000 * pd.Series(\n",
    "        [\n",
    "            np.linalg.norm(spdf[i, :].reshape((3, 3)), ord=\"fro\")\n",
    "            for i in range(spdf.shape[0])\n",
    "        ]\n",
    "    )\n"
   ]
  },
  {
   "cell_type": "code",
   "execution_count": null,
   "outputs": [],
   "source": [],
   "metadata": {
    "collapsed": false
   }
  }
 ],
 "metadata": {
  "kernelspec": {
   "display_name": "venv",
   "language": "python",
   "name": "python3"
  },
  "language_info": {
   "codemirror_mode": {
    "name": "ipython",
    "version": 3
   },
   "file_extension": ".py",
   "mimetype": "text/x-python",
   "name": "python",
   "nbconvert_exporter": "python",
   "pygments_lexer": "ipython3",
   "version": "3.10.6"
  },
  "orig_nbformat": 4,
  "vscode": {
   "interpreter": {
    "hash": "d92334465520ddc419553691ccffa0c71b3d383a242513da63f4601eaadcdad1"
   }
  }
 },
 "nbformat": 4,
 "nbformat_minor": 2
}
