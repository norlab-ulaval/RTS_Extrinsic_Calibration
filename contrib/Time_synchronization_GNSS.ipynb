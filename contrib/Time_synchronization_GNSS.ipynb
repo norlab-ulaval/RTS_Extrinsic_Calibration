{
 "cells": [
  {
   "cell_type": "code",
   "execution_count": null,
   "outputs": [],
   "source": [
    "import numpy as np\n",
    "import warnings\n",
    "warnings.filterwarnings('ignore')\n",
    "import importlib\n",
    "import scripts.theodolite_utils as theodo_u\n",
    "import scripts.theodolite_function as theodo_f\n",
    "import scripts.prediction_utils as prediction_u\n",
    "import scripts.resection_functions as theodo_r\n",
    "import time\n",
    "from tqdm import tqdm\n",
    "import torch\n",
    "import matplotlib.pyplot as plt"
   ],
   "metadata": {
    "collapsed": false
   }
  },
  {
   "cell_type": "code",
   "execution_count": null,
   "outputs": [],
   "source": [
    "theodo_u = importlib.reload(theodo_u)\n",
    "\n",
    "path = \"../data/20220224/\"\n",
    "\n",
    "GNSS_predicted_data = np.array(theodo_u.read_prediction_data_Linear_csv_file(path+\"ground_truth/\"+\"gps_predicted_3.txt\"))\n",
    "GNSS_raw_data = np.array(theodo_u.read_prediction_data_Linear_csv_file(path+\"gps_data/\"+\"gpsmiddle.txt\"))\n",
    "GNSS_raw_data_bis = GNSS_raw_data"
   ],
   "metadata": {
    "collapsed": false
   }
  },
  {
   "cell_type": "code",
   "execution_count": null,
   "outputs": [],
   "source": [
    "print(GNSS_predicted_data[0,0])\n",
    "print(GNSS_raw_data_bis[1,0])\n",
    "origin_time = 0\n",
    "delta_t_prior = GNSS_predicted_data[0,0] - GNSS_raw_data[0,0]\n",
    "\n",
    "for i,j in zip(GNSS_raw_data,GNSS_raw_data_bis):\n",
    "    j[0]=i[0]+delta_t_prior\n",
    "\n",
    "print(GNSS_raw_data_bis[1,0])"
   ],
   "metadata": {
    "collapsed": false
   }
  },
  {
   "cell_type": "code",
   "execution_count": null,
   "outputs": [],
   "source": [
    "# Plot bird view of the results\n",
    "%matplotlib notebook\n",
    "fig = plt.figure(figsize = (8, 6))\n",
    "ax = plt.axes()\n",
    "begin = 25000\n",
    "end = -1600\n",
    "ax.plot(GNSS_predicted_data[:,0]-origin_time,GNSS_predicted_data[:,3]-129.3, color='black')\n",
    "ax.plot(GNSS_raw_data_bis[begin:end,0]-origin_time-5069.6,GNSS_raw_data_bis[begin:end,3], color='red')\n",
    "ax.set_xlabel(\"Time [s]\")\n",
    "ax.set_ylabel(\"Z [m]\")\n",
    "fig.tight_layout()"
   ],
   "metadata": {
    "collapsed": false
   }
  },
  {
   "cell_type": "code",
   "execution_count": null,
   "outputs": [],
   "source": [
    "Delay = delta_t_prior-5069.6\n",
    "print(Delay)"
   ],
   "metadata": {
    "collapsed": false
   }
  },
  {
   "cell_type": "code",
   "execution_count": null,
   "outputs": [],
   "source": [
    "theodo_u = importlib.reload(theodo_u)\n",
    "theodo_u.save_delay_synchronization_GNSS(Delay,path+\"gps_data/delay_synchronization_GNSS_3.txt\")"
   ],
   "metadata": {
    "collapsed": false
   }
  },
  {
   "cell_type": "code",
   "execution_count": null,
   "outputs": [],
   "source": [],
   "metadata": {
    "collapsed": false
   }
  }
 ],
 "metadata": {
  "kernelspec": {
   "display_name": "Python 3",
   "language": "python",
   "name": "python3"
  },
  "language_info": {
   "codemirror_mode": {
    "name": "ipython",
    "version": 2
   },
   "file_extension": ".py",
   "mimetype": "text/x-python",
   "name": "python",
   "nbconvert_exporter": "python",
   "pygments_lexer": "ipython2",
   "version": "2.7.6"
  }
 },
 "nbformat": 4,
 "nbformat_minor": 0
}
