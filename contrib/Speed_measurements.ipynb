{
 "cells": [
  {
   "cell_type": "code",
   "execution_count": 1,
   "metadata": {
    "collapsed": true
   },
   "outputs": [],
   "source": [
    "import sys\n",
    "sys.path.append(\"../\")\n",
    "import numpy as np\n",
    "import matplotlib.pyplot as plt\n",
    "import scripts.prediction_utils as predict_u\n",
    "import scripts.theodolite_utils as theodo_u\n",
    "import scripts.theodolite_plot_function as theodo_p\n",
    "import scripts.groundtruth_utils as theodo_g\n",
    "import scripts.theodolite_function as theodo_f\n",
    "import time\n",
    "import torch\n",
    "from numpy import linalg\n",
    "import importlib\n",
    "theodo_u = importlib.reload(theodo_u)\n",
    "theodo_p = importlib.reload(theodo_p)\n",
    "theodo_f = importlib.reload(theodo_f)\n",
    "predict_u = importlib.reload(predict_u)"
   ]
  },
  {
   "cell_type": "code",
   "execution_count": 2,
   "outputs": [],
   "source": [
    "## Path of main data files\n",
    "type_file_input = \"CSV\"    ## CSV or ROSBAG\n",
    "\n",
    "path = [\n",
    "    \"../data/20220224/\",\n",
    "]\n",
    "\n",
    "## Parameters about noise\n",
    "num_samples = 1000\n",
    "## Range noise\n",
    "random_noise_range = [0, 0.004/2, 2]   ## Mean, sigma, ppm,  4mm + 2ppm (2 sigma)  ISO17123-3\n",
    "## Angles noise\n",
    "random_noise_angle = [0, 0.000024241/5*4/2]    # Mean, sigma, 5\"=0.000024241 precision datasheet  (2 sigma)  ISO17123-3\n",
    "## Tilt compensator noise\n",
    "random_noise_tilt = [0, 0.000002424/2]    # Mean, sigma, 0.5\"=0.000002424 precision datasheet  (2 sigma)  ISO17123-3\n",
    "## Weather conditions\n",
    "weather_data_path = \"../data/weather_2022/Quebec/\"\n",
    "data_weather = np.array(theodo_u.read_weather_data(weather_data_path+\"data_sorted_2022.txt\"))\n",
    "## Choice of noise model\n",
    "model_chosen = [1, 1, 0, 0, 0]  # Tilt noise, Atmospheric correction, extrinsic calibration\n",
    "\n",
    "limit_time = 3  # Max time between 2 measurements to compute the velocity\n",
    "\n",
    "save_raw_data = True   # If saving the data"
   ],
   "metadata": {
    "collapsed": false
   }
  },
  {
   "cell_type": "code",
   "execution_count": 3,
   "outputs": [
    {
     "name": "stdout",
     "output_type": "stream",
     "text": [
      "File processed:  ../data/20220224/\n",
      "Conversion done !\n",
      "Conversion done !\n",
      "Conversion done !\n"
     ]
    }
   ],
   "source": [
    "%matplotlib notebook\n",
    "theodo_u = importlib.reload(theodo_u)\n",
    "theodo_g = importlib.reload(theodo_g)\n",
    "\n",
    "for file_i in path:\n",
    "    print(\"File processed: \", file_i)\n",
    "\n",
    "    sub_path = \"uncertainty/raw_data/\"\n",
    "    P1 = theodo_u.read_raw_data_uncertainty(file_i+sub_path+\"prism1.csv\")\n",
    "    P2 = theodo_u.read_raw_data_uncertainty(file_i+sub_path+\"prism2.csv\")\n",
    "    P3 = theodo_u.read_raw_data_uncertainty(file_i+sub_path+\"prism3.csv\")\n",
    "    t1,t2,t3,d1,d2,d3,a1,a2,a3,e1,e2,e3 = ([] for i in range(12))\n",
    "    for p1_i, p2_i, p3_i in zip(P1, P2, P3):\n",
    "        t1.append(p1_i[0])\n",
    "        t2.append(p2_i[0])\n",
    "        t3.append(p3_i[0])\n",
    "        d1.append(p1_i[1])\n",
    "        d2.append(p2_i[1])\n",
    "        d3.append(p3_i[1])\n",
    "        a1.append(p1_i[2])\n",
    "        a2.append(p2_i[2])\n",
    "        a3.append(p3_i[2])\n",
    "        e1.append(p1_i[3])\n",
    "        e2.append(p2_i[3])\n",
    "        e3.append(p3_i[3])\n",
    "    t1 = np.array(t1)\n",
    "    t2 = np.array(t2)\n",
    "    t3 = np.array(t3)\n",
    "    d1 = np.array(d1)\n",
    "    d2 = np.array(d2)\n",
    "    d3 = np.array(d3)\n",
    "    a1 = np.array(a1)\n",
    "    a2 = np.array(a2)\n",
    "    a3 = np.array(a3)\n",
    "    e1 = np.array(e1)\n",
    "    e2 = np.array(e2)\n",
    "    e3 = np.array(e3)\n",
    "\n",
    "    Index1, Speed1 = theodo_g.compute_speed(t1, d1, a1, e1, num_samples, random_noise_range, random_noise_angle, random_noise_tilt, data_weather, model_chosen)\n",
    "    Index2, Speed2 = theodo_g.compute_speed(t2, d2, a2, e2, num_samples, random_noise_range, random_noise_angle, random_noise_tilt, data_weather, model_chosen)\n",
    "    Index3, Speed3 = theodo_g.compute_speed(t3, d3, a3, e3, num_samples, random_noise_range, random_noise_angle, random_noise_tilt, data_weather, model_chosen)\n",
    "\n",
    "    if save_raw_data:\n",
    "        theodo_u.save_raw_data_uncertainty_speed(t1[Index1], d1[Index1], e1[Index1], a1[Index1], Speed1, file_i+sub_path+\"speed_prism1.csv\")\n",
    "        theodo_u.save_raw_data_uncertainty_speed(t2[Index2], d2[Index2], e2[Index2], a2[Index2], Speed2, file_i+sub_path+\"speed_prism2.csv\")\n",
    "        theodo_u.save_raw_data_uncertainty_speed(t3[Index3], d3[Index3], e3[Index3], a3[Index3], Speed3, file_i+sub_path+\"speed_prism3.csv\")"
   ],
   "metadata": {
    "collapsed": false
   }
  },
  {
   "cell_type": "code",
   "execution_count": null,
   "outputs": [],
   "source": [],
   "metadata": {
    "collapsed": false
   }
  }
 ],
 "metadata": {
  "kernelspec": {
   "display_name": "Python 3",
   "language": "python",
   "name": "python3"
  },
  "language_info": {
   "codemirror_mode": {
    "name": "ipython",
    "version": 2
   },
   "file_extension": ".py",
   "mimetype": "text/x-python",
   "name": "python",
   "nbconvert_exporter": "python",
   "pygments_lexer": "ipython2",
   "version": "2.7.6"
  }
 },
 "nbformat": 4,
 "nbformat_minor": 0
}
