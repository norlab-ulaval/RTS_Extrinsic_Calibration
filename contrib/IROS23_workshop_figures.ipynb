{
 "cells": [
  {
   "cell_type": "code",
   "execution_count": null,
   "metadata": {},
   "outputs": [],
   "source": [
    "import sys\n",
    "sys.path.append(\"../\")\n",
    "import numpy as np\n",
    "import csv\n",
    "import os\n",
    "import pandas as pd\n",
    "import importlib\n",
    "import matplotlib.pyplot as plt\n",
    "import scripts.theodolite_utils as theodo_u\n",
    "theodo_u = importlib.reload(theodo_u)\n",
    "import warnings\n",
    "warnings.filterwarnings('ignore')\n",
    "from scipy.spatial.transform import Rotation as R_scipy"
   ]
  },
  {
   "attachments": {},
   "cell_type": "markdown",
   "metadata": {},
   "source": [
    "## Select date of the data to compute"
   ]
  },
  {
   "cell_type": "code",
   "execution_count": null,
   "metadata": {},
   "outputs": [],
   "source": [
    "# Path of output\n",
    "path = \"../data/20230725-1/\""
   ]
  },
  {
   "attachments": {},
   "cell_type": "markdown",
   "metadata": {},
   "source": [
    "## 0. Import Data & Synchronize RTS Timestamp with GNSS Timestamp"
   ]
  },
  {
   "cell_type": "code",
   "execution_count": null,
   "metadata": {},
   "outputs": [],
   "source": [
    "theodo_u = importlib.reload(theodo_u)\n",
    "\n",
    "df_rts = pd.read_csv(path + \"ground_truth/groundtruth_rts_lidar.csv\", names=[\"Timestamp\", \"X\", \"Y\", \"Z\", \"qx\", \"qy\", \"qz\", \"qw\"], delimiter= ' ')\n",
    "df_gps = pd.read_csv(path + \"ground_truth/groundtruth_gps_lidar.csv\", delimiter= ',')\n",
    "\n",
    "df_rts['Timestamp'] = pd.to_datetime(df_rts['Timestamp'], unit='s') # Convert to datetime\n",
    "df_rts['Timestamp'] -= pd.Timedelta(hours=4, seconds=6) # Subtract 4 hours from the RTS Timestamp column\n",
    "df_rts['Timestamp'] = df_rts[\"Timestamp\"].values.astype(np.int64) // (1*10 ** 9) # Convert to Unix Timestamp\n",
    "#df_gps['Timestamp'] = df_gps[\"Timestamp\"].values.astype(np.float64)"
   ]
  },
  {
   "attachments": {},
   "cell_type": "markdown",
   "metadata": {},
   "source": [
    "## 1. Plot GPS and RTS data"
   ]
  },
  {
   "cell_type": "code",
   "execution_count": null,
   "metadata": {},
   "outputs": [],
   "source": [
    "fig, ax = plt.subplots(figsize=(8, 8), ncols=2, nrows=1)\n",
    "ax[0].scatter(df_gps['X'], df_gps['Y'], s=1, c='blue')\n",
    "ax[0].set_xlabel('X [m]')\n",
    "ax[0].set_ylabel('Y [m]')\n",
    "ax[0].set_title('GPS raw')\n",
    "ax[0].set_aspect('equal')\n",
    "ax[1].scatter(df_rts['X'], df_rts['Y'], s=1, c='red')\n",
    "ax[1].set_xlabel('X [m]')\n",
    "ax[1].set_ylabel('Y [m]')\n",
    "ax[1].set_title('RTS raw')\n",
    "ax[1].set_aspect('equal')\n",
    "ax[1].invert_xaxis()\n",
    "ax[1].invert_yaxis()\n"
   ]
  },
  {
   "attachments": {},
   "cell_type": "markdown",
   "metadata": {},
   "source": [
    "## 2. Compute transformation matrix from RTS frame to GNSS frame : $T_{RTS}^{GNSS}$."
   ]
  },
  {
   "cell_type": "code",
   "execution_count": null,
   "metadata": {},
   "outputs": [],
   "source": [
    "traj_merge = pd.merge(df_rts[['Timestamp', 'X', 'Y', 'Z', 'qx','qy','qz','qw']], df_gps[['Timestamp', 'X', 'Y', 'Z', 'qx','qy','qz','qw','PDOP','Sats']], on=['Timestamp'], how='outer', indicator=True)\n",
    "traj_common = traj_merge[traj_merge['_merge'] == 'both']\n",
    "traj_gps_only = traj_merge[traj_merge['_merge'] == 'right_only']\n",
    "traj_rts_only = traj_merge[traj_merge['_merge'] == 'left_only']\n",
    "\n",
    "traj_common.rename(columns={'X_x':'X_rts', 'Y_x':'Y_rts', 'Z_x':'Z_rts', 'X_y':'X_gps', 'Y_y':'Y_gps', 'Z_y':'Z_gps'}, inplace=True)\n",
    "traj_gps_only.rename(columns={'X_y':'X', 'Y_y':'Y', 'Z_y':'Z', 'qx_y' : 'qx', 'qy_y' : 'qy', 'qz_y' : 'qz', 'qw_y' : 'qw'}, inplace=True)\n",
    "traj_rts_only.rename(columns={'X_x':'X', 'Y_x':'Y', 'Z_x':'Z', 'qx_x' : 'qx', 'qy_x' : 'qy', 'qz_x' : 'qz', 'qw_x' : 'qw'}, inplace=True)\n",
    "\n",
    "traj_gps_only.drop(['X_x', 'Y_x', 'Z_x', 'qx_x', 'qy_x', 'qz_x', 'qw_x', '_merge'], axis=1, inplace=True)\n",
    "traj_rts_only.drop(['X_y', 'Y_y', 'Z_y', 'qx_y', 'qy_y', 'qz_y', 'qw_y', 'PDOP', 'Sats', '_merge'], axis=1, inplace=True)"
   ]
  },
  {
   "cell_type": "code",
   "execution_count": null,
   "metadata": {},
   "outputs": [],
   "source": [
    "P = np.array([traj_common['X_rts'], traj_common['Y_rts'], traj_common['Z_rts'], np.ones(len(traj_common['X_rts']))])\n",
    "Q = np.array([traj_common['X_gps'], traj_common['Y_gps'], traj_common['Z_gps'], np.ones(len(traj_common['X_gps']))])\n",
    "\n",
    "T = theodo_u.point_to_point_minimization(P, Q)\n",
    "P = T @ P\n",
    "\n",
    "traj_common['X_rts'] = P[0,:]\n",
    "traj_common['Y_rts'] = P[1,:]\n",
    "traj_common['Z_rts'] = P[2,:]\n",
    "\n",
    "P_rts = np.array([df_rts['X'], df_rts['Y'], df_rts['Z'],np.ones(len(df_rts['X']))])\n",
    "P_rts = T @ P_rts\n",
    "df_rts['X'] = P_rts[0,:]\n",
    "df_rts['Y'] = P_rts[1,:]\n",
    "df_rts['Z'] = P_rts[2,:]\n",
    "\n",
    "P_traj_rts_only = np.array([traj_rts_only['X'], traj_rts_only['Y'], traj_rts_only['Z'], np.ones(len(traj_rts_only['X']))])\n",
    "P_traj_rts_only = T @ P_traj_rts_only\n",
    "traj_rts_only['X'] = P_traj_rts_only[0,:]\n",
    "traj_rts_only['Y'] = P_traj_rts_only[1,:]\n",
    "traj_rts_only['Z'] = P_traj_rts_only[2,:]"
   ]
  },
  {
   "attachments": {},
   "cell_type": "markdown",
   "metadata": {},
   "source": [
    "## Check timestamp sync"
   ]
  },
  {
   "cell_type": "code",
   "execution_count": null,
   "metadata": {},
   "outputs": [],
   "source": [
    "plt.figure(figsize=(10, 5))\n",
    "plt.scatter(traj_common['Timestamp'], traj_common['X_rts'], c='skyblue', label='RTS', s=10)\n",
    "plt.scatter(traj_common['Timestamp'], traj_common['X_gps'], c='pink', label='GPS', s=10)\n",
    "plt.legend()\n",
    "plt.xlabel('Time [s]')\n",
    "plt.ylabel('X [m]')"
   ]
  },
  {
   "attachments": {},
   "cell_type": "markdown",
   "metadata": {},
   "source": [
    "## 2. GPS only, RTS only and common trajectory"
   ]
  },
  {
   "cell_type": "code",
   "execution_count": null,
   "metadata": {},
   "outputs": [],
   "source": [
    "fig, ax = plt.subplots(figsize=(12, 12), ncols = 3, nrows = 1)\n",
    "ax[0].scatter(df_rts['X'],df_rts['Y'], c='skyblue', label='RTS only', s=2, alpha = 0.5)\n",
    "ax[1].scatter(df_gps['X'], df_gps['Y'], c='pink', label='GPS only', s=2, alpha=0.5)\n",
    "ax[2].scatter(traj_common['X_rts'], traj_common['Y_rts'], c='orange', label='Common Trajectory', s=3, alpha=0.5)\n",
    "\n",
    "\n",
    "ax[0].set_xlabel('X (m)')\n",
    "ax[0].set_ylabel('Y (m)')\n",
    "ax[0].set_title('RTS only')\n",
    "ax[0].legend(loc = 'lower left')\n",
    "ax[0].set_aspect('equal')\n",
    "\n",
    "ax[1].set_xlabel('X (m)')\n",
    "ax[1].set_ylabel('Y (m)')\n",
    "ax[1].set_title('GPS only')\n",
    "ax[1].legend(loc = 'lower left')\n",
    "ax[1].set_aspect('equal')\n",
    "\n",
    "ax[2].set_xlabel('X (m)')\n",
    "ax[2].set_ylabel('Y (m)')\n",
    "ax[2].set_title('RTS and GPS common trajectory')\n",
    "ax[2].legend(loc = 'lower left')\n",
    "ax[2].set_aspect('equal')\n"
   ]
  },
  {
   "attachments": {},
   "cell_type": "markdown",
   "metadata": {},
   "source": [
    "## 3. Final plot with common trajectory"
   ]
  },
  {
   "cell_type": "code",
   "execution_count": null,
   "metadata": {},
   "outputs": [],
   "source": [
    "fig, ax = plt.subplots(figsize=(8, 8))\n",
    "ax.scatter(traj_common['X_rts']-245610, traj_common['Y_rts']-5182375, s=1, c='lightgrey', label = 'common')\n",
    "ax.scatter(traj_gps_only['X']-245610, traj_gps_only['Y']-5182375, s=3, c='lightskyblue', label = 'GPS only')\n",
    "ax.scatter(traj_rts_only['X']-245610, traj_rts_only['Y']-5182375, s=1, c='lightsalmon', label = 'RTS only')\n",
    "ax.set_aspect('equal')\n",
    "ax.legend()\n",
    "ax.set_xlabel('X [m]')\n",
    "ax.set_ylabel('Y [m]')\n",
    "ax.set_title('Trajectory reconstruction with RTS and GPS')\n",
    "ax.set_aspect('equal')"
   ]
  },
  {
   "attachments": {},
   "cell_type": "markdown",
   "metadata": {},
   "source": [
    "## 5. Final comparaison between raw data and trajectory reconstruction"
   ]
  },
  {
   "cell_type": "code",
   "execution_count": null,
   "metadata": {},
   "outputs": [],
   "source": [
    "X_origin = 245610\n",
    "Y_origin = 5182375\n",
    "Z_origin = 62"
   ]
  },
  {
   "cell_type": "code",
   "execution_count": null,
   "metadata": {},
   "outputs": [],
   "source": [
    "fig, ax = plt.subplots(figsize=(15, 15), ncols=3, nrows=1)\n",
    "\n",
    "ax[0].scatter(df_gps['X']-X_origin, df_gps['Y']-Y_origin, s=3, c='lightskyblue', alpha=0.8)\n",
    "ax[0].set_xlabel('X [m]')\n",
    "ax[0].set_ylabel('Y [m]')\n",
    "ax[0].set_title('GPS only')\n",
    "ax[0].set_aspect('equal')\n",
    "\n",
    "ax[1].scatter(df_rts['X']-X_origin, df_rts['Y']-Y_origin, s=1, c='lightsalmon', alpha=0.5)\n",
    "ax[1].set_xlabel('X [m]')\n",
    "ax[1].set_ylabel('Y [m]')\n",
    "ax[1].set_title('RTS only')\n",
    "ax[1].set_aspect('equal')\n",
    "\n",
    "ax[2].scatter(traj_common['X_rts']-X_origin, traj_common['Y_rts']-Y_origin, s=1, c='lightgrey', label = 'common')\n",
    "ax[2].scatter(traj_gps_only['X']-X_origin, traj_gps_only['Y']-Y_origin, s=3, c='lightskyblue', label = 'GPS only')\n",
    "ax[2].scatter(traj_rts_only['X']-X_origin, traj_rts_only['Y']-Y_origin, s=1, c='lightsalmon', label = 'RTS only')\n",
    "ax[2].set_aspect('equal')\n",
    "ax[2].legend()\n",
    "ax[2].set_xlabel('X [m]')\n",
    "ax[2].set_ylabel('Y [m]')\n",
    "ax[2].set_title('Trajectory reconstruction')\n",
    "ax[2].set_aspect('equal')\n",
    "\n",
    "fig.suptitle('First trajectory',fontsize=17, y=0.68)"
   ]
  },
  {
   "attachments": {},
   "cell_type": "markdown",
   "metadata": {},
   "source": [
    "# Figure : precision GPS and RTS"
   ]
  },
  {
   "cell_type": "code",
   "execution_count": null,
   "metadata": {},
   "outputs": [],
   "source": [
    "plt.figure(figsize=(10,10))\n",
    "plt.scatter(traj_common['X_rts'] - X_origin, traj_common['Y_rts'] - Y_origin, c='skyblue', label='RTS common', s=3, alpha=0.5)\n",
    "plt.scatter(traj_common['X_gps'] - X_origin, traj_common['Y_gps'] - Y_origin, cmap = 'plasma', c=traj_common['Sats'], label='GPS common', s=3, alpha=0.3)\n",
    "plt.gca().set_aspect('equal')\n",
    "plt.legend(loc = 'lower left')\n",
    "plt.xlabel('X [s]')\n",
    "plt.ylabel('Y [m]')\n",
    "\n",
    "colorbar = plt.colorbar(shrink=0.65)\n",
    "colorbar.set_label('Number of satellites', rotation=270)\n",
    "colorbar.set_ticks([min(traj_common['Sats']), max(traj_common['Sats'])])"
   ]
  },
  {
   "attachments": {},
   "cell_type": "markdown",
   "metadata": {},
   "source": [
    "## Interpolate the trajectory with norlab_trajectory"
   ]
  },
  {
   "cell_type": "code",
   "execution_count": null,
   "metadata": {},
   "outputs": [],
   "source": [
    "#import norlab_trajectory_python as trajpy"
   ]
  },
  {
   "attachments": {},
   "cell_type": "markdown",
   "metadata": {},
   "source": []
  },
  {
   "attachments": {},
   "cell_type": "markdown",
   "metadata": {},
   "source": [
    "## To merge images :"
   ]
  },
  {
   "cell_type": "code",
   "execution_count": null,
   "metadata": {},
   "outputs": [],
   "source": [
    "from PIL import Image\n",
    "def merge_images_vertically(image_path1, image_path2, output_path):\n",
    "    # Ouvrir les deux images\n",
    "    image1 = Image.open(image_path1)\n",
    "    image2 = Image.open(image_path2)\n",
    "\n",
    "    # Récupérer les dimensions des images\n",
    "    width1, height1 = image1.size\n",
    "    width2, height2 = image2.size\n",
    "\n",
    "    # Calculer la largeur et la hauteur de l'image fusionnée\n",
    "    merged_width = max(width1, width2)\n",
    "    merged_height = height1 + height2\n",
    "\n",
    "    # Créer une nouvelle image fusionnée\n",
    "    merged_image = Image.new(\"RGB\", (merged_width, merged_height), (255, 255, 255))\n",
    "\n",
    "    # Coller les deux images dans l'image fusionnée\n",
    "    merged_image.paste(image1, (0, 0))\n",
    "    merged_image.paste(image2, (0, height1))\n",
    "\n",
    "    # Enregistrer l'image fusionnée\n",
    "    merged_image.save(output_path)\n",
    "\n",
    "merge_images_vertically(\"/Users/effiedaum/Master_thesis/Figures/Plot_workshop/final_plot_1st.png\", \"/Users/effiedaum/Master_thesis/Figures/Plot_workshop/final_plot_2nd.png\", \"/Users/effiedaum/Master_thesis/Figures/Plot_workshop/final_plot_merged.png\")"
   ]
  },
  {
   "cell_type": "markdown",
   "source": [
    "# 6. Error inter-prism and inter-gps"
   ],
   "metadata": {
    "collapsed": false
   }
  },
  {
   "cell_type": "code",
   "execution_count": null,
   "outputs": [],
   "source": [
    "theodo_u = importlib.reload(theodo_u)\n",
    "prefix = \"filtered_prediction/f-2-2-2-3-6-0-L\"\n",
    "linear_interpolation = True\n",
    "if(linear_interpolation==True):\n",
    "    P1 = theodo_u.read_prediction_data_Linear_csv_file(path+prefix +\"_1.csv\")\n",
    "    P2 = theodo_u.read_prediction_data_Linear_csv_file(path+prefix +\"_2.csv\")\n",
    "    P3 = theodo_u.read_prediction_data_Linear_csv_file(path+prefix +\"_3.csv\")\n",
    "else:\n",
    "    P1 = theodo_u.read_prediction_data_GP_csv_file(path+prefix +\"_1.csv\")\n",
    "    P2 = theodo_u.read_prediction_data_GP_csv_file(path+prefix +\"_2.csv\")\n",
    "    P3 = theodo_u.read_prediction_data_GP_csv_file(path+prefix +\"_3.csv\")\n",
    "    \n",
    "P1_arr = np.array(P1)\n",
    "P2_arr = np.array(P2)\n",
    "P3_arr = np.array(P3)\n",
    "\n",
    "path_file_GCP = \"total_stations/GCP.txt\"\n",
    "file_name = path+path_file_GCP\n",
    "trimble_1_gcp, trimble_2_gcp, trimble_3_gcp, T_1_grand, T_2_grand, T_3_grand = theodo_u.read_marker_file(file_name, 1, 1)\n",
    "\n",
    "P1_corrected = []\n",
    "P2_corrected = []\n",
    "P3_corrected = []\n",
    "for i, j, k in zip(P1_arr, P2_arr, P3_arr):\n",
    "    P1_arr = T_1_grand@i[1:5].T\n",
    "    P1_corrected.append([i[0], P1_arr[0], P1_arr[1], P1_arr[2], 1])\n",
    "    P2_arr = T_2_grand@j[1:5].T\n",
    "    P2_corrected.append([j[0], P2_arr[0], P2_arr[1], P2_arr[2], 1])\n",
    "    P3_arr = T_3_grand@k[1:5].T\n",
    "    P3_corrected.append([k[0], P3_arr[0], P3_arr[1], P3_arr[2], 1])\n",
    "\n",
    "P1_corrected = np.array(P1_corrected)\n",
    "P2_corrected = np.array(P2_corrected)\n",
    "P3_corrected = np.array(P3_corrected)\n",
    "\n",
    "extrinsic_calibration_results = theodo_u.read_extrinsic_calibration_results_file(path+\"sensors_extrinsic_calibration/calibration_results.csv\")"
   ],
   "metadata": {
    "collapsed": false
   }
  },
  {
   "cell_type": "code",
   "execution_count": null,
   "outputs": [],
   "source": [
    "print(extrinsic_calibration_results)"
   ],
   "metadata": {
    "collapsed": false
   }
  },
  {
   "cell_type": "code",
   "execution_count": null,
   "outputs": [],
   "source": [
    "d12_rts = []\n",
    "d13_rts = []\n",
    "d23_rts = []\n",
    "diff_time_synchro = 4*3600+6\n",
    "for i,j,k in zip(P1_corrected,P2_corrected,P3_corrected):\n",
    "    d12_rts.append([i[0]-diff_time_synchro,1000*abs(np.linalg.norm(i[1:4]-j[1:4])-extrinsic_calibration_results[0])])\n",
    "    d13_rts.append([i[0]-diff_time_synchro,1000*abs(np.linalg.norm(i[1:4]-k[1:4])-extrinsic_calibration_results[1])])\n",
    "    d23_rts.append([j[0]-diff_time_synchro,1000*abs(np.linalg.norm(k[1:4]-j[1:4])-extrinsic_calibration_results[2])])"
   ],
   "metadata": {
    "collapsed": false
   }
  },
  {
   "cell_type": "code",
   "execution_count": null,
   "outputs": [],
   "source": [
    "xs_rts = [None] * len(traj_common['Timestamp'])\n",
    "for i in range(0,len(d12_rts)):\n",
    "    out = next(iter(np.where(traj_common['Timestamp'] == np.int64(d12_rts[i][0]))), 'Nan')\n",
    "    for j in out:\n",
    "        if j!='Nan':\n",
    "            if np.mean([d12_rts[i][1],d13_rts[i][1],d23_rts[i][1]])<10000:\n",
    "                xs_rts[j]= np.mean([d12_rts[i][1],d13_rts[i][1],d23_rts[i][1]])\n",
    "traj_common['Inter_prism'] = xs_rts"
   ],
   "metadata": {
    "collapsed": false
   }
  },
  {
   "cell_type": "code",
   "execution_count": null,
   "outputs": [],
   "source": [
    "import matplotlib.colors as colors\n",
    "plt.figure(figsize=(10,8))\n",
    "plt.scatter(traj_common['X_rts'] - X_origin, traj_common['Y_rts'] - Y_origin, cmap = 'plasma', norm=colors.LogNorm(vmin=0.1, vmax=100), c=traj_common['Inter_prism'], label='Rts common', s=3, alpha=0.3)\n",
    "#plt.scatter(traj_common['X_gps'] - X_origin, traj_common['Y_gps'] - Y_origin, cmap = 'plasma', c=traj_common['Sats'], label='GPS common', s=3, alpha=0.3)\n",
    "plt.gca().set_aspect('equal')\n",
    "plt.legend(loc = 'lower left')\n",
    "plt.xlabel('X [m]')\n",
    "plt.ylabel('Y [m]')\n",
    "\n",
    "colorbar = plt.colorbar(shrink=0.65)\n",
    "colorbar.set_label('Inter-prism error', rotation=270)\n",
    "# colorbar.set_ticks([min(traj_common['Inter-prism']), max(traj_common['Inter-prism'])])"
   ],
   "metadata": {
    "collapsed": false
   }
  },
  {
   "cell_type": "code",
   "execution_count": null,
   "outputs": [],
   "source": [
    "df_gps_1 = pd.read_csv(path + \"gps_data/rover_1_raw.csv\", names=['Point ID','Easting','Northing','Elevation','H. Precision','V. Precision','PDOP','Sats','Datetime','Timestamp'], delimiter= ',', skiprows=[0])\n",
    "df_gps_2 = pd.read_csv(path + \"gps_data/rover_2_raw.csv\", names=['Point ID','Easting','Northing','Elevation','H. Precision','V. Precision','PDOP','Sats','Datetime','Timestamp'], delimiter= ',', skiprows=[0])\n",
    "df_gps_3 = pd.read_csv(path + \"gps_data/rover_3_raw.csv\", names=['Point ID','Easting','Northing','Elevation','H. Precision','V. Precision','PDOP','Sats','Datetime','Timestamp'], delimiter= ',', skiprows=[0])"
   ],
   "metadata": {
    "collapsed": false
   }
  },
  {
   "cell_type": "code",
   "execution_count": null,
   "outputs": [],
   "source": [
    "xs_gps = [None] * len(traj_common['Timestamp'])\n",
    "print(len(traj_common['Timestamp']))\n",
    "for i in range(0,len(traj_common['Timestamp'])):\n",
    "    try:\n",
    "        if traj_common['Timestamp'][i] != 'None' :\n",
    "            out1 = next(iter(np.where(df_gps_1['Timestamp'] == traj_common['Timestamp'][i])[0]), 'Nan')\n",
    "            out2 = next(iter(np.where(df_gps_2['Timestamp'] == traj_common['Timestamp'][i])[0]), 'Nan')\n",
    "            out3 = next(iter(np.where(df_gps_3['Timestamp'] == traj_common['Timestamp'][i])[0]), 'Nan')\n",
    "            if out1!='Nan' and out2!='Nan' and out3!='Nan':\n",
    "                point_1 = np.array([np.float(df_gps_1['Easting'][out1]),np.float(df_gps_1['Northing'][out1]),np.float(df_gps_1['Elevation'][out1])])\n",
    "                point_2 = np.array([np.float(df_gps_2['Easting'][out2]),np.float(df_gps_2['Northing'][out2]),np.float(df_gps_2['Elevation'][out2])])\n",
    "                point_3 = np.array([np.float(df_gps_3['Easting'][out3]),np.float(df_gps_3['Northing'][out3]),np.float(df_gps_3['Elevation'][out3])])\n",
    "                d12_gps = 1000*abs(np.linalg.norm(point_1-point_2)-extrinsic_calibration_results[3])\n",
    "                d13_gps = 1000*abs(np.linalg.norm(point_1-point_3)-extrinsic_calibration_results[4])\n",
    "                d23_gps = 1000*abs(np.linalg.norm(point_2-point_3)-extrinsic_calibration_results[5])\n",
    "                if np.mean([d12_gps,d13_gps,d23_gps])<10000:\n",
    "                    xs_gps[i]= np.mean([d12_gps,d13_gps,d23_gps])\n",
    "    except:\n",
    "        print('error')\n",
    "traj_common['Inter_gps'] = xs_gps"
   ],
   "metadata": {
    "collapsed": false
   }
  },
  {
   "cell_type": "code",
   "execution_count": null,
   "outputs": [],
   "source": [
    "import matplotlib.colors as colors\n",
    "plt.figure(figsize=(10,8))\n",
    "plt.scatter(traj_common['X_gps'] - X_origin, traj_common['Y_gps'] - Y_origin, cmap = 'plasma', norm=colors.LogNorm(vmin=0.1, vmax=100), c=traj_common['Inter_gps'], label='Gps common', s=3, alpha=0.3)\n",
    "#plt.scatter(traj_common['X_gps'] - X_origin, traj_common['Y_gps'] - Y_origin, cmap = 'plasma', c=traj_common['Sats'], label='GPS common', s=3, alpha=0.3)\n",
    "plt.gca().set_aspect('equal')\n",
    "plt.legend(loc = 'lower left')\n",
    "plt.xlabel('X [m]')\n",
    "plt.ylabel('Y [m]')\n",
    "\n",
    "colorbar = plt.colorbar(shrink=0.65)\n",
    "colorbar.set_label('Inter-gps error', rotation=270)\n",
    "#colorbar.set_ticks([min(traj_common['Inter-gps']), max(traj_common['Inter-gps'])])"
   ],
   "metadata": {
    "collapsed": false
   }
  },
  {
   "cell_type": "markdown",
   "source": [
    "# 7. Save error inter-prism and inter-gps in vtk"
   ],
   "metadata": {
    "collapsed": false
   }
  },
  {
   "cell_type": "code",
   "execution_count": null,
   "outputs": [],
   "source": [
    "#import required packages\n",
    "import itertools\n",
    "import numpy as np\n",
    "import pyvista as pv\n",
    "import math\n",
    "\n",
    "pointSec = []\n",
    "inter_gps = []\n",
    "for index, valuesx in traj_common.iterrows():\n",
    "    if traj_common.loc[index].Inter_gps!='None' and math.isnan(traj_common.loc[index].Inter_gps)!=True:\n",
    "        x, y, z = traj_common.loc[index].X_gps, traj_common.loc[index].Y_gps, traj_common.loc[index].Z_gps\n",
    "        inter_gps.append(traj_common.loc[index].Inter_gps)\n",
    "        pointSec.append([x- X_origin,y- Y_origin,z- Z_origin])\n",
    "    \n",
    "pointSec = np.array(pointSec)\n",
    "inter_gps = np.array(inter_gps)\n",
    "point_cloud = pv.PolyData(pointSec)\n",
    "data = points[:,-1]\n",
    "point_cloud[\"Inter_gps\"]=inter_gps\n",
    "point_cloud.plot(render_points_as_spheres=True)\n",
    "point_cloud.save('/home/maxime/gps_traj_common.vtk',binary=False)\n",
    "\n",
    "pointSec = []\n",
    "inter_rts = []\n",
    "for index, valuesx in traj_common.iterrows():\n",
    "    if traj_common.loc[index].Inter_prism!='None' and math.isnan(traj_common.loc[index].Inter_prism)!=True:\n",
    "        x, y, z = traj_common.loc[index].X_rts, traj_common.loc[index].Y_rts, traj_common.loc[index].Z_rts\n",
    "        inter_rts.append(traj_common.loc[index].Inter_prism)\n",
    "        pointSec.append([x- X_origin,y- Y_origin,z- Z_origin])\n",
    "    \n",
    "pointSec = np.array(pointSec)\n",
    "inter_rts = np.array(inter_rts)\n",
    "point_cloud = pv.PolyData(pointSec)\n",
    "data = points[:,-1]\n",
    "point_cloud[\"Inter_prism\"]=inter_rts\n",
    "point_cloud.plot(render_points_as_spheres=True)\n",
    "point_cloud.save('/home/maxime/rts_traj_common.vtk',binary=False)"
   ],
   "metadata": {
    "collapsed": false
   }
  },
  {
   "cell_type": "code",
   "execution_count": null,
   "outputs": [],
   "source": [],
   "metadata": {
    "collapsed": false
   }
  }
 ],
 "metadata": {
  "kernelspec": {
   "display_name": "Python 3",
   "language": "python",
   "name": "python3"
  },
  "language_info": {
   "codemirror_mode": {
    "name": "ipython",
    "version": 3
   },
   "file_extension": ".py",
   "mimetype": "text/x-python",
   "name": "python",
   "nbconvert_exporter": "python",
   "pygments_lexer": "ipython3",
   "version": "3.10.8"
  },
  "orig_nbformat": 4
 },
 "nbformat": 4,
 "nbformat_minor": 2
}
