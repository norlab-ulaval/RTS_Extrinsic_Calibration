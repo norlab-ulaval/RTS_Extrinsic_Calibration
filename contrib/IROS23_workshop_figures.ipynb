{
 "cells": [
  {
   "cell_type": "code",
   "execution_count": null,
   "metadata": {},
   "outputs": [],
   "source": [
    "import sys\n",
    "sys.path.append(\"../\")\n",
    "import numpy as np\n",
    "import csv\n",
    "import os\n",
    "import pandas as pd\n",
    "import importlib\n",
    "import matplotlib.pyplot as plt\n",
    "import scripts.theodolite_utils as theodo_u\n",
    "theodo_u = importlib.reload(theodo_u)\n",
    "import warnings\n",
    "warnings.filterwarnings('ignore')\n",
    "from scipy.spatial.transform import Rotation as R_scipy"
   ]
  },
  {
   "attachments": {},
   "cell_type": "markdown",
   "metadata": {},
   "source": [
    "## Select date of the data to compute"
   ]
  },
  {
   "cell_type": "code",
   "execution_count": null,
   "metadata": {},
   "outputs": [],
   "source": [
    "# Path of output\n",
    "path = \"../data/20230725-1/\""
   ]
  },
  {
   "attachments": {},
   "cell_type": "markdown",
   "metadata": {},
   "source": [
    "## 0. Synchronize RTS Timestamp with GNSS Timestamp"
   ]
  },
  {
   "cell_type": "code",
   "execution_count": null,
   "metadata": {},
   "outputs": [],
   "source": [
    "theodo_u = importlib.reload(theodo_u)\n",
    "\n",
    "df_rts = pd.read_csv(path + \"ground_truth/groundtruth_rts_lidar.csv\", names=[\"Timestamp\", \"X\", \"Y\", \"Z\", \"qx\", \"qy\", \"qz\", \"qw\"], delimiter= ' ')\n",
    "df_gps = pd.read_csv(path + \"ground_truth/groundtruth_gps_lidar.csv\", delimiter= ',')\n",
    "\n",
    "df_rts['Timestamp'] = pd.to_datetime(df_rts['Timestamp'], unit='s') # Convert to datetime\n",
    "df_rts['Timestamp'] -= pd.Timedelta(hours=4) # Subtract 4 hours from the RTS Timestamp column\n",
    "df_rts['Timestamp'] = df_rts[\"Timestamp\"].values.astype(np.int64) // 10 ** 9 # Convert to Unix Timestamp\n",
    "\n",
    "# print(df_rts.head())\n",
    "# print(df_gps.head())\n"
   ]
  },
  {
   "attachments": {},
   "cell_type": "markdown",
   "metadata": {},
   "source": [
    "## 1. Compute transformation matrix from RTS frame to GNSS frame : $T_{RTS}^{GNSS}$."
   ]
  },
  {
   "cell_type": "code",
   "execution_count": null,
   "metadata": {},
   "outputs": [],
   "source": [
    "print(len(df_rts['Timestamp']))\n",
    "print(len(df_gps['Timestamp']))"
   ]
  },
  {
   "cell_type": "code",
   "execution_count": null,
   "metadata": {},
   "outputs": [],
   "source": [
    "traj = pd.merge(df_rts[['Timestamp', 'X', 'Y', 'Z', 'qx','qy','qz','qw']], df_gps[['Timestamp', 'X', 'Y', 'Z', 'qx','qy','qz','qw','PDOP','Sats']], on=['Timestamp'])\n",
    "X_rts = traj['X_x']\n",
    "Y_rts = traj['Y_x']\n",
    "Z_rts = traj['Z_x']\n",
    "X_gps = traj['X_y']\n",
    "Y_gps = traj['Y_y']\n",
    "Z_gps = traj['Z_y']\n",
    "# print(traj.head())"
   ]
  },
  {
   "cell_type": "code",
   "execution_count": null,
   "metadata": {},
   "outputs": [],
   "source": [
    "def get_icp_solution(P, Q):\n",
    "    mu_P = np.mean(P, axis=1)[:,np.newaxis] #np.newaxis : add a line of 1 for the point list\n",
    "    mu_Q = np.mean(Q, axis=1)[:,np.newaxis]\n",
    "\n",
    "    P -= np.full(P.shape, mu_P)\n",
    "    Q -= np.full(Q.shape, mu_Q)\n",
    "\n",
    "    H = P @ Q.T\n",
    "\n",
    "    U, S, V = np.linalg.svd(H, full_matrices=True)\n",
    "\n",
    "    M = np.eye(4)\n",
    "    M[3, 3] = np.linalg.det(V @ U.T)\n",
    "    C = V @ M @ U.T\n",
    "\n",
    "    r = (mu_Q - C @ mu_P).flatten()\n",
    "    \n",
    "    T = np.eye(4)\n",
    "    T[0:3, 0:3] = C[0:3, 0:3]\n",
    "    T[0:3, 3] = r[0:3]\n",
    "    return T, C, r"
   ]
  },
  {
   "cell_type": "code",
   "execution_count": null,
   "metadata": {},
   "outputs": [],
   "source": [
    "P = np.array([X_rts, Y_rts, Z_rts,np.ones(len(X_rts))])\n",
    "Q = np.array([X_gps, Y_gps, Z_gps,np.ones(len(X_gps))])\n",
    "\n",
    "#T, C, r = get_icp_solution(P, Q)\n",
    "T = theodo_u.point_to_point_minimization(P, Q)\n",
    "P = np.array([X_rts, Y_rts, Z_rts,np.ones(len(X_rts))])\n",
    "P_transformed = T @ P\n",
    "\n",
    "# Rot = R_scipy.from_matrix(C[:3,:3])\n",
    "# Rot = Rot.as_euler('xyz', degrees=True)\n",
    "# \n",
    "# print(\"Rotation angles: \", Rot[0], Rot[1], Rot[2])\n",
    "\n",
    "X_rts_transformed = P_transformed[0,:]\n",
    "Y_rts_transformed = P_transformed[1,:]\n",
    "Z_rts_transformed = P_transformed[2,:]"
   ]
  },
  {
   "cell_type": "code",
   "execution_count": null,
   "metadata": {},
   "outputs": [],
   "source": [
    "fig, ax  = plt.subplots(figsize=(8, 8))\n",
    "\n",
    "ax.scatter(X_rts, Y_rts, color='pink', s=3)\n",
    "ax.set_aspect('equal')"
   ]
  },
  {
   "cell_type": "code",
   "execution_count": null,
   "outputs": [],
   "source": [
    "fig, ax  = plt.subplots(figsize=(8, 8))\n",
    "ax.scatter(X_gps, Y_gps, color='pink', s=3)\n",
    "ax.set_aspect('equal')"
   ],
   "metadata": {
    "collapsed": false
   }
  },
  {
   "cell_type": "code",
   "execution_count": null,
   "metadata": {},
   "outputs": [],
   "source": [
    "plt.figure(figsize=(10,10))\n",
    "\n",
    "plt.scatter(X_rts_transformed, Y_rts_transformed, s=1, c='r', label='RTS')\n",
    "plt.scatter(X_gps, Y_gps, s=1, c='b', label='GPS')\n",
    "plt.show()"
   ]
  },
  {
   "cell_type": "code",
   "execution_count": null,
   "metadata": {},
   "outputs": [],
   "source": [
    "poses = []\n",
    "for i in range(len(traj)) :\n",
    "    P = np.array([[X_rts[i]], [Y_rts[i]],[Z_rts[i]],[1]])\n",
    "    Q = np.array([[X_gps[i]], [Y_gps[i]], [Z_gps[i]],[1]])\n",
    "    #T, C, r = get_icp_solution(P, Q)\n",
    "    T = theodo_u.point_to_point_minimization(P, Q)\n",
    "    P = np.array([[X_rts[i]], [Y_rts[i]],[Z_rts[i]],[1]]) #fix the P and Q = 0 bug du to the fact that P and Q are modified in get_icp_solution\n",
    "    rts_transformed = T @ P\n",
    "    poses.append([rts_transformed[0],rts_transformed[1],rts_transformed[2]])\n",
    "traj['X'], traj['Y'], traj['Z'] = zip(*poses)\n",
    "traj = traj[['X', 'Y', 'Z']]"
   ]
  },
  {
   "cell_type": "code",
   "execution_count": null,
   "metadata": {},
   "outputs": [],
   "source": [
    "%matplotlib inline\n",
    "fig, ax = plt.subplots(figsize=(8, 8))\n",
    "\n",
    "ax.scatter(traj['X'][1:], traj['Y'][1:], c='skyblue', label='Trajectory', s=5, alpha=0.5)\n",
    "ax.set_xlabel('X [m]')\n",
    "ax.set_ylabel('Y [m]')\n",
    "ax.set_title('Common trajectory between the RTS and GNSS in the GNSS frame')\n",
    "ax.legend()\n",
    "ax.set_aspect('equal')\n",
    "\n",
    "plt.show()"
   ]
  },
  {
   "attachments": {},
   "cell_type": "markdown",
   "metadata": {},
   "source": [
    "## 2. Find interval with no RTS or GNSS data and complete the map"
   ]
  },
  {
   "cell_type": "code",
   "execution_count": null,
   "metadata": {},
   "outputs": [],
   "source": [
    "X_rts = df_rts['X'].values\n",
    "Y_rts = df_rts['Y'].values\n",
    "Z_rts = df_rts['Z'].values\n",
    "\n",
    "for i in range(len(df_rts['X'])) :\n",
    "    P = np.array([[X_rts[i]], [Y_rts[i]],[Z_rts[i]],[1]])\n",
    "    transformed = T @ P\n",
    "    df_rts['X'][i] = transformed[0]\n",
    "    df_rts['Y'][i] = transformed[1]\n",
    "    df_rts['Z'][i] = transformed[2] \n",
    "    \n",
    "\n",
    "fig, ax = plt.subplots(figsize=(8, 8))\n",
    "ax.scatter(df_rts['X'], df_rts['Y'], label='transformed', s=3)\n",
    "ax.set_aspect('equal')\n",
    "plt.show()"
   ]
  },
  {
   "attachments": {},
   "cell_type": "markdown",
   "metadata": {},
   "source": []
  },
  {
   "attachments": {},
   "cell_type": "markdown",
   "metadata": {},
   "source": [
    "## 3. Final plot with common and not common trajectory"
   ]
  },
  {
   "cell_type": "code",
   "execution_count": null,
   "metadata": {},
   "outputs": [],
   "source": [
    "%matplotlib inline\n",
    "fig, ax = plt.subplots(figsize=(8, 8))\n",
    "ax.scatter(df_gps['X'], df_gps['Y'], c = 'orange', label='GPS only', s=5, alpha=0.5)\n",
    "ax.scatter(traj['X'][1:], traj['Y'][1:], c='skyblue', label='Common trajectory', s=5, alpha=0.5)\n",
    "\n",
    "ax.set_xlabel('X [m]')\n",
    "ax.set_ylabel('Y [m]')\n",
    "ax.set_title('Common trajectory between the RTS and GNSS in the GNSS frame')\n",
    "ax.legend()\n",
    "ax.set_aspect('equal')\n",
    "\n",
    "plt.show()"
   ]
  },
  {
   "cell_type": "code",
   "execution_count": null,
   "outputs": [],
   "source": [],
   "metadata": {
    "collapsed": false
   }
  }
 ],
 "metadata": {
  "kernelspec": {
   "display_name": "Python 3",
   "language": "python",
   "name": "python3"
  },
  "language_info": {
   "codemirror_mode": {
    "name": "ipython",
    "version": 3
   },
   "file_extension": ".py",
   "mimetype": "text/x-python",
   "name": "python",
   "nbconvert_exporter": "python",
   "pygments_lexer": "ipython3",
   "version": "3.10.8"
  },
  "orig_nbformat": 4
 },
 "nbformat": 4,
 "nbformat_minor": 2
}
