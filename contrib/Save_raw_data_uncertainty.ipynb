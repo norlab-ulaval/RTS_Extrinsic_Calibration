{
 "cells": [
  {
   "cell_type": "code",
   "execution_count": 2,
   "metadata": {
    "collapsed": true
   },
   "outputs": [],
   "source": [
    "import sys\n",
    "sys.path.append(\"../\")\n",
    "import numpy as np\n",
    "import scripts.prediction_utils as predict_u\n",
    "import scripts.theodolite_utils as theodo_u\n",
    "import scripts.theodolite_plot_function as theodo_p\n",
    "import scripts.groundtruth_utils as theodo_g\n",
    "import scripts.theodolite_function as theodo_f\n",
    "import importlib\n",
    "theodo_u = importlib.reload(theodo_u)\n",
    "theodo_p = importlib.reload(theodo_p)\n",
    "theodo_f = importlib.reload(theodo_f)\n",
    "predict_u = importlib.reload(predict_u)"
   ]
  },
  {
   "cell_type": "code",
   "execution_count": 9,
   "outputs": [
    {
     "name": "stdout",
     "output_type": "stream",
     "text": [
      "../data/weather_2022/Quebec/data_sorted_2022.txt\n"
     ]
    }
   ],
   "source": [
    "%matplotlib notebook\n",
    "theodo_u = importlib.reload(theodo_u)\n",
    "theodo_p = importlib.reload(theodo_p)\n",
    "predict_u = importlib.reload(predict_u)\n",
    "theodo_g = importlib.reload(theodo_g)\n",
    "\n",
    "## Path of main files\n",
    "path = [\n",
    "    \"../data/20220224/\"\n",
    "]\n",
    "\n",
    "## Parameters for pre-processing pipeline\n",
    "file = [\n",
    "        \"/home/maxime/data/ICRA_2023/Vaidis2022_dataset/20220224/20220224_inter_prism.bag\"\n",
    "]\n",
    "\n",
    "parameters = [1,2,1,1,3,2]  # 1. Apply filtering or not (Module 1), 2-3-4. Parameters tau_r, tau_a, tau_e (Module 1), 5. Parameter tau_s (Module 2), 6 Parameter tau_l (Module 4).\n",
    "\n",
    "## Range\n",
    "random_noise_range = [0, 0.004/2, 2]   ## Mean, sigma, ppm,  4mm + 2ppm (2 sigma)  ISO17123-3\n",
    "## Angles\n",
    "random_noise_angle = [0, 0.000024241/5*4/2]    # Mean, sigma, 5\"=0.000024241 precision datasheet  (2 sigma)  ISO17123-3\n",
    "## Tilt compensator\n",
    "random_noise_tilt = [0, 0.000002424/2]    # Mean, sigma, 0.5\"=0.000002424 precision datasheet  (2 sigma)  ISO17123-3\n",
    "## Weather\n",
    "weather_data_path = \"../data/weather_2022/Quebec/\"\n",
    "data_weather = np.array(theodo_u.read_weather_data(weather_data_path+\"data_sorted_2022.txt\"))\n",
    "## MC number\n",
    "num_samples = 1000\n",
    "\n",
    "## Choice of noise model\n",
    "model_chosen = [0, 0, 0, 0, 0]  # Tilt noise, Atmospheric correction, extrinsic calibration, Weather corrections, Time synchronization # 1: Activate, 0:Disable"
   ],
   "metadata": {
    "collapsed": false
   }
  },
  {
   "cell_type": "code",
   "execution_count": 15,
   "outputs": [
    {
     "name": "stdout",
     "output_type": "stream",
     "text": [
      "['/home/maxime/data/ICRA_2023/Vaidis2022_dataset/20220224/20220224_inter_prism.bag']\n",
      "Number of data for theodolites: [4945 4681 4737]\n",
      "Bad measures: 558\n",
      "3836 3619 3690\n"
     ]
    }
   ],
   "source": [
    "predict_u = importlib.reload(predict_u)\n",
    "for path_i, rosbag_i in zip(path, file):\n",
    "    print(file)\n",
    "\n",
    "    ## Number of rigid transforms to apply the uncertainty\n",
    "    path_file_GCP = \"total_stations/GCP.txt\"\n",
    "    frame_chosen, T_1_corrected, T_2_corrected, T_3_corrected = theodo_g.extrinsic_calibration_noise(path_i + path_file_GCP, random_noise_range, random_noise_angle, random_noise_tilt, num_samples)\n",
    "    ## Read Extrinsic results for RTS\n",
    "    ## Estimated extrinsic calibration uncertainty\n",
    "    _, _, _, Tf_1, Tf_2, Tf_3 = theodo_u.read_marker_file(path_i + path_file_GCP, 1, 1)\n",
    "    # Reading sensor extrinsic calibration\n",
    "    file_sensors = theodo_u.if_file_exist(path_i + \"sensors_extrinsic_calibration/calibration_results.csv\",'')\n",
    "    extrinsic_calibration_results = theodo_u.read_extrinsic_calibration_results_file(file_sensors)\n",
    "\n",
    "    thresold_d = parameters[1]  ## tau_r [m/s]\n",
    "    thresold_a = parameters[2]  ## tau_a [deg/s]\n",
    "    thresold_e = parameters[3]  ## tau_e [deg/s]\n",
    "    limit_time_interval = parameters[4]  ## tau_s [s]\n",
    "\n",
    "    t1, t2, t3, _, _, _, d1, d2, d3, a1, a2, a3, e1, e2, e3 = theodo_u.read_rosbag_theodolite_without_tf_raw_data_pre_filtered(rosbag_i)\n",
    "    index_1_f = theodo_u.thresold_raw_data(t1, d1, a1, e1, thresold_d, thresold_a * 3.1415926 / 180,\n",
    "                                           thresold_e * 3.1415926 / 180, limit_time_interval)\n",
    "    index_2_f = theodo_u.thresold_raw_data(t2, d2, a2, e2, thresold_d, thresold_a * 3.1415926 / 180,\n",
    "                                           thresold_e * 3.1415926 / 180, limit_time_interval)\n",
    "    index_3_f = theodo_u.thresold_raw_data(t3, d3, a3, e3, thresold_d, thresold_a * 3.1415926 / 180,\n",
    "                                           thresold_e * 3.1415926 / 180, limit_time_interval)\n",
    "    T1, D1, A1, E1 = predict_u.data_L_Raw_data(t1, d1, a1, e1, index_1_f)\n",
    "    T2, D2, A2, E2 = predict_u.data_L_Raw_data(t2, d2, a2, e2, index_2_f)\n",
    "    T3, D3, A3, E3 = predict_u.data_L_Raw_data(t3, d3, a3, e3, index_3_f)\n",
    "    print(len(T1), len(T2), len(T3))\n",
    "\n",
    "\n"
   ],
   "metadata": {
    "collapsed": false
   }
  },
  {
   "cell_type": "code",
   "execution_count": 13,
   "outputs": [
    {
     "name": "stdout",
     "output_type": "stream",
     "text": [
      "[1.64573488e+09 1.64573488e+09 1.64573488e+09 ... 1.64573735e+09\n",
      " 1.64573735e+09 1.64573735e+09]\n"
     ]
    }
   ],
   "source": [
    "print(t1[index_1_f])"
   ],
   "metadata": {
    "collapsed": false
   }
  },
  {
   "cell_type": "code",
   "execution_count": null,
   "outputs": [],
   "source": [],
   "metadata": {
    "collapsed": false
   }
  }
 ],
 "metadata": {
  "kernelspec": {
   "display_name": "Python 3",
   "language": "python",
   "name": "python3"
  },
  "language_info": {
   "codemirror_mode": {
    "name": "ipython",
    "version": 2
   },
   "file_extension": ".py",
   "mimetype": "text/x-python",
   "name": "python",
   "nbconvert_exporter": "python",
   "pygments_lexer": "ipython2",
   "version": "2.7.6"
  }
 },
 "nbformat": 4,
 "nbformat_minor": 0
}
