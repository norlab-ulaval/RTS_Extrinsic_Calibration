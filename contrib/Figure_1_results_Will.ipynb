{
 "cells": [
  {
   "cell_type": "code",
   "execution_count": null,
   "id": "fbf03ea1",
   "metadata": {},
   "outputs": [],
   "source": [
    "import sys\n",
    "sys.path.append(\"../\")\n",
    "import numpy as np\n",
    "import matplotlib.pyplot as plt\n",
    "import scripts.theodolite_utils as theodo_u\n",
    "import scripts.theodolite_plot_function as theodo_p\n",
    "import scripts.groundtruth_utils as theodo_g\n",
    "from numpy import linalg\n",
    "import importlib\n",
    "theodo_u = importlib.reload(theodo_u)\n",
    "theodo_p = importlib.reload(theodo_p)"
   ]
  },
  {
   "cell_type": "code",
   "execution_count": null,
   "id": "3740b3b6",
   "metadata": {},
   "outputs": [],
   "source": [
    "theodo_u = importlib.reload(theodo_u)\n",
    "\n",
    "file_0 = \"/media/william/will_SSD/Theodolite_data/IROS_data/simulated_data_for_figure/model_MC_0_0_0_0_0.csv\"\n",
    "file_1 = \"/media/william/will_SSD/Theodolite_data/IROS_data/simulated_data_for_figure/model_MC_1_0_0_0_0.csv\"\n",
    "file_2 = \"/media/william/will_SSD/Theodolite_data/IROS_data/simulated_data_for_figure/model_MC_0_1_0_0_0.csv\"\n",
    "file_3 = \"/media/william/will_SSD/Theodolite_data/IROS_data/simulated_data_for_figure/model_MC_0_0_1_0_0.csv\"\n",
    "file_4 = \"/media/william/will_SSD/Theodolite_data/IROS_data/simulated_data_for_figure/model_MC_0_0_0_1_0.csv\"\n",
    "file_5 = \"/media/william/will_SSD/Theodolite_data/IROS_data/simulated_data_for_figure/model_MC_1_1_1_1_0.csv\"\n",
    "\n",
    "Data_no_uncertainty = theodo_u.read_point_uncertainty_with_raw_data_csv_file(file_0)\n",
    "Data_tilt = theodo_u.read_point_uncertainty_with_raw_data_csv_file(file_1)\n",
    "Data_atmospheric = theodo_u.read_point_uncertainty_with_raw_data_csv_file(file_2)\n",
    "Data_extrinsic_calibration = theodo_u.read_point_uncertainty_with_raw_data_csv_file(file_3)\n",
    "Data_time_synchronization = theodo_u.read_point_uncertainty_with_raw_data_csv_file(file_4)\n",
    "Data_all_uncertainty = theodo_u.read_point_uncertainty_with_raw_data_csv_file(file_5)"
   ]
  },
  {
   "cell_type": "code",
   "execution_count": null,
   "id": "8db44b36",
   "metadata": {},
   "outputs": [],
   "source": [
    "theodo_g = importlib.reload(theodo_g)\n",
    "\n",
    "Data_total = [Data_no_uncertainty, Data_tilt, Data_atmospheric, Data_extrinsic_calibration, Data_time_synchronization, Data_all_uncertainty]\n",
    "## Frobenius norm for all data according to the model chosen and the range linked\n",
    "Parameter_RTS_total = []    # Here the parameters linked to the metric (range for instance)\n",
    "Distance_F_total = []\n",
    "Number_model = 1\n",
    "for model in Data_total[1:]:\n",
    "    print(Number_model)\n",
    "    Number_model=Number_model+1\n",
    "    Distance_F = []\n",
    "    Parameter_RTS = []\n",
    "    for value_model, value_0 in zip(model, Data_total[0]):\n",
    "        Distance_F.append(np.sqrt(theodo_u.Frobenius_norm(value_model[2], value_0[2])))\n",
    "        Parameter_RTS.append(value_0[3][0])\n",
    "    Distance_F_total.append(Distance_F)\n",
    "    Parameter_RTS_total.append(Parameter_RTS)"
   ]
  },
  {
   "cell_type": "code",
   "execution_count": null,
   "id": "20078687",
   "metadata": {},
   "outputs": [],
   "source": [
    "data = Distance_F_total\n",
    "fig, ax = plt.subplots()\n",
    "ax.boxplot(data, showfliers=False, notch=False)\n",
    "ax.set_xticklabels(['RTS + Tilt', 'RTS + \\nAtmospheric', 'RTS + \\nExtrinsic calib', 'RTS + time error', 'RTS + All'])\n",
    "#ax.set_xticklabels(['RTS + \\nExtrinsic calib', 'RTS + All'])\n",
    "plt.show()"
   ]
  },
  {
   "cell_type": "code",
   "execution_count": null,
   "id": "09dc747a",
   "metadata": {},
   "outputs": [],
   "source": [
    "theodo_g = importlib.reload(theodo_g)\n",
    "\n",
    "## Sort results according to the range of measurements\n",
    "Distance_F_total_sorted = []\n",
    "for i,j in zip(Distance_F_total, Parameter_RTS_total):\n",
    "    Dist_0_25 = []\n",
    "    Dist_25_75 = []\n",
    "    Dist_75_125 = []\n",
    "    Dist_125_200 = []\n",
    "    Dist_200 = []\n",
    "    for k,l in zip(i,j):\n",
    "        if 0 <= l < 25:                 # Between 0 and 25m\n",
    "            Dist_0_25.append(k*1000)\n",
    "        if 25 <= l < 75:                # Between 25 and 75m\n",
    "            Dist_25_75.append(k*1000)\n",
    "        if 75 <= l < 125:               # Between 75 and 125m\n",
    "            Dist_75_125.append(k*1000)\n",
    "        if 125 <= l < 200:              # Between 125 and 200m\n",
    "            Dist_125_200.append(k*1000)\n",
    "        if 200 <= l:                    # Between 200 and more\n",
    "            Dist_200.append(k*1000)\n",
    "    Distance_F_total_sorted.append([Dist_0_25, Dist_25_75, Dist_75_125, Dist_125_200, Dist_200])"
   ]
  },
  {
   "cell_type": "code",
   "execution_count": null,
   "id": "e2bcee80",
   "metadata": {},
   "outputs": [],
   "source": [
    "data = []\n",
    "for i in Distance_F_total_sorted:\n",
    "    for j in i:\n",
    "        data.append(j)\n",
    "max_value = np.max(data[-1])\n",
    "\n",
    "fig, ax = plt.subplots()\n",
    "box = ax.boxplot(data, showfliers=False, notch=False, patch_artist=True)\n",
    "\n",
    "plt.xticks(ticks=[3, 8, 13, 18, 23], labels=['RTS + Tilt', 'RTS + \\nAtmospheric', 'RTS + \\nExtrinsic calib', 'RTS + \\nTime synch', 'RTS + All'])\n",
    "\n",
    "colors = ['cyan', 'lightblue', 'lightgreen', 'tan', 'pink',\n",
    "          'cyan', 'lightblue', 'lightgreen', 'tan', 'pink',\n",
    "          'cyan', 'lightblue', 'lightgreen', 'tan', 'pink',\n",
    "          'cyan', 'lightblue', 'lightgreen', 'tan', 'pink',\n",
    "          'cyan', 'lightblue', 'lightgreen', 'tan', 'pink']\n",
    "for patch, color in zip(box['boxes'], colors):\n",
    "    patch.set_facecolor(color)\n",
    "\n",
    "plt.axvline(x=5.5, linestyle='dashed', color=\"black\")\n",
    "plt.axvline(x=10.5, linestyle='dashed', color=\"black\")\n",
    "plt.axvline(x=15.5, linestyle='dashed', color=\"black\")\n",
    "plt.axvline(x=20.5, linestyle='dashed', color=\"black\")\n",
    "\n",
    "ax.set_xlabel(\"\\nCorrection used as comparison\")\n",
    "ax.set_ylabel(\"Square Frobenius norm [mm]\")\n",
    "#ax.set_yscale('log')\n",
    "ax.legend(handles=[box[\"boxes\"][0], box[\"boxes\"][1], box[\"boxes\"][2], box[\"boxes\"][3], box[\"boxes\"][4]],\n",
    "          labels =['0 to 25m', '25 to 75m', '75 to 125m', '125 to 200m', 'More than 200m'],\n",
    "          loc='upper center', bbox_to_anchor=(0.5, 1.18), ncol=3)\n",
    "plt.tight_layout()\n",
    "#plt.savefig(\"../figs/uncertainty/Frobenius_norm.png\", bbox_inches=\"tight\")\n",
    "plt.show()"
   ]
  },
  {
   "cell_type": "code",
   "execution_count": null,
   "id": "547366cc",
   "metadata": {},
   "outputs": [],
   "source": [
    "distance_and_frobenius_array = np.array([list(zip(Distance_F_total[4], Parameter_RTS_total[0]))]).T\n",
    "plt.plot(Parameter_RTS_total[0], Distance_F_total[1])\n",
    "plt.show"
   ]
  },
  {
   "cell_type": "code",
   "execution_count": null,
   "id": "db9f635a",
   "metadata": {},
   "outputs": [],
   "source": []
  }
 ],
 "metadata": {
  "kernelspec": {
   "display_name": "codeMaxVenv",
   "language": "python",
   "name": "codemaxvenv"
  },
  "language_info": {
   "codemirror_mode": {
    "name": "ipython",
    "version": 3
   },
   "file_extension": ".py",
   "mimetype": "text/x-python",
   "name": "python",
   "nbconvert_exporter": "python",
   "pygments_lexer": "ipython3",
   "version": "3.10.6"
  }
 },
 "nbformat": 4,
 "nbformat_minor": 5
}
