{
 "cells": [
  {
   "cell_type": "code",
   "execution_count": 1,
   "metadata": {
    "ExecuteTime": {
     "end_time": "2023-08-01T02:01:19.112557797Z",
     "start_time": "2023-08-01T02:01:13.901947554Z"
    }
   },
   "outputs": [],
   "source": [
    "## Import dependencies\n",
    "import sys\n",
    "sys.path.append(\"../\")\n",
    "import numpy as np\n",
    "import matplotlib.pyplot as plt\n",
    "import scripts.theodolite_utils as theodo_u\n",
    "import scripts.theodolite_plot_function as theodo_p\n",
    "import scripts.groundtruth_utils as theodo_g\n",
    "import random\n",
    "import pandas as pd\n",
    "from numpy import linalg\n",
    "import importlib\n",
    "theodo_u = importlib.reload(theodo_u)\n",
    "theodo_p = importlib.reload(theodo_p)"
   ]
  },
  {
   "cell_type": "code",
   "execution_count": 2,
   "metadata": {
    "ExecuteTime": {
     "end_time": "2023-08-01T02:01:28.658334233Z",
     "start_time": "2023-08-01T02:01:19.116637083Z"
    }
   },
   "outputs": [],
   "source": [
    "## Import files\n",
    "theodo_u = importlib.reload(theodo_u)\n",
    "\n",
    "file_0 = \"/home/maxime/model_MC_0_0_0_0_0.csv\"\n",
    "file_1 = \"/home/maxime/model_MC_1_0_0_0_0.csv\"\n",
    "file_2 = \"/home/maxime/model_MC_0_1_0_0_0.csv\"\n",
    "file_3 = \"/home/maxime/model_MC_0_0_1_0_0.csv\"\n",
    "file_4 = \"/home/maxime/model_MC_0_0_0_1_0.csv\"\n",
    "file_5 = \"/home/maxime/model_MC_1_1_1_1_0.csv\"\n",
    "\n",
    "Data_0 = theodo_u.read_point_uncertainty_with_raw_data_csv_file_pandas(file_0)\n",
    "Data_1 = theodo_u.read_point_uncertainty_with_raw_data_csv_file_pandas(file_1)\n",
    "Data_2 = theodo_u.read_point_uncertainty_with_raw_data_csv_file_pandas(file_2)\n",
    "Data_3 = theodo_u.read_point_uncertainty_with_raw_data_csv_file_pandas(file_3)\n",
    "Data_4 = theodo_u.read_point_uncertainty_with_raw_data_csv_file_pandas(file_4)\n",
    "Data_5 = theodo_u.read_point_uncertainty_with_raw_data_csv_file_pandas(file_5)\n"
   ]
  },
  {
   "cell_type": "code",
   "execution_count": 3,
   "metadata": {
    "ExecuteTime": {
     "end_time": "2023-08-01T02:01:30.635113638Z",
     "start_time": "2023-08-01T02:01:28.661066371Z"
    }
   },
   "outputs": [],
   "source": [
    "## Creating Data Frames\n",
    "theodo_u = importlib.reload(theodo_u)\n",
    "\n",
    "Data_total = [Data_0,Data_1,Data_2,Data_3,Data_4,Data_5]\n",
    "\n",
    "df_0 = pd.DataFrame(data=Data_0,columns=['Time_stamp','X','Y','Z','C1','C2','C3','C4','C5','C6','C7','C8','C9','distance','azimuth','elevation'])\n",
    "df_1 = pd.DataFrame(data=Data_1,columns=['Time_stamp','X','Y','Z','C1','C2','C3','C4','C5','C6','C7','C8','C9','distance','azimuth','elevation'])\n",
    "df_2 = pd.DataFrame(data=Data_2,columns=['Time_stamp','X','Y','Z','C1','C2','C3','C4','C5','C6','C7','C8','C9','distance','azimuth','elevation'])\n",
    "df_3 = pd.DataFrame(data=Data_3,columns=['Time_stamp','X','Y','Z','C1','C2','C3','C4','C5','C6','C7','C8','C9','distance','azimuth','elevation'])\n",
    "df_4 = pd.DataFrame(data=Data_4,columns=['Time_stamp','X','Y','Z','C1','C2','C3','C4','C5','C6','C7','C8','C9','distance','azimuth','elevation'])\n",
    "df_5 = pd.DataFrame(data=Data_5,columns=['Time_stamp','X','Y','Z','C1','C2','C3','C4','C5','C6','C7','C8','C9','distance','azimuth','elevation'])"
   ]
  },
  {
   "cell_type": "code",
   "execution_count": 4,
   "metadata": {
    "ExecuteTime": {
     "end_time": "2023-08-01T02:01:30.641234170Z",
     "start_time": "2023-08-01T02:01:30.637425649Z"
    }
   },
   "outputs": [],
   "source": [
    "## Frobenius norm for all data according to the model chosen and the range linked\n",
    "def add_Frobenius(df):\n",
    "    Distance_F = []\n",
    "    for i,item in df.iterrows() :\n",
    "        C = np.array(#Compute covariance matrix   \n",
    "                [\n",
    "                    [float(item['C1']), float(item['C2']), float(item['C3'])],\n",
    "                    [float(item['C4']), float(item['C5']), float(item['C4'])],\n",
    "                    [float(item['C7']), float(item['C8']), float(item['C9'])],\n",
    "                ])\n",
    "        Distance_F.append(np.sqrt(1000000*(theodo_u.Frobenius_norm(C, np.zeros((3,3))))))\n",
    "\n",
    "    df['Frobenius_norm'] = Distance_F\n",
    "    return df\n"
   ]
  },
  {
   "cell_type": "code",
   "execution_count": 5,
   "metadata": {
    "ExecuteTime": {
     "end_time": "2023-08-01T02:03:05.928593412Z",
     "start_time": "2023-08-01T02:01:30.642026326Z"
    }
   },
   "outputs": [],
   "source": [
    "## Adding Frobenius norm to Data Frames\n",
    "df_0=add_Frobenius(df_0)\n",
    "df_1=add_Frobenius(df_1)\n",
    "df_2=add_Frobenius(df_2)\n",
    "df_3=add_Frobenius(df_3)\n",
    "df_4=add_Frobenius(df_4)\n",
    "df_5=add_Frobenius(df_5)"
   ]
  },
  {
   "cell_type": "code",
   "execution_count": 6,
   "outputs": [],
   "source": [
    "def add_stddev(df):\n",
    "    std_dev = []\n",
    "    for i,item in df.iterrows() :\n",
    "        std_dev.append(np.sqrt(item['Frobenius_norm']))\n",
    "\n",
    "    df['std_dev'] = std_dev\n",
    "    return df"
   ],
   "metadata": {
    "collapsed": false,
    "ExecuteTime": {
     "end_time": "2023-08-01T02:03:05.970639673Z",
     "start_time": "2023-08-01T02:03:05.970059600Z"
    }
   }
  },
  {
   "cell_type": "code",
   "execution_count": 7,
   "outputs": [],
   "source": [
    "df_0=add_stddev(df_0)\n",
    "df_1=add_stddev(df_1)\n",
    "df_2=add_stddev(df_2)\n",
    "df_3=add_stddev(df_3)\n",
    "df_4=add_stddev(df_4)\n",
    "df_5=add_stddev(df_5)"
   ],
   "metadata": {
    "collapsed": false,
    "ExecuteTime": {
     "end_time": "2023-08-01T02:03:55.779465792Z",
     "start_time": "2023-08-01T02:03:05.970543971Z"
    }
   }
  },
  {
   "cell_type": "code",
   "execution_count": 8,
   "metadata": {
    "ExecuteTime": {
     "end_time": "2023-08-01T02:03:55.822818329Z",
     "start_time": "2023-08-01T02:03:55.822175345Z"
    }
   },
   "outputs": [],
   "source": [
    "## Sort distances\n",
    "def sort_distance(df):\n",
    "    # df.loc[df['distance'].between(0,25,'left'),'0 to 25 m'] = '0 to 25 m'\n",
    "    # df.loc[df['distance'].between(25,75,'left'),'dist'] = '25 to 75 m'\n",
    "    # df.loc[df['distance'].between(75,125,'left'),'dist'] = '75 to 125 m'\n",
    "    # df.loc[df['distance'].between(125,200,'left'),'dist'] = '125 to 200 m'\n",
    "    # df.loc[df['distance'].between(200,500,'left'),'dist'] = 'more than 200 m'\n",
    "    df.loc[df['distance'].between(0,75,'left'),'0 to 75 m'] = df['Frobenius_norm']\n",
    "    df.loc[df['distance'].between(75,150,'left'),'75 to 150 m'] = df['Frobenius_norm']\n",
    "    df.loc[df['distance'].between(150,1000,'left'),'more than 150 m'] = df['Frobenius_norm']\n",
    "#     df.loc[df['distance'].between(125,200,'left'),'125 to 200 m'] = df['Frobenius_norm']\n",
    "#     df.loc[df['distance'].between(200,500,'left'),'more than 200 m'] = df['Frobenius_norm']\n",
    "    return df"
   ]
  },
  {
   "cell_type": "code",
   "execution_count": 9,
   "metadata": {
    "ExecuteTime": {
     "end_time": "2023-08-01T02:03:55.868606627Z",
     "start_time": "2023-08-01T02:03:55.822693052Z"
    }
   },
   "outputs": [],
   "source": [
    "## Sort distances to Data Frames\n",
    "df_0=sort_distance(df_0)\n",
    "df_1=sort_distance(df_1)\n",
    "df_2=sort_distance(df_2)\n",
    "df_3=sort_distance(df_3)\n",
    "df_4=sort_distance(df_4)\n",
    "df_5=sort_distance(df_5)"
   ]
  },
  {
   "cell_type": "code",
   "execution_count": 10,
   "metadata": {
    "ExecuteTime": {
     "end_time": "2023-08-01T02:03:55.874948658Z",
     "start_time": "2023-08-01T02:03:55.872470407Z"
    }
   },
   "outputs": [],
   "source": [
    "def pandas_to_list(df):\n",
    "    df_0_to_25 = []\n",
    "    df_25_to_75 = []\n",
    "    df_75_to_125 = []\n",
    "    df_125_to_200 = []\n",
    "    df_more_200 = []\n",
    "\n",
    "    df_0_to_75 = df['0 to 75 m'].tolist()\n",
    "    df_75_to_150 = df['75 to 150 m'].tolist()\n",
    "#     df_75_to_125 = df['75 to 125 m'].tolist()\n",
    "#     df_125_to_200 = df['125 to 200 m'].tolist()\n",
    "    df_more_150 = df['more than 150 m'].tolist()\n",
    "    df_frobenius_norm = df['Frobenius_norm'].tolist()\n",
    "\n",
    "    D_1 = []\n",
    "    for i in df_0_to_75:\n",
    "        if np.isnan(i)!=True:\n",
    "            D_1.append(float(i))\n",
    "    D_2 = []\n",
    "    for i in df_75_to_150:\n",
    "        if np.isnan(i)!=True:\n",
    "            D_2.append(float(i))\n",
    "    D_3 = []\n",
    "    for i in df_more_150:\n",
    "        if np.isnan(i)!=True:\n",
    "            D_3.append(float(i))\n",
    "#     D_4 = []\n",
    "#     for i in df_125_to_200:\n",
    "#         if np.isnan(i)!=True:\n",
    "#             D_4.append(float(i))\n",
    "#     D_5 = []\n",
    "#     for i in df_more_200:\n",
    "#         if np.isnan(i)!=True:\n",
    "#             D_5.append(float(i))\n",
    "    return D_1,D_2,D_3,df_frobenius_norm,0 # ,D_4,D_5"
   ]
  },
  {
   "cell_type": "code",
   "execution_count": 11,
   "metadata": {
    "ExecuteTime": {
     "end_time": "2023-08-01T02:04:01.201773093Z",
     "start_time": "2023-08-01T02:03:55.876282824Z"
    }
   },
   "outputs": [],
   "source": [
    "df_0_D_1, df_0_D_2, df_0_D_3, df_0_D_4, df_0_D_5 = pandas_to_list(df_0)\n",
    "df_1_D_1, df_1_D_2, df_1_D_3, df_1_D_4, df_1_D_5 = pandas_to_list(df_1)\n",
    "df_2_D_1, df_2_D_2, df_2_D_3, df_2_D_4, df_2_D_5 = pandas_to_list(df_2)\n",
    "df_3_D_1, df_3_D_2, df_3_D_3, df_3_D_4, df_3_D_5 = pandas_to_list(df_3)\n",
    "df_4_D_1, df_4_D_2, df_4_D_3, df_4_D_4, df_4_D_5 = pandas_to_list(df_4)\n",
    "df_5_D_1, df_5_D_2, df_5_D_3, df_5_D_4, df_5_D_5 = pandas_to_list(df_5)"
   ]
  },
  {
   "cell_type": "code",
   "execution_count": 12,
   "outputs": [
    {
     "name": "stdout",
     "output_type": "stream",
     "text": [
      "0.040254031540776614 0.12157621832193372 0.2634666350070438 0.06453079134689152\n"
     ]
    }
   ],
   "source": [
    "print(np.mean(df_1_D_1),np.mean(df_1_D_2),np.mean(df_1_D_3),np.mean(df_1_D_4))"
   ],
   "metadata": {
    "collapsed": false,
    "ExecuteTime": {
     "end_time": "2023-08-01T02:04:01.226914413Z",
     "start_time": "2023-08-01T02:04:01.223351047Z"
    }
   }
  },
  {
   "cell_type": "code",
   "execution_count": 20,
   "metadata": {
    "ExecuteTime": {
     "end_time": "2023-08-01T02:09:20.941812835Z",
     "start_time": "2023-08-01T02:09:20.337766192Z"
    }
   },
   "outputs": [
    {
     "data": {
      "text/plain": "<Figure size 348.7x215.513 with 1 Axes>",
      "image/png": "[encoded data removed]"
     },
     "metadata": {},
     "output_type": "display_data"
    }
   ],
   "source": [
    "data = [df_0_D_1, df_0_D_2, df_0_D_3, df_0_D_4,\n",
    "        df_1_D_1, df_1_D_2, df_1_D_3, df_1_D_4,\n",
    "        df_2_D_1, df_2_D_2, df_2_D_3, df_2_D_4,\n",
    "        df_3_D_1, df_3_D_2, df_3_D_3, df_3_D_4,\n",
    "        df_4_D_1, df_4_D_2, df_4_D_3, df_4_D_4,\n",
    "        df_5_D_1, df_5_D_2, df_5_D_3, df_5_D_4]\n",
    "\n",
    "plt.rc('font', family='serif', serif='Times')\n",
    "plt.rc('text', usetex=True)\n",
    "plt.rc('xtick', labelsize=20)\n",
    "plt.rc('ytick', labelsize=10)\n",
    "plt.rc('axes', labelsize=10)\n",
    "font_size = 10\n",
    "\n",
    "width = 3.487\n",
    "height = width/1.618\n",
    "\n",
    "fig, ax = plt.subplots()\n",
    "box = ax.boxplot(data, showfliers=False, notch=False, patch_artist=True)\n",
    "\n",
    "plt.xticks(ticks=[2.5, 6.5, 10.5, 14.5, 18.5, 22.5], labels=['Instrument', 'Tilt', 'Atmospheric', '\\\\ Extrinsic\\ncalibration', 'Time sync.', 'All sources'], fontsize=font_size, ha='center', ma='center', rotation=35)\n",
    "\n",
    "colors = ['paleturquoise', 'deepskyblue', 'royalblue', 'tomato',#, 'pink',\n",
    "          'paleturquoise', 'deepskyblue', 'royalblue', 'tomato',#, 'pink',\n",
    "          'paleturquoise', 'deepskyblue', 'royalblue', 'tomato',#, 'pink',\n",
    "          'paleturquoise', 'deepskyblue', 'royalblue', 'tomato',#, 'pink',\n",
    "          'paleturquoise', 'deepskyblue', 'royalblue', 'tomato',#, 'pink',\n",
    "          'paleturquoise', 'deepskyblue', 'royalblue', 'tomato']#, 'pink']\n",
    "for patch, color in zip(box['boxes'], colors):\n",
    "    patch.set_facecolor(color)\n",
    "\n",
    "for median in box['medians']:\n",
    "    median.set_color('black')\n",
    "    \n",
    "# plt.axvline(x=4.5, linestyle='dashed', color=\"dimgray\")\n",
    "# plt.axvline(x=8.5, linestyle='dashed', color=\"dimgray\")\n",
    "# plt.axvline(x=12.5, linestyle='dashed', color=\"dimgray\")\n",
    "# plt.axvline(x=16.5, linestyle='dashed', color=\"dimgray\")\n",
    "# plt.axvline(x=20.5, linestyle='dashed', color=\"dimgray\")\n",
    "\n",
    "ax.axvspan(0.5, 4.5, alpha = 0.2, color='lightgrey')\n",
    "ax.axvspan(4.5, 8.5, alpha = 0.3, color='darkgrey')\n",
    "ax.axvspan(8.5, 12.5, alpha = 0.2, color='lightgrey')\n",
    "ax.axvspan(12.5, 16.5, alpha = 0.3, color='darkgrey')\n",
    "ax.axvspan(16.5, 20.5, alpha = 0.2, color='lightgrey')\n",
    "ax.axvspan(20.5, 24.5, alpha = 0.3, color='darkgrey')\n",
    "ax.set_ylabel(\"Frobenius norm square root [mm]\", fontsize=font_size)\n",
    "#ax.set_yscale('log')\n",
    "#ax.set_yticklabels([])\n",
    "ax.set_ylim(bottom=-1, top=10)\n",
    "ax.legend(handles=[box[\"boxes\"][0], box[\"boxes\"][1], box[\"boxes\"][2], box[\"boxes\"][3]], #, box[\"boxes\"][4]],\n",
    "          handletextpad=0.3,\n",
    "          handlelength=1.0,\n",
    "          columnspacing=0.8,\n",
    "          labels =['0-75m', '75-150m', 'More than 150m', 'Complete range'], #, '125 to 200m', 'More than 200m'],\n",
    "          loc='lower center', bbox_to_anchor=(0.5, 0.99), ncol=4, fontsize=font_size-1)\n",
    "plt.tight_layout()\n",
    "fig.subplots_adjust(left=.01, bottom=.01, right=.99, top=.99)\n",
    "fig.set_size_inches(width, height)\n",
    "plt.savefig(\"../figs/uncertainty/fig1_will_multiple_boxplot.pdf\", bbox_inches=\"tight\")\n",
    "plt.show()"
   ]
  },
  {
   "cell_type": "code",
   "execution_count": null,
   "metadata": {},
   "outputs": [],
   "source": []
  }
 ],
 "metadata": {
  "kernelspec": {
   "display_name": "Python 3 (ipykernel)",
   "language": "python",
   "name": "python3"
  },
  "language_info": {
   "codemirror_mode": {
    "name": "ipython",
    "version": 3
   },
   "file_extension": ".py",
   "mimetype": "text/x-python",
   "name": "python",
   "nbconvert_exporter": "python",
   "pygments_lexer": "ipython3",
   "version": "3.8.16"
  },
  "vscode": {
   "interpreter": {
    "hash": "0b3e9d22013c5a5f94e5f7a413c146a873d8f837ccd30ed0cd410d30c64ef097"
   }
  }
 },
 "nbformat": 4,
 "nbformat_minor": 2
}
