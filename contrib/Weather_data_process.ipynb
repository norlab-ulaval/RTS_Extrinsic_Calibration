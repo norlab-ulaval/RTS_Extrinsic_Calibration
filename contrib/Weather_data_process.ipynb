{
 "cells": [
  {
   "cell_type": "code",
   "execution_count": 96,
   "metadata": {
    "collapsed": true
   },
   "outputs": [],
   "source": [
    "import sys\n",
    "sys.path.append(\"../\")\n",
    "import numpy as np\n",
    "import matplotlib.pyplot as plt\n",
    "import scripts.theodolite_utils as theodo_u\n",
    "import importlib\n",
    "import time\n",
    "import pandas as pd\n",
    "theodo_u = importlib.reload(theodo_u)\n",
    "weather_data_path = \"../data/weather_2022/Quebec/\""
   ]
  },
  {
   "cell_type": "code",
   "execution_count": 121,
   "outputs": [
    {
     "name": "stdout",
     "output_type": "stream",
     "text": [
      "Conversion done !\n"
     ]
    }
   ],
   "source": [
    "theodo_u = importlib.reload(theodo_u)\n",
    "file = [\"7016293_02-2022_P1H.csv\",\"7016293_03-2022_P1H.csv\",\"7016293_04-2022_P1H.csv\",\"7016293_05-2022_P1H.csv\",\n",
    "        \"7016293_06-2022_P1H.csv\",\"7016293_07-2022_P1H.csv\",\"7016293_11-2022_P1H.csv\",\"7016293_12-2022_P1H.csv\"]\n",
    "\n",
    "data_sorted = []\n",
    "for name_file in file:\n",
    "    file_path = weather_data_path+name_file\n",
    "    rows = pd.read_csv(file_path, chunksize=5000000)\n",
    "    for i, chuck in enumerate(rows):\n",
    "        chuck.to_csv(weather_data_path+'out{}.csv'.format(i))\n",
    "    for i in chuck.values:\n",
    "        if str(i[9])!=\"nan\" and str(i[13])!=\"nan\" and str(i[23])!=\"nan\":\n",
    "            timestamp = time.mktime(time.strptime(str(i[4]), \"%Y-%m-%d %H:%M\")) + 5*3600  # Time zone in data are HNL (Haiwai)\n",
    "            temperature = theodo_u.str_to_float_value(i[9])\n",
    "            humidity = float(str(i[13]))\n",
    "            pressure = theodo_u.str_to_float_value(i[23])*10\n",
    "            weather = str(i[29])\n",
    "            data_sorted.append([timestamp,temperature,humidity,pressure,weather])\n",
    "theodo_u.save_weather_data(data_sorted, weather_data_path+\"data_sorted_2022.txt\")"
   ],
   "metadata": {
    "collapsed": false
   }
  },
  {
   "cell_type": "code",
   "execution_count": 176,
   "outputs": [
    {
     "name": "stderr",
     "output_type": "stream",
     "text": [
      "/tmp/ipykernel_114418/3301274363.py:5: DeprecationWarning: `np.float` is a deprecated alias for the builtin `float`. To silence this warning, use `float` by itself. Doing this will not modify any behavior and is safe. If you specifically wanted the numpy scalar type, use `np.float64` here.\n",
      "Deprecated in NumPy 1.20; for more details and guidance: https://numpy.org/devdocs/release/1.20.0-notes.html#deprecations\n",
      "  time_weather = data_weather[:,0].astype(np.float)\n"
     ]
    }
   ],
   "source": [
    "theodo_u = importlib.reload(theodo_u)\n",
    "Timestamp_to_find = 1647486500\n",
    "data_weather = theodo_u.read_weather_data(weather_data_path+\"data_sorted_2022.txt\")\n",
    "data_weather = np.array(data_weather)\n",
    "time_weather = data_weather[:,0].astype(np.float64)\n",
    "index, _ = theodo_u.findClosest(time_weather, Timestamp_to_find)\n",
    "temperature, humidity, pressure = theodo_u.interpolation_weather_data(Timestamp_to_find, data_weather, index)"
   ],
   "metadata": {
    "collapsed": false
   }
  },
  {
   "cell_type": "code",
   "execution_count": null,
   "outputs": [],
   "source": [],
   "metadata": {
    "collapsed": false
   }
  }
 ],
 "metadata": {
  "kernelspec": {
   "display_name": "Python 3",
   "language": "python",
   "name": "python3"
  },
  "language_info": {
   "codemirror_mode": {
    "name": "ipython",
    "version": 2
   },
   "file_extension": ".py",
   "mimetype": "text/x-python",
   "name": "python",
   "nbconvert_exporter": "python",
   "pygments_lexer": "ipython2",
   "version": "2.7.6"
  }
 },
 "nbformat": 4,
 "nbformat_minor": 0
}
