{
 "cells": [
  {
   "cell_type": "code",
   "execution_count": 10,
   "metadata": {
    "collapsed": true
   },
   "outputs": [],
   "source": [
    "import sys\n",
    "sys.path.append(\"../\")\n",
    "import numpy as np\n",
    "import matplotlib.pyplot as plt\n",
    "import scripts.theodolite_utils as theodo_u\n",
    "import importlib\n",
    "import time\n",
    "import pandas as pd\n",
    "theodo_u = importlib.reload(theodo_u)\n",
    "weather_data_path = \"../data/weather_2022/Quebec/\""
   ]
  },
  {
   "cell_type": "code",
   "execution_count": 11,
   "metadata": {
    "collapsed": false
   },
   "outputs": [
    {
     "name": "stdout",
     "output_type": "stream",
     "text": [
      "Conversion done !\n"
     ]
    }
   ],
   "source": [
    "theodo_u = importlib.reload(theodo_u)\n",
    "file = [\"7016293_02-2022_P1H.csv\",\"7016293_03-2022_P1H.csv\",\"7016293_04-2022_P1H.csv\",\"7016293_05-2022_P1H.csv\",\n",
    "        \"7016293_06-2022_P1H.csv\",\"7016293_07-2022_P1H.csv\",\"7016293_11-2022_P1H.csv\",\"7016293_12-2022_P1H.csv\"]\n",
    "\n",
    "data_sorted = []\n",
    "for name_file in file:\n",
    "    file_path = weather_data_path+name_file\n",
    "    rows = pd.read_csv(file_path, chunksize=5000000)\n",
    "    for i, chuck in enumerate(rows):\n",
    "        chuck.to_csv(weather_data_path+'out{}.csv'.format(i))\n",
    "    weather_condition = 'ND'\n",
    "    for i in chuck.values:\n",
    "        if str(i[9])!=\"nan\" and str(i[13])!=\"nan\" and str(i[23])!=\"nan\":\n",
    "            timestamp = time.mktime(time.strptime(str(i[4]), \"%Y-%m-%d %H:%M\")) + 5*3600  # Time zone in data are HNL (Haiwai)\n",
    "            temperature = theodo_u.str_to_float_value(i[9])\n",
    "            humidity = float(str(i[13]))\n",
    "            pressure = theodo_u.str_to_float_value(i[23])*10\n",
    "            if str(i[29]) != 'ND' :\n",
    "                weather = str(i[29])\n",
    "                weather_condition = str(i[29])\n",
    "            else:\n",
    "                weather = weather_condition\n",
    "            data_sorted.append([timestamp,temperature,humidity,pressure,weather])\n",
    "theodo_u.save_weather_data(data_sorted, weather_data_path+\"data_sorted_2022.txt\")"
   ]
  },
  {
   "cell_type": "code",
   "execution_count": 12,
   "metadata": {
    "collapsed": false
   },
   "outputs": [],
   "source": [
    "theodo_u = importlib.reload(theodo_u)\n",
    "Timestamp_to_find = 1647486500\n",
    "data_weather = theodo_u.read_weather_data(weather_data_path+\"data_sorted_2022.txt\")\n",
    "data_weather = np.array(data_weather)\n",
    "time_weather = data_weather[:,0].astype(np.float64)\n",
    "index, _ = theodo_u.findClosest(time_weather, Timestamp_to_find)\n",
    "temperature, humidity, pressure, weather = theodo_u.interpolation_weather_data(Timestamp_to_find, data_weather, index)"
   ]
  },
  {
   "cell_type": "code",
   "execution_count": null,
   "metadata": {
    "collapsed": false
   },
   "outputs": [],
   "source": []
  }
 ],
 "metadata": {
  "kernelspec": {
   "display_name": "venv",
   "language": "python",
   "name": "python3"
  },
  "language_info": {
   "codemirror_mode": {
    "name": "ipython",
    "version": 3
   },
   "file_extension": ".py",
   "mimetype": "text/x-python",
   "name": "python",
   "nbconvert_exporter": "python",
   "pygments_lexer": "ipython3",
   "version": "3.10.6"
  },
  "vscode": {
   "interpreter": {
    "hash": "0b3e9d22013c5a5f94e5f7a413c146a873d8f837ccd30ed0cd410d30c64ef097"
   }
  }
 },
 "nbformat": 4,
 "nbformat_minor": 0
}
