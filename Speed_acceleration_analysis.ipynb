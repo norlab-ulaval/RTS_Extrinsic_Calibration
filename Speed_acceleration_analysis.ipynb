{
 "cells": [
  {
   "cell_type": "code",
   "execution_count": 1,
   "id": "b16d5b84",
   "metadata": {},
   "outputs": [
    {
     "name": "stderr",
     "output_type": "stream",
     "text": [
      "Failed to load Python extension for LZ4 support. LZ4 compression will not be available.\n"
     ]
    }
   ],
   "source": [
    "import sys\n",
    "#!{sys.executable} -m pip install sklearn\n",
    "import numpy as np\n",
    "import math\n",
    "from matplotlib import pyplot as plt\n",
    "import matplotlib\n",
    "import random\n",
    "import os\n",
    "from matplotlib import animation\n",
    "from mpl_toolkits.mplot3d.art3d import Poly3DCollection\n",
    "from scipy import spatial\n",
    "from IPython.display import HTML\n",
    "from sklearn.gaussian_process import GaussianProcessRegressor\n",
    "from sklearn.gaussian_process.kernels import (RBF, Matern, RationalQuadratic, ExpSineSquared, DotProduct, ConstantKernel)\n",
    "\n",
    "import importlib\n",
    "import scripts.theodolite_function as tfu\n",
    "import scripts.theodolite_utils as tfuu\n",
    "tfu = importlib.reload(tfu)\n",
    "from scipy.interpolate import splprep, splev\n",
    "from scipy import interpolate\n",
    "import seaborn as sns\n",
    "from matplotlib.colors import BoundaryNorm\n",
    "from matplotlib.ticker import MaxNLocator\n",
    "from scipy.spatial.transform import Rotation as R\n",
    "import scripts.gp_prediction_utils as GPf\n",
    "GPf = importlib.reload(GPf)\n",
    "import GPy"
   ]
  },
  {
   "cell_type": "code",
   "execution_count": 2,
   "id": "040ee137",
   "metadata": {},
   "outputs": [
    {
     "name": "stdout",
     "output_type": "stream",
     "text": [
      "[0.8882613537922258, 0.8262903370535766, 1.0377436460567973, 0.7809786915630756, 0.8378323585433202, 0.5191788936274444]\n"
     ]
    }
   ],
   "source": [
    "# Switch values if necessary 1 11 2021\n",
    "#Dist_prism_12 = 1.0398341231585624*1000\n",
    "#Dist_prism_13 = 0.818424700118086*1000\n",
    "#Dist_prism_23 = 0.8806156053859284*1000\n",
    "#Dist_GPS_12 = 0.835637436093363*1000\n",
    "#Dist_GPS_13 = 0.7812173648662254*1000\n",
    "#Dist_GPS_23 = 0.5166745729506486*1000\n",
    "\n",
    "# 26 11 2021\n",
    "#Dist_prism_12 = 1.03688797895733\n",
    "#Dist_prism_13 = 0.822536135483593\n",
    "#Dist_prism_23 = 0.8783765747673403\n",
    "#Dist_GPS_12 = 0.7828618536473139\n",
    "#Dist_GPS_13 = 0.8394208131018045\n",
    "#Dist_GPS_23 = 0.5176447366930409\n",
    "\n",
    "# 31 01 2022\n",
    "#Dist_prism_12 = 1.038854051807371\n",
    "#Dist_prism_13 = 0.8202157646292075\n",
    "#Dist_prism_23 = 0.879788333022114\n",
    "#Dist_GPS_12 = 0.7830826912858335\n",
    "#Dist_GPS_13 = 0.8418404054627937\n",
    "#Dist_GPS_23 = 0.5172558618541933\n",
    "     \n",
    "# 03 02 2022\n",
    "#Dist_prism_12 = 1.0403741344089559\n",
    "#Dist_prism_13 = 0.8239475424257701\n",
    "#Dist_prism_23 = 0.8766711748547112\n",
    "#Dist_GPS_12 = 0.781661929058067\n",
    "#Dist_GPS_13 = 0.8353981332464246\n",
    "#Dist_GPS_23 = 0.5174987476948135\n",
    "\n",
    "# 17 02 2022 / 24 02 2022\n",
    "Dist_prism_12_240222 = 0.8882613537922258\n",
    "Dist_prism_13_240222 = 0.8262903370535766\n",
    "Dist_prism_23_240222 = 1.0377436460567973\n",
    "Dist_GPS_12_240222 = 0.7809786915630756\n",
    "Dist_GPS_13_240222 = 0.8378323585433202\n",
    "Dist_GPS_23_240222 = 0.5191788936274444   \n",
    "\n",
    "# 07 03 2022\n",
    "Dist_prism_12_070322 = 0.8832836583456264\n",
    "Dist_prism_13_070322 = 0.8247449387008166\n",
    "Dist_prism_23_070322 = 1.039409793600046\n",
    "Dist_GPS_12_070322 = 0.7781099344563802\n",
    "Dist_GPS_13_070322 = 0.8431026980109139\n",
    "Dist_GPS_23_070322 = 0.5157221841320069\n",
    "\n",
    "# 12 03 2022\n",
    "Dist_prism_12_120322 = 0.8860734460339026\n",
    "Dist_prism_13_120322 = 0.8303896290142598\n",
    "Dist_prism_23_120322 = 1.0393117663247973\n",
    "Dist_GPS_12_120322 = 0.7829424296161074\n",
    "Dist_GPS_13_120322 = 0.8415176433032493\n",
    "Dist_GPS_23_120322 = 0.5161917038941966\n",
    "\n",
    "# 14 03 2022 / 16 03 2022\n",
    "Dist_prism_12_140322 = 0.8873171656784946\n",
    "Dist_prism_13_140322 = 0.8272212117473343\n",
    "Dist_prism_23_140322 = 1.0379270641796363\n",
    "Dist_GPS_12_140322 = 0.7829081036179948\n",
    "Dist_GPS_13_140322 = 0.8424633975958637\n",
    "Dist_GPS_23_140322 = 0.5165807364575292\n",
    "\n",
    "# 31 03 2022\n",
    "Dist_prism_12_310322 = 0.8873171656784946\n",
    "Dist_prism_13_310322 = 0.8272212117473343\n",
    "Dist_prism_23_310322 = 1.0379270641796363\n",
    "Dist_GPS_12_310322 = 0.7829081036179948\n",
    "Dist_GPS_13_310322 = 0.8424633975958637\n",
    "Dist_GPS_23_310322 = 0.5165807364575292\n",
    "\n",
    "Inter_distance = [[Dist_prism_12_240222,Dist_prism_13_240222,Dist_prism_23_240222,Dist_GPS_12_240222,Dist_GPS_13_240222,Dist_GPS_23_240222],\n",
    "                 [Dist_prism_12_070322,Dist_prism_13_070322,Dist_prism_23_070322,Dist_GPS_12_070322,Dist_GPS_13_070322,Dist_GPS_23_070322],\n",
    "                 [Dist_prism_12_120322,Dist_prism_13_120322,Dist_prism_23_120322,Dist_GPS_12_120322,Dist_GPS_13_120322,Dist_GPS_23_120322],\n",
    "                 [Dist_prism_12_140322,Dist_prism_13_140322,Dist_prism_23_140322,Dist_GPS_12_140322,Dist_GPS_13_140322,Dist_GPS_23_140322],\n",
    "                 [Dist_prism_12_140322,Dist_prism_13_140322,Dist_prism_23_140322,Dist_GPS_12_140322,Dist_GPS_13_140322,Dist_GPS_23_140322],\n",
    "                 [Dist_prism_12_310322,Dist_prism_13_310322,Dist_prism_23_310322,Dist_GPS_12_310322,Dist_GPS_13_310322,Dist_GPS_23_310322],]\n",
    "\n",
    "print(Inter_distance[0])"
   ]
  },
  {
   "cell_type": "code",
   "execution_count": 3,
   "id": "21685263",
   "metadata": {},
   "outputs": [
    {
     "name": "stdout",
     "output_type": "stream",
     "text": [
      "Linear velocity reading\n",
      "Angular velocity reading\n",
      "Finish !\n",
      "33621\n",
      "Linear velocity reading\n",
      "Angular velocity reading\n",
      "Finish !\n",
      "78576\n",
      "Linear velocity reading\n",
      "Angular velocity reading\n",
      "Finish !\n",
      "128112\n",
      "Linear velocity reading\n",
      "Angular velocity reading\n",
      "Finish !\n",
      "177618\n",
      "Linear velocity reading\n",
      "Angular velocity reading\n",
      "Finish !\n",
      "213792\n",
      "Linear velocity reading\n",
      "Angular velocity reading\n",
      "Finish !\n",
      "239427\n"
     ]
    }
   ],
   "source": [
    "# Sort data for 2.5D plot\n",
    "tfu = importlib.reload(tfu)\n",
    "tfuu = importlib.reload(tfuu)\n",
    "linear_speed_list = []\n",
    "angular_speed_list = []\n",
    "accel_list = []\n",
    "mean_error_prisms_list = []\n",
    "\n",
    "list_dataset_GP = [\"./data/prediction/TS/20220224/\", \n",
    "                   \"./data/prediction/TS/20220307/\", \n",
    "                   \"./data/prediction/TS/20220312/\",\n",
    "                   \"./data/prediction/TS/20220314/\", \n",
    "                   \"./data/prediction/TS/20220316/\", \n",
    "                   \"./data/prediction/TS/20220331-1/\",\n",
    "                   \"./data/prediction/TS/20220331-2/\"]\n",
    "\n",
    "list_calib = [\"./data/total_station/20220224/20220224_theodolite_reference_prisms.txt\",\n",
    "              \"./data/total_station/20220307/theodolite_reference_prisms.txt\",\n",
    "              \"./data/total_station/20220312/theodolite_reference_prisms.txt\",\n",
    "              \"./data/total_station/20220314/theodolite_reference_prisms.txt\",\n",
    "              \"./data/total_station/20220316/theodolite_reference_prisms.txt\",\n",
    "              \"./data/total_station/20220331-1/theodolite_reference_prisms.txt\",\n",
    "              \"./data/total_station/20220331-2/theodolite_reference_prisms.txt\"]\n",
    "\n",
    "list_rosbag = [\"/home/norlab/Data/IROS_2022/20220224_TS/2022-02-24-15-34-38.bag\",\n",
    "               \"/home/norlab/Data/IROS_2022/20220307_TS/2022-03-07-19-20-06.bag\",\n",
    "               \"/home/norlab/Data/IROS_2022/20220312_TS/2022-03-12-09-45-12.bag\",\n",
    "               \"/home/norlab/Data/IROS_2022/20220314_TS/2022-03-14-10-47-49.bag\",\n",
    "               \"/home/norlab/Data/IROS_2022/20220316_TS/2022-03-16-19-02-42.bag\",\n",
    "               \"/home/norlab/Data/IROS_2022/20220331_TS/2022-03-31-10-22-52.bag\",\n",
    "               \"/home/norlab/Data/IROS_2022/20220331_TS/2022-03-31-11-20-05.bag\"]\n",
    "\n",
    "speed_l = []\n",
    "angular_l = []\n",
    "accel_l = []\n",
    "error_l = []\n",
    "for path,file_rosbag_theodolite,inter_dist in zip(list_dataset_GP,list_rosbag, Inter_distance):\n",
    "    linear_speed_list, angular_speed_list, accel_list, mean_error_prisms_list = tfu.process_data_TS(path, inter_dist, file_rosbag_theodolite)\n",
    "    speed_l = speed_l + linear_speed_list\n",
    "    angular_l = angular_l + angular_speed_list\n",
    "    accel_l = accel_l + accel_list\n",
    "    error_l = error_l + mean_error_prisms_list\n",
    "    print(len(error_l))"
   ]
  },
  {
   "cell_type": "code",
   "execution_count": 7,
   "id": "59c0f745",
   "metadata": {},
   "outputs": [
    {
     "data": {
      "image/png": "[encoded data removed]",
      "text/plain": [
       "<Figure size 360x180 with 2 Axes>"
      ]
     },
     "metadata": {
      "needs_background": "light"
     },
     "output_type": "display_data"
    }
   ],
   "source": [
    "#print(linear_speed_list)\n",
    "#print(angular_speed_list)\n",
    "#print(mean_error_prisms_list)\n",
    "# make these smaller to increase the resolution\n",
    "tfu = importlib.reload(tfu)\n",
    "dx, dy = 0.1, 0.05\n",
    "save_fig = True\n",
    "#name_file = \"grid_plot_linear_angular_velocities_ski_trail.jpg\"\n",
    "name_file = \"./figs/speed_rotations.pdf\"\n",
    "tfu.plot_grid_speed_angular_result(dx, dy, error_l, speed_l, angular_l, save_fig, name_file, True, 0)\n",
    "#tfu.plot_grid_speed_angular_result(dx, dy, mean_error_prisms_list, accel_list, angular_speed_list, save_fig, name_file, False, 0)"
   ]
  },
  {
   "cell_type": "code",
   "execution_count": 8,
   "id": "36227851",
   "metadata": {},
   "outputs": [
    {
     "data": {
      "image/png": "[encoded data removed]",
      "text/plain": [
       "<Figure size 360x180 with 2 Axes>"
      ]
     },
     "metadata": {
      "needs_background": "light"
     },
     "output_type": "display_data"
    }
   ],
   "source": [
    "name_file = \"./figs/accel_rotations.pdf\"\n",
    "dx, dy = .3, 0.05\n",
    "save_fig = False\n",
    "tfu.plot_grid_speed_angular_result(dx, dy, error_l, accel_l, angular_l, save_fig, name_file, False, 0)"
   ]
  },
  {
   "cell_type": "code",
   "execution_count": null,
   "id": "b4ceec8c",
   "metadata": {},
   "outputs": [],
   "source": []
  },
  {
   "cell_type": "code",
   "execution_count": null,
   "id": "c78c14a0",
   "metadata": {},
   "outputs": [],
   "source": [
    "tfuu = importlib.reload(tfuu)\n",
    "speed, accel = tfu.read_rosbag_imu_node(list_rosbag[0], True)"
   ]
  },
  {
   "cell_type": "code",
   "execution_count": null,
   "id": "332a67ab",
   "metadata": {},
   "outputs": [],
   "source": [
    "tfuu = importlib.reload(tfuu)\n",
    "angular_speed = tfuu.read_rosbag_imu_data(list_rosbag[0], True)\n",
    "print(angular_speed[0])"
   ]
  },
  {
   "cell_type": "code",
   "execution_count": null,
   "id": "0339fe51",
   "metadata": {},
   "outputs": [],
   "source": [
    "path = list_dataset_GP[0]\n",
    "prefix = \"GP-10-20\"\n",
    "P1 = np.array(tfu.read_prediction_data_csv_file(path + prefix + \"_1.csv\"))\n",
    "P2 = np.array(tfu.read_prediction_data_csv_file(path + prefix + \"_2.csv\"))\n",
    "P3 = np.array(tfu.read_prediction_data_csv_file(path + prefix + \"_3.csv\"))\n",
    "\n",
    "dist_prism = []\n",
    "origin = 0\n",
    "for i in range(0, len(P1[:, 0])):\n",
    "    dp1 = abs(np.linalg.norm(P1[i, 1:4] - P2[i, 1:4]) - Inter_distance[0][0])*1000\n",
    "    dp2 = abs(np.linalg.norm(P1[i, 1:4] - P3[i, 1:4]) - Inter_distance[0][1])*1000\n",
    "    dp3 = abs(np.linalg.norm(P3[i, 1:4] - P2[i, 1:4]) - Inter_distance[0][2])*1000\n",
    "    dist_prism.append(np.array([P1[i, 0] - origin, dp1, dp2, dp3]))\n",
    "dist_prism = np.array(dist_prism)"
   ]
  },
  {
   "cell_type": "code",
   "execution_count": null,
   "id": "47afd53b",
   "metadata": {},
   "outputs": [],
   "source": [
    "print(speed[0])\n",
    "print(dist_prism[0])\n",
    "speed_arr = np.array(speed)\n",
    "angular_arr = np.array(angular_speed)\n",
    "dist_prism_arr = np.array(dist_prism)\n"
   ]
  },
  {
   "cell_type": "code",
   "execution_count": null,
   "id": "592e19f0",
   "metadata": {},
   "outputs": [],
   "source": [
    "%matplotlib notebook\n",
    "plt.figure(0)\n",
    "plt.scatter(speed_arr[:,0], speed_arr[:,1], color='b')\n",
    "plt.figure(0)\n",
    "plt.scatter(angular_arr[:,0], angular_arr[:,1], color='g')\n",
    "plt.figure(1)\n",
    "plt.scatter(dist_prism_arr[:,0], dist_prism_arr[:,1], color='r')"
   ]
  },
  {
   "cell_type": "code",
   "execution_count": null,
   "id": "9c418de5",
   "metadata": {},
   "outputs": [],
   "source": []
  }
 ],
 "metadata": {
  "kernelspec": {
   "display_name": "Python 3",
   "language": "python",
   "name": "python3"
  },
  "language_info": {
   "codemirror_mode": {
    "name": "ipython",
    "version": 3
   },
   "file_extension": ".py",
   "mimetype": "text/x-python",
   "name": "python",
   "nbconvert_exporter": "python",
   "pygments_lexer": "ipython3",
   "version": "3.6.9"
  }
 },
 "nbformat": 4,
 "nbformat_minor": 5
}
