{
 "cells": [
  {
   "cell_type": "code",
   "execution_count": 1,
   "id": "1d7891c5",
   "metadata": {},
   "outputs": [
    {
     "name": "stderr",
     "output_type": "stream",
     "text": [
      "Failed to load Python extension for LZ4 support. LZ4 compression will not be available.\n"
     ]
    }
   ],
   "source": [
    "import scipy.linalg\n",
    "import scipy.optimize\n",
    "import sys\n",
    "import numpy as np\n",
    "import importlib\n",
    "import matplotlib.pyplot as plt\n",
    "import scripts.theodolite_function as tfu\n",
    "tfu = importlib.reload(tfu)\n",
    "from scipy.interpolate import splprep, splev\n",
    "from scipy import interpolate\n",
    "import seaborn as sns\n",
    "from matplotlib.colors import BoundaryNorm\n",
    "from matplotlib.ticker import MaxNLocator\n",
    "from scipy.spatial.transform import Rotation as R\n",
    "import scripts.theodolite_utils as ttfu\n",
    "import time\n",
    "from tqdm import tqdm"
   ]
  },
  {
   "cell_type": "code",
   "execution_count": 2,
   "id": "cd5ac7f1",
   "metadata": {},
   "outputs": [],
   "source": [
    "def drop_points_filtering(file_name_path, param):\n",
    "    number_points_input = []\n",
    "    number_points_out_outliers = []\n",
    "    number_points_out_filters_only = []\n",
    "    number_points_out_filters = []\n",
    "    \n",
    "    for i in file_name_path:\n",
    "        print(i)\n",
    "        \n",
    "        t1, t2, t3, tp1, tp2, tp3, d1, d2, d3, a1, a2, a3, e1, e2, e3 = ttfu.read_rosbag_theodolite_without_tf_raw_data_pre_filtered(i)\n",
    "        index_1_f = ttfu.thresold_raw_data(t1, d1, a1, e1, param[0], param[1]*3.1415926/180, param[2]*3.1415926/180, param[3])\n",
    "        index_2_f = ttfu.thresold_raw_data(t2, d2, a2, e2, param[0], param[1]*3.1415926/180, param[2]*3.1415926/180, param[3])\n",
    "        index_3_f = ttfu.thresold_raw_data(t3, d3, a3, e3, param[0], param[1]*3.1415926/180, param[2]*3.1415926/180, param[3])\n",
    "        t1 = t1[index_1_f]\n",
    "        t2 = t2[index_2_f]\n",
    "        t3 = t3[index_3_f]\n",
    "        tp1 = tp1[index_1_f].T\n",
    "        tp2 = tp2[index_2_f].T\n",
    "        tp3 = tp3[index_3_f].T\n",
    "\n",
    "        tr1, tr2, tr3, trp1, trp2, trp3, d1, d2, d3, a1, a2, a3, e1, e2, e3 = ttfu.read_rosbag_theodolite_without_tf_raw_data(i)\n",
    "\n",
    "        sum_input_points = len(tr1)+len(tr2)+len(tr3)\n",
    "        sum_outliers_points = len(t1)+len(t2)+len(t3)\n",
    "        \n",
    "        list_interval, list_time = tfu.split_time_interval_all_data(t1, t2, t3, param[3])\n",
    "        list_trajectories_split = tfu.merge_interval(list_interval, list_time, t1, t2, t3, param[3])\n",
    "        \n",
    "        sum_filters_points = 0\n",
    "        \n",
    "        for j in tqdm(list_trajectories_split):\n",
    "            index_1 = np.array([j[0,0],j[1,0]])\n",
    "            index_2 = np.array([j[0,1],j[1,1]])\n",
    "            index_3 = np.array([j[0,2],j[1,2]])\n",
    "            \n",
    "            sum_filters_points = sum_filters_points + len(t1[index_1[0]:index_1[1]]) + len(t2[index_2[0]:index_2[1]]) + len(t3[index_3[0]:index_3[1]])\n",
    "            \n",
    "        list_interval, list_time = tfu.split_time_interval_all_data(tr1, tr2, tr3, param[3])\n",
    "        list_trajectories_split = tfu.merge_interval(list_interval, list_time, tr1, tr2, tr3, param[3])\n",
    "        \n",
    "        sum_filters_points_only = 0\n",
    "        \n",
    "        for j in tqdm(list_trajectories_split):\n",
    "            index_1 = np.array([j[0,0],j[1,0]])\n",
    "            index_2 = np.array([j[0,1],j[1,1]])\n",
    "            index_3 = np.array([j[0,2],j[1,2]])\n",
    "            \n",
    "            sum_filters_points_only = sum_filters_points_only + len(t1[index_1[0]:index_1[1]]) + len(t2[index_2[0]:index_2[1]]) + len(t3[index_3[0]:index_3[1]])\n",
    "\n",
    "\n",
    "        number_points_input.append(sum_input_points)\n",
    "        number_points_out_outliers.append(sum_outliers_points)\n",
    "        number_points_out_filters.append(sum_filters_points)\n",
    "        number_points_out_filters_only.append(sum_filters_points_only)\n",
    "\n",
    "    print(\"Results done !\")\n",
    "    \n",
    "    return number_points_input, number_points_out_outliers, number_points_out_filters, number_points_out_filters_only"
   ]
  },
  {
   "cell_type": "code",
   "execution_count": 37,
   "id": "db3ee44a",
   "metadata": {},
   "outputs": [],
   "source": [
    "file = [\"/home/norlab/Data/IROS_2022/20220224_TS/2022-02-24-15-34-38.bag\",\n",
    "        \"/home/norlab/Data/IROS_2022/20220307_TS/2022-03-07-19-20-06.bag\",\n",
    "        \"/home/norlab/Data/IROS_2022/20220312_TS/2022-03-12-09-45-12.bag\",\n",
    "        \"/home/norlab/Data/IROS_2022/20220314_TS/2022-03-14-10-47-49.bag\",\n",
    "        \"/home/norlab/Data/IROS_2022/20220316_TS/2022-03-16-19-02-42.bag\",\n",
    "        \"/home/norlab/Data/IROS_2022/20220331_TS/2022-03-31-10-22-52.bag\",\n",
    "        \"/home/norlab/Data/IROS_2022/20220331_TS/2022-03-31-11-20-05.bag\",\n",
    "        \"/home/norlab/Data/IROS_2022/20220427_TS/2022-04-27-12-12-10_filered.bag\",\n",
    "        \"/home/norlab/Data/IROS_2022/20220505_TS/empty1_2022-05-05-19-14-33.bag\",\n",
    "        \"/home/norlab/Data/IROS_2022/20220505_TS/cones1_2022-05-05-19-25-54.bag\"]\n",
    "\n",
    "param = [np.array([1, 10, 10, 1]),\n",
    "         np.array([1.5, 10, 10, 1]),\n",
    "         np.array([2, 10, 10, 1]),\n",
    "         np.array([2.5, 10, 10, 1])]"
   ]
  },
  {
   "cell_type": "code",
   "execution_count": 38,
   "id": "140c8011",
   "metadata": {
    "scrolled": true
   },
   "outputs": [
    {
     "name": "stdout",
     "output_type": "stream",
     "text": [
      "/home/norlab/Data/IROS_2022/20220224_TS/2022-02-24-15-34-38.bag\n",
      "Number of data for theodolites: [4945 4681 4737]\n",
      "Bad measures: 558\n",
      "Number of data for theodolites: [4945 4681 4737]\n",
      "Bad measures: 558\n"
     ]
    },
    {
     "name": "stderr",
     "output_type": "stream",
     "text": [
      "100%|██████████| 119/119 [00:00<00:00, 128872.24it/s]\n",
      "100%|██████████| 199/199 [00:00<00:00, 195609.68it/s]\n"
     ]
    },
    {
     "name": "stdout",
     "output_type": "stream",
     "text": [
      "/home/norlab/Data/IROS_2022/20220307_TS/2022-03-07-19-20-06.bag\n",
      "Number of data for theodolites: [7292 6861 7123]\n",
      "Bad measures: 556\n",
      "Number of data for theodolites: [7292 6861 7123]\n",
      "Bad measures: 556\n"
     ]
    },
    {
     "name": "stderr",
     "output_type": "stream",
     "text": [
      "100%|██████████| 146/146 [00:00<00:00, 163298.24it/s]\n",
      "100%|██████████| 130/130 [00:00<00:00, 176060.55it/s]\n"
     ]
    },
    {
     "name": "stdout",
     "output_type": "stream",
     "text": [
      "/home/norlab/Data/IROS_2022/20220312_TS/2022-03-12-09-45-12.bag\n",
      "Number of data for theodolites: [7273 7358 7741]\n",
      "Bad measures: 658\n",
      "Number of data for theodolites: [7273 7358 7741]\n",
      "Bad measures: 658\n"
     ]
    },
    {
     "name": "stderr",
     "output_type": "stream",
     "text": [
      "100%|██████████| 150/150 [00:00<00:00, 191929.71it/s]\n",
      "100%|██████████| 179/179 [00:00<00:00, 183296.00it/s]\n"
     ]
    },
    {
     "name": "stdout",
     "output_type": "stream",
     "text": [
      "/home/norlab/Data/IROS_2022/20220314_TS/2022-03-14-10-47-49.bag\n",
      "Number of data for theodolites: [7505 7107 7482]\n",
      "Bad measures: 704\n",
      "Number of data for theodolites: [7505 7107 7482]\n",
      "Bad measures: 704\n"
     ]
    },
    {
     "name": "stderr",
     "output_type": "stream",
     "text": [
      "100%|██████████| 199/199 [00:00<00:00, 225524.59it/s]\n",
      "100%|██████████| 255/255 [00:00<00:00, 223008.24it/s]\n"
     ]
    },
    {
     "name": "stdout",
     "output_type": "stream",
     "text": [
      "/home/norlab/Data/IROS_2022/20220316_TS/2022-03-16-19-02-42.bag\n",
      "Number of data for theodolites: [5680 5508 5382]\n",
      "Bad measures: 459\n",
      "Number of data for theodolites: [5680 5508 5382]\n",
      "Bad measures: 459\n"
     ]
    },
    {
     "name": "stderr",
     "output_type": "stream",
     "text": [
      "100%|██████████| 132/132 [00:00<00:00, 217971.70it/s]\n",
      "100%|██████████| 155/155 [00:00<00:00, 193544.84it/s]\n"
     ]
    },
    {
     "name": "stdout",
     "output_type": "stream",
     "text": [
      "/home/norlab/Data/IROS_2022/20220331_TS/2022-03-31-10-22-52.bag\n",
      "Number of data for theodolites: [4645 4243 4455]\n",
      "Bad measures: 3550\n",
      "Number of data for theodolites: [4645 4243 4455]\n",
      "Bad measures: 3550\n"
     ]
    },
    {
     "name": "stderr",
     "output_type": "stream",
     "text": [
      "100%|██████████| 99/99 [00:00<00:00, 162582.65it/s]\n",
      "100%|██████████| 136/136 [00:00<00:00, 171042.08it/s]\n"
     ]
    },
    {
     "name": "stdout",
     "output_type": "stream",
     "text": [
      "/home/norlab/Data/IROS_2022/20220331_TS/2022-03-31-11-20-05.bag\n",
      "Number of data for theodolites: [1734 1807 1871]\n",
      "Bad measures: 4622\n",
      "Number of data for theodolites: [1734 1807 1871]\n",
      "Bad measures: 4622\n"
     ]
    },
    {
     "name": "stderr",
     "output_type": "stream",
     "text": [
      "100%|██████████| 39/39 [00:00<00:00, 159432.61it/s]\n",
      "100%|██████████| 52/52 [00:00<00:00, 95325.09it/s]\n"
     ]
    },
    {
     "name": "stdout",
     "output_type": "stream",
     "text": [
      "/home/norlab/Data/IROS_2022/20220427_TS/2022-04-27-12-12-10_filered.bag\n",
      "Number of data for theodolites: [5147 5552 5811]\n",
      "Bad measures: 2602\n",
      "Number of data for theodolites: [5147 5552 5811]\n",
      "Bad measures: 2602\n"
     ]
    },
    {
     "name": "stderr",
     "output_type": "stream",
     "text": [
      "100%|██████████| 133/133 [00:00<00:00, 212835.72it/s]\n",
      "100%|██████████| 163/163 [00:00<00:00, 209394.04it/s]\n"
     ]
    },
    {
     "name": "stdout",
     "output_type": "stream",
     "text": [
      "/home/norlab/Data/IROS_2022/20220505_TS/empty1_2022-05-05-19-14-33.bag\n",
      "Number of data for theodolites: [764 767 759]\n",
      "Bad measures: 25\n",
      "Number of data for theodolites: [764 767 759]\n",
      "Bad measures: 25\n"
     ]
    },
    {
     "name": "stderr",
     "output_type": "stream",
     "text": [
      "100%|██████████| 15/15 [00:00<00:00, 139191.50it/s]\n",
      "100%|██████████| 8/8 [00:00<00:00, 91929.95it/s]"
     ]
    },
    {
     "name": "stdout",
     "output_type": "stream",
     "text": [
      "/home/norlab/Data/IROS_2022/20220505_TS/cones1_2022-05-05-19-25-54.bag\n"
     ]
    },
    {
     "name": "stderr",
     "output_type": "stream",
     "text": [
      "\n"
     ]
    },
    {
     "name": "stdout",
     "output_type": "stream",
     "text": [
      "Number of data for theodolites: [614 653 638]\n",
      "Bad measures: 67\n",
      "Number of data for theodolites: [614 653 638]\n",
      "Bad measures: 67\n"
     ]
    },
    {
     "name": "stderr",
     "output_type": "stream",
     "text": [
      "100%|██████████| 16/16 [00:00<00:00, 149462.95it/s]\n",
      "100%|██████████| 12/12 [00:00<00:00, 110862.66it/s]"
     ]
    },
    {
     "name": "stdout",
     "output_type": "stream",
     "text": [
      "Results done !\n",
      "/home/norlab/Data/IROS_2022/20220224_TS/2022-02-24-15-34-38.bag\n"
     ]
    },
    {
     "name": "stderr",
     "output_type": "stream",
     "text": [
      "\n"
     ]
    },
    {
     "name": "stdout",
     "output_type": "stream",
     "text": [
      "Number of data for theodolites: [4945 4681 4737]\n",
      "Bad measures: 558\n",
      "Number of data for theodolites: [4945 4681 4737]\n",
      "Bad measures: 558\n"
     ]
    },
    {
     "name": "stderr",
     "output_type": "stream",
     "text": [
      "100%|██████████| 130/130 [00:00<00:00, 200758.29it/s]\n",
      "100%|██████████| 199/199 [00:00<00:00, 215397.81it/s]\n"
     ]
    },
    {
     "name": "stdout",
     "output_type": "stream",
     "text": [
      "/home/norlab/Data/IROS_2022/20220307_TS/2022-03-07-19-20-06.bag\n",
      "Number of data for theodolites: [7292 6861 7123]\n",
      "Bad measures: 556\n",
      "Number of data for theodolites: [7292 6861 7123]\n",
      "Bad measures: 556\n"
     ]
    },
    {
     "name": "stderr",
     "output_type": "stream",
     "text": [
      "100%|██████████| 120/120 [00:00<00:00, 213995.10it/s]\n",
      "100%|██████████| 130/130 [00:00<00:00, 176402.30it/s]\n"
     ]
    },
    {
     "name": "stdout",
     "output_type": "stream",
     "text": [
      "/home/norlab/Data/IROS_2022/20220312_TS/2022-03-12-09-45-12.bag\n",
      "Number of data for theodolites: [7273 7358 7741]\n",
      "Bad measures: 658\n",
      "Number of data for theodolites: [7273 7358 7741]\n",
      "Bad measures: 658\n"
     ]
    },
    {
     "name": "stderr",
     "output_type": "stream",
     "text": [
      "100%|██████████| 146/146 [00:00<00:00, 173034.30it/s]\n",
      "100%|██████████| 179/179 [00:00<00:00, 218123.31it/s]\n"
     ]
    },
    {
     "name": "stdout",
     "output_type": "stream",
     "text": [
      "/home/norlab/Data/IROS_2022/20220314_TS/2022-03-14-10-47-49.bag\n",
      "Number of data for theodolites: [7505 7107 7482]\n",
      "Bad measures: 704\n",
      "Number of data for theodolites: [7505 7107 7482]\n",
      "Bad measures: 704\n"
     ]
    },
    {
     "name": "stderr",
     "output_type": "stream",
     "text": [
      "100%|██████████| 212/212 [00:00<00:00, 206213.46it/s]\n",
      "100%|██████████| 255/255 [00:00<00:00, 218900.43it/s]\n"
     ]
    },
    {
     "name": "stdout",
     "output_type": "stream",
     "text": [
      "/home/norlab/Data/IROS_2022/20220316_TS/2022-03-16-19-02-42.bag\n",
      "Number of data for theodolites: [5680 5508 5382]\n",
      "Bad measures: 459\n",
      "Number of data for theodolites: [5680 5508 5382]\n",
      "Bad measures: 459\n"
     ]
    },
    {
     "name": "stderr",
     "output_type": "stream",
     "text": [
      "100%|██████████| 127/127 [00:00<00:00, 190855.11it/s]\n",
      "100%|██████████| 155/155 [00:00<00:00, 116885.49it/s]\n"
     ]
    },
    {
     "name": "stdout",
     "output_type": "stream",
     "text": [
      "/home/norlab/Data/IROS_2022/20220331_TS/2022-03-31-10-22-52.bag\n",
      "Number of data for theodolites: [4645 4243 4455]\n",
      "Bad measures: 3550\n",
      "Number of data for theodolites: [4645 4243 4455]\n",
      "Bad measures: 3550\n"
     ]
    },
    {
     "name": "stderr",
     "output_type": "stream",
     "text": [
      "100%|██████████| 97/97 [00:00<00:00, 210911.09it/s]\n",
      "100%|██████████| 136/136 [00:00<00:00, 168068.75it/s]\n"
     ]
    },
    {
     "name": "stdout",
     "output_type": "stream",
     "text": [
      "/home/norlab/Data/IROS_2022/20220331_TS/2022-03-31-11-20-05.bag\n",
      "Number of data for theodolites: [1734 1807 1871]\n",
      "Bad measures: 4622\n",
      "Number of data for theodolites: [1734 1807 1871]\n",
      "Bad measures: 4622\n"
     ]
    },
    {
     "name": "stderr",
     "output_type": "stream",
     "text": [
      "100%|██████████| 40/40 [00:00<00:00, 104661.36it/s]\n",
      "100%|██████████| 52/52 [00:00<00:00, 81503.67it/s]\n"
     ]
    },
    {
     "name": "stdout",
     "output_type": "stream",
     "text": [
      "/home/norlab/Data/IROS_2022/20220427_TS/2022-04-27-12-12-10_filered.bag\n",
      "Number of data for theodolites: [5147 5552 5811]\n",
      "Bad measures: 2602\n",
      "Number of data for theodolites: [5147 5552 5811]\n",
      "Bad measures: 2602\n"
     ]
    },
    {
     "name": "stderr",
     "output_type": "stream",
     "text": [
      "100%|██████████| 122/122 [00:00<00:00, 196885.37it/s]\n",
      "100%|██████████| 163/163 [00:00<00:00, 214653.55it/s]\n"
     ]
    },
    {
     "name": "stdout",
     "output_type": "stream",
     "text": [
      "/home/norlab/Data/IROS_2022/20220505_TS/empty1_2022-05-05-19-14-33.bag\n",
      "Number of data for theodolites: [764 767 759]\n",
      "Bad measures: 25\n",
      "Number of data for theodolites: [764 767 759]\n",
      "Bad measures: 25\n"
     ]
    },
    {
     "name": "stderr",
     "output_type": "stream",
     "text": [
      "100%|██████████| 8/8 [00:00<00:00, 50917.20it/s]\n",
      "100%|██████████| 8/8 [00:00<00:00, 88768.34it/s]"
     ]
    },
    {
     "name": "stdout",
     "output_type": "stream",
     "text": [
      "/home/norlab/Data/IROS_2022/20220505_TS/cones1_2022-05-05-19-25-54.bag\n"
     ]
    },
    {
     "name": "stderr",
     "output_type": "stream",
     "text": [
      "\n"
     ]
    },
    {
     "name": "stdout",
     "output_type": "stream",
     "text": [
      "Number of data for theodolites: [614 653 638]\n",
      "Bad measures: 67\n",
      "Number of data for theodolites: [614 653 638]\n",
      "Bad measures: 67\n"
     ]
    },
    {
     "name": "stderr",
     "output_type": "stream",
     "text": [
      "100%|██████████| 11/11 [00:00<00:00, 82683.41it/s]\n",
      "100%|██████████| 12/12 [00:00<00:00, 98496.38it/s]"
     ]
    },
    {
     "name": "stdout",
     "output_type": "stream",
     "text": [
      "Results done !\n",
      "/home/norlab/Data/IROS_2022/20220224_TS/2022-02-24-15-34-38.bag\n"
     ]
    },
    {
     "name": "stderr",
     "output_type": "stream",
     "text": [
      "\n"
     ]
    },
    {
     "name": "stdout",
     "output_type": "stream",
     "text": [
      "Number of data for theodolites: [4945 4681 4737]\n",
      "Bad measures: 558\n",
      "Number of data for theodolites: [4945 4681 4737]\n",
      "Bad measures: 558\n"
     ]
    },
    {
     "name": "stderr",
     "output_type": "stream",
     "text": [
      "100%|██████████| 132/132 [00:00<00:00, 212451.32it/s]\n",
      "100%|██████████| 199/199 [00:00<00:00, 186601.05it/s]\n"
     ]
    },
    {
     "name": "stdout",
     "output_type": "stream",
     "text": [
      "/home/norlab/Data/IROS_2022/20220307_TS/2022-03-07-19-20-06.bag\n",
      "Number of data for theodolites: [7292 6861 7123]\n",
      "Bad measures: 556\n",
      "Number of data for theodolites: [7292 6861 7123]\n",
      "Bad measures: 556\n"
     ]
    },
    {
     "name": "stderr",
     "output_type": "stream",
     "text": [
      "100%|██████████| 119/119 [00:00<00:00, 205231.16it/s]\n",
      "100%|██████████| 130/130 [00:00<00:00, 136178.70it/s]\n"
     ]
    },
    {
     "name": "stdout",
     "output_type": "stream",
     "text": [
      "/home/norlab/Data/IROS_2022/20220312_TS/2022-03-12-09-45-12.bag\n",
      "Number of data for theodolites: [7273 7358 7741]\n",
      "Bad measures: 658\n",
      "Number of data for theodolites: [7273 7358 7741]\n",
      "Bad measures: 658\n"
     ]
    },
    {
     "name": "stderr",
     "output_type": "stream",
     "text": [
      "100%|██████████| 144/144 [00:00<00:00, 183803.95it/s]\n",
      "100%|██████████| 179/179 [00:00<00:00, 180693.24it/s]\n"
     ]
    },
    {
     "name": "stdout",
     "output_type": "stream",
     "text": [
      "/home/norlab/Data/IROS_2022/20220314_TS/2022-03-14-10-47-49.bag\n",
      "Number of data for theodolites: [7505 7107 7482]\n",
      "Bad measures: 704\n",
      "Number of data for theodolites: [7505 7107 7482]\n",
      "Bad measures: 704\n"
     ]
    },
    {
     "name": "stderr",
     "output_type": "stream",
     "text": [
      "100%|██████████| 208/208 [00:00<00:00, 220697.00it/s]\n",
      "100%|██████████| 255/255 [00:00<00:00, 197588.68it/s]\n"
     ]
    },
    {
     "name": "stdout",
     "output_type": "stream",
     "text": [
      "/home/norlab/Data/IROS_2022/20220316_TS/2022-03-16-19-02-42.bag\n",
      "Number of data for theodolites: [5680 5508 5382]\n",
      "Bad measures: 459\n",
      "Number of data for theodolites: [5680 5508 5382]\n",
      "Bad measures: 459\n"
     ]
    },
    {
     "name": "stderr",
     "output_type": "stream",
     "text": [
      "100%|██████████| 127/127 [00:00<00:00, 221303.12it/s]\n",
      "100%|██████████| 155/155 [00:00<00:00, 194996.14it/s]\n"
     ]
    },
    {
     "name": "stdout",
     "output_type": "stream",
     "text": [
      "/home/norlab/Data/IROS_2022/20220331_TS/2022-03-31-10-22-52.bag\n",
      "Number of data for theodolites: [4645 4243 4455]\n",
      "Bad measures: 3550\n",
      "Number of data for theodolites: [4645 4243 4455]\n",
      "Bad measures: 3550\n"
     ]
    },
    {
     "name": "stderr",
     "output_type": "stream",
     "text": [
      "100%|██████████| 97/97 [00:00<00:00, 192544.95it/s]\n",
      "100%|██████████| 136/136 [00:00<00:00, 209407.25it/s]\n"
     ]
    },
    {
     "name": "stdout",
     "output_type": "stream",
     "text": [
      "/home/norlab/Data/IROS_2022/20220331_TS/2022-03-31-11-20-05.bag\n",
      "Number of data for theodolites: [1734 1807 1871]\n",
      "Bad measures: 4622\n",
      "Number of data for theodolites: [1734 1807 1871]\n",
      "Bad measures: 4622\n"
     ]
    },
    {
     "name": "stderr",
     "output_type": "stream",
     "text": [
      "100%|██████████| 40/40 [00:00<00:00, 127777.73it/s]\n",
      "100%|██████████| 52/52 [00:00<00:00, 125998.73it/s]\n"
     ]
    },
    {
     "name": "stdout",
     "output_type": "stream",
     "text": [
      "/home/norlab/Data/IROS_2022/20220427_TS/2022-04-27-12-12-10_filered.bag\n",
      "Number of data for theodolites: [5147 5552 5811]\n",
      "Bad measures: 2602\n",
      "Number of data for theodolites: [5147 5552 5811]\n",
      "Bad measures: 2602\n"
     ]
    },
    {
     "name": "stderr",
     "output_type": "stream",
     "text": [
      "100%|██████████| 123/123 [00:00<00:00, 199419.94it/s]\n",
      "100%|██████████| 163/163 [00:00<00:00, 208245.98it/s]\n"
     ]
    },
    {
     "name": "stdout",
     "output_type": "stream",
     "text": [
      "/home/norlab/Data/IROS_2022/20220505_TS/empty1_2022-05-05-19-14-33.bag\n",
      "Number of data for theodolites: [764 767 759]\n",
      "Bad measures: 25\n",
      "Number of data for theodolites: [764 767 759]\n",
      "Bad measures: 25\n"
     ]
    },
    {
     "name": "stderr",
     "output_type": "stream",
     "text": [
      "100%|██████████| 8/8 [00:00<00:00, 65281.00it/s]\n",
      "100%|██████████| 8/8 [00:00<00:00, 94519.53it/s]"
     ]
    },
    {
     "name": "stdout",
     "output_type": "stream",
     "text": [
      "/home/norlab/Data/IROS_2022/20220505_TS/cones1_2022-05-05-19-25-54.bag\n"
     ]
    },
    {
     "name": "stderr",
     "output_type": "stream",
     "text": [
      "\n"
     ]
    },
    {
     "name": "stdout",
     "output_type": "stream",
     "text": [
      "Number of data for theodolites: [614 653 638]\n",
      "Bad measures: 67\n",
      "Number of data for theodolites: [614 653 638]\n",
      "Bad measures: 67\n"
     ]
    },
    {
     "name": "stderr",
     "output_type": "stream",
     "text": [
      "100%|██████████| 11/11 [00:00<00:00, 48362.00it/s]\n",
      "100%|██████████| 12/12 [00:00<00:00, 121574.03it/s]"
     ]
    },
    {
     "name": "stdout",
     "output_type": "stream",
     "text": [
      "Results done !\n",
      "/home/norlab/Data/IROS_2022/20220224_TS/2022-02-24-15-34-38.bag\n"
     ]
    },
    {
     "name": "stderr",
     "output_type": "stream",
     "text": [
      "\n"
     ]
    },
    {
     "name": "stdout",
     "output_type": "stream",
     "text": [
      "Number of data for theodolites: [4945 4681 4737]\n",
      "Bad measures: 558\n",
      "Number of data for theodolites: [4945 4681 4737]\n",
      "Bad measures: 558\n"
     ]
    },
    {
     "name": "stderr",
     "output_type": "stream",
     "text": [
      "100%|██████████| 134/134 [00:00<00:00, 217002.60it/s]\n",
      "100%|██████████| 199/199 [00:00<00:00, 171918.95it/s]\n"
     ]
    },
    {
     "name": "stdout",
     "output_type": "stream",
     "text": [
      "/home/norlab/Data/IROS_2022/20220307_TS/2022-03-07-19-20-06.bag\n",
      "Number of data for theodolites: [7292 6861 7123]\n",
      "Bad measures: 556\n",
      "Number of data for theodolites: [7292 6861 7123]\n",
      "Bad measures: 556\n"
     ]
    },
    {
     "name": "stderr",
     "output_type": "stream",
     "text": [
      "100%|██████████| 119/119 [00:00<00:00, 187077.28it/s]\n",
      "100%|██████████| 130/130 [00:00<00:00, 207717.91it/s]\n"
     ]
    },
    {
     "name": "stdout",
     "output_type": "stream",
     "text": [
      "/home/norlab/Data/IROS_2022/20220312_TS/2022-03-12-09-45-12.bag\n",
      "Number of data for theodolites: [7273 7358 7741]\n",
      "Bad measures: 658\n",
      "Number of data for theodolites: [7273 7358 7741]\n",
      "Bad measures: 658\n"
     ]
    },
    {
     "name": "stderr",
     "output_type": "stream",
     "text": [
      "100%|██████████| 140/140 [00:00<00:00, 126388.84it/s]\n",
      "100%|██████████| 179/179 [00:00<00:00, 216863.21it/s]\n"
     ]
    },
    {
     "name": "stdout",
     "output_type": "stream",
     "text": [
      "/home/norlab/Data/IROS_2022/20220314_TS/2022-03-14-10-47-49.bag\n",
      "Number of data for theodolites: [7505 7107 7482]\n",
      "Bad measures: 704\n",
      "Number of data for theodolites: [7505 7107 7482]\n",
      "Bad measures: 704\n"
     ]
    },
    {
     "name": "stderr",
     "output_type": "stream",
     "text": [
      "100%|██████████| 208/208 [00:00<00:00, 213408.81it/s]\n",
      "100%|██████████| 255/255 [00:00<00:00, 211917.48it/s]\n"
     ]
    },
    {
     "name": "stdout",
     "output_type": "stream",
     "text": [
      "/home/norlab/Data/IROS_2022/20220316_TS/2022-03-16-19-02-42.bag\n",
      "Number of data for theodolites: [5680 5508 5382]\n",
      "Bad measures: 459\n",
      "Number of data for theodolites: [5680 5508 5382]\n",
      "Bad measures: 459\n"
     ]
    },
    {
     "name": "stderr",
     "output_type": "stream",
     "text": [
      "100%|██████████| 126/126 [00:00<00:00, 199276.89it/s]\n",
      "100%|██████████| 155/155 [00:00<00:00, 177676.17it/s]\n"
     ]
    },
    {
     "name": "stdout",
     "output_type": "stream",
     "text": [
      "/home/norlab/Data/IROS_2022/20220331_TS/2022-03-31-10-22-52.bag\n",
      "Number of data for theodolites: [4645 4243 4455]\n",
      "Bad measures: 3550\n",
      "Number of data for theodolites: [4645 4243 4455]\n",
      "Bad measures: 3550\n"
     ]
    },
    {
     "name": "stderr",
     "output_type": "stream",
     "text": [
      "100%|██████████| 97/97 [00:00<00:00, 118304.01it/s]\n",
      "100%|██████████| 136/136 [00:00<00:00, 214445.62it/s]\n"
     ]
    },
    {
     "name": "stdout",
     "output_type": "stream",
     "text": [
      "/home/norlab/Data/IROS_2022/20220331_TS/2022-03-31-11-20-05.bag\n",
      "Number of data for theodolites: [1734 1807 1871]\n",
      "Bad measures: 4622\n",
      "Number of data for theodolites: [1734 1807 1871]\n",
      "Bad measures: 4622\n"
     ]
    },
    {
     "name": "stderr",
     "output_type": "stream",
     "text": [
      "100%|██████████| 41/41 [00:00<00:00, 143664.55it/s]\n",
      "100%|██████████| 52/52 [00:00<00:00, 150416.42it/s]\n"
     ]
    },
    {
     "name": "stdout",
     "output_type": "stream",
     "text": [
      "/home/norlab/Data/IROS_2022/20220427_TS/2022-04-27-12-12-10_filered.bag\n",
      "Number of data for theodolites: [5147 5552 5811]\n",
      "Bad measures: 2602\n",
      "Number of data for theodolites: [5147 5552 5811]\n",
      "Bad measures: 2602\n"
     ]
    },
    {
     "name": "stderr",
     "output_type": "stream",
     "text": [
      "100%|██████████| 122/122 [00:00<00:00, 186685.55it/s]\n",
      "100%|██████████| 163/163 [00:00<00:00, 208563.62it/s]\n"
     ]
    },
    {
     "name": "stdout",
     "output_type": "stream",
     "text": [
      "/home/norlab/Data/IROS_2022/20220505_TS/empty1_2022-05-05-19-14-33.bag\n",
      "Number of data for theodolites: [764 767 759]\n",
      "Bad measures: 25\n",
      "Number of data for theodolites: [764 767 759]\n",
      "Bad measures: 25\n"
     ]
    },
    {
     "name": "stderr",
     "output_type": "stream",
     "text": [
      "100%|██████████| 8/8 [00:00<00:00, 48770.98it/s]\n",
      "100%|██████████| 8/8 [00:00<00:00, 42581.77it/s]"
     ]
    },
    {
     "name": "stdout",
     "output_type": "stream",
     "text": [
      "/home/norlab/Data/IROS_2022/20220505_TS/cones1_2022-05-05-19-25-54.bag\n"
     ]
    },
    {
     "name": "stderr",
     "output_type": "stream",
     "text": [
      "\n"
     ]
    },
    {
     "name": "stdout",
     "output_type": "stream",
     "text": [
      "Number of data for theodolites: [614 653 638]\n",
      "Bad measures: 67\n",
      "Number of data for theodolites: [614 653 638]\n",
      "Bad measures: 67\n"
     ]
    },
    {
     "name": "stderr",
     "output_type": "stream",
     "text": [
      "100%|██████████| 11/11 [00:00<00:00, 61434.55it/s]\n",
      "100%|██████████| 12/12 [00:00<00:00, 52483.47it/s]"
     ]
    },
    {
     "name": "stdout",
     "output_type": "stream",
     "text": [
      "Results done !\n"
     ]
    },
    {
     "name": "stderr",
     "output_type": "stream",
     "text": [
      "\n"
     ]
    }
   ],
   "source": [
    "mean_points_input = []\n",
    "mean_point_out_outlier = []\n",
    "mean_point_out_filter = []\n",
    "mean_point_out_filter_only = []\n",
    "for i in param:\n",
    "    number_points_input, number_points_out_outliers, number_points_out_filters, number_points_out_filters_only = drop_points_filtering(file, i)\n",
    "    mean_points_input.append(np.sum(number_points_input))\n",
    "    mean_point_out_outlier.append(np.sum(number_points_out_outliers))\n",
    "    mean_point_out_filter.append(np.sum(number_points_out_filters))\n",
    "    mean_point_out_filter_only.append(np.sum(number_points_out_filters_only))\n",
    "    "
   ]
  },
  {
   "cell_type": "code",
   "execution_count": 39,
   "id": "385666a3",
   "metadata": {},
   "outputs": [],
   "source": [
    "percentage_out_outliers = []\n",
    "percentage_out_filters = []\n",
    "percentage_out_total = []\n",
    "for i,j,k,l in zip(mean_points_input, mean_point_out_outlier, mean_point_out_filter, mean_point_out_filter_only):\n",
    "    percentage_outliers_only = (i-j)/i*100\n",
    "    percentage_filters_only = (i-l)/i*100\n",
    "    percentage_total = (i-k)/i*100\n",
    "    percentage_out_outliers.append(percentage_outliers_only)\n",
    "    percentage_out_filters.append(percentage_filters_only)\n",
    "    percentage_out_total.append(percentage_total)"
   ]
  },
  {
   "cell_type": "code",
   "execution_count": 40,
   "id": "a8bd9da1",
   "metadata": {},
   "outputs": [
    {
     "data": {
      "application/javascript": [
       "/* Put everything inside the global mpl namespace */\n",
       "window.mpl = {};\n",
       "\n",
       "\n",
       "mpl.get_websocket_type = function() {\n",
       "    if (typeof(WebSocket) !== 'undefined') {\n",
       "        return WebSocket;\n",
       "    } else if (typeof(MozWebSocket) !== 'undefined') {\n",
       "        return MozWebSocket;\n",
       "    } else {\n",
       "        alert('Your browser does not have WebSocket support. ' +\n",
       "              'Please try Chrome, Safari or Firefox ≥ 6. ' +\n",
       "              'Firefox 4 and 5 are also supported but you ' +\n",
       "              'have to enable WebSockets in about:config.');\n",
       "    };\n",
       "}\n",
       "\n",
       "mpl.figure = function(figure_id, websocket, ondownload, parent_element) {\n",
       "    this.id = figure_id;\n",
       "\n",
       "    this.ws = websocket;\n",
       "\n",
       "    this.supports_binary = (this.ws.binaryType != undefined);\n",
       "\n",
       "    if (!this.supports_binary) {\n",
       "        var warnings = document.getElementById(\"mpl-warnings\");\n",
       "        if (warnings) {\n",
       "            warnings.style.display = 'block';\n",
       "            warnings.textContent = (\n",
       "                \"This browser does not support binary websocket messages. \" +\n",
       "                    \"Performance may be slow.\");\n",
       "        }\n",
       "    }\n",
       "\n",
       "    this.imageObj = new Image();\n",
       "\n",
       "    this.context = undefined;\n",
       "    this.message = undefined;\n",
       "    this.canvas = undefined;\n",
       "    this.rubberband_canvas = undefined;\n",
       "    this.rubberband_context = undefined;\n",
       "    this.format_dropdown = undefined;\n",
       "\n",
       "    this.image_mode = 'full';\n",
       "\n",
       "    this.root = $('<div/>');\n",
       "    this._root_extra_style(this.root)\n",
       "    this.root.attr('style', 'display: inline-block');\n",
       "\n",
       "    $(parent_element).append(this.root);\n",
       "\n",
       "    this._init_header(this);\n",
       "    this._init_canvas(this);\n",
       "    this._init_toolbar(this);\n",
       "\n",
       "    var fig = this;\n",
       "\n",
       "    this.waiting = false;\n",
       "\n",
       "    this.ws.onopen =  function () {\n",
       "            fig.send_message(\"supports_binary\", {value: fig.supports_binary});\n",
       "            fig.send_message(\"send_image_mode\", {});\n",
       "            if (mpl.ratio != 1) {\n",
       "                fig.send_message(\"set_dpi_ratio\", {'dpi_ratio': mpl.ratio});\n",
       "            }\n",
       "            fig.send_message(\"refresh\", {});\n",
       "        }\n",
       "\n",
       "    this.imageObj.onload = function() {\n",
       "            if (fig.image_mode == 'full') {\n",
       "                // Full images could contain transparency (where diff images\n",
       "                // almost always do), so we need to clear the canvas so that\n",
       "                // there is no ghosting.\n",
       "                fig.context.clearRect(0, 0, fig.canvas.width, fig.canvas.height);\n",
       "            }\n",
       "            fig.context.drawImage(fig.imageObj, 0, 0);\n",
       "        };\n",
       "\n",
       "    this.imageObj.onunload = function() {\n",
       "        fig.ws.close();\n",
       "    }\n",
       "\n",
       "    this.ws.onmessage = this._make_on_message_function(this);\n",
       "\n",
       "    this.ondownload = ondownload;\n",
       "}\n",
       "\n",
       "mpl.figure.prototype._init_header = function() {\n",
       "    var titlebar = $(\n",
       "        '<div class=\"ui-dialog-titlebar ui-widget-header ui-corner-all ' +\n",
       "        'ui-helper-clearfix\"/>');\n",
       "    var titletext = $(\n",
       "        '<div class=\"ui-dialog-title\" style=\"width: 100%; ' +\n",
       "        'text-align: center; padding: 3px;\"/>');\n",
       "    titlebar.append(titletext)\n",
       "    this.root.append(titlebar);\n",
       "    this.header = titletext[0];\n",
       "}\n",
       "\n",
       "\n",
       "\n",
       "mpl.figure.prototype._canvas_extra_style = function(canvas_div) {\n",
       "\n",
       "}\n",
       "\n",
       "\n",
       "mpl.figure.prototype._root_extra_style = function(canvas_div) {\n",
       "\n",
       "}\n",
       "\n",
       "mpl.figure.prototype._init_canvas = function() {\n",
       "    var fig = this;\n",
       "\n",
       "    var canvas_div = $('<div/>');\n",
       "\n",
       "    canvas_div.attr('style', 'position: relative; clear: both; outline: 0');\n",
       "\n",
       "    function canvas_keyboard_event(event) {\n",
       "        return fig.key_event(event, event['data']);\n",
       "    }\n",
       "\n",
       "    canvas_div.keydown('key_press', canvas_keyboard_event);\n",
       "    canvas_div.keyup('key_release', canvas_keyboard_event);\n",
       "    this.canvas_div = canvas_div\n",
       "    this._canvas_extra_style(canvas_div)\n",
       "    this.root.append(canvas_div);\n",
       "\n",
       "    var canvas = $('<canvas/>');\n",
       "    canvas.addClass('mpl-canvas');\n",
       "    canvas.attr('style', \"left: 0; top: 0; z-index: 0; outline: 0\")\n",
       "\n",
       "    this.canvas = canvas[0];\n",
       "    this.context = canvas[0].getContext(\"2d\");\n",
       "\n",
       "    var backingStore = this.context.backingStorePixelRatio ||\n",
       "\tthis.context.webkitBackingStorePixelRatio ||\n",
       "\tthis.context.mozBackingStorePixelRatio ||\n",
       "\tthis.context.msBackingStorePixelRatio ||\n",
       "\tthis.context.oBackingStorePixelRatio ||\n",
       "\tthis.context.backingStorePixelRatio || 1;\n",
       "\n",
       "    mpl.ratio = (window.devicePixelRatio || 1) / backingStore;\n",
       "\n",
       "    var rubberband = $('<canvas/>');\n",
       "    rubberband.attr('style', \"position: absolute; left: 0; top: 0; z-index: 1;\")\n",
       "\n",
       "    var pass_mouse_events = true;\n",
       "\n",
       "    canvas_div.resizable({\n",
       "        start: function(event, ui) {\n",
       "            pass_mouse_events = false;\n",
       "        },\n",
       "        resize: function(event, ui) {\n",
       "            fig.request_resize(ui.size.width, ui.size.height);\n",
       "        },\n",
       "        stop: function(event, ui) {\n",
       "            pass_mouse_events = true;\n",
       "            fig.request_resize(ui.size.width, ui.size.height);\n",
       "        },\n",
       "    });\n",
       "\n",
       "    function mouse_event_fn(event) {\n",
       "        if (pass_mouse_events)\n",
       "            return fig.mouse_event(event, event['data']);\n",
       "    }\n",
       "\n",
       "    rubberband.mousedown('button_press', mouse_event_fn);\n",
       "    rubberband.mouseup('button_release', mouse_event_fn);\n",
       "    // Throttle sequential mouse events to 1 every 20ms.\n",
       "    rubberband.mousemove('motion_notify', mouse_event_fn);\n",
       "\n",
       "    rubberband.mouseenter('figure_enter', mouse_event_fn);\n",
       "    rubberband.mouseleave('figure_leave', mouse_event_fn);\n",
       "\n",
       "    canvas_div.on(\"wheel\", function (event) {\n",
       "        event = event.originalEvent;\n",
       "        event['data'] = 'scroll'\n",
       "        if (event.deltaY < 0) {\n",
       "            event.step = 1;\n",
       "        } else {\n",
       "            event.step = -1;\n",
       "        }\n",
       "        mouse_event_fn(event);\n",
       "    });\n",
       "\n",
       "    canvas_div.append(canvas);\n",
       "    canvas_div.append(rubberband);\n",
       "\n",
       "    this.rubberband = rubberband;\n",
       "    this.rubberband_canvas = rubberband[0];\n",
       "    this.rubberband_context = rubberband[0].getContext(\"2d\");\n",
       "    this.rubberband_context.strokeStyle = \"#000000\";\n",
       "\n",
       "    this._resize_canvas = function(width, height) {\n",
       "        // Keep the size of the canvas, canvas container, and rubber band\n",
       "        // canvas in synch.\n",
       "        canvas_div.css('width', width)\n",
       "        canvas_div.css('height', height)\n",
       "\n",
       "        canvas.attr('width', width * mpl.ratio);\n",
       "        canvas.attr('height', height * mpl.ratio);\n",
       "        canvas.attr('style', 'width: ' + width + 'px; height: ' + height + 'px;');\n",
       "\n",
       "        rubberband.attr('width', width);\n",
       "        rubberband.attr('height', height);\n",
       "    }\n",
       "\n",
       "    // Set the figure to an initial 600x600px, this will subsequently be updated\n",
       "    // upon first draw.\n",
       "    this._resize_canvas(600, 600);\n",
       "\n",
       "    // Disable right mouse context menu.\n",
       "    $(this.rubberband_canvas).bind(\"contextmenu\",function(e){\n",
       "        return false;\n",
       "    });\n",
       "\n",
       "    function set_focus () {\n",
       "        canvas.focus();\n",
       "        canvas_div.focus();\n",
       "    }\n",
       "\n",
       "    window.setTimeout(set_focus, 100);\n",
       "}\n",
       "\n",
       "mpl.figure.prototype._init_toolbar = function() {\n",
       "    var fig = this;\n",
       "\n",
       "    var nav_element = $('<div/>');\n",
       "    nav_element.attr('style', 'width: 100%');\n",
       "    this.root.append(nav_element);\n",
       "\n",
       "    // Define a callback function for later on.\n",
       "    function toolbar_event(event) {\n",
       "        return fig.toolbar_button_onclick(event['data']);\n",
       "    }\n",
       "    function toolbar_mouse_event(event) {\n",
       "        return fig.toolbar_button_onmouseover(event['data']);\n",
       "    }\n",
       "\n",
       "    for(var toolbar_ind in mpl.toolbar_items) {\n",
       "        var name = mpl.toolbar_items[toolbar_ind][0];\n",
       "        var tooltip = mpl.toolbar_items[toolbar_ind][1];\n",
       "        var image = mpl.toolbar_items[toolbar_ind][2];\n",
       "        var method_name = mpl.toolbar_items[toolbar_ind][3];\n",
       "\n",
       "        if (!name) {\n",
       "            // put a spacer in here.\n",
       "            continue;\n",
       "        }\n",
       "        var button = $('<button/>');\n",
       "        button.addClass('ui-button ui-widget ui-state-default ui-corner-all ' +\n",
       "                        'ui-button-icon-only');\n",
       "        button.attr('role', 'button');\n",
       "        button.attr('aria-disabled', 'false');\n",
       "        button.click(method_name, toolbar_event);\n",
       "        button.mouseover(tooltip, toolbar_mouse_event);\n",
       "\n",
       "        var icon_img = $('<span/>');\n",
       "        icon_img.addClass('ui-button-icon-primary ui-icon');\n",
       "        icon_img.addClass(image);\n",
       "        icon_img.addClass('ui-corner-all');\n",
       "\n",
       "        var tooltip_span = $('<span/>');\n",
       "        tooltip_span.addClass('ui-button-text');\n",
       "        tooltip_span.html(tooltip);\n",
       "\n",
       "        button.append(icon_img);\n",
       "        button.append(tooltip_span);\n",
       "\n",
       "        nav_element.append(button);\n",
       "    }\n",
       "\n",
       "    var fmt_picker_span = $('<span/>');\n",
       "\n",
       "    var fmt_picker = $('<select/>');\n",
       "    fmt_picker.addClass('mpl-toolbar-option ui-widget ui-widget-content');\n",
       "    fmt_picker_span.append(fmt_picker);\n",
       "    nav_element.append(fmt_picker_span);\n",
       "    this.format_dropdown = fmt_picker[0];\n",
       "\n",
       "    for (var ind in mpl.extensions) {\n",
       "        var fmt = mpl.extensions[ind];\n",
       "        var option = $(\n",
       "            '<option/>', {selected: fmt === mpl.default_extension}).html(fmt);\n",
       "        fmt_picker.append(option);\n",
       "    }\n",
       "\n",
       "    // Add hover states to the ui-buttons\n",
       "    $( \".ui-button\" ).hover(\n",
       "        function() { $(this).addClass(\"ui-state-hover\");},\n",
       "        function() { $(this).removeClass(\"ui-state-hover\");}\n",
       "    );\n",
       "\n",
       "    var status_bar = $('<span class=\"mpl-message\"/>');\n",
       "    nav_element.append(status_bar);\n",
       "    this.message = status_bar[0];\n",
       "}\n",
       "\n",
       "mpl.figure.prototype.request_resize = function(x_pixels, y_pixels) {\n",
       "    // Request matplotlib to resize the figure. Matplotlib will then trigger a resize in the client,\n",
       "    // which will in turn request a refresh of the image.\n",
       "    this.send_message('resize', {'width': x_pixels, 'height': y_pixels});\n",
       "}\n",
       "\n",
       "mpl.figure.prototype.send_message = function(type, properties) {\n",
       "    properties['type'] = type;\n",
       "    properties['figure_id'] = this.id;\n",
       "    this.ws.send(JSON.stringify(properties));\n",
       "}\n",
       "\n",
       "mpl.figure.prototype.send_draw_message = function() {\n",
       "    if (!this.waiting) {\n",
       "        this.waiting = true;\n",
       "        this.ws.send(JSON.stringify({type: \"draw\", figure_id: this.id}));\n",
       "    }\n",
       "}\n",
       "\n",
       "\n",
       "mpl.figure.prototype.handle_save = function(fig, msg) {\n",
       "    var format_dropdown = fig.format_dropdown;\n",
       "    var format = format_dropdown.options[format_dropdown.selectedIndex].value;\n",
       "    fig.ondownload(fig, format);\n",
       "}\n",
       "\n",
       "\n",
       "mpl.figure.prototype.handle_resize = function(fig, msg) {\n",
       "    var size = msg['size'];\n",
       "    if (size[0] != fig.canvas.width || size[1] != fig.canvas.height) {\n",
       "        fig._resize_canvas(size[0], size[1]);\n",
       "        fig.send_message(\"refresh\", {});\n",
       "    };\n",
       "}\n",
       "\n",
       "mpl.figure.prototype.handle_rubberband = function(fig, msg) {\n",
       "    var x0 = msg['x0'] / mpl.ratio;\n",
       "    var y0 = (fig.canvas.height - msg['y0']) / mpl.ratio;\n",
       "    var x1 = msg['x1'] / mpl.ratio;\n",
       "    var y1 = (fig.canvas.height - msg['y1']) / mpl.ratio;\n",
       "    x0 = Math.floor(x0) + 0.5;\n",
       "    y0 = Math.floor(y0) + 0.5;\n",
       "    x1 = Math.floor(x1) + 0.5;\n",
       "    y1 = Math.floor(y1) + 0.5;\n",
       "    var min_x = Math.min(x0, x1);\n",
       "    var min_y = Math.min(y0, y1);\n",
       "    var width = Math.abs(x1 - x0);\n",
       "    var height = Math.abs(y1 - y0);\n",
       "\n",
       "    fig.rubberband_context.clearRect(\n",
       "        0, 0, fig.canvas.width / mpl.ratio, fig.canvas.height / mpl.ratio);\n",
       "\n",
       "    fig.rubberband_context.strokeRect(min_x, min_y, width, height);\n",
       "}\n",
       "\n",
       "mpl.figure.prototype.handle_figure_label = function(fig, msg) {\n",
       "    // Updates the figure title.\n",
       "    fig.header.textContent = msg['label'];\n",
       "}\n",
       "\n",
       "mpl.figure.prototype.handle_cursor = function(fig, msg) {\n",
       "    var cursor = msg['cursor'];\n",
       "    switch(cursor)\n",
       "    {\n",
       "    case 0:\n",
       "        cursor = 'pointer';\n",
       "        break;\n",
       "    case 1:\n",
       "        cursor = 'default';\n",
       "        break;\n",
       "    case 2:\n",
       "        cursor = 'crosshair';\n",
       "        break;\n",
       "    case 3:\n",
       "        cursor = 'move';\n",
       "        break;\n",
       "    }\n",
       "    fig.rubberband_canvas.style.cursor = cursor;\n",
       "}\n",
       "\n",
       "mpl.figure.prototype.handle_message = function(fig, msg) {\n",
       "    fig.message.textContent = msg['message'];\n",
       "}\n",
       "\n",
       "mpl.figure.prototype.handle_draw = function(fig, msg) {\n",
       "    // Request the server to send over a new figure.\n",
       "    fig.send_draw_message();\n",
       "}\n",
       "\n",
       "mpl.figure.prototype.handle_image_mode = function(fig, msg) {\n",
       "    fig.image_mode = msg['mode'];\n",
       "}\n",
       "\n",
       "mpl.figure.prototype.updated_canvas_event = function() {\n",
       "    // Called whenever the canvas gets updated.\n",
       "    this.send_message(\"ack\", {});\n",
       "}\n",
       "\n",
       "// A function to construct a web socket function for onmessage handling.\n",
       "// Called in the figure constructor.\n",
       "mpl.figure.prototype._make_on_message_function = function(fig) {\n",
       "    return function socket_on_message(evt) {\n",
       "        if (evt.data instanceof Blob) {\n",
       "            /* FIXME: We get \"Resource interpreted as Image but\n",
       "             * transferred with MIME type text/plain:\" errors on\n",
       "             * Chrome.  But how to set the MIME type?  It doesn't seem\n",
       "             * to be part of the websocket stream */\n",
       "            evt.data.type = \"image/png\";\n",
       "\n",
       "            /* Free the memory for the previous frames */\n",
       "            if (fig.imageObj.src) {\n",
       "                (window.URL || window.webkitURL).revokeObjectURL(\n",
       "                    fig.imageObj.src);\n",
       "            }\n",
       "\n",
       "            fig.imageObj.src = (window.URL || window.webkitURL).createObjectURL(\n",
       "                evt.data);\n",
       "            fig.updated_canvas_event();\n",
       "            fig.waiting = false;\n",
       "            return;\n",
       "        }\n",
       "        else if (typeof evt.data === 'string' && evt.data.slice(0, 21) == \"data:image/png;base64\") {\n",
       "            fig.imageObj.src = evt.data;\n",
       "            fig.updated_canvas_event();\n",
       "            fig.waiting = false;\n",
       "            return;\n",
       "        }\n",
       "\n",
       "        var msg = JSON.parse(evt.data);\n",
       "        var msg_type = msg['type'];\n",
       "\n",
       "        // Call the  \"handle_{type}\" callback, which takes\n",
       "        // the figure and JSON message as its only arguments.\n",
       "        try {\n",
       "            var callback = fig[\"handle_\" + msg_type];\n",
       "        } catch (e) {\n",
       "            console.log(\"No handler for the '\" + msg_type + \"' message type: \", msg);\n",
       "            return;\n",
       "        }\n",
       "\n",
       "        if (callback) {\n",
       "            try {\n",
       "                // console.log(\"Handling '\" + msg_type + \"' message: \", msg);\n",
       "                callback(fig, msg);\n",
       "            } catch (e) {\n",
       "                console.log(\"Exception inside the 'handler_\" + msg_type + \"' callback:\", e, e.stack, msg);\n",
       "            }\n",
       "        }\n",
       "    };\n",
       "}\n",
       "\n",
       "// from http://stackoverflow.com/questions/1114465/getting-mouse-location-in-canvas\n",
       "mpl.findpos = function(e) {\n",
       "    //this section is from http://www.quirksmode.org/js/events_properties.html\n",
       "    var targ;\n",
       "    if (!e)\n",
       "        e = window.event;\n",
       "    if (e.target)\n",
       "        targ = e.target;\n",
       "    else if (e.srcElement)\n",
       "        targ = e.srcElement;\n",
       "    if (targ.nodeType == 3) // defeat Safari bug\n",
       "        targ = targ.parentNode;\n",
       "\n",
       "    // jQuery normalizes the pageX and pageY\n",
       "    // pageX,Y are the mouse positions relative to the document\n",
       "    // offset() returns the position of the element relative to the document\n",
       "    var x = e.pageX - $(targ).offset().left;\n",
       "    var y = e.pageY - $(targ).offset().top;\n",
       "\n",
       "    return {\"x\": x, \"y\": y};\n",
       "};\n",
       "\n",
       "/*\n",
       " * return a copy of an object with only non-object keys\n",
       " * we need this to avoid circular references\n",
       " * http://stackoverflow.com/a/24161582/3208463\n",
       " */\n",
       "function simpleKeys (original) {\n",
       "  return Object.keys(original).reduce(function (obj, key) {\n",
       "    if (typeof original[key] !== 'object')\n",
       "        obj[key] = original[key]\n",
       "    return obj;\n",
       "  }, {});\n",
       "}\n",
       "\n",
       "mpl.figure.prototype.mouse_event = function(event, name) {\n",
       "    var canvas_pos = mpl.findpos(event)\n",
       "\n",
       "    if (name === 'button_press')\n",
       "    {\n",
       "        this.canvas.focus();\n",
       "        this.canvas_div.focus();\n",
       "    }\n",
       "\n",
       "    var x = canvas_pos.x * mpl.ratio;\n",
       "    var y = canvas_pos.y * mpl.ratio;\n",
       "\n",
       "    this.send_message(name, {x: x, y: y, button: event.button,\n",
       "                             step: event.step,\n",
       "                             guiEvent: simpleKeys(event)});\n",
       "\n",
       "    /* This prevents the web browser from automatically changing to\n",
       "     * the text insertion cursor when the button is pressed.  We want\n",
       "     * to control all of the cursor setting manually through the\n",
       "     * 'cursor' event from matplotlib */\n",
       "    event.preventDefault();\n",
       "    return false;\n",
       "}\n",
       "\n",
       "mpl.figure.prototype._key_event_extra = function(event, name) {\n",
       "    // Handle any extra behaviour associated with a key event\n",
       "}\n",
       "\n",
       "mpl.figure.prototype.key_event = function(event, name) {\n",
       "\n",
       "    // Prevent repeat events\n",
       "    if (name == 'key_press')\n",
       "    {\n",
       "        if (event.which === this._key)\n",
       "            return;\n",
       "        else\n",
       "            this._key = event.which;\n",
       "    }\n",
       "    if (name == 'key_release')\n",
       "        this._key = null;\n",
       "\n",
       "    var value = '';\n",
       "    if (event.ctrlKey && event.which != 17)\n",
       "        value += \"ctrl+\";\n",
       "    if (event.altKey && event.which != 18)\n",
       "        value += \"alt+\";\n",
       "    if (event.shiftKey && event.which != 16)\n",
       "        value += \"shift+\";\n",
       "\n",
       "    value += 'k';\n",
       "    value += event.which.toString();\n",
       "\n",
       "    this._key_event_extra(event, name);\n",
       "\n",
       "    this.send_message(name, {key: value,\n",
       "                             guiEvent: simpleKeys(event)});\n",
       "    return false;\n",
       "}\n",
       "\n",
       "mpl.figure.prototype.toolbar_button_onclick = function(name) {\n",
       "    if (name == 'download') {\n",
       "        this.handle_save(this, null);\n",
       "    } else {\n",
       "        this.send_message(\"toolbar_button\", {name: name});\n",
       "    }\n",
       "};\n",
       "\n",
       "mpl.figure.prototype.toolbar_button_onmouseover = function(tooltip) {\n",
       "    this.message.textContent = tooltip;\n",
       "};\n",
       "mpl.toolbar_items = [[\"Home\", \"Reset original view\", \"fa fa-home icon-home\", \"home\"], [\"Back\", \"Back to previous view\", \"fa fa-arrow-left icon-arrow-left\", \"back\"], [\"Forward\", \"Forward to next view\", \"fa fa-arrow-right icon-arrow-right\", \"forward\"], [\"\", \"\", \"\", \"\"], [\"Pan\", \"Pan axes with left mouse, zoom with right\", \"fa fa-arrows icon-move\", \"pan\"], [\"Zoom\", \"Zoom to rectangle\", \"fa fa-square-o icon-check-empty\", \"zoom\"], [\"\", \"\", \"\", \"\"], [\"Download\", \"Download plot\", \"fa fa-floppy-o icon-save\", \"download\"]];\n",
       "\n",
       "mpl.extensions = [\"eps\", \"jpeg\", \"pdf\", \"png\", \"ps\", \"raw\", \"svg\", \"tif\"];\n",
       "\n",
       "mpl.default_extension = \"png\";var comm_websocket_adapter = function(comm) {\n",
       "    // Create a \"websocket\"-like object which calls the given IPython comm\n",
       "    // object with the appropriate methods. Currently this is a non binary\n",
       "    // socket, so there is still some room for performance tuning.\n",
       "    var ws = {};\n",
       "\n",
       "    ws.close = function() {\n",
       "        comm.close()\n",
       "    };\n",
       "    ws.send = function(m) {\n",
       "        //console.log('sending', m);\n",
       "        comm.send(m);\n",
       "    };\n",
       "    // Register the callback with on_msg.\n",
       "    comm.on_msg(function(msg) {\n",
       "        //console.log('receiving', msg['content']['data'], msg);\n",
       "        // Pass the mpl event to the overridden (by mpl) onmessage function.\n",
       "        ws.onmessage(msg['content']['data'])\n",
       "    });\n",
       "    return ws;\n",
       "}\n",
       "\n",
       "mpl.mpl_figure_comm = function(comm, msg) {\n",
       "    // This is the function which gets called when the mpl process\n",
       "    // starts-up an IPython Comm through the \"matplotlib\" channel.\n",
       "\n",
       "    var id = msg.content.data.id;\n",
       "    // Get hold of the div created by the display call when the Comm\n",
       "    // socket was opened in Python.\n",
       "    var element = $(\"#\" + id);\n",
       "    var ws_proxy = comm_websocket_adapter(comm)\n",
       "\n",
       "    function ondownload(figure, format) {\n",
       "        window.open(figure.imageObj.src);\n",
       "    }\n",
       "\n",
       "    var fig = new mpl.figure(id, ws_proxy,\n",
       "                           ondownload,\n",
       "                           element.get(0));\n",
       "\n",
       "    // Call onopen now - mpl needs it, as it is assuming we've passed it a real\n",
       "    // web socket which is closed, not our websocket->open comm proxy.\n",
       "    ws_proxy.onopen();\n",
       "\n",
       "    fig.parent_element = element.get(0);\n",
       "    fig.cell_info = mpl.find_output_cell(\"<div id='\" + id + \"'></div>\");\n",
       "    if (!fig.cell_info) {\n",
       "        console.error(\"Failed to find cell for figure\", id, fig);\n",
       "        return;\n",
       "    }\n",
       "\n",
       "    var output_index = fig.cell_info[2]\n",
       "    var cell = fig.cell_info[0];\n",
       "\n",
       "};\n",
       "\n",
       "mpl.figure.prototype.handle_close = function(fig, msg) {\n",
       "    var width = fig.canvas.width/mpl.ratio\n",
       "    fig.root.unbind('remove')\n",
       "\n",
       "    // Update the output cell to use the data from the current canvas.\n",
       "    fig.push_to_output();\n",
       "    var dataURL = fig.canvas.toDataURL();\n",
       "    // Re-enable the keyboard manager in IPython - without this line, in FF,\n",
       "    // the notebook keyboard shortcuts fail.\n",
       "    IPython.keyboard_manager.enable()\n",
       "    $(fig.parent_element).html('<img src=\"' + dataURL + '\" width=\"' + width + '\">');\n",
       "    fig.close_ws(fig, msg);\n",
       "}\n",
       "\n",
       "mpl.figure.prototype.close_ws = function(fig, msg){\n",
       "    fig.send_message('closing', msg);\n",
       "    // fig.ws.close()\n",
       "}\n",
       "\n",
       "mpl.figure.prototype.push_to_output = function(remove_interactive) {\n",
       "    // Turn the data on the canvas into data in the output cell.\n",
       "    var width = this.canvas.width/mpl.ratio\n",
       "    var dataURL = this.canvas.toDataURL();\n",
       "    this.cell_info[1]['text/html'] = '<img src=\"' + dataURL + '\" width=\"' + width + '\">';\n",
       "}\n",
       "\n",
       "mpl.figure.prototype.updated_canvas_event = function() {\n",
       "    // Tell IPython that the notebook contents must change.\n",
       "    IPython.notebook.set_dirty(true);\n",
       "    this.send_message(\"ack\", {});\n",
       "    var fig = this;\n",
       "    // Wait a second, then push the new image to the DOM so\n",
       "    // that it is saved nicely (might be nice to debounce this).\n",
       "    setTimeout(function () { fig.push_to_output() }, 1000);\n",
       "}\n",
       "\n",
       "mpl.figure.prototype._init_toolbar = function() {\n",
       "    var fig = this;\n",
       "\n",
       "    var nav_element = $('<div/>');\n",
       "    nav_element.attr('style', 'width: 100%');\n",
       "    this.root.append(nav_element);\n",
       "\n",
       "    // Define a callback function for later on.\n",
       "    function toolbar_event(event) {\n",
       "        return fig.toolbar_button_onclick(event['data']);\n",
       "    }\n",
       "    function toolbar_mouse_event(event) {\n",
       "        return fig.toolbar_button_onmouseover(event['data']);\n",
       "    }\n",
       "\n",
       "    for(var toolbar_ind in mpl.toolbar_items){\n",
       "        var name = mpl.toolbar_items[toolbar_ind][0];\n",
       "        var tooltip = mpl.toolbar_items[toolbar_ind][1];\n",
       "        var image = mpl.toolbar_items[toolbar_ind][2];\n",
       "        var method_name = mpl.toolbar_items[toolbar_ind][3];\n",
       "\n",
       "        if (!name) { continue; };\n",
       "\n",
       "        var button = $('<button class=\"btn btn-default\" href=\"#\" title=\"' + name + '\"><i class=\"fa ' + image + ' fa-lg\"></i></button>');\n",
       "        button.click(method_name, toolbar_event);\n",
       "        button.mouseover(tooltip, toolbar_mouse_event);\n",
       "        nav_element.append(button);\n",
       "    }\n",
       "\n",
       "    // Add the status bar.\n",
       "    var status_bar = $('<span class=\"mpl-message\" style=\"text-align:right; float: right;\"/>');\n",
       "    nav_element.append(status_bar);\n",
       "    this.message = status_bar[0];\n",
       "\n",
       "    // Add the close button to the window.\n",
       "    var buttongrp = $('<div class=\"btn-group inline pull-right\"></div>');\n",
       "    var button = $('<button class=\"btn btn-mini btn-primary\" href=\"#\" title=\"Stop Interaction\"><i class=\"fa fa-power-off icon-remove icon-large\"></i></button>');\n",
       "    button.click(function (evt) { fig.handle_close(fig, {}); } );\n",
       "    button.mouseover('Stop Interaction', toolbar_mouse_event);\n",
       "    buttongrp.append(button);\n",
       "    var titlebar = this.root.find($('.ui-dialog-titlebar'));\n",
       "    titlebar.prepend(buttongrp);\n",
       "}\n",
       "\n",
       "mpl.figure.prototype._root_extra_style = function(el){\n",
       "    var fig = this\n",
       "    el.on(\"remove\", function(){\n",
       "\tfig.close_ws(fig, {});\n",
       "    });\n",
       "}\n",
       "\n",
       "mpl.figure.prototype._canvas_extra_style = function(el){\n",
       "    // this is important to make the div 'focusable\n",
       "    el.attr('tabindex', 0)\n",
       "    // reach out to IPython and tell the keyboard manager to turn it's self\n",
       "    // off when our div gets focus\n",
       "\n",
       "    // location in version 3\n",
       "    if (IPython.notebook.keyboard_manager) {\n",
       "        IPython.notebook.keyboard_manager.register_events(el);\n",
       "    }\n",
       "    else {\n",
       "        // location in version 2\n",
       "        IPython.keyboard_manager.register_events(el);\n",
       "    }\n",
       "\n",
       "}\n",
       "\n",
       "mpl.figure.prototype._key_event_extra = function(event, name) {\n",
       "    var manager = IPython.notebook.keyboard_manager;\n",
       "    if (!manager)\n",
       "        manager = IPython.keyboard_manager;\n",
       "\n",
       "    // Check for shift+enter\n",
       "    if (event.shiftKey && event.which == 13) {\n",
       "        this.canvas_div.blur();\n",
       "        // select the cell after this one\n",
       "        var index = IPython.notebook.find_cell_index(this.cell_info[0]);\n",
       "        IPython.notebook.select(index + 1);\n",
       "    }\n",
       "}\n",
       "\n",
       "mpl.figure.prototype.handle_save = function(fig, msg) {\n",
       "    fig.ondownload(fig, null);\n",
       "}\n",
       "\n",
       "\n",
       "mpl.find_output_cell = function(html_output) {\n",
       "    // Return the cell and output element which can be found *uniquely* in the notebook.\n",
       "    // Note - this is a bit hacky, but it is done because the \"notebook_saving.Notebook\"\n",
       "    // IPython event is triggered only after the cells have been serialised, which for\n",
       "    // our purposes (turning an active figure into a static one), is too late.\n",
       "    var cells = IPython.notebook.get_cells();\n",
       "    var ncells = cells.length;\n",
       "    for (var i=0; i<ncells; i++) {\n",
       "        var cell = cells[i];\n",
       "        if (cell.cell_type === 'code'){\n",
       "            for (var j=0; j<cell.output_area.outputs.length; j++) {\n",
       "                var data = cell.output_area.outputs[j];\n",
       "                if (data.data) {\n",
       "                    // IPython >= 3 moved mimebundle to data attribute of output\n",
       "                    data = data.data;\n",
       "                }\n",
       "                if (data['text/html'] == html_output) {\n",
       "                    return [cell, data, j];\n",
       "                }\n",
       "            }\n",
       "        }\n",
       "    }\n",
       "}\n",
       "\n",
       "// Register the function which deals with the matplotlib target/channel.\n",
       "// The kernel may be null if the page has been refreshed.\n",
       "if (IPython.notebook.kernel != null) {\n",
       "    IPython.notebook.kernel.comm_manager.register_target('matplotlib', mpl.mpl_figure_comm);\n",
       "}\n"
      ],
      "text/plain": [
       "<IPython.core.display.Javascript object>"
      ]
     },
     "metadata": {},
     "output_type": "display_data"
    },
    {
     "data": {
      "text/html": [
       "<img src=\"data:image/png;base64,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\" width=\"799.5333333333333\">"
      ],
      "text/plain": [
       "<IPython.core.display.HTML object>"
      ]
     },
     "metadata": {},
     "output_type": "display_data"
    }
   ],
   "source": [
    "%matplotlib notebook\n",
    "fig = plt.figure(figsize =(8,4))\n",
    "ax = fig.add_subplot(211)\n",
    "arr = [\"1\",\"1.5\",\"2\",\"2.5\"]\n",
    "#arr = [\"0.5\",\"1\",\"1.5\",\"2\"]\n",
    "#arr = [\"0.5\",\"1\",\"1.5\",\"2\"]\n",
    "ax.plot(mean_points_input, color='r', label=\"total points\")\n",
    "ax.plot(mean_point_out_outlier, color='b', label=\"points outlier\")\n",
    "ax.plot(mean_point_out_filter, color='g', label=\"points filter\")\n",
    "ax.set_ylabel(\"Number points\")\n",
    "ax.set_ylim([0,200000])\n",
    "ax.legend(mode = \"expand\", ncol = 3)\n",
    "plt.xticks([0, 1, 2, 3], arr)\n",
    "\n",
    "ax2 = fig.add_subplot(212)\n",
    "ax2.plot(percentage_out_outliers, color='b', label=\"outlier\")\n",
    "ax2.plot(percentage_out_filters, color='g', label=\"filtered\")\n",
    "ax2.plot(percentage_out_total, color='black', label=\"total\")\n",
    "ax2.legend(mode = \"expand\", ncol = 3)\n",
    "ax2.set_ylim([0,100])\n",
    "plt.xticks([0, 1, 2, 3], arr)\n",
    "ax2.set_xlabel(\"Samples\")\n",
    "ax2.set_ylabel(\"Percentage removed\")\n",
    "\n",
    "plt.show()\n",
    "fig.savefig(\"./figs/number_points_removed_distance-f-n-10-10-1.jpg\")\n",
    "#fig.savefig(\"./figs/number_points_removed_angle-f-10-n-n-1.jpg\")\n",
    "#fig.savefig(\"./figs/number_points_removed_time_split-f-2-1-1-n.jpg\")"
   ]
  },
  {
   "cell_type": "code",
   "execution_count": null,
   "id": "f38c8ffa",
   "metadata": {},
   "outputs": [],
   "source": []
  }
 ],
 "metadata": {
  "kernelspec": {
   "display_name": "Python 3",
   "language": "python",
   "name": "python3"
  },
  "language_info": {
   "codemirror_mode": {
    "name": "ipython",
    "version": 3
   },
   "file_extension": ".py",
   "mimetype": "text/x-python",
   "name": "python",
   "nbconvert_exporter": "python",
   "pygments_lexer": "ipython3",
   "version": "3.6.9"
  }
 },
 "nbformat": 4,
 "nbformat_minor": 5
}
